{
 "cells": [
  {
   "cell_type": "markdown",
   "metadata": {
    "id": "8MKeNpfCmADw"
   },
   "source": [
    "# Instalar Tensorflow"
   ]
  },
  {
   "cell_type": "code",
   "execution_count": null,
   "metadata": {
    "id": "TtLvhsPWetXV"
   },
   "outputs": [],
   "source": [
    "import pandas as pd\n",
    "import numpy as np\n",
    "import tensorflow_hub as hub\n",
    "import tensorflow_text as text\n",
    "from bs4 import BeautifulSoup # para trabajar texto en varios formatos\n",
    "import re # expresiones regulares"
   ]
  },
  {
   "cell_type": "markdown",
   "metadata": {
    "id": "5YVwsIC8GTkE"
   },
   "source": [
    "#importar datos\n"
   ]
  },
  {
   "cell_type": "code",
   "execution_count": null,
   "metadata": {
    "colab": {
     "base_uri": "https://localhost:8080/"
    },
    "id": "hkS7X1XeGYIl",
    "outputId": "030208bb-086f-41b4-e1be-04bde56c9c47"
   },
   "outputs": [
    {
     "name": "stdout",
     "output_type": "stream",
     "text": [
      "Drive already mounted at /content/drive; to attempt to forcibly remount, call drive.mount(\"/content/drive\", force_remount=True).\n"
     ]
    }
   ],
   "source": [
    "from google.colab import drive\n",
    "drive.mount('/content/drive')"
   ]
  },
  {
   "cell_type": "code",
   "execution_count": null,
   "metadata": {
    "id": "48r28wQRVVOx"
   },
   "outputs": [],
   "source": [
    "df= pd.read_csv(\"/content/drive/MyDrive/Magister/4° Semestre/Consultoria/Modelos de clasificacion previos/SMSSpamCollection(Filtrada).csv\",sep= \";\")"
   ]
  },
  {
   "cell_type": "code",
   "execution_count": null,
   "metadata": {
    "colab": {
     "base_uri": "https://localhost:8080/",
     "height": 424
    },
    "id": "chZKlybhEqY5",
    "outputId": "e74265d3-4799-49e8-eedf-fa2877749e5c"
   },
   "outputs": [
    {
     "data": {
      "text/html": [
       "\n",
       "  <div id=\"df-0bb0aa19-5830-410f-b80c-7bb39c9ae4e9\">\n",
       "    <div class=\"colab-df-container\">\n",
       "      <div>\n",
       "<style scoped>\n",
       "    .dataframe tbody tr th:only-of-type {\n",
       "        vertical-align: middle;\n",
       "    }\n",
       "\n",
       "    .dataframe tbody tr th {\n",
       "        vertical-align: top;\n",
       "    }\n",
       "\n",
       "    .dataframe thead th {\n",
       "        text-align: right;\n",
       "    }\n",
       "</style>\n",
       "<table border=\"1\" class=\"dataframe\">\n",
       "  <thead>\n",
       "    <tr style=\"text-align: right;\">\n",
       "      <th></th>\n",
       "      <th>resultado</th>\n",
       "      <th>mensaje</th>\n",
       "    </tr>\n",
       "  </thead>\n",
       "  <tbody>\n",
       "    <tr>\n",
       "      <th>0</th>\n",
       "      <td>spam</td>\n",
       "      <td>Free entry in 2 a wkly comp to win FA Cup fina...</td>\n",
       "    </tr>\n",
       "    <tr>\n",
       "      <th>1</th>\n",
       "      <td>spam</td>\n",
       "      <td>FreeMsg Hey there darling it's been 3 week's n...</td>\n",
       "    </tr>\n",
       "    <tr>\n",
       "      <th>2</th>\n",
       "      <td>ham</td>\n",
       "      <td>As per your request 'Melle Melle (Oru Minnamin...</td>\n",
       "    </tr>\n",
       "    <tr>\n",
       "      <th>3</th>\n",
       "      <td>spam</td>\n",
       "      <td>WINNER!! As a valued network customer you have...</td>\n",
       "    </tr>\n",
       "    <tr>\n",
       "      <th>4</th>\n",
       "      <td>spam</td>\n",
       "      <td>Had your mobile 11 months or more? U R entitle...</td>\n",
       "    </tr>\n",
       "    <tr>\n",
       "      <th>...</th>\n",
       "      <td>...</td>\n",
       "      <td>...</td>\n",
       "    </tr>\n",
       "    <tr>\n",
       "      <th>1285</th>\n",
       "      <td>spam</td>\n",
       "      <td>Had your contract mobile 11 Mnths? Latest Moto...</td>\n",
       "    </tr>\n",
       "    <tr>\n",
       "      <th>1286</th>\n",
       "      <td>ham</td>\n",
       "      <td>Yeh. Indians was nice. Tho it did kane me off ...</td>\n",
       "    </tr>\n",
       "    <tr>\n",
       "      <th>1287</th>\n",
       "      <td>spam</td>\n",
       "      <td>REMINDER FROM O2: To get 2.50 pounds free call...</td>\n",
       "    </tr>\n",
       "    <tr>\n",
       "      <th>1288</th>\n",
       "      <td>spam</td>\n",
       "      <td>This is the 2nd time we have tried 2 contact u...</td>\n",
       "    </tr>\n",
       "    <tr>\n",
       "      <th>1289</th>\n",
       "      <td>ham</td>\n",
       "      <td>The guy did some bitching but I acted like i'd...</td>\n",
       "    </tr>\n",
       "  </tbody>\n",
       "</table>\n",
       "<p>1290 rows × 2 columns</p>\n",
       "</div>\n",
       "      <button class=\"colab-df-convert\" onclick=\"convertToInteractive('df-0bb0aa19-5830-410f-b80c-7bb39c9ae4e9')\"\n",
       "              title=\"Convert this dataframe to an interactive table.\"\n",
       "              style=\"display:none;\">\n",
       "        \n",
       "  <svg xmlns=\"http://www.w3.org/2000/svg\" height=\"24px\"viewBox=\"0 0 24 24\"\n",
       "       width=\"24px\">\n",
       "    <path d=\"M0 0h24v24H0V0z\" fill=\"none\"/>\n",
       "    <path d=\"M18.56 5.44l.94 2.06.94-2.06 2.06-.94-2.06-.94-.94-2.06-.94 2.06-2.06.94zm-11 1L8.5 8.5l.94-2.06 2.06-.94-2.06-.94L8.5 2.5l-.94 2.06-2.06.94zm10 10l.94 2.06.94-2.06 2.06-.94-2.06-.94-.94-2.06-.94 2.06-2.06.94z\"/><path d=\"M17.41 7.96l-1.37-1.37c-.4-.4-.92-.59-1.43-.59-.52 0-1.04.2-1.43.59L10.3 9.45l-7.72 7.72c-.78.78-.78 2.05 0 2.83L4 21.41c.39.39.9.59 1.41.59.51 0 1.02-.2 1.41-.59l7.78-7.78 2.81-2.81c.8-.78.8-2.07 0-2.86zM5.41 20L4 18.59l7.72-7.72 1.47 1.35L5.41 20z\"/>\n",
       "  </svg>\n",
       "      </button>\n",
       "      \n",
       "  <style>\n",
       "    .colab-df-container {\n",
       "      display:flex;\n",
       "      flex-wrap:wrap;\n",
       "      gap: 12px;\n",
       "    }\n",
       "\n",
       "    .colab-df-convert {\n",
       "      background-color: #E8F0FE;\n",
       "      border: none;\n",
       "      border-radius: 50%;\n",
       "      cursor: pointer;\n",
       "      display: none;\n",
       "      fill: #1967D2;\n",
       "      height: 32px;\n",
       "      padding: 0 0 0 0;\n",
       "      width: 32px;\n",
       "    }\n",
       "\n",
       "    .colab-df-convert:hover {\n",
       "      background-color: #E2EBFA;\n",
       "      box-shadow: 0px 1px 2px rgba(60, 64, 67, 0.3), 0px 1px 3px 1px rgba(60, 64, 67, 0.15);\n",
       "      fill: #174EA6;\n",
       "    }\n",
       "\n",
       "    [theme=dark] .colab-df-convert {\n",
       "      background-color: #3B4455;\n",
       "      fill: #D2E3FC;\n",
       "    }\n",
       "\n",
       "    [theme=dark] .colab-df-convert:hover {\n",
       "      background-color: #434B5C;\n",
       "      box-shadow: 0px 1px 3px 1px rgba(0, 0, 0, 0.15);\n",
       "      filter: drop-shadow(0px 1px 2px rgba(0, 0, 0, 0.3));\n",
       "      fill: #FFFFFF;\n",
       "    }\n",
       "  </style>\n",
       "\n",
       "      <script>\n",
       "        const buttonEl =\n",
       "          document.querySelector('#df-0bb0aa19-5830-410f-b80c-7bb39c9ae4e9 button.colab-df-convert');\n",
       "        buttonEl.style.display =\n",
       "          google.colab.kernel.accessAllowed ? 'block' : 'none';\n",
       "\n",
       "        async function convertToInteractive(key) {\n",
       "          const element = document.querySelector('#df-0bb0aa19-5830-410f-b80c-7bb39c9ae4e9');\n",
       "          const dataTable =\n",
       "            await google.colab.kernel.invokeFunction('convertToInteractive',\n",
       "                                                     [key], {});\n",
       "          if (!dataTable) return;\n",
       "\n",
       "          const docLinkHtml = 'Like what you see? Visit the ' +\n",
       "            '<a target=\"_blank\" href=https://colab.research.google.com/notebooks/data_table.ipynb>data table notebook</a>'\n",
       "            + ' to learn more about interactive tables.';\n",
       "          element.innerHTML = '';\n",
       "          dataTable['output_type'] = 'display_data';\n",
       "          await google.colab.output.renderOutput(dataTable, element);\n",
       "          const docLink = document.createElement('div');\n",
       "          docLink.innerHTML = docLinkHtml;\n",
       "          element.appendChild(docLink);\n",
       "        }\n",
       "      </script>\n",
       "    </div>\n",
       "  </div>\n",
       "  "
      ],
      "text/plain": [
       "     resultado                                            mensaje\n",
       "0         spam  Free entry in 2 a wkly comp to win FA Cup fina...\n",
       "1         spam  FreeMsg Hey there darling it's been 3 week's n...\n",
       "2          ham  As per your request 'Melle Melle (Oru Minnamin...\n",
       "3         spam  WINNER!! As a valued network customer you have...\n",
       "4         spam  Had your mobile 11 months or more? U R entitle...\n",
       "...        ...                                                ...\n",
       "1285      spam  Had your contract mobile 11 Mnths? Latest Moto...\n",
       "1286       ham  Yeh. Indians was nice. Tho it did kane me off ...\n",
       "1287      spam  REMINDER FROM O2: To get 2.50 pounds free call...\n",
       "1288      spam  This is the 2nd time we have tried 2 contact u...\n",
       "1289       ham  The guy did some bitching but I acted like i'd...\n",
       "\n",
       "[1290 rows x 2 columns]"
      ]
     },
     "execution_count": 122,
     "metadata": {},
     "output_type": "execute_result"
    }
   ],
   "source": [
    "df"
   ]
  },
  {
   "cell_type": "markdown",
   "metadata": {
    "id": "vB56vwVThKpT"
   },
   "source": [
    "#Análisis exploratorio"
   ]
  },
  {
   "cell_type": "code",
   "execution_count": null,
   "metadata": {
    "id": "IcxBm-L8YSaN"
   },
   "outputs": [],
   "source": [
    "#import libraries\n",
    "import pandas as pd\n",
    "import seaborn as sns\n",
    "import numpy as np\n",
    "import matplotlib.pyplot as plt\n",
    "import warnings\n",
    "warnings.filterwarnings('ignore')"
   ]
  },
  {
   "cell_type": "code",
   "execution_count": null,
   "metadata": {
    "id": "KqZh7rh3be7g"
   },
   "outputs": [],
   "source": [
    "#funcion resumen de un dataframe\n",
    "\n",
    "def resumen(data):\n",
    "  total_perdidos = data.isnull().sum().sum()\n",
    "  missing_percent = data.isnull().sum()*100 /len(data)\n",
    "  total_missing = data.isnull().sum()\n",
    "  unique = data.nunique()\n",
    "  not_null = data.notnull().sum()\n",
    "  df = pd.DataFrame({\n",
    "      'Valores Unicos' : unique,\n",
    "      'Valores Existentes': not_null,\n",
    "      'Total perdidos': total_missing,\n",
    "      'Porc. perdidos %': missing_percent\n",
    "  })\n",
    "  tipos = data.dtypes\n",
    "  numericas = tipos[tipos != object].index\n",
    "  no_numericas = tipos[tipos == object].index\n",
    "  print('1. Las dimensiones de la data:', data.shape)\n",
    "  print('2. Total Datos perdidos son:', total_perdidos)\n",
    "  print('3. La cantidad de variables numericas es: ', len(numericas), '\\n   Y ellas son:\\n', numericas)\n",
    "  print('4. La cantidad de variables NO numericas es: ', len(no_numericas), '\\n  Y ellas son:\\n', no_numericas)\n",
    "  df = df.round(2)\n",
    "  return(df)"
   ]
  },
  {
   "cell_type": "code",
   "execution_count": null,
   "metadata": {
    "colab": {
     "base_uri": "https://localhost:8080/",
     "height": 251
    },
    "id": "k1UM0twDbmkM",
    "outputId": "c2748bd5-2e1f-4e7b-e264-b16f5a3d3dda"
   },
   "outputs": [
    {
     "name": "stdout",
     "output_type": "stream",
     "text": [
      "1. Las dimensiones de la data: (1290, 2)\n",
      "2. Total Datos perdidos son: 0\n",
      "3. La cantidad de variables numericas es:  0 \n",
      "   Y ellas son:\n",
      " Index([], dtype='object')\n",
      "4. La cantidad de variables NO numericas es:  2 \n",
      "  Y ellas son:\n",
      " Index(['resultado', 'mensaje'], dtype='object')\n"
     ]
    },
    {
     "data": {
      "text/html": [
       "\n",
       "  <div id=\"df-89ddee12-16ab-4000-a515-b42e197ddc53\">\n",
       "    <div class=\"colab-df-container\">\n",
       "      <div>\n",
       "<style scoped>\n",
       "    .dataframe tbody tr th:only-of-type {\n",
       "        vertical-align: middle;\n",
       "    }\n",
       "\n",
       "    .dataframe tbody tr th {\n",
       "        vertical-align: top;\n",
       "    }\n",
       "\n",
       "    .dataframe thead th {\n",
       "        text-align: right;\n",
       "    }\n",
       "</style>\n",
       "<table border=\"1\" class=\"dataframe\">\n",
       "  <thead>\n",
       "    <tr style=\"text-align: right;\">\n",
       "      <th></th>\n",
       "      <th>Valores Unicos</th>\n",
       "      <th>Valores Existentes</th>\n",
       "      <th>Total perdidos</th>\n",
       "      <th>Porc. perdidos %</th>\n",
       "    </tr>\n",
       "  </thead>\n",
       "  <tbody>\n",
       "    <tr>\n",
       "      <th>resultado</th>\n",
       "      <td>2</td>\n",
       "      <td>1290</td>\n",
       "      <td>0</td>\n",
       "      <td>0.0</td>\n",
       "    </tr>\n",
       "    <tr>\n",
       "      <th>mensaje</th>\n",
       "      <td>1148</td>\n",
       "      <td>1290</td>\n",
       "      <td>0</td>\n",
       "      <td>0.0</td>\n",
       "    </tr>\n",
       "  </tbody>\n",
       "</table>\n",
       "</div>\n",
       "      <button class=\"colab-df-convert\" onclick=\"convertToInteractive('df-89ddee12-16ab-4000-a515-b42e197ddc53')\"\n",
       "              title=\"Convert this dataframe to an interactive table.\"\n",
       "              style=\"display:none;\">\n",
       "        \n",
       "  <svg xmlns=\"http://www.w3.org/2000/svg\" height=\"24px\"viewBox=\"0 0 24 24\"\n",
       "       width=\"24px\">\n",
       "    <path d=\"M0 0h24v24H0V0z\" fill=\"none\"/>\n",
       "    <path d=\"M18.56 5.44l.94 2.06.94-2.06 2.06-.94-2.06-.94-.94-2.06-.94 2.06-2.06.94zm-11 1L8.5 8.5l.94-2.06 2.06-.94-2.06-.94L8.5 2.5l-.94 2.06-2.06.94zm10 10l.94 2.06.94-2.06 2.06-.94-2.06-.94-.94-2.06-.94 2.06-2.06.94z\"/><path d=\"M17.41 7.96l-1.37-1.37c-.4-.4-.92-.59-1.43-.59-.52 0-1.04.2-1.43.59L10.3 9.45l-7.72 7.72c-.78.78-.78 2.05 0 2.83L4 21.41c.39.39.9.59 1.41.59.51 0 1.02-.2 1.41-.59l7.78-7.78 2.81-2.81c.8-.78.8-2.07 0-2.86zM5.41 20L4 18.59l7.72-7.72 1.47 1.35L5.41 20z\"/>\n",
       "  </svg>\n",
       "      </button>\n",
       "      \n",
       "  <style>\n",
       "    .colab-df-container {\n",
       "      display:flex;\n",
       "      flex-wrap:wrap;\n",
       "      gap: 12px;\n",
       "    }\n",
       "\n",
       "    .colab-df-convert {\n",
       "      background-color: #E8F0FE;\n",
       "      border: none;\n",
       "      border-radius: 50%;\n",
       "      cursor: pointer;\n",
       "      display: none;\n",
       "      fill: #1967D2;\n",
       "      height: 32px;\n",
       "      padding: 0 0 0 0;\n",
       "      width: 32px;\n",
       "    }\n",
       "\n",
       "    .colab-df-convert:hover {\n",
       "      background-color: #E2EBFA;\n",
       "      box-shadow: 0px 1px 2px rgba(60, 64, 67, 0.3), 0px 1px 3px 1px rgba(60, 64, 67, 0.15);\n",
       "      fill: #174EA6;\n",
       "    }\n",
       "\n",
       "    [theme=dark] .colab-df-convert {\n",
       "      background-color: #3B4455;\n",
       "      fill: #D2E3FC;\n",
       "    }\n",
       "\n",
       "    [theme=dark] .colab-df-convert:hover {\n",
       "      background-color: #434B5C;\n",
       "      box-shadow: 0px 1px 3px 1px rgba(0, 0, 0, 0.15);\n",
       "      filter: drop-shadow(0px 1px 2px rgba(0, 0, 0, 0.3));\n",
       "      fill: #FFFFFF;\n",
       "    }\n",
       "  </style>\n",
       "\n",
       "      <script>\n",
       "        const buttonEl =\n",
       "          document.querySelector('#df-89ddee12-16ab-4000-a515-b42e197ddc53 button.colab-df-convert');\n",
       "        buttonEl.style.display =\n",
       "          google.colab.kernel.accessAllowed ? 'block' : 'none';\n",
       "\n",
       "        async function convertToInteractive(key) {\n",
       "          const element = document.querySelector('#df-89ddee12-16ab-4000-a515-b42e197ddc53');\n",
       "          const dataTable =\n",
       "            await google.colab.kernel.invokeFunction('convertToInteractive',\n",
       "                                                     [key], {});\n",
       "          if (!dataTable) return;\n",
       "\n",
       "          const docLinkHtml = 'Like what you see? Visit the ' +\n",
       "            '<a target=\"_blank\" href=https://colab.research.google.com/notebooks/data_table.ipynb>data table notebook</a>'\n",
       "            + ' to learn more about interactive tables.';\n",
       "          element.innerHTML = '';\n",
       "          dataTable['output_type'] = 'display_data';\n",
       "          await google.colab.output.renderOutput(dataTable, element);\n",
       "          const docLink = document.createElement('div');\n",
       "          docLink.innerHTML = docLinkHtml;\n",
       "          element.appendChild(docLink);\n",
       "        }\n",
       "      </script>\n",
       "    </div>\n",
       "  </div>\n",
       "  "
      ],
      "text/plain": [
       "           Valores Unicos  Valores Existentes  Total perdidos  \\\n",
       "resultado               2                1290               0   \n",
       "mensaje              1148                1290               0   \n",
       "\n",
       "           Porc. perdidos %  \n",
       "resultado               0.0  \n",
       "mensaje                 0.0  "
      ]
     },
     "execution_count": 126,
     "metadata": {},
     "output_type": "execute_result"
    }
   ],
   "source": [
    "resumen(df)"
   ]
  },
  {
   "cell_type": "code",
   "execution_count": null,
   "metadata": {
    "colab": {
     "base_uri": "https://localhost:8080/"
    },
    "id": "Uu1qJ9sybteb",
    "outputId": "cfe74fd8-d97e-44cf-db67-08a2787ca398"
   },
   "outputs": [
    {
     "data": {
      "text/plain": [
       "resultado\n",
       "ham     668\n",
       "spam    622\n",
       "dtype: int64"
      ]
     },
     "execution_count": 127,
     "metadata": {},
     "output_type": "execute_result"
    }
   ],
   "source": [
    "df.groupby('resultado').size()"
   ]
  },
  {
   "cell_type": "code",
   "execution_count": null,
   "metadata": {
    "colab": {
     "base_uri": "https://localhost:8080/",
     "height": 347
    },
    "id": "QdzawPgJ0gpf",
    "outputId": "9e8bec95-b229-4fdb-872f-6825fd96790b"
   },
   "outputs": [
    {
     "name": "stdout",
     "output_type": "stream",
     "text": [
      "ham     668\n",
      "spam    622\n",
      "Name: resultado, dtype: int64\n"
     ]
    },
    {
     "data": {
      "image/png": "[encoded data removed]",
      "text/plain": [
       "<Figure size 432x288 with 1 Axes>"
      ]
     },
     "metadata": {
      "needs_background": "light"
     },
     "output_type": "display_data"
    }
   ],
   "source": [
    "sns.countplot(df['resultado'])\n",
    "print(df['resultado'].value_counts())\n",
    "plt.title(\"resultado\")\n",
    "plt.show()"
   ]
  },
  {
   "cell_type": "code",
   "execution_count": null,
   "metadata": {
    "colab": {
     "base_uri": "https://localhost:8080/"
    },
    "id": "kNLivMryOc1X",
    "outputId": "ac0cb087-49df-43ac-aca5-505cd6c0ce22"
   },
   "outputs": [
    {
     "name": "stdout",
     "output_type": "stream",
     "text": [
      "resultado 2\n",
      "mensaje 1148\n"
     ]
    }
   ],
   "source": [
    "for i in df:\n",
    "  print(i, len(df[i].unique()))"
   ]
  },
  {
   "cell_type": "markdown",
   "metadata": {
    "id": "RYGcpvRNOi3B"
   },
   "source": [
    "Debemos etiquetar a los textos convertidos a vectores"
   ]
  },
  {
   "cell_type": "code",
   "execution_count": null,
   "metadata": {
    "colab": {
     "base_uri": "https://localhost:8080/"
    },
    "id": "7AnO-GZ3Osod",
    "outputId": "32114d9c-259e-4167-9a49-a5514bf9ab4e"
   },
   "outputs": [
    {
     "data": {
      "text/plain": [
       "0       spam\n",
       "1       spam\n",
       "2        ham\n",
       "3       spam\n",
       "4       spam\n",
       "        ... \n",
       "1285    spam\n",
       "1286     ham\n",
       "1287    spam\n",
       "1288    spam\n",
       "1289     ham\n",
       "Name: resultado, Length: 1290, dtype: object"
      ]
     },
     "execution_count": 130,
     "metadata": {},
     "output_type": "execute_result"
    }
   ],
   "source": [
    "df['resultado']"
   ]
  },
  {
   "cell_type": "markdown",
   "metadata": {
    "id": "KQD7k7th8r9p"
   },
   "source": [
    "# Preprocesamiento de texto\n"
   ]
  },
  {
   "cell_type": "code",
   "execution_count": null,
   "metadata": {
    "colab": {
     "base_uri": "https://localhost:8080/",
     "height": 424
    },
    "id": "bW18wZFs82yR",
    "outputId": "54a79b38-569d-4fa6-c78a-e9714ca88871"
   },
   "outputs": [
    {
     "data": {
      "text/html": [
       "\n",
       "  <div id=\"df-63221fbb-4d2e-437c-bf15-5f1fa737a24c\">\n",
       "    <div class=\"colab-df-container\">\n",
       "      <div>\n",
       "<style scoped>\n",
       "    .dataframe tbody tr th:only-of-type {\n",
       "        vertical-align: middle;\n",
       "    }\n",
       "\n",
       "    .dataframe tbody tr th {\n",
       "        vertical-align: top;\n",
       "    }\n",
       "\n",
       "    .dataframe thead th {\n",
       "        text-align: right;\n",
       "    }\n",
       "</style>\n",
       "<table border=\"1\" class=\"dataframe\">\n",
       "  <thead>\n",
       "    <tr style=\"text-align: right;\">\n",
       "      <th></th>\n",
       "      <th>resultado</th>\n",
       "      <th>mensaje</th>\n",
       "    </tr>\n",
       "  </thead>\n",
       "  <tbody>\n",
       "    <tr>\n",
       "      <th>0</th>\n",
       "      <td>spam</td>\n",
       "      <td>Free entry in 2 a wkly comp to win FA Cup fina...</td>\n",
       "    </tr>\n",
       "    <tr>\n",
       "      <th>1</th>\n",
       "      <td>spam</td>\n",
       "      <td>FreeMsg Hey there darling it's been 3 week's n...</td>\n",
       "    </tr>\n",
       "    <tr>\n",
       "      <th>2</th>\n",
       "      <td>ham</td>\n",
       "      <td>As per your request 'Melle Melle (Oru Minnamin...</td>\n",
       "    </tr>\n",
       "    <tr>\n",
       "      <th>3</th>\n",
       "      <td>spam</td>\n",
       "      <td>WINNER!! As a valued network customer you have...</td>\n",
       "    </tr>\n",
       "    <tr>\n",
       "      <th>4</th>\n",
       "      <td>spam</td>\n",
       "      <td>Had your mobile 11 months or more? U R entitle...</td>\n",
       "    </tr>\n",
       "    <tr>\n",
       "      <th>...</th>\n",
       "      <td>...</td>\n",
       "      <td>...</td>\n",
       "    </tr>\n",
       "    <tr>\n",
       "      <th>1285</th>\n",
       "      <td>spam</td>\n",
       "      <td>Had your contract mobile 11 Mnths? Latest Moto...</td>\n",
       "    </tr>\n",
       "    <tr>\n",
       "      <th>1286</th>\n",
       "      <td>ham</td>\n",
       "      <td>Yeh. Indians was nice. Tho it did kane me off ...</td>\n",
       "    </tr>\n",
       "    <tr>\n",
       "      <th>1287</th>\n",
       "      <td>spam</td>\n",
       "      <td>REMINDER FROM O2: To get 2.50 pounds free call...</td>\n",
       "    </tr>\n",
       "    <tr>\n",
       "      <th>1288</th>\n",
       "      <td>spam</td>\n",
       "      <td>This is the 2nd time we have tried 2 contact u...</td>\n",
       "    </tr>\n",
       "    <tr>\n",
       "      <th>1289</th>\n",
       "      <td>ham</td>\n",
       "      <td>The guy did some bitching but I acted like i'd...</td>\n",
       "    </tr>\n",
       "  </tbody>\n",
       "</table>\n",
       "<p>1290 rows × 2 columns</p>\n",
       "</div>\n",
       "      <button class=\"colab-df-convert\" onclick=\"convertToInteractive('df-63221fbb-4d2e-437c-bf15-5f1fa737a24c')\"\n",
       "              title=\"Convert this dataframe to an interactive table.\"\n",
       "              style=\"display:none;\">\n",
       "        \n",
       "  <svg xmlns=\"http://www.w3.org/2000/svg\" height=\"24px\"viewBox=\"0 0 24 24\"\n",
       "       width=\"24px\">\n",
       "    <path d=\"M0 0h24v24H0V0z\" fill=\"none\"/>\n",
       "    <path d=\"M18.56 5.44l.94 2.06.94-2.06 2.06-.94-2.06-.94-.94-2.06-.94 2.06-2.06.94zm-11 1L8.5 8.5l.94-2.06 2.06-.94-2.06-.94L8.5 2.5l-.94 2.06-2.06.94zm10 10l.94 2.06.94-2.06 2.06-.94-2.06-.94-.94-2.06-.94 2.06-2.06.94z\"/><path d=\"M17.41 7.96l-1.37-1.37c-.4-.4-.92-.59-1.43-.59-.52 0-1.04.2-1.43.59L10.3 9.45l-7.72 7.72c-.78.78-.78 2.05 0 2.83L4 21.41c.39.39.9.59 1.41.59.51 0 1.02-.2 1.41-.59l7.78-7.78 2.81-2.81c.8-.78.8-2.07 0-2.86zM5.41 20L4 18.59l7.72-7.72 1.47 1.35L5.41 20z\"/>\n",
       "  </svg>\n",
       "      </button>\n",
       "      \n",
       "  <style>\n",
       "    .colab-df-container {\n",
       "      display:flex;\n",
       "      flex-wrap:wrap;\n",
       "      gap: 12px;\n",
       "    }\n",
       "\n",
       "    .colab-df-convert {\n",
       "      background-color: #E8F0FE;\n",
       "      border: none;\n",
       "      border-radius: 50%;\n",
       "      cursor: pointer;\n",
       "      display: none;\n",
       "      fill: #1967D2;\n",
       "      height: 32px;\n",
       "      padding: 0 0 0 0;\n",
       "      width: 32px;\n",
       "    }\n",
       "\n",
       "    .colab-df-convert:hover {\n",
       "      background-color: #E2EBFA;\n",
       "      box-shadow: 0px 1px 2px rgba(60, 64, 67, 0.3), 0px 1px 3px 1px rgba(60, 64, 67, 0.15);\n",
       "      fill: #174EA6;\n",
       "    }\n",
       "\n",
       "    [theme=dark] .colab-df-convert {\n",
       "      background-color: #3B4455;\n",
       "      fill: #D2E3FC;\n",
       "    }\n",
       "\n",
       "    [theme=dark] .colab-df-convert:hover {\n",
       "      background-color: #434B5C;\n",
       "      box-shadow: 0px 1px 3px 1px rgba(0, 0, 0, 0.15);\n",
       "      filter: drop-shadow(0px 1px 2px rgba(0, 0, 0, 0.3));\n",
       "      fill: #FFFFFF;\n",
       "    }\n",
       "  </style>\n",
       "\n",
       "      <script>\n",
       "        const buttonEl =\n",
       "          document.querySelector('#df-63221fbb-4d2e-437c-bf15-5f1fa737a24c button.colab-df-convert');\n",
       "        buttonEl.style.display =\n",
       "          google.colab.kernel.accessAllowed ? 'block' : 'none';\n",
       "\n",
       "        async function convertToInteractive(key) {\n",
       "          const element = document.querySelector('#df-63221fbb-4d2e-437c-bf15-5f1fa737a24c');\n",
       "          const dataTable =\n",
       "            await google.colab.kernel.invokeFunction('convertToInteractive',\n",
       "                                                     [key], {});\n",
       "          if (!dataTable) return;\n",
       "\n",
       "          const docLinkHtml = 'Like what you see? Visit the ' +\n",
       "            '<a target=\"_blank\" href=https://colab.research.google.com/notebooks/data_table.ipynb>data table notebook</a>'\n",
       "            + ' to learn more about interactive tables.';\n",
       "          element.innerHTML = '';\n",
       "          dataTable['output_type'] = 'display_data';\n",
       "          await google.colab.output.renderOutput(dataTable, element);\n",
       "          const docLink = document.createElement('div');\n",
       "          docLink.innerHTML = docLinkHtml;\n",
       "          element.appendChild(docLink);\n",
       "        }\n",
       "      </script>\n",
       "    </div>\n",
       "  </div>\n",
       "  "
      ],
      "text/plain": [
       "     resultado                                            mensaje\n",
       "0         spam  Free entry in 2 a wkly comp to win FA Cup fina...\n",
       "1         spam  FreeMsg Hey there darling it's been 3 week's n...\n",
       "2          ham  As per your request 'Melle Melle (Oru Minnamin...\n",
       "3         spam  WINNER!! As a valued network customer you have...\n",
       "4         spam  Had your mobile 11 months or more? U R entitle...\n",
       "...        ...                                                ...\n",
       "1285      spam  Had your contract mobile 11 Mnths? Latest Moto...\n",
       "1286       ham  Yeh. Indians was nice. Tho it did kane me off ...\n",
       "1287      spam  REMINDER FROM O2: To get 2.50 pounds free call...\n",
       "1288      spam  This is the 2nd time we have tried 2 contact u...\n",
       "1289       ham  The guy did some bitching but I acted like i'd...\n",
       "\n",
       "[1290 rows x 2 columns]"
      ]
     },
     "execution_count": 131,
     "metadata": {},
     "output_type": "execute_result"
    }
   ],
   "source": [
    "df"
   ]
  },
  {
   "cell_type": "code",
   "execution_count": null,
   "metadata": {
    "id": "ILNcU9Ic8xXP"
   },
   "outputs": [],
   "source": [
    "df['resultado'] = df['resultado'].apply(lambda x:1 if x == 'ham' else 0) "
   ]
  },
  {
   "cell_type": "code",
   "execution_count": null,
   "metadata": {
    "colab": {
     "base_uri": "https://localhost:8080/",
     "height": 424
    },
    "id": "p0knn77F83kO",
    "outputId": "5c9f6cd3-0a2a-4917-d0a8-893d718a4d58"
   },
   "outputs": [
    {
     "data": {
      "text/html": [
       "\n",
       "  <div id=\"df-4b1699cb-9d57-45ec-ae24-26b99ae48825\">\n",
       "    <div class=\"colab-df-container\">\n",
       "      <div>\n",
       "<style scoped>\n",
       "    .dataframe tbody tr th:only-of-type {\n",
       "        vertical-align: middle;\n",
       "    }\n",
       "\n",
       "    .dataframe tbody tr th {\n",
       "        vertical-align: top;\n",
       "    }\n",
       "\n",
       "    .dataframe thead th {\n",
       "        text-align: right;\n",
       "    }\n",
       "</style>\n",
       "<table border=\"1\" class=\"dataframe\">\n",
       "  <thead>\n",
       "    <tr style=\"text-align: right;\">\n",
       "      <th></th>\n",
       "      <th>resultado</th>\n",
       "      <th>mensaje</th>\n",
       "    </tr>\n",
       "  </thead>\n",
       "  <tbody>\n",
       "    <tr>\n",
       "      <th>0</th>\n",
       "      <td>0</td>\n",
       "      <td>Free entry in 2 a wkly comp to win FA Cup fina...</td>\n",
       "    </tr>\n",
       "    <tr>\n",
       "      <th>1</th>\n",
       "      <td>0</td>\n",
       "      <td>FreeMsg Hey there darling it's been 3 week's n...</td>\n",
       "    </tr>\n",
       "    <tr>\n",
       "      <th>2</th>\n",
       "      <td>1</td>\n",
       "      <td>As per your request 'Melle Melle (Oru Minnamin...</td>\n",
       "    </tr>\n",
       "    <tr>\n",
       "      <th>3</th>\n",
       "      <td>0</td>\n",
       "      <td>WINNER!! As a valued network customer you have...</td>\n",
       "    </tr>\n",
       "    <tr>\n",
       "      <th>4</th>\n",
       "      <td>0</td>\n",
       "      <td>Had your mobile 11 months or more? U R entitle...</td>\n",
       "    </tr>\n",
       "    <tr>\n",
       "      <th>...</th>\n",
       "      <td>...</td>\n",
       "      <td>...</td>\n",
       "    </tr>\n",
       "    <tr>\n",
       "      <th>1285</th>\n",
       "      <td>0</td>\n",
       "      <td>Had your contract mobile 11 Mnths? Latest Moto...</td>\n",
       "    </tr>\n",
       "    <tr>\n",
       "      <th>1286</th>\n",
       "      <td>1</td>\n",
       "      <td>Yeh. Indians was nice. Tho it did kane me off ...</td>\n",
       "    </tr>\n",
       "    <tr>\n",
       "      <th>1287</th>\n",
       "      <td>0</td>\n",
       "      <td>REMINDER FROM O2: To get 2.50 pounds free call...</td>\n",
       "    </tr>\n",
       "    <tr>\n",
       "      <th>1288</th>\n",
       "      <td>0</td>\n",
       "      <td>This is the 2nd time we have tried 2 contact u...</td>\n",
       "    </tr>\n",
       "    <tr>\n",
       "      <th>1289</th>\n",
       "      <td>1</td>\n",
       "      <td>The guy did some bitching but I acted like i'd...</td>\n",
       "    </tr>\n",
       "  </tbody>\n",
       "</table>\n",
       "<p>1290 rows × 2 columns</p>\n",
       "</div>\n",
       "      <button class=\"colab-df-convert\" onclick=\"convertToInteractive('df-4b1699cb-9d57-45ec-ae24-26b99ae48825')\"\n",
       "              title=\"Convert this dataframe to an interactive table.\"\n",
       "              style=\"display:none;\">\n",
       "        \n",
       "  <svg xmlns=\"http://www.w3.org/2000/svg\" height=\"24px\"viewBox=\"0 0 24 24\"\n",
       "       width=\"24px\">\n",
       "    <path d=\"M0 0h24v24H0V0z\" fill=\"none\"/>\n",
       "    <path d=\"M18.56 5.44l.94 2.06.94-2.06 2.06-.94-2.06-.94-.94-2.06-.94 2.06-2.06.94zm-11 1L8.5 8.5l.94-2.06 2.06-.94-2.06-.94L8.5 2.5l-.94 2.06-2.06.94zm10 10l.94 2.06.94-2.06 2.06-.94-2.06-.94-.94-2.06-.94 2.06-2.06.94z\"/><path d=\"M17.41 7.96l-1.37-1.37c-.4-.4-.92-.59-1.43-.59-.52 0-1.04.2-1.43.59L10.3 9.45l-7.72 7.72c-.78.78-.78 2.05 0 2.83L4 21.41c.39.39.9.59 1.41.59.51 0 1.02-.2 1.41-.59l7.78-7.78 2.81-2.81c.8-.78.8-2.07 0-2.86zM5.41 20L4 18.59l7.72-7.72 1.47 1.35L5.41 20z\"/>\n",
       "  </svg>\n",
       "      </button>\n",
       "      \n",
       "  <style>\n",
       "    .colab-df-container {\n",
       "      display:flex;\n",
       "      flex-wrap:wrap;\n",
       "      gap: 12px;\n",
       "    }\n",
       "\n",
       "    .colab-df-convert {\n",
       "      background-color: #E8F0FE;\n",
       "      border: none;\n",
       "      border-radius: 50%;\n",
       "      cursor: pointer;\n",
       "      display: none;\n",
       "      fill: #1967D2;\n",
       "      height: 32px;\n",
       "      padding: 0 0 0 0;\n",
       "      width: 32px;\n",
       "    }\n",
       "\n",
       "    .colab-df-convert:hover {\n",
       "      background-color: #E2EBFA;\n",
       "      box-shadow: 0px 1px 2px rgba(60, 64, 67, 0.3), 0px 1px 3px 1px rgba(60, 64, 67, 0.15);\n",
       "      fill: #174EA6;\n",
       "    }\n",
       "\n",
       "    [theme=dark] .colab-df-convert {\n",
       "      background-color: #3B4455;\n",
       "      fill: #D2E3FC;\n",
       "    }\n",
       "\n",
       "    [theme=dark] .colab-df-convert:hover {\n",
       "      background-color: #434B5C;\n",
       "      box-shadow: 0px 1px 3px 1px rgba(0, 0, 0, 0.15);\n",
       "      filter: drop-shadow(0px 1px 2px rgba(0, 0, 0, 0.3));\n",
       "      fill: #FFFFFF;\n",
       "    }\n",
       "  </style>\n",
       "\n",
       "      <script>\n",
       "        const buttonEl =\n",
       "          document.querySelector('#df-4b1699cb-9d57-45ec-ae24-26b99ae48825 button.colab-df-convert');\n",
       "        buttonEl.style.display =\n",
       "          google.colab.kernel.accessAllowed ? 'block' : 'none';\n",
       "\n",
       "        async function convertToInteractive(key) {\n",
       "          const element = document.querySelector('#df-4b1699cb-9d57-45ec-ae24-26b99ae48825');\n",
       "          const dataTable =\n",
       "            await google.colab.kernel.invokeFunction('convertToInteractive',\n",
       "                                                     [key], {});\n",
       "          if (!dataTable) return;\n",
       "\n",
       "          const docLinkHtml = 'Like what you see? Visit the ' +\n",
       "            '<a target=\"_blank\" href=https://colab.research.google.com/notebooks/data_table.ipynb>data table notebook</a>'\n",
       "            + ' to learn more about interactive tables.';\n",
       "          element.innerHTML = '';\n",
       "          dataTable['output_type'] = 'display_data';\n",
       "          await google.colab.output.renderOutput(dataTable, element);\n",
       "          const docLink = document.createElement('div');\n",
       "          docLink.innerHTML = docLinkHtml;\n",
       "          element.appendChild(docLink);\n",
       "        }\n",
       "      </script>\n",
       "    </div>\n",
       "  </div>\n",
       "  "
      ],
      "text/plain": [
       "      resultado                                            mensaje\n",
       "0             0  Free entry in 2 a wkly comp to win FA Cup fina...\n",
       "1             0  FreeMsg Hey there darling it's been 3 week's n...\n",
       "2             1  As per your request 'Melle Melle (Oru Minnamin...\n",
       "3             0  WINNER!! As a valued network customer you have...\n",
       "4             0  Had your mobile 11 months or more? U R entitle...\n",
       "...         ...                                                ...\n",
       "1285          0  Had your contract mobile 11 Mnths? Latest Moto...\n",
       "1286          1  Yeh. Indians was nice. Tho it did kane me off ...\n",
       "1287          0  REMINDER FROM O2: To get 2.50 pounds free call...\n",
       "1288          0  This is the 2nd time we have tried 2 contact u...\n",
       "1289          1  The guy did some bitching but I acted like i'd...\n",
       "\n",
       "[1290 rows x 2 columns]"
      ]
     },
     "execution_count": 133,
     "metadata": {},
     "output_type": "execute_result"
    }
   ],
   "source": [
    "df"
   ]
  },
  {
   "cell_type": "markdown",
   "metadata": {
    "id": "iq_fmfj-FLbE"
   },
   "source": [
    "## Limpieza de datos"
   ]
  },
  {
   "cell_type": "code",
   "execution_count": null,
   "metadata": {
    "colab": {
     "base_uri": "https://localhost:8080/"
    },
    "id": "Xl3_YxZr_mVj",
    "outputId": "e2438753-4845-45b5-a00f-13c748e1663c"
   },
   "outputs": [
    {
     "name": "stdout",
     "output_type": "stream",
     "text": [
      "Colab only includes TensorFlow 2.x; %tensorflow_version has no effect.\n"
     ]
    }
   ],
   "source": [
    "# El código anterior me trae la última versión de keras\n",
    "try:\n",
    "  %tensorflow_version 2.x\n",
    "except Exception:\n",
    "  pass\n",
    "  \n",
    "import tensorflow as tf\n",
    "\n",
    "from tensorflow.keras import layers # importar layers desde keras\n",
    "\n",
    "import tensorflow_datasets as tfds # este me trae los tokens"
   ]
  },
  {
   "cell_type": "code",
   "execution_count": null,
   "metadata": {
    "id": "A44G9k2EFFCz"
   },
   "outputs": [],
   "source": [
    "def clean_tweet(tweet):\n",
    "\n",
    "  tweet= BeautifulSoup(tweet,\"lxml\").get_text() # sirve para trabajar en un formato especial de tratar el texto. hay que usar el get_text para que me lo devuela en un formato legible\n",
    "  \n",
    "  # Dejamos todo en minúscula\n",
    "  tweet = tweet.lower()\n",
    "  # Reemplazamos puntos por espacios\n",
    "  tweet = tweet.replace(\".\",\" \")\n",
    "  # Eliminamos la @ y su mención\n",
    "  tweet = re.sub(r\"@[A-Za-z0-9.]+\",' ',tweet) # después del @ puede leer lo que se encuentra en el []. El + significa. El r significa raw o string\n",
    "  # Eliminamos los links de la URLs\n",
    "  tweet = re.sub(r\"https?://[A-Za-z0-9./]+\",' ', tweet) # aqui el ? me dice que el caracter anterior puede estar o no\n",
    "  # Nos quedamos solo con los caracteres\n",
    "  tweet = re.sub(r\"[^a-zA-Z.!?']\",' ',tweet)# cualquier cosa que no sea lo que viene después de ^ se va a sustituir por espacios en blanco\n",
    "  # Eliminamos los sitios web\n",
    "  tweet = re.sub(r\"www[A-Za-z0-9./]+\",' ', tweet)\n",
    "  # Eliminamos espacios en blanco adicionales\n",
    "  tweet = re.sub(r\" +\",' ',tweet)# si existe más de un espacio en blanco lo reemplazamos por uno solo. El más me dice eso, si hay más de uno reemplazo\n",
    "  return tweet"
   ]
  },
  {
   "cell_type": "code",
   "execution_count": null,
   "metadata": {
    "id": "Qk5XMMJXFaF7"
   },
   "outputs": [],
   "source": [
    "df_clean = [clean_tweet(tweet) for tweet in df.mensaje] # esto me queda en una lista guardado"
   ]
  },
  {
   "cell_type": "markdown",
   "metadata": {
    "id": "YMk2E64tmStY"
   },
   "source": [
    "# transformar texto (Embedding)"
   ]
  },
  {
   "cell_type": "code",
   "execution_count": null,
   "metadata": {
    "id": "d3pfA9QegQ1O"
   },
   "outputs": [],
   "source": [
    "# 4to paso: Vamos a crear dos variables que cargaran en memoria dos funciones para transformar el texto\n",
    "##\n",
    "##   - preprocessor: \"objeto\" que se encargará de transformar el texto en el formato que necesita el modelo BERT para funcionar\n",
    "##   - encoder: \"objeto\" que será el modelo BERT y se alimentará del resultado de preprocessor, retornando el texto transformado en un vector numérico.\n",
    "\n",
    "preprocessor = hub.load(\"https://tfhub.dev/tensorflow/bert_en_uncased_preprocess/3\")\n",
    "encoder = hub.load(\"https://tfhub.dev/tensorflow/small_bert/bert_en_uncased_L-2_H-128_A-2/2\")"
   ]
  },
  {
   "cell_type": "code",
   "execution_count": null,
   "metadata": {
    "id": "uq5Us0iIJKcW"
   },
   "outputs": [],
   "source": [
    "# 5to paso: Vamos a usar el objeto preprocessor, y guardamos su resultado en la variable embedding\n",
    "##   A modo de ejemplo para su revisión, solo vamos a transformar dos textos:\n",
    "\n",
    "embedding = preprocessor(df_clean) # df_clean es el texto"
   ]
  },
  {
   "cell_type": "code",
   "execution_count": null,
   "metadata": {
    "id": "KDjYrWncJS0M"
   },
   "outputs": [],
   "source": [
    "# 6to paso: Vamos a codificar el texto con el modelo BERT:\n",
    "##   - Fijarse que el objeto encoder recibe como argumento la variable embedding (resultado de preprocessor)\n",
    "##   - Copiar el siguiente código de forma literal\n",
    "\n",
    "pooled_output = encoder(embedding)[\"pooled_output\"]"
   ]
  },
  {
   "cell_type": "code",
   "execution_count": null,
   "metadata": {
    "colab": {
     "base_uri": "https://localhost:8080/"
    },
    "id": "nMFJURJvJsMm",
    "outputId": "53807bd0-cfb9-4791-b487-3b5e38717b67"
   },
   "outputs": [
    {
     "data": {
      "text/plain": [
       "<tf.Tensor: shape=(1290, 128), dtype=float32, numpy=\n",
       "array([[-0.999942  , -0.00141432, -0.9810854 , ...,  0.98082685,\n",
       "         0.98178196,  0.96391606],\n",
       "       [-0.9991202 ,  0.05296545, -0.98559695, ...,  0.9239925 ,\n",
       "         0.9558225 ,  0.9984839 ],\n",
       "       [-0.99986243,  0.03978845, -0.9731644 , ...,  0.73242617,\n",
       "         0.97078604,  0.9766909 ],\n",
       "       ...,\n",
       "       [-0.99998385,  0.03318281, -0.9955043 , ...,  0.95926076,\n",
       "         0.9974624 ,  0.96427304],\n",
       "       [-0.9999856 ,  0.1223898 , -0.9896996 , ...,  0.98565143,\n",
       "         0.96824807,  0.9937904 ],\n",
       "       [-0.9996448 ,  0.09184256, -0.9976637 , ...,  0.90646094,\n",
       "         0.9652779 ,  0.99890375]], dtype=float32)>"
      ]
     },
     "execution_count": 154,
     "metadata": {},
     "output_type": "execute_result"
    }
   ],
   "source": [
    "# Opcional: revisamos el contenido de la variable pooled_output, el cual tiene dos vectores de 128 dimensiones\n",
    "##\n",
    "##    - Dos vectores, porque le pasamos solo dos textos\n",
    "##    - 128 dimensiones, porque el modelo BERT utilizado convierte cualquier texto (independiente del largo) en un vector numérico de 128 dimensiones.\n",
    "\n",
    "pooled_output"
   ]
  },
  {
   "cell_type": "code",
   "execution_count": null,
   "metadata": {
    "id": "66V1clqHKQ_K"
   },
   "outputs": [],
   "source": [
    "# 7mo paso: El contenido de la variable pooled_output es una estructura de datos de tipo tensorflow.\n",
    "#           Para transformarlo a un dataframe y usarlo de forma tradicional con los modelos clásicos, \n",
    "#           ejecutamos la siguiente linea de código:\n",
    "\n",
    "dataX2 = pd.DataFrame(pooled_output.numpy())"
   ]
  },
  {
   "cell_type": "code",
   "execution_count": null,
   "metadata": {
    "colab": {
     "base_uri": "https://localhost:8080/"
    },
    "id": "IMh7uL3wKQ_K",
    "outputId": "fb4614b6-8cbd-4859-daf9-aeb130337957"
   },
   "outputs": [
    {
     "data": {
      "text/plain": [
       "(1290, 128)"
      ]
     },
     "execution_count": 156,
     "metadata": {},
     "output_type": "execute_result"
    }
   ],
   "source": [
    "# Opcional:  Ahora la variable dataX es un dataframe y podemos revisar su dimensionalidad y visualizarlo:\n",
    "dataX2.shape"
   ]
  },
  {
   "cell_type": "code",
   "execution_count": null,
   "metadata": {
    "colab": {
     "base_uri": "https://localhost:8080/",
     "height": 424
    },
    "id": "pi-Dg4THKQ_L",
    "outputId": "cc6d6a63-a676-4c65-8fa9-b6d0400a8f69"
   },
   "outputs": [
    {
     "data": {
      "text/html": [
       "\n",
       "  <div id=\"df-90be82af-8fad-49ba-82bc-38ba5dd642d0\">\n",
       "    <div class=\"colab-df-container\">\n",
       "      <div>\n",
       "<style scoped>\n",
       "    .dataframe tbody tr th:only-of-type {\n",
       "        vertical-align: middle;\n",
       "    }\n",
       "\n",
       "    .dataframe tbody tr th {\n",
       "        vertical-align: top;\n",
       "    }\n",
       "\n",
       "    .dataframe thead th {\n",
       "        text-align: right;\n",
       "    }\n",
       "</style>\n",
       "<table border=\"1\" class=\"dataframe\">\n",
       "  <thead>\n",
       "    <tr style=\"text-align: right;\">\n",
       "      <th></th>\n",
       "      <th>0</th>\n",
       "      <th>1</th>\n",
       "      <th>2</th>\n",
       "      <th>3</th>\n",
       "      <th>4</th>\n",
       "      <th>5</th>\n",
       "      <th>6</th>\n",
       "      <th>7</th>\n",
       "      <th>8</th>\n",
       "      <th>9</th>\n",
       "      <th>...</th>\n",
       "      <th>118</th>\n",
       "      <th>119</th>\n",
       "      <th>120</th>\n",
       "      <th>121</th>\n",
       "      <th>122</th>\n",
       "      <th>123</th>\n",
       "      <th>124</th>\n",
       "      <th>125</th>\n",
       "      <th>126</th>\n",
       "      <th>127</th>\n",
       "    </tr>\n",
       "  </thead>\n",
       "  <tbody>\n",
       "    <tr>\n",
       "      <th>0</th>\n",
       "      <td>-0.999942</td>\n",
       "      <td>-0.001414</td>\n",
       "      <td>-0.981085</td>\n",
       "      <td>-0.484473</td>\n",
       "      <td>-0.948341</td>\n",
       "      <td>0.171350</td>\n",
       "      <td>-0.981562</td>\n",
       "      <td>-0.706304</td>\n",
       "      <td>-0.006808</td>\n",
       "      <td>-0.095359</td>\n",
       "      <td>...</td>\n",
       "      <td>0.128026</td>\n",
       "      <td>-0.990112</td>\n",
       "      <td>0.187941</td>\n",
       "      <td>-0.998624</td>\n",
       "      <td>-0.819512</td>\n",
       "      <td>0.877467</td>\n",
       "      <td>-0.999149</td>\n",
       "      <td>0.980827</td>\n",
       "      <td>0.981782</td>\n",
       "      <td>0.963916</td>\n",
       "    </tr>\n",
       "    <tr>\n",
       "      <th>1</th>\n",
       "      <td>-0.999120</td>\n",
       "      <td>0.052965</td>\n",
       "      <td>-0.985597</td>\n",
       "      <td>0.318218</td>\n",
       "      <td>-0.978574</td>\n",
       "      <td>-0.563376</td>\n",
       "      <td>-0.998118</td>\n",
       "      <td>0.185895</td>\n",
       "      <td>0.121993</td>\n",
       "      <td>0.005437</td>\n",
       "      <td>...</td>\n",
       "      <td>0.155417</td>\n",
       "      <td>-0.251321</td>\n",
       "      <td>0.236179</td>\n",
       "      <td>-0.999170</td>\n",
       "      <td>-0.642842</td>\n",
       "      <td>0.981704</td>\n",
       "      <td>-0.992995</td>\n",
       "      <td>0.923993</td>\n",
       "      <td>0.955823</td>\n",
       "      <td>0.998484</td>\n",
       "    </tr>\n",
       "    <tr>\n",
       "      <th>2</th>\n",
       "      <td>-0.999862</td>\n",
       "      <td>0.039788</td>\n",
       "      <td>-0.973164</td>\n",
       "      <td>0.168508</td>\n",
       "      <td>-0.969527</td>\n",
       "      <td>-0.213720</td>\n",
       "      <td>-0.988347</td>\n",
       "      <td>-0.972103</td>\n",
       "      <td>-0.031048</td>\n",
       "      <td>-0.025507</td>\n",
       "      <td>...</td>\n",
       "      <td>0.133916</td>\n",
       "      <td>-0.986624</td>\n",
       "      <td>0.169207</td>\n",
       "      <td>-0.999534</td>\n",
       "      <td>-0.628558</td>\n",
       "      <td>0.798255</td>\n",
       "      <td>-0.977197</td>\n",
       "      <td>0.732426</td>\n",
       "      <td>0.970786</td>\n",
       "      <td>0.976691</td>\n",
       "    </tr>\n",
       "    <tr>\n",
       "      <th>3</th>\n",
       "      <td>-0.999984</td>\n",
       "      <td>0.044671</td>\n",
       "      <td>-0.993844</td>\n",
       "      <td>0.591809</td>\n",
       "      <td>-0.880615</td>\n",
       "      <td>0.781171</td>\n",
       "      <td>-0.973504</td>\n",
       "      <td>-0.696313</td>\n",
       "      <td>0.135529</td>\n",
       "      <td>-0.005958</td>\n",
       "      <td>...</td>\n",
       "      <td>0.142242</td>\n",
       "      <td>-0.995556</td>\n",
       "      <td>0.196146</td>\n",
       "      <td>-0.998720</td>\n",
       "      <td>-0.586202</td>\n",
       "      <td>0.946417</td>\n",
       "      <td>-0.997387</td>\n",
       "      <td>0.998785</td>\n",
       "      <td>0.998541</td>\n",
       "      <td>0.884596</td>\n",
       "    </tr>\n",
       "    <tr>\n",
       "      <th>4</th>\n",
       "      <td>-0.999940</td>\n",
       "      <td>0.095895</td>\n",
       "      <td>-0.997162</td>\n",
       "      <td>-0.121784</td>\n",
       "      <td>-0.996297</td>\n",
       "      <td>0.846379</td>\n",
       "      <td>-0.994946</td>\n",
       "      <td>0.436924</td>\n",
       "      <td>0.035794</td>\n",
       "      <td>-0.006821</td>\n",
       "      <td>...</td>\n",
       "      <td>0.215716</td>\n",
       "      <td>-0.989526</td>\n",
       "      <td>0.178496</td>\n",
       "      <td>-0.999673</td>\n",
       "      <td>-0.879214</td>\n",
       "      <td>0.881079</td>\n",
       "      <td>-0.998047</td>\n",
       "      <td>0.986704</td>\n",
       "      <td>0.997149</td>\n",
       "      <td>0.974610</td>\n",
       "    </tr>\n",
       "    <tr>\n",
       "      <th>...</th>\n",
       "      <td>...</td>\n",
       "      <td>...</td>\n",
       "      <td>...</td>\n",
       "      <td>...</td>\n",
       "      <td>...</td>\n",
       "      <td>...</td>\n",
       "      <td>...</td>\n",
       "      <td>...</td>\n",
       "      <td>...</td>\n",
       "      <td>...</td>\n",
       "      <td>...</td>\n",
       "      <td>...</td>\n",
       "      <td>...</td>\n",
       "      <td>...</td>\n",
       "      <td>...</td>\n",
       "      <td>...</td>\n",
       "      <td>...</td>\n",
       "      <td>...</td>\n",
       "      <td>...</td>\n",
       "      <td>...</td>\n",
       "      <td>...</td>\n",
       "    </tr>\n",
       "    <tr>\n",
       "      <th>1285</th>\n",
       "      <td>-0.999978</td>\n",
       "      <td>0.044769</td>\n",
       "      <td>-0.996063</td>\n",
       "      <td>0.206673</td>\n",
       "      <td>-0.993597</td>\n",
       "      <td>0.577214</td>\n",
       "      <td>-0.994746</td>\n",
       "      <td>0.505085</td>\n",
       "      <td>0.094988</td>\n",
       "      <td>0.063025</td>\n",
       "      <td>...</td>\n",
       "      <td>0.203866</td>\n",
       "      <td>-0.998053</td>\n",
       "      <td>0.137735</td>\n",
       "      <td>-0.999817</td>\n",
       "      <td>-0.956234</td>\n",
       "      <td>0.923886</td>\n",
       "      <td>-0.996958</td>\n",
       "      <td>0.989620</td>\n",
       "      <td>0.994490</td>\n",
       "      <td>0.967436</td>\n",
       "    </tr>\n",
       "    <tr>\n",
       "      <th>1286</th>\n",
       "      <td>-0.999188</td>\n",
       "      <td>0.034496</td>\n",
       "      <td>-0.990960</td>\n",
       "      <td>0.951374</td>\n",
       "      <td>-0.999831</td>\n",
       "      <td>-0.388626</td>\n",
       "      <td>-0.997586</td>\n",
       "      <td>0.758842</td>\n",
       "      <td>0.070556</td>\n",
       "      <td>0.052468</td>\n",
       "      <td>...</td>\n",
       "      <td>0.134165</td>\n",
       "      <td>-0.782383</td>\n",
       "      <td>0.201555</td>\n",
       "      <td>-0.999390</td>\n",
       "      <td>-0.920580</td>\n",
       "      <td>0.792196</td>\n",
       "      <td>-0.945352</td>\n",
       "      <td>0.811551</td>\n",
       "      <td>0.946749</td>\n",
       "      <td>0.997387</td>\n",
       "    </tr>\n",
       "    <tr>\n",
       "      <th>1287</th>\n",
       "      <td>-0.999984</td>\n",
       "      <td>0.033183</td>\n",
       "      <td>-0.995504</td>\n",
       "      <td>0.454196</td>\n",
       "      <td>-0.921501</td>\n",
       "      <td>-0.103736</td>\n",
       "      <td>-0.989906</td>\n",
       "      <td>-0.962311</td>\n",
       "      <td>-0.030409</td>\n",
       "      <td>-0.049869</td>\n",
       "      <td>...</td>\n",
       "      <td>0.104561</td>\n",
       "      <td>-0.996887</td>\n",
       "      <td>0.170619</td>\n",
       "      <td>-0.999599</td>\n",
       "      <td>-0.375127</td>\n",
       "      <td>0.962274</td>\n",
       "      <td>-0.997076</td>\n",
       "      <td>0.959261</td>\n",
       "      <td>0.997462</td>\n",
       "      <td>0.964273</td>\n",
       "    </tr>\n",
       "    <tr>\n",
       "      <th>1288</th>\n",
       "      <td>-0.999986</td>\n",
       "      <td>0.122390</td>\n",
       "      <td>-0.989700</td>\n",
       "      <td>0.519770</td>\n",
       "      <td>-0.975490</td>\n",
       "      <td>0.565476</td>\n",
       "      <td>-0.979562</td>\n",
       "      <td>-0.951744</td>\n",
       "      <td>0.093162</td>\n",
       "      <td>-0.001901</td>\n",
       "      <td>...</td>\n",
       "      <td>0.189051</td>\n",
       "      <td>-0.991586</td>\n",
       "      <td>0.195924</td>\n",
       "      <td>-0.999426</td>\n",
       "      <td>-0.709937</td>\n",
       "      <td>0.916501</td>\n",
       "      <td>-0.998173</td>\n",
       "      <td>0.985651</td>\n",
       "      <td>0.968248</td>\n",
       "      <td>0.993790</td>\n",
       "    </tr>\n",
       "    <tr>\n",
       "      <th>1289</th>\n",
       "      <td>-0.999645</td>\n",
       "      <td>0.091843</td>\n",
       "      <td>-0.997664</td>\n",
       "      <td>0.946096</td>\n",
       "      <td>-0.999344</td>\n",
       "      <td>0.163253</td>\n",
       "      <td>-0.999165</td>\n",
       "      <td>0.995323</td>\n",
       "      <td>0.138288</td>\n",
       "      <td>0.038712</td>\n",
       "      <td>...</td>\n",
       "      <td>0.211061</td>\n",
       "      <td>-0.527321</td>\n",
       "      <td>0.219368</td>\n",
       "      <td>-0.999742</td>\n",
       "      <td>-0.661678</td>\n",
       "      <td>0.841889</td>\n",
       "      <td>-0.998527</td>\n",
       "      <td>0.906461</td>\n",
       "      <td>0.965278</td>\n",
       "      <td>0.998904</td>\n",
       "    </tr>\n",
       "  </tbody>\n",
       "</table>\n",
       "<p>1290 rows × 128 columns</p>\n",
       "</div>\n",
       "      <button class=\"colab-df-convert\" onclick=\"convertToInteractive('df-90be82af-8fad-49ba-82bc-38ba5dd642d0')\"\n",
       "              title=\"Convert this dataframe to an interactive table.\"\n",
       "              style=\"display:none;\">\n",
       "        \n",
       "  <svg xmlns=\"http://www.w3.org/2000/svg\" height=\"24px\"viewBox=\"0 0 24 24\"\n",
       "       width=\"24px\">\n",
       "    <path d=\"M0 0h24v24H0V0z\" fill=\"none\"/>\n",
       "    <path d=\"M18.56 5.44l.94 2.06.94-2.06 2.06-.94-2.06-.94-.94-2.06-.94 2.06-2.06.94zm-11 1L8.5 8.5l.94-2.06 2.06-.94-2.06-.94L8.5 2.5l-.94 2.06-2.06.94zm10 10l.94 2.06.94-2.06 2.06-.94-2.06-.94-.94-2.06-.94 2.06-2.06.94z\"/><path d=\"M17.41 7.96l-1.37-1.37c-.4-.4-.92-.59-1.43-.59-.52 0-1.04.2-1.43.59L10.3 9.45l-7.72 7.72c-.78.78-.78 2.05 0 2.83L4 21.41c.39.39.9.59 1.41.59.51 0 1.02-.2 1.41-.59l7.78-7.78 2.81-2.81c.8-.78.8-2.07 0-2.86zM5.41 20L4 18.59l7.72-7.72 1.47 1.35L5.41 20z\"/>\n",
       "  </svg>\n",
       "      </button>\n",
       "      \n",
       "  <style>\n",
       "    .colab-df-container {\n",
       "      display:flex;\n",
       "      flex-wrap:wrap;\n",
       "      gap: 12px;\n",
       "    }\n",
       "\n",
       "    .colab-df-convert {\n",
       "      background-color: #E8F0FE;\n",
       "      border: none;\n",
       "      border-radius: 50%;\n",
       "      cursor: pointer;\n",
       "      display: none;\n",
       "      fill: #1967D2;\n",
       "      height: 32px;\n",
       "      padding: 0 0 0 0;\n",
       "      width: 32px;\n",
       "    }\n",
       "\n",
       "    .colab-df-convert:hover {\n",
       "      background-color: #E2EBFA;\n",
       "      box-shadow: 0px 1px 2px rgba(60, 64, 67, 0.3), 0px 1px 3px 1px rgba(60, 64, 67, 0.15);\n",
       "      fill: #174EA6;\n",
       "    }\n",
       "\n",
       "    [theme=dark] .colab-df-convert {\n",
       "      background-color: #3B4455;\n",
       "      fill: #D2E3FC;\n",
       "    }\n",
       "\n",
       "    [theme=dark] .colab-df-convert:hover {\n",
       "      background-color: #434B5C;\n",
       "      box-shadow: 0px 1px 3px 1px rgba(0, 0, 0, 0.15);\n",
       "      filter: drop-shadow(0px 1px 2px rgba(0, 0, 0, 0.3));\n",
       "      fill: #FFFFFF;\n",
       "    }\n",
       "  </style>\n",
       "\n",
       "      <script>\n",
       "        const buttonEl =\n",
       "          document.querySelector('#df-90be82af-8fad-49ba-82bc-38ba5dd642d0 button.colab-df-convert');\n",
       "        buttonEl.style.display =\n",
       "          google.colab.kernel.accessAllowed ? 'block' : 'none';\n",
       "\n",
       "        async function convertToInteractive(key) {\n",
       "          const element = document.querySelector('#df-90be82af-8fad-49ba-82bc-38ba5dd642d0');\n",
       "          const dataTable =\n",
       "            await google.colab.kernel.invokeFunction('convertToInteractive',\n",
       "                                                     [key], {});\n",
       "          if (!dataTable) return;\n",
       "\n",
       "          const docLinkHtml = 'Like what you see? Visit the ' +\n",
       "            '<a target=\"_blank\" href=https://colab.research.google.com/notebooks/data_table.ipynb>data table notebook</a>'\n",
       "            + ' to learn more about interactive tables.';\n",
       "          element.innerHTML = '';\n",
       "          dataTable['output_type'] = 'display_data';\n",
       "          await google.colab.output.renderOutput(dataTable, element);\n",
       "          const docLink = document.createElement('div');\n",
       "          docLink.innerHTML = docLinkHtml;\n",
       "          element.appendChild(docLink);\n",
       "        }\n",
       "      </script>\n",
       "    </div>\n",
       "  </div>\n",
       "  "
      ],
      "text/plain": [
       "           0         1         2         3         4         5         6    \\\n",
       "0    -0.999942 -0.001414 -0.981085 -0.484473 -0.948341  0.171350 -0.981562   \n",
       "1    -0.999120  0.052965 -0.985597  0.318218 -0.978574 -0.563376 -0.998118   \n",
       "2    -0.999862  0.039788 -0.973164  0.168508 -0.969527 -0.213720 -0.988347   \n",
       "3    -0.999984  0.044671 -0.993844  0.591809 -0.880615  0.781171 -0.973504   \n",
       "4    -0.999940  0.095895 -0.997162 -0.121784 -0.996297  0.846379 -0.994946   \n",
       "...        ...       ...       ...       ...       ...       ...       ...   \n",
       "1285 -0.999978  0.044769 -0.996063  0.206673 -0.993597  0.577214 -0.994746   \n",
       "1286 -0.999188  0.034496 -0.990960  0.951374 -0.999831 -0.388626 -0.997586   \n",
       "1287 -0.999984  0.033183 -0.995504  0.454196 -0.921501 -0.103736 -0.989906   \n",
       "1288 -0.999986  0.122390 -0.989700  0.519770 -0.975490  0.565476 -0.979562   \n",
       "1289 -0.999645  0.091843 -0.997664  0.946096 -0.999344  0.163253 -0.999165   \n",
       "\n",
       "           7         8         9    ...       118       119       120  \\\n",
       "0    -0.706304 -0.006808 -0.095359  ...  0.128026 -0.990112  0.187941   \n",
       "1     0.185895  0.121993  0.005437  ...  0.155417 -0.251321  0.236179   \n",
       "2    -0.972103 -0.031048 -0.025507  ...  0.133916 -0.986624  0.169207   \n",
       "3    -0.696313  0.135529 -0.005958  ...  0.142242 -0.995556  0.196146   \n",
       "4     0.436924  0.035794 -0.006821  ...  0.215716 -0.989526  0.178496   \n",
       "...        ...       ...       ...  ...       ...       ...       ...   \n",
       "1285  0.505085  0.094988  0.063025  ...  0.203866 -0.998053  0.137735   \n",
       "1286  0.758842  0.070556  0.052468  ...  0.134165 -0.782383  0.201555   \n",
       "1287 -0.962311 -0.030409 -0.049869  ...  0.104561 -0.996887  0.170619   \n",
       "1288 -0.951744  0.093162 -0.001901  ...  0.189051 -0.991586  0.195924   \n",
       "1289  0.995323  0.138288  0.038712  ...  0.211061 -0.527321  0.219368   \n",
       "\n",
       "           121       122       123       124       125       126       127  \n",
       "0    -0.998624 -0.819512  0.877467 -0.999149  0.980827  0.981782  0.963916  \n",
       "1    -0.999170 -0.642842  0.981704 -0.992995  0.923993  0.955823  0.998484  \n",
       "2    -0.999534 -0.628558  0.798255 -0.977197  0.732426  0.970786  0.976691  \n",
       "3    -0.998720 -0.586202  0.946417 -0.997387  0.998785  0.998541  0.884596  \n",
       "4    -0.999673 -0.879214  0.881079 -0.998047  0.986704  0.997149  0.974610  \n",
       "...        ...       ...       ...       ...       ...       ...       ...  \n",
       "1285 -0.999817 -0.956234  0.923886 -0.996958  0.989620  0.994490  0.967436  \n",
       "1286 -0.999390 -0.920580  0.792196 -0.945352  0.811551  0.946749  0.997387  \n",
       "1287 -0.999599 -0.375127  0.962274 -0.997076  0.959261  0.997462  0.964273  \n",
       "1288 -0.999426 -0.709937  0.916501 -0.998173  0.985651  0.968248  0.993790  \n",
       "1289 -0.999742 -0.661678  0.841889 -0.998527  0.906461  0.965278  0.998904  \n",
       "\n",
       "[1290 rows x 128 columns]"
      ]
     },
     "execution_count": 157,
     "metadata": {},
     "output_type": "execute_result"
    }
   ],
   "source": [
    "dataX2"
   ]
  },
  {
   "cell_type": "markdown",
   "metadata": {
    "id": "Wm0iV1ksyNUF"
   },
   "source": [
    "#seleccion de las variable"
   ]
  },
  {
   "cell_type": "code",
   "execution_count": null,
   "metadata": {
    "id": "O5uhZcbzRidy"
   },
   "outputs": [],
   "source": [
    "X = dataX2 \n",
    "Y = df['resultado'].copy()"
   ]
  },
  {
   "cell_type": "code",
   "execution_count": null,
   "metadata": {
    "colab": {
     "base_uri": "https://localhost:8080/"
    },
    "id": "0UOZmKMjRl6y",
    "outputId": "4c48b4df-9497-40bc-d787-830c3679049d"
   },
   "outputs": [
    {
     "data": {
      "text/plain": [
       "RangeIndex(start=0, stop=128, step=1)"
      ]
     },
     "execution_count": 159,
     "metadata": {},
     "output_type": "execute_result"
    }
   ],
   "source": [
    "X.columns"
   ]
  },
  {
   "cell_type": "code",
   "execution_count": null,
   "metadata": {
    "colab": {
     "base_uri": "https://localhost:8080/"
    },
    "id": "hUzLPNrN1RL0",
    "outputId": "d229b1a5-a1ab-4610-9f1b-672a618571fd"
   },
   "outputs": [
    {
     "name": "stdout",
     "output_type": "stream",
     "text": [
      "<class 'pandas.core.frame.DataFrame'>\n",
      "RangeIndex: 1290 entries, 0 to 1289\n",
      "Columns: 128 entries, 0 to 127\n",
      "dtypes: float32(128)\n",
      "memory usage: 645.1 KB\n"
     ]
    }
   ],
   "source": [
    "X.info()"
   ]
  },
  {
   "cell_type": "code",
   "execution_count": null,
   "metadata": {
    "colab": {
     "base_uri": "https://localhost:8080/"
    },
    "id": "SCYJFg3V1grr",
    "outputId": "dfa39843-7697-41a8-b2e9-7a8923f3c7f9"
   },
   "outputs": [
    {
     "data": {
      "text/plain": [
       "0    0\n",
       "1    0\n",
       "2    1\n",
       "3    0\n",
       "4    0\n",
       "Name: resultado, dtype: int64"
      ]
     },
     "execution_count": 161,
     "metadata": {},
     "output_type": "execute_result"
    }
   ],
   "source": [
    "Y.head()"
   ]
  },
  {
   "cell_type": "markdown",
   "metadata": {
    "id": "aRmzxRFPEYWf"
   },
   "source": [
    "# Balanceo de datos"
   ]
  },
  {
   "cell_type": "markdown",
   "metadata": {
    "id": "VWKGuNFJKN7h"
   },
   "source": [
    "## Aplicando Smote"
   ]
  },
  {
   "cell_type": "code",
   "execution_count": null,
   "metadata": {
    "colab": {
     "base_uri": "https://localhost:8080/"
    },
    "id": "dmRL1ZfVJkXI",
    "outputId": "9d46ef90-e045-4e9f-ce41-34bd4043e824"
   },
   "outputs": [
    {
     "data": {
      "text/plain": [
       "Counter({0: 668, 1: 668})"
      ]
     },
     "execution_count": 162,
     "metadata": {},
     "output_type": "execute_result"
    }
   ],
   "source": [
    "from imblearn.over_sampling import SMOTE #over sobre nivelar hacia arriba under nivelacion hacia el menor dato\n",
    "#from imblearn.under_sampling import SMOTE \n",
    "\n",
    "smote = SMOTE(random_state = 325, n_jobs=-1)\n",
    "X_smote, Y_smote = smote.fit_resample(X, Y)# hace Balance de los datos a partir de los agreglos\n",
    "\n",
    "from collections import Counter\n",
    "\n",
    "Counter(Y_smote)"
   ]
  },
  {
   "cell_type": "markdown",
   "metadata": {
    "id": "0e_u-Q_Ek__4"
   },
   "source": [
    "# Train y test"
   ]
  },
  {
   "cell_type": "code",
   "execution_count": null,
   "metadata": {
    "id": "TyfeIwbQIC6Z"
   },
   "outputs": [],
   "source": [
    "from sklearn.model_selection import train_test_split\n",
    "X_train_smote, X_test_smote, Y_train_smote, Y_test_smote = train_test_split(X_smote, Y_smote, random_state=325,test_size = 0.3)\n",
    "        \n",
    "X_train, X_test, Y_train, Y_test = train_test_split(X, Y, random_state=325,test_size = 0.3)        "
   ]
  },
  {
   "cell_type": "markdown",
   "metadata": {
    "id": "Ciq8A-OBPMoB"
   },
   "source": [
    "# SVM\n"
   ]
  },
  {
   "cell_type": "markdown",
   "metadata": {
    "id": "YDjqF2GOYMNJ"
   },
   "source": [
    "##SVC "
   ]
  },
  {
   "cell_type": "markdown",
   "metadata": {
    "id": "KK1IKHnHlm6S"
   },
   "source": [
    "### Caso 1"
   ]
  },
  {
   "cell_type": "code",
   "execution_count": null,
   "metadata": {
    "id": "et__pezSxWUc"
   },
   "outputs": [],
   "source": [
    "parametros = {'C'      : np.arange(1, 5, 1),\n",
    "            'gamma'  : np.arange(1, 5, 1),\n",
    "           'kernel' : ['rbf', 'linear','sigmoid']}\n",
    "\n",
    "from sklearn.svm import SVC\n",
    "from sklearn.model_selection import GridSearchCV\n",
    "\n",
    "clf = SVC(class_weight='balanced', random_state=325)  \n",
    "grid_search = GridSearchCV(clf, parametros, n_jobs=-1, cv=5) "
   ]
  },
  {
   "cell_type": "code",
   "execution_count": null,
   "metadata": {
    "colab": {
     "base_uri": "https://localhost:8080/"
    },
    "id": "bm5RhCN3RkZZ",
    "outputId": "9037f1e0-9ca1-43f5-9266-201d7954b31a"
   },
   "outputs": [
    {
     "data": {
      "text/plain": [
       "GridSearchCV(cv=5, estimator=SVC(class_weight='balanced', random_state=325),\n",
       "             n_jobs=-1,\n",
       "             param_grid={'C': array([1, 2, 3, 4]), 'gamma': array([1, 2, 3, 4]),\n",
       "                         'kernel': ['rbf', 'linear', 'sigmoid']})"
      ]
     },
     "execution_count": 165,
     "metadata": {},
     "output_type": "execute_result"
    }
   ],
   "source": [
    "grid_search.fit(X_train_smote, Y_train_smote)"
   ]
  },
  {
   "cell_type": "code",
   "execution_count": null,
   "metadata": {
    "colab": {
     "base_uri": "https://localhost:8080/"
    },
    "id": "1yEGg8ADqwI-",
    "outputId": "a2b0b578-61c0-4045-d2d8-76c6722c6924"
   },
   "outputs": [
    {
     "name": "stdout",
     "output_type": "stream",
     "text": [
      "El mejor modelo:\n",
      " {'C': 2, 'gamma': 1, 'kernel': 'linear'}\n"
     ]
    }
   ],
   "source": [
    "print('El mejor modelo:\\n', grid_search.best_params_)"
   ]
  },
  {
   "cell_type": "code",
   "execution_count": null,
   "metadata": {
    "id": "MsGA5qGNq4kN"
   },
   "outputs": [],
   "source": [
    "clf_best = grid_search.best_estimator_\n",
    "pred = clf_best.predict(X_test_smote)"
   ]
  },
  {
   "cell_type": "code",
   "execution_count": null,
   "metadata": {
    "colab": {
     "base_uri": "https://localhost:8080/"
    },
    "id": "8KTNPmsUy_jF",
    "outputId": "ea4f6f33-4eb4-4b21-bac4-cf3e400b0e25"
   },
   "outputs": [
    {
     "name": "stdout",
     "output_type": "stream",
     "text": [
      "              precision    recall  f1-score   support\n",
      "\n",
      "           0       0.93      0.93      0.93       212\n",
      "           1       0.93      0.92      0.92       189\n",
      "\n",
      "    accuracy                           0.93       401\n",
      "   macro avg       0.93      0.92      0.92       401\n",
      "weighted avg       0.93      0.93      0.93       401\n",
      "\n"
     ]
    }
   ],
   "source": [
    "from sklearn.metrics import classification_report\n",
    "print(classification_report(Y_test_smote, pred))"
   ]
  },
  {
   "cell_type": "code",
   "execution_count": null,
   "metadata": {
    "colab": {
     "base_uri": "https://localhost:8080/",
     "height": 347
    },
    "id": "-4aN-UBJzWkS",
    "outputId": "daeeeec7-d03f-418b-9e02-04986220113d"
   },
   "outputs": [
    {
     "name": "stdout",
     "output_type": "stream",
     "text": [
      "Matriz de Confusión\n",
      "[[198  14]\n",
      " [ 16 173]]\n"
     ]
    },
    {
     "data": {
      "image/png": "[encoded data removed]",
      "text/plain": [
       "<Figure size 432x288 with 2 Axes>"
      ]
     },
     "metadata": {
      "needs_background": "light"
     },
     "output_type": "display_data"
    }
   ],
   "source": [
    "from sklearn.metrics import ConfusionMatrixDisplay\n",
    "\n",
    "\n",
    "disp = ConfusionMatrixDisplay.from_estimator(\n",
    "       clf_best,\n",
    "       X_test_smote,\n",
    "       Y_test_smote,\n",
    "       display_labels=None,\n",
    "       cmap=plt.cm.Blues,\n",
    "       normalize=None)\n",
    "\n",
    "disp.ax_.set_title('Matriz de Confusión')\n",
    "disp.ax_.set_xlabel('Predicción');\n",
    "disp.ax_.set_ylabel('Realidad'); \n",
    "disp.ax_.xaxis.set_ticklabels(['0', '1']); \n",
    "disp.ax_.yaxis.set_ticklabels(['0', '1']);\n",
    "\n",
    "print('Matriz de Confusión')\n",
    "print(disp.confusion_matrix)\n",
    "\n",
    "plt.show()"
   ]
  },
  {
   "cell_type": "markdown",
   "metadata": {
    "id": "AdkVd93jvUAr"
   },
   "source": [
    "## Nusvm"
   ]
  },
  {
   "cell_type": "markdown",
   "metadata": {
    "id": "P4WrGu2NlxN3"
   },
   "source": [
    "### Caso 1"
   ]
  },
  {
   "cell_type": "code",
   "execution_count": null,
   "metadata": {
    "id": "0gVoxUu052Q3"
   },
   "outputs": [],
   "source": [
    "parametros = {'nu'      : np.arange(0, 1, 0.1),\n",
    "            'gamma'  : ['scale','auto'],\n",
    "           'kernel' : ['rbf', 'linear','sigmoid']}\n",
    "\n",
    "from sklearn.svm import NuSVC\n",
    "from sklearn.model_selection import GridSearchCV\n",
    "\n",
    "clf = NuSVC(class_weight='balanced', random_state=325)  \n",
    "grid_search = GridSearchCV(clf, parametros, n_jobs=-1, cv=5) "
   ]
  },
  {
   "cell_type": "code",
   "execution_count": null,
   "metadata": {
    "colab": {
     "base_uri": "https://localhost:8080/"
    },
    "id": "O5l746iT58id",
    "outputId": "c82363ab-832b-4c90-a6a8-823e2686fe7a"
   },
   "outputs": [
    {
     "data": {
      "text/plain": [
       "GridSearchCV(cv=5, estimator=NuSVC(class_weight='balanced', random_state=325),\n",
       "             n_jobs=-1,\n",
       "             param_grid={'gamma': ['scale', 'auto'],\n",
       "                         'kernel': ['rbf', 'linear', 'sigmoid'],\n",
       "                         'nu': array([0. , 0.1, 0.2, 0.3, 0.4, 0.5, 0.6, 0.7, 0.8, 0.9])})"
      ]
     },
     "execution_count": 171,
     "metadata": {},
     "output_type": "execute_result"
    }
   ],
   "source": [
    "grid_search.fit(X_train_smote, Y_train_smote)"
   ]
  },
  {
   "cell_type": "code",
   "execution_count": null,
   "metadata": {
    "colab": {
     "base_uri": "https://localhost:8080/"
    },
    "id": "prGKx-R158id",
    "outputId": "413ffe15-2e8e-429c-e0e9-170aa5cc22b3"
   },
   "outputs": [
    {
     "name": "stdout",
     "output_type": "stream",
     "text": [
      "El mejor modelo:\n",
      " {'gamma': 'auto', 'kernel': 'rbf', 'nu': 0.1}\n"
     ]
    }
   ],
   "source": [
    "print('El mejor modelo:\\n', grid_search.best_params_)"
   ]
  },
  {
   "cell_type": "code",
   "execution_count": null,
   "metadata": {
    "id": "YagauF6t58ie"
   },
   "outputs": [],
   "source": [
    "clf_best = grid_search.best_estimator_\n",
    "pred = clf_best.predict(X_test_smote)"
   ]
  },
  {
   "cell_type": "code",
   "execution_count": null,
   "metadata": {
    "colab": {
     "base_uri": "https://localhost:8080/"
    },
    "id": "Pywpz84V58ie",
    "outputId": "d018636a-8bab-4703-fe1c-896e5e0f4827"
   },
   "outputs": [
    {
     "name": "stdout",
     "output_type": "stream",
     "text": [
      "              precision    recall  f1-score   support\n",
      "\n",
      "           0       0.94      0.95      0.95       212\n",
      "           1       0.95      0.93      0.94       189\n",
      "\n",
      "    accuracy                           0.94       401\n",
      "   macro avg       0.94      0.94      0.94       401\n",
      "weighted avg       0.94      0.94      0.94       401\n",
      "\n"
     ]
    }
   ],
   "source": [
    "from sklearn.metrics import classification_report\n",
    "\n",
    "print(classification_report(Y_test_smote, pred))"
   ]
  },
  {
   "cell_type": "code",
   "execution_count": null,
   "metadata": {
    "colab": {
     "base_uri": "https://localhost:8080/",
     "height": 347
    },
    "id": "0wI2Ertq58ie",
    "outputId": "7b7b508e-e776-42fc-8da7-95b7701182bf"
   },
   "outputs": [
    {
     "name": "stdout",
     "output_type": "stream",
     "text": [
      "Matriz de Confusión\n",
      "[[202  10]\n",
      " [ 13 176]]\n"
     ]
    },
    {
     "data": {
      "image/png": "[encoded data removed]",
      "text/plain": [
       "<Figure size 432x288 with 2 Axes>"
      ]
     },
     "metadata": {
      "needs_background": "light"
     },
     "output_type": "display_data"
    }
   ],
   "source": [
    "from sklearn.metrics import ConfusionMatrixDisplay\n",
    "\n",
    "\n",
    "disp = ConfusionMatrixDisplay.from_estimator(\n",
    "       clf_best,\n",
    "       X_test_smote,\n",
    "       Y_test_smote,\n",
    "       display_labels=None,\n",
    "       cmap=plt.cm.Blues,\n",
    "       normalize=None)\n",
    "\n",
    "disp.ax_.set_title('Matriz de Confusión')\n",
    "disp.ax_.set_xlabel('Predicción');\n",
    "disp.ax_.set_ylabel('Realidad'); \n",
    "disp.ax_.xaxis.set_ticklabels(['0', '1']); \n",
    "disp.ax_.yaxis.set_ticklabels(['0', '1']);\n",
    "\n",
    "print('Matriz de Confusión')\n",
    "print(disp.confusion_matrix)\n",
    "\n",
    "plt.show()"
   ]
  },
  {
   "cell_type": "markdown",
   "metadata": {
    "id": "xcbvtJXL7vkr"
   },
   "source": []
  },
  {
   "cell_type": "markdown",
   "metadata": {
    "id": "PcWgNR1487xm"
   },
   "source": [
    "#SECCION CON DATOS SIN PREPROCESAR"
   ]
  },
  {
   "cell_type": "markdown",
   "metadata": {
    "id": "5czs7yBD7h9t"
   },
   "source": [
    "# transformar texto(Embeding) Sin preprocesamiento de texto"
   ]
  },
  {
   "cell_type": "code",
   "execution_count": null,
   "metadata": {
    "colab": {
     "base_uri": "https://localhost:8080/",
     "height": 424
    },
    "id": "FLalqtie8GRR",
    "outputId": "651e5906-227f-4a8e-a1a8-f0e8530c56ec"
   },
   "outputs": [
    {
     "data": {
      "text/html": [
       "\n",
       "  <div id=\"df-ad540d52-e79f-4e95-afb3-377d20f16067\">\n",
       "    <div class=\"colab-df-container\">\n",
       "      <div>\n",
       "<style scoped>\n",
       "    .dataframe tbody tr th:only-of-type {\n",
       "        vertical-align: middle;\n",
       "    }\n",
       "\n",
       "    .dataframe tbody tr th {\n",
       "        vertical-align: top;\n",
       "    }\n",
       "\n",
       "    .dataframe thead th {\n",
       "        text-align: right;\n",
       "    }\n",
       "</style>\n",
       "<table border=\"1\" class=\"dataframe\">\n",
       "  <thead>\n",
       "    <tr style=\"text-align: right;\">\n",
       "      <th></th>\n",
       "      <th>resultado</th>\n",
       "      <th>mensaje</th>\n",
       "    </tr>\n",
       "  </thead>\n",
       "  <tbody>\n",
       "    <tr>\n",
       "      <th>0</th>\n",
       "      <td>0</td>\n",
       "      <td>Free entry in 2 a wkly comp to win FA Cup fina...</td>\n",
       "    </tr>\n",
       "    <tr>\n",
       "      <th>1</th>\n",
       "      <td>0</td>\n",
       "      <td>FreeMsg Hey there darling it's been 3 week's n...</td>\n",
       "    </tr>\n",
       "    <tr>\n",
       "      <th>2</th>\n",
       "      <td>1</td>\n",
       "      <td>As per your request 'Melle Melle (Oru Minnamin...</td>\n",
       "    </tr>\n",
       "    <tr>\n",
       "      <th>3</th>\n",
       "      <td>0</td>\n",
       "      <td>WINNER!! As a valued network customer you have...</td>\n",
       "    </tr>\n",
       "    <tr>\n",
       "      <th>4</th>\n",
       "      <td>0</td>\n",
       "      <td>Had your mobile 11 months or more? U R entitle...</td>\n",
       "    </tr>\n",
       "    <tr>\n",
       "      <th>...</th>\n",
       "      <td>...</td>\n",
       "      <td>...</td>\n",
       "    </tr>\n",
       "    <tr>\n",
       "      <th>1285</th>\n",
       "      <td>0</td>\n",
       "      <td>Had your contract mobile 11 Mnths? Latest Moto...</td>\n",
       "    </tr>\n",
       "    <tr>\n",
       "      <th>1286</th>\n",
       "      <td>1</td>\n",
       "      <td>Yeh. Indians was nice. Tho it did kane me off ...</td>\n",
       "    </tr>\n",
       "    <tr>\n",
       "      <th>1287</th>\n",
       "      <td>0</td>\n",
       "      <td>REMINDER FROM O2: To get 2.50 pounds free call...</td>\n",
       "    </tr>\n",
       "    <tr>\n",
       "      <th>1288</th>\n",
       "      <td>0</td>\n",
       "      <td>This is the 2nd time we have tried 2 contact u...</td>\n",
       "    </tr>\n",
       "    <tr>\n",
       "      <th>1289</th>\n",
       "      <td>1</td>\n",
       "      <td>The guy did some bitching but I acted like i'd...</td>\n",
       "    </tr>\n",
       "  </tbody>\n",
       "</table>\n",
       "<p>1290 rows × 2 columns</p>\n",
       "</div>\n",
       "      <button class=\"colab-df-convert\" onclick=\"convertToInteractive('df-ad540d52-e79f-4e95-afb3-377d20f16067')\"\n",
       "              title=\"Convert this dataframe to an interactive table.\"\n",
       "              style=\"display:none;\">\n",
       "        \n",
       "  <svg xmlns=\"http://www.w3.org/2000/svg\" height=\"24px\"viewBox=\"0 0 24 24\"\n",
       "       width=\"24px\">\n",
       "    <path d=\"M0 0h24v24H0V0z\" fill=\"none\"/>\n",
       "    <path d=\"M18.56 5.44l.94 2.06.94-2.06 2.06-.94-2.06-.94-.94-2.06-.94 2.06-2.06.94zm-11 1L8.5 8.5l.94-2.06 2.06-.94-2.06-.94L8.5 2.5l-.94 2.06-2.06.94zm10 10l.94 2.06.94-2.06 2.06-.94-2.06-.94-.94-2.06-.94 2.06-2.06.94z\"/><path d=\"M17.41 7.96l-1.37-1.37c-.4-.4-.92-.59-1.43-.59-.52 0-1.04.2-1.43.59L10.3 9.45l-7.72 7.72c-.78.78-.78 2.05 0 2.83L4 21.41c.39.39.9.59 1.41.59.51 0 1.02-.2 1.41-.59l7.78-7.78 2.81-2.81c.8-.78.8-2.07 0-2.86zM5.41 20L4 18.59l7.72-7.72 1.47 1.35L5.41 20z\"/>\n",
       "  </svg>\n",
       "      </button>\n",
       "      \n",
       "  <style>\n",
       "    .colab-df-container {\n",
       "      display:flex;\n",
       "      flex-wrap:wrap;\n",
       "      gap: 12px;\n",
       "    }\n",
       "\n",
       "    .colab-df-convert {\n",
       "      background-color: #E8F0FE;\n",
       "      border: none;\n",
       "      border-radius: 50%;\n",
       "      cursor: pointer;\n",
       "      display: none;\n",
       "      fill: #1967D2;\n",
       "      height: 32px;\n",
       "      padding: 0 0 0 0;\n",
       "      width: 32px;\n",
       "    }\n",
       "\n",
       "    .colab-df-convert:hover {\n",
       "      background-color: #E2EBFA;\n",
       "      box-shadow: 0px 1px 2px rgba(60, 64, 67, 0.3), 0px 1px 3px 1px rgba(60, 64, 67, 0.15);\n",
       "      fill: #174EA6;\n",
       "    }\n",
       "\n",
       "    [theme=dark] .colab-df-convert {\n",
       "      background-color: #3B4455;\n",
       "      fill: #D2E3FC;\n",
       "    }\n",
       "\n",
       "    [theme=dark] .colab-df-convert:hover {\n",
       "      background-color: #434B5C;\n",
       "      box-shadow: 0px 1px 3px 1px rgba(0, 0, 0, 0.15);\n",
       "      filter: drop-shadow(0px 1px 2px rgba(0, 0, 0, 0.3));\n",
       "      fill: #FFFFFF;\n",
       "    }\n",
       "  </style>\n",
       "\n",
       "      <script>\n",
       "        const buttonEl =\n",
       "          document.querySelector('#df-ad540d52-e79f-4e95-afb3-377d20f16067 button.colab-df-convert');\n",
       "        buttonEl.style.display =\n",
       "          google.colab.kernel.accessAllowed ? 'block' : 'none';\n",
       "\n",
       "        async function convertToInteractive(key) {\n",
       "          const element = document.querySelector('#df-ad540d52-e79f-4e95-afb3-377d20f16067');\n",
       "          const dataTable =\n",
       "            await google.colab.kernel.invokeFunction('convertToInteractive',\n",
       "                                                     [key], {});\n",
       "          if (!dataTable) return;\n",
       "\n",
       "          const docLinkHtml = 'Like what you see? Visit the ' +\n",
       "            '<a target=\"_blank\" href=https://colab.research.google.com/notebooks/data_table.ipynb>data table notebook</a>'\n",
       "            + ' to learn more about interactive tables.';\n",
       "          element.innerHTML = '';\n",
       "          dataTable['output_type'] = 'display_data';\n",
       "          await google.colab.output.renderOutput(dataTable, element);\n",
       "          const docLink = document.createElement('div');\n",
       "          docLink.innerHTML = docLinkHtml;\n",
       "          element.appendChild(docLink);\n",
       "        }\n",
       "      </script>\n",
       "    </div>\n",
       "  </div>\n",
       "  "
      ],
      "text/plain": [
       "      resultado                                            mensaje\n",
       "0             0  Free entry in 2 a wkly comp to win FA Cup fina...\n",
       "1             0  FreeMsg Hey there darling it's been 3 week's n...\n",
       "2             1  As per your request 'Melle Melle (Oru Minnamin...\n",
       "3             0  WINNER!! As a valued network customer you have...\n",
       "4             0  Had your mobile 11 months or more? U R entitle...\n",
       "...         ...                                                ...\n",
       "1285          0  Had your contract mobile 11 Mnths? Latest Moto...\n",
       "1286          1  Yeh. Indians was nice. Tho it did kane me off ...\n",
       "1287          0  REMINDER FROM O2: To get 2.50 pounds free call...\n",
       "1288          0  This is the 2nd time we have tried 2 contact u...\n",
       "1289          1  The guy did some bitching but I acted like i'd...\n",
       "\n",
       "[1290 rows x 2 columns]"
      ]
     },
     "execution_count": 177,
     "metadata": {},
     "output_type": "execute_result"
    }
   ],
   "source": [
    "df"
   ]
  },
  {
   "cell_type": "code",
   "execution_count": null,
   "metadata": {
    "id": "dIQC1CfU7h9t"
   },
   "outputs": [],
   "source": [
    "# 4to paso: Vamos a crear dos variables que cargaran en memoria dos funciones para transformar el texto\n",
    "##\n",
    "##   - preprocessor: \"objeto\" que se encargará de transformar el texto en el formato que necesita el modelo BERT para funcionar\n",
    "##   - encoder: \"objeto\" que será el modelo BERT y se alimentará del resultado de preprocessor, retornando el texto transformado en un vector numérico.\n",
    "\n",
    "preprocessor = hub.load(\"https://tfhub.dev/tensorflow/bert_en_uncased_preprocess/3\")\n",
    "encoder = hub.load(\"https://tfhub.dev/tensorflow/small_bert/bert_en_uncased_L-2_H-128_A-2/2\")"
   ]
  },
  {
   "cell_type": "code",
   "execution_count": null,
   "metadata": {
    "id": "i97PWesb7h9u"
   },
   "outputs": [],
   "source": [
    "# 5to paso: Vamos a usar el objeto preprocessor, y guardamos su resultado en la variable embedding\n",
    "##   A modo de ejemplo para su revisión, solo vamos a transformar dos textos:\n",
    "\n",
    "embedding = preprocessor(df['mensaje']) # df['mensaje'] es el texto"
   ]
  },
  {
   "cell_type": "code",
   "execution_count": null,
   "metadata": {
    "id": "RNWAGk8H7h9u"
   },
   "outputs": [],
   "source": [
    "# 6to paso: Vamos a codificar el texto con el modelo BERT:\n",
    "##   - Fijarse que el objeto encoder recibe como argumento la variable embedding (resultado de preprocessor)\n",
    "##   - Copiar el siguiente código de forma literal\n",
    "\n",
    "pooled_output = encoder(embedding)[\"pooled_output\"]"
   ]
  },
  {
   "cell_type": "code",
   "execution_count": null,
   "metadata": {
    "colab": {
     "base_uri": "https://localhost:8080/"
    },
    "id": "NeP3SHUB7h9u",
    "outputId": "f2590e9f-1745-4d7d-fb66-ccc37b1fee4d"
   },
   "outputs": [
    {
     "data": {
      "text/plain": [
       "<tf.Tensor: shape=(1290, 128), dtype=float32, numpy=\n",
       "array([[-0.9999836 ,  0.01233948, -0.97867   , ...,  0.973742  ,\n",
       "         0.8694874 ,  0.92939764],\n",
       "       [-0.99979466,  0.05645132, -0.9942094 , ...,  0.8997836 ,\n",
       "         0.8589003 ,  0.99508   ],\n",
       "       [-0.99994373,  0.02813301, -0.9845494 , ...,  0.7336781 ,\n",
       "         0.9590306 ,  0.9695843 ],\n",
       "       ...,\n",
       "       [-0.9999937 ,  0.05234575, -0.9969019 , ...,  0.9701582 ,\n",
       "         0.9953039 ,  0.93751097],\n",
       "       [-0.9999974 ,  0.08623969, -0.9962204 , ...,  0.9832028 ,\n",
       "         0.6856057 ,  0.94771725],\n",
       "       [-0.9996448 ,  0.09184256, -0.9976637 , ...,  0.90646094,\n",
       "         0.9652779 ,  0.99890375]], dtype=float32)>"
      ]
     },
     "execution_count": 182,
     "metadata": {},
     "output_type": "execute_result"
    }
   ],
   "source": [
    "# Opcional: revisamos el contenido de la variable pooled_output, el cual tiene dos vectores de 128 dimensiones\n",
    "##\n",
    "##    - Dos vectores, porque le pasamos solo dos textos\n",
    "##    - 128 dimensiones, porque el modelo BERT utilizado convierte cualquier texto (independiente del largo) en un vector numérico de 128 dimensiones.\n",
    "\n",
    "pooled_output"
   ]
  },
  {
   "cell_type": "code",
   "execution_count": null,
   "metadata": {
    "id": "qRqRERen7h9u"
   },
   "outputs": [],
   "source": [
    "# 7mo paso: El contenido de la variable pooled_output es una estructura de datos de tipo tensorflow.\n",
    "#           Para transformarlo a un dataframe y usarlo de forma tradicional con los modelos clásicos, \n",
    "#           ejecutamos la siguiente linea de código:\n",
    "\n",
    "dataX2 = pd.DataFrame(pooled_output.numpy())"
   ]
  },
  {
   "cell_type": "code",
   "execution_count": null,
   "metadata": {
    "colab": {
     "base_uri": "https://localhost:8080/"
    },
    "id": "LZS8ulDi7h9u",
    "outputId": "4cb7745c-7338-4562-e901-d2ae0c765079"
   },
   "outputs": [
    {
     "data": {
      "text/plain": [
       "(1290, 128)"
      ]
     },
     "execution_count": 184,
     "metadata": {},
     "output_type": "execute_result"
    }
   ],
   "source": [
    "# Opcional:  Ahora la variable dataX es un dataframe y podemos revisar su dimensionalidad y visualizarlo:\n",
    "dataX2.shape"
   ]
  },
  {
   "cell_type": "code",
   "execution_count": null,
   "metadata": {
    "colab": {
     "base_uri": "https://localhost:8080/",
     "height": 424
    },
    "id": "Ysk9H8Nf7h9u",
    "outputId": "e4388245-7a3d-43c4-8dc6-b35654a87308"
   },
   "outputs": [
    {
     "data": {
      "text/html": [
       "\n",
       "  <div id=\"df-ffed6c38-edc4-4312-a04e-2136a9e09c15\">\n",
       "    <div class=\"colab-df-container\">\n",
       "      <div>\n",
       "<style scoped>\n",
       "    .dataframe tbody tr th:only-of-type {\n",
       "        vertical-align: middle;\n",
       "    }\n",
       "\n",
       "    .dataframe tbody tr th {\n",
       "        vertical-align: top;\n",
       "    }\n",
       "\n",
       "    .dataframe thead th {\n",
       "        text-align: right;\n",
       "    }\n",
       "</style>\n",
       "<table border=\"1\" class=\"dataframe\">\n",
       "  <thead>\n",
       "    <tr style=\"text-align: right;\">\n",
       "      <th></th>\n",
       "      <th>0</th>\n",
       "      <th>1</th>\n",
       "      <th>2</th>\n",
       "      <th>3</th>\n",
       "      <th>4</th>\n",
       "      <th>5</th>\n",
       "      <th>6</th>\n",
       "      <th>7</th>\n",
       "      <th>8</th>\n",
       "      <th>9</th>\n",
       "      <th>...</th>\n",
       "      <th>118</th>\n",
       "      <th>119</th>\n",
       "      <th>120</th>\n",
       "      <th>121</th>\n",
       "      <th>122</th>\n",
       "      <th>123</th>\n",
       "      <th>124</th>\n",
       "      <th>125</th>\n",
       "      <th>126</th>\n",
       "      <th>127</th>\n",
       "    </tr>\n",
       "  </thead>\n",
       "  <tbody>\n",
       "    <tr>\n",
       "      <th>0</th>\n",
       "      <td>-0.999984</td>\n",
       "      <td>0.012339</td>\n",
       "      <td>-0.978670</td>\n",
       "      <td>-0.390501</td>\n",
       "      <td>-0.916917</td>\n",
       "      <td>0.785426</td>\n",
       "      <td>-0.960855</td>\n",
       "      <td>-0.899993</td>\n",
       "      <td>-0.026774</td>\n",
       "      <td>0.006909</td>\n",
       "      <td>...</td>\n",
       "      <td>0.102973</td>\n",
       "      <td>-0.997656</td>\n",
       "      <td>0.131492</td>\n",
       "      <td>-0.999817</td>\n",
       "      <td>-0.885076</td>\n",
       "      <td>0.849013</td>\n",
       "      <td>-0.998878</td>\n",
       "      <td>0.973742</td>\n",
       "      <td>0.869487</td>\n",
       "      <td>0.929398</td>\n",
       "    </tr>\n",
       "    <tr>\n",
       "      <th>1</th>\n",
       "      <td>-0.999795</td>\n",
       "      <td>0.056451</td>\n",
       "      <td>-0.994209</td>\n",
       "      <td>0.063637</td>\n",
       "      <td>-0.976721</td>\n",
       "      <td>-0.259604</td>\n",
       "      <td>-0.996063</td>\n",
       "      <td>0.210839</td>\n",
       "      <td>0.120435</td>\n",
       "      <td>0.046410</td>\n",
       "      <td>...</td>\n",
       "      <td>0.136751</td>\n",
       "      <td>-0.518643</td>\n",
       "      <td>0.198305</td>\n",
       "      <td>-0.999841</td>\n",
       "      <td>-0.667421</td>\n",
       "      <td>0.978685</td>\n",
       "      <td>-0.995415</td>\n",
       "      <td>0.899784</td>\n",
       "      <td>0.858900</td>\n",
       "      <td>0.995080</td>\n",
       "    </tr>\n",
       "    <tr>\n",
       "      <th>2</th>\n",
       "      <td>-0.999944</td>\n",
       "      <td>0.028133</td>\n",
       "      <td>-0.984549</td>\n",
       "      <td>0.188969</td>\n",
       "      <td>-0.981058</td>\n",
       "      <td>-0.075677</td>\n",
       "      <td>-0.987081</td>\n",
       "      <td>-0.971607</td>\n",
       "      <td>-0.040403</td>\n",
       "      <td>-0.020766</td>\n",
       "      <td>...</td>\n",
       "      <td>0.121796</td>\n",
       "      <td>-0.987217</td>\n",
       "      <td>0.160352</td>\n",
       "      <td>-0.999855</td>\n",
       "      <td>-0.689945</td>\n",
       "      <td>0.858107</td>\n",
       "      <td>-0.990487</td>\n",
       "      <td>0.733678</td>\n",
       "      <td>0.959031</td>\n",
       "      <td>0.969584</td>\n",
       "    </tr>\n",
       "    <tr>\n",
       "      <th>3</th>\n",
       "      <td>-0.999998</td>\n",
       "      <td>0.087004</td>\n",
       "      <td>-0.998042</td>\n",
       "      <td>0.028922</td>\n",
       "      <td>-0.895981</td>\n",
       "      <td>0.884447</td>\n",
       "      <td>-0.944886</td>\n",
       "      <td>-0.877754</td>\n",
       "      <td>0.108473</td>\n",
       "      <td>0.004284</td>\n",
       "      <td>...</td>\n",
       "      <td>0.142328</td>\n",
       "      <td>-0.998706</td>\n",
       "      <td>0.098014</td>\n",
       "      <td>-0.999967</td>\n",
       "      <td>-0.565350</td>\n",
       "      <td>0.954452</td>\n",
       "      <td>-0.998851</td>\n",
       "      <td>0.997118</td>\n",
       "      <td>0.963491</td>\n",
       "      <td>0.777209</td>\n",
       "    </tr>\n",
       "    <tr>\n",
       "      <th>4</th>\n",
       "      <td>-0.999968</td>\n",
       "      <td>0.092309</td>\n",
       "      <td>-0.991751</td>\n",
       "      <td>-0.398493</td>\n",
       "      <td>-0.989488</td>\n",
       "      <td>0.908049</td>\n",
       "      <td>-0.992710</td>\n",
       "      <td>0.105460</td>\n",
       "      <td>0.048611</td>\n",
       "      <td>-0.012153</td>\n",
       "      <td>...</td>\n",
       "      <td>0.218415</td>\n",
       "      <td>-0.997700</td>\n",
       "      <td>0.167798</td>\n",
       "      <td>-0.999842</td>\n",
       "      <td>-0.863140</td>\n",
       "      <td>0.947459</td>\n",
       "      <td>-0.997234</td>\n",
       "      <td>0.991300</td>\n",
       "      <td>0.993118</td>\n",
       "      <td>0.958039</td>\n",
       "    </tr>\n",
       "    <tr>\n",
       "      <th>...</th>\n",
       "      <td>...</td>\n",
       "      <td>...</td>\n",
       "      <td>...</td>\n",
       "      <td>...</td>\n",
       "      <td>...</td>\n",
       "      <td>...</td>\n",
       "      <td>...</td>\n",
       "      <td>...</td>\n",
       "      <td>...</td>\n",
       "      <td>...</td>\n",
       "      <td>...</td>\n",
       "      <td>...</td>\n",
       "      <td>...</td>\n",
       "      <td>...</td>\n",
       "      <td>...</td>\n",
       "      <td>...</td>\n",
       "      <td>...</td>\n",
       "      <td>...</td>\n",
       "      <td>...</td>\n",
       "      <td>...</td>\n",
       "      <td>...</td>\n",
       "    </tr>\n",
       "    <tr>\n",
       "      <th>1285</th>\n",
       "      <td>-0.999991</td>\n",
       "      <td>0.060197</td>\n",
       "      <td>-0.999659</td>\n",
       "      <td>0.075845</td>\n",
       "      <td>-0.996350</td>\n",
       "      <td>0.716204</td>\n",
       "      <td>-0.992615</td>\n",
       "      <td>0.528149</td>\n",
       "      <td>0.107021</td>\n",
       "      <td>-0.010136</td>\n",
       "      <td>...</td>\n",
       "      <td>0.220872</td>\n",
       "      <td>-0.996582</td>\n",
       "      <td>0.114361</td>\n",
       "      <td>-0.999985</td>\n",
       "      <td>-0.912078</td>\n",
       "      <td>0.941813</td>\n",
       "      <td>-0.999059</td>\n",
       "      <td>0.975390</td>\n",
       "      <td>0.980778</td>\n",
       "      <td>0.920063</td>\n",
       "    </tr>\n",
       "    <tr>\n",
       "      <th>1286</th>\n",
       "      <td>-0.999953</td>\n",
       "      <td>0.030791</td>\n",
       "      <td>-0.999822</td>\n",
       "      <td>0.927945</td>\n",
       "      <td>-0.999750</td>\n",
       "      <td>-0.179566</td>\n",
       "      <td>-0.987749</td>\n",
       "      <td>0.726748</td>\n",
       "      <td>0.090772</td>\n",
       "      <td>0.035918</td>\n",
       "      <td>...</td>\n",
       "      <td>0.108623</td>\n",
       "      <td>-0.716046</td>\n",
       "      <td>0.121274</td>\n",
       "      <td>-0.999976</td>\n",
       "      <td>-0.861851</td>\n",
       "      <td>0.668276</td>\n",
       "      <td>-0.994187</td>\n",
       "      <td>0.888636</td>\n",
       "      <td>0.890242</td>\n",
       "      <td>0.972008</td>\n",
       "    </tr>\n",
       "    <tr>\n",
       "      <th>1287</th>\n",
       "      <td>-0.999994</td>\n",
       "      <td>0.052346</td>\n",
       "      <td>-0.996902</td>\n",
       "      <td>0.245643</td>\n",
       "      <td>-0.920715</td>\n",
       "      <td>0.041507</td>\n",
       "      <td>-0.978795</td>\n",
       "      <td>-0.972810</td>\n",
       "      <td>-0.000673</td>\n",
       "      <td>-0.063252</td>\n",
       "      <td>...</td>\n",
       "      <td>0.127478</td>\n",
       "      <td>-0.997758</td>\n",
       "      <td>0.113584</td>\n",
       "      <td>-0.999896</td>\n",
       "      <td>-0.482480</td>\n",
       "      <td>0.967473</td>\n",
       "      <td>-0.997917</td>\n",
       "      <td>0.970158</td>\n",
       "      <td>0.995304</td>\n",
       "      <td>0.937511</td>\n",
       "    </tr>\n",
       "    <tr>\n",
       "      <th>1288</th>\n",
       "      <td>-0.999997</td>\n",
       "      <td>0.086240</td>\n",
       "      <td>-0.996220</td>\n",
       "      <td>0.014216</td>\n",
       "      <td>-0.955859</td>\n",
       "      <td>0.794546</td>\n",
       "      <td>-0.974418</td>\n",
       "      <td>-0.943467</td>\n",
       "      <td>0.073484</td>\n",
       "      <td>0.030729</td>\n",
       "      <td>...</td>\n",
       "      <td>0.147318</td>\n",
       "      <td>-0.997681</td>\n",
       "      <td>0.099959</td>\n",
       "      <td>-0.999969</td>\n",
       "      <td>-0.603682</td>\n",
       "      <td>0.850176</td>\n",
       "      <td>-0.999193</td>\n",
       "      <td>0.983203</td>\n",
       "      <td>0.685606</td>\n",
       "      <td>0.947717</td>\n",
       "    </tr>\n",
       "    <tr>\n",
       "      <th>1289</th>\n",
       "      <td>-0.999645</td>\n",
       "      <td>0.091843</td>\n",
       "      <td>-0.997664</td>\n",
       "      <td>0.946096</td>\n",
       "      <td>-0.999344</td>\n",
       "      <td>0.163253</td>\n",
       "      <td>-0.999165</td>\n",
       "      <td>0.995323</td>\n",
       "      <td>0.138288</td>\n",
       "      <td>0.038712</td>\n",
       "      <td>...</td>\n",
       "      <td>0.211061</td>\n",
       "      <td>-0.527321</td>\n",
       "      <td>0.219368</td>\n",
       "      <td>-0.999742</td>\n",
       "      <td>-0.661678</td>\n",
       "      <td>0.841889</td>\n",
       "      <td>-0.998527</td>\n",
       "      <td>0.906461</td>\n",
       "      <td>0.965278</td>\n",
       "      <td>0.998904</td>\n",
       "    </tr>\n",
       "  </tbody>\n",
       "</table>\n",
       "<p>1290 rows × 128 columns</p>\n",
       "</div>\n",
       "      <button class=\"colab-df-convert\" onclick=\"convertToInteractive('df-ffed6c38-edc4-4312-a04e-2136a9e09c15')\"\n",
       "              title=\"Convert this dataframe to an interactive table.\"\n",
       "              style=\"display:none;\">\n",
       "        \n",
       "  <svg xmlns=\"http://www.w3.org/2000/svg\" height=\"24px\"viewBox=\"0 0 24 24\"\n",
       "       width=\"24px\">\n",
       "    <path d=\"M0 0h24v24H0V0z\" fill=\"none\"/>\n",
       "    <path d=\"M18.56 5.44l.94 2.06.94-2.06 2.06-.94-2.06-.94-.94-2.06-.94 2.06-2.06.94zm-11 1L8.5 8.5l.94-2.06 2.06-.94-2.06-.94L8.5 2.5l-.94 2.06-2.06.94zm10 10l.94 2.06.94-2.06 2.06-.94-2.06-.94-.94-2.06-.94 2.06-2.06.94z\"/><path d=\"M17.41 7.96l-1.37-1.37c-.4-.4-.92-.59-1.43-.59-.52 0-1.04.2-1.43.59L10.3 9.45l-7.72 7.72c-.78.78-.78 2.05 0 2.83L4 21.41c.39.39.9.59 1.41.59.51 0 1.02-.2 1.41-.59l7.78-7.78 2.81-2.81c.8-.78.8-2.07 0-2.86zM5.41 20L4 18.59l7.72-7.72 1.47 1.35L5.41 20z\"/>\n",
       "  </svg>\n",
       "      </button>\n",
       "      \n",
       "  <style>\n",
       "    .colab-df-container {\n",
       "      display:flex;\n",
       "      flex-wrap:wrap;\n",
       "      gap: 12px;\n",
       "    }\n",
       "\n",
       "    .colab-df-convert {\n",
       "      background-color: #E8F0FE;\n",
       "      border: none;\n",
       "      border-radius: 50%;\n",
       "      cursor: pointer;\n",
       "      display: none;\n",
       "      fill: #1967D2;\n",
       "      height: 32px;\n",
       "      padding: 0 0 0 0;\n",
       "      width: 32px;\n",
       "    }\n",
       "\n",
       "    .colab-df-convert:hover {\n",
       "      background-color: #E2EBFA;\n",
       "      box-shadow: 0px 1px 2px rgba(60, 64, 67, 0.3), 0px 1px 3px 1px rgba(60, 64, 67, 0.15);\n",
       "      fill: #174EA6;\n",
       "    }\n",
       "\n",
       "    [theme=dark] .colab-df-convert {\n",
       "      background-color: #3B4455;\n",
       "      fill: #D2E3FC;\n",
       "    }\n",
       "\n",
       "    [theme=dark] .colab-df-convert:hover {\n",
       "      background-color: #434B5C;\n",
       "      box-shadow: 0px 1px 3px 1px rgba(0, 0, 0, 0.15);\n",
       "      filter: drop-shadow(0px 1px 2px rgba(0, 0, 0, 0.3));\n",
       "      fill: #FFFFFF;\n",
       "    }\n",
       "  </style>\n",
       "\n",
       "      <script>\n",
       "        const buttonEl =\n",
       "          document.querySelector('#df-ffed6c38-edc4-4312-a04e-2136a9e09c15 button.colab-df-convert');\n",
       "        buttonEl.style.display =\n",
       "          google.colab.kernel.accessAllowed ? 'block' : 'none';\n",
       "\n",
       "        async function convertToInteractive(key) {\n",
       "          const element = document.querySelector('#df-ffed6c38-edc4-4312-a04e-2136a9e09c15');\n",
       "          const dataTable =\n",
       "            await google.colab.kernel.invokeFunction('convertToInteractive',\n",
       "                                                     [key], {});\n",
       "          if (!dataTable) return;\n",
       "\n",
       "          const docLinkHtml = 'Like what you see? Visit the ' +\n",
       "            '<a target=\"_blank\" href=https://colab.research.google.com/notebooks/data_table.ipynb>data table notebook</a>'\n",
       "            + ' to learn more about interactive tables.';\n",
       "          element.innerHTML = '';\n",
       "          dataTable['output_type'] = 'display_data';\n",
       "          await google.colab.output.renderOutput(dataTable, element);\n",
       "          const docLink = document.createElement('div');\n",
       "          docLink.innerHTML = docLinkHtml;\n",
       "          element.appendChild(docLink);\n",
       "        }\n",
       "      </script>\n",
       "    </div>\n",
       "  </div>\n",
       "  "
      ],
      "text/plain": [
       "           0         1         2         3         4         5         6    \\\n",
       "0    -0.999984  0.012339 -0.978670 -0.390501 -0.916917  0.785426 -0.960855   \n",
       "1    -0.999795  0.056451 -0.994209  0.063637 -0.976721 -0.259604 -0.996063   \n",
       "2    -0.999944  0.028133 -0.984549  0.188969 -0.981058 -0.075677 -0.987081   \n",
       "3    -0.999998  0.087004 -0.998042  0.028922 -0.895981  0.884447 -0.944886   \n",
       "4    -0.999968  0.092309 -0.991751 -0.398493 -0.989488  0.908049 -0.992710   \n",
       "...        ...       ...       ...       ...       ...       ...       ...   \n",
       "1285 -0.999991  0.060197 -0.999659  0.075845 -0.996350  0.716204 -0.992615   \n",
       "1286 -0.999953  0.030791 -0.999822  0.927945 -0.999750 -0.179566 -0.987749   \n",
       "1287 -0.999994  0.052346 -0.996902  0.245643 -0.920715  0.041507 -0.978795   \n",
       "1288 -0.999997  0.086240 -0.996220  0.014216 -0.955859  0.794546 -0.974418   \n",
       "1289 -0.999645  0.091843 -0.997664  0.946096 -0.999344  0.163253 -0.999165   \n",
       "\n",
       "           7         8         9    ...       118       119       120  \\\n",
       "0    -0.899993 -0.026774  0.006909  ...  0.102973 -0.997656  0.131492   \n",
       "1     0.210839  0.120435  0.046410  ...  0.136751 -0.518643  0.198305   \n",
       "2    -0.971607 -0.040403 -0.020766  ...  0.121796 -0.987217  0.160352   \n",
       "3    -0.877754  0.108473  0.004284  ...  0.142328 -0.998706  0.098014   \n",
       "4     0.105460  0.048611 -0.012153  ...  0.218415 -0.997700  0.167798   \n",
       "...        ...       ...       ...  ...       ...       ...       ...   \n",
       "1285  0.528149  0.107021 -0.010136  ...  0.220872 -0.996582  0.114361   \n",
       "1286  0.726748  0.090772  0.035918  ...  0.108623 -0.716046  0.121274   \n",
       "1287 -0.972810 -0.000673 -0.063252  ...  0.127478 -0.997758  0.113584   \n",
       "1288 -0.943467  0.073484  0.030729  ...  0.147318 -0.997681  0.099959   \n",
       "1289  0.995323  0.138288  0.038712  ...  0.211061 -0.527321  0.219368   \n",
       "\n",
       "           121       122       123       124       125       126       127  \n",
       "0    -0.999817 -0.885076  0.849013 -0.998878  0.973742  0.869487  0.929398  \n",
       "1    -0.999841 -0.667421  0.978685 -0.995415  0.899784  0.858900  0.995080  \n",
       "2    -0.999855 -0.689945  0.858107 -0.990487  0.733678  0.959031  0.969584  \n",
       "3    -0.999967 -0.565350  0.954452 -0.998851  0.997118  0.963491  0.777209  \n",
       "4    -0.999842 -0.863140  0.947459 -0.997234  0.991300  0.993118  0.958039  \n",
       "...        ...       ...       ...       ...       ...       ...       ...  \n",
       "1285 -0.999985 -0.912078  0.941813 -0.999059  0.975390  0.980778  0.920063  \n",
       "1286 -0.999976 -0.861851  0.668276 -0.994187  0.888636  0.890242  0.972008  \n",
       "1287 -0.999896 -0.482480  0.967473 -0.997917  0.970158  0.995304  0.937511  \n",
       "1288 -0.999969 -0.603682  0.850176 -0.999193  0.983203  0.685606  0.947717  \n",
       "1289 -0.999742 -0.661678  0.841889 -0.998527  0.906461  0.965278  0.998904  \n",
       "\n",
       "[1290 rows x 128 columns]"
      ]
     },
     "execution_count": 185,
     "metadata": {},
     "output_type": "execute_result"
    }
   ],
   "source": [
    "dataX2"
   ]
  },
  {
   "cell_type": "markdown",
   "metadata": {
    "id": "CvmDKvOr7h9u"
   },
   "source": [
    "#seleccion de las variable"
   ]
  },
  {
   "cell_type": "code",
   "execution_count": null,
   "metadata": {
    "id": "Cep31CS_7h9u"
   },
   "outputs": [],
   "source": [
    "X = dataX2 \n",
    "Y = df['resultado'].copy()"
   ]
  },
  {
   "cell_type": "code",
   "execution_count": null,
   "metadata": {
    "colab": {
     "base_uri": "https://localhost:8080/"
    },
    "id": "yt_i_a9D7h9u",
    "outputId": "e0d6ef75-b0bd-4d33-f7b8-a064813e6e35"
   },
   "outputs": [
    {
     "data": {
      "text/plain": [
       "RangeIndex(start=0, stop=128, step=1)"
      ]
     },
     "execution_count": 187,
     "metadata": {},
     "output_type": "execute_result"
    }
   ],
   "source": [
    "X.columns"
   ]
  },
  {
   "cell_type": "code",
   "execution_count": null,
   "metadata": {
    "colab": {
     "base_uri": "https://localhost:8080/"
    },
    "id": "N6hmIrgd7h9v",
    "outputId": "c28e93bb-07ac-4c31-e341-38a715971430"
   },
   "outputs": [
    {
     "name": "stdout",
     "output_type": "stream",
     "text": [
      "<class 'pandas.core.frame.DataFrame'>\n",
      "RangeIndex: 1290 entries, 0 to 1289\n",
      "Columns: 128 entries, 0 to 127\n",
      "dtypes: float32(128)\n",
      "memory usage: 645.1 KB\n"
     ]
    }
   ],
   "source": [
    "X.info()"
   ]
  },
  {
   "cell_type": "code",
   "execution_count": null,
   "metadata": {
    "colab": {
     "base_uri": "https://localhost:8080/"
    },
    "id": "eO2w7dXT7h9v",
    "outputId": "5b889e89-3100-44d8-fa89-7e1d24929160"
   },
   "outputs": [
    {
     "data": {
      "text/plain": [
       "0    0\n",
       "1    0\n",
       "2    1\n",
       "3    0\n",
       "4    0\n",
       "Name: resultado, dtype: int64"
      ]
     },
     "execution_count": 189,
     "metadata": {},
     "output_type": "execute_result"
    }
   ],
   "source": [
    "Y.head()"
   ]
  },
  {
   "cell_type": "markdown",
   "metadata": {
    "id": "F8klIRF07h9v"
   },
   "source": [
    "# Balanceo de datos"
   ]
  },
  {
   "cell_type": "markdown",
   "metadata": {
    "id": "ZBybzqn97h9v"
   },
   "source": [
    "## Aplicando Smote"
   ]
  },
  {
   "cell_type": "code",
   "execution_count": null,
   "metadata": {
    "colab": {
     "base_uri": "https://localhost:8080/"
    },
    "id": "FSX3cOte7h9v",
    "outputId": "fa4e1041-de37-4adc-95e7-2c34498b0f65"
   },
   "outputs": [
    {
     "data": {
      "text/plain": [
       "Counter({0: 668, 1: 668})"
      ]
     },
     "execution_count": 190,
     "metadata": {},
     "output_type": "execute_result"
    }
   ],
   "source": [
    "from imblearn.over_sampling import SMOTE #over sobre nivelar hacia arriba under nivelacion hacia el menor dato\n",
    "#from imblearn.under_sampling import SMOTE \n",
    "\n",
    "smote = SMOTE(random_state = 325, n_jobs=-1)\n",
    "X_smote, Y_smote = smote.fit_resample(X, Y)# hace Balance de los datos a partir de los agreglos\n",
    "\n",
    "from collections import Counter\n",
    "\n",
    "Counter(Y_smote)"
   ]
  },
  {
   "cell_type": "markdown",
   "metadata": {
    "id": "sPOg7j8O7h9v"
   },
   "source": [
    "# Train y test"
   ]
  },
  {
   "cell_type": "code",
   "execution_count": null,
   "metadata": {
    "id": "iw1VQ9Mm7h9v"
   },
   "outputs": [],
   "source": [
    "from sklearn.model_selection import train_test_split\n",
    "X_train_smote, X_test_smote, Y_train_smote, Y_test_smote = train_test_split(X_smote, Y_smote, random_state=325,test_size = 0.3)\n",
    "        \n",
    "X_train, X_test, Y_train, Y_test = train_test_split(X, Y, random_state=325,test_size = 0.3)        "
   ]
  },
  {
   "cell_type": "markdown",
   "metadata": {
    "id": "1h7NGZZz7h9v"
   },
   "source": [
    "# SVM\n"
   ]
  },
  {
   "cell_type": "markdown",
   "metadata": {
    "id": "fj5vZ17i7h9v"
   },
   "source": [
    "##SVC "
   ]
  },
  {
   "cell_type": "markdown",
   "metadata": {
    "id": "33rM6IP47h9v"
   },
   "source": [
    "### Caso 1"
   ]
  },
  {
   "cell_type": "code",
   "execution_count": null,
   "metadata": {
    "id": "vF6EsF8C7h9v"
   },
   "outputs": [],
   "source": [
    "parametros = {'C'      : np.arange(1, 5, 1),\n",
    "            'gamma'  : np.arange(1, 5, 1),\n",
    "           'kernel' : ['rbf', 'linear','sigmoid']}\n",
    "\n",
    "from sklearn.svm import SVC\n",
    "from sklearn.model_selection import GridSearchCV\n",
    "\n",
    "clf = SVC(class_weight='balanced', random_state=325)  \n",
    "grid_search = GridSearchCV(clf, parametros, n_jobs=-1, cv=5) "
   ]
  },
  {
   "cell_type": "code",
   "execution_count": null,
   "metadata": {
    "colab": {
     "base_uri": "https://localhost:8080/"
    },
    "id": "gT0i8rFC7h9w",
    "outputId": "ef5a1cf1-cd2e-4490-d36f-affe6c0e0011"
   },
   "outputs": [
    {
     "data": {
      "text/plain": [
       "GridSearchCV(cv=5, estimator=SVC(class_weight='balanced', random_state=325),\n",
       "             n_jobs=-1,\n",
       "             param_grid={'C': array([1, 2, 3, 4]), 'gamma': array([1, 2, 3, 4]),\n",
       "                         'kernel': ['rbf', 'linear', 'sigmoid']})"
      ]
     },
     "execution_count": 193,
     "metadata": {},
     "output_type": "execute_result"
    }
   ],
   "source": [
    "grid_search.fit(X_train_smote, Y_train_smote)"
   ]
  },
  {
   "cell_type": "code",
   "execution_count": null,
   "metadata": {
    "colab": {
     "base_uri": "https://localhost:8080/"
    },
    "id": "OJMK-ZJS7h9w",
    "outputId": "b64f5110-0cab-4f71-a334-0cf068e6f432"
   },
   "outputs": [
    {
     "name": "stdout",
     "output_type": "stream",
     "text": [
      "El mejor modelo:\n",
      " {'C': 1, 'gamma': 1, 'kernel': 'linear'}\n"
     ]
    }
   ],
   "source": [
    "print('El mejor modelo:\\n', grid_search.best_params_)"
   ]
  },
  {
   "cell_type": "code",
   "execution_count": null,
   "metadata": {
    "id": "adMoHplV7h9w"
   },
   "outputs": [],
   "source": [
    "clf_best = grid_search.best_estimator_\n",
    "pred = clf_best.predict(X_test_smote)"
   ]
  },
  {
   "cell_type": "code",
   "execution_count": null,
   "metadata": {
    "colab": {
     "base_uri": "https://localhost:8080/"
    },
    "id": "TncoOjTy7h9w",
    "outputId": "bfd31cc5-2608-4fbe-a894-f58d5e7a9237"
   },
   "outputs": [
    {
     "name": "stdout",
     "output_type": "stream",
     "text": [
      "              precision    recall  f1-score   support\n",
      "\n",
      "           0       0.96      0.96      0.96       212\n",
      "           1       0.96      0.95      0.95       189\n",
      "\n",
      "    accuracy                           0.96       401\n",
      "   macro avg       0.96      0.96      0.96       401\n",
      "weighted avg       0.96      0.96      0.96       401\n",
      "\n"
     ]
    }
   ],
   "source": [
    "from sklearn.metrics import classification_report\n",
    "print(classification_report(Y_test_smote, pred))"
   ]
  },
  {
   "cell_type": "code",
   "execution_count": null,
   "metadata": {
    "colab": {
     "base_uri": "https://localhost:8080/",
     "height": 347
    },
    "id": "fT6weX557h9w",
    "outputId": "58392d7e-aca3-40ef-d783-cedf40494b0b"
   },
   "outputs": [
    {
     "name": "stdout",
     "output_type": "stream",
     "text": [
      "Matriz de Confusión\n",
      "[[204   8]\n",
      " [  9 180]]\n"
     ]
    },
    {
     "data": {
      "image/png": "[encoded data removed]",
      "text/plain": [
       "<Figure size 432x288 with 2 Axes>"
      ]
     },
     "metadata": {
      "needs_background": "light"
     },
     "output_type": "display_data"
    }
   ],
   "source": [
    "from sklearn.metrics import ConfusionMatrixDisplay\n",
    "\n",
    "\n",
    "disp = ConfusionMatrixDisplay.from_estimator(\n",
    "       clf_best,\n",
    "       X_test_smote,\n",
    "       Y_test_smote,\n",
    "       display_labels=None,\n",
    "       cmap=plt.cm.Blues,\n",
    "       normalize=None)\n",
    "\n",
    "disp.ax_.set_title('Matriz de Confusión')\n",
    "disp.ax_.set_xlabel('Predicción');\n",
    "disp.ax_.set_ylabel('Realidad'); \n",
    "disp.ax_.xaxis.set_ticklabels(['0', '1']); \n",
    "disp.ax_.yaxis.set_ticklabels(['0', '1']);\n",
    "\n",
    "print('Matriz de Confusión')\n",
    "print(disp.confusion_matrix)\n",
    "\n",
    "plt.show()"
   ]
  },
  {
   "cell_type": "markdown",
   "metadata": {
    "id": "GtZRs-UI7h9w"
   },
   "source": [
    "## Nusvm"
   ]
  },
  {
   "cell_type": "markdown",
   "metadata": {
    "id": "Rid-2NC17h9w"
   },
   "source": [
    "### Caso 1"
   ]
  },
  {
   "cell_type": "code",
   "execution_count": null,
   "metadata": {
    "id": "80z6S8sq7h9w"
   },
   "outputs": [],
   "source": [
    "parametros = {'nu'      : np.arange(0, 1, 0.1),\n",
    "            'gamma'  : ['scale','auto'],\n",
    "           'kernel' : ['rbf', 'linear','sigmoid']}\n",
    "\n",
    "from sklearn.svm import NuSVC\n",
    "from sklearn.model_selection import GridSearchCV\n",
    "\n",
    "clf = NuSVC(class_weight='balanced', random_state=325)  \n",
    "grid_search = GridSearchCV(clf, parametros, n_jobs=-1, cv=5) "
   ]
  },
  {
   "cell_type": "code",
   "execution_count": null,
   "metadata": {
    "colab": {
     "base_uri": "https://localhost:8080/"
    },
    "id": "kekqB54y7h9w",
    "outputId": "46847fc2-d800-4d7e-da7c-70a26216ef3f"
   },
   "outputs": [
    {
     "data": {
      "text/plain": [
       "GridSearchCV(cv=5, estimator=NuSVC(class_weight='balanced', random_state=325),\n",
       "             n_jobs=-1,\n",
       "             param_grid={'gamma': ['scale', 'auto'],\n",
       "                         'kernel': ['rbf', 'linear', 'sigmoid'],\n",
       "                         'nu': array([0. , 0.1, 0.2, 0.3, 0.4, 0.5, 0.6, 0.7, 0.8, 0.9])})"
      ]
     },
     "execution_count": 199,
     "metadata": {},
     "output_type": "execute_result"
    }
   ],
   "source": [
    "grid_search.fit(X_train_smote, Y_train_smote)"
   ]
  },
  {
   "cell_type": "code",
   "execution_count": null,
   "metadata": {
    "colab": {
     "base_uri": "https://localhost:8080/"
    },
    "id": "Q4vakTqF7h9w",
    "outputId": "2bf32955-3beb-4108-f88a-5372edd8c5fe"
   },
   "outputs": [
    {
     "name": "stdout",
     "output_type": "stream",
     "text": [
      "El mejor modelo:\n",
      " {'gamma': 'auto', 'kernel': 'rbf', 'nu': 0.1}\n"
     ]
    }
   ],
   "source": [
    "print('El mejor modelo:\\n', grid_search.best_params_)"
   ]
  },
  {
   "cell_type": "code",
   "execution_count": null,
   "metadata": {
    "id": "NuciTwZ07h9x"
   },
   "outputs": [],
   "source": [
    "clf_best = grid_search.best_estimator_\n",
    "pred = clf_best.predict(X_test_smote)"
   ]
  },
  {
   "cell_type": "code",
   "execution_count": null,
   "metadata": {
    "colab": {
     "base_uri": "https://localhost:8080/"
    },
    "id": "WO69ZtT87h9x",
    "outputId": "0f517516-fa21-4958-8bf9-be9310c7b54b"
   },
   "outputs": [
    {
     "name": "stdout",
     "output_type": "stream",
     "text": [
      "              precision    recall  f1-score   support\n",
      "\n",
      "           0       0.97      0.94      0.95       212\n",
      "           1       0.93      0.97      0.95       189\n",
      "\n",
      "    accuracy                           0.95       401\n",
      "   macro avg       0.95      0.95      0.95       401\n",
      "weighted avg       0.95      0.95      0.95       401\n",
      "\n"
     ]
    }
   ],
   "source": [
    "from sklearn.metrics import classification_report\n",
    "\n",
    "print(classification_report(Y_test_smote, pred))"
   ]
  },
  {
   "cell_type": "code",
   "execution_count": null,
   "metadata": {
    "colab": {
     "base_uri": "https://localhost:8080/",
     "height": 347
    },
    "id": "NS0BevV27h9x",
    "outputId": "8d9549ad-a4b4-4c70-e347-f5489db63bf2"
   },
   "outputs": [
    {
     "name": "stdout",
     "output_type": "stream",
     "text": [
      "Matriz de Confusión\n",
      "[[199  13]\n",
      " [  6 183]]\n"
     ]
    },
    {
     "data": {
      "image/png": "[encoded data removed]",
      "text/plain": [
       "<Figure size 432x288 with 2 Axes>"
      ]
     },
     "metadata": {
      "needs_background": "light"
     },
     "output_type": "display_data"
    }
   ],
   "source": [
    "from sklearn.metrics import ConfusionMatrixDisplay\n",
    "\n",
    "\n",
    "disp = ConfusionMatrixDisplay.from_estimator(\n",
    "       clf_best,\n",
    "       X_test_smote,\n",
    "       Y_test_smote,\n",
    "       display_labels=None,\n",
    "       cmap=plt.cm.Blues,\n",
    "       normalize=None)\n",
    "\n",
    "disp.ax_.set_title('Matriz de Confusión')\n",
    "disp.ax_.set_xlabel('Predicción');\n",
    "disp.ax_.set_ylabel('Realidad'); \n",
    "disp.ax_.xaxis.set_ticklabels(['0', '1']); \n",
    "disp.ax_.yaxis.set_ticklabels(['0', '1']);\n",
    "\n",
    "print('Matriz de Confusión')\n",
    "print(disp.confusion_matrix)\n",
    "\n",
    "plt.show()"
   ]
  }
 ],
 "metadata": {
  "colab": {
   "collapsed_sections": [],
   "name": "avance ML  Metodos de deteccion de spam  svm.ipynb",
   "provenance": []
  },
  "kernelspec": {
   "display_name": "Python 3 (ipykernel)",
   "language": "python",
   "name": "python3"
  },
  "language_info": {
   "codemirror_mode": {
    "name": "ipython",
    "version": 3
   },
   "file_extension": ".py",
   "mimetype": "text/x-python",
   "name": "python",
   "nbconvert_exporter": "python",
   "pygments_lexer": "ipython3",
   "version": "3.10.4"
  }
 },
 "nbformat": 4,
 "nbformat_minor": 4
}
