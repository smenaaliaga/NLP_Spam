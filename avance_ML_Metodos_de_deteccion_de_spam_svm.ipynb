{
 "cells": [
  {
   "cell_type": "markdown",
   "metadata": {
    "id": "8MKeNpfCmADw"
   },
   "source": [
    "# Instalar Tensorflow"
   ]
  },
  {
   "cell_type": "code",
   "execution_count": null,
   "metadata": {
    "colab": {
     "base_uri": "https://localhost:8080/"
    },
    "id": "3O9w-Sp_eltU",
    "outputId": "27ec8b79-aa5b-4784-ab1e-e1f29019c6dd"
   },
   "outputs": [
    {
     "name": "stdout",
     "output_type": "stream",
     "text": [
      "Looking in indexes: https://pypi.org/simple, https://us-python.pkg.dev/colab-wheels/public/simple/\n",
      "Collecting tensorflow_text\n",
      "  Downloading tensorflow_text-2.9.0-cp37-cp37m-manylinux_2_17_x86_64.manylinux2014_x86_64.whl (4.6 MB)\n",
      "\u001b[K     |████████████████████████████████| 4.6 MB 41.4 MB/s \n",
      "\u001b[?25hRequirement already satisfied: tensorflow-hub>=0.8.0 in /usr/local/lib/python3.7/dist-packages (from tensorflow_text) (0.12.0)\n",
      "Collecting tensorflow<2.10,>=2.9.0\n",
      "  Downloading tensorflow-2.9.1-cp37-cp37m-manylinux_2_17_x86_64.manylinux2014_x86_64.whl (511.7 MB)\n",
      "\u001b[K     |████████████████████████████████| 511.7 MB 7.0 kB/s \n",
      "\u001b[?25hCollecting tensorboard<2.10,>=2.9\n",
      "  Downloading tensorboard-2.9.1-py3-none-any.whl (5.8 MB)\n",
      "\u001b[K     |████████████████████████████████| 5.8 MB 65.9 MB/s \n",
      "\u001b[?25hRequirement already satisfied: typing-extensions>=3.6.6 in /usr/local/lib/python3.7/dist-packages (from tensorflow<2.10,>=2.9.0->tensorflow_text) (4.1.1)\n",
      "Requirement already satisfied: six>=1.12.0 in /usr/local/lib/python3.7/dist-packages (from tensorflow<2.10,>=2.9.0->tensorflow_text) (1.15.0)\n",
      "Requirement already satisfied: packaging in /usr/local/lib/python3.7/dist-packages (from tensorflow<2.10,>=2.9.0->tensorflow_text) (21.3)\n",
      "Requirement already satisfied: tensorflow-io-gcs-filesystem>=0.23.1 in /usr/local/lib/python3.7/dist-packages (from tensorflow<2.10,>=2.9.0->tensorflow_text) (0.26.0)\n",
      "Collecting flatbuffers<2,>=1.12\n",
      "  Downloading flatbuffers-1.12-py2.py3-none-any.whl (15 kB)\n",
      "Requirement already satisfied: grpcio<2.0,>=1.24.3 in /usr/local/lib/python3.7/dist-packages (from tensorflow<2.10,>=2.9.0->tensorflow_text) (1.47.0)\n",
      "Requirement already satisfied: opt-einsum>=2.3.2 in /usr/local/lib/python3.7/dist-packages (from tensorflow<2.10,>=2.9.0->tensorflow_text) (3.3.0)\n",
      "Requirement already satisfied: astunparse>=1.6.0 in /usr/local/lib/python3.7/dist-packages (from tensorflow<2.10,>=2.9.0->tensorflow_text) (1.6.3)\n",
      "Collecting gast<=0.4.0,>=0.2.1\n",
      "  Downloading gast-0.4.0-py3-none-any.whl (9.8 kB)\n",
      "Requirement already satisfied: termcolor>=1.1.0 in /usr/local/lib/python3.7/dist-packages (from tensorflow<2.10,>=2.9.0->tensorflow_text) (1.1.0)\n",
      "Requirement already satisfied: google-pasta>=0.1.1 in /usr/local/lib/python3.7/dist-packages (from tensorflow<2.10,>=2.9.0->tensorflow_text) (0.2.0)\n",
      "Requirement already satisfied: h5py>=2.9.0 in /usr/local/lib/python3.7/dist-packages (from tensorflow<2.10,>=2.9.0->tensorflow_text) (3.1.0)\n",
      "Collecting keras<2.10.0,>=2.9.0rc0\n",
      "  Downloading keras-2.9.0-py2.py3-none-any.whl (1.6 MB)\n",
      "\u001b[K     |████████████████████████████████| 1.6 MB 66.3 MB/s \n",
      "\u001b[?25hRequirement already satisfied: protobuf<3.20,>=3.9.2 in /usr/local/lib/python3.7/dist-packages (from tensorflow<2.10,>=2.9.0->tensorflow_text) (3.17.3)\n",
      "Requirement already satisfied: keras-preprocessing>=1.1.1 in /usr/local/lib/python3.7/dist-packages (from tensorflow<2.10,>=2.9.0->tensorflow_text) (1.1.2)\n",
      "Requirement already satisfied: absl-py>=1.0.0 in /usr/local/lib/python3.7/dist-packages (from tensorflow<2.10,>=2.9.0->tensorflow_text) (1.2.0)\n",
      "Requirement already satisfied: libclang>=13.0.0 in /usr/local/lib/python3.7/dist-packages (from tensorflow<2.10,>=2.9.0->tensorflow_text) (14.0.6)\n",
      "Collecting tensorflow-estimator<2.10.0,>=2.9.0rc0\n",
      "  Downloading tensorflow_estimator-2.9.0-py2.py3-none-any.whl (438 kB)\n",
      "\u001b[K     |████████████████████████████████| 438 kB 61.4 MB/s \n",
      "\u001b[?25hRequirement already satisfied: numpy>=1.20 in /usr/local/lib/python3.7/dist-packages (from tensorflow<2.10,>=2.9.0->tensorflow_text) (1.21.6)\n",
      "Requirement already satisfied: wrapt>=1.11.0 in /usr/local/lib/python3.7/dist-packages (from tensorflow<2.10,>=2.9.0->tensorflow_text) (1.14.1)\n",
      "Requirement already satisfied: setuptools in /usr/local/lib/python3.7/dist-packages (from tensorflow<2.10,>=2.9.0->tensorflow_text) (57.4.0)\n",
      "Requirement already satisfied: wheel<1.0,>=0.23.0 in /usr/local/lib/python3.7/dist-packages (from astunparse>=1.6.0->tensorflow<2.10,>=2.9.0->tensorflow_text) (0.37.1)\n",
      "Requirement already satisfied: cached-property in /usr/local/lib/python3.7/dist-packages (from h5py>=2.9.0->tensorflow<2.10,>=2.9.0->tensorflow_text) (1.5.2)\n",
      "Requirement already satisfied: markdown>=2.6.8 in /usr/local/lib/python3.7/dist-packages (from tensorboard<2.10,>=2.9->tensorflow<2.10,>=2.9.0->tensorflow_text) (3.4.1)\n",
      "Requirement already satisfied: tensorboard-plugin-wit>=1.6.0 in /usr/local/lib/python3.7/dist-packages (from tensorboard<2.10,>=2.9->tensorflow<2.10,>=2.9.0->tensorflow_text) (1.8.1)\n",
      "Requirement already satisfied: requests<3,>=2.21.0 in /usr/local/lib/python3.7/dist-packages (from tensorboard<2.10,>=2.9->tensorflow<2.10,>=2.9.0->tensorflow_text) (2.23.0)\n",
      "Requirement already satisfied: google-auth<3,>=1.6.3 in /usr/local/lib/python3.7/dist-packages (from tensorboard<2.10,>=2.9->tensorflow<2.10,>=2.9.0->tensorflow_text) (1.35.0)\n",
      "Requirement already satisfied: tensorboard-data-server<0.7.0,>=0.6.0 in /usr/local/lib/python3.7/dist-packages (from tensorboard<2.10,>=2.9->tensorflow<2.10,>=2.9.0->tensorflow_text) (0.6.1)\n",
      "Requirement already satisfied: werkzeug>=1.0.1 in /usr/local/lib/python3.7/dist-packages (from tensorboard<2.10,>=2.9->tensorflow<2.10,>=2.9.0->tensorflow_text) (1.0.1)\n",
      "Requirement already satisfied: google-auth-oauthlib<0.5,>=0.4.1 in /usr/local/lib/python3.7/dist-packages (from tensorboard<2.10,>=2.9->tensorflow<2.10,>=2.9.0->tensorflow_text) (0.4.6)\n",
      "Requirement already satisfied: cachetools<5.0,>=2.0.0 in /usr/local/lib/python3.7/dist-packages (from google-auth<3,>=1.6.3->tensorboard<2.10,>=2.9->tensorflow<2.10,>=2.9.0->tensorflow_text) (4.2.4)\n",
      "Requirement already satisfied: rsa<5,>=3.1.4 in /usr/local/lib/python3.7/dist-packages (from google-auth<3,>=1.6.3->tensorboard<2.10,>=2.9->tensorflow<2.10,>=2.9.0->tensorflow_text) (4.9)\n",
      "Requirement already satisfied: pyasn1-modules>=0.2.1 in /usr/local/lib/python3.7/dist-packages (from google-auth<3,>=1.6.3->tensorboard<2.10,>=2.9->tensorflow<2.10,>=2.9.0->tensorflow_text) (0.2.8)\n",
      "Requirement already satisfied: requests-oauthlib>=0.7.0 in /usr/local/lib/python3.7/dist-packages (from google-auth-oauthlib<0.5,>=0.4.1->tensorboard<2.10,>=2.9->tensorflow<2.10,>=2.9.0->tensorflow_text) (1.3.1)\n",
      "Requirement already satisfied: importlib-metadata>=4.4 in /usr/local/lib/python3.7/dist-packages (from markdown>=2.6.8->tensorboard<2.10,>=2.9->tensorflow<2.10,>=2.9.0->tensorflow_text) (4.12.0)\n",
      "Requirement already satisfied: zipp>=0.5 in /usr/local/lib/python3.7/dist-packages (from importlib-metadata>=4.4->markdown>=2.6.8->tensorboard<2.10,>=2.9->tensorflow<2.10,>=2.9.0->tensorflow_text) (3.8.1)\n",
      "Requirement already satisfied: pyasn1<0.5.0,>=0.4.6 in /usr/local/lib/python3.7/dist-packages (from pyasn1-modules>=0.2.1->google-auth<3,>=1.6.3->tensorboard<2.10,>=2.9->tensorflow<2.10,>=2.9.0->tensorflow_text) (0.4.8)\n",
      "Requirement already satisfied: idna<3,>=2.5 in /usr/local/lib/python3.7/dist-packages (from requests<3,>=2.21.0->tensorboard<2.10,>=2.9->tensorflow<2.10,>=2.9.0->tensorflow_text) (2.10)\n",
      "Requirement already satisfied: urllib3!=1.25.0,!=1.25.1,<1.26,>=1.21.1 in /usr/local/lib/python3.7/dist-packages (from requests<3,>=2.21.0->tensorboard<2.10,>=2.9->tensorflow<2.10,>=2.9.0->tensorflow_text) (1.24.3)\n",
      "Requirement already satisfied: chardet<4,>=3.0.2 in /usr/local/lib/python3.7/dist-packages (from requests<3,>=2.21.0->tensorboard<2.10,>=2.9->tensorflow<2.10,>=2.9.0->tensorflow_text) (3.0.4)\n",
      "Requirement already satisfied: certifi>=2017.4.17 in /usr/local/lib/python3.7/dist-packages (from requests<3,>=2.21.0->tensorboard<2.10,>=2.9->tensorflow<2.10,>=2.9.0->tensorflow_text) (2022.6.15)\n",
      "Requirement already satisfied: oauthlib>=3.0.0 in /usr/local/lib/python3.7/dist-packages (from requests-oauthlib>=0.7.0->google-auth-oauthlib<0.5,>=0.4.1->tensorboard<2.10,>=2.9->tensorflow<2.10,>=2.9.0->tensorflow_text) (3.2.0)\n",
      "Requirement already satisfied: pyparsing!=3.0.5,>=2.0.2 in /usr/local/lib/python3.7/dist-packages (from packaging->tensorflow<2.10,>=2.9.0->tensorflow_text) (3.0.9)\n",
      "Installing collected packages: tensorflow-estimator, tensorboard, keras, gast, flatbuffers, tensorflow, tensorflow-text\n",
      "  Attempting uninstall: tensorflow-estimator\n",
      "    Found existing installation: tensorflow-estimator 2.8.0\n",
      "    Uninstalling tensorflow-estimator-2.8.0:\n",
      "      Successfully uninstalled tensorflow-estimator-2.8.0\n",
      "  Attempting uninstall: tensorboard\n",
      "    Found existing installation: tensorboard 2.8.0\n",
      "    Uninstalling tensorboard-2.8.0:\n",
      "      Successfully uninstalled tensorboard-2.8.0\n",
      "  Attempting uninstall: keras\n",
      "    Found existing installation: keras 2.8.0\n",
      "    Uninstalling keras-2.8.0:\n",
      "      Successfully uninstalled keras-2.8.0\n",
      "  Attempting uninstall: gast\n",
      "    Found existing installation: gast 0.5.3\n",
      "    Uninstalling gast-0.5.3:\n",
      "      Successfully uninstalled gast-0.5.3\n",
      "  Attempting uninstall: flatbuffers\n",
      "    Found existing installation: flatbuffers 2.0\n",
      "    Uninstalling flatbuffers-2.0:\n",
      "      Successfully uninstalled flatbuffers-2.0\n",
      "  Attempting uninstall: tensorflow\n",
      "    Found existing installation: tensorflow 2.8.2+zzzcolab20220719082949\n",
      "    Uninstalling tensorflow-2.8.2+zzzcolab20220719082949:\n",
      "      Successfully uninstalled tensorflow-2.8.2+zzzcolab20220719082949\n",
      "Successfully installed flatbuffers-1.12 gast-0.4.0 keras-2.9.0 tensorboard-2.9.1 tensorflow-2.9.1 tensorflow-estimator-2.9.0 tensorflow-text-2.9.0\n"
     ]
    }
   ],
   "source": [
    "# 1er paso: debe instalar el módulo tensorflow_text \n",
    "##\n",
    "##  - Si trabaja en la nube a través de Google Colab, este paso debe hacerlo cada vez que se conecta a una máquina\n",
    "##\n",
    "##  - Si trabaja localmente en su computador, este paso debe hacerlo una sola vez.\n",
    "##    - Si es la primera vez que va utilizar un módulo (package) que tiene como parte de su nombre \"tensorflow\", \n",
    "##      es probable que deba instalar previamente el módulo tensorflow y tensorflow_hub\n",
    "## \n",
    " \n",
    "!pip install tensorflow_text"
   ]
  },
  {
   "cell_type": "code",
   "execution_count": null,
   "metadata": {
    "colab": {
     "base_uri": "https://localhost:8080/"
    },
    "id": "55KfG5IXGOis",
    "outputId": "ea5b4aa5-0114-44f8-8123-5bee45030d19"
   },
   "outputs": [
    {
     "name": "stdout",
     "output_type": "stream",
     "text": [
      "Looking in indexes: https://pypi.org/simple, https://us-python.pkg.dev/colab-wheels/public/simple/\n",
      "Requirement already satisfied: wordcloud in /usr/local/lib/python3.7/dist-packages (1.8.2.2)\n",
      "Requirement already satisfied: matplotlib in /usr/local/lib/python3.7/dist-packages (from wordcloud) (3.2.2)\n",
      "Requirement already satisfied: pillow in /usr/local/lib/python3.7/dist-packages (from wordcloud) (7.1.2)\n",
      "Requirement already satisfied: numpy>=1.6.1 in /usr/local/lib/python3.7/dist-packages (from wordcloud) (1.21.6)\n",
      "Requirement already satisfied: python-dateutil>=2.1 in /usr/local/lib/python3.7/dist-packages (from matplotlib->wordcloud) (2.8.2)\n",
      "Requirement already satisfied: pyparsing!=2.0.4,!=2.1.2,!=2.1.6,>=2.0.1 in /usr/local/lib/python3.7/dist-packages (from matplotlib->wordcloud) (3.0.9)\n",
      "Requirement already satisfied: kiwisolver>=1.0.1 in /usr/local/lib/python3.7/dist-packages (from matplotlib->wordcloud) (1.4.4)\n",
      "Requirement already satisfied: cycler>=0.10 in /usr/local/lib/python3.7/dist-packages (from matplotlib->wordcloud) (0.11.0)\n",
      "Requirement already satisfied: typing-extensions in /usr/local/lib/python3.7/dist-packages (from kiwisolver>=1.0.1->matplotlib->wordcloud) (4.1.1)\n",
      "Requirement already satisfied: six>=1.5 in /usr/local/lib/python3.7/dist-packages (from python-dateutil>=2.1->matplotlib->wordcloud) (1.15.0)\n"
     ]
    }
   ],
   "source": [
    "!pip install wordcloud"
   ]
  },
  {
   "cell_type": "code",
   "execution_count": null,
   "metadata": {
    "id": "TtLvhsPWetXV"
   },
   "outputs": [],
   "source": [
    "# 2do paso: importe los siguientes módulos:\n",
    "\n",
    "import pandas as pd\n",
    "import numpy as np\n",
    "import tensorflow_hub as hub\n",
    "import tensorflow_text as text\n",
    "from bs4 import BeautifulSoup # para trabajar texto en varios formatos\n",
    "import re # expresiones regulares"
   ]
  },
  {
   "cell_type": "markdown",
   "metadata": {
    "id": "5YVwsIC8GTkE"
   },
   "source": [
    "#importar datos\n"
   ]
  },
  {
   "cell_type": "code",
   "execution_count": null,
   "metadata": {
    "colab": {
     "base_uri": "https://localhost:8080/"
    },
    "id": "hkS7X1XeGYIl",
    "outputId": "030208bb-086f-41b4-e1be-04bde56c9c47"
   },
   "outputs": [
    {
     "name": "stdout",
     "output_type": "stream",
     "text": [
      "Drive already mounted at /content/drive; to attempt to forcibly remount, call drive.mount(\"/content/drive\", force_remount=True).\n"
     ]
    }
   ],
   "source": [
    "from google.colab import drive\n",
    "drive.mount('/content/drive')"
   ]
  },
  {
   "cell_type": "code",
   "execution_count": null,
   "metadata": {
    "id": "48r28wQRVVOx"
   },
   "outputs": [],
   "source": [
    "df= pd.read_csv(\"/content/drive/MyDrive/Magister/4° Semestre/Consultoria/Modelos de clasificacion previos/SMSSpamCollection(Filtrada).csv\",sep= \";\")"
   ]
  },
  {
   "cell_type": "code",
   "execution_count": null,
   "metadata": {
    "colab": {
     "base_uri": "https://localhost:8080/",
     "height": 424
    },
    "id": "chZKlybhEqY5",
    "outputId": "e74265d3-4799-49e8-eedf-fa2877749e5c"
   },
   "outputs": [
    {
     "data": {
      "text/html": [
       "\n",
       "  <div id=\"df-0bb0aa19-5830-410f-b80c-7bb39c9ae4e9\">\n",
       "    <div class=\"colab-df-container\">\n",
       "      <div>\n",
       "<style scoped>\n",
       "    .dataframe tbody tr th:only-of-type {\n",
       "        vertical-align: middle;\n",
       "    }\n",
       "\n",
       "    .dataframe tbody tr th {\n",
       "        vertical-align: top;\n",
       "    }\n",
       "\n",
       "    .dataframe thead th {\n",
       "        text-align: right;\n",
       "    }\n",
       "</style>\n",
       "<table border=\"1\" class=\"dataframe\">\n",
       "  <thead>\n",
       "    <tr style=\"text-align: right;\">\n",
       "      <th></th>\n",
       "      <th>resultado</th>\n",
       "      <th>mensaje</th>\n",
       "    </tr>\n",
       "  </thead>\n",
       "  <tbody>\n",
       "    <tr>\n",
       "      <th>0</th>\n",
       "      <td>spam</td>\n",
       "      <td>Free entry in 2 a wkly comp to win FA Cup fina...</td>\n",
       "    </tr>\n",
       "    <tr>\n",
       "      <th>1</th>\n",
       "      <td>spam</td>\n",
       "      <td>FreeMsg Hey there darling it's been 3 week's n...</td>\n",
       "    </tr>\n",
       "    <tr>\n",
       "      <th>2</th>\n",
       "      <td>ham</td>\n",
       "      <td>As per your request 'Melle Melle (Oru Minnamin...</td>\n",
       "    </tr>\n",
       "    <tr>\n",
       "      <th>3</th>\n",
       "      <td>spam</td>\n",
       "      <td>WINNER!! As a valued network customer you have...</td>\n",
       "    </tr>\n",
       "    <tr>\n",
       "      <th>4</th>\n",
       "      <td>spam</td>\n",
       "      <td>Had your mobile 11 months or more? U R entitle...</td>\n",
       "    </tr>\n",
       "    <tr>\n",
       "      <th>...</th>\n",
       "      <td>...</td>\n",
       "      <td>...</td>\n",
       "    </tr>\n",
       "    <tr>\n",
       "      <th>1285</th>\n",
       "      <td>spam</td>\n",
       "      <td>Had your contract mobile 11 Mnths? Latest Moto...</td>\n",
       "    </tr>\n",
       "    <tr>\n",
       "      <th>1286</th>\n",
       "      <td>ham</td>\n",
       "      <td>Yeh. Indians was nice. Tho it did kane me off ...</td>\n",
       "    </tr>\n",
       "    <tr>\n",
       "      <th>1287</th>\n",
       "      <td>spam</td>\n",
       "      <td>REMINDER FROM O2: To get 2.50 pounds free call...</td>\n",
       "    </tr>\n",
       "    <tr>\n",
       "      <th>1288</th>\n",
       "      <td>spam</td>\n",
       "      <td>This is the 2nd time we have tried 2 contact u...</td>\n",
       "    </tr>\n",
       "    <tr>\n",
       "      <th>1289</th>\n",
       "      <td>ham</td>\n",
       "      <td>The guy did some bitching but I acted like i'd...</td>\n",
       "    </tr>\n",
       "  </tbody>\n",
       "</table>\n",
       "<p>1290 rows × 2 columns</p>\n",
       "</div>\n",
       "      <button class=\"colab-df-convert\" onclick=\"convertToInteractive('df-0bb0aa19-5830-410f-b80c-7bb39c9ae4e9')\"\n",
       "              title=\"Convert this dataframe to an interactive table.\"\n",
       "              style=\"display:none;\">\n",
       "        \n",
       "  <svg xmlns=\"http://www.w3.org/2000/svg\" height=\"24px\"viewBox=\"0 0 24 24\"\n",
       "       width=\"24px\">\n",
       "    <path d=\"M0 0h24v24H0V0z\" fill=\"none\"/>\n",
       "    <path d=\"M18.56 5.44l.94 2.06.94-2.06 2.06-.94-2.06-.94-.94-2.06-.94 2.06-2.06.94zm-11 1L8.5 8.5l.94-2.06 2.06-.94-2.06-.94L8.5 2.5l-.94 2.06-2.06.94zm10 10l.94 2.06.94-2.06 2.06-.94-2.06-.94-.94-2.06-.94 2.06-2.06.94z\"/><path d=\"M17.41 7.96l-1.37-1.37c-.4-.4-.92-.59-1.43-.59-.52 0-1.04.2-1.43.59L10.3 9.45l-7.72 7.72c-.78.78-.78 2.05 0 2.83L4 21.41c.39.39.9.59 1.41.59.51 0 1.02-.2 1.41-.59l7.78-7.78 2.81-2.81c.8-.78.8-2.07 0-2.86zM5.41 20L4 18.59l7.72-7.72 1.47 1.35L5.41 20z\"/>\n",
       "  </svg>\n",
       "      </button>\n",
       "      \n",
       "  <style>\n",
       "    .colab-df-container {\n",
       "      display:flex;\n",
       "      flex-wrap:wrap;\n",
       "      gap: 12px;\n",
       "    }\n",
       "\n",
       "    .colab-df-convert {\n",
       "      background-color: #E8F0FE;\n",
       "      border: none;\n",
       "      border-radius: 50%;\n",
       "      cursor: pointer;\n",
       "      display: none;\n",
       "      fill: #1967D2;\n",
       "      height: 32px;\n",
       "      padding: 0 0 0 0;\n",
       "      width: 32px;\n",
       "    }\n",
       "\n",
       "    .colab-df-convert:hover {\n",
       "      background-color: #E2EBFA;\n",
       "      box-shadow: 0px 1px 2px rgba(60, 64, 67, 0.3), 0px 1px 3px 1px rgba(60, 64, 67, 0.15);\n",
       "      fill: #174EA6;\n",
       "    }\n",
       "\n",
       "    [theme=dark] .colab-df-convert {\n",
       "      background-color: #3B4455;\n",
       "      fill: #D2E3FC;\n",
       "    }\n",
       "\n",
       "    [theme=dark] .colab-df-convert:hover {\n",
       "      background-color: #434B5C;\n",
       "      box-shadow: 0px 1px 3px 1px rgba(0, 0, 0, 0.15);\n",
       "      filter: drop-shadow(0px 1px 2px rgba(0, 0, 0, 0.3));\n",
       "      fill: #FFFFFF;\n",
       "    }\n",
       "  </style>\n",
       "\n",
       "      <script>\n",
       "        const buttonEl =\n",
       "          document.querySelector('#df-0bb0aa19-5830-410f-b80c-7bb39c9ae4e9 button.colab-df-convert');\n",
       "        buttonEl.style.display =\n",
       "          google.colab.kernel.accessAllowed ? 'block' : 'none';\n",
       "\n",
       "        async function convertToInteractive(key) {\n",
       "          const element = document.querySelector('#df-0bb0aa19-5830-410f-b80c-7bb39c9ae4e9');\n",
       "          const dataTable =\n",
       "            await google.colab.kernel.invokeFunction('convertToInteractive',\n",
       "                                                     [key], {});\n",
       "          if (!dataTable) return;\n",
       "\n",
       "          const docLinkHtml = 'Like what you see? Visit the ' +\n",
       "            '<a target=\"_blank\" href=https://colab.research.google.com/notebooks/data_table.ipynb>data table notebook</a>'\n",
       "            + ' to learn more about interactive tables.';\n",
       "          element.innerHTML = '';\n",
       "          dataTable['output_type'] = 'display_data';\n",
       "          await google.colab.output.renderOutput(dataTable, element);\n",
       "          const docLink = document.createElement('div');\n",
       "          docLink.innerHTML = docLinkHtml;\n",
       "          element.appendChild(docLink);\n",
       "        }\n",
       "      </script>\n",
       "    </div>\n",
       "  </div>\n",
       "  "
      ],
      "text/plain": [
       "     resultado                                            mensaje\n",
       "0         spam  Free entry in 2 a wkly comp to win FA Cup fina...\n",
       "1         spam  FreeMsg Hey there darling it's been 3 week's n...\n",
       "2          ham  As per your request 'Melle Melle (Oru Minnamin...\n",
       "3         spam  WINNER!! As a valued network customer you have...\n",
       "4         spam  Had your mobile 11 months or more? U R entitle...\n",
       "...        ...                                                ...\n",
       "1285      spam  Had your contract mobile 11 Mnths? Latest Moto...\n",
       "1286       ham  Yeh. Indians was nice. Tho it did kane me off ...\n",
       "1287      spam  REMINDER FROM O2: To get 2.50 pounds free call...\n",
       "1288      spam  This is the 2nd time we have tried 2 contact u...\n",
       "1289       ham  The guy did some bitching but I acted like i'd...\n",
       "\n",
       "[1290 rows x 2 columns]"
      ]
     },
     "execution_count": 122,
     "metadata": {},
     "output_type": "execute_result"
    }
   ],
   "source": [
    "df"
   ]
  },
  {
   "cell_type": "markdown",
   "metadata": {
    "id": "vB56vwVThKpT"
   },
   "source": [
    "#Análisis exploratorio"
   ]
  },
  {
   "cell_type": "code",
   "execution_count": null,
   "metadata": {
    "id": "IcxBm-L8YSaN"
   },
   "outputs": [],
   "source": [
    "#import libraries\n",
    "import pandas as pd\n",
    "import seaborn as sns\n",
    "import numpy as np\n",
    "import matplotlib.pyplot as plt\n",
    "import warnings\n",
    "warnings.filterwarnings('ignore')"
   ]
  },
  {
   "cell_type": "code",
   "execution_count": null,
   "metadata": {
    "id": "KqZh7rh3be7g"
   },
   "outputs": [],
   "source": [
    "#funcion resumen de un dataframe\n",
    "\n",
    "def resumen(data):\n",
    "  total_perdidos = data.isnull().sum().sum()\n",
    "  missing_percent = data.isnull().sum()*100 /len(data)\n",
    "  total_missing = data.isnull().sum()\n",
    "  unique = data.nunique()\n",
    "  not_null = data.notnull().sum()\n",
    "  df = pd.DataFrame({\n",
    "      'Valores Unicos' : unique,\n",
    "      'Valores Existentes': not_null,\n",
    "      'Total perdidos': total_missing,\n",
    "      'Porc. perdidos %': missing_percent\n",
    "  })\n",
    "  tipos = data.dtypes\n",
    "  numericas = tipos[tipos != object].index\n",
    "  no_numericas = tipos[tipos == object].index\n",
    "  print('1. Las dimensiones de la data:', data.shape)\n",
    "  print('2. Total Datos perdidos son:', total_perdidos)\n",
    "  print('3. La cantidad de variables numericas es: ', len(numericas), '\\n   Y ellas son:\\n', numericas)\n",
    "  print('4. La cantidad de variables NO numericas es: ', len(no_numericas), '\\n  Y ellas son:\\n', no_numericas)\n",
    "  df = df.round(2)\n",
    "  return(df)"
   ]
  },
  {
   "cell_type": "code",
   "execution_count": null,
   "metadata": {
    "colab": {
     "base_uri": "https://localhost:8080/",
     "height": 251
    },
    "id": "k1UM0twDbmkM",
    "outputId": "c2748bd5-2e1f-4e7b-e264-b16f5a3d3dda"
   },
   "outputs": [
    {
     "name": "stdout",
     "output_type": "stream",
     "text": [
      "1. Las dimensiones de la data: (1290, 2)\n",
      "2. Total Datos perdidos son: 0\n",
      "3. La cantidad de variables numericas es:  0 \n",
      "   Y ellas son:\n",
      " Index([], dtype='object')\n",
      "4. La cantidad de variables NO numericas es:  2 \n",
      "  Y ellas son:\n",
      " Index(['resultado', 'mensaje'], dtype='object')\n"
     ]
    },
    {
     "data": {
      "text/html": [
       "\n",
       "  <div id=\"df-89ddee12-16ab-4000-a515-b42e197ddc53\">\n",
       "    <div class=\"colab-df-container\">\n",
       "      <div>\n",
       "<style scoped>\n",
       "    .dataframe tbody tr th:only-of-type {\n",
       "        vertical-align: middle;\n",
       "    }\n",
       "\n",
       "    .dataframe tbody tr th {\n",
       "        vertical-align: top;\n",
       "    }\n",
       "\n",
       "    .dataframe thead th {\n",
       "        text-align: right;\n",
       "    }\n",
       "</style>\n",
       "<table border=\"1\" class=\"dataframe\">\n",
       "  <thead>\n",
       "    <tr style=\"text-align: right;\">\n",
       "      <th></th>\n",
       "      <th>Valores Unicos</th>\n",
       "      <th>Valores Existentes</th>\n",
       "      <th>Total perdidos</th>\n",
       "      <th>Porc. perdidos %</th>\n",
       "    </tr>\n",
       "  </thead>\n",
       "  <tbody>\n",
       "    <tr>\n",
       "      <th>resultado</th>\n",
       "      <td>2</td>\n",
       "      <td>1290</td>\n",
       "      <td>0</td>\n",
       "      <td>0.0</td>\n",
       "    </tr>\n",
       "    <tr>\n",
       "      <th>mensaje</th>\n",
       "      <td>1148</td>\n",
       "      <td>1290</td>\n",
       "      <td>0</td>\n",
       "      <td>0.0</td>\n",
       "    </tr>\n",
       "  </tbody>\n",
       "</table>\n",
       "</div>\n",
       "      <button class=\"colab-df-convert\" onclick=\"convertToInteractive('df-89ddee12-16ab-4000-a515-b42e197ddc53')\"\n",
       "              title=\"Convert this dataframe to an interactive table.\"\n",
       "              style=\"display:none;\">\n",
       "        \n",
       "  <svg xmlns=\"http://www.w3.org/2000/svg\" height=\"24px\"viewBox=\"0 0 24 24\"\n",
       "       width=\"24px\">\n",
       "    <path d=\"M0 0h24v24H0V0z\" fill=\"none\"/>\n",
       "    <path d=\"M18.56 5.44l.94 2.06.94-2.06 2.06-.94-2.06-.94-.94-2.06-.94 2.06-2.06.94zm-11 1L8.5 8.5l.94-2.06 2.06-.94-2.06-.94L8.5 2.5l-.94 2.06-2.06.94zm10 10l.94 2.06.94-2.06 2.06-.94-2.06-.94-.94-2.06-.94 2.06-2.06.94z\"/><path d=\"M17.41 7.96l-1.37-1.37c-.4-.4-.92-.59-1.43-.59-.52 0-1.04.2-1.43.59L10.3 9.45l-7.72 7.72c-.78.78-.78 2.05 0 2.83L4 21.41c.39.39.9.59 1.41.59.51 0 1.02-.2 1.41-.59l7.78-7.78 2.81-2.81c.8-.78.8-2.07 0-2.86zM5.41 20L4 18.59l7.72-7.72 1.47 1.35L5.41 20z\"/>\n",
       "  </svg>\n",
       "      </button>\n",
       "      \n",
       "  <style>\n",
       "    .colab-df-container {\n",
       "      display:flex;\n",
       "      flex-wrap:wrap;\n",
       "      gap: 12px;\n",
       "    }\n",
       "\n",
       "    .colab-df-convert {\n",
       "      background-color: #E8F0FE;\n",
       "      border: none;\n",
       "      border-radius: 50%;\n",
       "      cursor: pointer;\n",
       "      display: none;\n",
       "      fill: #1967D2;\n",
       "      height: 32px;\n",
       "      padding: 0 0 0 0;\n",
       "      width: 32px;\n",
       "    }\n",
       "\n",
       "    .colab-df-convert:hover {\n",
       "      background-color: #E2EBFA;\n",
       "      box-shadow: 0px 1px 2px rgba(60, 64, 67, 0.3), 0px 1px 3px 1px rgba(60, 64, 67, 0.15);\n",
       "      fill: #174EA6;\n",
       "    }\n",
       "\n",
       "    [theme=dark] .colab-df-convert {\n",
       "      background-color: #3B4455;\n",
       "      fill: #D2E3FC;\n",
       "    }\n",
       "\n",
       "    [theme=dark] .colab-df-convert:hover {\n",
       "      background-color: #434B5C;\n",
       "      box-shadow: 0px 1px 3px 1px rgba(0, 0, 0, 0.15);\n",
       "      filter: drop-shadow(0px 1px 2px rgba(0, 0, 0, 0.3));\n",
       "      fill: #FFFFFF;\n",
       "    }\n",
       "  </style>\n",
       "\n",
       "      <script>\n",
       "        const buttonEl =\n",
       "          document.querySelector('#df-89ddee12-16ab-4000-a515-b42e197ddc53 button.colab-df-convert');\n",
       "        buttonEl.style.display =\n",
       "          google.colab.kernel.accessAllowed ? 'block' : 'none';\n",
       "\n",
       "        async function convertToInteractive(key) {\n",
       "          const element = document.querySelector('#df-89ddee12-16ab-4000-a515-b42e197ddc53');\n",
       "          const dataTable =\n",
       "            await google.colab.kernel.invokeFunction('convertToInteractive',\n",
       "                                                     [key], {});\n",
       "          if (!dataTable) return;\n",
       "\n",
       "          const docLinkHtml = 'Like what you see? Visit the ' +\n",
       "            '<a target=\"_blank\" href=https://colab.research.google.com/notebooks/data_table.ipynb>data table notebook</a>'\n",
       "            + ' to learn more about interactive tables.';\n",
       "          element.innerHTML = '';\n",
       "          dataTable['output_type'] = 'display_data';\n",
       "          await google.colab.output.renderOutput(dataTable, element);\n",
       "          const docLink = document.createElement('div');\n",
       "          docLink.innerHTML = docLinkHtml;\n",
       "          element.appendChild(docLink);\n",
       "        }\n",
       "      </script>\n",
       "    </div>\n",
       "  </div>\n",
       "  "
      ],
      "text/plain": [
       "           Valores Unicos  Valores Existentes  Total perdidos  \\\n",
       "resultado               2                1290               0   \n",
       "mensaje              1148                1290               0   \n",
       "\n",
       "           Porc. perdidos %  \n",
       "resultado               0.0  \n",
       "mensaje                 0.0  "
      ]
     },
     "execution_count": 126,
     "metadata": {},
     "output_type": "execute_result"
    }
   ],
   "source": [
    "resumen(df)"
   ]
  },
  {
   "cell_type": "code",
   "execution_count": null,
   "metadata": {
    "colab": {
     "base_uri": "https://localhost:8080/"
    },
    "id": "Uu1qJ9sybteb",
    "outputId": "cfe74fd8-d97e-44cf-db67-08a2787ca398"
   },
   "outputs": [
    {
     "data": {
      "text/plain": [
       "resultado\n",
       "ham     668\n",
       "spam    622\n",
       "dtype: int64"
      ]
     },
     "execution_count": 127,
     "metadata": {},
     "output_type": "execute_result"
    }
   ],
   "source": [
    "df.groupby('resultado').size()"
   ]
  },
  {
   "cell_type": "code",
   "execution_count": null,
   "metadata": {
    "colab": {
     "base_uri": "https://localhost:8080/",
     "height": 347
    },
    "id": "QdzawPgJ0gpf",
    "outputId": "9e8bec95-b229-4fdb-872f-6825fd96790b"
   },
   "outputs": [
    {
     "name": "stdout",
     "output_type": "stream",
     "text": [
      "ham     668\n",
      "spam    622\n",
      "Name: resultado, dtype: int64\n"
     ]
    },
    {
     "data": {
      "image/png": "[encoded data removed]",
      "text/plain": [
       "<Figure size 432x288 with 1 Axes>"
      ]
     },
     "metadata": {
      "needs_background": "light"
     },
     "output_type": "display_data"
    }
   ],
   "source": [
    "sns.countplot(df['resultado'])\n",
    "print(df['resultado'].value_counts())\n",
    "plt.title(\"resultado\")\n",
    "plt.show()"
   ]
  },
  {
   "cell_type": "code",
   "execution_count": null,
   "metadata": {
    "colab": {
     "base_uri": "https://localhost:8080/"
    },
    "id": "kNLivMryOc1X",
    "outputId": "ac0cb087-49df-43ac-aca5-505cd6c0ce22"
   },
   "outputs": [
    {
     "name": "stdout",
     "output_type": "stream",
     "text": [
      "resultado 2\n",
      "mensaje 1148\n"
     ]
    }
   ],
   "source": [
    "for i in df:\n",
    "  print(i, len(df[i].unique()))"
   ]
  },
  {
   "cell_type": "markdown",
   "metadata": {
    "id": "RYGcpvRNOi3B"
   },
   "source": [
    "Debemos etiquetar a los textos convertidos a vectores"
   ]
  },
  {
   "cell_type": "code",
   "execution_count": null,
   "metadata": {
    "colab": {
     "base_uri": "https://localhost:8080/"
    },
    "id": "7AnO-GZ3Osod",
    "outputId": "32114d9c-259e-4167-9a49-a5514bf9ab4e"
   },
   "outputs": [
    {
     "data": {
      "text/plain": [
       "0       spam\n",
       "1       spam\n",
       "2        ham\n",
       "3       spam\n",
       "4       spam\n",
       "        ... \n",
       "1285    spam\n",
       "1286     ham\n",
       "1287    spam\n",
       "1288    spam\n",
       "1289     ham\n",
       "Name: resultado, Length: 1290, dtype: object"
      ]
     },
     "execution_count": 130,
     "metadata": {},
     "output_type": "execute_result"
    }
   ],
   "source": [
    "df['resultado']"
   ]
  },
  {
   "cell_type": "markdown",
   "metadata": {
    "id": "KQD7k7th8r9p"
   },
   "source": [
    "# Preprocesamiento de texto\n"
   ]
  },
  {
   "cell_type": "code",
   "execution_count": null,
   "metadata": {
    "colab": {
     "base_uri": "https://localhost:8080/",
     "height": 424
    },
    "id": "bW18wZFs82yR",
    "outputId": "54a79b38-569d-4fa6-c78a-e9714ca88871"
   },
   "outputs": [
    {
     "data": {
      "text/html": [
       "\n",
       "  <div id=\"df-63221fbb-4d2e-437c-bf15-5f1fa737a24c\">\n",
       "    <div class=\"colab-df-container\">\n",
       "      <div>\n",
       "<style scoped>\n",
       "    .dataframe tbody tr th:only-of-type {\n",
       "        vertical-align: middle;\n",
       "    }\n",
       "\n",
       "    .dataframe tbody tr th {\n",
       "        vertical-align: top;\n",
       "    }\n",
       "\n",
       "    .dataframe thead th {\n",
       "        text-align: right;\n",
       "    }\n",
       "</style>\n",
       "<table border=\"1\" class=\"dataframe\">\n",
       "  <thead>\n",
       "    <tr style=\"text-align: right;\">\n",
       "      <th></th>\n",
       "      <th>resultado</th>\n",
       "      <th>mensaje</th>\n",
       "    </tr>\n",
       "  </thead>\n",
       "  <tbody>\n",
       "    <tr>\n",
       "      <th>0</th>\n",
       "      <td>spam</td>\n",
       "      <td>Free entry in 2 a wkly comp to win FA Cup fina...</td>\n",
       "    </tr>\n",
       "    <tr>\n",
       "      <th>1</th>\n",
       "      <td>spam</td>\n",
       "      <td>FreeMsg Hey there darling it's been 3 week's n...</td>\n",
       "    </tr>\n",
       "    <tr>\n",
       "      <th>2</th>\n",
       "      <td>ham</td>\n",
       "      <td>As per your request 'Melle Melle (Oru Minnamin...</td>\n",
       "    </tr>\n",
       "    <tr>\n",
       "      <th>3</th>\n",
       "      <td>spam</td>\n",
       "      <td>WINNER!! As a valued network customer you have...</td>\n",
       "    </tr>\n",
       "    <tr>\n",
       "      <th>4</th>\n",
       "      <td>spam</td>\n",
       "      <td>Had your mobile 11 months or more? U R entitle...</td>\n",
       "    </tr>\n",
       "    <tr>\n",
       "      <th>...</th>\n",
       "      <td>...</td>\n",
       "      <td>...</td>\n",
       "    </tr>\n",
       "    <tr>\n",
       "      <th>1285</th>\n",
       "      <td>spam</td>\n",
       "      <td>Had your contract mobile 11 Mnths? Latest Moto...</td>\n",
       "    </tr>\n",
       "    <tr>\n",
       "      <th>1286</th>\n",
       "      <td>ham</td>\n",
       "      <td>Yeh. Indians was nice. Tho it did kane me off ...</td>\n",
       "    </tr>\n",
       "    <tr>\n",
       "      <th>1287</th>\n",
       "      <td>spam</td>\n",
       "      <td>REMINDER FROM O2: To get 2.50 pounds free call...</td>\n",
       "    </tr>\n",
       "    <tr>\n",
       "      <th>1288</th>\n",
       "      <td>spam</td>\n",
       "      <td>This is the 2nd time we have tried 2 contact u...</td>\n",
       "    </tr>\n",
       "    <tr>\n",
       "      <th>1289</th>\n",
       "      <td>ham</td>\n",
       "      <td>The guy did some bitching but I acted like i'd...</td>\n",
       "    </tr>\n",
       "  </tbody>\n",
       "</table>\n",
       "<p>1290 rows × 2 columns</p>\n",
       "</div>\n",
       "      <button class=\"colab-df-convert\" onclick=\"convertToInteractive('df-63221fbb-4d2e-437c-bf15-5f1fa737a24c')\"\n",
       "              title=\"Convert this dataframe to an interactive table.\"\n",
       "              style=\"display:none;\">\n",
       "        \n",
       "  <svg xmlns=\"http://www.w3.org/2000/svg\" height=\"24px\"viewBox=\"0 0 24 24\"\n",
       "       width=\"24px\">\n",
       "    <path d=\"M0 0h24v24H0V0z\" fill=\"none\"/>\n",
       "    <path d=\"M18.56 5.44l.94 2.06.94-2.06 2.06-.94-2.06-.94-.94-2.06-.94 2.06-2.06.94zm-11 1L8.5 8.5l.94-2.06 2.06-.94-2.06-.94L8.5 2.5l-.94 2.06-2.06.94zm10 10l.94 2.06.94-2.06 2.06-.94-2.06-.94-.94-2.06-.94 2.06-2.06.94z\"/><path d=\"M17.41 7.96l-1.37-1.37c-.4-.4-.92-.59-1.43-.59-.52 0-1.04.2-1.43.59L10.3 9.45l-7.72 7.72c-.78.78-.78 2.05 0 2.83L4 21.41c.39.39.9.59 1.41.59.51 0 1.02-.2 1.41-.59l7.78-7.78 2.81-2.81c.8-.78.8-2.07 0-2.86zM5.41 20L4 18.59l7.72-7.72 1.47 1.35L5.41 20z\"/>\n",
       "  </svg>\n",
       "      </button>\n",
       "      \n",
       "  <style>\n",
       "    .colab-df-container {\n",
       "      display:flex;\n",
       "      flex-wrap:wrap;\n",
       "      gap: 12px;\n",
       "    }\n",
       "\n",
       "    .colab-df-convert {\n",
       "      background-color: #E8F0FE;\n",
       "      border: none;\n",
       "      border-radius: 50%;\n",
       "      cursor: pointer;\n",
       "      display: none;\n",
       "      fill: #1967D2;\n",
       "      height: 32px;\n",
       "      padding: 0 0 0 0;\n",
       "      width: 32px;\n",
       "    }\n",
       "\n",
       "    .colab-df-convert:hover {\n",
       "      background-color: #E2EBFA;\n",
       "      box-shadow: 0px 1px 2px rgba(60, 64, 67, 0.3), 0px 1px 3px 1px rgba(60, 64, 67, 0.15);\n",
       "      fill: #174EA6;\n",
       "    }\n",
       "\n",
       "    [theme=dark] .colab-df-convert {\n",
       "      background-color: #3B4455;\n",
       "      fill: #D2E3FC;\n",
       "    }\n",
       "\n",
       "    [theme=dark] .colab-df-convert:hover {\n",
       "      background-color: #434B5C;\n",
       "      box-shadow: 0px 1px 3px 1px rgba(0, 0, 0, 0.15);\n",
       "      filter: drop-shadow(0px 1px 2px rgba(0, 0, 0, 0.3));\n",
       "      fill: #FFFFFF;\n",
       "    }\n",
       "  </style>\n",
       "\n",
       "      <script>\n",
       "        const buttonEl =\n",
       "          document.querySelector('#df-63221fbb-4d2e-437c-bf15-5f1fa737a24c button.colab-df-convert');\n",
       "        buttonEl.style.display =\n",
       "          google.colab.kernel.accessAllowed ? 'block' : 'none';\n",
       "\n",
       "        async function convertToInteractive(key) {\n",
       "          const element = document.querySelector('#df-63221fbb-4d2e-437c-bf15-5f1fa737a24c');\n",
       "          const dataTable =\n",
       "            await google.colab.kernel.invokeFunction('convertToInteractive',\n",
       "                                                     [key], {});\n",
       "          if (!dataTable) return;\n",
       "\n",
       "          const docLinkHtml = 'Like what you see? Visit the ' +\n",
       "            '<a target=\"_blank\" href=https://colab.research.google.com/notebooks/data_table.ipynb>data table notebook</a>'\n",
       "            + ' to learn more about interactive tables.';\n",
       "          element.innerHTML = '';\n",
       "          dataTable['output_type'] = 'display_data';\n",
       "          await google.colab.output.renderOutput(dataTable, element);\n",
       "          const docLink = document.createElement('div');\n",
       "          docLink.innerHTML = docLinkHtml;\n",
       "          element.appendChild(docLink);\n",
       "        }\n",
       "      </script>\n",
       "    </div>\n",
       "  </div>\n",
       "  "
      ],
      "text/plain": [
       "     resultado                                            mensaje\n",
       "0         spam  Free entry in 2 a wkly comp to win FA Cup fina...\n",
       "1         spam  FreeMsg Hey there darling it's been 3 week's n...\n",
       "2          ham  As per your request 'Melle Melle (Oru Minnamin...\n",
       "3         spam  WINNER!! As a valued network customer you have...\n",
       "4         spam  Had your mobile 11 months or more? U R entitle...\n",
       "...        ...                                                ...\n",
       "1285      spam  Had your contract mobile 11 Mnths? Latest Moto...\n",
       "1286       ham  Yeh. Indians was nice. Tho it did kane me off ...\n",
       "1287      spam  REMINDER FROM O2: To get 2.50 pounds free call...\n",
       "1288      spam  This is the 2nd time we have tried 2 contact u...\n",
       "1289       ham  The guy did some bitching but I acted like i'd...\n",
       "\n",
       "[1290 rows x 2 columns]"
      ]
     },
     "execution_count": 131,
     "metadata": {},
     "output_type": "execute_result"
    }
   ],
   "source": [
    "df"
   ]
  },
  {
   "cell_type": "code",
   "execution_count": null,
   "metadata": {
    "id": "ILNcU9Ic8xXP"
   },
   "outputs": [],
   "source": [
    "df['resultado'] = df['resultado'].apply(lambda x:1 if x == 'ham' else 0) "
   ]
  },
  {
   "cell_type": "code",
   "execution_count": null,
   "metadata": {
    "colab": {
     "base_uri": "https://localhost:8080/",
     "height": 424
    },
    "id": "p0knn77F83kO",
    "outputId": "5c9f6cd3-0a2a-4917-d0a8-893d718a4d58"
   },
   "outputs": [
    {
     "data": {
      "text/html": [
       "\n",
       "  <div id=\"df-4b1699cb-9d57-45ec-ae24-26b99ae48825\">\n",
       "    <div class=\"colab-df-container\">\n",
       "      <div>\n",
       "<style scoped>\n",
       "    .dataframe tbody tr th:only-of-type {\n",
       "        vertical-align: middle;\n",
       "    }\n",
       "\n",
       "    .dataframe tbody tr th {\n",
       "        vertical-align: top;\n",
       "    }\n",
       "\n",
       "    .dataframe thead th {\n",
       "        text-align: right;\n",
       "    }\n",
       "</style>\n",
       "<table border=\"1\" class=\"dataframe\">\n",
       "  <thead>\n",
       "    <tr style=\"text-align: right;\">\n",
       "      <th></th>\n",
       "      <th>resultado</th>\n",
       "      <th>mensaje</th>\n",
       "    </tr>\n",
       "  </thead>\n",
       "  <tbody>\n",
       "    <tr>\n",
       "      <th>0</th>\n",
       "      <td>0</td>\n",
       "      <td>Free entry in 2 a wkly comp to win FA Cup fina...</td>\n",
       "    </tr>\n",
       "    <tr>\n",
       "      <th>1</th>\n",
       "      <td>0</td>\n",
       "      <td>FreeMsg Hey there darling it's been 3 week's n...</td>\n",
       "    </tr>\n",
       "    <tr>\n",
       "      <th>2</th>\n",
       "      <td>1</td>\n",
       "      <td>As per your request 'Melle Melle (Oru Minnamin...</td>\n",
       "    </tr>\n",
       "    <tr>\n",
       "      <th>3</th>\n",
       "      <td>0</td>\n",
       "      <td>WINNER!! As a valued network customer you have...</td>\n",
       "    </tr>\n",
       "    <tr>\n",
       "      <th>4</th>\n",
       "      <td>0</td>\n",
       "      <td>Had your mobile 11 months or more? U R entitle...</td>\n",
       "    </tr>\n",
       "    <tr>\n",
       "      <th>...</th>\n",
       "      <td>...</td>\n",
       "      <td>...</td>\n",
       "    </tr>\n",
       "    <tr>\n",
       "      <th>1285</th>\n",
       "      <td>0</td>\n",
       "      <td>Had your contract mobile 11 Mnths? Latest Moto...</td>\n",
       "    </tr>\n",
       "    <tr>\n",
       "      <th>1286</th>\n",
       "      <td>1</td>\n",
       "      <td>Yeh. Indians was nice. Tho it did kane me off ...</td>\n",
       "    </tr>\n",
       "    <tr>\n",
       "      <th>1287</th>\n",
       "      <td>0</td>\n",
       "      <td>REMINDER FROM O2: To get 2.50 pounds free call...</td>\n",
       "    </tr>\n",
       "    <tr>\n",
       "      <th>1288</th>\n",
       "      <td>0</td>\n",
       "      <td>This is the 2nd time we have tried 2 contact u...</td>\n",
       "    </tr>\n",
       "    <tr>\n",
       "      <th>1289</th>\n",
       "      <td>1</td>\n",
       "      <td>The guy did some bitching but I acted like i'd...</td>\n",
       "    </tr>\n",
       "  </tbody>\n",
       "</table>\n",
       "<p>1290 rows × 2 columns</p>\n",
       "</div>\n",
       "      <button class=\"colab-df-convert\" onclick=\"convertToInteractive('df-4b1699cb-9d57-45ec-ae24-26b99ae48825')\"\n",
       "              title=\"Convert this dataframe to an interactive table.\"\n",
       "              style=\"display:none;\">\n",
       "        \n",
       "  <svg xmlns=\"http://www.w3.org/2000/svg\" height=\"24px\"viewBox=\"0 0 24 24\"\n",
       "       width=\"24px\">\n",
       "    <path d=\"M0 0h24v24H0V0z\" fill=\"none\"/>\n",
       "    <path d=\"M18.56 5.44l.94 2.06.94-2.06 2.06-.94-2.06-.94-.94-2.06-.94 2.06-2.06.94zm-11 1L8.5 8.5l.94-2.06 2.06-.94-2.06-.94L8.5 2.5l-.94 2.06-2.06.94zm10 10l.94 2.06.94-2.06 2.06-.94-2.06-.94-.94-2.06-.94 2.06-2.06.94z\"/><path d=\"M17.41 7.96l-1.37-1.37c-.4-.4-.92-.59-1.43-.59-.52 0-1.04.2-1.43.59L10.3 9.45l-7.72 7.72c-.78.78-.78 2.05 0 2.83L4 21.41c.39.39.9.59 1.41.59.51 0 1.02-.2 1.41-.59l7.78-7.78 2.81-2.81c.8-.78.8-2.07 0-2.86zM5.41 20L4 18.59l7.72-7.72 1.47 1.35L5.41 20z\"/>\n",
       "  </svg>\n",
       "      </button>\n",
       "      \n",
       "  <style>\n",
       "    .colab-df-container {\n",
       "      display:flex;\n",
       "      flex-wrap:wrap;\n",
       "      gap: 12px;\n",
       "    }\n",
       "\n",
       "    .colab-df-convert {\n",
       "      background-color: #E8F0FE;\n",
       "      border: none;\n",
       "      border-radius: 50%;\n",
       "      cursor: pointer;\n",
       "      display: none;\n",
       "      fill: #1967D2;\n",
       "      height: 32px;\n",
       "      padding: 0 0 0 0;\n",
       "      width: 32px;\n",
       "    }\n",
       "\n",
       "    .colab-df-convert:hover {\n",
       "      background-color: #E2EBFA;\n",
       "      box-shadow: 0px 1px 2px rgba(60, 64, 67, 0.3), 0px 1px 3px 1px rgba(60, 64, 67, 0.15);\n",
       "      fill: #174EA6;\n",
       "    }\n",
       "\n",
       "    [theme=dark] .colab-df-convert {\n",
       "      background-color: #3B4455;\n",
       "      fill: #D2E3FC;\n",
       "    }\n",
       "\n",
       "    [theme=dark] .colab-df-convert:hover {\n",
       "      background-color: #434B5C;\n",
       "      box-shadow: 0px 1px 3px 1px rgba(0, 0, 0, 0.15);\n",
       "      filter: drop-shadow(0px 1px 2px rgba(0, 0, 0, 0.3));\n",
       "      fill: #FFFFFF;\n",
       "    }\n",
       "  </style>\n",
       "\n",
       "      <script>\n",
       "        const buttonEl =\n",
       "          document.querySelector('#df-4b1699cb-9d57-45ec-ae24-26b99ae48825 button.colab-df-convert');\n",
       "        buttonEl.style.display =\n",
       "          google.colab.kernel.accessAllowed ? 'block' : 'none';\n",
       "\n",
       "        async function convertToInteractive(key) {\n",
       "          const element = document.querySelector('#df-4b1699cb-9d57-45ec-ae24-26b99ae48825');\n",
       "          const dataTable =\n",
       "            await google.colab.kernel.invokeFunction('convertToInteractive',\n",
       "                                                     [key], {});\n",
       "          if (!dataTable) return;\n",
       "\n",
       "          const docLinkHtml = 'Like what you see? Visit the ' +\n",
       "            '<a target=\"_blank\" href=https://colab.research.google.com/notebooks/data_table.ipynb>data table notebook</a>'\n",
       "            + ' to learn more about interactive tables.';\n",
       "          element.innerHTML = '';\n",
       "          dataTable['output_type'] = 'display_data';\n",
       "          await google.colab.output.renderOutput(dataTable, element);\n",
       "          const docLink = document.createElement('div');\n",
       "          docLink.innerHTML = docLinkHtml;\n",
       "          element.appendChild(docLink);\n",
       "        }\n",
       "      </script>\n",
       "    </div>\n",
       "  </div>\n",
       "  "
      ],
      "text/plain": [
       "      resultado                                            mensaje\n",
       "0             0  Free entry in 2 a wkly comp to win FA Cup fina...\n",
       "1             0  FreeMsg Hey there darling it's been 3 week's n...\n",
       "2             1  As per your request 'Melle Melle (Oru Minnamin...\n",
       "3             0  WINNER!! As a valued network customer you have...\n",
       "4             0  Had your mobile 11 months or more? U R entitle...\n",
       "...         ...                                                ...\n",
       "1285          0  Had your contract mobile 11 Mnths? Latest Moto...\n",
       "1286          1  Yeh. Indians was nice. Tho it did kane me off ...\n",
       "1287          0  REMINDER FROM O2: To get 2.50 pounds free call...\n",
       "1288          0  This is the 2nd time we have tried 2 contact u...\n",
       "1289          1  The guy did some bitching but I acted like i'd...\n",
       "\n",
       "[1290 rows x 2 columns]"
      ]
     },
     "execution_count": 133,
     "metadata": {},
     "output_type": "execute_result"
    }
   ],
   "source": [
    "df"
   ]
  },
  {
   "cell_type": "markdown",
   "metadata": {
    "id": "iq_fmfj-FLbE"
   },
   "source": [
    "## Limpieza de datos"
   ]
  },
  {
   "cell_type": "code",
   "execution_count": null,
   "metadata": {
    "colab": {
     "base_uri": "https://localhost:8080/"
    },
    "id": "Xl3_YxZr_mVj",
    "outputId": "e2438753-4845-45b5-a00f-13c748e1663c"
   },
   "outputs": [
    {
     "name": "stdout",
     "output_type": "stream",
     "text": [
      "Colab only includes TensorFlow 2.x; %tensorflow_version has no effect.\n"
     ]
    }
   ],
   "source": [
    "# El código anterior me trae la última versión de keras\n",
    "try:\n",
    "  %tensorflow_version 2.x\n",
    "except Exception:\n",
    "  pass\n",
    "  \n",
    "import tensorflow as tf\n",
    "\n",
    "from tensorflow.keras import layers # importar layers desde keras\n",
    "\n",
    "import tensorflow_datasets as tfds # este me trae los tokens"
   ]
  },
  {
   "cell_type": "code",
   "execution_count": null,
   "metadata": {
    "id": "A44G9k2EFFCz"
   },
   "outputs": [],
   "source": [
    "def clean_tweet(tweet):\n",
    "\n",
    "  tweet= BeautifulSoup(tweet,\"lxml\").get_text() # sirve para trabajar en un formato especial de tratar el texto. hay que usar el get_text para que me lo devuela en un formato legible\n",
    "  \n",
    "  # Dejamos todo en minúscula\n",
    "  tweet = tweet.lower()\n",
    "  # Reemplazamos puntos por espacios\n",
    "  tweet = tweet.replace(\".\",\" \")\n",
    "  # Eliminamos la @ y su mención\n",
    "  tweet = re.sub(r\"@[A-Za-z0-9.]+\",' ',tweet) # después del @ puede leer lo que se encuentra en el []. El + significa. El r significa raw o string\n",
    "  # Eliminamos los links de la URLs\n",
    "  tweet = re.sub(r\"https?://[A-Za-z0-9./]+\",' ', tweet) # aqui el ? me dice que el caracter anterior puede estar o no\n",
    "  # Nos quedamos solo con los caracteres\n",
    "  tweet = re.sub(r\"[^a-zA-Z.!?']\",' ',tweet)# cualquier cosa que no sea lo que viene después de ^ se va a sustituir por espacios en blanco\n",
    "  # Eliminamos los sitios web\n",
    "  tweet = re.sub(r\"www[A-Za-z0-9./]+\",' ', tweet)\n",
    "  # Eliminamos espacios en blanco adicionales\n",
    "  tweet = re.sub(r\" +\",' ',tweet)# si existe más de un espacio en blanco lo reemplazamos por uno solo. El más me dice eso, si hay más de uno reemplazo\n",
    "  return tweet"
   ]
  },
  {
   "cell_type": "code",
   "execution_count": null,
   "metadata": {
    "id": "Qk5XMMJXFaF7"
   },
   "outputs": [],
   "source": [
    "df_clean = [clean_tweet(tweet) for tweet in df.mensaje] # esto me queda en una lista guardado"
   ]
  },
  {
   "cell_type": "code",
   "execution_count": null,
   "metadata": {
    "colab": {
     "base_uri": "https://localhost:8080/"
    },
    "id": "C8ttVkv28PUJ",
    "outputId": "8cd2ab30-b7c0-41c8-e52c-a1307e95e9c7"
   },
   "outputs": [
    {
     "data": {
      "text/plain": [
       "[\"free entry in a wkly comp to win fa cup final tkts st may text fa to to receive entry question std txt rate t c's apply over 's\",\n",
       " \"freemsg hey there darling it's been week's now and no word back! i'd like some fun you up for it still? tb ok! xxx std chgs to send to rcv\",\n",
       " \"as per your request 'melle melle oru minnaminunginte nurungu vettam ' has been set as your callertune for all callers press to copy your friends callertune\",\n",
       " 'winner!! as a valued network customer you have been selected to receivea prize reward! to claim call claim code kl valid hours only ',\n",
       " 'had your mobile months or more? u r entitled to update to the latest colour mobiles with camera for free! call the mobile update co free on ',\n",
       " 'six chances to win cash! from to pounds txt csh and send to cost p day days tsandcs apply reply hl info',\n",
       " 'urgent! you have won a week free membership in our prize jackpot! txt the word claim to no t c www dbuk net lccltd pobox ldnw a rw ',\n",
       " 'xxxmobilemovieclub to use your credit click the wap link in the next txt message or click here xxxmobilemovieclub com?n qjkgighjjgcbl',\n",
       " 'england v macedonia dont miss the goals team news txt ur national team to eg england to try wales scotland txt poboxox w wq ',\n",
       " \"just forced myself to eat a slice i'm really not hungry tho this sucks mark is getting worried he knows i'm sick when i turn down pizza lol\",\n",
       " \"did you catch the bus ? are you frying an egg ? did you make a tea? are you eating your mom's left over dinner ? do you feel my love ?\",\n",
       " \"wait that's still not all that clear were you not sure about me being sarcastic or that that's why x doesn't want to live with us\",\n",
       " 'thanks for your subscription to ringtone uk your mobile will be charged month please confirm by replying yes or no if you reply no you will not be charged',\n",
       " 'yup ok i go home look at the timings then i msg again xuhui going to learn on nd may too but her lesson is at am',\n",
       " \"hello! how's you and how did saturday go? i was just texting to see if you'd decided to do anything tomo not that i'm trying to invite myself or anything!\",\n",
       " 'did i forget to tell you ? i want you i need you i crave you but most of all i love you my sweet arabian steed mmmmmm yummy',\n",
       " \"u don't know how stubborn i am i didn't even want to go to the hospital i kept telling mark i'm not a weak sucker hospitals are for weak suckers \",\n",
       " 'sms ac sptv the new jersey devils and the detroit red wings play ice hockey correct or incorrect? end? reply end sptv',\n",
       " 'congrats! year special cinema pass for is yours call now! c suprman v matrix starwars etc all free! bx ip we pm dont miss out! ',\n",
       " 'as a valued customer i am pleased to advise you that following recent review of your mob no you are awarded with a bonus prize call ',\n",
       " 'today is song dedicated day which song will u dedicate for me? send this to all ur valuable frnds but first rply me ',\n",
       " 'urgent ur awarded a complimentary trip to eurodisinc trav aco entry or to claim txt dis to morefrmmob shracomorsglsuplt ls aj',\n",
       " \"for real when u getting on yo? i only need more tickets and one more jacket and i'm done i already used all my multis \",\n",
       " \"yes i started to send requests to make it but pain came back so i'm back in bed double coins at the factory too i gotta cash in all my nitros \",\n",
       " 'smile in pleasure smile in pain smile when trouble pours like rain smile when sum hurts u smile becoz someone still loves to see u smiling!!',\n",
       " 'please call our customer service representative on between am pm as you have won a guaranteed cash or prize!',\n",
       " 'your free ringtone is waiting to be collected simply text the password mix to to verify get usher and britney fml po box mk h ppw ',\n",
       " \"as per your request 'melle melle oru minnaminunginte nurungu vettam ' has been set as your callertune for all callers press to copy your friends callertune\",\n",
       " 'i know! grumpy old people my mom was like you better not be lying then again i am always the one to play jokes ',\n",
       " 'gent! we are trying to contact you last weekends draw shows that you won a prize guaranteed call claim code k valid hrs only ppm',\n",
       " \"wa ur openin sentence very formal anyway i'm fine too juz tt i'm eatin too much n puttin on weight haha so anythin special happened?\",\n",
       " \"as i entered my cabin my pa said '' happy b'day boss !!'' i felt special she askd me lunch after lunch she invited me to her apartment we went there \",\n",
       " 'you are a winner u have been specially selected receive or a holiday flights inc speak to a live operator claim p min ',\n",
       " 'private! your account statement for shows unredeemed bonus points to claim call identifier code expires',\n",
       " 'urgent! your mobile no was awarded bonus caller prize on this is our final try to contact u! call from landline box wr c ppm',\n",
       " 'todays voda numbers ending are selected to receive a award if you have a match please call quoting claim code standard rates app',\n",
       " 'sunshine quiz wkly q! win a top sony dvd player if u know which country the algarve is in? txt ansr to sp tyrone',\n",
       " \"want get laid tonight? want real dogging locations sent direct ur mob? join the uk's largest dogging network bt txting gravel to ! nt ec a p msg \",\n",
       " \"you'll not rcv any more msgs from the chat svc for free hardcore services text go to if u get nothing u must age verify with yr network try again\",\n",
       " 'a swt thought nver get tired of doing little things lovable persons coz somtimes those little things occupy d biggest part in their hearts gud ni ',\n",
       " \"freemsg why haven't you replied to my text? i'm randy sexy female and live local luv to hear from u netcollex ltd p per msg reply stop to end\",\n",
       " \"as per your request 'melle melle oru minnaminunginte nurungu vettam ' has been set as your callertune for all callers press to copy your friends callertune\",\n",
       " 'hello my love what are you doing? did you get to that interview today? are you you happy? are you being a good boy? do you think of me?are you missing me ?',\n",
       " 'customer service annoncement you have a new years delivery waiting for you please call now to arrange delivery',\n",
       " 'you are a winner u have been specially selected receive cash or a holiday flights inc speak to a live operator claim ',\n",
       " \"keep yourself safe for me because i need you and i miss you already and i envy everyone that see's you in real life\",\n",
       " ' pls stop bootydelious f is inviting you to be her friend reply yes or no see her www sms ac u bootydelious stop? send stop frnd to ',\n",
       " 'bangbabes ur order is on the way u should receive a service msg download ur content if u do not goto wap bangb tv on ur mobile internet service menu',\n",
       " 'urgent! we are trying to contact you last weekends draw shows that you have won a prize guaranteed call claim code s valid hrs only',\n",
       " \"hi! you just spoke to maneesha v we'd like to know if you were satisfied with the experience reply toll free with yes or no \",\n",
       " 'you lifted my hopes with the offer of money i am in need especially when the end of the month approaches and it hurts my studying anyways have a gr weekend',\n",
       " \"hello handsome ! are you finding that job ? not being lazy ? working towards getting back that net for mummy ? where's my boytoy now ? does he miss me ?\",\n",
       " 'please call our customer service representative on freephone between am pm as you have won a guaranteed cash or prize!',\n",
       " 'hi its kate how is your evening? i hope i can see you tomorrow for a bit but i have to bloody babyjontet! txt back if u can xxx',\n",
       " \"as i entered my cabin my pa said '' happy b'day boss !!'' i felt special she askd me lunch after lunch she invited me to her apartment we went there \",\n",
       " \"yeah you should i think you can use your gt atm now to register not sure but if there's anyway i can help let me know but when you do be sure you are ready \",\n",
       " 'there is os called ubandu which will run without installing in hard disk you can use that os to copy the important files in system and give it to repair shop ',\n",
       " 'u say leh of course nothing happen lar not say v romantic jus a bit only lor i thk e nite scenery not so nice leh ',\n",
       " ' new mobiles from must go! txt nokia to no collect yours today!from only www tc biz optout gbp mtmsg ',\n",
       " 'will u meet ur dream partner soon? is ur career off a flyng start? find out free txt horo followed by ur star sign e g horo aries',\n",
       " 'text meet someone sexy today u can find a date or even flirt its up to u join just p reply with name age eg sam msg recd pence',\n",
       " 'new theory argument wins d situation but loses the person so dont argue with ur friends just kick them ',\n",
       " 'u have a secret admirer who is looking make contact with u find out who they r reveal who thinks ur so special call on ',\n",
       " \"although i told u dat i'm into baig face watches now but i really like e watch u gave cos it's fr u thanx everything dat u've done today i'm touched \",\n",
       " 'it didnt work again oh ok goodnight then i ll fix and have it ready by the time you wake up you are very dearly missed have a good night sleep ',\n",
       " 'congratulations ur awarded of cd vouchers or gift guaranteed free entry wkly draw txt music to tncs www ldew com win ppmx age ',\n",
       " 'we tried to contact you re your reply to our offer of a video handset? anytime networks mins? unlimited text? camcorder? reply or call now',\n",
       " 'hey i am really horny want to chat or see me naked text hot to text charged at pm to unsubscribe text stop ',\n",
       " 'ur ringtone service has changed! free credits! go to club mobiles com to choose content now! stop? txt club stop to p wk club po box mk wt',\n",
       " 'ringtone club get the uk singles chart on your mobile each week and choose any top quality ringtone! this message is free of charge ',\n",
       " 'night has ended for another day morning has come in a special way may you smile like the sunny rays and leaves your worries at the blue blue bay ',\n",
       " 'hmv bonus special pounds of genuine hmv vouchers to be won just answer easy questions play now! send hmv to more info www percent real com',\n",
       " 'wen u miss someone the person is definitely special for u but if the person is so special why to miss them just keep in touch gdeve ',\n",
       " \"yeah i think my usual guy's still passed out from last night if you get ahold of anybody let me know and i'll throw down\",\n",
       " 'hi baby im cruisin with my girl friend what r u up ? give me a call in and hour at home if thats alright or fone me on this fone now love jenny xxx',\n",
       " 'my life means a lot to me not because i love my life but because i love the people in my life the world calls them friends i call them my world ge ',\n",
       " 'dear shall mail tonite busy in the street shall update you tonite things are looking ok varunnathu edukkukayee raksha ollu but a good one in real sense ',\n",
       " \"t mobile customer you may now claim your free camera phone upgrade a pay go sim card for your loyalty call on offer ends thfeb t c's apply\",\n",
       " 'hurt me tease me make me cry but in the end of my life when i die plz keep one rose on my grave and say stupid i miss u have a nice day bslvyl',\n",
       " 'shit that is really shocking and scary cant imagine for a second def up for night out do u think there is somewhere i could crash for night save on taxi?',\n",
       " 'sms ac blind date u! rodds is m from aberdeen united kingdom check him out sms ac w icmb cktz r ! no blind dates send hide',\n",
       " 'themob check out our newest selection of content games tones gossip babes and sport keep your mobile fit and funky text wap to ',\n",
       " 'today is accept day u accept me as? brother sister lover dear best clos lvblefrnd jstfrnd cutefrnd lifpartnr belovd swtheart bstfrnd no rply means enemy',\n",
       " 'think ur smart ? win this week in our weekly quiz text play to now!t cs winnersclub po box m uz gbp week',\n",
       " \"he says he'll give me a call when his friend's got the money but that he's definitely buying before the end of the week\",\n",
       " 'hi the way i was with u day is the normal way this is the real me ur unique i hope i know u the rest of mylife hope u find wot was lost ',\n",
       " 'hmmm guess we can go kb n power yoga haha dunno we can tahan power yoga anot thk got lo oso forgot liao ',\n",
       " 'december only! had your mobile mths ? you are entitled to update to the latest colour camera mobile for free! call the mobile update co free on ',\n",
       " \"that would be great we'll be at the guild could meet on bristol road or somewhere will get in touch over weekend our plans take flight! have a good week\",\n",
       " 'call germany for only pence per minute! call from a fixed line via access number no prepayment direct access!',\n",
       " 'valentines day special! win over in our quiz and take your partner on the trip of a lifetime! send go to now p msg rcvd custcare ',\n",
       " 'i take it the post has come then! you must have s of texts now! happy reading my one from wiv hello caroline at the end is my favourite bless him',\n",
       " \"today is sorry day ! if ever i was angry with you if ever i misbehaved or hurt you? plz plz just slap urself bcoz its ur fault i'm basically good\",\n",
       " 'yo you guys ever figure out how much we need for alcohol? jay and i are trying to figure out how much we can safely spend on weed',\n",
       " 'congratulations ur awarded of cd vouchers or gift guaranteed free entry wkly draw txt music to tncs www ldew com win ppmx age ',\n",
       " 'ur cash balance is currently pounds to maximize ur cash in now send cash to only p msg cc hg suite lands row w j hl',\n",
       " \"i'm an actor when i work i work in the evening and sleep late since i'm unemployed at the moment i always sleep late when you're unemployed every day is saturday \",\n",
       " 'good afternoon sunshine! how dawns that day ? are we refreshed and happy to be alive? do we breathe in the air and smile ? i think of you my love as always',\n",
       " 'update now xmas offer! latest motorola sonyericsson nokia free bluetooth! double mins txt on orange call mobileupd on or call optout f q ',\n",
       " 'here is your discount code rp to stop further messages reply stop www regalportfolio co uk customer services ',\n",
       " 'hello my boytoy geeee i miss you already and i just woke up i wish you were here in bed with me cuddling me i love you ',\n",
       " 'i cant keep talking to people if am not sure i can pay them if they agree to price so pls tell me what you want to really buy and how much you are willing to pay',\n",
       " 'thanks for your ringtone order reference t you will be charged gbp per week you can unsubscribe at anytime by calling customer services on ',\n",
       " \"well there's not a lot of things happening in lindsay on new years sighs some bars in ptbo and the blue heron has something going\",\n",
       " 'i taught that ranjith sir called me so only i sms like that becaus hes verifying about project prabu told today so only pa dont mistake me ',\n",
       " 'double mins and txts months free bluetooth on orange available on sony nokia motorola phones call mobileupd on or call optout n dx',\n",
       " ' mths half price orange line rental latest camera phones free had your phone mths ? call mobilesdirect free on to update now! or stoptxt',\n",
       " 'yes i think so i am in office but my lap is in room i think thats on for the last few days i didnt shut that down',\n",
       " 'was actually sleeping and still might when u call back so a text is gr you rock sis will send u a text wen i wake ',\n",
       " 'hmmm k but i want to change the field quickly da i wanna get system administrator or network administrator ',\n",
       " 'free ringtone text first to for a poly or text get to for a true tone! help? after st free tones are x pw to e nd txt stop',\n",
       " \"all was well until slightly disastrous class this pm with my fav darlings! hope day off ok coffee wld be good as can't stay late tomorrow same time place as always?\",\n",
       " 'message some text missing sender name missing number missing sent date missing missing u a lot thats y everything is missing sent via fullonsms com',\n",
       " 'send a logo ur lover names joined by a heart txt love name name mobno eg love adam eve to yahoo! pobox w wq txtno no ads p',\n",
       " 'someone has contacted our dating service and entered your phone because they fancy you! to find out who it is call from a landline pobox n tf p',\n",
       " 'urgent! your mobile number has been awarded with a prize guaranteed call from land line claim valid hrs only',\n",
       " 'congrats! nokia video camera phone is your call calls cost ppm ave call mins vary from mobiles close post bcm ldn wc n xx',\n",
       " 'hey hey werethe monkeespeople say we monkeyaround! howdy gorgeous howu doin? foundurself a jobyet sausage?love jen xxx',\n",
       " \"loan for any purpose homeowners tenants welcome have you been previously refused? we can still help call free or text back 'help'\",\n",
       " 'look at amy ure a beautiful intelligent woman and i like u a lot i know u don t like me like that so don t worry ',\n",
       " \"i hope you that's the result of being consistently intelligent and kind start asking him about practicum links and keep your ears open and all the best ttyl\",\n",
       " 'going thru a very different feeling wavering decisions and coping up with the same is the same individual time will heal everything i believe ',\n",
       " 'okmail dear dave this is your final notice to collect your tenerife holiday or cash award! call from landline tcs sae box cw wx ppm',\n",
       " \"want get laid tonight? want real dogging locations sent direct ur mob? join the uk's largest dogging network by txting moan to nyt ec a p msg \",\n",
       " \"nice line said by a broken heart plz don't cum more times infront of me other wise once again i ll trust u good t \",\n",
       " 'free message activate your free text messages by replying to this message with the word free for terms conditions visit www com',\n",
       " \"sorry man my account's dry or i would if you want we could trade back half or i could buy some shit with my credit card\",\n",
       " 'congrats! year special cinema pass for is yours call now! c suprman v matrix starwars etc all free! bx ip we pm dont miss out!',\n",
       " 'fighting with the world is easy u either win or lose bt fightng with some who is close to u is dificult if u lose u lose if u win u still lose ',\n",
       " \" congratulations in this week's competition draw u have won the prize to claim just call b t cs stop sms over only ppm\",\n",
       " \"no it's waiting in e car dat's bored wat cos wait outside got nothing do at home can do my stuff or watch tv wat \",\n",
       " \"you should know now so how's anthony are you bringing money i've school fees to pay and rent and stuff like that thats why i need your help a friend in need \",\n",
       " 'your opinion about me? over jada kusruthi lovable silent spl character not matured stylish simple pls reply ',\n",
       " 'you are guaranteed the latest nokia phone a gb ipod mp player or a prize! txt word collect to no ! ibhltd ldnw h p mtmsgrcvd ',\n",
       " 'boltblue tones for p reply poly or mono eg poly cha cha slide yeah slow jamz toxic come with me or stop more tones txt more',\n",
       " 'that way transport is less problematic than on sat night by the way if u want to ask n to join my bday feel free but need to know definite nos as booking on fri ',\n",
       " \"usually the person is unconscious that's in children but in adults they may just behave abnormally i ll call you now\",\n",
       " 'urgent! your mobile no was awarded a bonus caller prize on ! this is our nd attempt to contact you! call box qu',\n",
       " \"today's offer! claim ur worth of discount vouchers! text yes to now! savamob member offers mobile! t cs sub unsub reply x\",\n",
       " 'private! your account statement for shows un redeemed s i m points call identifier code expires ',\n",
       " 'good afternoon my love! how goes that day ? i hope maybe you got some leads on a job i think of you boytoy and send you a passionate kiss from across the sea',\n",
       " \"a famous quote when you develop the ability to listen to 'anything' unconditionally without losing your temper or self confidence it means you are 'married'\",\n",
       " \"this girl does not stay in bed this girl doesn't need recovery time id rather pass out while having fun then be cooped up in bed\",\n",
       " \"i know but you need to get hotel now i just got my invitation but i had to apologise cali is to sweet for me to come to some english bloke's weddin\",\n",
       " \"sure if i get an acknowledgement from you that it's astoundingly tactless and generally faggy to demand a blood oath fo\",\n",
       " \"ok every night take a warm bath drink a cup of milk and you'll see a work of magic you still need to loose weight just so that you know\",\n",
       " 'i ll have a look at the frying pan in case it s cheap or a book perhaps no that s silly a frying pan isn t likely to be a book',\n",
       " 'aiyo u always c our ex one i dunno abt mei she haven reply first time u reply so fast y so lucky not workin huh got bao by ur sugardad ah gee ',\n",
       " 'gent! we are trying to contact you last weekends draw shows that you won a prize guaranteed call claim code k valid hrs only ppm ',\n",
       " \"fuck babe i miss you already you know ? can't you let me send you some money towards your net ? i need you i want you i crave you \",\n",
       " 'so anyways you can just go to your gym or whatever my love smiles i hope your ok and having a good day babe i miss you so much already',\n",
       " 'yar lor wait my mum finish sch then have lunch lor i whole morning stay at home clean my room now my room quite clean hee ',\n",
       " 'we tried to contact you re your reply to our offer of mins textand a new video phone call now or reply for free delivery tomorrow',\n",
       " \"for ur chance to win a wkly shopping spree txt shop to t's c's www txt shop com custcare x p wk\",\n",
       " 'you have been specially selected to receive a pound award! call before the lines close cost ppm t cs apply ag promo',\n",
       " 'private! your account statement for shows un redeemed s i m points call identifier code expires ',\n",
       " 'i met you as a stranger and choose you as my friend as long as the world stands our friendship never ends lets be friends forever!!! gud nitz ',\n",
       " 'xclusive morow soiree speciale zouk with nichols from paris free roses all ladies !!! info ',\n",
       " ' days to kick off! for euro u will be kept up to date with the latest news and results daily to be removed send get txt stop to ',\n",
       " 'its a valentine game send dis msg to all ur friends if answers r d same then someone really loves u ques which colour suits me the best?rply me',\n",
       " 'happy valentines day i know its early but i have hundreds of handsomes and beauties to wish so i thought to finish off aunties and uncles st ',\n",
       " 'he like not v shock leh cos telling shuhui is like telling leona also like dat almost all know liao he got ask me abt ur reaction lor ',\n",
       " \"nah it's straight if you can just bring bud or drinks or something that's actually a little more useful than straight cash\",\n",
       " 'new textbuddy chat horny guys in ur area just p free receive search postcode or at gaytextbuddy com txt one name to ',\n",
       " 'todays vodafone numbers ending with are selected to a receive a award if your number matches call to receive your award ',\n",
       " 'dear voucher holder claim this weeks offer at your pc go to e tlp co uk expressoffer ts cs apply stop texts txt stop to ',\n",
       " \"said kiss kiss i can't do the sound effects! he is a gorgeous man isn't he! kind of person who needs a smile to brighten his day! \",\n",
       " 'allo! we have braved the buses and taken on the trains and triumphed i mean we re in b ham have a jolly good rest of week',\n",
       " 'private! your account statement for shows un redeemed s i m points call identifier code expires ',\n",
       " \"i'm gonna say no sorry i would but as normal am starting to panic about time sorry again! are you seeing on tuesday?\",\n",
       " 'sun cant come to earth but send luv as rays cloud cant come to river but send luv as rain i cant come to meet u but can send my care as msg to u gud evng',\n",
       " \"under the sea there lays a rock in the rock there is an envelope in the envelope there is a paper on the paper there are words '\",\n",
       " 'get ur st ringtone free now! reply to this msg with tone gr top tones to your phone every week just per wk opt out send stop ',\n",
       " \"ditto and you won't have to worry about me saying anything to you anymore like i said last night you do whatever you want and i'll do the same peace \",\n",
       " \"hi i'm sue i am years old and work as a lapdancer i love sex text me live i'm i my bedroom now text sue to by textoperator g da ppmsg \",\n",
       " 'every king was once a crying baby and every great building was once a map not imprtant where u r today but where u wil reach tomorw gud ni ',\n",
       " 'dear me at cherthala in case u r coming cochin pls call bfore u start i shall also reach accordingly or tell me which day u r coming tmorow i am engaged ans its holiday ',\n",
       " 'to review and keep the fantastic nokia n gage game deck with club nokia go www cnupdates com newsletter unsubscribe from alerts reply with the word out',\n",
       " ' mths half price orange line rental latest camera phones free had your phone mths ? call mobilesdirect free on to update now! or stoptxt t cs',\n",
       " 'save yourself the stress if the person has a dorm account just send your account details and the money will be sent to you ',\n",
       " ' urgent! this is the nd attempt to contact u!u have won call b t csbcm wc n xx callcost ppm mobilesvary max ',\n",
       " \"book which lesson? then you msg me i will call up after work or sth i'm going to get specs my membership is px \",\n",
       " 'you have won a guaranteed cash or a prize to claim yr prize call our customer service representative on between am pm',\n",
       " 'macha dont feel upset i can assume your mindset believe me one evening with me and i have some wonderful plans for both of us let life begin again call me anytime',\n",
       " \"of cos can lar i'm not so ba dao ok pm lor y u never ask where we go ah i said u would ask on fri but he said u will ask today \",\n",
       " 'even u dont get in trouble while convincing just tel him once or twice and just tel neglect his msgs dont c and read it just dont reply',\n",
       " 'hi customer loyalty offer the new nokia mobile from only at txtauction! txt word start to no get yours now! t ctxt tc p mtmsg',\n",
       " \"haha mayb u're rite u know me well da feeling of being liked by someone is gd lor u faster go find one then all gals in our group attached liao \",\n",
       " 'u are subscribed to the best mobile content service in the uk for per days until you send stop to helpline ',\n",
       " 'faith makes things possible hope makes things work love makes things beautiful may you have all three this christmas!merry christmas!',\n",
       " 'we are at grandmas oh dear u still ill? i felt shit this morning but i think i am just hungover! another night then we leave on sat ',\n",
       " 'urgent ur guaranteed award is still unclaimed! call now closingdate claimcode m m pmmorefrommobile bremoved mobypobox ls yf',\n",
       " 'nothing but we jus tot u would ask cos u ba gua but we went mt faber yest yest jus went out already mah so today not going out jus call lor ',\n",
       " 'ur awarded a city break and could win a summer shopping spree every wk txt store to skilgme tscs winawk!age perwksub',\n",
       " \"lol i know! they're so dramatic schools already closed for tomorrow apparently we can't drive in the inch of snow were supposed to get \",\n",
       " \"why don't you go tell your friend you're not sure you want to live with him because he smokes too much then spend hours begging him to come smoke\",\n",
       " 'hi its kate it was lovely to see you tonight and ill phone you tomorrow i got to sing and a guy gave me his card! xxx',\n",
       " 'happy new year my dear brother i really do miss you just got your number and decided to send you this text wishing you only happiness abiola',\n",
       " 'your opinion about me? over jada kusruthi lovable silent spl character not matured stylish simple pls reply ',\n",
       " 'it does it on its own most of the time it fixes my spelling but sometimes it gets a completely diff word go figure',\n",
       " 'ever thought about living a good life with a perfect partner? just txt back name and age to join the mobile community p sms ',\n",
       " ' free top polyphonic tones call national rate get a toppoly tune sent every week just text subpoly to per pole unsub ',\n",
       " \"this is hoping you enjoyed your game yesterday sorry i've not been in touch but pls know that you are fondly bein thot off have a great week abiola\",\n",
       " \"orange customer you may now claim your free camera phone upgrade for your loyalty call now on offer ends thmarch t c's apply opt out availa\",\n",
       " 'last chance! claim ur worth of discount vouchers today! text shop to now! savamob offers mobile! t cs savamob pobox m uz sub ',\n",
       " 'free for st week! no nokia tone ur mobile every week just txt nokia to get txting and tell ur mates www getzed co uk pobox w wq norm p tone',\n",
       " 'you have won a guaranteed award or even cashto claim ur award call free on stop getstop on php rg jx',\n",
       " 'congratulations ur awarded either of cd gift vouchers free entry our weekly draw txt music to tncs www ldew com win ppmx age ',\n",
       " 'u were outbid by simonwatson on the shinco dvd plyr bid again visit sms ac smsrewards end bid notifications reply end out',\n",
       " 'boo babe! u enjoyin yourjob? u seemed b gettin on well hunny!hope ure ok?take care i llspeak u soonlots of loveme xxxx ',\n",
       " \"good afternoon starshine! how's my boytoy? does he crave me yet? ache to fuck me ? sips cappuccino i miss you babe teasing kiss \",\n",
       " 'smsservices for yourinclusive text credits pls goto www comuk net login qxj unsubscribe with stop no extra charge help comuk cm ae',\n",
       " \" p alfie moon's children in need song on ur mob tell ur m s txt tone charity to for nokias or poly charity for polys zed profit charity \",\n",
       " 'u have a secret admirer reveal who thinks u r so special call to opt out reply reveal stop per msg recd cust care ',\n",
       " 'hi mate its rv did u hav a nice hol just a message say hello coz haven t sent u in ages started driving so stay off roads!rvx',\n",
       " 'dear voucher holder to claim this weeks offer at you pc please go to e tlp co uk expressoffer ts cs apply to stop texts txt stop to ',\n",
       " 'do you want anytime any network mins text and a new video phone for only five pounds per week call or reply for delivery tomorrow',\n",
       " 'we tried to contact you re our offer of new video phone anytime any network mins half price rental camcorder call or reply for delivery wed',\n",
       " 'last chance claim ur worth of discount vouchers text yes to now!savamob member offers mobile t cs sub remove txt x or stop',\n",
       " 'urgent! call from your landline your complimentary ibiza holiday or cash await collection sae t cs po box sk wp ppm ',\n",
       " \"today's offer! claim ur worth of discount vouchers! text yes to now! savamob member offers mobile! t cs sub unsub reply x\",\n",
       " 'ah poor baby!hope urfeeling bettersn luv! probthat overdose of work hey go careful spk u sn lots of lovejen xxx ',\n",
       " 'talk sexy!! make new friends or fall in love in the worlds most discreet text dating service just text vip to and see who you could meet ',\n",
       " 'congratulations ur awarded either a yrs supply of cds from virgin records or a mystery gift guaranteed call ts cs www smsco net pm approx mins',\n",
       " \"same here but i consider walls and bunkers and shit important just because i never play on peaceful but i guess your place is high enough that it don't matter\",\n",
       " 'private! your account statement for xxxxxx shows un redeemed s i m points call identifier code expires ',\n",
       " 'hello we need some posh birds and chaps to user trial prods for champneys can i put you down? i need your address and dob asap ta r',\n",
       " 'what do u want for xmas? how about free text messages a new video phone with half price line rental? call free now on to find out more!',\n",
       " 'talk with yourself atleast once in a day !!! otherwise you will miss your best friend in this world !!! shakespeare shesil ',\n",
       " 'shop till u drop is it you either k k cash or travel voucher call now ntt po box cr bt fixedline cost ppm mobile vary',\n",
       " 'sunshine quiz wkly q! win a top sony dvd player if u know which country liverpool played in mid week? txt ansr to sp tyrone',\n",
       " 'u have a secret admirer who is looking make contact with u find out who they r reveal who thinks ur so special call on ',\n",
       " 'u have a secret admirer who is looking make contact with u find out who they r reveal who thinks ur so special call on stopsms ',\n",
       " 'reminder you have not downloaded the content you have already paid for goto mymoby tv to collect your content ',\n",
       " 'superb thought be grateful that u dont have everything u want that means u still have an opportunity to be happier tomorrow than u are today ',\n",
       " \"i'm used to it i just hope my agents don't drop me since i've only booked a few things this year this whole me in boston them in nyc was an experiment \",\n",
       " 'your free ringtone is waiting to be collected simply text the password mix to to verify get usher and britney fml po box mk h ppw ',\n",
       " 'probably money worries things are coming due and i have several outstanding invoices for work i did two and three months ago ',\n",
       " 'all the lastest from stereophonics marley dizzee racal libertines and the strokes! win nookii games with flirt!! click themob wap bookmark or text wap to ',\n",
       " 'january male sale! hot gay chat now cheaper call national rate from p min cheap to p min peak! to stop texts call p min ',\n",
       " \"my love ! how come it took you so long to leave for zaher's? i got your words on ym and was happy to see them but was sad you had left i miss you\",\n",
       " \"can't i feel nauseous i'm so pissed i didn't eat any sweets all week cause today i was planning to pig out i was dieting all week and now i'm not hungry \",\n",
       " \"when people see my msgs they think iam addicted to msging they are wrong bcoz they don 't know that iam addicted to my sweet friends !! bslvyl\",\n",
       " 'money!!! you r a lucky winner ! claim your prize text money over million to give away ! ppt x normal text rate box w t jy',\n",
       " 'dear matthew please call from a landline your complimentary lux tenerife holiday or cash await collection ppm sae t cs box sk xh ',\n",
       " 'urgent! call from landline your complimentary tenerife holiday or cash await collection sae t cs box hp yf ppm ',\n",
       " 'better made up for friday and stuffed myself like a pig yesterday now i feel bleh but at least its not writhing pain kind of bleh ',\n",
       " \"no we sell it all so we'll have tons if coins then sell our coins to someone thru paypal voila! money back in life pockets \",\n",
       " 'how about getting in touch with folks waiting for company? just txt back your name and age to opt in! enjoy the community p sms ',\n",
       " \"and also i've sorta blown him off a couple times recently so id rather not text him out of the blue looking for weed\",\n",
       " 'ur cash balance is currently pounds to maximize ur cash in now send go to only p msg cc po box tcr w ',\n",
       " 'hey i booked the kb on sat already what other lessons are we going for ah? keep your sat night free we need to meet and confirm our lodging ',\n",
       " 'beautiful truth against gravity read carefully our heart feels light when someone is in it but it feels very heavy when someone leaves it good night',\n",
       " \"sorry i now then c ur msg yar lor so poor thing but only one night tmr u'll have a brand new room sleep in \",\n",
       " \"love isn't a decision it's a feeling if we could decide who to love then life would be much simpler but then less magical\",\n",
       " \"my sort code is and acc no is the bank is natwest can you reply to confirm i've sent this to the right person!\",\n",
       " 'urgent! we are trying to contact u todays draw shows that you have won a prize guaranteed call from land line claim m valid hrs only',\n",
       " 'hey no i ad a crap nite was borin without ya boggy with me u boring biatch! thanx but u wait til nxt time il ave ya ',\n",
       " 'congrats! mobile g videophones r yours call now! videochat wid your mates play java games dload polyph music noline rentl ',\n",
       " \"geeee i miss you already you know ? your all i can think about fuck i can't wait till next year when we will be together loving kiss \",\n",
       " 'yun ah the ubi one say if wan call by tomorrow call look for irene ere only got bus ubi cres ubi tech park ph for st wkg days n',\n",
       " 'hi im having the most relaxing time ever! we have to get up at am every day! was the party good the other night? i get home tomorrow at ish ',\n",
       " 'not a lot has happened here feels very quiet beth is at her aunts and charlie is working lots just me and helen in at the mo how have you been? ',\n",
       " 'please call our customer service representative on freephone between am pm as you have won a guaranteed cash or prize!',\n",
       " 'panasonic bluetoothhdset free nokia free motorola free doublemins doubletxt on orange contract call mobileupd on or call optout',\n",
       " \"i don't quite know what to do i still can't get hold of anyone i cud pick you up bout pm and we can see if they're in the pub?\",\n",
       " 'dear regret i cudnt pick call drove down frm ctla now at cochin home left mobile in car ente style ishtamayoo?happy bakrid!',\n",
       " 'free for st week! no nokia tone ur mob every week just txt nokia to get txting and tell ur mates www getzed co uk pobox w wq norm p tone ',\n",
       " 'guess what! somebody you know secretly fancies you! wanna find out who it is? give us a call on from landline datebox essexcm xn p min ',\n",
       " \"oh mr sheffield! you wanna play that game okay you're the boss and i'm the nanny you give me a raise and i'll give you one!!\",\n",
       " \"hello baby did you get back to your mom's ? are you setting up the computer now ? filling your belly ? how goes it loverboy ? i miss you already sighs \",\n",
       " \"naughty little thought 'its better to flirt flirt n flirt rather than loving someone n gettin hurt hurt n hurt gud nyt\",\n",
       " 'edison has rightly said a fool can ask more questions than a wise man can answer now you know why all of us are speechless during viva gm gn ge gnt ',\n",
       " ' days to euro kickoff! u will be kept informed of all the latest news and results daily unsubscribe send get euro stop to ',\n",
       " 'i got another job! the one at the hospital doing data analysis or something starts on monday! not sure when my thesis will got finished',\n",
       " 'hiya comin bristol st week in april les got off rudi on new yrs eve but i was snoring they were drunk! u bak at college yet? my work sends ink bath ',\n",
       " 'eastenders tv quiz what flower does dot compare herself to? d violet e tulip f lily txt d e or f to now chance win cash wkent p ',\n",
       " 'i might come to kerala for days so you can be prepared to take a leave once i finalise dont plan any travel during my visit need to finish urgent works ',\n",
       " 'ok not sure what time tho as not sure if can get to library before class will try see you at some point! have good eve ',\n",
       " 'we have new local dates in your area lots of new people registered in your area reply date to start now! only www flirtparty us replys ',\n",
       " 'someone u know has asked our dating service contact you! cant guess who? call now all will be revealed po box m wu',\n",
       " 'urgent! we are trying to contact u todays draw shows that you have won a prize guaranteed call from land line claim c valid hrs only',\n",
       " 'lul im gettin some juicy gossip at the hospital two nurses are talking about how fat they are gettin and one thinks shes obese oyea ',\n",
       " 'wat makes some people dearer is not just de happiness dat u feel when u meet them but de pain u feel when u miss dem!!!',\n",
       " \"fr'ndship is like a needle of a clock though v r in d same clock v r nt able met evn if v meet itz only few seconds bt v alwys stay conected gud t\",\n",
       " 'you are awarded a sipix digital camera! call from landline delivery within days t cs box m bp yr warranty ppm p p ',\n",
       " 'win urgent! your mobile number has been awarded with a prize guaranteed call from land line claim valid hrs only ppm ',\n",
       " 'dear subscriber ur draw gift voucher will b entered on receipt of a correct ans when was elvis presleys birthday? txt answer to ',\n",
       " \"don't fret i'll buy the ovulation test strips and send them to you you wont get them til like march can you send me your postal address u'll be alright okay \",\n",
       " 'message important information for o user today is your lucky day! find out why log onto urawinner com there is a fantastic surprise awaiting you',\n",
       " 'good afternoon my love how goes your day ? what are you up to ? i woke early and am online waiting for you hmmm italian boy is online i see grins ',\n",
       " \"from someone not to smoke when every time i've smoked in the last two weeks is because of you calling or texting me that you wanted to smoke\",\n",
       " \"bored of speed dating? try speedchat txt speedchat to if you don't like em txt swap and get a new chatter! chat pobox w wq p msg rcd \",\n",
       " 'do you want anytime any network mins text and a new video phone for only five pounds per week call now or reply for delivery tomorrow',\n",
       " 'for taking part in our mobile survey yesterday! you can now have texts use however you wish get txts just send txt to t c www txt com p',\n",
       " 'height of oh shit !! situation a guy throws a luv letter on a gal but falls on her brothers head whos a gay ',\n",
       " \"as i entered my cabin my pa said '' happy b'day boss !!'' i felt special she askd me lunch after lunch she invited me to her apartment we went there \",\n",
       " 'dont forget you can place as many free requests with stchoice co uk as you wish for more information call ',\n",
       " 'message some text missing sender name missing number missing sent date missing missing u a lot thats y everything is missing sent via fullonsms com',\n",
       " \"i don't know u and u don't know me send chat to now and let's find each other! only p msg rcvd hg suite lands row w j hl ldn years or over \",\n",
       " 'really i tot ur paper ended long ago but wat u copied jus now got use? u happy lar i still haf study ',\n",
       " 'thank you winner notified by sms good luck! no future marketing reply stop to customer services ',\n",
       " \" 's of girls many local u who r virgins this r ready fil ur every sexual need can u fil theirs? text cute to p m \",\n",
       " \"he's an adult and would learn from the experience there's no real danger i just dont like peeps using drugs they dont need but no comment\",\n",
       " \"free entry in a wkly comp to win fa cup final tkts st may text fa to to receive entry question std txt rate t c's apply over 's\",\n",
       " 'new theory argument wins d situation but loses the person so dont argue with ur friends just kick them ',\n",
       " 'msgs r not time pass they silently say that i am thinking of u right now and also making u think of me at least a moment gd nt swt drms ',\n",
       " 'got what it takes take part in the wrc rally in oz? u can with lucozade energy! text rally le to p see packs or lucozade co uk wrc itcould be u!',\n",
       " \"horrible u eat macs eat until u forgot abt me already rite u take so long reply i thk it's more toot than b so b prepared now wat shall i eat?\",\n",
       " 'did he say how fantastic i am by any chance or anything need a bigger life lift as losing the will live do you think i would be the first person die from n v q? ',\n",
       " \"i was up all night too worrying about this appt it's a shame we missed a girls night out with quizzes popcorn and you doing my hair \",\n",
       " 'sex up ur mobile with a free sexy pic of jordan! just text babe to then every wk get a sexy celeb! pocketbabe co uk more pics wk ',\n",
       " 'al he does is moan at me if n e thin goes wrong its my fault al de arguments r my fault fed up of him of himso y bother? hav go thanx xx',\n",
       " 'win a year supply of cds a store of ur choice worth enter our weekly draw txt music to ts cs www ldew com subs win ppmx ',\n",
       " 'the whole car appreciated the last two! dad and are having a map reading semi argument but apart from that things are going ok p ',\n",
       " 'as a sim subscriber you are selected to receive a bonus! get it delivered to your door txt the word ok to no to claim p msg exp apr',\n",
       " 'yeah probably but not sure ilol let u know but personally i wuldnt bother then again if ur goin to then i mite as well!!',\n",
       " 'true it is passable and if you get a high score and apply for phd you get years of salary so it makes life easier ',\n",
       " 'no nokia tone ur mob every week! just txt nok to st tone free ! so get txtin now and tell ur friends p tone reply hl info',\n",
       " 'you are a winner u have been specially selected receive cash or a holiday flights inc speak to a live operator claim ',\n",
       " 'reply with your name and address and you will receive by post a weeks completely free accommodation at various global locations www phb com ph p',\n",
       " 'free entry into our weekly comp just send the word enter to now t c www textcomp com cust care ',\n",
       " 'hello quit edrunk sorry iff pthis makes no senrd dnot no how dancce drum n basq!ihave fun nhite x ros xxxxxxx',\n",
       " 'your opinion about me? over jada kusruthi lovable silent spl character not matured stylish simple pls reply ',\n",
       " 'hi hun! im not comin nite tell every im sorry me hope u ava goodtime!oli rang melnite ifink it mite b sorted but il explain everythin on mon l rs x',\n",
       " 'hungry gay guys feeling hungry and up it now call just p min to stop texts call p min ',\n",
       " 'im in inperialmusic listening the weirdest track ever by leafcutter john sounds like insects being molested someone plumbing remixed by evil men on acid!',\n",
       " 'hey sorry i didntgive ya a a bellearlier hunny just been in bedbut mite go thepub l tr if uwana mt up?loads a luv jenxxx ',\n",
       " 'can u get phone now? i wanna chat set up meet call me now on u can cum here moro luv jane xx calls minmoremobsemspobox po wa',\n",
       " 'if you still havent collected the dough pls let me know so i can go to the place i sent it to get the control number',\n",
       " 'ever green quote ever told by jerry in cartoon a person who irritates u always is the one who loves u vry much but fails to express it ! !! gud nyt',\n",
       " 'night has ended for another day morning has come in a special way may you smile like the sunny rays and leaves your worries at the blue blue bay gud mrng',\n",
       " 'what do you do my dog ? must i always wait till the end of your day to have word from you ? did you run out of time on your cell already?',\n",
       " 'those cocksuckers if it makes you feel better ipads are worthless garbage novelty items and you should feel bad for even wanting one',\n",
       " 'fran i decided go n e way im completely broke an knackered i got up bout c u mrw love janx p s this is my dads fone no credit',\n",
       " 'enjoy the jamster videosound gold club with your credits for new videosounds logos musicnews! get more fun from jamster co uk! only help? call ',\n",
       " 'get lions england tone reply lionm mono or lionp poly more go www ringtones co uk the original n best tones gbp network operator rates apply',\n",
       " \"got but got colours lor one colour is quite light n e other is darker lor actually i'm done she's styling my hair now \",\n",
       " 'win the newest harry potter and the order of the phoenix book reply harry answer questions chance to be the first among readers!',\n",
       " \"ur balance is now ur next question is who sang 'uptown girl' in the 's ? answer txt ur answer to good luck!\",\n",
       " 'oh ! a half hour is much longer in syria than canada eh ? wow you must get so much more work done in a day than us with all that extra time ! grins ',\n",
       " 'sometimes we put walls around our hearts not just to be safe from getting hurt but to find out who cares enough to break the walls ',\n",
       " \"crazy ar he's married like gd looking guys not me my frens like say he's korean leona's fave but i dun thk he is aft some thinking mayb most prob i'll go \",\n",
       " \"free day sexy st george's day pic of jordan!txt pic to dont miss out then every wk a saucy celeb! more pics c pocketbabe co uk wk\",\n",
       " 'let ur heart be ur compass ur mind ur map ur soul ur guide and u will never loose in world gnun sent via way sms com',\n",
       " 'good afternoon loverboy ! how goes you day ? any luck come your way? i think of you sweetie and send my love across the sea to make you smile and happy',\n",
       " 'if i start sending blackberry torch to nigeria will you find buyer for me?like a month and tell dad not to buy bb from anyone oh ',\n",
       " \"hey i will be really pretty late you want to go for the lesson first? i will join you i'm only reaching tp mrt\",\n",
       " 'bears pic nick and tom pete and dick in fact all types try gay chat with photo upload call p min stop texts call ',\n",
       " ' new mobiles from must go! txt nokia to no collect yours today!from only www tc biz optout gbp mtmsg txtauction',\n",
       " 'double mins double txt price linerental on latest orange bluetooth mobiles call mobileupd for the very latest offers or call optout lf ',\n",
       " 'no nokia tone ur mob every week! just txt nok to st tone free ! so get txtin now and tell ur friends p tone reply hl info',\n",
       " 'we spend our days waiting for the ideal path to appear in front of us but what we forget is paths are made by walking not by waiting goodnight!',\n",
       " \"that's ok i popped in to ask bout something and she said you'd been in are you around tonght wen this girl comes?\",\n",
       " \"hope ur head doesn't hurt much ! am ploughing my way through a pile of ironing ! staying in with a chinky tonight come round if you like \",\n",
       " 'haha where got so fast lose weight thk muz go a month den got effect gee later we go aust put bk e weight ',\n",
       " 'i wonder how you got online my love ? had you gone to the net cafe ? did you get your phone recharged ? were you on a friends net ? i think of you boytoy',\n",
       " 'urgent important information for o user today is your lucky day! find out why log onto urawinner com there is a fantastic surprise awaiting for you',\n",
       " 'somewhere out there beneath the pale moon light someone think in of u some where out there where dreams come true goodnite ',\n",
       " \"dear u've been invited to xchat this is our final attempt to contact u! txt chat to p msgrcvdhg suite lands row w j hl ldn yrs\",\n",
       " 'congratulations ur awarded either of cd gift vouchers free entry our weekly draw txt music to tncs www ldew com win ppmx age ',\n",
       " 'thing r good thanx got exams in march ive done no revision? is fran still with boyf? ive gotta interviw exeter bit worried!x',\n",
       " \"tell you what if you make a little spreadsheet and track whose idea it was to smoke to determine who smokes too much for the entire month of february i'll come up\",\n",
       " \"don't look back at the building because you have no coat and i don't want you to get more sick just hurry home and wear a coat to the gym!!!\",\n",
       " 'my painful personal thought i always try to keep everybody happy all the time but nobody recognises me when i am alone ',\n",
       " \"i jus hope its true that missin me cos i'm really missin him! you haven't done anything to feel guilty about yet \",\n",
       " 'free st week entry textpod a chance win gb ipod or cash every wk txt pod to ts cs www textpod net custcare ',\n",
       " 'looks like u wil b getting a headstart im leaving here bout ish but if u r desperate for my company i could head in earlier we were goin to meet in rummer ',\n",
       " 'as a registered optin subscriber ur draw gift voucher will be entered on receipt of a correct ans to whats no in the bbc charts',\n",
       " 'summers finally here! fancy a chat or flirt with sexy singles in yr area? to get matched up just reply summer now free join optout txt stop help ',\n",
       " 'claire here am havin borin time am now alone u wanna cum over nite? chat now hope c u luv claire xx calls minmoremobsemspobox po wa',\n",
       " 'fighting with the world is easy u either win or lose bt fightng with some who is close to u is dificult if u lose u lose if u win u still lose ',\n",
       " 'yalru lyfu astne chikku bt innu mundhe lyf ali halla ke bilo marriage program edhae so lyf is nt yet ovr chikku ali vargu lyfu meow meow d',\n",
       " ' urgent! your mobile no xxxxxxxxx won a bonus caller prize on ! this is the nd attempt to reach you! call asap!',\n",
       " 'ok good then i later come find c lucky i told to go earlier later pple take finish no more again ',\n",
       " \"wat makes u thk i'll fall down but actually i thk i'm quite prone falls lucky my dad at home i ask him come n fetch me already \",\n",
       " 'you are guaranteed the latests nokia phone a gb ipod mp player or a prize! txt word collect to no ! tc llc ny usa p mt msgrcvd ',\n",
       " 'hi its lucy hubby at meetins all day fri i will b alone at hotel u fancy cumin over? pls leave msg day lucy x calls minmobsmorelkpobox hp fl',\n",
       " ' wonders in my world th you th ur style th ur smile th ur personality rd ur nature nd ur sms and st ur lovely friendship good morning dear',\n",
       " \"friendship is not a game to play it is not a word to say it doesn 't start on march and ends on may it is tomorrow yesterday today and e\",\n",
       " \"my trip was ok but quite tiring lor uni starts today but it's ok me cos i'm not taking any modules but jus concentrating on my final yr project \",\n",
       " 'purity of friendship between two is not about smiling after reading the forwarded message its about smiling just by seeing the name gud evng musthu',\n",
       " \" i should add that i don't really care and if you can't i can at least get this dude to fuck off but hey your money if you want it \",\n",
       " 'hello lover! how goes that new job? are you there now? are you happy? do you think of me? i wake my slave and send you a teasing kiss from across the sea',\n",
       " 'your account has been credited with free text messages to activate just txt the word credit to no t cs www biz',\n",
       " \"i'm always on yahoo messenger now just send the message to me and i ll get it you may have to send it in the mobile mode sha but i ll get it and will reply \",\n",
       " \"time n smile r the two crucial things in our life sometimes time makes us to forget smile and sometimes someone's smile makes us to forget time gud noon\",\n",
       " 'sms ac jsco energy is high but u may not know where channel it day ur leadership skills r strong psychic? reply ans w question end? reply end jsco',\n",
       " 'hot live fantasies call now just p per min ntt ltd po box croydon cr wb is a national rate call',\n",
       " 'thanks for the vote now sing along with the stars with karaoke on your mobile for a free link just reply with sing now ',\n",
       " 'when u love someone dont make them to love u as much as u do but love them so much that they dont want to be loved by anyone except you gud nit ',\n",
       " 'our brand new mobile music service is now live the free music player will arrive shortly just install on your phone to browse content from the top artists ',\n",
       " 'urgent! your mobile no was awarded a bonus caller prize on ! this is our nd attempt to contact you! call box qu bt national rate',\n",
       " 'wow i love you sooo much you know ? i can barely stand it ! i wonder how your day goes and if you are well my love i think of you and miss you',\n",
       " 'you have won a nokia i this is what you get when you win our free auction to take part send nokia to now hg suite lands row w jhl ',\n",
       " \"you're not sure that i'm not trying to make xavier smoke because i don't want to smoke after being told i smoke too much?\",\n",
       " \"hello from orange for month's free access to games news and sport plus free texts and photo messages reply yes terms apply www orange co uk ow\",\n",
       " 'good afternoon my love ! any job prospects ? are you missing me ? what do you do ? are you being lazy and bleak hmmm ? or happy and filled with my love ?',\n",
       " 'good sleep is about rhythm the person has to establish a rhythm that the body will learn and use if you want to know more ',\n",
       " \"single line with a big meaning miss anything ur best life but don't miss ur best life for anything gud nyt \",\n",
       " 'today is accept day u accept me as? brother sister lover dear best clos lvblefrnd jstfrnd cutefrnd lifpartnr belovd swtheart bstfrnd no rply means enemy',\n",
       " 'ur cash balance is currently pounds to maximize ur cash in now send go to only p msg cc hg suite lands row w j hl',\n",
       " 'sms auction a brand new nokia is up auction today! auction is free join take part! txt nokia to now! hg suite lands row w j hl',\n",
       " 'dont search love let love find u thats why its called falling in love bcoz u dont force yourself u just fall and u know there is smeone to hold u bslvyl',\n",
       " 'somewhr someone is surely made u and god has decided a perfect time to make u meet dat person till den enjoy ur crushes !!!',\n",
       " 'private! your account statement for shows un redeemed s i m points call identifier code expires ',\n",
       " 'never blame a day in ur life good days give u happiness bad days give u experience both are essential in life! all are gods blessings! good morning ',\n",
       " 'as a registered subscriber yr draw a gift voucher will b entered on receipt of a correct ans when are the next olympics txt ans to ',\n",
       " 'urgent! your mobile number has been awarded with a prize guaranteed call from land line claim valid hrs only ppm',\n",
       " \"carlos is taking his sweet time as usual so let me know when you and patty are done want to smoke and i'll tell him to haul ass\",\n",
       " \"have you heard about that job? i'm going to that wildlife talk again tonight if u want come its that worzels and a wizzle or whatever it is?! \",\n",
       " 'god picked up a flower and dippeditinadew lovingly touched itwhichturnedinto u and the he gifted tomeandsaid this friend is u',\n",
       " 'are your freezing ? are you home yet ? will you remember to kiss your mom in the morning? do you love me ? do you think of me ? are you missing me yet ?',\n",
       " 'rt king pro video club need help? info co uk or call you must be club credits redeemable at www ringtoneking co uk! enjoy!',\n",
       " 'k makes sense btw carlos is being difficult so you guys are gonna smoke while i go pick up the second batch and get gas',\n",
       " 'fuck babe i miss you sooooo much !! i wish you were here to sleep with me my bed is so lonely i go now to sleep to dream of you my love ',\n",
       " \"living is very simple loving is also simple laughing is too simple winning is tooo simple but being 'simple' is very difficult gud nte \",\n",
       " 'u have a secret admirer who is looking make contact with u find out who they r reveal who thinks ur so special call on ',\n",
       " \"hi dear call me its urgnt i don't know whats your problem you don't want to work or if you have any other problem at least tell me wating for your reply \",\n",
       " 'you have been selected to stay in of top british hotels for nothing! holiday worth ! to claim call london bx sw ss',\n",
       " \"hello my little party animal! i just thought i'd buzz you as you were with your friends grins reminding you were loved and send a naughty adoring kiss\",\n",
       " 'eerie nokia tones u rply tone title to eg tone dracula to titles ghost addamsfa munsters exorcist twilight www getzed co uk pobox w wq p',\n",
       " 'you have come into my life and brought the sun shiny down on me warming my heart putting a constant smile on my face making me feel loved and cared for',\n",
       " \"no shit but i wasn't that surprised so i went and spent the evening with that french guy i met in town here and we fooled around a bit but i didn't let him fuck me\",\n",
       " ' a networks allow companies to bill for sms so they are responsible for their suppliers just as a shop has to give a guarantee on what they sell b g ',\n",
       " 'freemsg feelin kinda lnly hope u like keep me company! jst got a cam moby wanna c my pic?txt or reply date to msg p rcv hlp stop to ',\n",
       " \"hi where are you? we're at and they're not keen to go out i kind of am but feel i shouldn't so can we go out tomo don't mind do you?\",\n",
       " \"evening v good if somewhat event laden will fill you in don't you worry head ok but throat wrecked see you at six then!\",\n",
       " 'if u laugh really loud if u talk spontaneously if u dont care what others feel u are probably with your dear ',\n",
       " \"i dont have any of your file in my bag i was in work when you called me i 'll tell you if i find anything in my room \",\n",
       " \"for ur chance to win a cash every wk txt action to t's c's www movietrivia tv custcare x p wk\",\n",
       " \"i was at bugis juz now wat but now i'm walking home oredi so late then reply i oso saw a top dat i like but din buy where r now? \",\n",
       " 'rgent! this is the nd attempt to contact u!u have won call b t csbcm wc n xx callcost ppm mobilesvary max ',\n",
       " 'hi if ur lookin saucy daytime fun wiv busty married woman am free all next week chat now sort time janinexx calls minmobsmorelkpobox hp fl',\n",
       " \"dunno cos i was v late n when i reach they inside already but we ate spageddies lor it's e gals who r laughing at me lor \",\n",
       " 'very hurting n meaningful lines ever i compromised everything for my love but at d end my love compromised me for everything gud mornin ',\n",
       " 'urgent! we are trying to contact u todays draw shows that you have won a prize guaranteed call from land line claim a valid hrs only',\n",
       " 'painful words i thought being happy was the most toughest thing on earth but the toughest is acting happy with all unspoken pain inside ',\n",
       " 'so many people seems to be special at first sight but only very few will remain special to you till your last sight maintain them till life ends sh!jas',\n",
       " 'today is song dedicated day which song will u dedicate for me? send this to all ur valuable frnds but first rply me ',\n",
       " 'hi babe u r most likely to be in bed but im so sorry about tonight! i really wanna see u tomorrow so call me at love me xxx',\n",
       " 'free top ringtone sub to weekly ringtone get st week free send subpoly to ? per week stop sms ',\n",
       " 'sunshine quiz wkly q! win a top sony dvd player if u know which country the algarve is in? txt ansr to sp tyrone',\n",
       " 'free msg sorry a service you ordered from could not be delivered as you do not have sufficient credit please top up to receive the service ',\n",
       " \"how's my loverboy doing ? what does he do that keeps him from coming to his queen hmmm ? doesn't he ache to speak to me ? miss me desparately ?\",\n",
       " \"hard live chat just p min choose your girl and connect live call now! cheap chat uk's biggest live service vu bcm wc n xx\",\n",
       " 'wow! the boys r back take that uk tour win vip tickets pre book with vip club txt club to trackmarque ltd info ',\n",
       " 'fighting with the world is easy u either win or lose bt fightng with some who is close to u is dificult if u lose u lose if u win u still lose ',\n",
       " 'am watching house very entertaining am getting the whole hugh laurie thing even with the stick indeed especially with the stick ',\n",
       " 'hi jon pete here ive bin spain recently hav sum dinero left bill said u or ur rents mayb interested in it i hav pes so around tb james ',\n",
       " 'alrite hunny!wot u up nite? didnt end up goin down town jus da pub instead! jus chillin at da mo in me bedroom!love jen xxx ',\n",
       " \"as per your request 'maangalyam alaipayuthe ' has been set as your callertune for all callers press to copy your friends callertune\",\n",
       " 'ur going bahamas! callfreefone and speak to a live operator to claim either bahamas cruise of cash only to opt out txt x to ',\n",
       " 'ey! calm downon theacusations itxt u cos iwana know wotu r doin at thew end haventcn u in ages ring me if ur up nething sat love j xxx ',\n",
       " 'someone has conacted our dating service and entered your phone because they fancy you!to find out who it is call from landline pobox n tf ',\n",
       " 'i m cool ta luv but v tired cause i have been doin loads of planning all wk we have got our social services inspection at the nursery! take care spk sn x ',\n",
       " 'sometimes heart remembrs someone very much forgets someone soon bcoz heart will not like everyone but liked ones will be remembered everytime bslvyl',\n",
       " 'hi ibh customer loyalty offer the new nokia mobile from only at txtauction!txt word start to no get yours now! t ',\n",
       " \"hi this is yijue it's regarding the textbook it's intro to algorithms second edition i'm selling it for \",\n",
       " 'sms auction you have won a nokia i this is what you get when you win our free auction to take part send nokia to now hg suite lands row w jhl ',\n",
       " 'ha both of us doing e same thing but i got tv watch u can thk of where go tonight or u already haf smth in mind ',\n",
       " 'good afternoon sexy buns! how goes the job search ? i wake and you are my first thought as always my love i wish your fine and happy and know i adore you!',\n",
       " 'buy space invaders a chance win orig arcade game console press for games arcade std wap charge see o co uk games terms settings no purchase',\n",
       " ' wonders in my world th you th ur style th ur smile th ur personality rd ur nature nd ur sms and st ur lovely friendship good morning dear',\n",
       " \"loan for any purpose homeowners tenants welcome have you been previously refused? we can still help call free or text back 'help'\",\n",
       " 'big brother alert! the computer has selected u for k cash or voucher call ntt po box cro bt landline cost ppm mobiles vary',\n",
       " 'dont search love let love find u thats why its called falling in love bcoz u dont force yourself u just fall and u know there is smeone to hold u bslvyl',\n",
       " 'u haven t lost me ill always b here u i didn t intend hurt u but i never knew how u felt about me when iwas marine that s what itried tell urmom i careabout u',\n",
       " 'win we have a winner! mr t foley won an ipod! more exciting prizes soon so keep an eye on ur mobile or visit www win co uk',\n",
       " 'i hope your alright babe? i worry that you might have felt a bit desparate when you learned the job was a fake ? i am here waiting when you come back my love',\n",
       " \"hey can you tell me blake's address? carlos wanted me to meet him there but i got lost and he's not answering his phone\",\n",
       " 'todays voda numbers ending are selected to receive a award if you have a match please call quoting claim code standard rates app ',\n",
       " 'aiyo a bit pai seh noe scared he dun rem who i am then die hee but he become better lookin oredi leh ',\n",
       " 'getting tickets walsall tue th march my mate is getting me them on sat ill pay my treat want go txt bak terry',\n",
       " \"i couldn't say no as he is a dying man and i feel sad for him so i will go and i just wanted you to know i would probably be gone late into your night\",\n",
       " 'wat makes some people dearer is not just de happiness dat u feel when u meet them but de pain u feel when u miss dem!!!',\n",
       " 'hottest pics straight to your phone!! see me getting wet and wanting just for you xx text pics to now! txt costs p textoperator g ga xxx',\n",
       " 'hack chat get backdoor entry into chat rooms at a fraction of the cost reply neo or call to subscribe p pm dps bcm box ldn wc n xx',\n",
       " \"free nokia or motorola with upto mths price linerental free x net mins txt mth free b'tooth call mobileupd on or call optout d wv\",\n",
       " 'this is the nd time we have tried contact u u have won the pound prize claim is easy call now! only p per min bt national rate ',\n",
       " 'i hate when she does this she turns what should be a fun shopping trip into an annoying day of how everything would look in her house ',\n",
       " 'you have won a guaranteed cash or a prize to claim yr prize call our customer service representative on',\n",
       " 'hmv bonus special pounds of genuine hmv vouchers to be won just answer easy questions play now! send hmv to more info www percent real com',\n",
       " 'u have a secret admirer who is looking make contact with u find out who they r reveal who thinks ur so special call on ',\n",
       " 'come to me slave your doing it again going into your shell and unconsciously avoiding me you are making me unhappy ',\n",
       " \"dear xxxxxxx u've been invited to xchat this is our final attempt to contact u! txt chat to p msgrcvdhg suite lands row w j hl ldn yrs \",\n",
       " 'urgent! please call from landline your abta complimentary tenerife holiday or cash await collection sae t cs box cw wx ppm',\n",
       " 'call listen to extreme dirty live chat going on in the office right now total privacy no one knows your sic listening p min mp ',\n",
       " 'freemsg hey u i just got of these video pic fones reply wild to this txt ill send u my pics hurry up im so bored at work xxx p rcvd stop stop ',\n",
       " \"free entry in a weekly comp for a chance to win an ipod txt pod to to get entry std txt rate t c's apply for details \",\n",
       " 'new textbuddy chat horny guys in ur area just p free receive search postcode or at gaytextbuddy com txt one name to rpl stop cnl',\n",
       " \"yar i wanted scold u yest but late already i where got zhong se qing you? if u ask me b he ask me then i'll go out w u all lor n u still can act so real \",\n",
       " \"dont give a monkeys wot they think and i certainly don't mind any friend of mine all that! just don't sleep wiv that wud be annoyin!\",\n",
       " 'call from tells u call to claim prize u have enter all ur mobile personal details the prompts careful!',\n",
       " 'free st week entry textpod a chance win gb ipod or cash every wk txt vpod to ts cs www textpod net custcare ',\n",
       " \"the fact that you're cleaning shows you know why i'm upset your priority is constantly what i want to do not what i need to do \",\n",
       " \"more people are dogging in your area now call and join like minded guys why not arrange yourself there's this evening a minapn ls bb\",\n",
       " 'dude avatar d was imp at one point i thought there were actually flies in the room and almost tried hittng one as a reflex',\n",
       " 'well done! your costa del sol holiday or await collection call now toclaim sae tcs pobox stockport sk xh cost pm max mins',\n",
       " 'i got lousy sleep i kept waking up every hours to see if my cat wanted to come in i worry about him when its cold ',\n",
       " 'guess what! somebody you know secretly fancies you! wanna find out who it is? give us a call on from landline datebox essexcm xn p min ',\n",
       " 'you have won a guaranteed award or even cashto claim ur award call free on stop getstop on php',\n",
       " \"yes but can we meet in town cos will go to gep and then home you could text at bus stop and don't worry we'll have finished by march ish!\",\n",
       " 'urgent! please call from landline your abta complimentary tenerife holiday or cash await collection sae t cs box cw wx ppm',\n",
       " \"the length is e same but e top shorter n i got a fringe now i thk i'm not going liao too lazy dun wan distract u also \",\n",
       " \"no other valentines huh? the proof is on your fb page ugh i'm so glad i really didn't watch your rupaul show you tool!\",\n",
       " 'free tones hope you enjoyed your new content text stop to to unsubscribe help p provided by tones you co uk',\n",
       " 'yeh i am def up something sat just got payed day i havbeen given a pay rise my work havebeen made preschoolco ordinator i am feelingood luv',\n",
       " 'well i have to leave for my class babe you never came back to me hope you have a nice sleep my love',\n",
       " 'themob yo yo yo here comes a new selection of hot downloads for our members to get for free! just click open the next link sent to ur fone ',\n",
       " 'beautiful truth against gravity read carefully our heart feels light when someone is in it but it feels very heavy when someone leaves it goodmorning',\n",
       " 'great news! call freefone to claim your guaranteed cash or gift speak to a live operator now!',\n",
       " 'just re read it and i have no shame but tell me how he takes it and if he runs i will blame u ever!! not really ever just a long time ',\n",
       " 'u can win of music gift vouchers every week starting now txt the word draw to tscs www ldew com skillgame winaweek age ppermesssubscription',\n",
       " 'dont pack what you can buy at any store like cereals if you must pack food pack gari or something ja that you will miss ',\n",
       " ' mths half price orange line rental latest camera phones free had your phone mths ? call mobilesdirect free on to update now! or stoptxt',\n",
       " 'call to use ur mins! calls cast p min mob vary service provided by aom just gbp month aom box m er until u stop ages only!',\n",
       " 'oh i was thkin of goin yogasana at den no nd to go at den can rush to parco nb okie lor u call me when ready ',\n",
       " 'urgent! your mobile no won a bonus caller prize on ! this is the nd attempt to reach you! call asap! box n qp ppm',\n",
       " 'eerie nokia tones u rply tone title to eg tone dracula to titles ghost addamsfa munsters exorcist twilight www getzed co uk pobox w wq p ',\n",
       " 'sexy singles are waiting for you! text your age followed by your gender as wither m or f e g f for gay men text your age followed by a g e g g ',\n",
       " 'freemsg claim ur sms messages text ok to now!use web mobile ur mates etc join txt com for p wk t c box la wu remove txtx or stop',\n",
       " 'hey hun onbus goin meet him he wants go out a meal but i donyt feel like it cuz have get last bus home!but hes sweet latelyxxx',\n",
       " 'alright babe justthought i d sayhey! how u doin?nearly the endof me wk offdam nevamind!we will have hook up sn if uwant m ? lovejen x ',\n",
       " 'well done england! get the official poly ringtone or colour flag on yer mobile! text tone or flag to now! opt out txt eng stop box w wx ',\n",
       " \"oh my love it's soooo good to hear from you omg i missed you so much today i'm sorry your having problems with the provider but thank you for tming me\",\n",
       " 'final chance! claim ur worth of discount vouchers today! text yes to now! savamob member offers mobile! t cs savamob pobox m uz subs ',\n",
       " 'private! your account statement for shows unredeemed bonus points to claim call identifier code expires',\n",
       " 'sms services for your inclusive text credits pls goto www comuk net login unsubscribe with stop no extra charge help po box ip we',\n",
       " \"anyway seriously hit me up when you're back because otherwise i have to light up with armand and he always has shit and or is vomiting\",\n",
       " \"free day sexy st george's day pic of jordan!txt pic to dont miss out then every wk a saucy celeb! more pics c pocketbabe co uk wk\",\n",
       " 'yar he quite clever but aft many guesses lor he got ask me bring but i thk darren not so willing go aiya they thk leona still not attach wat ',\n",
       " 'you are a winner you have been specially selected to receive cash or a award speak to a live operator to claim call am pm cost p',\n",
       " 'sunshine hols to claim ur med holiday send a stamped self address envelope to drinks on us uk po box bray wicklow eire quiz starts saturday! unsub stop',\n",
       " 'u can win of music gift vouchers every week starting now txt the word draw to tscs www idew com skillgame winaweek age ppermesssubscription',\n",
       " 'argh my g is spotty anyway the only thing i remember from the research we did was that province and sterling were the only problem free places we looked at',\n",
       " \" congratulations in this week's competition draw u have won the prize to claim just call b t cs stop sms over only ppm\",\n",
       " 'beautiful truth against gravity read carefully our heart feels light when someone is in it but it feels very heavy when someone leaves it good night',\n",
       " 'your b u voucher w c is marsms log onto www b utele com for discount credit to opt out reply stop customer care call ',\n",
       " 'you stayin out of trouble stranger!!saw dave the other day he s sorted now!still with me bloke when u gona get a girl mr!ur mum still thinks we will get getha! ',\n",
       " \"freemsg hey i'm buffy and love to satisfy men home alone feeling randy reply c my pix! qlynnbv help p a msg send stop to stop txts\",\n",
       " 'sunshine hols to claim ur med holiday send a stamped self address envelope to drinks on us uk po box bray wicklow eire quiz starts saturday! unsub stop',\n",
       " \"ok can be later showing around if you want cld have drink before wld prefer not to spend money on nosh if you don't mind as doing that nxt wk \",\n",
       " 'hey cutie how goes it? here in wales its kinda ok there is like hills and shit but i still avent killed myself ',\n",
       " 'i think you should go the honesty road call the bank tomorrow its the tough decisions that make us great people ',\n",
       " 'free for st week! no nokia tone ur mob every week just txt nokia to get txting and tell ur mates zed pobox w wq norm p tone ',\n",
       " 'no its not specialisation can work but its slave labor will look for it this month sha cos no shakara beggar ',\n",
       " 'hi my darlin im on my way to london and we have just been smashed into by another driver! and have a big dent! im really missing u what have u been up to? xxx',\n",
       " 'shop till u drop is it you either k k cash or travel voucher call now ntt po box cr bt fixedline cost ppm mobile vary',\n",
       " 'can i please come up now imin town dontmatter if urgoin outl r just reallyneed docd please dontplease dontignore mycalls u no thecd isv important tome moro',\n",
       " 'babe ! how goes that day ? what are you doing ? where are you ? i sip my cappuccino and think of you my love i send a kiss to you from across the sea',\n",
       " 'chinatown got porridge claypot rice yam cake fishhead beehoon either we eat cheap den go cafe n tok or go nydc or somethin ',\n",
       " 'purity of friendship between two is not about smiling after reading the forwarded message its about smiling just by seeing the name gud evng',\n",
       " 'free camera phones with linerental from month with cross ntwk mins price txt bundle deals also avble call or call optout j mf',\n",
       " 'v aluable a ffectionate l oveable e ternal n oble t ruthful i ntimate n atural e namous happy valentines day in advance',\n",
       " 'haha my legs and neck are killing me and my amigos are hoping to end the night with a burn think i could swing by in like an hour?',\n",
       " 'urgent! your mobile no xxxxxxxxx won a bonus caller prize on ! this is the nd attempt to reach you! call asap! box n qp ppm',\n",
       " 'urgent!! your costa del sol holiday or await collection call now toclaim sae tc s pobox stockport sk xh cost pm max mins',\n",
       " 'just gettin a bit arty with my collages at the mo well tryin ne way! got a roast in a min lovely i shall enjoy that!',\n",
       " 'you have won a guaranteed cash or a prize to claim yr prize call our customer service representative on between am pm cost p',\n",
       " 'thanks for your ringtone order ref number k your mobile will be charged should your tone not arrive please call customer services on ',\n",
       " \"hey thk we juz go accordin to wat we discussed yest lor except no kb on sun cos there's nt much lesson to go if we attend kb on sat \",\n",
       " 'k wen ur free come to my home and also tel vikky i hav sent mail to him also better come evening il be free today aftr pm ',\n",
       " 'si como no?!listened the plaid album quite gd the new air which is hilarious also bought braindance a comp ofstuff on aphex s ',\n",
       " \"give her something to drink if she takes it and doesn't vomit then you her temp might drop if she unmits however let me know \",\n",
       " 'back work morro half term over! can u c me nite some sexy passion b i have go back? chat now luv dena calls minmobsmorelkpobox hp fl',\n",
       " 'thanks for your ringtone order ref number r your mobile will be charged should your tone not arrive please call customer services on ',\n",
       " \"i just lov this line hurt me with the truth i don't mind i wil tolerat bcs ur my someone but never comfort me with a lie gud ni and sweet dreams\",\n",
       " \"sad story of a man last week was my b'day my wife did'nt wish me my parents forgot n so did my kids i went to work even my colleagues did not wish \",\n",
       " 'splashmobile choose from s of gr tones each wk! this is a subscrition service with weekly tones costing p u have one credit kick back and enjoy',\n",
       " 'not heard from u a while call rude chat private line to cum wan c pics of me gettin shagged then text pix to end send stop sam xxx',\n",
       " 'free entry into our weekly comp just send the word enter to now t c www textcomp com',\n",
       " 'life spend with someone for a lifetime may be meaningless but a few moments spent with someone who really love you means more than life itself ',\n",
       " 'hello! how r u? im bored inever thought id get bored with the tv but i am tell me something exciting has happened there? anything! ',\n",
       " 'had your mobile mths ? update for free to oranges latest colour camera mobiles unlimited weekend calls call mobile upd on freefone or stoptx',\n",
       " 'hi darlin im missin u hope you are having a good time when are u back and what time if u can give me a call at home jess xx',\n",
       " 'congrats! year special cinema pass for is yours call now! c suprman v matrix starwars etc all free! bx ip we pm dont miss out!',\n",
       " 'friendship poem dear o dear u r not near but i can hear dont get fear live with cheer no more tear u r always my dear gud ni ',\n",
       " 'win a year supply of cds a store of ur choice worth enter our weekly draw txt music to ts cs www ldew com subs win ppmx ',\n",
       " 'moby pub quiz win a high street prize if u know who the new duchess of cornwall will be? txt her first name to unsub stop sp arrow',\n",
       " 'you have won a nokia i this is what you get when you win our free auction to take part send nokia to now hg suite lands row w jhl ',\n",
       " 'congratulations! thanks to a good friend u have won the xmas prize claim is easy just call now! only p per minute bt national rate ',\n",
       " 'tddnewsletter co uk more games from thedailydraw dear helen dozens of free games with great prizeswith ',\n",
       " 'waqt se pehle or naseeb se zyada kisi ko kuch nahi milta zindgi wo nahi he jo hum sochte hai zindgi wo hai jo ham jeetey hai ',\n",
       " 'urgent! your mobile number won a bonus caller prize on ! this is the nd attempt to reach you! call asap! box n qp ppm',\n",
       " 'double your mins txts on orange or price linerental motorola and sonyericsson with b tooth free nokia free call mobileupd on or optout hv d',\n",
       " 'download as many ringtones as u like no restrictions s choose u can even send yr buddys txt sir to ',\n",
       " 'spook up your mob with a halloween collection of a logo pic message plus a free eerie tone txt card spook to zed p per logo pic',\n",
       " 'had the money issue weigh me down but thanks to you i can breathe easier now i ll make sure you dont regret it thanks ',\n",
       " 'fantasy football is back on your tv go to sky gamestar on sky active and play k dream team scoring starts on saturday so register now!sky opt out to ',\n",
       " 'tone club your subs has now expired re sub reply monoc monos or polyc polys weekly p per week txt stop stop this msg free stream ',\n",
       " 'v nice! off sheffield tom air my opinions on categories b used measure ethnicity in next census busy transcribing ',\n",
       " 'xmas prize draws! we are trying to contact u todays draw shows that you have won a prize guaranteed call from land line valid hrs only',\n",
       " 'best line said in love i will wait till the day i can forget u or the day u realize that u cannot forget me gn',\n",
       " 'someone has contacted our dating service and entered your phone becausethey fancy you! to find out who it is call from a landline pobox w rg p',\n",
       " 'babe u want me dont u baby! im nasty and have a thing filthyguys fancy a rude time with a sexy bitch how about we go slo n hard! txt xxx slo msgs ',\n",
       " 'one of best dialogue in cute reltnship !! wen i die dont come near my body !! bcoz my hands may not come wipe ur tears off that time !gud ni ',\n",
       " \"i don't know u and u don't know me send chat to now and let's find each other! only p msg rcvd hg suite lands row w j hl ldn years or over \",\n",
       " 'lol please do actually send a pic of yourself right now i wanna see pose with a comb and hair dryer or something ',\n",
       " 'madam regret disturbance might receive a reference check from dlf premarica kindly be informed rgds rakhesh kerala ',\n",
       " 'sms services for your inclusive text credits pls gotto www comuk net login qxj unsubscribe with stop no extra charge help comuk cm ae',\n",
       " 'valentines day special! win over in our quiz and take your partner on the trip of a lifetime! send go to now p msg rcvd custcare ',\n",
       " \"guess who am i?this is the first time i created a web page www asjesus com read all i wrote i'm waiting for your opinions i want to be your friend \",\n",
       " 'btw regarding that we should really try to see if anyone else can be our th guy before we commit to a random dude',\n",
       " \"for ur chance to win cash every wk txt play to t's c's www music trivia net custcare x p wk \",\n",
       " 'rose needs water season needs change poet needs imagination my phone needs ur sms and i need ur lovely frndship forever ',\n",
       " 'final chance! claim ur worth of discount vouchers today! text yes to now! savamob member offers mobile! t cs savamob pobox m uz subs ',\n",
       " \"not yet just i'd like to keep in touch and it will be the easiest way to do that from barcelona by the way how ru and how is the house?\",\n",
       " 'sppok up ur mob with a halloween collection of nokia logo pic message plus a free eerie tone txt card spook to ',\n",
       " 'urgent! call from landline your complementary tenerife holiday or cash await collection sae t cs po box wa px ppm sender hol offer',\n",
       " \"only if you promise your getting out as soon as you can and you'll text me in the morning to let me know you made it in ok \",\n",
       " \"i have docs appointments next week i'm tired of them shoving stuff up me ugh why couldn't i have had a normal body?\",\n",
       " 'you at mu? you should try to figure out how much money everyone has for gas and alcohol jay and i are trying to figure out our weed budget',\n",
       " 'winner! as a valued network customer you hvae been selected to receive a reward! to collect call valid hours only acl pm',\n",
       " \"hello my boytoy! i made it home and my constant thought is of you my love i hope your having a nice visit but i can't wait till you come home to me kiss \",\n",
       " \"u wake up already? wat u doing? u picking us up later rite? i'm taking sq reaching ard smth like dat u can check e arrival time c ya soon \",\n",
       " \"hiya have u been paying money into my account? if so thanks got a pleasant surprise when i checked my balance u c i don't get statements that acc\",\n",
       " 'u have won a nokia plus a free digital camera this is what u get when u win our free auction to take part send nokia to now pobox tcr w ',\n",
       " 'mmmmm i loved waking to your words this morning ! i miss you too my love i hope your day goes well and you are happy i wait for us to be together again',\n",
       " 'can you pls pls send me a mail on all you know about relatives coming to deliver here? all you know about costs risks benefits and anything else thanks ',\n",
       " \"honestly i've just made a lovely cup of tea and promptly dropped my keys in it and then burnt my fingers getting them out!\",\n",
       " 'freemsg you have been awarded a free mini digital camera just reply snap to collect your prize! quizclub opt out? stop p wk sp rwm ph ',\n",
       " \"under the sea there lays a rock in the rock there is an envelope in the envelope there is a paper on the paper there are words '\",\n",
       " \"i told her i had a dr appt next week she thinks i'm gonna die i told her its just a check nothing to be worried about but she didn't listen \",\n",
       " 'the house is on the water with a dock a boat rolled up with a newscaster who dabbles in jazz flute behind the wheel',\n",
       " 'congrats mobile g videophones r yours call now! videochat wid ur mates play java games dload polyph music noline rentl bx ip we p',\n",
       " 'your next amazing xxx picsfree video will be sent to you enjoy! if one vid is not enough for day text back the keyword picsfree to get the next video ',\n",
       " 'u are subscribed to the best mobile content service in the uk for per ten days until you send stop to helpline ',\n",
       " ' free tarot texts! find out about your love life now! try for free! text chance to only! after free msgs each',\n",
       " 'my superior telling that friday is leave for all other department except ours so it will be leave for you any way call waheed fathima hr and conform it ',\n",
       " \"join the uk's horniest dogging service and u can have sex nite! just sign up and follow the instructions txt entry to now! nyt ec a lp msg \",\n",
       " \"lol i have to take it member how i said my aunt flow didn't visit for months? it's cause i developed ovarian cysts bc is the only way to shrink them \",\n",
       " 'that s the thing with apes u can fight to the death to keep something but the minute they have it when u let go thats it!',\n",
       " 'sunshine quiz wkly q! win a top sony dvd player if u know which country liverpool played in mid week? txt ansr to sp tyrone',\n",
       " 'hello u call wen u finish wrk i fancy meetin up wiv u all tonite as i need a break from dabooks did hrs last nite today of wrk!',\n",
       " 'knock knock txt whose there to to enter r weekly draw a gift voucher a store of yr choice t cs www tkls com age to stoptxtstop week',\n",
       " \"lol! nah wasn't too bad thanks its good to b home but its been quite a reality check hows ur day been? did u do anything with website?\",\n",
       " \"i know i'm lacking on most of this particular dramastorm's details but for the most part i'm not worried about that\",\n",
       " 'hey there! glad u r better now i hear u treated urself to a digi cam is it good? we r off at pm have a fab new year c u in coupla wks!',\n",
       " 'urgent! your mobile no xxx won a bonus caller prize on ! this is the nd attempt to reach you! call asap! box n qp ppm',\n",
       " 'you are guaranteed the latest nokia phone a gb ipod mp player or a prize! txt word collect to no ! ibhltd ldnw h p mtmsgrcvd ',\n",
       " \"hi! you just spoke to maneesha v we'd like to know if you were satisfied with the experience reply toll free with yes or no \",\n",
       " \"you might want to pull out more just in case and just plan on not spending it if you can i don't have much confidence in derek and taylor's money management\",\n",
       " 'hello darling how are you today? i would love to have a chat why dont you tell me what you look like and what you are in to sexy?',\n",
       " ' free for st week! no nokia tone ur mob every week just txt nokia to get txting and tell ur mates www getzed co uk pobox w wq norm p tone ',\n",
       " \" was a nice day and impressively i was sensible went home early and now feel fine or am i just boring?! when's yours i can't remember \",\n",
       " \"wanna get laid nite? want real dogging locations sent direct to ur mobile? join the uk's largest dogging network txt park to now! nyt ec a lp msg\",\n",
       " 'we tried to contact you re your response to our offer of a new nokia fone and camcorder hit reply or call for delivery',\n",
       " \"yes they replied my mail i'm going to the management office later plus will in to bank later also or on wednesday \",\n",
       " 'good afternoon my boytoy how are you feeling today ? better i hope? are you being my good boy? are you my obedient slave? do you please your queen?',\n",
       " \"i'm sick !! i'm needy !! i want you !! pouts stomps feet where are you ?! pouts stomps feet i want my slave !! i want him now !!\",\n",
       " 'new tones this week include mcfly all ab sara jorge shock will smith switch to order follow instructions on next message',\n",
       " 'urgent! we are trying to contact u todays draw shows that you have won a prize guaranteed call from land line claim c valid hrs only',\n",
       " 'sports fans get the latest sports news str ur mobile wk free plus a free tone txt sport on to www getzed co uk norm txt p ',\n",
       " 'urgent urgent! we have free flights to europe to give away call b th sept take a friend free call now to claim on ba nnfwfly ppm',\n",
       " \"hiya sorry didn't hav signal i haven't seen or heard from and neither has which is unusual in itself! i'll put on the case and get him to sort it out! hugs and snogs \",\n",
       " 'freemsg fancy a flirt? reply date now join the uks fastest growing mobile dating service msgs rcvd just p to optout txt stop to reply date now!',\n",
       " 'great new offer double mins double txt on best orange tariffs and get latest camera phones free! call mobileupd free on now! or stoptxt t cs',\n",
       " 'hope you enjoyed your new content text stop to to unsubscribe help p provided by tones you co uk',\n",
       " ' days to euro kickoff! u will be kept informed of all the latest news and results daily unsubscribe send get euro stop to ',\n",
       " 'urgent please call from landline cash or a luxury canary islands holiday await collection t cs sae award m aq ppm ',\n",
       " 'urgent! please call from your landline your complimentary lux costa del sol holiday or cash await collection ppm sae t cs james eh rr',\n",
       " \"i don't know u and u don't know me send chat to now and let's find each other! only p msg rcvd hg suite lands row w j hl ldn years or over \",\n",
       " 'no am working on the ringing u thing but have whole houseful of screaming brats so am pulling my hair out! loving u',\n",
       " 'but my family not responding for anything now am in room not went to home for diwali but no one called me and why not coming it makes me feel like died ',\n",
       " 'derp which is worse a dude who always wants to party or a dude who files a complaint about the three drug abusers he lives with',\n",
       " 'married local women looking for discreet action now! real matches instantly to your phone text match to msg cost p stop txt stop bcmsfwc n xx',\n",
       " 'burger king wanna play footy at a top stadium? get burger king before st sept and go large or super with coca cola and walk out a winner',\n",
       " 'how come it takes so little time for a child who is afraid of the dark to become a teenager who wants to stay out all night?',\n",
       " 'kind of took it to garage centre part of exhaust needs replacing part ordered n taking it to be fixed tomo morning ',\n",
       " \"for ur chance to win a cash every wk txt action to t's c's www movietrivia tv custcare x p wk \",\n",
       " \"well at this right i'm gonna have to get up and check today's steam sales pee so text me when you want me to come get you\",\n",
       " \"cthen i thk shd b enuff still got conclusion n contents pg n references i'll b doing da contents pg n cover pg \",\n",
       " 'u ve bin awarded to play instant cash call to claim every th player wins min optout ',\n",
       " ' we r stayin here an extra week back next wed how did we do in the rugby this weekend? hi to and and c u soon ',\n",
       " 'purity of friendship between two is not about smiling after reading the forwarded message its about smiling just by seeing the name gud evng musthu',\n",
       " 'and smile for me right now as you go and the world will wonder what you are smiling about and think your crazy and keep away from you grins ',\n",
       " 'december only! had your mobile mths ? you are entitled to update to the latest colour camera mobile for free! call the mobile update co free on ',\n",
       " 'enjoy the showers of possessiveness poured on u by ur loved ones bcoz in this world of lies it is a golden gift to be loved truly ',\n",
       " 'gr poly tones all mobs direct u rply with poly title to eg poly breathe titles crazyin sleepingwith finest ymca getzed co uk pobox o w wq p',\n",
       " 'thk some of em find wtc too far weiyi not goin e rest i dunno yet r ur goin dinner den i might b able to join ',\n",
       " \"interflora it's not too late to order interflora flowers for christmas call to place your order before midnight tomorrow \",\n",
       " 'romcapspam everyone around should be responding well to your presence since you are so warm and outgoing you are bringing in a real breath of sunshine ',\n",
       " 'congratulations thanks to a good friend u have won the xmas prize claim is easy just call now! only p per minute bt national rate',\n",
       " \"oh right ok i'll make sure that i do loads of work during the day! got a really nasty cough today and is dry n shot so that should really help it!\",\n",
       " 'send a logo ur lover names joined by a heart txt love name name mobno eg love adam eve to yahoo! pobox w wq txtno no ads p ',\n",
       " 'ya they are well and fine bbd pooja full pimples even she become quite black and ur rite here its too cold wearing sweatter ',\n",
       " \"babe !!! i miiiiiiissssssssss you ! i need you !!! i crave you !!! geeee i'm so sad without you babe i love you \",\n",
       " \"free message jamster!get the crazy frog sound now! for poly text mad for real text mad to crazy sounds for just gbp week! only! t c's apply\",\n",
       " 'your chance to be on a reality fantasy show call now just p per min ntt ltd po box croydon cr wb is a national rate call',\n",
       " 'in life when you face choices just toss a coin not becoz its settle the question but while the coin in the air u will know what your heart is hoping for gudni ',\n",
       " 'ok that would b lovely if u r sure think about wot u want to do drinkin dancin eatin cinema in out about up to u! wot about ? ',\n",
       " \"mum i've sent you many many messages since i got here i just want to know that you are actually getting them do enjoy the rest of your day \",\n",
       " 'your chance to be on a reality fantasy show call now just p per min ntt ltd po box croydon cr wb is a national rate call ',\n",
       " 'i actually did for the first time in a while i went to bed not too long after i spoke with you woke up at how was your night?',\n",
       " 'hey boys want hot xxx pics sent direct ur phone? txt porn to hrs free and then just p per day to stop text stopbcm sf wc n xx',\n",
       " 'last chance! claim ur worth of discount vouchers today! text shop to now! savamob offers mobile! t cs savamob pobox m uz sub ',\n",
       " 'pdate now double mins and txts on orange tariffs latest motorola sonyericsson nokia bluetooth free! call mobileupd on or call optout !yhl',\n",
       " 'aight i should be there by at the latest probably closer to are jay and tyler down or should we just do two trips?',\n",
       " 'ur cash balance is currently pounds to maximize ur cash in now send cash to only p msg cc po box tcr w ',\n",
       " 'bill as in are there any letters for me i m expecting one from orange that isn t a bill but may still say orange on it ',\n",
       " 'hi darlin i hope you had a nice night i wish i had come cant wait to see you love fran ps i want dirty anal sex and i want a man gang bang',\n",
       " 'why must we sit around and wait for summer days to celebrate such a magical sight when the worlds dressed in white oooooh let there be snow ',\n",
       " 'urgent! your mobile number has been awarded with a prize guaranteed call from land line claim valid hrs only',\n",
       " 'sorry! u can not unsubscribe yet the mob offer package has a min term of weeks pls resubmit request after expiry reply themob help more info',\n",
       " 'where wuld i be without my baby? the thought alone mite break me and i don t wanna go crazy but everyboy needs his lady xxxxxxxx',\n",
       " \"and stop wondering wow is she ever going to stop tm'ing me ?! because i will tm you whenever i want because you are mine laughs \",\n",
       " 'hello no news on job they are making me wait a fifth week! yeah im up for some woozles and weasels in exeter still but be home about ',\n",
       " 'urgent! your mobile was awarded a bonus caller prize on our final attempt contact u! call ',\n",
       " 'u have a secret admirer reveal who thinks u r so special call to opt out reply reveal stop per msg recd cust care ',\n",
       " 'buzzzz! grins did i buzz your ass? buzz your chest ? buzz your cock ? where do you keep your phone ? is the vibrator on ? did you feel it shake ?',\n",
       " \"i'm doing da intro covers energy trends n pros n cons brief description of nuclear fusion n oso brief history of iter n jet got abt n half pages \",\n",
       " \"do you ever notice that when you're driving anyone going slower than you is an idiot and everyone driving faster than you is a maniac?\",\n",
       " 'xmas offer! latest motorola sonyericsson nokia free bluetooth or dvd! double mins txt on orange call mobileupd on or call optout qf ',\n",
       " \"what u mean u almost done? done wif sleeping? but i tot u going to take a nap yup i send her liao so i'm picking her up at ard smth lor \",\n",
       " ' wonders in my world th you th ur style th ur smile th ur personality rd ur nature nd ur sms and st ur lovely friendship good morning dear',\n",
       " 'he said that he had a right giggle when he saw u again! you would possibly be the first person die from nvq but think how much you could for! ',\n",
       " 'no polyphonic tone ur mob every week! just txt pt to st tone free ! so get txtin now and tell ur friends p tone reply hl info',\n",
       " \"love isn't a decision it's a feeling if we could decide who to love then life would be much simpler but then less magical\",\n",
       " 'hot live fantasies call now just p per min ntt ltd po box croydon cr wb is a national rate call',\n",
       " \"no idea i guess we'll work that out an hour after we're supposed to leave since as usual nobody has any interest in figuring shit out before the last second\",\n",
       " 'this message is free welcome to the new improved sex dogging club! to unsubscribe from this service reply stop msgs only',\n",
       " \"loan for any purpose homeowners tenants welcome have you been previously refused? we can still help call free or text back 'help'\",\n",
       " \"imagine life without me see how fast u are searching me?don't worry l'm always there to disturb u goodnoon \",\n",
       " 'free unlimited hardcore porn direct your mobile txt porn to get free access for hrs then chrgd per day txt stop exit this msg is free',\n",
       " 'one of the joys in lifeis waking up each daywith thoughts that somewheresomeone cares enough tosend a warm morning greeting ',\n",
       " \"slaaaaave ! where are you ? must i summon you to me all the time now ? don't you wish to come to me on your own anymore?\",\n",
       " 'let me know how it changes in the next hrs it can even be appendix but you are out of that age range however its not impossible so just chill and let me know in hrs',\n",
       " 'ok not much to do here though h m friday cant wait dunno wot the hell im gonna do for another weeks! become a slob oh wait already done that! ',\n",
       " 'eastenders tv quiz what flower does dot compare herself to? d violet e tulip f lily txt d e or f to now chance win cash wkent p ',\n",
       " 'you are now unsubscribed all services get tons of sexy babes or hunks straight to your phone! go to co uk no subscriptions ',\n",
       " 'hi babe its jordan how r u? im home from abroad and lonely text me back if u wanna chat xxsp visionsms com text stop to stopcost p ',\n",
       " 'get a brand new mobile phone by being an agent of the mob! plus loads more goodies! for more info just text mat to ',\n",
       " \" deep sigh i miss you i am really surprised you haven't gone to the net cafe yet to get to me don't you miss me?\",\n",
       " 'have a great trip to india and bring the light to everyone not just with the project but with everyone that is lucky to see you smile bye abiola',\n",
       " 'i wish that i was with you holding you tightly making you see how important you are how much you mean to me how much i need you in my life ',\n",
       " \"'wnevr i wana fal in luv vth my books my bed fals in luv vth me !'' yen madodu nav pretsorginta nammanna pretsovru important alwa !! gud eveb \",\n",
       " 'lord of the rings return of the king in store now!reply lotr by june chance win lotr soundtrack cds stdtxtrate reply stop to end txts',\n",
       " 'olol i printed out a forum post by a guy with the exact same prob which was fixed with a gpu replacement hopefully they dont ignore that ',\n",
       " 'hi happy new year i dont mean to intrude but can you pls let me know how much tuition you paid last semester and how much this semester is thanks',\n",
       " 'hello hun how ru? its here by the way im good been on dates with that guy i met in walkabout so far we have to meet up soon hows everyone else?',\n",
       " \"free entry in a weekly comp for a chance to win an ipod txt pod to to get entry std txt rate t c's apply for details \",\n",
       " ' st wk free! gr tones str u each wk txt nokia on to for classic nokia tones or hit on to for polys nokia p poly p ',\n",
       " 'would u fuckin believe it they didnt know i had thurs pre booked off so they re cancelled me again! that needs to b sacked',\n",
       " \"lookatme! thanks for your purchase of a video clip from lookatme! you've been charged p think you can do better? why not send a video in a mmsto \",\n",
       " \"i've been barred from all b and q stores for life!?this twat in orange dungerees came up to me and asked if i wanted decking? so i got the first punch in!!\",\n",
       " 'wat makes some people dearer is not just de happiness dat u feel when u meet them but de pain u feel when u miss dem!!!',\n",
       " 'sexy sexy cum and text me im wet and warm and ready for some porn! u up for some fun? this msg is free recd msgs p inc vat cancel text stop',\n",
       " 'shit babe thasa bit messed up yeh she shudvetold u did urgran know?neway illspeak u moro wen im not asleep ',\n",
       " 'cheers u tex mecause u werebored! yeah okden hunny r uin wk sat?sound s likeyour havin gr fun j! keep updat countinlots of loveme xxxxx ',\n",
       " \"hard live chat just p min choose your girl and connect live call now! cheap chat uk's biggest live service vu bcm wc n xx\",\n",
       " 'not heard from u a while call rude chat private line to cum wan c pics of me gettin shagged then text pix to end send stop sam xxx',\n",
       " 'this is the nd time we have tried to contact u u have won the prize to claim just call b t cs stop sms ppm',\n",
       " \"today is sorry day ! if ever i was angry with you if ever i misbehaved or hurt you? plz plz just slap urself bcoz its ur fault i'm basically good\",\n",
       " \"when people see my msgs they think iam addicted to msging they are wrong bcoz they don 't know that iam addicted to my sweet friends !! bslvyl\",\n",
       " 'dear voucher holder to claim this weeks offer at you pc please go to e tlp co uk reward ts cs apply ',\n",
       " 'ur going bahamas! callfreefone and speak to a live operator to claim either bahamas cruise of cash only to opt out txt x to ',\n",
       " 'so many people seems to be special at first sight but only very few will remain special to you till your last sight maintain them till life ends take cr da',\n",
       " \"my parents my kidz my friends n my colleagues all screaming surprise !! and i was waiting on the sofa ' naked !\",\n",
       " 'this is the nd time we have tried contact u u have won the pound prize claim is easy call now! only p per min bt national rate',\n",
       " 'hi neva worry bout da truth coz the truth will lead me ur heart it s the least a unique person like u deserve sleep tight or morning',\n",
       " 'ur awarded a city break and could win a summer shopping spree every wk txt store to skilgme tscs winawk!age perwksub',\n",
       " 'havent mus ask if u can st wat of meet lunch den u n him meet can already lor or u wan go ask da ge st then confirm w me asap?',\n",
       " \"she said '' do u mind if i go into the bedroom for a minute ? '' ''ok'' i sed in a sexy mood she came out minuts latr wid a cake n my wife \",\n",
       " 'oh yeah and hav a great time in newquay send me a postcard ! look after all the girls while im gone u know the im talkin bout! xx',\n",
       " 'urgent! we are trying to contact u todays draw shows that you have won a prize guaranteed call from land line claim y valid hrs only',\n",
       " 'thanks for your ringtone order reference number x your mobile will be charged should your tone not arrive please call customer services ',\n",
       " 'hi my love! how goes that day? fuck this morning i woke and dropped my cell on the way down the stairs but it seems alright phews i miss you !',\n",
       " 'six chances to win cash! from to pounds txt csh and send to cost p day days tsandcs apply reply hl info',\n",
       " 'ur cash balance is currently pounds to maximize ur cash in now send collect to only p msg cc po box tcr w ',\n",
       " 'height of recycling read twice people spend time for earning money and the same money is spent for spending time!',\n",
       " 'a cute thought for friendship its not necessary to share every secret with ur close frnd but watever u shared should be true ',\n",
       " 'squeeeeeze!! this is christmas hug if u lik my frndshp den hug me back if u get u r cute u r luvd u r so lucky',\n",
       " 'funny fact nobody teaches volcanoes erupt tsunamis arise hurricanes sway aroundn no teaches hw choose a wife natural disasters just happens',\n",
       " 'who were those people ? were you in a tour ? i thought you were doing that sofa thing you sent me ? your curious sugar',\n",
       " \"he fucking chickened out he messaged me he would be late and woould buzz me and then i didn't hear a word from him\",\n",
       " 'congratulations! thanks to a good friend u have won the xmas prize claim is easy just call now! only p per minute bt national rate',\n",
       " 'moon has come to color your dreams stars to make them musical and my sms to give you warm and peaceful sleep good night',\n",
       " \"hurry home u big butt hang up on your last caller if u have to food is done and i'm starving don't ask what i cooked \",\n",
       " \"the gas station is like a block away from my house you'll drive right by it since armenia ends at swann and you have to take howard\",\n",
       " 'someone u know has asked our dating service contact you! cant guess who? call now all will be revealed pobox ls hb p ',\n",
       " \"a little meds say take once every hours it's only been but pain is back so i took another hope i don't die\",\n",
       " \"beautiful tomorrow never comes when it comes it's already today in the hunt of beautiful tomorrow don't waste your wonderful today goodmorning \",\n",
       " 'todays voda numbers ending are selected to receive a ? award if you hava a match please call quoting claim code standard rates app ',\n",
       " 'this message is free welcome to the new improved sex dogging club! to unsubscribe from this service reply stop msgs only',\n",
       " \"stop calling everyone saying i might have cancer my throat hurts to talk i can't be answering everyones calls if i get one more call i'm not babysitting on monday\",\n",
       " 'im gonnamissu so much!!i would say il send u a postcard buttheres aboutas much chance of merememberin asthere is ofsi not breakin his contract!! luv yaxx',\n",
       " 'set a place for me in your heart and not in your mind as the mind easily forgets but the heart will always remember wish you happy valentines day!',\n",
       " 'hi darlin how was work did u get into trouble? ijust talked to your mum all morning! i had a really good time last night im goin out soon but call me if u can',\n",
       " 'free message activate your free text messages by replying to this message with the word free for terms conditions visit www com',\n",
       " 'ok darlin i supose it was ok i just worry too much i have to do some film stuff my mate and then have to babysit again! but you can call me there xx',\n",
       " \"she said '' do u mind if i go into the bedroom for a minute ? '' ''ok'' i sed in a sexy mood she came out minuts latr wid a cake n my wife \",\n",
       " 'i don wake since i checked that stuff and saw that its true no available spaces pls call the embassy or send a mail to them ',\n",
       " \"no we put party days a week and study lightly i think we need to draw in some custom checkboxes so they know we're hardcore\",\n",
       " \"ok the theory test? when are going to book? i think it's on may coz thought wanna go out with jiayin but she isnt free\",\n",
       " 'you are being contacted by our dating service by someone you know! to find out who it is call from a land line pobox w tg p',\n",
       " 'ok not a problem will get them a taxi c ing tomorrow and tuesday on tuesday think we r all going to the cinema ',\n",
       " 'tomorrow i am not going to theatre so i can come wherever u call me tell me where and when to come tomorrow',\n",
       " 'good afternon my love how are today? i hope your good and maybe have some interviews i wake and miss you babe a passionate kiss from across the sea',\n",
       " 'complimentary star ibiza holiday or cash needs your urgent collection now from landline not to lose out! box sk wp ppm ',\n",
       " 'free msg we billed your mobile number by mistake from shortcode please call to have charges refunded this call will be free from a bt landline',\n",
       " 'bull your plan was to go floating off to ikea with me without a care in the world so i have to live with your mess another day ',\n",
       " 'urgent! your mobile number has been awarded with a bonus caller prize call from land line valid hrs only',\n",
       " 'as a valued customer i am pleased to advise you that following recent review of your mob no you are awarded with a bonus prize call ',\n",
       " \"'an amazing quote'' sometimes in life its difficult to decide whats wrong!! a lie that brings a smile or the truth that brings a tear \",\n",
       " 'beautiful truth against gravity read carefully our heart feels light when someone is in it but it feels very heavy when someone leaves it goodmorning',\n",
       " 'do you want a new nokia i colour phone deliveredtomorrow? with free minutes to any mobile free texts free camcorder reply or call ',\n",
       " 'whats that coming over the hill is it a monster! hope you have a great day things r going fine here busy though! ',\n",
       " \"life has never been this much fun and great until you came in you made it truly special for me i won't forget you! enjoy one gbp sms\",\n",
       " 'do you want a new video phone? anytime any network mins inclusive video calls and downloads per week free deltomorrow call or reply now',\n",
       " 'as a valued customer i am pleased to advise you that following recent review of your mob no you are awarded with a bonus prize call ',\n",
       " 'freemsg month unlimited free calls! activate smartcall txt call to no subscriptn gbp wk unlimited calls help stop?txt stop landlineonly',\n",
       " 'had your mobile mths? update to latest orange camera video phones for free save s with free texts weekend calls text yes for a callback orno to opt out',\n",
       " 'am new club dont fink we met yet will b gr c u please leave msg day wiv ur area reply promised carlie x calls minmobsmore lkpobox hp fl',\n",
       " \"get a free mobile video player free movie to collect text go to its free! extra films can be ordered t's and c's apply yrs only\",\n",
       " 'save money on wedding lingerie at www bridal petticoatdreams co uk choose from a superb selection with national delivery brought to you by weddingfriend',\n",
       " \"your board is working fine the issue of overheating is also reslove but still software inst is pending i will come around 'o clock \",\n",
       " 'mon okie lor haha best is cheap n gd food la ex oso okie depends on whether wana eat western or chinese food den which u prefer ',\n",
       " \"i dont have any of your file in my bag i was in work when you called me i 'll tell you if i find anything in my room \",\n",
       " 'no need lar jus testing e phone card dunno network not gd i thk me waiting my sis finish bathing so i can bathe dun disturb u liao u cleaning ur room ',\n",
       " 'friendship poem dear o dear u r not near but i can hear dont get fear live with cheer no more tear u r always my dear gud ni ',\n",
       " 'not heard from u a while call me now am here all night with just my knickers on make me beg for it like u did last time xx luv nikiyu net',\n",
       " 'i am back bit long cos of accident on a had to divert via wadebridge i had a brilliant weekend thanks speak soon lots of love',\n",
       " 'k i yan jiu liao sat we can go bugis vill one frm to den hop to parco nb sun can go cine frm to den hop to orc mrt hip hop at ',\n",
       " 'urgent! we are trying to contact u todays draw shows that you have won a prize guaranteed call from land line claim m valid hrs only',\n",
       " 'night has ended for another day morning has come in a special way may you smile like the sunny rays and leaves your worries at the blue blue bay gud mrng',\n",
       " 'do you want a new video phone anytime any network mins text for only five pounds per week call now or reply for delivery tomorrow',\n",
       " 'hello my love! how goes that day ? i wish your well and fine babe and hope that you find some job prospects i miss you boytoy a teasing kiss ',\n",
       " 'you are being contacted by our dating service by someone you know! to find out who it is call from a land line pobox w tg p',\n",
       " 'wan win a meet greet with westlife u or a m ? they are currently on what tour? unbreakable untamed unkempt text or to cost p std text',\n",
       " \"oh the grand is having a bit of a party but it doesn't mention any cover charge so it's probably first come first served\",\n",
       " 'dorothy com bank of granite issues strong buy explosive pick for our members up over nasdaq symbol cdgt that is a per ',\n",
       " 'two fundamentals of cool life walk like you are the king ! or walk like you dont care whoever is the king ! gud nyt',\n",
       " 'hi petey!noi m ok just wanted chat coz avent spoken u a long time hope ur doin alrite have good nit at js love ya am x',\n",
       " 'im sorry bout last nite it wasn t ur fault it was me spouse it was pmt or sumthin! u give me? i think u shldxxxx',\n",
       " 'hey babe! far spun out spk at da mo dead da wrld been sleeping on da sofa all day had a cool nytho tx fonin hon call mwen im bk frmcloud ! j x',\n",
       " 'you are a winner or guaranteed caller prize this is our final attempt to contact you! to claim call now! ppmpobox bhamb xe',\n",
       " \"xmas new years eve tickets are now on sale from the club during the day from am till pm and on thurs fri sat night this week they're selling fast!\",\n",
       " 'mmmmm it was sooooo good to wake to your words this morning my love!! mmmm fuck i love you too my lion devouring kiss from across the sea ',\n",
       " 'we are pleased to inform that your application for airtel broadband is processed successfully your installation will happen within days ',\n",
       " 'so is th gower mate which is where i am!?! how r u man? all is good in wales ill b back morrow c u this wk? who was the msg ? random!',\n",
       " \"rock yr chik get 's of filthy films xxx pics on yr phone now rply filth to saristar ltd e yt p per days stop cancel\",\n",
       " \"single line with a big meaning miss anything ur best life but don't miss ur best life for anything gud nyt \",\n",
       " 'from next month get upto more calls ur standard network charge activate call c wire net st terms pobox m uz cost min mobcudb more',\n",
       " 'urgent! we are trying to contact u todays draw shows that you have won a prize guaranteed call from land line claim j po box c pm',\n",
       " 'auction round the highest bid is now next maximum bid is to bid send bids e g to bid to good luck ',\n",
       " \"collect your valentine's weekend to paris inc flight hotel prize guaranteed! text paris to no www rtf sphosting com\",\n",
       " 'customer loyalty offer the new nokia mobile from only at txtauction! txt word start to no get yours now! t ctxt tc p mtmsg',\n",
       " \"you won't believe it but it's true it's incredible txts! reply g now to learn truly amazing things that will blow your mind from o fwd only p txt\",\n",
       " 'the sign of maturity is not when we start saying big things but actually it is when we start understanding small things have a nice evening bslvyl',\n",
       " 'multiply the numbers independently and count decimal points then for the division push the decimal places like i showed you ',\n",
       " 'have a lovely night and when you wake up to see this message i hope you smile knowing all is as should be have a great morning',\n",
       " 'hi ibh customer loyalty offer the new nokia mobile from only at txtauction!txt word start to no get yours now! t ',\n",
       " 'i am hot n horny and willing i live local to you text a reply to hear strt back from me p per msg netcollex ltdhelpdesk reply stop to end',\n",
       " \"i've sent my wife your text after we buy them she'll tell you what to do so just relax we should go get them this wkend \",\n",
       " 'do you want a new nokia i colour phone delivered tomorrow? with free minutes to any mobile free text free camcorder reply or call ',\n",
       " \"congratulations you've won you're a winner in our august prize draw call now prize code \",\n",
       " \"k my roommate also wants a dubsack and another friend may also want some so plan on bringing extra i'll tell you when they know for sure\",\n",
       " 'depends on individual lor e hair dresser say pretty but my parents say look gong u kaypoh i also dunno wat she collecting ',\n",
       " \" p alfie moon's children in need song on ur mob tell ur m s txt tone charity to for nokias or poly charity for polys zed profit charity \",\n",
       " 'get the official england poly ringtone or colour flag on yer mobile for tonights game! text tone or flag to optout txt eng stop box w wx ',\n",
       " 'customer service announcement we recently tried to make a delivery to you but were unable to do so please call to re schedule ref ',\n",
       " \"he's really into skateboarding now despite the fact that he gets thrown off of it and winds up with bandages and shit all over his arms every five minutes\",\n",
       " 'you can stop further club tones by replying stop mix see my tone com enjoy html for terms club tones cost gbp week mfl po box mk wt ',\n",
       " 'wamma get laid?want real doggin locations sent direct to your mobile? join the uks largest dogging network txt dogs to now!nyt ec a lp msg ',\n",
       " \"as per your request 'maangalyam alaipayuthe ' has been set as your callertune for all callers press to copy your friends callertune\",\n",
       " \"what are you doing in langport? sorry but i'll probably be in bed by pm it sucks being ill at xmas! when do you and go sri lanka? \",\n",
       " 'frnd s not juz a word not merely a relationship its a silent promise which says i will be with you wherevr whenevr forevr gudnyt dear ',\n",
       " \"i'm turning off my phone my moms telling everyone i have cancer and my sister won't stop calling it hurts to talk can't put up with it see u when u get home love u\",\n",
       " 'honey ? sweetheart ? darling ? sexy buns ? sugar plum ? loverboy ? i miss you boytoy smacks your ass did you go to the gym too ?',\n",
       " 'you have won a nokia i this is what you get when you win our free auction to take part send nokia to now hg suite lands row w jhl ',\n",
       " 'hello hello hi lou sorry it took so long reply i left mobile at friends in lancaster just got it bak neway im sorry i couldn t make ur b day hun!',\n",
       " 'ok im not sure what time i finish tomorrow but i wanna spend the evening with you cos that would be vewy vewy lubly! love me xxx',\n",
       " 'you are a winner you have been specially selected to receive cash or a award speak to a live operator to claim call am pm cost p',\n",
       " 'hey loverboy! i love you !! i had to tell i look at your picture and ache to feel you between my legs fuck i want you i need you i crave you ',\n",
       " 'how is my boy? no sweet words left for me this morning sighs how goes you day my love ? did you start your studying?',\n",
       " 'free top ringtone sub to weekly ringtone get st week free send subpoly to ? per week stop sms ',\n",
       " 'oh i will get paid the most outstanding one is for a commercial i did for hasbro in august! they made us jump through so many hoops to get paid still not ',\n",
       " 'hi there nights ur lucky night! uve been invited xchat the uks wildest chat! txt chat to now! p msgrcvdhg suite lands row w j hl ldn yrs',\n",
       " 'the search happiness is of d main sources of unhappiness! accept life the way it comes! u will find happiness in every moment u live ',\n",
       " \"isn't frnd a necesity in life? imagine urself witout a frnd hw'd u feel at ur colleg? wat'll u do wth ur cell? wat abt functions? thnk abt events espe'll cared missed \",\n",
       " 'a bit of ur smile is my hppnss a drop of ur tear is my sorrow a part of ur heart is my life a heart like mine wil care for u forevr as my goodfriend',\n",
       " 'dear voucher holder claim your st class airport lounge passes when using your holiday voucher call when booking quote st class x ',\n",
       " 'buzz! hey my love ! i think of you and hope your day goes well did you sleep in ? i miss you babe i long for the moment we are together again loving smile ',\n",
       " 'god asked what is forgiveness? a little child gave lovely reply it is d wonderful fruit that a tree gives when it is being hurt by a stone good night ',\n",
       " 'free for st week! no nokia tone ur mob every week just txt nokia to get txting and tell ur mates www getzed co uk pobox w wq norm p tone ',\n",
       " 'someone u know has asked our dating service contact you! cant guess who? call now all will be revealed pobox s xy p ',\n",
       " \"hi! you just spoke to maneesha v we'd like to know if you were satisfied with the experience reply toll free with yes or no \",\n",
       " 'mila age blonde new in uk i look sex with uk guys if u like fun with me text mtalk to pp txt st free increments help ',\n",
       " 'want to funk up ur fone with a weekly new tone reply tones u this text www ringtones co uk the original n best tones gbp network operator rates apply',\n",
       " 'i love you !!! you know? can you feel it? does it make your belly warm? i wish it does my love i shall meet you in your dreams ahmad adoring kiss ',\n",
       " \"twinks bears scallies skins and jocks are calling now don't miss the weekend's fun call at p min stop texts call nat rate \",\n",
       " 'they have a thread on the wishlist section of the forums where ppl post nitro requests start from the last page and collect from the bottom up ',\n",
       " 'we tried to contact you re your reply to our offer of a video handset? anytime any networks mins? unlimited text? camcorder? reply or call now',\n",
       " 'urgent! we are trying to contact you last weekends draw shows that you have won a prize guaranteed call claim code k valid hours only',\n",
       " ' xmas iscoming ur awarded either cd gift vouchers free entry r weekly draw txt music to tnc',\n",
       " 'please protect yourself from e threats sib never asks for sensitive information like passwords atm sms pin thru email never share your password with anybody ',\n",
       " \"i miss you so much i'm so desparate i have recorded the message you left for me the other day and listen to it just to hear the sound of your voice i love you\",\n",
       " 'congratulations u can claim vip row a tickets c blu in concert in november or blu gift guaranteed call to claim ts cs www smsco net cost max ',\n",
       " \"where are you ? what are you doing ? are yuou working on getting the pc to your mom's ? did you find a spot that it would work ? i need you\",\n",
       " 'fantasy football is back on your tv go to sky gamestar on sky active and play k dream team scoring starts on saturday so register now!sky opt out to ',\n",
       " \"oh ya got hip hop open haha i was thinking can go for jazz then zoom to cine actually tonight i'm free leh and there's a kb lesson tonight\",\n",
       " 'free msg single? find a partner in your area! s of real people are waiting to chat now!send chat to cncl send stopcs per msg',\n",
       " 'win the newest harry potter and the order of the phoenix book reply harry answer questions chance to be the first among readers!',\n",
       " 'a pure hearted person can have a wonderful smile that makes even his her enemies to feel guilty for being an enemy so catch the world with your smile goodmorning ',\n",
       " 'hi juan im coming home on fri hey of course i expect a welcome party and lots of presents ill phone u when i get back loads of love nicky x x x x x x x x x',\n",
       " 'double mins txts on orange tariffs latest motorola sonyericsson nokia with bluetooth free! call mobileupd on or call optout hf ',\n",
       " 'urgent this is our nd attempt to contact u your prize from yesterday is still awaiting collection to claim call now acl pm',\n",
       " 'dear dave this is your final notice to collect your tenerife holiday or cash award! call from landline tcs sae box cw wx ppm',\n",
       " 'tells u call to claim prize u have enter all ur mobile personal details the prompts careful!',\n",
       " 'your account for xxxxxxxxx shows unredeemed points to claim call identifier code xxxxx expires ',\n",
       " 'do you want a new video handset? anytime any network mins? half price line rental? camcorder? reply or call for delivery tomorrow',\n",
       " 'she s good she was wondering if you wont say hi but she s smiling now so how are you coping with the long distance',\n",
       " 'today is accept day u accept me as? brother sister lover dear best clos lvblefrnd jstfrnd cutefrnd lifpartnr belovd swtheart bstfrnd no rply means enemy',\n",
       " 'free ringtone! reply real or poly eg real pushbutton dontcha babygoodbye golddigger webeburnin st tone free and more when u join for wk',\n",
       " 'okay lor will they still let us go a not ah? coz they will not know until later we drop our cards into the box right?',\n",
       " \"lol i really need to remember to eat when i'm drinking but i do appreciate you keeping me company that night babe smiles \",\n",
       " 'when the first strike is a red one the bird antelope begin toplay in the fieldof selfindependence believe this the flower of contention will grow random!',\n",
       " 'i got to video tape pple type in message lor u so free wan help me? hee cos i noe u wan watch infernal affairs so ask u along asking shuhui oso ',\n",
       " \"refused a loan? secured or unsecured? can't get credit? call free now or text back 'help' we will!\",\n",
       " 'you have been specially selected to receive a award! call before the lines close cost ppm t cs apply ag promo',\n",
       " 'you have won! as a valued vodafone customer our computer has picked you to win a prize to collect is easy just call ',\n",
       " \"that's the trouble with classes that go well you're due a dodgey one expecting mine tomo! see you for recovery same time same place \",\n",
       " 'free video camera phones with half price line rental for mths and cross ntwk mins txts call mobileupd or call optout ',\n",
       " 'do u think that any girl will propose u today by seing ur bloody funky shit fucking face asssssholeeee ',\n",
       " 'great new offer double mins double txt on best orange tariffs and get latest camera phones free! call mobileupd free on now! or stoptxt t cs',\n",
       " \"friendship is not a game to play it is not a word to say it doesn 't start on march and ends on may it is tomorrow yesterday today and e\",\n",
       " 'ok lor anyway i thk we cant get tickets now cos like quite late already u wan go look ur frens a not? darren is wif them now ',\n",
       " ' bank of granite issues strong buy explosive pick for our members up over nasdaq symbol cdgt that is a per ',\n",
       " 'we tried to call you re your reply to our sms for a video mobile mins unlimited text free camcorder reply or call now del thurs',\n",
       " 'this is the nd time we have tried to contact u u have won the prize claim is easy just call now! only p per minute bt national rate',\n",
       " 'somewhere out there beneath the pale moon light someone think in of u some where out there where dreams come true goodnite ',\n",
       " 'im fine babes aint been up much tho! saw scary movie yest its quite funny! want mrw afternoon? at town or mall or sumthin?xx',\n",
       " \"forgot you were working today! wanna chat but things are ok so drop me a text when you're free bored etc and i'll ring hope all is well nose essay and all xx\",\n",
       " 'wan win a meet greet with westlife u or a m ? they are currently on what tour? unbreakable untamed unkempt text or to cost p std text',\n",
       " 'please call our customer service representative on freephone between am pm as you have won a guaranteed cash or prize!',\n",
       " \"u've been selected to stay in of top british hotels for nothing! holiday valued at ! dial to claim national rate call bx sw ss\",\n",
       " 'you are chosen to receive a award! pls call claim number to collect your award which you are selected to receive as a valued mobile customer ',\n",
       " 'please call our customer service representative on freephone between am pm as you have won a guaranteed cash or prize!',\n",
       " 'thanks for your ringtone order reference number x your mobile will be charged should your tone not arrive please call customer services ',\n",
       " 'motivate behind every darkness there is a shining light waiting for you to find it behind every best friend there is always trust and love bslvyl',\n",
       " 'moby pub quiz win a high street prize if u know who the new duchess of cornwall will be? txt her first name to unsub stop sp',\n",
       " 'this weeks savamob member offers are now accessible just call for details! savamob pobox la wu only week savamob offers mobile!',\n",
       " \"aight i've been set free think you could text me blake's address? it occurs to me i'm not quite as sure what i'm doing as i thought i was\",\n",
       " 'prof you have passed in all the papers in this sem congrats student enna kalaachutaarama !! prof ???? gud mrng!',\n",
       " 'you are being contacted by our dating service by someone you know! to find out who it is call from your mobile or landline pobox ldns ',\n",
       " 'tbs persolvo been chasing us since sept for definitely not paying now thanks to your information we will ignore them kath manchester ',\n",
       " 'god picked up a flower and dippeditinadew lovingly touched itwhichturnedinto u and the he gifted tomeandsaid this friend is u',\n",
       " ' kick off a new season with wks free goals news to ur mobile! txt ur club name to eg villa to ',\n",
       " 'good afternoon my love it was good to see your words on ym and get your tm very smart move my slave smiles i drink my coffee and await you ',\n",
       " 'orange brings you ringtones from all time chart heroes with a free hit each week! go to ringtones pics on wap to stop receiving these tips reply stop ',\n",
       " 'private! your account statement for shows un redeemed s i m points call identifier code expires ',\n",
       " 'how are you my love ? are you with your brother ? time to talk english with him ? grins say hey muhommad penny says hello from across the sea',\n",
       " 'we tried to call you re your reply to our sms for a video mobile mins unlimited text free camcorder reply of call now',\n",
       " 'life is nothing wen v get everything but life is everything wen v miss something real value of people wil be realized only in their absence gud mrng',\n",
       " \"gsoh? good with spam the ladies?u could b a male gigolo? join the uk's fastest growing mens club reply oncall mjzgroup stop reply stop msg rcvd\",\n",
       " 'u have a secret admirer who is looking make contact with u find out who they r reveal who thinks ur so special call on ',\n",
       " 'hot live fantasies call now just p per min ntt ltd po box croydon cr wb is a national rate call',\n",
       " 'urgent! your mobile number has been awarded a prize guaranteed call from landline claim valid hrs only ppm',\n",
       " \"where are you ? what do you do ? how can you stand to be away from me ? doesn't your heart ache without me ? don't you wonder of me ? don't you crave me ?\",\n",
       " 'hiya do u like the hlday pics looked horrible in them so took mo out! hows the camp amrca thing? speak soon serena ',\n",
       " 'babe! how goes that day ? what are you up to ? i miss you already my love loving kiss i hope everything goes well ',\n",
       " \"doc prescribed me morphine cause the other pain meds aren't enough waiting for my mom to bring it that med should kick in fast so i'm gonna try to be on later\",\n",
       " 'hey sexy buns ! have i told you ? i adore you loverboy i hope you remember to thank your sister in law for those meatballs grins i love you babe',\n",
       " 'spjanuary male sale! hot gay chat now cheaper call national rate from p min cheap to p min peak! to stop texts call p min ',\n",
       " \"its ur luck to love someone its ur fortune to love the one who loves u but its a miracle to love a person who can't love anyone except u gud nyt \",\n",
       " 'hi baby ive just got back from work and i was wanting to see u allday! i hope i didnt piss u off on the phone today if u are up give me a call xxx',\n",
       " \"freemsg today's the day if you are ready! i'm horny live in your town i love sex fun games! netcollex ltd p per msg reply stop to end\",\n",
       " 'ever green quote ever told by jerry in cartoon a person who irritates u always is the one who loves u vry much but fails to express it ! !! gud nyt',\n",
       " 'beautiful truth expression of the face could be seen by everyone but the depression of heart could be understood only by the loved ones gud ni ',\n",
       " 'in the simpsons movie released in july name the band that died at the start of the film? a green day b blue day c red day send a b or c ',\n",
       " 'i can t wait for cornwall hope tonight isn t too bad as well but it s rock night shite anyway i m going for a kip now have a good night speak to you soon ',\n",
       " \"pls help me tell sura that i'm expecting a battery from hont and that if should pls send me a message about how to download movies thanks\",\n",
       " \"please call amanda with regard to renewing or upgrading your current t mobile handset free of charge offer ends today tel subject to t's and c's\",\n",
       " \"haven't found a way to get another app for your phone eh ? will you go to the net cafe ? did you take that job? geeee i need you babe i crave to see you \",\n",
       " 'urgent!! your costa del sol holiday or await collection call now toclaim sae tc s pobox stockport sk xh cost pm max mins',\n",
       " 'want a new video phone? anytime any network mins? half price line rental free text for months? reply or call for free delivery',\n",
       " 'had your mobile months or more? u r entitled to update to the latest colour mobiles with camera for free! call the mobile update co free on ',\n",
       " \"how's it going? got any exciting karaoke type activities planned? i'm debating whether to play football this eve feeling lazy though \",\n",
       " 'congrats! nokia video camera phone is your call calls cost ppm ave call mins vary from mobiles close post bcm ldn wc n xx',\n",
       " \"mmmmmm i love you so much ahmad i can't wait for this year to begin as every second takes me closer to being at your side happy new year my love!!\",\n",
       " 'urgent! please call your abta complimentary spanish holiday or cash await collection sae t cs box po ez ppm ',\n",
       " 'each moment in a day has its own value morning brings hope afternoon brings faith evening brings luv night brings rest wish u find them all today good morning',\n",
       " 'double mins and txts months free bluetooth on orange available on sony nokia motorola phones call mobileupd on or call optout n dx',\n",
       " 'free for st week! no nokia tone ur mob every week just txt nokia to get txting and tell ur mates www getzed co uk pobox w wq norm p tone ',\n",
       " 'want to funk up ur fone with a weekly new tone reply tones u this text www ringtones co uk the original n best tones gbp network operator rates apply',\n",
       " 'cmon babe make me horny turn me on! txt me your fantasy now babe im hot sticky and need you now all replies cost cancel send stop',\n",
       " 'are you happy baby ? are you alright ? did you take that job ? i hope your fine i send you a kiss to make you smile from across the sea kiss kiss ',\n",
       " \"important information orange user xxxxxx today is ur lucky day! find out why log onto urawinner com there's a fantastic prizeawaiting you!\",\n",
       " 'the world suffers a lot not because of the violence of bad people but because of the silence of good people! gud night ',\n",
       " 'ok thats cool its just off either raglan rd or edward rd behind the cricket ground gimme ring when ur closeby see you tuesday ',\n",
       " 'freemsg our records indicate you may be entitled to pounds for the accident you had to claim for free reply with yes to this msg to opt out text stop',\n",
       " 'u can win of music gift vouchers every week starting now txt the word draw to tscs www idew com skillgame winaweek age ppermesssubscription',\n",
       " \"the lay man! just to let you know you are missed and thought off do have a great day and if you can send me bimbo and ugo's numbers ill appreciate safe\",\n",
       " 'show ur colours! euro offer! get an england flag lions tone on ur phone! click on the following service message for info!',\n",
       " \"send ur birthdate with month and year i will tel u ur life partner's name and the method of calculation reply must \",\n",
       " 'block breaker now comes in deluxe format with new features and great graphics from t mobile buy for just by replying get bbdeluxe and take the challenge',\n",
       " \"important information orange user today is your lucky day! find out why log onto urawinner com there's a fantastic surprise awaiting you!\",\n",
       " \"sad story of a man last week was my b'day my wife did'nt wish me my parents forgot n so did my kids i went to work even my colleagues did not wish \",\n",
       " 'den only weekdays got special price haiz cant eat liao cut nails oso muz wait until i finish drivin wat lunch still muz eat wat ',\n",
       " ...]"
      ]
     },
     "execution_count": 179,
     "metadata": {},
     "output_type": "execute_result"
    }
   ],
   "source": [
    "df_clean"
   ]
  },
  {
   "cell_type": "markdown",
   "metadata": {
    "id": "YMk2E64tmStY"
   },
   "source": [
    "# transformar texto (Embedding)"
   ]
  },
  {
   "cell_type": "code",
   "execution_count": null,
   "metadata": {
    "id": "d3pfA9QegQ1O"
   },
   "outputs": [],
   "source": [
    "# 4to paso: Vamos a crear dos variables que cargaran en memoria dos funciones para transformar el texto\n",
    "##\n",
    "##   - preprocessor: \"objeto\" que se encargará de transformar el texto en el formato que necesita el modelo BERT para funcionar\n",
    "##   - encoder: \"objeto\" que será el modelo BERT y se alimentará del resultado de preprocessor, retornando el texto transformado en un vector numérico.\n",
    "\n",
    "preprocessor = hub.load(\"https://tfhub.dev/tensorflow/bert_en_uncased_preprocess/3\")\n",
    "encoder = hub.load(\"https://tfhub.dev/tensorflow/small_bert/bert_en_uncased_L-2_H-128_A-2/2\")"
   ]
  },
  {
   "cell_type": "code",
   "execution_count": null,
   "metadata": {
    "id": "uq5Us0iIJKcW"
   },
   "outputs": [],
   "source": [
    "# 5to paso: Vamos a usar el objeto preprocessor, y guardamos su resultado en la variable embedding\n",
    "##   A modo de ejemplo para su revisión, solo vamos a transformar dos textos:\n",
    "\n",
    "embedding = preprocessor(df_clean) # df_clean es el texto"
   ]
  },
  {
   "cell_type": "code",
   "execution_count": null,
   "metadata": {
    "id": "KDjYrWncJS0M"
   },
   "outputs": [],
   "source": [
    "# 6to paso: Vamos a codificar el texto con el modelo BERT:\n",
    "##   - Fijarse que el objeto encoder recibe como argumento la variable embedding (resultado de preprocessor)\n",
    "##   - Copiar el siguiente código de forma literal\n",
    "\n",
    "pooled_output = encoder(embedding)[\"pooled_output\"]"
   ]
  },
  {
   "cell_type": "code",
   "execution_count": null,
   "metadata": {
    "colab": {
     "base_uri": "https://localhost:8080/"
    },
    "id": "nMFJURJvJsMm",
    "outputId": "53807bd0-cfb9-4791-b487-3b5e38717b67"
   },
   "outputs": [
    {
     "data": {
      "text/plain": [
       "<tf.Tensor: shape=(1290, 128), dtype=float32, numpy=\n",
       "array([[-0.999942  , -0.00141432, -0.9810854 , ...,  0.98082685,\n",
       "         0.98178196,  0.96391606],\n",
       "       [-0.9991202 ,  0.05296545, -0.98559695, ...,  0.9239925 ,\n",
       "         0.9558225 ,  0.9984839 ],\n",
       "       [-0.99986243,  0.03978845, -0.9731644 , ...,  0.73242617,\n",
       "         0.97078604,  0.9766909 ],\n",
       "       ...,\n",
       "       [-0.99998385,  0.03318281, -0.9955043 , ...,  0.95926076,\n",
       "         0.9974624 ,  0.96427304],\n",
       "       [-0.9999856 ,  0.1223898 , -0.9896996 , ...,  0.98565143,\n",
       "         0.96824807,  0.9937904 ],\n",
       "       [-0.9996448 ,  0.09184256, -0.9976637 , ...,  0.90646094,\n",
       "         0.9652779 ,  0.99890375]], dtype=float32)>"
      ]
     },
     "execution_count": 154,
     "metadata": {},
     "output_type": "execute_result"
    }
   ],
   "source": [
    "# Opcional: revisamos el contenido de la variable pooled_output, el cual tiene dos vectores de 128 dimensiones\n",
    "##\n",
    "##    - Dos vectores, porque le pasamos solo dos textos\n",
    "##    - 128 dimensiones, porque el modelo BERT utilizado convierte cualquier texto (independiente del largo) en un vector numérico de 128 dimensiones.\n",
    "\n",
    "pooled_output"
   ]
  },
  {
   "cell_type": "code",
   "execution_count": null,
   "metadata": {
    "id": "66V1clqHKQ_K"
   },
   "outputs": [],
   "source": [
    "# 7mo paso: El contenido de la variable pooled_output es una estructura de datos de tipo tensorflow.\n",
    "#           Para transformarlo a un dataframe y usarlo de forma tradicional con los modelos clásicos, \n",
    "#           ejecutamos la siguiente linea de código:\n",
    "\n",
    "dataX2 = pd.DataFrame(pooled_output.numpy())"
   ]
  },
  {
   "cell_type": "code",
   "execution_count": null,
   "metadata": {
    "colab": {
     "base_uri": "https://localhost:8080/"
    },
    "id": "IMh7uL3wKQ_K",
    "outputId": "fb4614b6-8cbd-4859-daf9-aeb130337957"
   },
   "outputs": [
    {
     "data": {
      "text/plain": [
       "(1290, 128)"
      ]
     },
     "execution_count": 156,
     "metadata": {},
     "output_type": "execute_result"
    }
   ],
   "source": [
    "# Opcional:  Ahora la variable dataX es un dataframe y podemos revisar su dimensionalidad y visualizarlo:\n",
    "dataX2.shape"
   ]
  },
  {
   "cell_type": "code",
   "execution_count": null,
   "metadata": {
    "colab": {
     "base_uri": "https://localhost:8080/",
     "height": 424
    },
    "id": "pi-Dg4THKQ_L",
    "outputId": "cc6d6a63-a676-4c65-8fa9-b6d0400a8f69"
   },
   "outputs": [
    {
     "data": {
      "text/html": [
       "\n",
       "  <div id=\"df-90be82af-8fad-49ba-82bc-38ba5dd642d0\">\n",
       "    <div class=\"colab-df-container\">\n",
       "      <div>\n",
       "<style scoped>\n",
       "    .dataframe tbody tr th:only-of-type {\n",
       "        vertical-align: middle;\n",
       "    }\n",
       "\n",
       "    .dataframe tbody tr th {\n",
       "        vertical-align: top;\n",
       "    }\n",
       "\n",
       "    .dataframe thead th {\n",
       "        text-align: right;\n",
       "    }\n",
       "</style>\n",
       "<table border=\"1\" class=\"dataframe\">\n",
       "  <thead>\n",
       "    <tr style=\"text-align: right;\">\n",
       "      <th></th>\n",
       "      <th>0</th>\n",
       "      <th>1</th>\n",
       "      <th>2</th>\n",
       "      <th>3</th>\n",
       "      <th>4</th>\n",
       "      <th>5</th>\n",
       "      <th>6</th>\n",
       "      <th>7</th>\n",
       "      <th>8</th>\n",
       "      <th>9</th>\n",
       "      <th>...</th>\n",
       "      <th>118</th>\n",
       "      <th>119</th>\n",
       "      <th>120</th>\n",
       "      <th>121</th>\n",
       "      <th>122</th>\n",
       "      <th>123</th>\n",
       "      <th>124</th>\n",
       "      <th>125</th>\n",
       "      <th>126</th>\n",
       "      <th>127</th>\n",
       "    </tr>\n",
       "  </thead>\n",
       "  <tbody>\n",
       "    <tr>\n",
       "      <th>0</th>\n",
       "      <td>-0.999942</td>\n",
       "      <td>-0.001414</td>\n",
       "      <td>-0.981085</td>\n",
       "      <td>-0.484473</td>\n",
       "      <td>-0.948341</td>\n",
       "      <td>0.171350</td>\n",
       "      <td>-0.981562</td>\n",
       "      <td>-0.706304</td>\n",
       "      <td>-0.006808</td>\n",
       "      <td>-0.095359</td>\n",
       "      <td>...</td>\n",
       "      <td>0.128026</td>\n",
       "      <td>-0.990112</td>\n",
       "      <td>0.187941</td>\n",
       "      <td>-0.998624</td>\n",
       "      <td>-0.819512</td>\n",
       "      <td>0.877467</td>\n",
       "      <td>-0.999149</td>\n",
       "      <td>0.980827</td>\n",
       "      <td>0.981782</td>\n",
       "      <td>0.963916</td>\n",
       "    </tr>\n",
       "    <tr>\n",
       "      <th>1</th>\n",
       "      <td>-0.999120</td>\n",
       "      <td>0.052965</td>\n",
       "      <td>-0.985597</td>\n",
       "      <td>0.318218</td>\n",
       "      <td>-0.978574</td>\n",
       "      <td>-0.563376</td>\n",
       "      <td>-0.998118</td>\n",
       "      <td>0.185895</td>\n",
       "      <td>0.121993</td>\n",
       "      <td>0.005437</td>\n",
       "      <td>...</td>\n",
       "      <td>0.155417</td>\n",
       "      <td>-0.251321</td>\n",
       "      <td>0.236179</td>\n",
       "      <td>-0.999170</td>\n",
       "      <td>-0.642842</td>\n",
       "      <td>0.981704</td>\n",
       "      <td>-0.992995</td>\n",
       "      <td>0.923993</td>\n",
       "      <td>0.955823</td>\n",
       "      <td>0.998484</td>\n",
       "    </tr>\n",
       "    <tr>\n",
       "      <th>2</th>\n",
       "      <td>-0.999862</td>\n",
       "      <td>0.039788</td>\n",
       "      <td>-0.973164</td>\n",
       "      <td>0.168508</td>\n",
       "      <td>-0.969527</td>\n",
       "      <td>-0.213720</td>\n",
       "      <td>-0.988347</td>\n",
       "      <td>-0.972103</td>\n",
       "      <td>-0.031048</td>\n",
       "      <td>-0.025507</td>\n",
       "      <td>...</td>\n",
       "      <td>0.133916</td>\n",
       "      <td>-0.986624</td>\n",
       "      <td>0.169207</td>\n",
       "      <td>-0.999534</td>\n",
       "      <td>-0.628558</td>\n",
       "      <td>0.798255</td>\n",
       "      <td>-0.977197</td>\n",
       "      <td>0.732426</td>\n",
       "      <td>0.970786</td>\n",
       "      <td>0.976691</td>\n",
       "    </tr>\n",
       "    <tr>\n",
       "      <th>3</th>\n",
       "      <td>-0.999984</td>\n",
       "      <td>0.044671</td>\n",
       "      <td>-0.993844</td>\n",
       "      <td>0.591809</td>\n",
       "      <td>-0.880615</td>\n",
       "      <td>0.781171</td>\n",
       "      <td>-0.973504</td>\n",
       "      <td>-0.696313</td>\n",
       "      <td>0.135529</td>\n",
       "      <td>-0.005958</td>\n",
       "      <td>...</td>\n",
       "      <td>0.142242</td>\n",
       "      <td>-0.995556</td>\n",
       "      <td>0.196146</td>\n",
       "      <td>-0.998720</td>\n",
       "      <td>-0.586202</td>\n",
       "      <td>0.946417</td>\n",
       "      <td>-0.997387</td>\n",
       "      <td>0.998785</td>\n",
       "      <td>0.998541</td>\n",
       "      <td>0.884596</td>\n",
       "    </tr>\n",
       "    <tr>\n",
       "      <th>4</th>\n",
       "      <td>-0.999940</td>\n",
       "      <td>0.095895</td>\n",
       "      <td>-0.997162</td>\n",
       "      <td>-0.121784</td>\n",
       "      <td>-0.996297</td>\n",
       "      <td>0.846379</td>\n",
       "      <td>-0.994946</td>\n",
       "      <td>0.436924</td>\n",
       "      <td>0.035794</td>\n",
       "      <td>-0.006821</td>\n",
       "      <td>...</td>\n",
       "      <td>0.215716</td>\n",
       "      <td>-0.989526</td>\n",
       "      <td>0.178496</td>\n",
       "      <td>-0.999673</td>\n",
       "      <td>-0.879214</td>\n",
       "      <td>0.881079</td>\n",
       "      <td>-0.998047</td>\n",
       "      <td>0.986704</td>\n",
       "      <td>0.997149</td>\n",
       "      <td>0.974610</td>\n",
       "    </tr>\n",
       "    <tr>\n",
       "      <th>...</th>\n",
       "      <td>...</td>\n",
       "      <td>...</td>\n",
       "      <td>...</td>\n",
       "      <td>...</td>\n",
       "      <td>...</td>\n",
       "      <td>...</td>\n",
       "      <td>...</td>\n",
       "      <td>...</td>\n",
       "      <td>...</td>\n",
       "      <td>...</td>\n",
       "      <td>...</td>\n",
       "      <td>...</td>\n",
       "      <td>...</td>\n",
       "      <td>...</td>\n",
       "      <td>...</td>\n",
       "      <td>...</td>\n",
       "      <td>...</td>\n",
       "      <td>...</td>\n",
       "      <td>...</td>\n",
       "      <td>...</td>\n",
       "      <td>...</td>\n",
       "    </tr>\n",
       "    <tr>\n",
       "      <th>1285</th>\n",
       "      <td>-0.999978</td>\n",
       "      <td>0.044769</td>\n",
       "      <td>-0.996063</td>\n",
       "      <td>0.206673</td>\n",
       "      <td>-0.993597</td>\n",
       "      <td>0.577214</td>\n",
       "      <td>-0.994746</td>\n",
       "      <td>0.505085</td>\n",
       "      <td>0.094988</td>\n",
       "      <td>0.063025</td>\n",
       "      <td>...</td>\n",
       "      <td>0.203866</td>\n",
       "      <td>-0.998053</td>\n",
       "      <td>0.137735</td>\n",
       "      <td>-0.999817</td>\n",
       "      <td>-0.956234</td>\n",
       "      <td>0.923886</td>\n",
       "      <td>-0.996958</td>\n",
       "      <td>0.989620</td>\n",
       "      <td>0.994490</td>\n",
       "      <td>0.967436</td>\n",
       "    </tr>\n",
       "    <tr>\n",
       "      <th>1286</th>\n",
       "      <td>-0.999188</td>\n",
       "      <td>0.034496</td>\n",
       "      <td>-0.990960</td>\n",
       "      <td>0.951374</td>\n",
       "      <td>-0.999831</td>\n",
       "      <td>-0.388626</td>\n",
       "      <td>-0.997586</td>\n",
       "      <td>0.758842</td>\n",
       "      <td>0.070556</td>\n",
       "      <td>0.052468</td>\n",
       "      <td>...</td>\n",
       "      <td>0.134165</td>\n",
       "      <td>-0.782383</td>\n",
       "      <td>0.201555</td>\n",
       "      <td>-0.999390</td>\n",
       "      <td>-0.920580</td>\n",
       "      <td>0.792196</td>\n",
       "      <td>-0.945352</td>\n",
       "      <td>0.811551</td>\n",
       "      <td>0.946749</td>\n",
       "      <td>0.997387</td>\n",
       "    </tr>\n",
       "    <tr>\n",
       "      <th>1287</th>\n",
       "      <td>-0.999984</td>\n",
       "      <td>0.033183</td>\n",
       "      <td>-0.995504</td>\n",
       "      <td>0.454196</td>\n",
       "      <td>-0.921501</td>\n",
       "      <td>-0.103736</td>\n",
       "      <td>-0.989906</td>\n",
       "      <td>-0.962311</td>\n",
       "      <td>-0.030409</td>\n",
       "      <td>-0.049869</td>\n",
       "      <td>...</td>\n",
       "      <td>0.104561</td>\n",
       "      <td>-0.996887</td>\n",
       "      <td>0.170619</td>\n",
       "      <td>-0.999599</td>\n",
       "      <td>-0.375127</td>\n",
       "      <td>0.962274</td>\n",
       "      <td>-0.997076</td>\n",
       "      <td>0.959261</td>\n",
       "      <td>0.997462</td>\n",
       "      <td>0.964273</td>\n",
       "    </tr>\n",
       "    <tr>\n",
       "      <th>1288</th>\n",
       "      <td>-0.999986</td>\n",
       "      <td>0.122390</td>\n",
       "      <td>-0.989700</td>\n",
       "      <td>0.519770</td>\n",
       "      <td>-0.975490</td>\n",
       "      <td>0.565476</td>\n",
       "      <td>-0.979562</td>\n",
       "      <td>-0.951744</td>\n",
       "      <td>0.093162</td>\n",
       "      <td>-0.001901</td>\n",
       "      <td>...</td>\n",
       "      <td>0.189051</td>\n",
       "      <td>-0.991586</td>\n",
       "      <td>0.195924</td>\n",
       "      <td>-0.999426</td>\n",
       "      <td>-0.709937</td>\n",
       "      <td>0.916501</td>\n",
       "      <td>-0.998173</td>\n",
       "      <td>0.985651</td>\n",
       "      <td>0.968248</td>\n",
       "      <td>0.993790</td>\n",
       "    </tr>\n",
       "    <tr>\n",
       "      <th>1289</th>\n",
       "      <td>-0.999645</td>\n",
       "      <td>0.091843</td>\n",
       "      <td>-0.997664</td>\n",
       "      <td>0.946096</td>\n",
       "      <td>-0.999344</td>\n",
       "      <td>0.163253</td>\n",
       "      <td>-0.999165</td>\n",
       "      <td>0.995323</td>\n",
       "      <td>0.138288</td>\n",
       "      <td>0.038712</td>\n",
       "      <td>...</td>\n",
       "      <td>0.211061</td>\n",
       "      <td>-0.527321</td>\n",
       "      <td>0.219368</td>\n",
       "      <td>-0.999742</td>\n",
       "      <td>-0.661678</td>\n",
       "      <td>0.841889</td>\n",
       "      <td>-0.998527</td>\n",
       "      <td>0.906461</td>\n",
       "      <td>0.965278</td>\n",
       "      <td>0.998904</td>\n",
       "    </tr>\n",
       "  </tbody>\n",
       "</table>\n",
       "<p>1290 rows × 128 columns</p>\n",
       "</div>\n",
       "      <button class=\"colab-df-convert\" onclick=\"convertToInteractive('df-90be82af-8fad-49ba-82bc-38ba5dd642d0')\"\n",
       "              title=\"Convert this dataframe to an interactive table.\"\n",
       "              style=\"display:none;\">\n",
       "        \n",
       "  <svg xmlns=\"http://www.w3.org/2000/svg\" height=\"24px\"viewBox=\"0 0 24 24\"\n",
       "       width=\"24px\">\n",
       "    <path d=\"M0 0h24v24H0V0z\" fill=\"none\"/>\n",
       "    <path d=\"M18.56 5.44l.94 2.06.94-2.06 2.06-.94-2.06-.94-.94-2.06-.94 2.06-2.06.94zm-11 1L8.5 8.5l.94-2.06 2.06-.94-2.06-.94L8.5 2.5l-.94 2.06-2.06.94zm10 10l.94 2.06.94-2.06 2.06-.94-2.06-.94-.94-2.06-.94 2.06-2.06.94z\"/><path d=\"M17.41 7.96l-1.37-1.37c-.4-.4-.92-.59-1.43-.59-.52 0-1.04.2-1.43.59L10.3 9.45l-7.72 7.72c-.78.78-.78 2.05 0 2.83L4 21.41c.39.39.9.59 1.41.59.51 0 1.02-.2 1.41-.59l7.78-7.78 2.81-2.81c.8-.78.8-2.07 0-2.86zM5.41 20L4 18.59l7.72-7.72 1.47 1.35L5.41 20z\"/>\n",
       "  </svg>\n",
       "      </button>\n",
       "      \n",
       "  <style>\n",
       "    .colab-df-container {\n",
       "      display:flex;\n",
       "      flex-wrap:wrap;\n",
       "      gap: 12px;\n",
       "    }\n",
       "\n",
       "    .colab-df-convert {\n",
       "      background-color: #E8F0FE;\n",
       "      border: none;\n",
       "      border-radius: 50%;\n",
       "      cursor: pointer;\n",
       "      display: none;\n",
       "      fill: #1967D2;\n",
       "      height: 32px;\n",
       "      padding: 0 0 0 0;\n",
       "      width: 32px;\n",
       "    }\n",
       "\n",
       "    .colab-df-convert:hover {\n",
       "      background-color: #E2EBFA;\n",
       "      box-shadow: 0px 1px 2px rgba(60, 64, 67, 0.3), 0px 1px 3px 1px rgba(60, 64, 67, 0.15);\n",
       "      fill: #174EA6;\n",
       "    }\n",
       "\n",
       "    [theme=dark] .colab-df-convert {\n",
       "      background-color: #3B4455;\n",
       "      fill: #D2E3FC;\n",
       "    }\n",
       "\n",
       "    [theme=dark] .colab-df-convert:hover {\n",
       "      background-color: #434B5C;\n",
       "      box-shadow: 0px 1px 3px 1px rgba(0, 0, 0, 0.15);\n",
       "      filter: drop-shadow(0px 1px 2px rgba(0, 0, 0, 0.3));\n",
       "      fill: #FFFFFF;\n",
       "    }\n",
       "  </style>\n",
       "\n",
       "      <script>\n",
       "        const buttonEl =\n",
       "          document.querySelector('#df-90be82af-8fad-49ba-82bc-38ba5dd642d0 button.colab-df-convert');\n",
       "        buttonEl.style.display =\n",
       "          google.colab.kernel.accessAllowed ? 'block' : 'none';\n",
       "\n",
       "        async function convertToInteractive(key) {\n",
       "          const element = document.querySelector('#df-90be82af-8fad-49ba-82bc-38ba5dd642d0');\n",
       "          const dataTable =\n",
       "            await google.colab.kernel.invokeFunction('convertToInteractive',\n",
       "                                                     [key], {});\n",
       "          if (!dataTable) return;\n",
       "\n",
       "          const docLinkHtml = 'Like what you see? Visit the ' +\n",
       "            '<a target=\"_blank\" href=https://colab.research.google.com/notebooks/data_table.ipynb>data table notebook</a>'\n",
       "            + ' to learn more about interactive tables.';\n",
       "          element.innerHTML = '';\n",
       "          dataTable['output_type'] = 'display_data';\n",
       "          await google.colab.output.renderOutput(dataTable, element);\n",
       "          const docLink = document.createElement('div');\n",
       "          docLink.innerHTML = docLinkHtml;\n",
       "          element.appendChild(docLink);\n",
       "        }\n",
       "      </script>\n",
       "    </div>\n",
       "  </div>\n",
       "  "
      ],
      "text/plain": [
       "           0         1         2         3         4         5         6    \\\n",
       "0    -0.999942 -0.001414 -0.981085 -0.484473 -0.948341  0.171350 -0.981562   \n",
       "1    -0.999120  0.052965 -0.985597  0.318218 -0.978574 -0.563376 -0.998118   \n",
       "2    -0.999862  0.039788 -0.973164  0.168508 -0.969527 -0.213720 -0.988347   \n",
       "3    -0.999984  0.044671 -0.993844  0.591809 -0.880615  0.781171 -0.973504   \n",
       "4    -0.999940  0.095895 -0.997162 -0.121784 -0.996297  0.846379 -0.994946   \n",
       "...        ...       ...       ...       ...       ...       ...       ...   \n",
       "1285 -0.999978  0.044769 -0.996063  0.206673 -0.993597  0.577214 -0.994746   \n",
       "1286 -0.999188  0.034496 -0.990960  0.951374 -0.999831 -0.388626 -0.997586   \n",
       "1287 -0.999984  0.033183 -0.995504  0.454196 -0.921501 -0.103736 -0.989906   \n",
       "1288 -0.999986  0.122390 -0.989700  0.519770 -0.975490  0.565476 -0.979562   \n",
       "1289 -0.999645  0.091843 -0.997664  0.946096 -0.999344  0.163253 -0.999165   \n",
       "\n",
       "           7         8         9    ...       118       119       120  \\\n",
       "0    -0.706304 -0.006808 -0.095359  ...  0.128026 -0.990112  0.187941   \n",
       "1     0.185895  0.121993  0.005437  ...  0.155417 -0.251321  0.236179   \n",
       "2    -0.972103 -0.031048 -0.025507  ...  0.133916 -0.986624  0.169207   \n",
       "3    -0.696313  0.135529 -0.005958  ...  0.142242 -0.995556  0.196146   \n",
       "4     0.436924  0.035794 -0.006821  ...  0.215716 -0.989526  0.178496   \n",
       "...        ...       ...       ...  ...       ...       ...       ...   \n",
       "1285  0.505085  0.094988  0.063025  ...  0.203866 -0.998053  0.137735   \n",
       "1286  0.758842  0.070556  0.052468  ...  0.134165 -0.782383  0.201555   \n",
       "1287 -0.962311 -0.030409 -0.049869  ...  0.104561 -0.996887  0.170619   \n",
       "1288 -0.951744  0.093162 -0.001901  ...  0.189051 -0.991586  0.195924   \n",
       "1289  0.995323  0.138288  0.038712  ...  0.211061 -0.527321  0.219368   \n",
       "\n",
       "           121       122       123       124       125       126       127  \n",
       "0    -0.998624 -0.819512  0.877467 -0.999149  0.980827  0.981782  0.963916  \n",
       "1    -0.999170 -0.642842  0.981704 -0.992995  0.923993  0.955823  0.998484  \n",
       "2    -0.999534 -0.628558  0.798255 -0.977197  0.732426  0.970786  0.976691  \n",
       "3    -0.998720 -0.586202  0.946417 -0.997387  0.998785  0.998541  0.884596  \n",
       "4    -0.999673 -0.879214  0.881079 -0.998047  0.986704  0.997149  0.974610  \n",
       "...        ...       ...       ...       ...       ...       ...       ...  \n",
       "1285 -0.999817 -0.956234  0.923886 -0.996958  0.989620  0.994490  0.967436  \n",
       "1286 -0.999390 -0.920580  0.792196 -0.945352  0.811551  0.946749  0.997387  \n",
       "1287 -0.999599 -0.375127  0.962274 -0.997076  0.959261  0.997462  0.964273  \n",
       "1288 -0.999426 -0.709937  0.916501 -0.998173  0.985651  0.968248  0.993790  \n",
       "1289 -0.999742 -0.661678  0.841889 -0.998527  0.906461  0.965278  0.998904  \n",
       "\n",
       "[1290 rows x 128 columns]"
      ]
     },
     "execution_count": 157,
     "metadata": {},
     "output_type": "execute_result"
    }
   ],
   "source": [
    "dataX2"
   ]
  },
  {
   "cell_type": "markdown",
   "metadata": {
    "id": "Wm0iV1ksyNUF"
   },
   "source": [
    "#seleccion de las variable"
   ]
  },
  {
   "cell_type": "code",
   "execution_count": null,
   "metadata": {
    "id": "O5uhZcbzRidy"
   },
   "outputs": [],
   "source": [
    "X = dataX2 \n",
    "Y = df['resultado'].copy()"
   ]
  },
  {
   "cell_type": "code",
   "execution_count": null,
   "metadata": {
    "colab": {
     "base_uri": "https://localhost:8080/"
    },
    "id": "0UOZmKMjRl6y",
    "outputId": "4c48b4df-9497-40bc-d787-830c3679049d"
   },
   "outputs": [
    {
     "data": {
      "text/plain": [
       "RangeIndex(start=0, stop=128, step=1)"
      ]
     },
     "execution_count": 159,
     "metadata": {},
     "output_type": "execute_result"
    }
   ],
   "source": [
    "X.columns"
   ]
  },
  {
   "cell_type": "code",
   "execution_count": null,
   "metadata": {
    "colab": {
     "base_uri": "https://localhost:8080/"
    },
    "id": "hUzLPNrN1RL0",
    "outputId": "d229b1a5-a1ab-4610-9f1b-672a618571fd"
   },
   "outputs": [
    {
     "name": "stdout",
     "output_type": "stream",
     "text": [
      "<class 'pandas.core.frame.DataFrame'>\n",
      "RangeIndex: 1290 entries, 0 to 1289\n",
      "Columns: 128 entries, 0 to 127\n",
      "dtypes: float32(128)\n",
      "memory usage: 645.1 KB\n"
     ]
    }
   ],
   "source": [
    "X.info()"
   ]
  },
  {
   "cell_type": "code",
   "execution_count": null,
   "metadata": {
    "colab": {
     "base_uri": "https://localhost:8080/"
    },
    "id": "SCYJFg3V1grr",
    "outputId": "dfa39843-7697-41a8-b2e9-7a8923f3c7f9"
   },
   "outputs": [
    {
     "data": {
      "text/plain": [
       "0    0\n",
       "1    0\n",
       "2    1\n",
       "3    0\n",
       "4    0\n",
       "Name: resultado, dtype: int64"
      ]
     },
     "execution_count": 161,
     "metadata": {},
     "output_type": "execute_result"
    }
   ],
   "source": [
    "Y.head()"
   ]
  },
  {
   "cell_type": "markdown",
   "metadata": {
    "id": "aRmzxRFPEYWf"
   },
   "source": [
    "# Balanceo de datos"
   ]
  },
  {
   "cell_type": "markdown",
   "metadata": {
    "id": "VWKGuNFJKN7h"
   },
   "source": [
    "## Aplicando Smote"
   ]
  },
  {
   "cell_type": "code",
   "execution_count": null,
   "metadata": {
    "colab": {
     "base_uri": "https://localhost:8080/"
    },
    "id": "dmRL1ZfVJkXI",
    "outputId": "9d46ef90-e045-4e9f-ce41-34bd4043e824"
   },
   "outputs": [
    {
     "data": {
      "text/plain": [
       "Counter({0: 668, 1: 668})"
      ]
     },
     "execution_count": 162,
     "metadata": {},
     "output_type": "execute_result"
    }
   ],
   "source": [
    "from imblearn.over_sampling import SMOTE #over sobre nivelar hacia arriba under nivelacion hacia el menor dato\n",
    "#from imblearn.under_sampling import SMOTE \n",
    "\n",
    "smote = SMOTE(random_state = 325, n_jobs=-1)\n",
    "X_smote, Y_smote = smote.fit_resample(X, Y)# hace Balance de los datos a partir de los agreglos\n",
    "\n",
    "from collections import Counter\n",
    "\n",
    "Counter(Y_smote)"
   ]
  },
  {
   "cell_type": "markdown",
   "metadata": {
    "id": "0e_u-Q_Ek__4"
   },
   "source": [
    "# Train y test"
   ]
  },
  {
   "cell_type": "code",
   "execution_count": null,
   "metadata": {
    "id": "TyfeIwbQIC6Z"
   },
   "outputs": [],
   "source": [
    "from sklearn.model_selection import train_test_split\n",
    "X_train_smote, X_test_smote, Y_train_smote, Y_test_smote = train_test_split(X_smote, Y_smote, random_state=325,test_size = 0.3)\n",
    "        \n",
    "X_train, X_test, Y_train, Y_test = train_test_split(X, Y, random_state=325,test_size = 0.3)        "
   ]
  },
  {
   "cell_type": "markdown",
   "metadata": {
    "id": "Ciq8A-OBPMoB"
   },
   "source": [
    "# SVM\n"
   ]
  },
  {
   "cell_type": "markdown",
   "metadata": {
    "id": "YDjqF2GOYMNJ"
   },
   "source": [
    "##SVC "
   ]
  },
  {
   "cell_type": "markdown",
   "metadata": {
    "id": "KK1IKHnHlm6S"
   },
   "source": [
    "### Caso 1"
   ]
  },
  {
   "cell_type": "code",
   "execution_count": null,
   "metadata": {
    "id": "et__pezSxWUc"
   },
   "outputs": [],
   "source": [
    "parametros = {'C'      : np.arange(1, 5, 1),\n",
    "            'gamma'  : np.arange(1, 5, 1),\n",
    "           'kernel' : ['rbf', 'linear','sigmoid']}\n",
    "\n",
    "from sklearn.svm import SVC\n",
    "from sklearn.model_selection import GridSearchCV\n",
    "\n",
    "clf = SVC(class_weight='balanced', random_state=325)  \n",
    "grid_search = GridSearchCV(clf, parametros, n_jobs=-1, cv=5) "
   ]
  },
  {
   "cell_type": "code",
   "execution_count": null,
   "metadata": {
    "colab": {
     "base_uri": "https://localhost:8080/"
    },
    "id": "bm5RhCN3RkZZ",
    "outputId": "9037f1e0-9ca1-43f5-9266-201d7954b31a"
   },
   "outputs": [
    {
     "data": {
      "text/plain": [
       "GridSearchCV(cv=5, estimator=SVC(class_weight='balanced', random_state=325),\n",
       "             n_jobs=-1,\n",
       "             param_grid={'C': array([1, 2, 3, 4]), 'gamma': array([1, 2, 3, 4]),\n",
       "                         'kernel': ['rbf', 'linear', 'sigmoid']})"
      ]
     },
     "execution_count": 165,
     "metadata": {},
     "output_type": "execute_result"
    }
   ],
   "source": [
    "grid_search.fit(X_train_smote, Y_train_smote)"
   ]
  },
  {
   "cell_type": "code",
   "execution_count": null,
   "metadata": {
    "colab": {
     "base_uri": "https://localhost:8080/"
    },
    "id": "1yEGg8ADqwI-",
    "outputId": "a2b0b578-61c0-4045-d2d8-76c6722c6924"
   },
   "outputs": [
    {
     "name": "stdout",
     "output_type": "stream",
     "text": [
      "El mejor modelo:\n",
      " {'C': 2, 'gamma': 1, 'kernel': 'linear'}\n"
     ]
    }
   ],
   "source": [
    "print('El mejor modelo:\\n', grid_search.best_params_)"
   ]
  },
  {
   "cell_type": "code",
   "execution_count": null,
   "metadata": {
    "id": "MsGA5qGNq4kN"
   },
   "outputs": [],
   "source": [
    "clf_best = grid_search.best_estimator_\n",
    "pred = clf_best.predict(X_test_smote)"
   ]
  },
  {
   "cell_type": "code",
   "execution_count": null,
   "metadata": {
    "colab": {
     "base_uri": "https://localhost:8080/"
    },
    "id": "8KTNPmsUy_jF",
    "outputId": "ea4f6f33-4eb4-4b21-bac4-cf3e400b0e25"
   },
   "outputs": [
    {
     "name": "stdout",
     "output_type": "stream",
     "text": [
      "              precision    recall  f1-score   support\n",
      "\n",
      "           0       0.93      0.93      0.93       212\n",
      "           1       0.93      0.92      0.92       189\n",
      "\n",
      "    accuracy                           0.93       401\n",
      "   macro avg       0.93      0.92      0.92       401\n",
      "weighted avg       0.93      0.93      0.93       401\n",
      "\n"
     ]
    }
   ],
   "source": [
    "from sklearn.metrics import classification_report\n",
    "print(classification_report(Y_test_smote, pred))"
   ]
  },
  {
   "cell_type": "code",
   "execution_count": null,
   "metadata": {
    "colab": {
     "base_uri": "https://localhost:8080/",
     "height": 347
    },
    "id": "-4aN-UBJzWkS",
    "outputId": "daeeeec7-d03f-418b-9e02-04986220113d"
   },
   "outputs": [
    {
     "name": "stdout",
     "output_type": "stream",
     "text": [
      "Matriz de Confusión\n",
      "[[198  14]\n",
      " [ 16 173]]\n"
     ]
    },
    {
     "data": {
      "image/png": "[encoded data removed]",
      "text/plain": [
       "<Figure size 432x288 with 2 Axes>"
      ]
     },
     "metadata": {
      "needs_background": "light"
     },
     "output_type": "display_data"
    }
   ],
   "source": [
    "from sklearn.metrics import ConfusionMatrixDisplay\n",
    "\n",
    "\n",
    "disp = ConfusionMatrixDisplay.from_estimator(\n",
    "       clf_best,\n",
    "       X_test_smote,\n",
    "       Y_test_smote,\n",
    "       display_labels=None,\n",
    "       cmap=plt.cm.Blues,\n",
    "       normalize=None)\n",
    "\n",
    "disp.ax_.set_title('Matriz de Confusión')\n",
    "disp.ax_.set_xlabel('Predicción');\n",
    "disp.ax_.set_ylabel('Realidad'); \n",
    "disp.ax_.xaxis.set_ticklabels(['0', '1']); \n",
    "disp.ax_.yaxis.set_ticklabels(['0', '1']);\n",
    "\n",
    "print('Matriz de Confusión')\n",
    "print(disp.confusion_matrix)\n",
    "\n",
    "plt.show()"
   ]
  },
  {
   "cell_type": "markdown",
   "metadata": {
    "id": "AdkVd93jvUAr"
   },
   "source": [
    "## Nusvm"
   ]
  },
  {
   "cell_type": "markdown",
   "metadata": {
    "id": "P4WrGu2NlxN3"
   },
   "source": [
    "### Caso 1"
   ]
  },
  {
   "cell_type": "code",
   "execution_count": null,
   "metadata": {
    "id": "0gVoxUu052Q3"
   },
   "outputs": [],
   "source": [
    "parametros = {'nu'      : np.arange(0, 1, 0.1),\n",
    "            'gamma'  : ['scale','auto'],\n",
    "           'kernel' : ['rbf', 'linear','sigmoid']}\n",
    "\n",
    "from sklearn.svm import NuSVC\n",
    "from sklearn.model_selection import GridSearchCV\n",
    "\n",
    "clf = NuSVC(class_weight='balanced', random_state=325)  \n",
    "grid_search = GridSearchCV(clf, parametros, n_jobs=-1, cv=5) "
   ]
  },
  {
   "cell_type": "code",
   "execution_count": null,
   "metadata": {
    "colab": {
     "base_uri": "https://localhost:8080/"
    },
    "id": "O5l746iT58id",
    "outputId": "c82363ab-832b-4c90-a6a8-823e2686fe7a"
   },
   "outputs": [
    {
     "data": {
      "text/plain": [
       "GridSearchCV(cv=5, estimator=NuSVC(class_weight='balanced', random_state=325),\n",
       "             n_jobs=-1,\n",
       "             param_grid={'gamma': ['scale', 'auto'],\n",
       "                         'kernel': ['rbf', 'linear', 'sigmoid'],\n",
       "                         'nu': array([0. , 0.1, 0.2, 0.3, 0.4, 0.5, 0.6, 0.7, 0.8, 0.9])})"
      ]
     },
     "execution_count": 171,
     "metadata": {},
     "output_type": "execute_result"
    }
   ],
   "source": [
    "grid_search.fit(X_train_smote, Y_train_smote)"
   ]
  },
  {
   "cell_type": "code",
   "execution_count": null,
   "metadata": {
    "colab": {
     "base_uri": "https://localhost:8080/"
    },
    "id": "prGKx-R158id",
    "outputId": "413ffe15-2e8e-429c-e0e9-170aa5cc22b3"
   },
   "outputs": [
    {
     "name": "stdout",
     "output_type": "stream",
     "text": [
      "El mejor modelo:\n",
      " {'gamma': 'auto', 'kernel': 'rbf', 'nu': 0.1}\n"
     ]
    }
   ],
   "source": [
    "print('El mejor modelo:\\n', grid_search.best_params_)"
   ]
  },
  {
   "cell_type": "code",
   "execution_count": null,
   "metadata": {
    "id": "YagauF6t58ie"
   },
   "outputs": [],
   "source": [
    "clf_best = grid_search.best_estimator_\n",
    "pred = clf_best.predict(X_test_smote)"
   ]
  },
  {
   "cell_type": "code",
   "execution_count": null,
   "metadata": {
    "colab": {
     "base_uri": "https://localhost:8080/"
    },
    "id": "Pywpz84V58ie",
    "outputId": "d018636a-8bab-4703-fe1c-896e5e0f4827"
   },
   "outputs": [
    {
     "name": "stdout",
     "output_type": "stream",
     "text": [
      "              precision    recall  f1-score   support\n",
      "\n",
      "           0       0.94      0.95      0.95       212\n",
      "           1       0.95      0.93      0.94       189\n",
      "\n",
      "    accuracy                           0.94       401\n",
      "   macro avg       0.94      0.94      0.94       401\n",
      "weighted avg       0.94      0.94      0.94       401\n",
      "\n"
     ]
    }
   ],
   "source": [
    "from sklearn.metrics import classification_report\n",
    "\n",
    "print(classification_report(Y_test_smote, pred))"
   ]
  },
  {
   "cell_type": "code",
   "execution_count": null,
   "metadata": {
    "colab": {
     "base_uri": "https://localhost:8080/",
     "height": 347
    },
    "id": "0wI2Ertq58ie",
    "outputId": "7b7b508e-e776-42fc-8da7-95b7701182bf"
   },
   "outputs": [
    {
     "name": "stdout",
     "output_type": "stream",
     "text": [
      "Matriz de Confusión\n",
      "[[202  10]\n",
      " [ 13 176]]\n"
     ]
    },
    {
     "data": {
      "image/png": "[encoded data removed]",
      "text/plain": [
       "<Figure size 432x288 with 2 Axes>"
      ]
     },
     "metadata": {
      "needs_background": "light"
     },
     "output_type": "display_data"
    }
   ],
   "source": [
    "from sklearn.metrics import ConfusionMatrixDisplay\n",
    "\n",
    "\n",
    "disp = ConfusionMatrixDisplay.from_estimator(\n",
    "       clf_best,\n",
    "       X_test_smote,\n",
    "       Y_test_smote,\n",
    "       display_labels=None,\n",
    "       cmap=plt.cm.Blues,\n",
    "       normalize=None)\n",
    "\n",
    "disp.ax_.set_title('Matriz de Confusión')\n",
    "disp.ax_.set_xlabel('Predicción');\n",
    "disp.ax_.set_ylabel('Realidad'); \n",
    "disp.ax_.xaxis.set_ticklabels(['0', '1']); \n",
    "disp.ax_.yaxis.set_ticklabels(['0', '1']);\n",
    "\n",
    "print('Matriz de Confusión')\n",
    "print(disp.confusion_matrix)\n",
    "\n",
    "plt.show()"
   ]
  },
  {
   "cell_type": "markdown",
   "metadata": {
    "id": "xcbvtJXL7vkr"
   },
   "source": []
  },
  {
   "cell_type": "markdown",
   "metadata": {
    "id": "PcWgNR1487xm"
   },
   "source": [
    "#SECCION CON DATOS SIN PREPROCESAR"
   ]
  },
  {
   "cell_type": "markdown",
   "metadata": {
    "id": "5czs7yBD7h9t"
   },
   "source": [
    "# transformar texto(Embeding) Sin preprocesamiento de texto"
   ]
  },
  {
   "cell_type": "code",
   "execution_count": null,
   "metadata": {
    "colab": {
     "base_uri": "https://localhost:8080/",
     "height": 424
    },
    "id": "FLalqtie8GRR",
    "outputId": "651e5906-227f-4a8e-a1a8-f0e8530c56ec"
   },
   "outputs": [
    {
     "data": {
      "text/html": [
       "\n",
       "  <div id=\"df-ad540d52-e79f-4e95-afb3-377d20f16067\">\n",
       "    <div class=\"colab-df-container\">\n",
       "      <div>\n",
       "<style scoped>\n",
       "    .dataframe tbody tr th:only-of-type {\n",
       "        vertical-align: middle;\n",
       "    }\n",
       "\n",
       "    .dataframe tbody tr th {\n",
       "        vertical-align: top;\n",
       "    }\n",
       "\n",
       "    .dataframe thead th {\n",
       "        text-align: right;\n",
       "    }\n",
       "</style>\n",
       "<table border=\"1\" class=\"dataframe\">\n",
       "  <thead>\n",
       "    <tr style=\"text-align: right;\">\n",
       "      <th></th>\n",
       "      <th>resultado</th>\n",
       "      <th>mensaje</th>\n",
       "    </tr>\n",
       "  </thead>\n",
       "  <tbody>\n",
       "    <tr>\n",
       "      <th>0</th>\n",
       "      <td>0</td>\n",
       "      <td>Free entry in 2 a wkly comp to win FA Cup fina...</td>\n",
       "    </tr>\n",
       "    <tr>\n",
       "      <th>1</th>\n",
       "      <td>0</td>\n",
       "      <td>FreeMsg Hey there darling it's been 3 week's n...</td>\n",
       "    </tr>\n",
       "    <tr>\n",
       "      <th>2</th>\n",
       "      <td>1</td>\n",
       "      <td>As per your request 'Melle Melle (Oru Minnamin...</td>\n",
       "    </tr>\n",
       "    <tr>\n",
       "      <th>3</th>\n",
       "      <td>0</td>\n",
       "      <td>WINNER!! As a valued network customer you have...</td>\n",
       "    </tr>\n",
       "    <tr>\n",
       "      <th>4</th>\n",
       "      <td>0</td>\n",
       "      <td>Had your mobile 11 months or more? U R entitle...</td>\n",
       "    </tr>\n",
       "    <tr>\n",
       "      <th>...</th>\n",
       "      <td>...</td>\n",
       "      <td>...</td>\n",
       "    </tr>\n",
       "    <tr>\n",
       "      <th>1285</th>\n",
       "      <td>0</td>\n",
       "      <td>Had your contract mobile 11 Mnths? Latest Moto...</td>\n",
       "    </tr>\n",
       "    <tr>\n",
       "      <th>1286</th>\n",
       "      <td>1</td>\n",
       "      <td>Yeh. Indians was nice. Tho it did kane me off ...</td>\n",
       "    </tr>\n",
       "    <tr>\n",
       "      <th>1287</th>\n",
       "      <td>0</td>\n",
       "      <td>REMINDER FROM O2: To get 2.50 pounds free call...</td>\n",
       "    </tr>\n",
       "    <tr>\n",
       "      <th>1288</th>\n",
       "      <td>0</td>\n",
       "      <td>This is the 2nd time we have tried 2 contact u...</td>\n",
       "    </tr>\n",
       "    <tr>\n",
       "      <th>1289</th>\n",
       "      <td>1</td>\n",
       "      <td>The guy did some bitching but I acted like i'd...</td>\n",
       "    </tr>\n",
       "  </tbody>\n",
       "</table>\n",
       "<p>1290 rows × 2 columns</p>\n",
       "</div>\n",
       "      <button class=\"colab-df-convert\" onclick=\"convertToInteractive('df-ad540d52-e79f-4e95-afb3-377d20f16067')\"\n",
       "              title=\"Convert this dataframe to an interactive table.\"\n",
       "              style=\"display:none;\">\n",
       "        \n",
       "  <svg xmlns=\"http://www.w3.org/2000/svg\" height=\"24px\"viewBox=\"0 0 24 24\"\n",
       "       width=\"24px\">\n",
       "    <path d=\"M0 0h24v24H0V0z\" fill=\"none\"/>\n",
       "    <path d=\"M18.56 5.44l.94 2.06.94-2.06 2.06-.94-2.06-.94-.94-2.06-.94 2.06-2.06.94zm-11 1L8.5 8.5l.94-2.06 2.06-.94-2.06-.94L8.5 2.5l-.94 2.06-2.06.94zm10 10l.94 2.06.94-2.06 2.06-.94-2.06-.94-.94-2.06-.94 2.06-2.06.94z\"/><path d=\"M17.41 7.96l-1.37-1.37c-.4-.4-.92-.59-1.43-.59-.52 0-1.04.2-1.43.59L10.3 9.45l-7.72 7.72c-.78.78-.78 2.05 0 2.83L4 21.41c.39.39.9.59 1.41.59.51 0 1.02-.2 1.41-.59l7.78-7.78 2.81-2.81c.8-.78.8-2.07 0-2.86zM5.41 20L4 18.59l7.72-7.72 1.47 1.35L5.41 20z\"/>\n",
       "  </svg>\n",
       "      </button>\n",
       "      \n",
       "  <style>\n",
       "    .colab-df-container {\n",
       "      display:flex;\n",
       "      flex-wrap:wrap;\n",
       "      gap: 12px;\n",
       "    }\n",
       "\n",
       "    .colab-df-convert {\n",
       "      background-color: #E8F0FE;\n",
       "      border: none;\n",
       "      border-radius: 50%;\n",
       "      cursor: pointer;\n",
       "      display: none;\n",
       "      fill: #1967D2;\n",
       "      height: 32px;\n",
       "      padding: 0 0 0 0;\n",
       "      width: 32px;\n",
       "    }\n",
       "\n",
       "    .colab-df-convert:hover {\n",
       "      background-color: #E2EBFA;\n",
       "      box-shadow: 0px 1px 2px rgba(60, 64, 67, 0.3), 0px 1px 3px 1px rgba(60, 64, 67, 0.15);\n",
       "      fill: #174EA6;\n",
       "    }\n",
       "\n",
       "    [theme=dark] .colab-df-convert {\n",
       "      background-color: #3B4455;\n",
       "      fill: #D2E3FC;\n",
       "    }\n",
       "\n",
       "    [theme=dark] .colab-df-convert:hover {\n",
       "      background-color: #434B5C;\n",
       "      box-shadow: 0px 1px 3px 1px rgba(0, 0, 0, 0.15);\n",
       "      filter: drop-shadow(0px 1px 2px rgba(0, 0, 0, 0.3));\n",
       "      fill: #FFFFFF;\n",
       "    }\n",
       "  </style>\n",
       "\n",
       "      <script>\n",
       "        const buttonEl =\n",
       "          document.querySelector('#df-ad540d52-e79f-4e95-afb3-377d20f16067 button.colab-df-convert');\n",
       "        buttonEl.style.display =\n",
       "          google.colab.kernel.accessAllowed ? 'block' : 'none';\n",
       "\n",
       "        async function convertToInteractive(key) {\n",
       "          const element = document.querySelector('#df-ad540d52-e79f-4e95-afb3-377d20f16067');\n",
       "          const dataTable =\n",
       "            await google.colab.kernel.invokeFunction('convertToInteractive',\n",
       "                                                     [key], {});\n",
       "          if (!dataTable) return;\n",
       "\n",
       "          const docLinkHtml = 'Like what you see? Visit the ' +\n",
       "            '<a target=\"_blank\" href=https://colab.research.google.com/notebooks/data_table.ipynb>data table notebook</a>'\n",
       "            + ' to learn more about interactive tables.';\n",
       "          element.innerHTML = '';\n",
       "          dataTable['output_type'] = 'display_data';\n",
       "          await google.colab.output.renderOutput(dataTable, element);\n",
       "          const docLink = document.createElement('div');\n",
       "          docLink.innerHTML = docLinkHtml;\n",
       "          element.appendChild(docLink);\n",
       "        }\n",
       "      </script>\n",
       "    </div>\n",
       "  </div>\n",
       "  "
      ],
      "text/plain": [
       "      resultado                                            mensaje\n",
       "0             0  Free entry in 2 a wkly comp to win FA Cup fina...\n",
       "1             0  FreeMsg Hey there darling it's been 3 week's n...\n",
       "2             1  As per your request 'Melle Melle (Oru Minnamin...\n",
       "3             0  WINNER!! As a valued network customer you have...\n",
       "4             0  Had your mobile 11 months or more? U R entitle...\n",
       "...         ...                                                ...\n",
       "1285          0  Had your contract mobile 11 Mnths? Latest Moto...\n",
       "1286          1  Yeh. Indians was nice. Tho it did kane me off ...\n",
       "1287          0  REMINDER FROM O2: To get 2.50 pounds free call...\n",
       "1288          0  This is the 2nd time we have tried 2 contact u...\n",
       "1289          1  The guy did some bitching but I acted like i'd...\n",
       "\n",
       "[1290 rows x 2 columns]"
      ]
     },
     "execution_count": 177,
     "metadata": {},
     "output_type": "execute_result"
    }
   ],
   "source": [
    "df"
   ]
  },
  {
   "cell_type": "code",
   "execution_count": null,
   "metadata": {
    "id": "dIQC1CfU7h9t"
   },
   "outputs": [],
   "source": [
    "# 4to paso: Vamos a crear dos variables que cargaran en memoria dos funciones para transformar el texto\n",
    "##\n",
    "##   - preprocessor: \"objeto\" que se encargará de transformar el texto en el formato que necesita el modelo BERT para funcionar\n",
    "##   - encoder: \"objeto\" que será el modelo BERT y se alimentará del resultado de preprocessor, retornando el texto transformado en un vector numérico.\n",
    "\n",
    "preprocessor = hub.load(\"https://tfhub.dev/tensorflow/bert_en_uncased_preprocess/3\")\n",
    "encoder = hub.load(\"https://tfhub.dev/tensorflow/small_bert/bert_en_uncased_L-2_H-128_A-2/2\")"
   ]
  },
  {
   "cell_type": "code",
   "execution_count": null,
   "metadata": {
    "id": "i97PWesb7h9u"
   },
   "outputs": [],
   "source": [
    "# 5to paso: Vamos a usar el objeto preprocessor, y guardamos su resultado en la variable embedding\n",
    "##   A modo de ejemplo para su revisión, solo vamos a transformar dos textos:\n",
    "\n",
    "embedding = preprocessor(df['mensaje']) # df['mensaje'] es el texto"
   ]
  },
  {
   "cell_type": "code",
   "execution_count": null,
   "metadata": {
    "id": "RNWAGk8H7h9u"
   },
   "outputs": [],
   "source": [
    "# 6to paso: Vamos a codificar el texto con el modelo BERT:\n",
    "##   - Fijarse que el objeto encoder recibe como argumento la variable embedding (resultado de preprocessor)\n",
    "##   - Copiar el siguiente código de forma literal\n",
    "\n",
    "pooled_output = encoder(embedding)[\"pooled_output\"]"
   ]
  },
  {
   "cell_type": "code",
   "execution_count": null,
   "metadata": {
    "colab": {
     "base_uri": "https://localhost:8080/"
    },
    "id": "NeP3SHUB7h9u",
    "outputId": "f2590e9f-1745-4d7d-fb66-ccc37b1fee4d"
   },
   "outputs": [
    {
     "data": {
      "text/plain": [
       "<tf.Tensor: shape=(1290, 128), dtype=float32, numpy=\n",
       "array([[-0.9999836 ,  0.01233948, -0.97867   , ...,  0.973742  ,\n",
       "         0.8694874 ,  0.92939764],\n",
       "       [-0.99979466,  0.05645132, -0.9942094 , ...,  0.8997836 ,\n",
       "         0.8589003 ,  0.99508   ],\n",
       "       [-0.99994373,  0.02813301, -0.9845494 , ...,  0.7336781 ,\n",
       "         0.9590306 ,  0.9695843 ],\n",
       "       ...,\n",
       "       [-0.9999937 ,  0.05234575, -0.9969019 , ...,  0.9701582 ,\n",
       "         0.9953039 ,  0.93751097],\n",
       "       [-0.9999974 ,  0.08623969, -0.9962204 , ...,  0.9832028 ,\n",
       "         0.6856057 ,  0.94771725],\n",
       "       [-0.9996448 ,  0.09184256, -0.9976637 , ...,  0.90646094,\n",
       "         0.9652779 ,  0.99890375]], dtype=float32)>"
      ]
     },
     "execution_count": 182,
     "metadata": {},
     "output_type": "execute_result"
    }
   ],
   "source": [
    "# Opcional: revisamos el contenido de la variable pooled_output, el cual tiene dos vectores de 128 dimensiones\n",
    "##\n",
    "##    - Dos vectores, porque le pasamos solo dos textos\n",
    "##    - 128 dimensiones, porque el modelo BERT utilizado convierte cualquier texto (independiente del largo) en un vector numérico de 128 dimensiones.\n",
    "\n",
    "pooled_output"
   ]
  },
  {
   "cell_type": "code",
   "execution_count": null,
   "metadata": {
    "id": "qRqRERen7h9u"
   },
   "outputs": [],
   "source": [
    "# 7mo paso: El contenido de la variable pooled_output es una estructura de datos de tipo tensorflow.\n",
    "#           Para transformarlo a un dataframe y usarlo de forma tradicional con los modelos clásicos, \n",
    "#           ejecutamos la siguiente linea de código:\n",
    "\n",
    "dataX2 = pd.DataFrame(pooled_output.numpy())"
   ]
  },
  {
   "cell_type": "code",
   "execution_count": null,
   "metadata": {
    "colab": {
     "base_uri": "https://localhost:8080/"
    },
    "id": "LZS8ulDi7h9u",
    "outputId": "4cb7745c-7338-4562-e901-d2ae0c765079"
   },
   "outputs": [
    {
     "data": {
      "text/plain": [
       "(1290, 128)"
      ]
     },
     "execution_count": 184,
     "metadata": {},
     "output_type": "execute_result"
    }
   ],
   "source": [
    "# Opcional:  Ahora la variable dataX es un dataframe y podemos revisar su dimensionalidad y visualizarlo:\n",
    "dataX2.shape"
   ]
  },
  {
   "cell_type": "code",
   "execution_count": null,
   "metadata": {
    "colab": {
     "base_uri": "https://localhost:8080/",
     "height": 424
    },
    "id": "Ysk9H8Nf7h9u",
    "outputId": "e4388245-7a3d-43c4-8dc6-b35654a87308"
   },
   "outputs": [
    {
     "data": {
      "text/html": [
       "\n",
       "  <div id=\"df-ffed6c38-edc4-4312-a04e-2136a9e09c15\">\n",
       "    <div class=\"colab-df-container\">\n",
       "      <div>\n",
       "<style scoped>\n",
       "    .dataframe tbody tr th:only-of-type {\n",
       "        vertical-align: middle;\n",
       "    }\n",
       "\n",
       "    .dataframe tbody tr th {\n",
       "        vertical-align: top;\n",
       "    }\n",
       "\n",
       "    .dataframe thead th {\n",
       "        text-align: right;\n",
       "    }\n",
       "</style>\n",
       "<table border=\"1\" class=\"dataframe\">\n",
       "  <thead>\n",
       "    <tr style=\"text-align: right;\">\n",
       "      <th></th>\n",
       "      <th>0</th>\n",
       "      <th>1</th>\n",
       "      <th>2</th>\n",
       "      <th>3</th>\n",
       "      <th>4</th>\n",
       "      <th>5</th>\n",
       "      <th>6</th>\n",
       "      <th>7</th>\n",
       "      <th>8</th>\n",
       "      <th>9</th>\n",
       "      <th>...</th>\n",
       "      <th>118</th>\n",
       "      <th>119</th>\n",
       "      <th>120</th>\n",
       "      <th>121</th>\n",
       "      <th>122</th>\n",
       "      <th>123</th>\n",
       "      <th>124</th>\n",
       "      <th>125</th>\n",
       "      <th>126</th>\n",
       "      <th>127</th>\n",
       "    </tr>\n",
       "  </thead>\n",
       "  <tbody>\n",
       "    <tr>\n",
       "      <th>0</th>\n",
       "      <td>-0.999984</td>\n",
       "      <td>0.012339</td>\n",
       "      <td>-0.978670</td>\n",
       "      <td>-0.390501</td>\n",
       "      <td>-0.916917</td>\n",
       "      <td>0.785426</td>\n",
       "      <td>-0.960855</td>\n",
       "      <td>-0.899993</td>\n",
       "      <td>-0.026774</td>\n",
       "      <td>0.006909</td>\n",
       "      <td>...</td>\n",
       "      <td>0.102973</td>\n",
       "      <td>-0.997656</td>\n",
       "      <td>0.131492</td>\n",
       "      <td>-0.999817</td>\n",
       "      <td>-0.885076</td>\n",
       "      <td>0.849013</td>\n",
       "      <td>-0.998878</td>\n",
       "      <td>0.973742</td>\n",
       "      <td>0.869487</td>\n",
       "      <td>0.929398</td>\n",
       "    </tr>\n",
       "    <tr>\n",
       "      <th>1</th>\n",
       "      <td>-0.999795</td>\n",
       "      <td>0.056451</td>\n",
       "      <td>-0.994209</td>\n",
       "      <td>0.063637</td>\n",
       "      <td>-0.976721</td>\n",
       "      <td>-0.259604</td>\n",
       "      <td>-0.996063</td>\n",
       "      <td>0.210839</td>\n",
       "      <td>0.120435</td>\n",
       "      <td>0.046410</td>\n",
       "      <td>...</td>\n",
       "      <td>0.136751</td>\n",
       "      <td>-0.518643</td>\n",
       "      <td>0.198305</td>\n",
       "      <td>-0.999841</td>\n",
       "      <td>-0.667421</td>\n",
       "      <td>0.978685</td>\n",
       "      <td>-0.995415</td>\n",
       "      <td>0.899784</td>\n",
       "      <td>0.858900</td>\n",
       "      <td>0.995080</td>\n",
       "    </tr>\n",
       "    <tr>\n",
       "      <th>2</th>\n",
       "      <td>-0.999944</td>\n",
       "      <td>0.028133</td>\n",
       "      <td>-0.984549</td>\n",
       "      <td>0.188969</td>\n",
       "      <td>-0.981058</td>\n",
       "      <td>-0.075677</td>\n",
       "      <td>-0.987081</td>\n",
       "      <td>-0.971607</td>\n",
       "      <td>-0.040403</td>\n",
       "      <td>-0.020766</td>\n",
       "      <td>...</td>\n",
       "      <td>0.121796</td>\n",
       "      <td>-0.987217</td>\n",
       "      <td>0.160352</td>\n",
       "      <td>-0.999855</td>\n",
       "      <td>-0.689945</td>\n",
       "      <td>0.858107</td>\n",
       "      <td>-0.990487</td>\n",
       "      <td>0.733678</td>\n",
       "      <td>0.959031</td>\n",
       "      <td>0.969584</td>\n",
       "    </tr>\n",
       "    <tr>\n",
       "      <th>3</th>\n",
       "      <td>-0.999998</td>\n",
       "      <td>0.087004</td>\n",
       "      <td>-0.998042</td>\n",
       "      <td>0.028922</td>\n",
       "      <td>-0.895981</td>\n",
       "      <td>0.884447</td>\n",
       "      <td>-0.944886</td>\n",
       "      <td>-0.877754</td>\n",
       "      <td>0.108473</td>\n",
       "      <td>0.004284</td>\n",
       "      <td>...</td>\n",
       "      <td>0.142328</td>\n",
       "      <td>-0.998706</td>\n",
       "      <td>0.098014</td>\n",
       "      <td>-0.999967</td>\n",
       "      <td>-0.565350</td>\n",
       "      <td>0.954452</td>\n",
       "      <td>-0.998851</td>\n",
       "      <td>0.997118</td>\n",
       "      <td>0.963491</td>\n",
       "      <td>0.777209</td>\n",
       "    </tr>\n",
       "    <tr>\n",
       "      <th>4</th>\n",
       "      <td>-0.999968</td>\n",
       "      <td>0.092309</td>\n",
       "      <td>-0.991751</td>\n",
       "      <td>-0.398493</td>\n",
       "      <td>-0.989488</td>\n",
       "      <td>0.908049</td>\n",
       "      <td>-0.992710</td>\n",
       "      <td>0.105460</td>\n",
       "      <td>0.048611</td>\n",
       "      <td>-0.012153</td>\n",
       "      <td>...</td>\n",
       "      <td>0.218415</td>\n",
       "      <td>-0.997700</td>\n",
       "      <td>0.167798</td>\n",
       "      <td>-0.999842</td>\n",
       "      <td>-0.863140</td>\n",
       "      <td>0.947459</td>\n",
       "      <td>-0.997234</td>\n",
       "      <td>0.991300</td>\n",
       "      <td>0.993118</td>\n",
       "      <td>0.958039</td>\n",
       "    </tr>\n",
       "    <tr>\n",
       "      <th>...</th>\n",
       "      <td>...</td>\n",
       "      <td>...</td>\n",
       "      <td>...</td>\n",
       "      <td>...</td>\n",
       "      <td>...</td>\n",
       "      <td>...</td>\n",
       "      <td>...</td>\n",
       "      <td>...</td>\n",
       "      <td>...</td>\n",
       "      <td>...</td>\n",
       "      <td>...</td>\n",
       "      <td>...</td>\n",
       "      <td>...</td>\n",
       "      <td>...</td>\n",
       "      <td>...</td>\n",
       "      <td>...</td>\n",
       "      <td>...</td>\n",
       "      <td>...</td>\n",
       "      <td>...</td>\n",
       "      <td>...</td>\n",
       "      <td>...</td>\n",
       "    </tr>\n",
       "    <tr>\n",
       "      <th>1285</th>\n",
       "      <td>-0.999991</td>\n",
       "      <td>0.060197</td>\n",
       "      <td>-0.999659</td>\n",
       "      <td>0.075845</td>\n",
       "      <td>-0.996350</td>\n",
       "      <td>0.716204</td>\n",
       "      <td>-0.992615</td>\n",
       "      <td>0.528149</td>\n",
       "      <td>0.107021</td>\n",
       "      <td>-0.010136</td>\n",
       "      <td>...</td>\n",
       "      <td>0.220872</td>\n",
       "      <td>-0.996582</td>\n",
       "      <td>0.114361</td>\n",
       "      <td>-0.999985</td>\n",
       "      <td>-0.912078</td>\n",
       "      <td>0.941813</td>\n",
       "      <td>-0.999059</td>\n",
       "      <td>0.975390</td>\n",
       "      <td>0.980778</td>\n",
       "      <td>0.920063</td>\n",
       "    </tr>\n",
       "    <tr>\n",
       "      <th>1286</th>\n",
       "      <td>-0.999953</td>\n",
       "      <td>0.030791</td>\n",
       "      <td>-0.999822</td>\n",
       "      <td>0.927945</td>\n",
       "      <td>-0.999750</td>\n",
       "      <td>-0.179566</td>\n",
       "      <td>-0.987749</td>\n",
       "      <td>0.726748</td>\n",
       "      <td>0.090772</td>\n",
       "      <td>0.035918</td>\n",
       "      <td>...</td>\n",
       "      <td>0.108623</td>\n",
       "      <td>-0.716046</td>\n",
       "      <td>0.121274</td>\n",
       "      <td>-0.999976</td>\n",
       "      <td>-0.861851</td>\n",
       "      <td>0.668276</td>\n",
       "      <td>-0.994187</td>\n",
       "      <td>0.888636</td>\n",
       "      <td>0.890242</td>\n",
       "      <td>0.972008</td>\n",
       "    </tr>\n",
       "    <tr>\n",
       "      <th>1287</th>\n",
       "      <td>-0.999994</td>\n",
       "      <td>0.052346</td>\n",
       "      <td>-0.996902</td>\n",
       "      <td>0.245643</td>\n",
       "      <td>-0.920715</td>\n",
       "      <td>0.041507</td>\n",
       "      <td>-0.978795</td>\n",
       "      <td>-0.972810</td>\n",
       "      <td>-0.000673</td>\n",
       "      <td>-0.063252</td>\n",
       "      <td>...</td>\n",
       "      <td>0.127478</td>\n",
       "      <td>-0.997758</td>\n",
       "      <td>0.113584</td>\n",
       "      <td>-0.999896</td>\n",
       "      <td>-0.482480</td>\n",
       "      <td>0.967473</td>\n",
       "      <td>-0.997917</td>\n",
       "      <td>0.970158</td>\n",
       "      <td>0.995304</td>\n",
       "      <td>0.937511</td>\n",
       "    </tr>\n",
       "    <tr>\n",
       "      <th>1288</th>\n",
       "      <td>-0.999997</td>\n",
       "      <td>0.086240</td>\n",
       "      <td>-0.996220</td>\n",
       "      <td>0.014216</td>\n",
       "      <td>-0.955859</td>\n",
       "      <td>0.794546</td>\n",
       "      <td>-0.974418</td>\n",
       "      <td>-0.943467</td>\n",
       "      <td>0.073484</td>\n",
       "      <td>0.030729</td>\n",
       "      <td>...</td>\n",
       "      <td>0.147318</td>\n",
       "      <td>-0.997681</td>\n",
       "      <td>0.099959</td>\n",
       "      <td>-0.999969</td>\n",
       "      <td>-0.603682</td>\n",
       "      <td>0.850176</td>\n",
       "      <td>-0.999193</td>\n",
       "      <td>0.983203</td>\n",
       "      <td>0.685606</td>\n",
       "      <td>0.947717</td>\n",
       "    </tr>\n",
       "    <tr>\n",
       "      <th>1289</th>\n",
       "      <td>-0.999645</td>\n",
       "      <td>0.091843</td>\n",
       "      <td>-0.997664</td>\n",
       "      <td>0.946096</td>\n",
       "      <td>-0.999344</td>\n",
       "      <td>0.163253</td>\n",
       "      <td>-0.999165</td>\n",
       "      <td>0.995323</td>\n",
       "      <td>0.138288</td>\n",
       "      <td>0.038712</td>\n",
       "      <td>...</td>\n",
       "      <td>0.211061</td>\n",
       "      <td>-0.527321</td>\n",
       "      <td>0.219368</td>\n",
       "      <td>-0.999742</td>\n",
       "      <td>-0.661678</td>\n",
       "      <td>0.841889</td>\n",
       "      <td>-0.998527</td>\n",
       "      <td>0.906461</td>\n",
       "      <td>0.965278</td>\n",
       "      <td>0.998904</td>\n",
       "    </tr>\n",
       "  </tbody>\n",
       "</table>\n",
       "<p>1290 rows × 128 columns</p>\n",
       "</div>\n",
       "      <button class=\"colab-df-convert\" onclick=\"convertToInteractive('df-ffed6c38-edc4-4312-a04e-2136a9e09c15')\"\n",
       "              title=\"Convert this dataframe to an interactive table.\"\n",
       "              style=\"display:none;\">\n",
       "        \n",
       "  <svg xmlns=\"http://www.w3.org/2000/svg\" height=\"24px\"viewBox=\"0 0 24 24\"\n",
       "       width=\"24px\">\n",
       "    <path d=\"M0 0h24v24H0V0z\" fill=\"none\"/>\n",
       "    <path d=\"M18.56 5.44l.94 2.06.94-2.06 2.06-.94-2.06-.94-.94-2.06-.94 2.06-2.06.94zm-11 1L8.5 8.5l.94-2.06 2.06-.94-2.06-.94L8.5 2.5l-.94 2.06-2.06.94zm10 10l.94 2.06.94-2.06 2.06-.94-2.06-.94-.94-2.06-.94 2.06-2.06.94z\"/><path d=\"M17.41 7.96l-1.37-1.37c-.4-.4-.92-.59-1.43-.59-.52 0-1.04.2-1.43.59L10.3 9.45l-7.72 7.72c-.78.78-.78 2.05 0 2.83L4 21.41c.39.39.9.59 1.41.59.51 0 1.02-.2 1.41-.59l7.78-7.78 2.81-2.81c.8-.78.8-2.07 0-2.86zM5.41 20L4 18.59l7.72-7.72 1.47 1.35L5.41 20z\"/>\n",
       "  </svg>\n",
       "      </button>\n",
       "      \n",
       "  <style>\n",
       "    .colab-df-container {\n",
       "      display:flex;\n",
       "      flex-wrap:wrap;\n",
       "      gap: 12px;\n",
       "    }\n",
       "\n",
       "    .colab-df-convert {\n",
       "      background-color: #E8F0FE;\n",
       "      border: none;\n",
       "      border-radius: 50%;\n",
       "      cursor: pointer;\n",
       "      display: none;\n",
       "      fill: #1967D2;\n",
       "      height: 32px;\n",
       "      padding: 0 0 0 0;\n",
       "      width: 32px;\n",
       "    }\n",
       "\n",
       "    .colab-df-convert:hover {\n",
       "      background-color: #E2EBFA;\n",
       "      box-shadow: 0px 1px 2px rgba(60, 64, 67, 0.3), 0px 1px 3px 1px rgba(60, 64, 67, 0.15);\n",
       "      fill: #174EA6;\n",
       "    }\n",
       "\n",
       "    [theme=dark] .colab-df-convert {\n",
       "      background-color: #3B4455;\n",
       "      fill: #D2E3FC;\n",
       "    }\n",
       "\n",
       "    [theme=dark] .colab-df-convert:hover {\n",
       "      background-color: #434B5C;\n",
       "      box-shadow: 0px 1px 3px 1px rgba(0, 0, 0, 0.15);\n",
       "      filter: drop-shadow(0px 1px 2px rgba(0, 0, 0, 0.3));\n",
       "      fill: #FFFFFF;\n",
       "    }\n",
       "  </style>\n",
       "\n",
       "      <script>\n",
       "        const buttonEl =\n",
       "          document.querySelector('#df-ffed6c38-edc4-4312-a04e-2136a9e09c15 button.colab-df-convert');\n",
       "        buttonEl.style.display =\n",
       "          google.colab.kernel.accessAllowed ? 'block' : 'none';\n",
       "\n",
       "        async function convertToInteractive(key) {\n",
       "          const element = document.querySelector('#df-ffed6c38-edc4-4312-a04e-2136a9e09c15');\n",
       "          const dataTable =\n",
       "            await google.colab.kernel.invokeFunction('convertToInteractive',\n",
       "                                                     [key], {});\n",
       "          if (!dataTable) return;\n",
       "\n",
       "          const docLinkHtml = 'Like what you see? Visit the ' +\n",
       "            '<a target=\"_blank\" href=https://colab.research.google.com/notebooks/data_table.ipynb>data table notebook</a>'\n",
       "            + ' to learn more about interactive tables.';\n",
       "          element.innerHTML = '';\n",
       "          dataTable['output_type'] = 'display_data';\n",
       "          await google.colab.output.renderOutput(dataTable, element);\n",
       "          const docLink = document.createElement('div');\n",
       "          docLink.innerHTML = docLinkHtml;\n",
       "          element.appendChild(docLink);\n",
       "        }\n",
       "      </script>\n",
       "    </div>\n",
       "  </div>\n",
       "  "
      ],
      "text/plain": [
       "           0         1         2         3         4         5         6    \\\n",
       "0    -0.999984  0.012339 -0.978670 -0.390501 -0.916917  0.785426 -0.960855   \n",
       "1    -0.999795  0.056451 -0.994209  0.063637 -0.976721 -0.259604 -0.996063   \n",
       "2    -0.999944  0.028133 -0.984549  0.188969 -0.981058 -0.075677 -0.987081   \n",
       "3    -0.999998  0.087004 -0.998042  0.028922 -0.895981  0.884447 -0.944886   \n",
       "4    -0.999968  0.092309 -0.991751 -0.398493 -0.989488  0.908049 -0.992710   \n",
       "...        ...       ...       ...       ...       ...       ...       ...   \n",
       "1285 -0.999991  0.060197 -0.999659  0.075845 -0.996350  0.716204 -0.992615   \n",
       "1286 -0.999953  0.030791 -0.999822  0.927945 -0.999750 -0.179566 -0.987749   \n",
       "1287 -0.999994  0.052346 -0.996902  0.245643 -0.920715  0.041507 -0.978795   \n",
       "1288 -0.999997  0.086240 -0.996220  0.014216 -0.955859  0.794546 -0.974418   \n",
       "1289 -0.999645  0.091843 -0.997664  0.946096 -0.999344  0.163253 -0.999165   \n",
       "\n",
       "           7         8         9    ...       118       119       120  \\\n",
       "0    -0.899993 -0.026774  0.006909  ...  0.102973 -0.997656  0.131492   \n",
       "1     0.210839  0.120435  0.046410  ...  0.136751 -0.518643  0.198305   \n",
       "2    -0.971607 -0.040403 -0.020766  ...  0.121796 -0.987217  0.160352   \n",
       "3    -0.877754  0.108473  0.004284  ...  0.142328 -0.998706  0.098014   \n",
       "4     0.105460  0.048611 -0.012153  ...  0.218415 -0.997700  0.167798   \n",
       "...        ...       ...       ...  ...       ...       ...       ...   \n",
       "1285  0.528149  0.107021 -0.010136  ...  0.220872 -0.996582  0.114361   \n",
       "1286  0.726748  0.090772  0.035918  ...  0.108623 -0.716046  0.121274   \n",
       "1287 -0.972810 -0.000673 -0.063252  ...  0.127478 -0.997758  0.113584   \n",
       "1288 -0.943467  0.073484  0.030729  ...  0.147318 -0.997681  0.099959   \n",
       "1289  0.995323  0.138288  0.038712  ...  0.211061 -0.527321  0.219368   \n",
       "\n",
       "           121       122       123       124       125       126       127  \n",
       "0    -0.999817 -0.885076  0.849013 -0.998878  0.973742  0.869487  0.929398  \n",
       "1    -0.999841 -0.667421  0.978685 -0.995415  0.899784  0.858900  0.995080  \n",
       "2    -0.999855 -0.689945  0.858107 -0.990487  0.733678  0.959031  0.969584  \n",
       "3    -0.999967 -0.565350  0.954452 -0.998851  0.997118  0.963491  0.777209  \n",
       "4    -0.999842 -0.863140  0.947459 -0.997234  0.991300  0.993118  0.958039  \n",
       "...        ...       ...       ...       ...       ...       ...       ...  \n",
       "1285 -0.999985 -0.912078  0.941813 -0.999059  0.975390  0.980778  0.920063  \n",
       "1286 -0.999976 -0.861851  0.668276 -0.994187  0.888636  0.890242  0.972008  \n",
       "1287 -0.999896 -0.482480  0.967473 -0.997917  0.970158  0.995304  0.937511  \n",
       "1288 -0.999969 -0.603682  0.850176 -0.999193  0.983203  0.685606  0.947717  \n",
       "1289 -0.999742 -0.661678  0.841889 -0.998527  0.906461  0.965278  0.998904  \n",
       "\n",
       "[1290 rows x 128 columns]"
      ]
     },
     "execution_count": 185,
     "metadata": {},
     "output_type": "execute_result"
    }
   ],
   "source": [
    "dataX2"
   ]
  },
  {
   "cell_type": "markdown",
   "metadata": {
    "id": "CvmDKvOr7h9u"
   },
   "source": [
    "#seleccion de las variable"
   ]
  },
  {
   "cell_type": "code",
   "execution_count": null,
   "metadata": {
    "id": "Cep31CS_7h9u"
   },
   "outputs": [],
   "source": [
    "X = dataX2 \n",
    "Y = df['resultado'].copy()"
   ]
  },
  {
   "cell_type": "code",
   "execution_count": null,
   "metadata": {
    "colab": {
     "base_uri": "https://localhost:8080/"
    },
    "id": "yt_i_a9D7h9u",
    "outputId": "e0d6ef75-b0bd-4d33-f7b8-a064813e6e35"
   },
   "outputs": [
    {
     "data": {
      "text/plain": [
       "RangeIndex(start=0, stop=128, step=1)"
      ]
     },
     "execution_count": 187,
     "metadata": {},
     "output_type": "execute_result"
    }
   ],
   "source": [
    "X.columns"
   ]
  },
  {
   "cell_type": "code",
   "execution_count": null,
   "metadata": {
    "colab": {
     "base_uri": "https://localhost:8080/"
    },
    "id": "N6hmIrgd7h9v",
    "outputId": "c28e93bb-07ac-4c31-e341-38a715971430"
   },
   "outputs": [
    {
     "name": "stdout",
     "output_type": "stream",
     "text": [
      "<class 'pandas.core.frame.DataFrame'>\n",
      "RangeIndex: 1290 entries, 0 to 1289\n",
      "Columns: 128 entries, 0 to 127\n",
      "dtypes: float32(128)\n",
      "memory usage: 645.1 KB\n"
     ]
    }
   ],
   "source": [
    "X.info()"
   ]
  },
  {
   "cell_type": "code",
   "execution_count": null,
   "metadata": {
    "colab": {
     "base_uri": "https://localhost:8080/"
    },
    "id": "eO2w7dXT7h9v",
    "outputId": "5b889e89-3100-44d8-fa89-7e1d24929160"
   },
   "outputs": [
    {
     "data": {
      "text/plain": [
       "0    0\n",
       "1    0\n",
       "2    1\n",
       "3    0\n",
       "4    0\n",
       "Name: resultado, dtype: int64"
      ]
     },
     "execution_count": 189,
     "metadata": {},
     "output_type": "execute_result"
    }
   ],
   "source": [
    "Y.head()"
   ]
  },
  {
   "cell_type": "markdown",
   "metadata": {
    "id": "F8klIRF07h9v"
   },
   "source": [
    "# Balanceo de datos"
   ]
  },
  {
   "cell_type": "markdown",
   "metadata": {
    "id": "ZBybzqn97h9v"
   },
   "source": [
    "## Aplicando Smote"
   ]
  },
  {
   "cell_type": "code",
   "execution_count": null,
   "metadata": {
    "colab": {
     "base_uri": "https://localhost:8080/"
    },
    "id": "FSX3cOte7h9v",
    "outputId": "fa4e1041-de37-4adc-95e7-2c34498b0f65"
   },
   "outputs": [
    {
     "data": {
      "text/plain": [
       "Counter({0: 668, 1: 668})"
      ]
     },
     "execution_count": 190,
     "metadata": {},
     "output_type": "execute_result"
    }
   ],
   "source": [
    "from imblearn.over_sampling import SMOTE #over sobre nivelar hacia arriba under nivelacion hacia el menor dato\n",
    "#from imblearn.under_sampling import SMOTE \n",
    "\n",
    "smote = SMOTE(random_state = 325, n_jobs=-1)\n",
    "X_smote, Y_smote = smote.fit_resample(X, Y)# hace Balance de los datos a partir de los agreglos\n",
    "\n",
    "from collections import Counter\n",
    "\n",
    "Counter(Y_smote)"
   ]
  },
  {
   "cell_type": "markdown",
   "metadata": {
    "id": "sPOg7j8O7h9v"
   },
   "source": [
    "# Train y test"
   ]
  },
  {
   "cell_type": "code",
   "execution_count": null,
   "metadata": {
    "id": "iw1VQ9Mm7h9v"
   },
   "outputs": [],
   "source": [
    "from sklearn.model_selection import train_test_split\n",
    "X_train_smote, X_test_smote, Y_train_smote, Y_test_smote = train_test_split(X_smote, Y_smote, random_state=325,test_size = 0.3)\n",
    "        \n",
    "X_train, X_test, Y_train, Y_test = train_test_split(X, Y, random_state=325,test_size = 0.3)        "
   ]
  },
  {
   "cell_type": "markdown",
   "metadata": {
    "id": "1h7NGZZz7h9v"
   },
   "source": [
    "# SVM\n"
   ]
  },
  {
   "cell_type": "markdown",
   "metadata": {
    "id": "fj5vZ17i7h9v"
   },
   "source": [
    "##SVC "
   ]
  },
  {
   "cell_type": "markdown",
   "metadata": {
    "id": "33rM6IP47h9v"
   },
   "source": [
    "### Caso 1"
   ]
  },
  {
   "cell_type": "code",
   "execution_count": null,
   "metadata": {
    "id": "vF6EsF8C7h9v"
   },
   "outputs": [],
   "source": [
    "parametros = {'C'      : np.arange(1, 5, 1),\n",
    "            'gamma'  : np.arange(1, 5, 1),\n",
    "           'kernel' : ['rbf', 'linear','sigmoid']}\n",
    "\n",
    "from sklearn.svm import SVC\n",
    "from sklearn.model_selection import GridSearchCV\n",
    "\n",
    "clf = SVC(class_weight='balanced', random_state=325)  \n",
    "grid_search = GridSearchCV(clf, parametros, n_jobs=-1, cv=5) "
   ]
  },
  {
   "cell_type": "code",
   "execution_count": null,
   "metadata": {
    "colab": {
     "base_uri": "https://localhost:8080/"
    },
    "id": "gT0i8rFC7h9w",
    "outputId": "ef5a1cf1-cd2e-4490-d36f-affe6c0e0011"
   },
   "outputs": [
    {
     "data": {
      "text/plain": [
       "GridSearchCV(cv=5, estimator=SVC(class_weight='balanced', random_state=325),\n",
       "             n_jobs=-1,\n",
       "             param_grid={'C': array([1, 2, 3, 4]), 'gamma': array([1, 2, 3, 4]),\n",
       "                         'kernel': ['rbf', 'linear', 'sigmoid']})"
      ]
     },
     "execution_count": 193,
     "metadata": {},
     "output_type": "execute_result"
    }
   ],
   "source": [
    "grid_search.fit(X_train_smote, Y_train_smote)"
   ]
  },
  {
   "cell_type": "code",
   "execution_count": null,
   "metadata": {
    "colab": {
     "base_uri": "https://localhost:8080/"
    },
    "id": "OJMK-ZJS7h9w",
    "outputId": "b64f5110-0cab-4f71-a334-0cf068e6f432"
   },
   "outputs": [
    {
     "name": "stdout",
     "output_type": "stream",
     "text": [
      "El mejor modelo:\n",
      " {'C': 1, 'gamma': 1, 'kernel': 'linear'}\n"
     ]
    }
   ],
   "source": [
    "print('El mejor modelo:\\n', grid_search.best_params_)"
   ]
  },
  {
   "cell_type": "code",
   "execution_count": null,
   "metadata": {
    "id": "adMoHplV7h9w"
   },
   "outputs": [],
   "source": [
    "clf_best = grid_search.best_estimator_\n",
    "pred = clf_best.predict(X_test_smote)"
   ]
  },
  {
   "cell_type": "code",
   "execution_count": null,
   "metadata": {
    "colab": {
     "base_uri": "https://localhost:8080/"
    },
    "id": "TncoOjTy7h9w",
    "outputId": "bfd31cc5-2608-4fbe-a894-f58d5e7a9237"
   },
   "outputs": [
    {
     "name": "stdout",
     "output_type": "stream",
     "text": [
      "              precision    recall  f1-score   support\n",
      "\n",
      "           0       0.96      0.96      0.96       212\n",
      "           1       0.96      0.95      0.95       189\n",
      "\n",
      "    accuracy                           0.96       401\n",
      "   macro avg       0.96      0.96      0.96       401\n",
      "weighted avg       0.96      0.96      0.96       401\n",
      "\n"
     ]
    }
   ],
   "source": [
    "from sklearn.metrics import classification_report\n",
    "print(classification_report(Y_test_smote, pred))"
   ]
  },
  {
   "cell_type": "code",
   "execution_count": null,
   "metadata": {
    "colab": {
     "base_uri": "https://localhost:8080/",
     "height": 347
    },
    "id": "fT6weX557h9w",
    "outputId": "58392d7e-aca3-40ef-d783-cedf40494b0b"
   },
   "outputs": [
    {
     "name": "stdout",
     "output_type": "stream",
     "text": [
      "Matriz de Confusión\n",
      "[[204   8]\n",
      " [  9 180]]\n"
     ]
    },
    {
     "data": {
      "image/png": "[encoded data removed]",
      "text/plain": [
       "<Figure size 432x288 with 2 Axes>"
      ]
     },
     "metadata": {
      "needs_background": "light"
     },
     "output_type": "display_data"
    }
   ],
   "source": [
    "from sklearn.metrics import ConfusionMatrixDisplay\n",
    "\n",
    "\n",
    "disp = ConfusionMatrixDisplay.from_estimator(\n",
    "       clf_best,\n",
    "       X_test_smote,\n",
    "       Y_test_smote,\n",
    "       display_labels=None,\n",
    "       cmap=plt.cm.Blues,\n",
    "       normalize=None)\n",
    "\n",
    "disp.ax_.set_title('Matriz de Confusión')\n",
    "disp.ax_.set_xlabel('Predicción');\n",
    "disp.ax_.set_ylabel('Realidad'); \n",
    "disp.ax_.xaxis.set_ticklabels(['0', '1']); \n",
    "disp.ax_.yaxis.set_ticklabels(['0', '1']);\n",
    "\n",
    "print('Matriz de Confusión')\n",
    "print(disp.confusion_matrix)\n",
    "\n",
    "plt.show()"
   ]
  },
  {
   "cell_type": "markdown",
   "metadata": {
    "id": "GtZRs-UI7h9w"
   },
   "source": [
    "## Nusvm"
   ]
  },
  {
   "cell_type": "markdown",
   "metadata": {
    "id": "Rid-2NC17h9w"
   },
   "source": [
    "### Caso 1"
   ]
  },
  {
   "cell_type": "code",
   "execution_count": null,
   "metadata": {
    "id": "80z6S8sq7h9w"
   },
   "outputs": [],
   "source": [
    "parametros = {'nu'      : np.arange(0, 1, 0.1),\n",
    "            'gamma'  : ['scale','auto'],\n",
    "           'kernel' : ['rbf', 'linear','sigmoid']}\n",
    "\n",
    "from sklearn.svm import NuSVC\n",
    "from sklearn.model_selection import GridSearchCV\n",
    "\n",
    "clf = NuSVC(class_weight='balanced', random_state=325)  \n",
    "grid_search = GridSearchCV(clf, parametros, n_jobs=-1, cv=5) "
   ]
  },
  {
   "cell_type": "code",
   "execution_count": null,
   "metadata": {
    "colab": {
     "base_uri": "https://localhost:8080/"
    },
    "id": "kekqB54y7h9w",
    "outputId": "46847fc2-d800-4d7e-da7c-70a26216ef3f"
   },
   "outputs": [
    {
     "data": {
      "text/plain": [
       "GridSearchCV(cv=5, estimator=NuSVC(class_weight='balanced', random_state=325),\n",
       "             n_jobs=-1,\n",
       "             param_grid={'gamma': ['scale', 'auto'],\n",
       "                         'kernel': ['rbf', 'linear', 'sigmoid'],\n",
       "                         'nu': array([0. , 0.1, 0.2, 0.3, 0.4, 0.5, 0.6, 0.7, 0.8, 0.9])})"
      ]
     },
     "execution_count": 199,
     "metadata": {},
     "output_type": "execute_result"
    }
   ],
   "source": [
    "grid_search.fit(X_train_smote, Y_train_smote)"
   ]
  },
  {
   "cell_type": "code",
   "execution_count": null,
   "metadata": {
    "colab": {
     "base_uri": "https://localhost:8080/"
    },
    "id": "Q4vakTqF7h9w",
    "outputId": "2bf32955-3beb-4108-f88a-5372edd8c5fe"
   },
   "outputs": [
    {
     "name": "stdout",
     "output_type": "stream",
     "text": [
      "El mejor modelo:\n",
      " {'gamma': 'auto', 'kernel': 'rbf', 'nu': 0.1}\n"
     ]
    }
   ],
   "source": [
    "print('El mejor modelo:\\n', grid_search.best_params_)"
   ]
  },
  {
   "cell_type": "code",
   "execution_count": null,
   "metadata": {
    "id": "NuciTwZ07h9x"
   },
   "outputs": [],
   "source": [
    "clf_best = grid_search.best_estimator_\n",
    "pred = clf_best.predict(X_test_smote)"
   ]
  },
  {
   "cell_type": "code",
   "execution_count": null,
   "metadata": {
    "colab": {
     "base_uri": "https://localhost:8080/"
    },
    "id": "WO69ZtT87h9x",
    "outputId": "0f517516-fa21-4958-8bf9-be9310c7b54b"
   },
   "outputs": [
    {
     "name": "stdout",
     "output_type": "stream",
     "text": [
      "              precision    recall  f1-score   support\n",
      "\n",
      "           0       0.97      0.94      0.95       212\n",
      "           1       0.93      0.97      0.95       189\n",
      "\n",
      "    accuracy                           0.95       401\n",
      "   macro avg       0.95      0.95      0.95       401\n",
      "weighted avg       0.95      0.95      0.95       401\n",
      "\n"
     ]
    }
   ],
   "source": [
    "from sklearn.metrics import classification_report\n",
    "\n",
    "print(classification_report(Y_test_smote, pred))"
   ]
  },
  {
   "cell_type": "code",
   "execution_count": null,
   "metadata": {
    "colab": {
     "base_uri": "https://localhost:8080/",
     "height": 347
    },
    "id": "NS0BevV27h9x",
    "outputId": "8d9549ad-a4b4-4c70-e347-f5489db63bf2"
   },
   "outputs": [
    {
     "name": "stdout",
     "output_type": "stream",
     "text": [
      "Matriz de Confusión\n",
      "[[199  13]\n",
      " [  6 183]]\n"
     ]
    },
    {
     "data": {
      "image/png": "[encoded data removed]",
      "text/plain": [
       "<Figure size 432x288 with 2 Axes>"
      ]
     },
     "metadata": {
      "needs_background": "light"
     },
     "output_type": "display_data"
    }
   ],
   "source": [
    "from sklearn.metrics import ConfusionMatrixDisplay\n",
    "\n",
    "\n",
    "disp = ConfusionMatrixDisplay.from_estimator(\n",
    "       clf_best,\n",
    "       X_test_smote,\n",
    "       Y_test_smote,\n",
    "       display_labels=None,\n",
    "       cmap=plt.cm.Blues,\n",
    "       normalize=None)\n",
    "\n",
    "disp.ax_.set_title('Matriz de Confusión')\n",
    "disp.ax_.set_xlabel('Predicción');\n",
    "disp.ax_.set_ylabel('Realidad'); \n",
    "disp.ax_.xaxis.set_ticklabels(['0', '1']); \n",
    "disp.ax_.yaxis.set_ticklabels(['0', '1']);\n",
    "\n",
    "print('Matriz de Confusión')\n",
    "print(disp.confusion_matrix)\n",
    "\n",
    "plt.show()"
   ]
  }
 ],
 "metadata": {
  "colab": {
   "collapsed_sections": [],
   "name": "avance ML  Metodos de deteccion de spam  svm.ipynb",
   "provenance": []
  },
  "kernelspec": {
   "display_name": "Python 3 (ipykernel)",
   "language": "python",
   "name": "python3"
  },
  "language_info": {
   "codemirror_mode": {
    "name": "ipython",
    "version": 3
   },
   "file_extension": ".py",
   "mimetype": "text/x-python",
   "name": "python",
   "nbconvert_exporter": "python",
   "pygments_lexer": "ipython3",
   "version": "3.10.4"
  }
 },
 "nbformat": 4,
 "nbformat_minor": 4
}
