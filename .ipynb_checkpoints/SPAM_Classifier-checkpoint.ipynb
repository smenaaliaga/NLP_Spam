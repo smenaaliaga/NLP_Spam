{
 "cells": [
  {
   "cell_type": "code",
   "execution_count": 1,
   "metadata": {
    "id": "PzqmJ8tl0Fta"
   },
   "outputs": [
    {
     "name": "stderr",
     "output_type": "stream",
     "text": [
      "2022-09-12 16:08:41.618415: I tensorflow/core/platform/cpu_feature_guard.cc:193] This TensorFlow binary is optimized with oneAPI Deep Neural Network Library (oneDNN) to use the following CPU instructions in performance-critical operations:  AVX2 FMA\n",
      "To enable them in other operations, rebuild TensorFlow with the appropriate compiler flags.\n",
      "2022-09-12 16:08:42.159113: W tensorflow/stream_executor/platform/default/dso_loader.cc:64] Could not load dynamic library 'libcudart.so.11.0'; dlerror: libcudart.so.11.0: cannot open shared object file: No such file or directory\n",
      "2022-09-12 16:08:42.159144: I tensorflow/stream_executor/cuda/cudart_stub.cc:29] Ignore above cudart dlerror if you do not have a GPU set up on your machine.\n",
      "2022-09-12 16:08:42.243065: E tensorflow/stream_executor/cuda/cuda_blas.cc:2981] Unable to register cuBLAS factory: Attempting to register factory for plugin cuBLAS when one has already been registered\n",
      "2022-09-12 16:08:43.506548: W tensorflow/stream_executor/platform/default/dso_loader.cc:64] Could not load dynamic library 'libnvinfer.so.7'; dlerror: libnvinfer.so.7: cannot open shared object file: No such file or directory\n",
      "2022-09-12 16:08:43.506659: W tensorflow/stream_executor/platform/default/dso_loader.cc:64] Could not load dynamic library 'libnvinfer_plugin.so.7'; dlerror: libnvinfer_plugin.so.7: cannot open shared object file: No such file or directory\n",
      "2022-09-12 16:08:43.506668: W tensorflow/compiler/tf2tensorrt/utils/py_utils.cc:38] TF-TRT Warning: Cannot dlopen some TensorRT libraries. If you would like to use Nvidia GPU with TensorRT, please make sure the missing libraries mentioned above are installed properly.\n"
     ]
    }
   ],
   "source": [
    "import sys\n",
    "import nltk\n",
    "from nltk.corpus import stopwords\n",
    "import pandas as pd\n",
    "import numpy as np\n",
    "import matplotlib.pyplot as plt\n",
    "import tensorflow_hub as hub\n",
    "import tensorflow_text\n",
    "\n",
    "import warnings\n",
    "warnings.filterwarnings(\"ignore\")"
   ]
  },
  {
   "cell_type": "markdown",
   "metadata": {
    "id": "RRs157_mNB1U"
   },
   "source": [
    "# 1. Carga de Datos y AED"
   ]
  },
  {
   "cell_type": "code",
   "execution_count": 2,
   "metadata": {
    "colab": {
     "base_uri": "https://localhost:8080/"
    },
    "id": "VAuNnUjf-onU",
    "outputId": "06ece8f2-1de6-403f-b180-46760e376c79"
   },
   "outputs": [
    {
     "data": {
      "text/plain": [
       "(1290, 2)"
      ]
     },
     "execution_count": 2,
     "metadata": {},
     "output_type": "execute_result"
    }
   ],
   "source": [
    "text = pd.read_csv(\"SMSSpamCollection(Filtrada).csv\", on_bad_lines='skip', sep=';')\n",
    "text.shape"
   ]
  },
  {
   "cell_type": "code",
   "execution_count": 4,
   "metadata": {
    "colab": {
     "base_uri": "https://localhost:8080/",
     "height": 206
    },
    "id": "i3LzEhJIBvqJ",
    "outputId": "3bad234c-5928-47af-d9c6-e1327245feb0"
   },
   "outputs": [
    {
     "data": {
      "text/html": [
       "<div>\n",
       "<style scoped>\n",
       "    .dataframe tbody tr th:only-of-type {\n",
       "        vertical-align: middle;\n",
       "    }\n",
       "\n",
       "    .dataframe tbody tr th {\n",
       "        vertical-align: top;\n",
       "    }\n",
       "\n",
       "    .dataframe thead th {\n",
       "        text-align: right;\n",
       "    }\n",
       "</style>\n",
       "<table border=\"1\" class=\"dataframe\">\n",
       "  <thead>\n",
       "    <tr style=\"text-align: right;\">\n",
       "      <th></th>\n",
       "      <th>resultado</th>\n",
       "      <th>mensaje</th>\n",
       "    </tr>\n",
       "  </thead>\n",
       "  <tbody>\n",
       "    <tr>\n",
       "      <th>0</th>\n",
       "      <td>spam</td>\n",
       "      <td>Free entry in 2 a wkly comp to win FA Cup fina...</td>\n",
       "    </tr>\n",
       "    <tr>\n",
       "      <th>1</th>\n",
       "      <td>spam</td>\n",
       "      <td>FreeMsg Hey there darling it's been 3 week's n...</td>\n",
       "    </tr>\n",
       "    <tr>\n",
       "      <th>2</th>\n",
       "      <td>ham</td>\n",
       "      <td>As per your request 'Melle Melle (Oru Minnamin...</td>\n",
       "    </tr>\n",
       "    <tr>\n",
       "      <th>3</th>\n",
       "      <td>spam</td>\n",
       "      <td>WINNER!! As a valued network customer you have...</td>\n",
       "    </tr>\n",
       "    <tr>\n",
       "      <th>4</th>\n",
       "      <td>spam</td>\n",
       "      <td>Had your mobile 11 months or more? U R entitle...</td>\n",
       "    </tr>\n",
       "  </tbody>\n",
       "</table>\n",
       "</div>"
      ],
      "text/plain": [
       "  resultado                                            mensaje\n",
       "0      spam  Free entry in 2 a wkly comp to win FA Cup fina...\n",
       "1      spam  FreeMsg Hey there darling it's been 3 week's n...\n",
       "2       ham  As per your request 'Melle Melle (Oru Minnamin...\n",
       "3      spam  WINNER!! As a valued network customer you have...\n",
       "4      spam  Had your mobile 11 months or more? U R entitle..."
      ]
     },
     "execution_count": 4,
     "metadata": {},
     "output_type": "execute_result"
    }
   ],
   "source": [
    "text.head()"
   ]
  },
  {
   "cell_type": "code",
   "execution_count": 4,
   "metadata": {
    "colab": {
     "base_uri": "https://localhost:8080/",
     "height": 265
    },
    "id": "f7-Bo6ttjuV4",
    "outputId": "87e5c45f-fb4b-4949-80e5-9264d9d186ff"
   },
   "outputs": [
    {
     "data": {
      "text/plain": [
       "<AxesSubplot:ylabel='resultado'>"
      ]
     },
     "execution_count": 4,
     "metadata": {},
     "output_type": "execute_result"
    },
    {
     "data": {
      "image/png": "[encoded data removed]",
      "text/plain": [
       "<Figure size 432x432 with 1 Axes>"
      ]
     },
     "metadata": {},
     "output_type": "display_data"
    }
   ],
   "source": [
    "ratio_spam_and_ham = text[\"resultado\"].value_counts()\n",
    "ratio_spam_and_ham.plot.pie(autopct = '%1.1f%%', fontsize=10, figsize=(6,6))"
   ]
  },
  {
   "cell_type": "code",
   "execution_count": 5,
   "metadata": {},
   "outputs": [
    {
     "name": "stdout",
     "output_type": "stream",
     "text": [
      "SPAM msj:\n",
      "HAM msj:\n"
     ]
    }
   ],
   "source": [
    "def visualize(label, data):\n",
    "    words=''\n",
    "    for msg in data[data['resultado'] == label]['mensaje']:\n",
    "        msg = msg.lower()\n",
    "        words+=msg + ''\n",
    "    wordcloud = WordCloud(width=600, height=400).generate(words)\n",
    "    plt.figure(figsize=(16,8))\n",
    "    plt.imshow(wordcloud)\n",
    "    plt.axis('off')\n",
    "    plt.show()\n",
    "\n",
    "print(\"SPAM msj:\")\n",
    "#visualize('spam', text)\n",
    "\n",
    "print(\"HAM msj:\")\n",
    "#visualize('ham', text)"
   ]
  },
  {
   "cell_type": "markdown",
   "metadata": {
    "id": "UGdtvK_eNMYW"
   },
   "source": [
    "# 2. Preprocesamiento de Texto"
   ]
  },
  {
   "cell_type": "markdown",
   "metadata": {},
   "source": [
    "## 2.1. Expresiones Regulares"
   ]
  },
  {
   "cell_type": "code",
   "execution_count": 3,
   "metadata": {},
   "outputs": [],
   "source": [
    "# Use regular expression\n",
    "\n",
    "def regular_expression(processed) :\n",
    "    # Replace email addresses with 'email'\n",
    "    processed = processed.str.replace(r'^.+@[^\\.].*\\.[a-z]', 'emailaddress', regex=True)\n",
    "\n",
    "    # Replace URLs with 'webaddress'\n",
    "    processed = processed.str.replace(r'https?://[A-Za-z0-9./]+', 'webaddress', regex=True)\n",
    "\n",
    "    # Replace URLs with 'webaddress'\n",
    "    processed = processed.str.replace(r'www.[A-Za-z0-9./]+', 'webaddress', regex=True)\n",
    "\n",
    "    # Replace money symbols with 'moneysymb' (£ can by typed with ALT key + 156)\n",
    "    processed = processed.str.replace(r'£|\\$', 'moneysymb', regex=True)\n",
    "\n",
    "    # Replace 10 digit phone numbers (formats include paranthesis, spaces, no spaces, dashes) with 'phonenumber'\n",
    "    processed = processed.str.replace(r'^\\(?[\\d]{3}\\)?[\\s-]?[\\d]{3}[\\s-]?[\\d]{4}$', 'phonenumbr', regex=True)\n",
    "\n",
    "    # Replace numbers with 'numbr'\n",
    "    processed = processed.str.replace(r'\\d+(\\.\\d+)?', 'numbr', regex=True)\n",
    "    \n",
    "    # Remove punctuation\n",
    "    processed = processed.str.replace(r'[^\\w\\d\\s]', ' ', regex=True)\n",
    "\n",
    "    # Replace whitespace between terms with a single space\n",
    "    processed = processed.str.replace(r'\\s+', ' ', regex=True)\n",
    "\n",
    "    # Remove leading and trailing whitespace\n",
    "    processed = processed.str.replace(r'^\\s+|\\s+?$', '', regex=True)\n",
    "    \n",
    "    return processed"
   ]
  },
  {
   "cell_type": "code",
   "execution_count": 4,
   "metadata": {},
   "outputs": [],
   "source": [
    "# Apply lowercase\n",
    "\n",
    "def lowercase(processed) :\n",
    "    processed = processed.str.lower()\n",
    "    return processed"
   ]
  },
  {
   "cell_type": "markdown",
   "metadata": {},
   "source": [
    "## 2.2. Stop Words"
   ]
  },
  {
   "cell_type": "code",
   "execution_count": 5,
   "metadata": {
    "colab": {
     "base_uri": "https://localhost:8080/"
    },
    "id": "NGIh-OcKpaqH",
    "outputId": "ad8467ca-f530-4eef-bd17-69ac23476c4d"
   },
   "outputs": [],
   "source": [
    "# Remove Stop Words\n",
    "\n",
    "def stop_words(processed) :\n",
    "    stop_words = set(stopwords.words('english'))\n",
    "    processed = processed.apply(lambda x: ' '.join(term for term in x.split() if term not in stop_words))\n",
    "    return processed"
   ]
  },
  {
   "cell_type": "markdown",
   "metadata": {},
   "source": [
    "## 2.3. Stemming and Lemmatization\n",
    "\n",
    "Stemming identifies the common root form of a word by removing or replacing word suffixes (e.g. “flooding” is stemmed as “flood”), while lemmatization identifies the inflected forms of a word and returns its base form (e.g. “better” is lemmatized as “good”).\n",
    "\n",
    "Huang, X., Li, Z., Wang, C., & Ning, H. (2020). Identifying disaster related social media for rapid response: a visual-textual fused CNN architecture. International Journal of Digital Earth, 13(9), 1017–1039. https://doi.org/10.1080/17538947.2019.1633425"
   ]
  },
  {
   "cell_type": "code",
   "execution_count": 6,
   "metadata": {
    "id": "E5VSf8dFrptt"
   },
   "outputs": [],
   "source": [
    "# Apply ONLY Stemming\n",
    "\n",
    "def stemming(processed) :\n",
    "    snow = nltk.SnowballStemmer(language='english')\n",
    "    processed = processed.apply(lambda x: ' '.join(snow.stem(term) for term in x.split()))\n",
    "    return processed"
   ]
  },
  {
   "cell_type": "code",
   "execution_count": 7,
   "metadata": {},
   "outputs": [],
   "source": [
    "# Apply ONLY Lemmatization\n",
    "\n",
    "def lemmatization(processed) :\n",
    "    lmt = nltk.stem.WordNetLemmatizer()\n",
    "    processed = processed.apply(lambda x: ' '.join(lmt.lemmatize(term) for term in x.split()))\n",
    "    return processed"
   ]
  },
  {
   "cell_type": "markdown",
   "metadata": {},
   "source": [
    "## 2.4. Aplicar preprocesamientos"
   ]
  },
  {
   "cell_type": "code",
   "execution_count": 8,
   "metadata": {},
   "outputs": [],
   "source": [
    "def preprocessing(processed) :\n",
    "    processed = regular_expression(processed)\n",
    "    processed = lowercase(processed)\n",
    "    processed = stop_words(processed)\n",
    "    # processed = stemming(processed)\n",
    "    processed = lemmatization(processed)\n",
    "    return processed"
   ]
  },
  {
   "cell_type": "code",
   "execution_count": 9,
   "metadata": {},
   "outputs": [],
   "source": [
    "processed = preprocessing(text[\"mensaje\"])"
   ]
  },
  {
   "cell_type": "markdown",
   "metadata": {},
   "source": [
    "# 3. Definir Modelo de Clasificación"
   ]
  },
  {
   "cell_type": "markdown",
   "metadata": {},
   "source": [
    "## 3.1. Machine Learning"
   ]
  },
  {
   "cell_type": "code",
   "execution_count": 28,
   "metadata": {},
   "outputs": [],
   "source": [
    "from sklearn.model_selection import GridSearchCV\n",
    "from sklearn.metrics import classification_report\n",
    "from sklearn.metrics import confusion_matrix, ConfusionMatrixDisplay\n",
    "from sklearn.model_selection import cross_val_score\n",
    "\n",
    "import time"
   ]
  },
  {
   "cell_type": "code",
   "execution_count": 11,
   "metadata": {},
   "outputs": [],
   "source": [
    "def confusion_matrix(clf_best, X_test, y_test) :\n",
    "    disp = ConfusionMatrixDisplay.from_estimator(\n",
    "       clf_best,\n",
    "       X_test,\n",
    "       y_test,\n",
    "       display_labels=None,\n",
    "       cmap=plt.cm.Blues,\n",
    "       normalize=None)\n",
    "\n",
    "    disp.ax_.set_xlabel('Predicción');\n",
    "    disp.ax_.set_ylabel('Realidad'); \n",
    "    disp.ax_.xaxis.set_ticklabels(['0', '1']); \n",
    "    disp.ax_.yaxis.set_ticklabels(['0', '1']);\n",
    "    \n",
    "    print(disp.confusion_matrix)\n",
    "\n",
    "    plt.show()"
   ]
  },
  {
   "cell_type": "code",
   "execution_count": 29,
   "metadata": {},
   "outputs": [],
   "source": [
    "from sklearn.metrics import precision_score, make_scorer\n",
    "\n",
    "def classifier(clf, parameters, X_train, y_train, X_test, y_test) :\n",
    "    #### Train\n",
    "    print('=> Train')\n",
    "    print(' ')\n",
    "    # Start stopwatch\n",
    "    tic = time.time() \n",
    "    precision_scorer = make_scorer(precision_score, zero_division=1)\n",
    "    custom_scoring = {\"precision\": precision_scorer, \"f1\": \"f1\"}\n",
    "    clf = GridSearchCV(clf, parameters, scoring = custom_scoring, refit='f1', n_jobs = -1)\n",
    "    #clf = GridSearchCV(clf, parameters, scoring = 'f1', n_jobs = -1)\n",
    "    clf.fit(X_train, y_train)\n",
    "    print('Best estimator: ', clf.best_estimator_)\n",
    "    print(' ')\n",
    "    #print('Best estimator: ', clf.best_score_)\n",
    "    print('Best mean validation f1 score: ', clf.cv_results_['mean_test_precision'][clf.best_index_])\n",
    "    print('Best std validation f1 score: ', clf.cv_results_['std_test_precision'][clf.best_index_])\n",
    "    print(' ')\n",
    "    print('Best mean validation precision score: ', clf.cv_results_['mean_test_f1'][clf.best_index_])\n",
    "    print('Best std validation precision score: ', clf.cv_results_['std_test_f1'][clf.best_index_])\n",
    "    # End stopwatch train\n",
    "    toc_train = time.time() \n",
    "    print(' ')\n",
    "    print(\"time to train process : \" + str(round(toc_train - tic, 2)) + \" sec\" )\n",
    "    \n",
    "    #### Test\n",
    "    print(' ')\n",
    "    print('=> Test')\n",
    "    clf_best = clf.best_estimator_\n",
    "    pred = clf_best.predict(X_test)\n",
    "    print(' ')\n",
    "    print('1) Report:')\n",
    "    print(' ')\n",
    "    print(classification_report(y_test, pred, zero_division=1))\n",
    "    print(' ')\n",
    "    print('2) Confussion Matrix')\n",
    "    print(' ')\n",
    "    y_pred = clf_best.predict(X_test)\n",
    "    cm = confusion_matrix(y_test, y_pred)\n",
    "    print(cm)\n",
    "    disp = ConfusionMatrixDisplay(confusion_matrix=cm)\n",
    "    disp.plot(cmap=plt.cm.Blues)\n",
    "    plt.show()\n",
    "    print(' ')\n",
    "    # End stopwatch train\n",
    "    toc_test = time.time() \n",
    "    print(\"time to test process : \" + str(round(toc_test - toc_train, 2)) + \" sec\" )\n",
    "    print(' ')\n",
    "    # End stopwatch\n",
    "    toc_test = time.time() \n",
    "    print(\"==== time to total process! : \" + str(round(toc_test - tic, 2)) + \" sec ====\" )"
   ]
  },
  {
   "cell_type": "markdown",
   "metadata": {},
   "source": [
    "### 3.1.1. Hiperparámetros SVC"
   ]
  },
  {
   "cell_type": "code",
   "execution_count": 27,
   "metadata": {},
   "outputs": [],
   "source": [
    "from sklearn.svm import SVC\n",
    "# Hiperparameters\n",
    "parameters_svc = {\n",
    "    'C': [0.0001, 0.001, 0.1, 1, 10, 100, 1000], \n",
    "    'gamma': [0.0001, 0.001, 0.1, 1, 10, 100, 1000], \n",
    "    'kernel': ['rbf', 'linear','sigmoid']\n",
    "}\n",
    "# Base model\n",
    "svc = SVC(random_state=42)"
   ]
  },
  {
   "cell_type": "markdown",
   "metadata": {},
   "source": [
    "### 3.1.2. Hiperparámetros NuSVC"
   ]
  },
  {
   "cell_type": "code",
   "execution_count": 14,
   "metadata": {},
   "outputs": [],
   "source": [
    "from sklearn.svm import NuSVC\n",
    "# Hiperparameters\n",
    "parameters_nusvc = {\n",
    "    'nu' : [0.001, 0.01, 0.1, 0.9],\n",
    "    'gamma': np.logspace(-9, 3, 8), \n",
    "    'kernel': ['rbf', 'linear', 'sigmoid']\n",
    "}\n",
    "# Base model\n",
    "nusvc = NuSVC(random_state=42)"
   ]
  },
  {
   "cell_type": "markdown",
   "metadata": {},
   "source": [
    "## 3.2. Deep Learning"
   ]
  },
  {
   "cell_type": "code",
   "execution_count": 15,
   "metadata": {},
   "outputs": [],
   "source": [
    "import tensorflow as tf\n",
    "from tensorflow import keras \n",
    "import tensorflow_addons as tfa\n",
    "    \n",
    "def deeplearning(X_train, y_train, X_test, y_test, lr, epochs) :\n",
    "    n = X_train.shape[1]\n",
    "    y_train = np.array(y_train).reshape(-1,1)\n",
    "    y_test = np.array(y_test).reshape(-1,1)\n",
    "    # Start stopwatch\n",
    "    tic = time.time() \n",
    "    model = keras.models.Sequential([\n",
    "        keras.layers.Input(shape = (n,), sparse=True),\n",
    "        keras.layers.Dense(300, activation = 'relu'),\n",
    "        keras.layers.Dense(100, activation = 'relu'),\n",
    "        keras.layers.Dense(1, activation = 'sigmoid')\n",
    "    ])\n",
    "    model.summary()\n",
    "    model.compile(optimizer=keras.optimizers.SGD(lr=lr),\n",
    "                  loss='binary_crossentropy',\n",
    "                  #metrics=[tfa.metrics.F1Score(num_classes=1, threshold=0.5)])\n",
    "                  metrics=[tf.keras.metrics.Precision(), tfa.metrics.F1Score(num_classes=1, threshold=0.5)])\n",
    "    history = model.fit(X_train, y_train, validation_split=0.3, epochs=epochs, batch_size = 32, verbose = 0)\n",
    "    # End stopwatch train\n",
    "    toc_train = time.time() \n",
    "    print(' ')\n",
    "    print(\"time to train process : \" + str(round(toc_train - tic, 2)) + \" sec\" )\n",
    "    \n",
    "    # Test\n",
    "    loss, precision, f1 = model.evaluate(X_test, y_test, steps=5, verbose=2)\n",
    "    print(' ')\n",
    "    print('Scores:')\n",
    "    print('- Precision score:', precision)\n",
    "    print('- F1 score:', f1[0])\n",
    "    print(' ')\n",
    "    # Curva de Aprendizaje\n",
    "    print('Curva de Aprendizaje')\n",
    "    pd.DataFrame(history.history).astype(float).plot(figsize=(8, 5))\n",
    "    plt.gca().set_ylim(0, 1)\n",
    "    plt.show()\n",
    "    print(' ')\n",
    "    y_pred = (model.predict(X_test).ravel()>0.5)+0\n",
    "    print('2) Confussion Matrix')\n",
    "    cm = confusion_matrix(y_test, y_pred)\n",
    "    print(cm)\n",
    "    disp = ConfusionMatrixDisplay(confusion_matrix=cm)\n",
    "    disp.plot(cmap=plt.cm.Blues)\n",
    "    plt.show()\n",
    "    # End stopwatch train\n",
    "    toc_test = time.time() \n",
    "    print(\"time to test process : \" + str(round(toc_test - toc_train, 2)) + \" sec\" )\n",
    "    print(' ')\n",
    "    # End stopwatch\n",
    "    toc_test = time.time() \n",
    "    print(\"==== time to total process! : \" + str(round(toc_test - tic, 2)) + \" sec ====\" )\n",
    "    \n",
    "    return history"
   ]
  },
  {
   "cell_type": "markdown",
   "metadata": {
    "id": "1_-13NkRzJdx"
   },
   "source": [
    "# 4. Definir Métodos de Embedding"
   ]
  },
  {
   "cell_type": "markdown",
   "metadata": {},
   "source": [
    "## 4.1. Embeding Tradicional"
   ]
  },
  {
   "cell_type": "markdown",
   "metadata": {},
   "source": [
    "### 4.1.1. TF-IDF"
   ]
  },
  {
   "cell_type": "code",
   "execution_count": 16,
   "metadata": {
    "id": "DzUCBD_Hyo5R"
   },
   "outputs": [],
   "source": [
    "# TfidfVectorizer\n",
    "\n",
    "from sklearn.feature_extraction.text import TfidfVectorizer\n",
    "\n",
    "def tfidf(corpus) :\n",
    "    # Start stopwatch\n",
    "    tic = time.time()\n",
    "    \n",
    "    vectorizer = TfidfVectorizer()\n",
    "    X = vectorizer.fit_transform(corpus).toarray()\n",
    "    \n",
    "    # End stopwatch \n",
    "    toc = time.time() \n",
    "    print(\"time to embedding process  : \" + str(round(toc - tic, 2)) + \" sec\" )\n",
    "\n",
    "    return X"
   ]
  },
  {
   "cell_type": "markdown",
   "metadata": {},
   "source": [
    "### 4.1.2. Hashing Vectorizer"
   ]
  },
  {
   "cell_type": "code",
   "execution_count": 17,
   "metadata": {},
   "outputs": [],
   "source": [
    "# TfidfVectorizer\n",
    "\n",
    "from sklearn.feature_extraction.text import HashingVectorizer\n",
    "\n",
    "def hashingvectorizer(corpus) :\n",
    "    # Start stopwatch\n",
    "    tic = time.time()\n",
    "    \n",
    "    vectorizer = HashingVectorizer(n_features = 4096)\n",
    "    X = vectorizer.fit_transform(corpus).toarray()\n",
    "    \n",
    "    # End stopwatch \n",
    "    toc = time.time() \n",
    "    print(\"time to embedding process  : \" + str(round(toc - tic, 2)) + \" sec\" )\n",
    "\n",
    "    return X"
   ]
  },
  {
   "cell_type": "markdown",
   "metadata": {},
   "source": [
    "## 4.2. Método BERT"
   ]
  },
  {
   "cell_type": "markdown",
   "metadata": {},
   "source": [
    "Existen varios subgrupos pertenecientes a la familia de modelos BERT, entre ellos:\n",
    "\n",
    "- BERT Base : modelos con diferentes pesos dadas a conocer por los autores originales de BERT.\n",
    "- Small BERTS : tienen la misma arquitectura general bloques de transformadores pequeños, lo que le permite explorar soluciones de compromiso entre velocidad, el tamaño y la calidad.\n",
    "- ALBERT (A Lite BERT) : reduce el tamaño del modelo (pero no el tiempo de cálculo) mediante el intercambio de parámetros entre las capas.\n",
    "- BERT Expertos : ocho modelos que todos tienen la arquitectura BERT-base, pero ofrecen una elección entre diferentes dominios pre-formación, para alinear más estrechamente con la tarea de destino.\n",
    "- Electra : tiene la misma arquitectura que el BERT (en tres tamaños diferentes), pero se pre-formó como un discriminador en una puesta a punto que se asemeja a una Red Generativa Antagonica (GAN).\n",
    "- BERT con hablar-Heads Atención y cerrada GELU [ de base , gran ] tiene dos mejoras en el núcleo de la arquitectura del transformador."
   ]
  },
  {
   "cell_type": "markdown",
   "metadata": {},
   "source": [
    "**BERT Base**\n",
    "\n",
    "Existen 8 difrentes modelos BERT base con diferentes cáracteristicas definidas a continuación según su forma de llamado: \n",
    "\n",
    "__/ bert _ (idioma) _ (wwm) _ (case/uncase) _ (#L) _ (#H) _ (#A)__\n",
    "\n",
    "- (idioma), __en__: Ingles, __zh__: Chino, __multi__: Multilenguaje\n",
    "- (__wwm__): Si aparece, en el entrenamiento se aplicó un \"enmascaramiento de entrada aleatoria\" diferente al original propuesto en el paper.\n",
    "- (uncased/cased): __uncased__: Se normaliza la entrada aplicando _lowercase_, __cased__: Se conserva las mayuscuals/minusculas del texto.\n",
    "- (#L): Es el número de capas ocultas (es decir, bloques de transformadores).\n",
    "- (#H): Es el tamaño oculto.\n",
    "- (#A): Es el número de cabezas de atención.\n",
    "\n",
    "Los modelos BERT Base son:\n",
    "\n",
    "- /bert_en_uncased_L-12_H-768_A-12\n",
    "- /bert_en_uncased_L-24_H-1024_A-16\n",
    "- /bert_en_wwm_uncased_L-24_H-1024_A-16\n",
    "- /bert_en_cased_L-12_H-768_A-12\n",
    "- /bert_en_cased_L-24_H-1024_A-16\n",
    "- /bert_en_wwm_cased_L-24_H-1024_A-16\n",
    "- /bert_zh_L-12_H-768_A-12\n",
    "- /bert_multi_cased_L-12_H-768_A-12"
   ]
  },
  {
   "cell_type": "code",
   "execution_count": 18,
   "metadata": {},
   "outputs": [],
   "source": [
    "def bert(X, pprcss = 'bert_en_uncased_preprocess/3', enc = 'small_bert/bert_en_uncased_L-8_H-768_A-12/2') :\n",
    "    # Start stopwatch\n",
    "    tic = time.time()\n",
    "    \n",
    "    # preprocessor: \"objeto\" que se encargará de transformar el texto en el formato que necesita el modelo BERT para funcionar\n",
    "    # encoder: \"objeto\" que será el modelo BERT y se alimentará del resultado de preprocessor, retornando el texto transformado en un vector numérico.\n",
    "    preprocessor = hub.load(\"https://tfhub.dev/tensorflow/\" + pprcss)\n",
    "    encoder = hub.load(\"https://tfhub.dev/tensorflow/\" + enc)\n",
    "\n",
    "    # 5to paso: Vamos a usar el objeto preprocessor, y guardamos su resultado en la variable embedding\n",
    "    ##   A modo de ejemplo para su revisión, solo vamos a transformar dos textos:\n",
    "    embedding = preprocessor(X) # texto\n",
    "    \n",
    "    # 6to paso: Vamos a codificar el texto con el modelo BERT:\n",
    "    ##   - Fijarse que el objeto encoder recibe como argumento la variable embedding (resultado de preprocessor)\n",
    "    ##   - Copiar el siguiente código de forma literal\n",
    "    pooled_output = encoder(embedding)[\"pooled_output\"]\n",
    "    \n",
    "    # 7mo paso: El contenido de la variable pooled_output es una estructura de datos de tipo tensorflow.\n",
    "    #           Para transformarlo a un dataframe y usarlo de forma tradicional con los modelos clásicos, \n",
    "    #           ejecutamos la siguiente linea de código:\n",
    "    res = pd.DataFrame(pooled_output.numpy())\n",
    "    \n",
    "    # End stopwatch \n",
    "    toc = time.time() \n",
    "    print(\"time to embedding process  : \" + str(round(toc - tic, 2)) + \" sec\" )\n",
    "    \n",
    "    return res"
   ]
  },
  {
   "cell_type": "markdown",
   "metadata": {},
   "source": [
    "# 5. Resultados"
   ]
  },
  {
   "cell_type": "code",
   "execution_count": 21,
   "metadata": {},
   "outputs": [],
   "source": [
    "from sklearn.model_selection import train_test_split\n",
    "\n",
    "X = processed\n",
    "y = text[\"resultado\"].values\n",
    "y_transformed = [1 if i == 'ham' else 0 for i in y]"
   ]
  },
  {
   "cell_type": "markdown",
   "metadata": {
    "tags": []
   },
   "source": [
    "## 5.1. TF-IDF"
   ]
  },
  {
   "cell_type": "code",
   "execution_count": 21,
   "metadata": {},
   "outputs": [
    {
     "name": "stdout",
     "output_type": "stream",
     "text": [
      "time to embedding process  : 0.05 sec\n"
     ]
    },
    {
     "data": {
      "text/plain": [
       "(1290, 4071)"
      ]
     },
     "execution_count": 21,
     "metadata": {},
     "output_type": "execute_result"
    }
   ],
   "source": [
    "X_tfidf = tfidf(processed)\n",
    "X_tfidf.shape"
   ]
  },
  {
   "cell_type": "code",
   "execution_count": 24,
   "metadata": {},
   "outputs": [],
   "source": [
    "# Test y Train\n",
    "X_train_tfidf, X_test_tfidf, y_train, y_test = train_test_split(X_tfidf, y_transformed, test_size=0.3, random_state=42)"
   ]
  },
  {
   "cell_type": "markdown",
   "metadata": {
    "tags": []
   },
   "source": [
    "### 5.1.1. SVC"
   ]
  },
  {
   "cell_type": "code",
   "execution_count": 34,
   "metadata": {},
   "outputs": [
    {
     "name": "stdout",
     "output_type": "stream",
     "text": [
      "=> Train\n",
      " \n",
      "Best estimator:  SVC(C=10, gamma=1.0, kernel='sigmoid', random_state=42)\n",
      " \n",
      "Best mean validation f1 score:  0.9600331098781206\n",
      "Best std validation f1 score:  0.009916040821303993\n",
      " \n",
      "Best mean validation precision score:  0.9742952711663599\n",
      "Best std validation precision score:  0.007190036133025199\n",
      " \n",
      "time to train process : 1164.4 sec\n",
      " \n",
      "=> Test\n",
      " \n",
      "1) Report:\n",
      " \n",
      "              precision    recall  f1-score   support\n",
      "\n",
      "           0       0.99      0.93      0.96       179\n",
      "           1       0.95      1.00      0.97       208\n",
      "\n",
      "    accuracy                           0.97       387\n",
      "   macro avg       0.97      0.96      0.97       387\n",
      "weighted avg       0.97      0.97      0.97       387\n",
      "\n",
      " \n",
      "2) Confussion Matrix\n",
      " \n",
      "[[167  12]\n",
      " [  1 207]]\n"
     ]
    },
    {
     "data": {
      "image/png": "[encoded data removed]",
      "text/plain": [
       "<Figure size 432x288 with 2 Axes>"
      ]
     },
     "metadata": {
      "needs_background": "light"
     },
     "output_type": "display_data"
    },
    {
     "name": "stdout",
     "output_type": "stream",
     "text": [
      " \n",
      "3) Cross Val Score (k-fold=5):\n",
      "time to test process : 1.03 sec\n",
      " \n",
      "==== time to total process! : 1165.43 sec ====\n"
     ]
    }
   ],
   "source": [
    "classifier(svc, parameters_svc, X_train_tfidf, y_train, X_test_tfidf, y_test)"
   ]
  },
  {
   "cell_type": "markdown",
   "metadata": {
    "tags": []
   },
   "source": [
    "### 5.1.2. NuSVM"
   ]
  },
  {
   "cell_type": "code",
   "execution_count": 35,
   "metadata": {
    "tags": []
   },
   "outputs": [
    {
     "name": "stdout",
     "output_type": "stream",
     "text": [
      "=> Train\n",
      " \n",
      "Best estimator:  NuSVC(gamma=0.1, nu=0.001, random_state=42)\n",
      " \n",
      "Best mean validation f1 score:  0.9661005048733224\n",
      "Best std validation f1 score:  0.009744460380679441\n",
      " \n",
      "Best mean validation precision score:  0.9763300507801785\n",
      "Best std validation precision score:  0.0065216508487966375\n",
      " \n",
      "time to train process : 1317.59 sec\n",
      " \n",
      "=> Test\n",
      " \n",
      "1) Report:\n",
      " \n",
      "              precision    recall  f1-score   support\n",
      "\n",
      "           0       0.99      0.94      0.97       179\n",
      "           1       0.95      1.00      0.97       208\n",
      "\n",
      "    accuracy                           0.97       387\n",
      "   macro avg       0.97      0.97      0.97       387\n",
      "weighted avg       0.97      0.97      0.97       387\n",
      "\n",
      " \n",
      "2) Confussion Matrix\n",
      " \n",
      "[[168  11]\n",
      " [  1 207]]\n"
     ]
    },
    {
     "data": {
      "image/png": "[encoded data removed]",
      "text/plain": [
       "<Figure size 432x288 with 2 Axes>"
      ]
     },
     "metadata": {
      "needs_background": "light"
     },
     "output_type": "display_data"
    },
    {
     "name": "stdout",
     "output_type": "stream",
     "text": [
      " \n",
      "3) Cross Val Score (k-fold=5):\n",
      "time to test process : 0.44 sec\n",
      " \n",
      "==== time to total process! : 1318.03 sec ====\n"
     ]
    }
   ],
   "source": [
    "classifier(nusvc, parameters_nusvc, X_train_tfidf, y_train, X_test_tfidf, y_test)"
   ]
  },
  {
   "cell_type": "markdown",
   "metadata": {},
   "source": [
    "### 5.1.3. Deep Learning"
   ]
  },
  {
   "cell_type": "code",
   "execution_count": null,
   "metadata": {},
   "outputs": [
    {
     "name": "stdout",
     "output_type": "stream",
     "text": [
      "Model: \"sequential_30\"\n",
      "_________________________________________________________________\n",
      " Layer (type)                Output Shape              Param #   \n",
      "=================================================================\n",
      " dense_90 (Dense)            (None, 300)               1221600   \n",
      "                                                                 \n",
      " dense_91 (Dense)            (None, 100)               30100     \n",
      "                                                                 \n",
      " dense_92 (Dense)            (None, 1)                 101       \n",
      "                                                                 \n",
      "=================================================================\n",
      "Total params: 1,251,801\n",
      "Trainable params: 1,251,801\n",
      "Non-trainable params: 0\n",
      "_________________________________________________________________\n",
      " \n",
      "time to train process : 6.89 sec\n",
      "5/5 - 0s - loss: 0.2336 - precision_29: 0.9224 - f1_score: 0.9461 - 39ms/epoch - 8ms/step\n",
      " \n",
      "Scores:\n",
      "- Precision score: 0.922374427318573\n",
      "- F1 score: 0.9461359\n",
      " \n",
      "Curva de Aprendizaje\n"
     ]
    },
    {
     "data": {
      "image/png": "[encoded data removed]",
      "text/plain": [
       "<Figure size 576x360 with 1 Axes>"
      ]
     },
     "metadata": {
      "needs_background": "light"
     },
     "output_type": "display_data"
    },
    {
     "name": "stdout",
     "output_type": "stream",
     "text": [
      " \n",
      "13/13 [==============================] - 0s 2ms/step\n",
      "2) Confussion Matrix\n",
      "[[162  17]\n",
      " [  6 202]]\n"
     ]
    },
    {
     "data": {
      "image/png": "[encoded data removed]",
      "text/plain": [
       "<Figure size 432x288 with 2 Axes>"
      ]
     },
     "metadata": {
      "needs_background": "light"
     },
     "output_type": "display_data"
    },
    {
     "name": "stdout",
     "output_type": "stream",
     "text": [
      "time to test process : 0.49 sec\n",
      " \n",
      "==== time to total process! : 7.39 sec ====\n"
     ]
    }
   ],
   "source": [
    "history = deeplearning(X_train_tfidf, y_train, X_test_tfidf, y_test, 0.025, 50)"
   ]
  },
  {
   "cell_type": "markdown",
   "metadata": {},
   "source": [
    "## 5.2. Hashing Vectorizer"
   ]
  },
  {
   "cell_type": "code",
   "execution_count": 19,
   "metadata": {},
   "outputs": [
    {
     "name": "stdout",
     "output_type": "stream",
     "text": [
      "time to embedding process  : 0.07 sec\n"
     ]
    },
    {
     "data": {
      "text/plain": [
       "(1290, 4096)"
      ]
     },
     "execution_count": 19,
     "metadata": {},
     "output_type": "execute_result"
    }
   ],
   "source": [
    "X_hv = hashingvectorizer(processed)\n",
    "X_hv.shape"
   ]
  },
  {
   "cell_type": "code",
   "execution_count": 22,
   "metadata": {},
   "outputs": [],
   "source": [
    "# Test y Train\n",
    "X_train_hv, X_test_hv, y_train, y_test = train_test_split(X_hv, y_transformed, test_size=0.3, random_state=42)"
   ]
  },
  {
   "cell_type": "markdown",
   "metadata": {},
   "source": [
    "### 5.2.1.SVC"
   ]
  },
  {
   "cell_type": "code",
   "execution_count": 30,
   "metadata": {},
   "outputs": [
    {
     "name": "stdout",
     "output_type": "stream",
     "text": [
      "=> Train\n",
      " \n",
      "Best estimator:  SVC(C=100, gamma=0.1, random_state=42)\n",
      " \n",
      "Best mean validation f1 score:  0.9620118838956782\n",
      "Best std validation f1 score:  0.018118370622716828\n",
      " \n",
      "Best mean validation precision score:  0.9732152892462851\n",
      "Best std validation precision score:  0.012576994732834313\n",
      " \n",
      "time to train process : 264.75 sec\n",
      " \n",
      "=> Test\n",
      " \n",
      "1) Report:\n",
      " \n",
      "              precision    recall  f1-score   support\n",
      "\n",
      "           0       0.98      0.93      0.96       179\n",
      "           1       0.94      0.99      0.96       208\n",
      "\n",
      "    accuracy                           0.96       387\n",
      "   macro avg       0.96      0.96      0.96       387\n",
      "weighted avg       0.96      0.96      0.96       387\n",
      "\n",
      " \n",
      "2) Confussion Matrix\n",
      " \n",
      "[[167  12]\n",
      " [  3 205]]\n"
     ]
    },
    {
     "data": {
      "image/png": "[encoded data removed]",
      "text/plain": [
       "<Figure size 432x288 with 2 Axes>"
      ]
     },
     "metadata": {
      "needs_background": "light"
     },
     "output_type": "display_data"
    },
    {
     "name": "stdout",
     "output_type": "stream",
     "text": [
      " \n",
      "time to test process : 1.24 sec\n",
      " \n",
      "==== time to total process! : 265.99 sec ====\n"
     ]
    }
   ],
   "source": [
    "classifier(svc, parameters_svc, X_train_hv, y_train, X_test_hv, y_test)"
   ]
  },
  {
   "cell_type": "markdown",
   "metadata": {},
   "source": [
    "### 5.2.2. NuSVC"
   ]
  },
  {
   "cell_type": "code",
   "execution_count": 31,
   "metadata": {},
   "outputs": [
    {
     "name": "stdout",
     "output_type": "stream",
     "text": [
      "=> Train\n",
      " \n",
      "Best estimator:  NuSVC(gamma=0.3727593720314938, nu=0.01, random_state=42)\n",
      " \n",
      "Best mean validation f1 score:  0.9598880179171332\n",
      "Best std validation f1 score:  0.013863797941173305\n",
      " \n",
      "Best mean validation precision score:  0.9732275314818007\n",
      "Best std validation precision score:  0.012169234532790712\n",
      " \n",
      "time to train process : 101.78 sec\n",
      " \n",
      "=> Test\n",
      " \n",
      "1) Report:\n",
      " \n",
      "              precision    recall  f1-score   support\n",
      "\n",
      "           0       0.98      0.93      0.95       179\n",
      "           1       0.94      0.99      0.96       208\n",
      "\n",
      "    accuracy                           0.96       387\n",
      "   macro avg       0.96      0.96      0.96       387\n",
      "weighted avg       0.96      0.96      0.96       387\n",
      "\n",
      " \n",
      "2) Confussion Matrix\n",
      " \n",
      "[[166  13]\n",
      " [  3 205]]\n"
     ]
    },
    {
     "data": {
      "image/png": "[encoded data removed]",
      "text/plain": [
       "<Figure size 432x288 with 2 Axes>"
      ]
     },
     "metadata": {
      "needs_background": "light"
     },
     "output_type": "display_data"
    },
    {
     "name": "stdout",
     "output_type": "stream",
     "text": [
      " \n",
      "time to test process : 1.26 sec\n",
      " \n",
      "==== time to total process! : 103.04 sec ====\n"
     ]
    }
   ],
   "source": [
    "classifier(nusvc, parameters_nusvc, X_train_hv, y_train, X_test_hv, y_test)"
   ]
  },
  {
   "cell_type": "markdown",
   "metadata": {},
   "source": [
    "### 5.2.3. Deep Learning"
   ]
  },
  {
   "cell_type": "code",
   "execution_count": 32,
   "metadata": {},
   "outputs": [
    {
     "name": "stderr",
     "output_type": "stream",
     "text": [
      "2022-09-12 16:35:05.698009: W tensorflow/stream_executor/platform/default/dso_loader.cc:64] Could not load dynamic library 'libcuda.so.1'; dlerror: libcuda.so.1: cannot open shared object file: No such file or directory\n",
      "2022-09-12 16:35:05.699036: W tensorflow/stream_executor/cuda/cuda_driver.cc:263] failed call to cuInit: UNKNOWN ERROR (303)\n",
      "2022-09-12 16:35:05.699145: I tensorflow/stream_executor/cuda/cuda_diagnostics.cc:156] kernel driver does not appear to be running on this host (jupyter): /proc/driver/nvidia/version does not exist\n",
      "2022-09-12 16:35:05.701345: I tensorflow/core/platform/cpu_feature_guard.cc:193] This TensorFlow binary is optimized with oneAPI Deep Neural Network Library (oneDNN) to use the following CPU instructions in performance-critical operations:  AVX2 FMA\n",
      "To enable them in other operations, rebuild TensorFlow with the appropriate compiler flags.\n"
     ]
    },
    {
     "name": "stdout",
     "output_type": "stream",
     "text": [
      "Model: \"sequential\"\n",
      "_________________________________________________________________\n",
      " Layer (type)                Output Shape              Param #   \n",
      "=================================================================\n",
      " dense (Dense)               (None, 300)               1229100   \n",
      "                                                                 \n",
      " dense_1 (Dense)             (None, 100)               30100     \n",
      "                                                                 \n",
      " dense_2 (Dense)             (None, 1)                 101       \n",
      "                                                                 \n",
      "=================================================================\n",
      "Total params: 1,259,301\n",
      "Trainable params: 1,259,301\n",
      "Non-trainable params: 0\n",
      "_________________________________________________________________\n",
      " \n",
      "time to train process : 7.42 sec\n",
      "5/5 - 0s - loss: 0.6608 - precision: 0.8810 - f1_score: 0.8852 - 37ms/epoch - 7ms/step\n",
      " \n",
      "Scores:\n",
      "- Precision score: 0.8809523582458496\n",
      "- F1 score: 0.8851674\n",
      " \n",
      "Curva de Aprendizaje\n"
     ]
    },
    {
     "data": {
      "image/png": "[encoded data removed]",
      "text/plain": [
       "<Figure size 576x360 with 1 Axes>"
      ]
     },
     "metadata": {
      "needs_background": "light"
     },
     "output_type": "display_data"
    },
    {
     "name": "stdout",
     "output_type": "stream",
     "text": [
      " \n",
      "13/13 [==============================] - 0s 2ms/step\n",
      "2) Confussion Matrix\n",
      "[[154  25]\n",
      " [ 23 185]]\n"
     ]
    },
    {
     "data": {
      "image/png": "[encoded data removed]",
      "text/plain": [
       "<Figure size 432x288 with 2 Axes>"
      ]
     },
     "metadata": {
      "needs_background": "light"
     },
     "output_type": "display_data"
    },
    {
     "name": "stdout",
     "output_type": "stream",
     "text": [
      "time to test process : 0.52 sec\n",
      " \n",
      "==== time to total process! : 7.94 sec ====\n"
     ]
    }
   ],
   "source": [
    "history = deeplearning(X_train_hv, y_train, X_test_hv, y_test, 0.0025, 50)"
   ]
  },
  {
   "cell_type": "markdown",
   "metadata": {},
   "source": [
    "## 5.3. Small BERT: en uncased L-8 H-768 A-12"
   ]
  },
  {
   "cell_type": "code",
   "execution_count": 33,
   "metadata": {},
   "outputs": [
    {
     "name": "stdout",
     "output_type": "stream",
     "text": [
      "time to embedding process  : 88.59 sec\n"
     ]
    },
    {
     "data": {
      "text/plain": [
       "(1290, 768)"
      ]
     },
     "execution_count": 33,
     "metadata": {},
     "output_type": "execute_result"
    }
   ],
   "source": [
    "X_sbert = bert(text[\"mensaje\"])\n",
    "X_sbert.shape"
   ]
  },
  {
   "cell_type": "code",
   "execution_count": 34,
   "metadata": {},
   "outputs": [],
   "source": [
    "# Test y Train\n",
    "X_train_sbert, X_test_sbert, y_train, y_test = train_test_split(X_sbert, y_transformed, test_size=0.3, random_state=42)"
   ]
  },
  {
   "cell_type": "markdown",
   "metadata": {},
   "source": [
    "### 5.3.1. SVC"
   ]
  },
  {
   "cell_type": "code",
   "execution_count": 35,
   "metadata": {},
   "outputs": [
    {
     "name": "stdout",
     "output_type": "stream",
     "text": [
      "=> Train\n",
      " \n",
      "Best estimator:  SVC(C=100, gamma=0.001, random_state=42)\n",
      " \n",
      "Best mean validation f1 score:  0.9743048882788073\n",
      "Best std validation f1 score:  0.017230170611389158\n",
      " \n",
      "Best mean validation precision score:  0.9762028682176751\n",
      "Best std validation precision score:  0.009929775813568607\n",
      " \n",
      "time to train process : 32.42 sec\n",
      " \n",
      "=> Test\n",
      " \n",
      "1) Report:\n",
      " \n",
      "              precision    recall  f1-score   support\n",
      "\n",
      "           0       0.97      0.97      0.97       179\n",
      "           1       0.98      0.98      0.98       208\n",
      "\n",
      "    accuracy                           0.97       387\n",
      "   macro avg       0.97      0.97      0.97       387\n",
      "weighted avg       0.97      0.97      0.97       387\n",
      "\n",
      " \n",
      "2) Confussion Matrix\n",
      " \n",
      "[[174   5]\n",
      " [  5 203]]\n"
     ]
    },
    {
     "data": {
      "image/png": "[encoded data removed]",
      "text/plain": [
       "<Figure size 432x288 with 2 Axes>"
      ]
     },
     "metadata": {
      "needs_background": "light"
     },
     "output_type": "display_data"
    },
    {
     "name": "stdout",
     "output_type": "stream",
     "text": [
      " \n",
      "time to test process : 0.17 sec\n",
      " \n",
      "==== time to total process! : 32.59 sec ====\n"
     ]
    }
   ],
   "source": [
    "classifier(svc, parameters_svc, X_train_sbert, y_train, X_test_sbert, y_test)"
   ]
  },
  {
   "cell_type": "markdown",
   "metadata": {},
   "source": [
    "### 5.3.2. NuSVC"
   ]
  },
  {
   "cell_type": "code",
   "execution_count": 36,
   "metadata": {},
   "outputs": [
    {
     "name": "stdout",
     "output_type": "stream",
     "text": [
      "=> Train\n",
      " \n",
      "Best estimator:  NuSVC(gamma=1e-09, kernel='linear', nu=0.1, random_state=42)\n",
      " \n",
      "Best mean validation f1 score:  0.9783761882499611\n",
      "Best std validation f1 score:  0.0095381986219308\n",
      " \n",
      "Best mean validation precision score:  0.9793646776255474\n",
      "Best std validation precision score:  0.007958384032892984\n",
      " \n",
      "time to train process : 15.73 sec\n",
      " \n",
      "=> Test\n",
      " \n",
      "1) Report:\n",
      " \n",
      "              precision    recall  f1-score   support\n",
      "\n",
      "           0       0.97      0.98      0.98       179\n",
      "           1       0.99      0.98      0.98       208\n",
      "\n",
      "    accuracy                           0.98       387\n",
      "   macro avg       0.98      0.98      0.98       387\n",
      "weighted avg       0.98      0.98      0.98       387\n",
      "\n",
      " \n",
      "2) Confussion Matrix\n",
      " \n",
      "[[176   3]\n",
      " [  5 203]]\n"
     ]
    },
    {
     "data": {
      "image/png": "[encoded data removed]",
      "text/plain": [
       "<Figure size 432x288 with 2 Axes>"
      ]
     },
     "metadata": {
      "needs_background": "light"
     },
     "output_type": "display_data"
    },
    {
     "name": "stdout",
     "output_type": "stream",
     "text": [
      " \n",
      "time to test process : 0.14 sec\n",
      " \n",
      "==== time to total process! : 15.87 sec ====\n"
     ]
    }
   ],
   "source": [
    "classifier(nusvc, parameters_nusvc, X_train_sbert, y_train, X_test_sbert, y_test)"
   ]
  },
  {
   "cell_type": "markdown",
   "metadata": {},
   "source": [
    "### 5.3.3. Deep Learning"
   ]
  },
  {
   "cell_type": "code",
   "execution_count": 37,
   "metadata": {},
   "outputs": [
    {
     "name": "stdout",
     "output_type": "stream",
     "text": [
      "Model: \"sequential_1\"\n",
      "_________________________________________________________________\n",
      " Layer (type)                Output Shape              Param #   \n",
      "=================================================================\n",
      " dense_3 (Dense)             (None, 300)               230700    \n",
      "                                                                 \n",
      " dense_4 (Dense)             (None, 100)               30100     \n",
      "                                                                 \n",
      " dense_5 (Dense)             (None, 1)                 101       \n",
      "                                                                 \n",
      "=================================================================\n",
      "Total params: 260,901\n",
      "Trainable params: 260,901\n",
      "Non-trainable params: 0\n",
      "_________________________________________________________________\n",
      " \n",
      "time to train process : 5.53 sec\n",
      "5/5 - 0s - loss: 0.1731 - precision_1: 0.9381 - f1_score: 0.9426 - 31ms/epoch - 6ms/step\n",
      " \n",
      "Scores:\n",
      "- Precision score: 0.938095211982727\n",
      "- F1 score: 0.9425837\n",
      " \n",
      "Curva de Aprendizaje\n"
     ]
    },
    {
     "data": {
      "image/png": "[encoded data removed]",
      "text/plain": [
       "<Figure size 576x360 with 1 Axes>"
      ]
     },
     "metadata": {
      "needs_background": "light"
     },
     "output_type": "display_data"
    },
    {
     "name": "stdout",
     "output_type": "stream",
     "text": [
      " \n",
      "13/13 [==============================] - 0s 1ms/step\n",
      "2) Confussion Matrix\n",
      "[[166  13]\n",
      " [ 11 197]]\n"
     ]
    },
    {
     "data": {
      "image/png": "[encoded data removed]",
      "text/plain": [
       "<Figure size 432x288 with 2 Axes>"
      ]
     },
     "metadata": {
      "needs_background": "light"
     },
     "output_type": "display_data"
    },
    {
     "name": "stdout",
     "output_type": "stream",
     "text": [
      "time to test process : 0.44 sec\n",
      " \n",
      "==== time to total process! : 5.97 sec ====\n"
     ]
    }
   ],
   "source": [
    "history = deeplearning(X_train_sbert, y_train, X_test_sbert, y_test, 0.0025, 50)"
   ]
  },
  {
   "cell_type": "markdown",
   "metadata": {},
   "source": [
    "## 5.4. BERT Base: en wwm cased L-24 H-1024 A-16"
   ]
  },
  {
   "cell_type": "code",
   "execution_count": 38,
   "metadata": {},
   "outputs": [
    {
     "name": "stdout",
     "output_type": "stream",
     "text": [
      "time to embedding process  : 339.77 sec\n"
     ]
    },
    {
     "data": {
      "text/plain": [
       "(1290, 1024)"
      ]
     },
     "execution_count": 38,
     "metadata": {},
     "output_type": "execute_result"
    }
   ],
   "source": [
    "X_bert = bert(text[\"mensaje\"], 'bert_en_cased_preprocess/3', 'bert_en_wwm_cased_L-24_H-1024_A-16/4')\n",
    "X_bert.shape"
   ]
  },
  {
   "cell_type": "code",
   "execution_count": 39,
   "metadata": {},
   "outputs": [],
   "source": [
    "# Test y Train\n",
    "X_train_bert, X_test_bert, y_train, y_test = train_test_split(X_bert, y_transformed, test_size=0.3, random_state=42)"
   ]
  },
  {
   "cell_type": "markdown",
   "metadata": {},
   "source": [
    "### 5.4.1. SVC"
   ]
  },
  {
   "cell_type": "code",
   "execution_count": 40,
   "metadata": {},
   "outputs": [
    {
     "name": "stdout",
     "output_type": "stream",
     "text": [
      "=> Train\n",
      " \n",
      "Best estimator:  SVC(C=100, gamma=0.001, random_state=42)\n",
      " \n",
      "Best mean validation f1 score:  0.9718959315297704\n",
      "Best std validation f1 score:  0.016791895415111655\n",
      " \n",
      "Best mean validation precision score:  0.9660854238848863\n",
      "Best std validation precision score:  0.009643426420491503\n",
      " \n",
      "time to train process : 57.86 sec\n",
      " \n",
      "=> Test\n",
      " \n",
      "1) Report:\n",
      " \n",
      "              precision    recall  f1-score   support\n",
      "\n",
      "           0       0.95      0.94      0.95       179\n",
      "           1       0.95      0.96      0.96       208\n",
      "\n",
      "    accuracy                           0.95       387\n",
      "   macro avg       0.95      0.95      0.95       387\n",
      "weighted avg       0.95      0.95      0.95       387\n",
      "\n",
      " \n",
      "2) Confussion Matrix\n",
      " \n",
      "[[169  10]\n",
      " [  8 200]]\n"
     ]
    },
    {
     "data": {
      "image/png": "[encoded data removed]",
      "text/plain": [
       "<Figure size 432x288 with 2 Axes>"
      ]
     },
     "metadata": {
      "needs_background": "light"
     },
     "output_type": "display_data"
    },
    {
     "name": "stdout",
     "output_type": "stream",
     "text": [
      " \n",
      "time to test process : 0.22 sec\n",
      " \n",
      "==== time to total process! : 58.07 sec ====\n"
     ]
    }
   ],
   "source": [
    "classifier(svc, parameters_svc, X_train_bert, y_train, X_test_bert, y_test)"
   ]
  },
  {
   "cell_type": "markdown",
   "metadata": {},
   "source": [
    "### 5.4.2. NuSVC"
   ]
  },
  {
   "cell_type": "code",
   "execution_count": 41,
   "metadata": {},
   "outputs": [
    {
     "name": "stdout",
     "output_type": "stream",
     "text": [
      "=> Train\n",
      " \n",
      "Best estimator:  NuSVC(gamma=0.0001389495494373136, nu=0.1, random_state=42)\n",
      " \n",
      "Best mean validation f1 score:  0.9662625177662771\n",
      "Best std validation f1 score:  0.026448993619265497\n",
      " \n",
      "Best mean validation precision score:  0.9641993507008987\n",
      "Best std validation precision score:  0.00878199367310245\n",
      " \n",
      "time to train process : 22.44 sec\n",
      " \n",
      "=> Test\n",
      " \n",
      "1) Report:\n",
      " \n",
      "              precision    recall  f1-score   support\n",
      "\n",
      "           0       0.97      0.94      0.96       179\n",
      "           1       0.95      0.98      0.96       208\n",
      "\n",
      "    accuracy                           0.96       387\n",
      "   macro avg       0.96      0.96      0.96       387\n",
      "weighted avg       0.96      0.96      0.96       387\n",
      "\n",
      " \n",
      "2) Confussion Matrix\n",
      " \n",
      "[[169  10]\n",
      " [  5 203]]\n"
     ]
    },
    {
     "data": {
      "image/png": "[encoded data removed]",
      "text/plain": [
       "<Figure size 432x288 with 2 Axes>"
      ]
     },
     "metadata": {
      "needs_background": "light"
     },
     "output_type": "display_data"
    },
    {
     "name": "stdout",
     "output_type": "stream",
     "text": [
      " \n",
      "time to test process : 0.21 sec\n",
      " \n",
      "==== time to total process! : 22.65 sec ====\n"
     ]
    }
   ],
   "source": [
    "classifier(nusvc, parameters_nusvc, X_train_bert, y_train, X_test_bert, y_test)"
   ]
  },
  {
   "cell_type": "markdown",
   "metadata": {},
   "source": [
    "### 5.4.3. Deep Learning"
   ]
  },
  {
   "cell_type": "code",
   "execution_count": 42,
   "metadata": {},
   "outputs": [
    {
     "name": "stdout",
     "output_type": "stream",
     "text": [
      "time to embedding process  : 67.64 sec\n"
     ]
    },
    {
     "data": {
      "text/plain": [
       "(1290, 768)"
      ]
     },
     "execution_count": 42,
     "metadata": {},
     "output_type": "execute_result"
    }
   ],
   "source": [
    "X_bert = bert(text[\"mensaje\"])\n",
    "X_bert.shape"
   ]
  },
  {
   "cell_type": "code",
   "execution_count": 43,
   "metadata": {},
   "outputs": [],
   "source": [
    "# Test y Train\n",
    "X_train_bert, X_test_bert, y_train, y_test = train_test_split(X_bert, y_transformed, test_size=0.3, random_state=42)"
   ]
  },
  {
   "cell_type": "code",
   "execution_count": 44,
   "metadata": {},
   "outputs": [
    {
     "name": "stdout",
     "output_type": "stream",
     "text": [
      "Model: \"sequential_2\"\n",
      "_________________________________________________________________\n",
      " Layer (type)                Output Shape              Param #   \n",
      "=================================================================\n",
      " dense_6 (Dense)             (None, 300)               230700    \n",
      "                                                                 \n",
      " dense_7 (Dense)             (None, 100)               30100     \n",
      "                                                                 \n",
      " dense_8 (Dense)             (None, 1)                 101       \n",
      "                                                                 \n",
      "=================================================================\n",
      "Total params: 260,901\n",
      "Trainable params: 260,901\n",
      "Non-trainable params: 0\n",
      "_________________________________________________________________\n",
      " \n",
      "time to train process : 5.56 sec\n",
      "5/5 - 0s - loss: 0.1671 - precision_2: 0.9390 - f1_score: 0.9501 - 32ms/epoch - 6ms/step\n",
      " \n",
      "Scores:\n",
      "- Precision score: 0.9389671087265015\n",
      "- F1 score: 0.9501187\n",
      " \n",
      "Curva de Aprendizaje\n"
     ]
    },
    {
     "data": {
      "image/png": "[encoded data removed]",
      "text/plain": [
       "<Figure size 576x360 with 1 Axes>"
      ]
     },
     "metadata": {
      "needs_background": "light"
     },
     "output_type": "display_data"
    },
    {
     "name": "stdout",
     "output_type": "stream",
     "text": [
      " \n",
      "13/13 [==============================] - 0s 1ms/step\n",
      "2) Confussion Matrix\n",
      "[[166  13]\n",
      " [  8 200]]\n"
     ]
    },
    {
     "data": {
      "image/png": "[encoded data removed]",
      "text/plain": [
       "<Figure size 432x288 with 2 Axes>"
      ]
     },
     "metadata": {
      "needs_background": "light"
     },
     "output_type": "display_data"
    },
    {
     "name": "stdout",
     "output_type": "stream",
     "text": [
      "time to test process : 0.45 sec\n",
      " \n",
      "==== time to total process! : 6.0 sec ====\n"
     ]
    }
   ],
   "source": [
    "history = deeplearning(X_train_bert, y_train, X_test_bert, y_test, 0.0025, 50)"
   ]
  }
 ],
 "metadata": {
  "colab": {
   "collapsed_sections": [],
   "name": "SPAM_Classifier.ipynb",
   "provenance": []
  },
  "kernelspec": {
   "display_name": "Python 3 (ipykernel)",
   "language": "python",
   "name": "python3"
  },
  "language_info": {
   "codemirror_mode": {
    "name": "ipython",
    "version": 3
   },
   "file_extension": ".py",
   "mimetype": "text/x-python",
   "name": "python",
   "nbconvert_exporter": "python",
   "pygments_lexer": "ipython3",
   "version": "3.10.4"
  }
 },
 "nbformat": 4,
 "nbformat_minor": 4
}
