{
 "cells": [
  {
   "cell_type": "code",
   "execution_count": 1,
   "metadata": {
    "id": "PzqmJ8tl0Fta"
   },
   "outputs": [],
   "source": [
    "import sys\n",
    "import nltk\n",
    "import pandas as pd\n",
    "import numpy as np\n",
    "from wordcloud import WordCloud\n",
    "import matplotlib.pyplot as plt"
   ]
  },
  {
   "cell_type": "markdown",
   "metadata": {
    "id": "RRs157_mNB1U"
   },
   "source": [
    "# 1. Carga de Datos"
   ]
  },
  {
   "cell_type": "code",
   "execution_count": 2,
   "metadata": {
    "colab": {
     "base_uri": "https://localhost:8080/"
    },
    "id": "VAuNnUjf-onU",
    "outputId": "06ece8f2-1de6-403f-b180-46760e376c79"
   },
   "outputs": [
    {
     "data": {
      "text/plain": [
       "(1290, 2)"
      ]
     },
     "execution_count": 2,
     "metadata": {},
     "output_type": "execute_result"
    }
   ],
   "source": [
    "text = pd.read_csv(\"SMSSpamCollection(Filtrada).csv\", on_bad_lines='skip', sep=';')\n",
    "text.shape"
   ]
  },
  {
   "cell_type": "code",
   "execution_count": 3,
   "metadata": {
    "colab": {
     "base_uri": "https://localhost:8080/",
     "height": 206
    },
    "id": "i3LzEhJIBvqJ",
    "outputId": "3bad234c-5928-47af-d9c6-e1327245feb0"
   },
   "outputs": [
    {
     "data": {
      "text/html": [
       "<div>\n",
       "<style scoped>\n",
       "    .dataframe tbody tr th:only-of-type {\n",
       "        vertical-align: middle;\n",
       "    }\n",
       "\n",
       "    .dataframe tbody tr th {\n",
       "        vertical-align: top;\n",
       "    }\n",
       "\n",
       "    .dataframe thead th {\n",
       "        text-align: right;\n",
       "    }\n",
       "</style>\n",
       "<table border=\"1\" class=\"dataframe\">\n",
       "  <thead>\n",
       "    <tr style=\"text-align: right;\">\n",
       "      <th></th>\n",
       "      <th>resultado</th>\n",
       "      <th>mensaje</th>\n",
       "    </tr>\n",
       "  </thead>\n",
       "  <tbody>\n",
       "    <tr>\n",
       "      <th>0</th>\n",
       "      <td>spam</td>\n",
       "      <td>Free entry in 2 a wkly comp to win FA Cup fina...</td>\n",
       "    </tr>\n",
       "    <tr>\n",
       "      <th>1</th>\n",
       "      <td>spam</td>\n",
       "      <td>FreeMsg Hey there darling it's been 3 week's n...</td>\n",
       "    </tr>\n",
       "    <tr>\n",
       "      <th>2</th>\n",
       "      <td>ham</td>\n",
       "      <td>As per your request 'Melle Melle (Oru Minnamin...</td>\n",
       "    </tr>\n",
       "    <tr>\n",
       "      <th>3</th>\n",
       "      <td>spam</td>\n",
       "      <td>WINNER!! As a valued network customer you have...</td>\n",
       "    </tr>\n",
       "    <tr>\n",
       "      <th>4</th>\n",
       "      <td>spam</td>\n",
       "      <td>Had your mobile 11 months or more? U R entitle...</td>\n",
       "    </tr>\n",
       "  </tbody>\n",
       "</table>\n",
       "</div>"
      ],
      "text/plain": [
       "  resultado                                            mensaje\n",
       "0      spam  Free entry in 2 a wkly comp to win FA Cup fina...\n",
       "1      spam  FreeMsg Hey there darling it's been 3 week's n...\n",
       "2       ham  As per your request 'Melle Melle (Oru Minnamin...\n",
       "3      spam  WINNER!! As a valued network customer you have...\n",
       "4      spam  Had your mobile 11 months or more? U R entitle..."
      ]
     },
     "execution_count": 3,
     "metadata": {},
     "output_type": "execute_result"
    }
   ],
   "source": [
    "text.head()"
   ]
  },
  {
   "cell_type": "code",
   "execution_count": 4,
   "metadata": {
    "colab": {
     "base_uri": "https://localhost:8080/",
     "height": 265
    },
    "id": "f7-Bo6ttjuV4",
    "outputId": "87e5c45f-fb4b-4949-80e5-9264d9d186ff"
   },
   "outputs": [
    {
     "data": {
      "text/plain": [
       "<AxesSubplot:ylabel='resultado'>"
      ]
     },
     "execution_count": 4,
     "metadata": {},
     "output_type": "execute_result"
    },
    {
     "data": {
      "image/png": "[encoded data removed]",
      "text/plain": [
       "<Figure size 432x432 with 1 Axes>"
      ]
     },
     "metadata": {},
     "output_type": "display_data"
    }
   ],
   "source": [
    "ratio_spam_and_ham = text[\"resultado\"].value_counts()\n",
    "ratio_spam_and_ham.plot.pie(autopct = '%1.1f%%', fontsize=10, figsize=(6,6))"
   ]
  },
  {
   "cell_type": "markdown",
   "metadata": {
    "id": "UGdtvK_eNMYW"
   },
   "source": [
    "# 2. Preprocesamiento de Texto"
   ]
  },
  {
   "cell_type": "markdown",
   "metadata": {
    "id": "w7vvpEBhNT1X"
   },
   "source": [
    "## 2.1. Preprocesamiento para Embedding Tradicional"
   ]
  },
  {
   "cell_type": "markdown",
   "metadata": {},
   "source": [
    "#### Expresiones Regulares"
   ]
  },
  {
   "cell_type": "code",
   "execution_count": 5,
   "metadata": {},
   "outputs": [],
   "source": [
    "# Use regular expression\n",
    "\n",
    "# Replace email addresses with 'email'\n",
    "processed = text['mensaje'].str.replace(r'^.+@[^\\.].*\\.[a-z]', 'emailaddress', regex=True)\n",
    "\n",
    "# Replace URLs with 'webaddress'\n",
    "processed = processed.str.replace(r'https?://[A-Za-z0-9./]+', 'webaddress', regex=True)\n",
    "\n",
    "# Replace URLs with 'webaddress'\n",
    "processed = processed.str.replace(r'www.[A-Za-z0-9./]+', 'webaddress', regex=True)\n",
    "\n",
    "# Replace money symbols with 'moneysymb' (£ can by typed with ALT key + 156)\n",
    "processed = processed.str.replace(r'£|\\$', 'moneysymb', regex=True)\n",
    "    \n",
    "# Replace 10 digit phone numbers (formats include paranthesis, spaces, no spaces, dashes) with 'phonenumber'\n",
    "processed = processed.str.replace(r'^\\(?[\\d]{3}\\)?[\\s-]?[\\d]{3}[\\s-]?[\\d]{4}$', 'phonenumbr', regex=True)\n",
    "    \n",
    "# Replace numbers with 'numbr'\n",
    "processed = processed.str.replace(r'\\d+(\\.\\d+)?', 'numbr', regex=True)"
   ]
  },
  {
   "cell_type": "code",
   "execution_count": 6,
   "metadata": {},
   "outputs": [],
   "source": [
    "# Remove punctuation\n",
    "processed = processed.str.replace(r'[^\\w\\d\\s]', ' ', regex=True)\n",
    "\n",
    "# Replace whitespace between terms with a single space\n",
    "processed = processed.str.replace(r'\\s+', ' ', regex=True)\n",
    "\n",
    "# Remove leading and trailing whitespace\n",
    "processed = processed.str.replace(r'^\\s+|\\s+?$', '', regex=True)\n",
    "\n",
    "# Apply lowercase\n",
    "processed = processed.str.lower()"
   ]
  },
  {
   "cell_type": "markdown",
   "metadata": {},
   "source": [
    "#### Stop Words"
   ]
  },
  {
   "cell_type": "code",
   "execution_count": 7,
   "metadata": {
    "colab": {
     "base_uri": "https://localhost:8080/"
    },
    "id": "NGIh-OcKpaqH",
    "outputId": "ad8467ca-f530-4eef-bd17-69ac23476c4d"
   },
   "outputs": [
    {
     "name": "stderr",
     "output_type": "stream",
     "text": [
      "[nltk_data] Downloading package stopwords to\n",
      "[nltk_data]     /home/jupyter/nltk_data...\n",
      "[nltk_data]   Package stopwords is already up-to-date!\n"
     ]
    }
   ],
   "source": [
    "# Remove Stop Words\n",
    "\n",
    "from nltk.corpus import stopwords\n",
    "\n",
    "nltk.download('stopwords')\n",
    "stop_words = set(stopwords.words('english'))\n",
    "processed = processed.apply(lambda x: ' '.join(term for term in x.split() if term not in stop_words))"
   ]
  },
  {
   "cell_type": "markdown",
   "metadata": {},
   "source": [
    "#### Stemming and Lemmatization\n",
    "\n",
    "Stemming identifies the common root form of a word by removing or replacing word suffixes (e.g. “flooding” is stemmed as “flood”), while lemmatization identifies the inflected forms of a word and returns its base form (e.g. “better” is lemmatized as “good”).\n",
    "\n",
    "Huang, X., Li, Z., Wang, C., & Ning, H. (2020). Identifying disaster related social media for rapid response: a visual-textual fused CNN architecture. International Journal of Digital Earth, 13(9), 1017–1039. https://doi.org/10.1080/17538947.2019.1633425"
   ]
  },
  {
   "cell_type": "code",
   "execution_count": 8,
   "metadata": {
    "id": "E5VSf8dFrptt"
   },
   "outputs": [],
   "source": [
    "# Apply ONLY Stemming\n",
    "\n",
    "# snow = nltk.SnowballStemmer(language='english')\n",
    "# processed = processed.apply(lambda x: ' '.join(snow.stem(term) for term in x.split()))"
   ]
  },
  {
   "cell_type": "code",
   "execution_count": 9,
   "metadata": {},
   "outputs": [
    {
     "name": "stderr",
     "output_type": "stream",
     "text": [
      "[nltk_data] Downloading package wordnet to /home/jupyter/nltk_data...\n",
      "[nltk_data]   Package wordnet is already up-to-date!\n",
      "[nltk_data] Downloading package omw-1.4 to /home/jupyter/nltk_data...\n",
      "[nltk_data]   Package omw-1.4 is already up-to-date!\n"
     ]
    }
   ],
   "source": [
    "# Apply ONLY Lemmatization\n",
    "\n",
    "nltk.download('wordnet')\n",
    "nltk.download('omw-1.4')\n",
    "lmt = nltk.stem.WordNetLemmatizer()\n",
    "processed = processed.apply(lambda x: ' '.join(lmt.lemmatize(term) for term in x.split()))"
   ]
  },
  {
   "cell_type": "markdown",
   "metadata": {},
   "source": [
    "### Resultado final de preprocesamiento"
   ]
  },
  {
   "cell_type": "markdown",
   "metadata": {
    "id": "PLIyFjEZkVbn"
   },
   "source": [
    "## Train Test"
   ]
  },
  {
   "cell_type": "code",
   "execution_count": 10,
   "metadata": {
    "id": "c_IPbkaLkGE9"
   },
   "outputs": [],
   "source": [
    "X = processed\n",
    "y = text[\"resultado\"].values\n",
    "y_transformed = [1 if i == 'ham' else 0 for i in y]"
   ]
  },
  {
   "cell_type": "code",
   "execution_count": 11,
   "metadata": {
    "id": "z58r3CS-kYlN"
   },
   "outputs": [],
   "source": [
    "from sklearn.model_selection import train_test_split\n",
    "\n",
    "# Only Regular Processed\n",
    "X_train, X_test, y_train, y_test = train_test_split(X, y_transformed, test_size=0.3, random_state=42)"
   ]
  },
  {
   "cell_type": "markdown",
   "metadata": {
    "id": "1_-13NkRzJdx"
   },
   "source": [
    "## Embedding"
   ]
  },
  {
   "cell_type": "code",
   "execution_count": 12,
   "metadata": {
    "id": "DzUCBD_Hyo5R"
   },
   "outputs": [
    {
     "data": {
      "text/plain": [
       "<903x3293 sparse matrix of type '<class 'numpy.float64'>'\n",
       "\twith 13433 stored elements in Compressed Sparse Row format>"
      ]
     },
     "execution_count": 12,
     "metadata": {},
     "output_type": "execute_result"
    }
   ],
   "source": [
    "# TfidfVectorizer\n",
    "\n",
    "from sklearn.feature_extraction.text import TfidfVectorizer\n",
    "\n",
    "tfidf = TfidfVectorizer()\n",
    "\n",
    "# Only Regular Processed\n",
    "X_tfidf_train = tfidf.fit_transform(X_train)\n",
    "X_tfidf_test = tfidf.transform(X_test)\n",
    "\n",
    "X_tfidf_train"
   ]
  },
  {
   "cell_type": "markdown",
   "metadata": {
    "id": "ao3l62OXh2CP"
   },
   "source": [
    "# Machine Learning Classifier"
   ]
  },
  {
   "cell_type": "markdown",
   "metadata": {
    "id": "Ms9TVqqjnybp"
   },
   "source": [
    "## SVM"
   ]
  },
  {
   "cell_type": "code",
   "execution_count": 13,
   "metadata": {
    "id": "FgDs6jXzj0Sx"
   },
   "outputs": [],
   "source": [
    "from sklearn.model_selection import GridSearchCV\n",
    "from sklearn import svm"
   ]
  },
  {
   "cell_type": "code",
   "execution_count": 14,
   "metadata": {
    "colab": {
     "base_uri": "https://localhost:8080/"
    },
    "id": "p6nDfGWXn1_I",
    "outputId": "88437ea9-a879-4360-9468-7e3cfb9f7033"
   },
   "outputs": [
    {
     "name": "stdout",
     "output_type": "stream",
     "text": [
      "SVC(C=10, kernel='linear')\n"
     ]
    }
   ],
   "source": [
    "parameters = [\n",
    "  {'C': [0.1, 1, 10, 100, 1000], 'kernel': ['linear']},\n",
    "  {'C': [0.1, 1, 10, 100, 1000], 'gamma': [1, 0.1, 0.01, 0.001, 0.0001], 'kernel': ['rbf']},\n",
    "  {'C': [0.1, 1, 10, 100, 1000], 'gamma': [1, 0.1, 0.01, 0.001, 0.0001], 'kernel': ['poly']},\n",
    "]\n",
    "\n",
    "svc = svm.SVC()\n",
    "\n",
    "clf = GridSearchCV(svc, parameters, n_jobs = -1)\n",
    "clf.fit(X_tfidf_train, y_train)\n",
    "print(clf.best_estimator_)"
   ]
  },
  {
   "cell_type": "code",
   "execution_count": 15,
   "metadata": {
    "colab": {
     "base_uri": "https://localhost:8080/"
    },
    "id": "XC3_hMu2qmRe",
    "outputId": "fb2aabc7-88c6-47a8-d14e-aa0ceea3303e"
   },
   "outputs": [
    {
     "name": "stdout",
     "output_type": "stream",
     "text": [
      "[0.96470588 0.94382022 0.96551724 0.92857143 0.95121951]\n",
      "mean :  0.9507668578435806\n",
      "sd :  0.013805563422235765\n"
     ]
    }
   ],
   "source": [
    "from sklearn.model_selection import cross_val_score\n",
    "\n",
    "res = cross_val_score(clf.best_estimator_, X_tfidf_test, y_test, scoring = 'f1', n_jobs = -1)\n",
    "print(res)\n",
    "print('mean : ', res.mean())\n",
    "print('sd : ', res.std())"
   ]
  },
  {
   "cell_type": "markdown",
   "metadata": {},
   "source": [
    "# Deep Learning"
   ]
  },
  {
   "cell_type": "code",
   "execution_count": 16,
   "metadata": {},
   "outputs": [
    {
     "name": "stderr",
     "output_type": "stream",
     "text": [
      "2022-08-26 16:40:27.333148: W tensorflow/stream_executor/platform/default/dso_loader.cc:64] Could not load dynamic library 'libcudart.so.11.0'; dlerror: libcudart.so.11.0: cannot open shared object file: No such file or directory\n",
      "2022-08-26 16:40:27.333195: I tensorflow/stream_executor/cuda/cudart_stub.cc:29] Ignore above cudart dlerror if you do not have a GPU set up on your machine.\n"
     ]
    }
   ],
   "source": [
    "# El código anterior me trae la última versión de keras\n",
    "try:\n",
    "  %tensorflow_version 2.x\n",
    "except Exception:\n",
    "  pass\n",
    "  \n",
    "import tensorflow as tf\n",
    "\n",
    "from tensorflow.keras import layers # importar layers desde keras\n",
    "\n",
    "import tensorflow_datasets as tfds # este me trae los tokens"
   ]
  },
  {
   "cell_type": "code",
   "execution_count": 17,
   "metadata": {},
   "outputs": [],
   "source": [
    "# El corpus es la lista del texto que se va a analizar|\n",
    "\n",
    "tokenizer = tfds.deprecated.text.SubwordTextEncoder.build_from_corpus(\n",
    "    processed,target_vocab_size = 2**16\n",
    ")\n",
    "\n",
    "processed_2 = [tokenizer.encode(sentence) for sentence in processed]"
   ]
  },
  {
   "cell_type": "code",
   "execution_count": 19,
   "metadata": {},
   "outputs": [],
   "source": [
    "MAX_LEN = max(len(sentence) for sentence in processed_2)\n",
    "data_inputs = tf.keras.preprocessing.sequence.pad_sequences(\n",
    "    processed_2,\n",
    "    value = 0,\n",
    "    padding = \"post\",\n",
    "    maxlen = MAX_LEN\n",
    ")"
   ]
  },
  {
   "cell_type": "code",
   "execution_count": 20,
   "metadata": {},
   "outputs": [],
   "source": [
    "X = processed_2\n",
    "y = text[\"resultado\"].values\n",
    "y_transformed = [1 if i == 'ham' else 0 for i in y]"
   ]
  },
  {
   "cell_type": "code",
   "execution_count": 21,
   "metadata": {},
   "outputs": [],
   "source": [
    "X = pd.DataFrame(X).fillna(0).astype(int)\n",
    "y_transformed = pd.DataFrame(y_transformed)"
   ]
  },
  {
   "cell_type": "code",
   "execution_count": 22,
   "metadata": {},
   "outputs": [
    {
     "data": {
      "text/html": [
       "<div>\n",
       "<style scoped>\n",
       "    .dataframe tbody tr th:only-of-type {\n",
       "        vertical-align: middle;\n",
       "    }\n",
       "\n",
       "    .dataframe tbody tr th {\n",
       "        vertical-align: top;\n",
       "    }\n",
       "\n",
       "    .dataframe thead th {\n",
       "        text-align: right;\n",
       "    }\n",
       "</style>\n",
       "<table border=\"1\" class=\"dataframe\">\n",
       "  <thead>\n",
       "    <tr style=\"text-align: right;\">\n",
       "      <th></th>\n",
       "      <th>0</th>\n",
       "      <th>1</th>\n",
       "      <th>2</th>\n",
       "      <th>3</th>\n",
       "      <th>4</th>\n",
       "      <th>5</th>\n",
       "      <th>6</th>\n",
       "      <th>7</th>\n",
       "      <th>8</th>\n",
       "      <th>9</th>\n",
       "      <th>...</th>\n",
       "      <th>22</th>\n",
       "      <th>23</th>\n",
       "      <th>24</th>\n",
       "      <th>25</th>\n",
       "      <th>26</th>\n",
       "      <th>27</th>\n",
       "      <th>28</th>\n",
       "      <th>29</th>\n",
       "      <th>30</th>\n",
       "      <th>31</th>\n",
       "    </tr>\n",
       "  </thead>\n",
       "  <tbody>\n",
       "    <tr>\n",
       "      <th>0</th>\n",
       "      <td>6</td>\n",
       "      <td>140</td>\n",
       "      <td>1</td>\n",
       "      <td>264</td>\n",
       "      <td>416</td>\n",
       "      <td>36</td>\n",
       "      <td>1011</td>\n",
       "      <td>1031</td>\n",
       "      <td>277</td>\n",
       "      <td>1507</td>\n",
       "      <td>...</td>\n",
       "      <td>19</td>\n",
       "      <td>242</td>\n",
       "      <td>1712</td>\n",
       "      <td>0</td>\n",
       "      <td>0</td>\n",
       "      <td>0</td>\n",
       "      <td>0</td>\n",
       "      <td>0</td>\n",
       "      <td>0</td>\n",
       "      <td>0</td>\n",
       "    </tr>\n",
       "    <tr>\n",
       "      <th>1</th>\n",
       "      <td>289</td>\n",
       "      <td>100</td>\n",
       "      <td>698</td>\n",
       "      <td>1</td>\n",
       "      <td>22</td>\n",
       "      <td>92</td>\n",
       "      <td>65</td>\n",
       "      <td>29</td>\n",
       "      <td>275</td>\n",
       "      <td>77</td>\n",
       "      <td>...</td>\n",
       "      <td>0</td>\n",
       "      <td>0</td>\n",
       "      <td>0</td>\n",
       "      <td>0</td>\n",
       "      <td>0</td>\n",
       "      <td>0</td>\n",
       "      <td>0</td>\n",
       "      <td>0</td>\n",
       "      <td>0</td>\n",
       "      <td>0</td>\n",
       "    </tr>\n",
       "    <tr>\n",
       "      <th>2</th>\n",
       "      <td>59</td>\n",
       "      <td>442</td>\n",
       "      <td>656</td>\n",
       "      <td>656</td>\n",
       "      <td>1192</td>\n",
       "      <td>1230</td>\n",
       "      <td>1199</td>\n",
       "      <td>1088</td>\n",
       "      <td>440</td>\n",
       "      <td>831</td>\n",
       "      <td>...</td>\n",
       "      <td>0</td>\n",
       "      <td>0</td>\n",
       "      <td>0</td>\n",
       "      <td>0</td>\n",
       "      <td>0</td>\n",
       "      <td>0</td>\n",
       "      <td>0</td>\n",
       "      <td>0</td>\n",
       "      <td>0</td>\n",
       "      <td>0</td>\n",
       "    </tr>\n",
       "    <tr>\n",
       "      <th>3</th>\n",
       "      <td>243</td>\n",
       "      <td>343</td>\n",
       "      <td>118</td>\n",
       "      <td>72</td>\n",
       "      <td>147</td>\n",
       "      <td>1619</td>\n",
       "      <td>4</td>\n",
       "      <td>23</td>\n",
       "      <td>350</td>\n",
       "      <td>17</td>\n",
       "      <td>...</td>\n",
       "      <td>0</td>\n",
       "      <td>0</td>\n",
       "      <td>0</td>\n",
       "      <td>0</td>\n",
       "      <td>0</td>\n",
       "      <td>0</td>\n",
       "      <td>0</td>\n",
       "      <td>0</td>\n",
       "      <td>0</td>\n",
       "      <td>0</td>\n",
       "    </tr>\n",
       "    <tr>\n",
       "      <th>4</th>\n",
       "      <td>11</td>\n",
       "      <td>1</td>\n",
       "      <td>187</td>\n",
       "      <td>2</td>\n",
       "      <td>31</td>\n",
       "      <td>517</td>\n",
       "      <td>181</td>\n",
       "      <td>83</td>\n",
       "      <td>173</td>\n",
       "      <td>11</td>\n",
       "      <td>...</td>\n",
       "      <td>0</td>\n",
       "      <td>0</td>\n",
       "      <td>0</td>\n",
       "      <td>0</td>\n",
       "      <td>0</td>\n",
       "      <td>0</td>\n",
       "      <td>0</td>\n",
       "      <td>0</td>\n",
       "      <td>0</td>\n",
       "      <td>0</td>\n",
       "    </tr>\n",
       "    <tr>\n",
       "      <th>...</th>\n",
       "      <td>...</td>\n",
       "      <td>...</td>\n",
       "      <td>...</td>\n",
       "      <td>...</td>\n",
       "      <td>...</td>\n",
       "      <td>...</td>\n",
       "      <td>...</td>\n",
       "      <td>...</td>\n",
       "      <td>...</td>\n",
       "      <td>...</td>\n",
       "      <td>...</td>\n",
       "      <td>...</td>\n",
       "      <td>...</td>\n",
       "      <td>...</td>\n",
       "      <td>...</td>\n",
       "      <td>...</td>\n",
       "      <td>...</td>\n",
       "      <td>...</td>\n",
       "      <td>...</td>\n",
       "      <td>...</td>\n",
       "      <td>...</td>\n",
       "    </tr>\n",
       "    <tr>\n",
       "      <th>1285</th>\n",
       "      <td>823</td>\n",
       "      <td>11</td>\n",
       "      <td>1</td>\n",
       "      <td>1764</td>\n",
       "      <td>83</td>\n",
       "      <td>357</td>\n",
       "      <td>35</td>\n",
       "      <td>516</td>\n",
       "      <td>6</td>\n",
       "      <td>211</td>\n",
       "      <td>...</td>\n",
       "      <td>0</td>\n",
       "      <td>0</td>\n",
       "      <td>0</td>\n",
       "      <td>0</td>\n",
       "      <td>0</td>\n",
       "      <td>0</td>\n",
       "      <td>0</td>\n",
       "      <td>0</td>\n",
       "      <td>0</td>\n",
       "      <td>0</td>\n",
       "    </tr>\n",
       "    <tr>\n",
       "      <th>1286</th>\n",
       "      <td>1066</td>\n",
       "      <td>3577</td>\n",
       "      <td>249</td>\n",
       "      <td>485</td>\n",
       "      <td>3493</td>\n",
       "      <td>241</td>\n",
       "      <td>2683</td>\n",
       "      <td>13</td>\n",
       "      <td>1</td>\n",
       "      <td>412</td>\n",
       "      <td>...</td>\n",
       "      <td>18</td>\n",
       "      <td>927</td>\n",
       "      <td>199</td>\n",
       "      <td>4627</td>\n",
       "      <td>0</td>\n",
       "      <td>0</td>\n",
       "      <td>0</td>\n",
       "      <td>0</td>\n",
       "      <td>0</td>\n",
       "      <td>0</td>\n",
       "    </tr>\n",
       "    <tr>\n",
       "      <th>1287</th>\n",
       "      <td>1611</td>\n",
       "      <td>557</td>\n",
       "      <td>9</td>\n",
       "      <td>1</td>\n",
       "      <td>155</td>\n",
       "      <td>6</td>\n",
       "      <td>3</td>\n",
       "      <td>256</td>\n",
       "      <td>414</td>\n",
       "      <td>135</td>\n",
       "      <td>...</td>\n",
       "      <td>0</td>\n",
       "      <td>0</td>\n",
       "      <td>0</td>\n",
       "      <td>0</td>\n",
       "      <td>0</td>\n",
       "      <td>0</td>\n",
       "      <td>0</td>\n",
       "      <td>0</td>\n",
       "      <td>0</td>\n",
       "      <td>0</td>\n",
       "    </tr>\n",
       "    <tr>\n",
       "      <th>1288</th>\n",
       "      <td>132</td>\n",
       "      <td>39</td>\n",
       "      <td>217</td>\n",
       "      <td>1</td>\n",
       "      <td>45</td>\n",
       "      <td>2</td>\n",
       "      <td>2</td>\n",
       "      <td>4</td>\n",
       "      <td>155</td>\n",
       "      <td>23</td>\n",
       "      <td>...</td>\n",
       "      <td>0</td>\n",
       "      <td>0</td>\n",
       "      <td>0</td>\n",
       "      <td>0</td>\n",
       "      <td>0</td>\n",
       "      <td>0</td>\n",
       "      <td>0</td>\n",
       "      <td>0</td>\n",
       "      <td>0</td>\n",
       "      <td>0</td>\n",
       "    </tr>\n",
       "    <tr>\n",
       "      <th>1289</th>\n",
       "      <td>158</td>\n",
       "      <td>4289</td>\n",
       "      <td>4484</td>\n",
       "      <td>29</td>\n",
       "      <td>1847</td>\n",
       "      <td>2056</td>\n",
       "      <td>221</td>\n",
       "      <td>1016</td>\n",
       "      <td>133</td>\n",
       "      <td>22</td>\n",
       "      <td>...</td>\n",
       "      <td>0</td>\n",
       "      <td>0</td>\n",
       "      <td>0</td>\n",
       "      <td>0</td>\n",
       "      <td>0</td>\n",
       "      <td>0</td>\n",
       "      <td>0</td>\n",
       "      <td>0</td>\n",
       "      <td>0</td>\n",
       "      <td>0</td>\n",
       "    </tr>\n",
       "  </tbody>\n",
       "</table>\n",
       "<p>1290 rows × 32 columns</p>\n",
       "</div>"
      ],
      "text/plain": [
       "        0     1     2     3     4     5     6     7    8     9   ...  22   23  \\\n",
       "0        6   140     1   264   416    36  1011  1031  277  1507  ...  19  242   \n",
       "1      289   100   698     1    22    92    65    29  275    77  ...   0    0   \n",
       "2       59   442   656   656  1192  1230  1199  1088  440   831  ...   0    0   \n",
       "3      243   343   118    72   147  1619     4    23  350    17  ...   0    0   \n",
       "4       11     1   187     2    31   517   181    83  173    11  ...   0    0   \n",
       "...    ...   ...   ...   ...   ...   ...   ...   ...  ...   ...  ...  ..  ...   \n",
       "1285   823    11     1  1764    83   357    35   516    6   211  ...   0    0   \n",
       "1286  1066  3577   249   485  3493   241  2683    13    1   412  ...  18  927   \n",
       "1287  1611   557     9     1   155     6     3   256  414   135  ...   0    0   \n",
       "1288   132    39   217     1    45     2     2     4  155    23  ...   0    0   \n",
       "1289   158  4289  4484    29  1847  2056   221  1016  133    22  ...   0    0   \n",
       "\n",
       "        24    25  26  27  28  29  30  31  \n",
       "0     1712     0   0   0   0   0   0   0  \n",
       "1        0     0   0   0   0   0   0   0  \n",
       "2        0     0   0   0   0   0   0   0  \n",
       "3        0     0   0   0   0   0   0   0  \n",
       "4        0     0   0   0   0   0   0   0  \n",
       "...    ...   ...  ..  ..  ..  ..  ..  ..  \n",
       "1285     0     0   0   0   0   0   0   0  \n",
       "1286   199  4627   0   0   0   0   0   0  \n",
       "1287     0     0   0   0   0   0   0   0  \n",
       "1288     0     0   0   0   0   0   0   0  \n",
       "1289     0     0   0   0   0   0   0   0  \n",
       "\n",
       "[1290 rows x 32 columns]"
      ]
     },
     "execution_count": 22,
     "metadata": {},
     "output_type": "execute_result"
    }
   ],
   "source": [
    "X"
   ]
  },
  {
   "cell_type": "code",
   "execution_count": 23,
   "metadata": {},
   "outputs": [],
   "source": [
    "from sklearn.model_selection import train_test_split\n",
    "\n",
    "# Only Regular Processed\n",
    "X_train, X_test, y_train, y_test = train_test_split(X, y_transformed, test_size=0.3, random_state=42)"
   ]
  },
  {
   "cell_type": "markdown",
   "metadata": {},
   "source": [
    "## Redes Neuronales Recurrentes"
   ]
  },
  {
   "cell_type": "code",
   "execution_count": 24,
   "metadata": {},
   "outputs": [],
   "source": [
    "class DCNN(tf.keras.Model):\n",
    "  \n",
    "  def __init__(self,\n",
    "             vocab_size,\n",
    "             emb_dim = 128,\n",
    "             nb_filters = 50, \n",
    "             FFN_units = 512,\n",
    "             nb_classes = 2,\n",
    "             dropout_rate = 0.1,\n",
    "             training = False,\n",
    "             name = \"dcnn\"):\n",
    "    \n",
    "    super(DCNN, self).__init__(name=name)\n",
    "\n",
    "    self.embedding = layers.Embedding(vocab_size,\n",
    "        emb_dim)\n",
    "    \n",
    "    self.bigram = layers.Conv1D(filters = nb_filters,\n",
    "    kernel_size = 2,\n",
    "    padding = \"valid\",\n",
    "    activation = \"relu\")\n",
    "    \n",
    "    self.trigram = layers.Conv1D(filters = nb_filters,\n",
    "                                kernel_size = 3,\n",
    "                                padding = \"valid\",\n",
    "                                activation = \"relu\")\n",
    "     \n",
    "    self.fourgram = layers.Conv1D(filters = nb_filters,\n",
    "                                kernel_size = 4,\n",
    "                                padding = \"valid\",\n",
    "                                activation = \"relu\")\n",
    "    \n",
    "    self.pool = layers.GlobalMaxPool1D()\n",
    "\n",
    "\n",
    "    self.dense_1 = layers.Dense(units = FFN_units, activation = \"relu\")\n",
    "    self.dropout = layers.Dropout(rate = dropout_rate)\n",
    "    if nb_classes == 2:\n",
    "        self.last_dense = layers.Dense(units = 1, activation = \"sigmoid\")\n",
    "    else:\n",
    "      self.last_dense = layers.Dense(units = nb_classes,activation = \"softmax\") \n",
    "\n",
    "  def call(self,inputs, training):\n",
    "    x = self.embedding(inputs)\n",
    "    x_1 = self.bigram(x)\n",
    "    x_1 = self.pool(x_1)       \n",
    "    x_2 = self.trigram(x)\n",
    "    x_2 = self.pool(x_2)         \n",
    "    x_3 = self.fourgram(x)\n",
    "    x_3 = self.pool(x_3)\n",
    "\n",
    "    merged = tf.concat([x_1,x_2,x_3], axis = -1)# con el -1 le digo el último eje de la combinacion // batch_size,3*nb_filters\n",
    "    merged = self.dense_1(merged)\n",
    "    merged = self.dropout(merged, training)\n",
    "    output = self.last_dense(merged)\n",
    "\n",
    "    return output             \n",
    " #vocab_size,# tamaño de las palabras a trabajar\n",
    "  #           emb_dim = 128,# a que espacio vectorial vamos a llevar nuestras palabras (cada una de ellas se irá a un espacio de 128 dimensiones)\n",
    "   #          nb_filters = 50, # cuantas palabras filtra\n",
    "    #         FNN_units 512,# numero de neuronas\n",
    "     #        nb_classes = 2,# categorias de clasificacion\n",
    "  #dropout_rate = 0.1, evitar el overfitting, el 10% de las neuronas no aprenderan transmitiran lo aprendido"
   ]
  },
  {
   "cell_type": "markdown",
   "metadata": {},
   "source": [
    "### Configuración de parametros"
   ]
  },
  {
   "cell_type": "code",
   "execution_count": 71,
   "metadata": {},
   "outputs": [],
   "source": [
    "VOCAB_SIZE = tokenizer.vocab_size\n",
    "\n",
    "EMB_DIM = 200\n",
    "NB_FILTERS = 100\n",
    "FFN_UNITS = 256\n",
    "NB_CLASSES = 2 #LEN(SET(TRAIN_LABELS))\n",
    "\n",
    "DROPOUT_RATE = 0.4 # razón de no aprendizaje de las neuronas\n",
    "BATCH_SIZE = 32\n",
    "NB_EPOCHS = 15"
   ]
  },
  {
   "cell_type": "markdown",
   "metadata": {},
   "source": [
    "### Entrenamiento"
   ]
  },
  {
   "cell_type": "code",
   "execution_count": 72,
   "metadata": {},
   "outputs": [],
   "source": [
    "Dcnn = DCNN(vocab_size = VOCAB_SIZE,\n",
    "            emb_dim = EMB_DIM,\n",
    "            nb_filters = NB_FILTERS,\n",
    "            FFN_units = FFN_UNITS,\n",
    "            nb_classes = NB_CLASSES,\n",
    "            dropout_rate = DROPOUT_RATE)"
   ]
  },
  {
   "cell_type": "code",
   "execution_count": 73,
   "metadata": {},
   "outputs": [],
   "source": [
    "if NB_CLASSES == 2:\n",
    "  Dcnn.compile (loss = \"binary_crossentropy\",\n",
    "                optimizer = \"adam\",\n",
    "                metrics = [\"accuracy\"])\n",
    "else:\n",
    "  Dcnn.compile(loss= \"sparse_categorical_crossentropy\",\n",
    "               optimizer = \"adam\",\n",
    "               metrics = [\"sparse_categorical_accuracy\"])  "
   ]
  },
  {
   "cell_type": "code",
   "execution_count": 74,
   "metadata": {},
   "outputs": [
    {
     "name": "stdout",
     "output_type": "stream",
     "text": [
      "Epoch 1/15\n",
      "29/29 [==============================] - 1s 14ms/step - loss: 0.5531 - accuracy: 0.7486\n",
      "Epoch 2/15\n",
      "29/29 [==============================] - 0s 14ms/step - loss: 0.1341 - accuracy: 0.9590\n",
      "Epoch 3/15\n",
      "29/29 [==============================] - 0s 14ms/step - loss: 0.0130 - accuracy: 0.9978\n",
      "Epoch 4/15\n",
      "29/29 [==============================] - 0s 14ms/step - loss: 0.0024 - accuracy: 1.0000\n",
      "Epoch 5/15\n",
      "29/29 [==============================] - 0s 13ms/step - loss: 0.0011 - accuracy: 1.0000\n",
      "Epoch 6/15\n",
      "29/29 [==============================] - 0s 13ms/step - loss: 6.5334e-04 - accuracy: 1.0000\n",
      "Epoch 7/15\n",
      "29/29 [==============================] - 0s 14ms/step - loss: 4.6849e-04 - accuracy: 1.0000\n",
      "Epoch 8/15\n",
      "29/29 [==============================] - 0s 13ms/step - loss: 2.8374e-04 - accuracy: 1.0000\n",
      "Epoch 9/15\n",
      "29/29 [==============================] - 0s 13ms/step - loss: 2.6392e-04 - accuracy: 1.0000\n",
      "Epoch 10/15\n",
      "29/29 [==============================] - 0s 13ms/step - loss: 1.8601e-04 - accuracy: 1.0000\n",
      "Epoch 11/15\n",
      "29/29 [==============================] - 0s 13ms/step - loss: 1.3937e-04 - accuracy: 1.0000\n",
      "Epoch 12/15\n",
      "29/29 [==============================] - 0s 13ms/step - loss: 1.2054e-04 - accuracy: 1.0000\n",
      "Epoch 13/15\n",
      "29/29 [==============================] - 0s 13ms/step - loss: 9.9485e-05 - accuracy: 1.0000\n",
      "Epoch 14/15\n",
      "29/29 [==============================] - 0s 13ms/step - loss: 8.6088e-05 - accuracy: 1.0000\n",
      "Epoch 15/15\n",
      "29/29 [==============================] - 0s 13ms/step - loss: 7.2349e-05 - accuracy: 1.0000\n"
     ]
    },
    {
     "data": {
      "text/plain": [
       "<keras.callbacks.History at 0x7f6064242dd0>"
      ]
     },
     "execution_count": 74,
     "metadata": {},
     "output_type": "execute_result"
    }
   ],
   "source": [
    "Dcnn.fit(X_train,\n",
    "         y_train,\n",
    "         batch_size = BATCH_SIZE,\n",
    "         epochs = NB_EPOCHS)\n",
    "#ckpt_manager.save()"
   ]
  },
  {
   "cell_type": "markdown",
   "metadata": {},
   "source": [
    "### Evaluación"
   ]
  },
  {
   "cell_type": "code",
   "execution_count": 75,
   "metadata": {},
   "outputs": [
    {
     "name": "stdout",
     "output_type": "stream",
     "text": [
      "13/13 [==============================] - 0s 4ms/step - loss: 0.1326 - accuracy: 0.9690\n",
      "[0.1325719803571701, 0.9689922332763672]\n"
     ]
    }
   ],
   "source": [
    "results = Dcnn.evaluate(X_test, y_test,batch_size = BATCH_SIZE)\n",
    "print(results)"
   ]
  }
 ],
 "metadata": {
  "colab": {
   "collapsed_sections": [],
   "name": "SPAM_Classifier.ipynb",
   "provenance": []
  },
  "kernelspec": {
   "display_name": "Python 3 (ipykernel)",
   "language": "python",
   "name": "python3"
  },
  "language_info": {
   "codemirror_mode": {
    "name": "ipython",
    "version": 3
   },
   "file_extension": ".py",
   "mimetype": "text/x-python",
   "name": "python",
   "nbconvert_exporter": "python",
   "pygments_lexer": "ipython3",
   "version": "3.10.4"
  }
 },
 "nbformat": 4,
 "nbformat_minor": 4
}
