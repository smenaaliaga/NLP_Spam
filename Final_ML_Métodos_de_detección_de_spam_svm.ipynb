{
 "cells": [
  {
   "cell_type": "markdown",
   "metadata": {
    "id": "8MKeNpfCmADw"
   },
   "source": [
    "# Instalar Tensorflow"
   ]
  },
  {
   "cell_type": "code",
   "execution_count": null,
   "metadata": {
    "id": "TtLvhsPWetXV"
   },
   "outputs": [],
   "source": [
    "# 2do paso: importe los siguientes módulos:\n",
    "\n",
    "import pandas as pd\n",
    "import numpy as np\n",
    "import tensorflow_hub as hub\n",
    "import tensorflow_text as text\n",
    "from bs4 import BeautifulSoup # para trabajar texto en varios formatos\n",
    "import re # expresiones regulares"
   ]
  },
  {
   "cell_type": "markdown",
   "metadata": {
    "id": "5YVwsIC8GTkE"
   },
   "source": [
    "#importar datos\n"
   ]
  },
  {
   "cell_type": "code",
   "execution_count": null,
   "metadata": {
    "id": "48r28wQRVVOx"
   },
   "outputs": [],
   "source": [
    "df = pd.read_csv(\"SMSSpamCollection(Filtrada).csv\", on_bad_lines='skip', sep=';')"
   ]
  },
  {
   "cell_type": "code",
   "execution_count": null,
   "metadata": {
    "colab": {
     "base_uri": "https://localhost:8080/",
     "height": 424
    },
    "id": "chZKlybhEqY5",
    "outputId": "ba64afa7-6f3a-4f27-eb3f-d01486f1a283"
   },
   "outputs": [],
   "source": [
    "df"
   ]
  },
  {
   "cell_type": "markdown",
   "metadata": {
    "id": "vB56vwVThKpT"
   },
   "source": [
    "#Análisis exploratorio"
   ]
  },
  {
   "cell_type": "code",
   "execution_count": null,
   "metadata": {
    "id": "IcxBm-L8YSaN"
   },
   "outputs": [],
   "source": [
    "#import libraries\n",
    "import pandas as pd\n",
    "import seaborn as sns\n",
    "import numpy as np\n",
    "import matplotlib.pyplot as plt\n",
    "import warnings\n",
    "warnings.filterwarnings('ignore')"
   ]
  },
  {
   "cell_type": "code",
   "execution_count": null,
   "metadata": {
    "id": "KqZh7rh3be7g"
   },
   "outputs": [],
   "source": [
    "#funcion resumen de un dataframe\n",
    "\n",
    "def resumen(data):\n",
    "  total_perdidos = data.isnull().sum().sum()\n",
    "  missing_percent = data.isnull().sum()*100 /len(data)\n",
    "  total_missing = data.isnull().sum()\n",
    "  unique = data.nunique()\n",
    "  not_null = data.notnull().sum()\n",
    "  df = pd.DataFrame({\n",
    "      'Valores Unicos' : unique,\n",
    "      'Valores Existentes': not_null,\n",
    "      'Total perdidos': total_missing,\n",
    "      'Porc. perdidos %': missing_percent\n",
    "  })\n",
    "  tipos = data.dtypes\n",
    "  numericas = tipos[tipos != object].index\n",
    "  no_numericas = tipos[tipos == object].index\n",
    "  print('1. Las dimensiones de la data:', data.shape)\n",
    "  print('2. Total Datos perdidos son:', total_perdidos)\n",
    "  print('3. La cantidad de variables numericas es: ', len(numericas), '\\n   Y ellas son:\\n', numericas)\n",
    "  print('4. La cantidad de variables NO numericas es: ', len(no_numericas), '\\n  Y ellas son:\\n', no_numericas)\n",
    "  df = df.round(2)\n",
    "  return(df)"
   ]
  },
  {
   "cell_type": "code",
   "execution_count": null,
   "metadata": {
    "colab": {
     "base_uri": "https://localhost:8080/",
     "height": 251
    },
    "id": "k1UM0twDbmkM",
    "outputId": "ddd52d7c-0390-44a6-afa5-af9a39767b30"
   },
   "outputs": [],
   "source": [
    "resumen(df)"
   ]
  },
  {
   "cell_type": "code",
   "execution_count": null,
   "metadata": {
    "colab": {
     "base_uri": "https://localhost:8080/"
    },
    "id": "Uu1qJ9sybteb",
    "outputId": "de68f8dd-7a9b-430c-b261-c69e519d4dd7"
   },
   "outputs": [],
   "source": [
    "df.groupby('resultado').size()"
   ]
  },
  {
   "cell_type": "code",
   "execution_count": null,
   "metadata": {
    "colab": {
     "base_uri": "https://localhost:8080/",
     "height": 347
    },
    "id": "QdzawPgJ0gpf",
    "outputId": "efdede51-7218-47cf-8d73-b6d9611a4cda"
   },
   "outputs": [],
   "source": [
    "sns.countplot(df['resultado'])\n",
    "print(df['resultado'].value_counts())\n",
    "plt.title(\"resultado\")\n",
    "plt.show()"
   ]
  },
  {
   "cell_type": "code",
   "execution_count": null,
   "metadata": {
    "colab": {
     "base_uri": "https://localhost:8080/"
    },
    "id": "kNLivMryOc1X",
    "outputId": "5636f3f5-b366-4d1d-a7f4-73130fc7e1d9"
   },
   "outputs": [],
   "source": [
    "for i in df:\n",
    "  print(i, len(df[i].unique()))"
   ]
  },
  {
   "cell_type": "markdown",
   "metadata": {
    "id": "RYGcpvRNOi3B"
   },
   "source": [
    "Debemos etiquetar a los textos convertidos a vectores"
   ]
  },
  {
   "cell_type": "code",
   "execution_count": null,
   "metadata": {
    "colab": {
     "base_uri": "https://localhost:8080/"
    },
    "id": "7AnO-GZ3Osod",
    "outputId": "36045f73-b97c-4b3e-a5a9-a01acb939c2b"
   },
   "outputs": [],
   "source": [
    "df['resultado']"
   ]
  },
  {
   "cell_type": "markdown",
   "metadata": {
    "id": "eyROocQ4F8F3"
   },
   "source": [
    "#SECCION CON DATOS PROCESADOS"
   ]
  },
  {
   "cell_type": "markdown",
   "metadata": {
    "id": "KQD7k7th8r9p"
   },
   "source": [
    "## Preprocesamiento de texto\n"
   ]
  },
  {
   "cell_type": "code",
   "execution_count": null,
   "metadata": {
    "colab": {
     "base_uri": "https://localhost:8080/",
     "height": 424
    },
    "id": "bW18wZFs82yR",
    "outputId": "ac66be3c-f670-4b28-fb02-668030b33964"
   },
   "outputs": [],
   "source": [
    "df"
   ]
  },
  {
   "cell_type": "code",
   "execution_count": null,
   "metadata": {
    "id": "ILNcU9Ic8xXP"
   },
   "outputs": [],
   "source": [
    "df['resultado'] = df['resultado'].apply(lambda x:1 if x == 'ham' else 0) "
   ]
  },
  {
   "cell_type": "code",
   "execution_count": null,
   "metadata": {
    "colab": {
     "base_uri": "https://localhost:8080/",
     "height": 424
    },
    "id": "p0knn77F83kO",
    "outputId": "7157253e-f388-42a1-e101-3592e8aa1e74"
   },
   "outputs": [],
   "source": [
    "df"
   ]
  },
  {
   "cell_type": "markdown",
   "metadata": {
    "id": "iq_fmfj-FLbE"
   },
   "source": [
    "## Limpieza de datos"
   ]
  },
  {
   "cell_type": "code",
   "execution_count": null,
   "metadata": {
    "colab": {
     "base_uri": "https://localhost:8080/"
    },
    "id": "Xl3_YxZr_mVj",
    "outputId": "0210234c-02d9-48ce-cdd6-91925d4b4435"
   },
   "outputs": [],
   "source": [
    "# El código anterior me trae la última versión de keras\n",
    "try:\n",
    "  %tensorflow_version 2.x\n",
    "except Exception:\n",
    "  pass\n",
    "  \n",
    "import tensorflow as tf\n",
    "\n",
    "from tensorflow.keras import layers # importar layers desde keras\n",
    "\n",
    "import tensorflow_datasets as tfds # este me trae los tokens"
   ]
  },
  {
   "cell_type": "code",
   "execution_count": null,
   "metadata": {
    "id": "A44G9k2EFFCz"
   },
   "outputs": [],
   "source": [
    "def clean_tweet(tweet):\n",
    "\n",
    "  tweet= BeautifulSoup(tweet,\"lxml\").get_text() # sirve para trabajar en un formato especial de tratar el texto. hay que usar el get_text para que me lo devuela en un formato legible\n",
    "  \n",
    "  # Dejamos todo en minúscula\n",
    "  tweet = tweet.lower()\n",
    "  # Reemplazamos puntos por espacios\n",
    "  tweet = tweet.replace(\".\",\" \")\n",
    "  # Eliminamos la @ y su mención\n",
    "  tweet = re.sub(r\"@[A-Za-z0-9.]+\",' ',tweet) # después del @ puede leer lo que se encuentra en el []. El + significa. El r significa raw o string\n",
    "  # Eliminamos los links de la URLs\n",
    "  tweet = re.sub(r\"https?://[A-Za-z0-9./]+\",' ', tweet) # aqui el ? me dice que el caracter anterior puede estar o no\n",
    "  # Nos quedamos solo con los caracteres\n",
    "  tweet = re.sub(r\"[^a-zA-Z.!?']\",' ',tweet)# cualquier cosa que no sea lo que viene después de ^ se va a sustituir por espacios en blanco\n",
    "  # Eliminamos los sitios web\n",
    "  tweet = re.sub(r\"www[A-Za-z0-9./]+\",' ', tweet)\n",
    "  # Eliminamos espacios en blanco adicionales\n",
    "  tweet = re.sub(r\" +\",' ',tweet)# si existe más de un espacio en blanco lo reemplazamos por uno solo. El más me dice eso, si hay más de uno reemplazo\n",
    "  return tweet"
   ]
  },
  {
   "cell_type": "code",
   "execution_count": null,
   "metadata": {
    "id": "Qk5XMMJXFaF7"
   },
   "outputs": [],
   "source": [
    "df_clean = [clean_tweet(tweet) for tweet in df.mensaje] # esto me queda en una lista guardado"
   ]
  },
  {
   "cell_type": "markdown",
   "metadata": {
    "id": "79jlTNmxG4Cs"
   },
   "source": [
    "# Embedding small bert mas Sencillo 128 vectores\n",
    "https://tfhub.dev/tensorflow/small_bert/bert_en_uncased_L-2_H-128_A-2/2"
   ]
  },
  {
   "cell_type": "markdown",
   "metadata": {
    "id": "YMk2E64tmStY"
   },
   "source": [
    "## transformar texto (Embedding)"
   ]
  },
  {
   "cell_type": "code",
   "execution_count": null,
   "metadata": {
    "id": "d3pfA9QegQ1O"
   },
   "outputs": [],
   "source": [
    "# 4to paso: Vamos a crear dos variables que cargaran en memoria dos funciones para transformar el texto\n",
    "##\n",
    "##   - preprocessor: \"objeto\" que se encargará de transformar el texto en el formato que necesita el modelo BERT para funcionar\n",
    "##   - encoder: \"objeto\" que será el modelo BERT y se alimentará del resultado de preprocessor, retornando el texto transformado en un vector numérico.\n",
    "\n",
    "preprocessor = hub.load(\"https://tfhub.dev/tensorflow/bert_en_uncased_preprocess/3\")\n",
    "encoder = hub.load(\"https://tfhub.dev/tensorflow/small_bert/bert_en_uncased_L-2_H-128_A-2/2\")"
   ]
  },
  {
   "cell_type": "code",
   "execution_count": null,
   "metadata": {
    "id": "uq5Us0iIJKcW"
   },
   "outputs": [],
   "source": [
    "# 5to paso: Vamos a usar el objeto preprocessor, y guardamos su resultado en la variable embedding\n",
    "##   A modo de ejemplo para su revisión, solo vamos a transformar dos textos:\n",
    "\n",
    "embedding = preprocessor(df_clean) # df_clean es el texto"
   ]
  },
  {
   "cell_type": "code",
   "execution_count": null,
   "metadata": {
    "id": "KDjYrWncJS0M"
   },
   "outputs": [],
   "source": [
    "# 6to paso: Vamos a codificar el texto con el modelo BERT:\n",
    "##   - Fijarse que el objeto encoder recibe como argumento la variable embedding (resultado de preprocessor)\n",
    "##   - Copiar el siguiente código de forma literal\n",
    "\n",
    "pooled_output = encoder(embedding)[\"pooled_output\"]"
   ]
  },
  {
   "cell_type": "code",
   "execution_count": null,
   "metadata": {
    "colab": {
     "base_uri": "https://localhost:8080/"
    },
    "id": "nMFJURJvJsMm",
    "outputId": "337f22e3-aa72-4ff2-cf45-49e821bd2421"
   },
   "outputs": [],
   "source": [
    "# Opcional: revisamos el contenido de la variable pooled_output, el cual tiene dos vectores de 128 dimensiones\n",
    "##\n",
    "##    - Dos vectores, porque le pasamos solo dos textos\n",
    "##    - 128 dimensiones, porque el modelo BERT utilizado convierte cualquier texto (independiente del largo) en un vector numérico de 128 dimensiones.\n",
    "\n",
    "pooled_output"
   ]
  },
  {
   "cell_type": "code",
   "execution_count": null,
   "metadata": {
    "id": "66V1clqHKQ_K"
   },
   "outputs": [],
   "source": [
    "# 7mo paso: El contenido de la variable pooled_output es una estructura de datos de tipo tensorflow.\n",
    "#           Para transformarlo a un dataframe y usarlo de forma tradicional con los modelos clásicos, \n",
    "#           ejecutamos la siguiente linea de código:\n",
    "\n",
    "dataX2 = pd.DataFrame(pooled_output.numpy())"
   ]
  },
  {
   "cell_type": "code",
   "execution_count": null,
   "metadata": {
    "colab": {
     "base_uri": "https://localhost:8080/"
    },
    "id": "IMh7uL3wKQ_K",
    "outputId": "2e3539f8-38dd-4ea8-c412-82f9c5f0cc65"
   },
   "outputs": [],
   "source": [
    "# Opcional:  Ahora la variable dataX es un dataframe y podemos revisar su dimensionalidad y visualizarlo:\n",
    "dataX2.shape"
   ]
  },
  {
   "cell_type": "code",
   "execution_count": null,
   "metadata": {
    "colab": {
     "base_uri": "https://localhost:8080/",
     "height": 424
    },
    "id": "pi-Dg4THKQ_L",
    "outputId": "968f3b2f-a763-4544-eebe-de6ba4fccb1b"
   },
   "outputs": [],
   "source": [
    "dataX2"
   ]
  },
  {
   "cell_type": "markdown",
   "metadata": {
    "id": "Wm0iV1ksyNUF"
   },
   "source": [
    "##seleccion de las variable"
   ]
  },
  {
   "cell_type": "code",
   "execution_count": null,
   "metadata": {
    "id": "O5uhZcbzRidy"
   },
   "outputs": [],
   "source": [
    "X = dataX2 \n",
    "Y = df['resultado'].copy()"
   ]
  },
  {
   "cell_type": "code",
   "execution_count": null,
   "metadata": {
    "colab": {
     "base_uri": "https://localhost:8080/"
    },
    "id": "0UOZmKMjRl6y",
    "outputId": "b228dc5f-8975-4939-dc67-5fc8faaa1320"
   },
   "outputs": [],
   "source": [
    "X.columns"
   ]
  },
  {
   "cell_type": "code",
   "execution_count": null,
   "metadata": {
    "colab": {
     "base_uri": "https://localhost:8080/"
    },
    "id": "hUzLPNrN1RL0",
    "outputId": "9d1f7d0d-1a13-453b-ddfb-92b575e3b65b"
   },
   "outputs": [],
   "source": [
    "X.info()"
   ]
  },
  {
   "cell_type": "code",
   "execution_count": null,
   "metadata": {
    "colab": {
     "base_uri": "https://localhost:8080/"
    },
    "id": "SCYJFg3V1grr",
    "outputId": "37eec829-402e-4980-9d8d-1c38d0c599f4"
   },
   "outputs": [],
   "source": [
    "Y.head()"
   ]
  },
  {
   "cell_type": "markdown",
   "metadata": {
    "id": "aRmzxRFPEYWf"
   },
   "source": [
    "## Balanceo de datos"
   ]
  },
  {
   "cell_type": "markdown",
   "metadata": {
    "id": "VWKGuNFJKN7h"
   },
   "source": [
    "## Aplicando Smote"
   ]
  },
  {
   "cell_type": "code",
   "execution_count": null,
   "metadata": {
    "colab": {
     "base_uri": "https://localhost:8080/"
    },
    "id": "dmRL1ZfVJkXI",
    "outputId": "c64fe167-3c89-4189-cb43-bc1db7de95e8"
   },
   "outputs": [],
   "source": [
    "from imblearn.over_sampling import SMOTE #over sobre nivelar hacia arriba under nivelacion hacia el menor dato\n",
    "#from imblearn.under_sampling import SMOTE \n",
    "\n",
    "smote = SMOTE(random_state = 325, n_jobs=-1)\n",
    "X_smote, Y_smote = smote.fit_resample(X, Y)# hace Balance de los datos a partir de los agreglos\n",
    "\n",
    "from collections import Counter\n",
    "\n",
    "Counter(Y_smote)"
   ]
  },
  {
   "cell_type": "markdown",
   "metadata": {
    "id": "0e_u-Q_Ek__4"
   },
   "source": [
    "## Train y test"
   ]
  },
  {
   "cell_type": "code",
   "execution_count": null,
   "metadata": {
    "id": "TyfeIwbQIC6Z"
   },
   "outputs": [],
   "source": [
    "from sklearn.model_selection import train_test_split\n",
    "X_train_smote, X_test_smote, Y_train_smote, Y_test_smote = train_test_split(X_smote, Y_smote, random_state=325,test_size = 0.3)\n",
    "        \n",
    "X_train, X_test, Y_train, Y_test = train_test_split(X, Y, random_state=325,test_size = 0.3)        "
   ]
  },
  {
   "cell_type": "markdown",
   "metadata": {
    "id": "Ciq8A-OBPMoB"
   },
   "source": [
    "## SVM\n"
   ]
  },
  {
   "cell_type": "markdown",
   "metadata": {
    "id": "YDjqF2GOYMNJ"
   },
   "source": [
    "###SVC "
   ]
  },
  {
   "cell_type": "markdown",
   "metadata": {
    "id": "KK1IKHnHlm6S"
   },
   "source": [
    "#### Caso 1"
   ]
  },
  {
   "cell_type": "code",
   "execution_count": null,
   "metadata": {
    "id": "et__pezSxWUc"
   },
   "outputs": [],
   "source": [
    "parametros = {'C'      : np.arange(1, 5, 1),\n",
    "            'gamma'  : np.arange(1, 5, 1),\n",
    "           'kernel' : ['rbf', 'linear','sigmoid']}\n",
    "\n",
    "from sklearn.svm import SVC\n",
    "from sklearn.model_selection import GridSearchCV\n",
    "\n",
    "clf = SVC(class_weight='balanced', random_state=325)  \n",
    "grid_search = GridSearchCV(clf, parametros, n_jobs=-1, cv=5) "
   ]
  },
  {
   "cell_type": "code",
   "execution_count": null,
   "metadata": {
    "colab": {
     "base_uri": "https://localhost:8080/"
    },
    "id": "bm5RhCN3RkZZ",
    "outputId": "c660faa1-202a-4a68-bfe8-b0c855a7a2ba"
   },
   "outputs": [],
   "source": [
    "grid_search.fit(X_train_smote, Y_train_smote)"
   ]
  },
  {
   "cell_type": "code",
   "execution_count": null,
   "metadata": {
    "colab": {
     "base_uri": "https://localhost:8080/"
    },
    "id": "1yEGg8ADqwI-",
    "outputId": "f00131fa-e2f6-46a6-dd92-e2466126f2b4"
   },
   "outputs": [],
   "source": [
    "print('El mejor modelo:\\n', grid_search.best_params_)"
   ]
  },
  {
   "cell_type": "code",
   "execution_count": null,
   "metadata": {
    "id": "MsGA5qGNq4kN"
   },
   "outputs": [],
   "source": [
    "clf_best = grid_search.best_estimator_\n",
    "pred = clf_best.predict(X_test_smote)"
   ]
  },
  {
   "cell_type": "code",
   "execution_count": null,
   "metadata": {
    "colab": {
     "base_uri": "https://localhost:8080/"
    },
    "id": "8KTNPmsUy_jF",
    "outputId": "4ee45594-31d8-4769-f62e-d095a53b5af2"
   },
   "outputs": [],
   "source": [
    "from sklearn.metrics import classification_report\n",
    "print(classification_report(Y_test_smote, pred))"
   ]
  },
  {
   "cell_type": "code",
   "execution_count": null,
   "metadata": {
    "colab": {
     "base_uri": "https://localhost:8080/",
     "height": 347
    },
    "id": "-4aN-UBJzWkS",
    "outputId": "e2bee091-b79e-43a2-e1a4-c6f9d7cf2419"
   },
   "outputs": [],
   "source": [
    "from sklearn.metrics import ConfusionMatrixDisplay\n",
    "\n",
    "\n",
    "disp = ConfusionMatrixDisplay.from_estimator(\n",
    "       clf_best,\n",
    "       X_test_smote,\n",
    "       Y_test_smote,\n",
    "       display_labels=None,\n",
    "       cmap=plt.cm.Blues,\n",
    "       normalize=None)\n",
    "\n",
    "disp.ax_.set_title('Matriz de Confusión')\n",
    "disp.ax_.set_xlabel('Predicción');\n",
    "disp.ax_.set_ylabel('Realidad'); \n",
    "disp.ax_.xaxis.set_ticklabels(['0', '1']); \n",
    "disp.ax_.yaxis.set_ticklabels(['0', '1']);\n",
    "\n",
    "print('Matriz de Confusión')\n",
    "print(disp.confusion_matrix)\n",
    "\n",
    "plt.show()"
   ]
  },
  {
   "cell_type": "markdown",
   "metadata": {
    "id": "AdkVd93jvUAr"
   },
   "source": [
    "### Nusvm"
   ]
  },
  {
   "cell_type": "markdown",
   "metadata": {
    "id": "P4WrGu2NlxN3"
   },
   "source": [
    "### Caso 1"
   ]
  },
  {
   "cell_type": "code",
   "execution_count": null,
   "metadata": {
    "id": "0gVoxUu052Q3"
   },
   "outputs": [],
   "source": [
    "parametros = {'nu'      : np.arange(0, 1, 0.1),\n",
    "            'gamma'  : ['scale','auto'],\n",
    "           'kernel' : ['rbf', 'linear','sigmoid']}\n",
    "\n",
    "from sklearn.svm import NuSVC\n",
    "from sklearn.model_selection import GridSearchCV\n",
    "\n",
    "clf = NuSVC(class_weight='balanced', random_state=325)  \n",
    "grid_search = GridSearchCV(clf, parametros, n_jobs=-1, cv=5) "
   ]
  },
  {
   "cell_type": "code",
   "execution_count": null,
   "metadata": {
    "colab": {
     "base_uri": "https://localhost:8080/"
    },
    "id": "O5l746iT58id",
    "outputId": "a413cede-ce20-4b41-c758-30e19ab02631"
   },
   "outputs": [],
   "source": [
    "grid_search.fit(X_train_smote, Y_train_smote)"
   ]
  },
  {
   "cell_type": "code",
   "execution_count": null,
   "metadata": {
    "colab": {
     "base_uri": "https://localhost:8080/"
    },
    "id": "prGKx-R158id",
    "outputId": "c2a9d036-0d1f-44ad-b63d-7c5556a58482"
   },
   "outputs": [],
   "source": [
    "print('El mejor modelo:\\n', grid_search.best_params_)"
   ]
  },
  {
   "cell_type": "code",
   "execution_count": null,
   "metadata": {
    "id": "YagauF6t58ie"
   },
   "outputs": [],
   "source": [
    "clf_best = grid_search.best_estimator_\n",
    "pred = clf_best.predict(X_test_smote)"
   ]
  },
  {
   "cell_type": "code",
   "execution_count": null,
   "metadata": {
    "colab": {
     "base_uri": "https://localhost:8080/"
    },
    "id": "Pywpz84V58ie",
    "outputId": "8ba4a7f3-a0e3-4ae0-ce55-fec84f2ca560"
   },
   "outputs": [],
   "source": [
    "from sklearn.metrics import classification_report\n",
    "\n",
    "print(classification_report(Y_test_smote, pred))"
   ]
  },
  {
   "cell_type": "code",
   "execution_count": null,
   "metadata": {
    "colab": {
     "base_uri": "https://localhost:8080/",
     "height": 347
    },
    "id": "0wI2Ertq58ie",
    "outputId": "4e629a85-6279-4cc2-e30d-eebe7e0e299d"
   },
   "outputs": [],
   "source": [
    "from sklearn.metrics import ConfusionMatrixDisplay\n",
    "\n",
    "\n",
    "disp = ConfusionMatrixDisplay.from_estimator(\n",
    "       clf_best,\n",
    "       X_test_smote,\n",
    "       Y_test_smote,\n",
    "       display_labels=None,\n",
    "       cmap=plt.cm.Blues,\n",
    "       normalize=None)\n",
    "\n",
    "disp.ax_.set_title('Matriz de Confusión')\n",
    "disp.ax_.set_xlabel('Predicción');\n",
    "disp.ax_.set_ylabel('Realidad'); \n",
    "disp.ax_.xaxis.set_ticklabels(['0', '1']); \n",
    "disp.ax_.yaxis.set_ticklabels(['0', '1']);\n",
    "\n",
    "print('Matriz de Confusión')\n",
    "print(disp.confusion_matrix)\n",
    "\n",
    "plt.show()"
   ]
  },
  {
   "cell_type": "markdown",
   "metadata": {
    "id": "xcbvtJXL7vkr"
   },
   "source": []
  },
  {
   "cell_type": "markdown",
   "metadata": {
    "id": "PcWgNR1487xm"
   },
   "source": [
    "##SECCION CON DATOS SIN PREPROCESAR"
   ]
  },
  {
   "cell_type": "markdown",
   "metadata": {
    "id": "5czs7yBD7h9t"
   },
   "source": [
    "## transformar texto(Embeding) Sin preprocesamiento de texto"
   ]
  },
  {
   "cell_type": "code",
   "execution_count": null,
   "metadata": {
    "colab": {
     "base_uri": "https://localhost:8080/",
     "height": 424
    },
    "id": "FLalqtie8GRR",
    "outputId": "623ca869-ee77-4172-bed0-f8b8b519f391"
   },
   "outputs": [],
   "source": [
    "df"
   ]
  },
  {
   "cell_type": "code",
   "execution_count": null,
   "metadata": {
    "id": "dIQC1CfU7h9t"
   },
   "outputs": [],
   "source": [
    "# 4to paso: Vamos a crear dos variables que cargaran en memoria dos funciones para transformar el texto\n",
    "##\n",
    "##   - preprocessor: \"objeto\" que se encargará de transformar el texto en el formato que necesita el modelo BERT para funcionar\n",
    "##   - encoder: \"objeto\" que será el modelo BERT y se alimentará del resultado de preprocessor, retornando el texto transformado en un vector numérico.\n",
    "\n",
    "preprocessor = hub.load(\"https://tfhub.dev/tensorflow/bert_en_uncased_preprocess/3\")\n",
    "encoder = hub.load(\"https://tfhub.dev/tensorflow/small_bert/bert_en_uncased_L-2_H-128_A-2/2\")"
   ]
  },
  {
   "cell_type": "code",
   "execution_count": null,
   "metadata": {
    "id": "i97PWesb7h9u"
   },
   "outputs": [],
   "source": [
    "# 5to paso: Vamos a usar el objeto preprocessor, y guardamos su resultado en la variable embedding\n",
    "##   A modo de ejemplo para su revisión, solo vamos a transformar dos textos:\n",
    "\n",
    "embedding = preprocessor(df['mensaje']) # df['mensaje'] es el texto"
   ]
  },
  {
   "cell_type": "code",
   "execution_count": null,
   "metadata": {
    "id": "RNWAGk8H7h9u"
   },
   "outputs": [],
   "source": [
    "# 6to paso: Vamos a codificar el texto con el modelo BERT:\n",
    "##   - Fijarse que el objeto encoder recibe como argumento la variable embedding (resultado de preprocessor)\n",
    "##   - Copiar el siguiente código de forma literal\n",
    "\n",
    "pooled_output = encoder(embedding)[\"pooled_output\"]"
   ]
  },
  {
   "cell_type": "code",
   "execution_count": null,
   "metadata": {
    "colab": {
     "base_uri": "https://localhost:8080/"
    },
    "id": "NeP3SHUB7h9u",
    "outputId": "8102554d-1a49-4788-e27c-6ff98b5a1d1e"
   },
   "outputs": [],
   "source": [
    "# Opcional: revisamos el contenido de la variable pooled_output, el cual tiene dos vectores de 128 dimensiones\n",
    "##\n",
    "##    - Dos vectores, porque le pasamos solo dos textos\n",
    "##    - 128 dimensiones, porque el modelo BERT utilizado convierte cualquier texto (independiente del largo) en un vector numérico de 128 dimensiones.\n",
    "\n",
    "pooled_output"
   ]
  },
  {
   "cell_type": "code",
   "execution_count": null,
   "metadata": {
    "id": "qRqRERen7h9u"
   },
   "outputs": [],
   "source": [
    "# 7mo paso: El contenido de la variable pooled_output es una estructura de datos de tipo tensorflow.\n",
    "#           Para transformarlo a un dataframe y usarlo de forma tradicional con los modelos clásicos, \n",
    "#           ejecutamos la siguiente linea de código:\n",
    "\n",
    "dataX2 = pd.DataFrame(pooled_output.numpy())"
   ]
  },
  {
   "cell_type": "code",
   "execution_count": null,
   "metadata": {
    "colab": {
     "base_uri": "https://localhost:8080/"
    },
    "id": "LZS8ulDi7h9u",
    "outputId": "cd74da12-b5fd-4b25-b7e1-a2ece8d396c1"
   },
   "outputs": [],
   "source": [
    "# Opcional:  Ahora la variable dataX es un dataframe y podemos revisar su dimensionalidad y visualizarlo:\n",
    "dataX2.shape"
   ]
  },
  {
   "cell_type": "code",
   "execution_count": null,
   "metadata": {
    "colab": {
     "base_uri": "https://localhost:8080/",
     "height": 424
    },
    "id": "Ysk9H8Nf7h9u",
    "outputId": "fc0fc3e4-9624-4e5e-8797-7af21122ec8f"
   },
   "outputs": [],
   "source": [
    "dataX2"
   ]
  },
  {
   "cell_type": "markdown",
   "metadata": {
    "id": "CvmDKvOr7h9u"
   },
   "source": [
    "##seleccion de las variable"
   ]
  },
  {
   "cell_type": "code",
   "execution_count": null,
   "metadata": {
    "id": "Cep31CS_7h9u"
   },
   "outputs": [],
   "source": [
    "X = dataX2 \n",
    "Y = df['resultado'].copy()"
   ]
  },
  {
   "cell_type": "code",
   "execution_count": null,
   "metadata": {
    "colab": {
     "base_uri": "https://localhost:8080/"
    },
    "id": "yt_i_a9D7h9u",
    "outputId": "08691c95-ccb7-444a-d8c0-7bd2bc6e3ac4"
   },
   "outputs": [],
   "source": [
    "X.columns"
   ]
  },
  {
   "cell_type": "code",
   "execution_count": null,
   "metadata": {
    "colab": {
     "base_uri": "https://localhost:8080/"
    },
    "id": "N6hmIrgd7h9v",
    "outputId": "f8ecfcf7-004d-4602-9559-c33ad1b3ac89"
   },
   "outputs": [],
   "source": [
    "X.info()"
   ]
  },
  {
   "cell_type": "code",
   "execution_count": null,
   "metadata": {
    "colab": {
     "base_uri": "https://localhost:8080/"
    },
    "id": "eO2w7dXT7h9v",
    "outputId": "4f9378ef-ad44-42b5-abf7-c7b91f734e82"
   },
   "outputs": [],
   "source": [
    "Y.head()"
   ]
  },
  {
   "cell_type": "markdown",
   "metadata": {
    "id": "F8klIRF07h9v"
   },
   "source": [
    "## Balanceo de datos"
   ]
  },
  {
   "cell_type": "markdown",
   "metadata": {
    "id": "ZBybzqn97h9v"
   },
   "source": [
    "### Aplicando Smote"
   ]
  },
  {
   "cell_type": "code",
   "execution_count": null,
   "metadata": {
    "colab": {
     "base_uri": "https://localhost:8080/"
    },
    "id": "FSX3cOte7h9v",
    "outputId": "b827f71e-4eea-406e-abfc-c86f9aa10216"
   },
   "outputs": [],
   "source": [
    "from imblearn.over_sampling import SMOTE #over sobre nivelar hacia arriba under nivelacion hacia el menor dato\n",
    "#from imblearn.under_sampling import SMOTE \n",
    "\n",
    "smote = SMOTE(random_state = 325, n_jobs=-1)\n",
    "X_smote, Y_smote = smote.fit_resample(X, Y)# hace Balance de los datos a partir de los agreglos\n",
    "\n",
    "from collections import Counter\n",
    "\n",
    "Counter(Y_smote)"
   ]
  },
  {
   "cell_type": "markdown",
   "metadata": {
    "id": "sPOg7j8O7h9v"
   },
   "source": [
    "## Train y test"
   ]
  },
  {
   "cell_type": "code",
   "execution_count": null,
   "metadata": {
    "id": "iw1VQ9Mm7h9v"
   },
   "outputs": [],
   "source": [
    "from sklearn.model_selection import train_test_split\n",
    "X_train_smote, X_test_smote, Y_train_smote, Y_test_smote = train_test_split(X_smote, Y_smote, random_state=325,test_size = 0.3)\n",
    "        \n",
    "X_train, X_test, Y_train, Y_test = train_test_split(X, Y, random_state=325,test_size = 0.3)        "
   ]
  },
  {
   "cell_type": "markdown",
   "metadata": {
    "id": "1h7NGZZz7h9v"
   },
   "source": [
    "## SVM\n"
   ]
  },
  {
   "cell_type": "markdown",
   "metadata": {
    "id": "fj5vZ17i7h9v"
   },
   "source": [
    "###SVC "
   ]
  },
  {
   "cell_type": "markdown",
   "metadata": {
    "id": "33rM6IP47h9v"
   },
   "source": [
    "#### Caso 1"
   ]
  },
  {
   "cell_type": "code",
   "execution_count": null,
   "metadata": {
    "id": "vF6EsF8C7h9v"
   },
   "outputs": [],
   "source": [
    "parametros = {'C'      : np.arange(1, 5, 1),\n",
    "            'gamma'  : np.arange(1, 5, 1),\n",
    "           'kernel' : ['rbf', 'linear','sigmoid']}\n",
    "\n",
    "from sklearn.svm import SVC\n",
    "from sklearn.model_selection import GridSearchCV\n",
    "\n",
    "clf = SVC(class_weight='balanced', random_state=325)  \n",
    "grid_search = GridSearchCV(clf, parametros, n_jobs=-1, cv=5) "
   ]
  },
  {
   "cell_type": "code",
   "execution_count": null,
   "metadata": {
    "colab": {
     "base_uri": "https://localhost:8080/"
    },
    "id": "gT0i8rFC7h9w",
    "outputId": "bfd6b886-750f-4c83-cdf3-7058d5f980a9"
   },
   "outputs": [],
   "source": [
    "grid_search.fit(X_train_smote, Y_train_smote)"
   ]
  },
  {
   "cell_type": "code",
   "execution_count": null,
   "metadata": {
    "colab": {
     "base_uri": "https://localhost:8080/"
    },
    "id": "OJMK-ZJS7h9w",
    "outputId": "c04ed3b8-ec45-412b-f17d-dd73795bf635"
   },
   "outputs": [],
   "source": [
    "print('El mejor modelo:\\n', grid_search.best_params_)"
   ]
  },
  {
   "cell_type": "code",
   "execution_count": null,
   "metadata": {
    "id": "adMoHplV7h9w"
   },
   "outputs": [],
   "source": [
    "clf_best = grid_search.best_estimator_\n",
    "pred = clf_best.predict(X_test_smote)"
   ]
  },
  {
   "cell_type": "code",
   "execution_count": null,
   "metadata": {
    "colab": {
     "base_uri": "https://localhost:8080/"
    },
    "id": "TncoOjTy7h9w",
    "outputId": "0e806128-3eac-44f1-8c0d-ead4766f928f"
   },
   "outputs": [],
   "source": [
    "from sklearn.metrics import classification_report\n",
    "print(classification_report(Y_test_smote, pred))"
   ]
  },
  {
   "cell_type": "code",
   "execution_count": null,
   "metadata": {
    "colab": {
     "base_uri": "https://localhost:8080/",
     "height": 347
    },
    "id": "fT6weX557h9w",
    "outputId": "0b314ee9-8a24-4302-f958-94b8abd6764a"
   },
   "outputs": [],
   "source": [
    "from sklearn.metrics import ConfusionMatrixDisplay\n",
    "\n",
    "\n",
    "disp = ConfusionMatrixDisplay.from_estimator(\n",
    "       clf_best,\n",
    "       X_test_smote,\n",
    "       Y_test_smote,\n",
    "       display_labels=None,\n",
    "       cmap=plt.cm.Blues,\n",
    "       normalize=None)\n",
    "\n",
    "disp.ax_.set_title('Matriz de Confusión')\n",
    "disp.ax_.set_xlabel('Predicción');\n",
    "disp.ax_.set_ylabel('Realidad'); \n",
    "disp.ax_.xaxis.set_ticklabels(['0', '1']); \n",
    "disp.ax_.yaxis.set_ticklabels(['0', '1']);\n",
    "\n",
    "print('Matriz de Confusión')\n",
    "print(disp.confusion_matrix)\n",
    "\n",
    "plt.show()"
   ]
  },
  {
   "cell_type": "markdown",
   "metadata": {
    "id": "GtZRs-UI7h9w"
   },
   "source": [
    "### Nusvm"
   ]
  },
  {
   "cell_type": "markdown",
   "metadata": {
    "id": "Rid-2NC17h9w"
   },
   "source": [
    "#### Caso 1"
   ]
  },
  {
   "cell_type": "code",
   "execution_count": null,
   "metadata": {
    "id": "80z6S8sq7h9w"
   },
   "outputs": [],
   "source": [
    "parametros = {'nu'      : np.arange(0, 1, 0.1),\n",
    "            'gamma'  : ['scale','auto'],\n",
    "           'kernel' : ['rbf', 'linear','sigmoid']}\n",
    "\n",
    "from sklearn.svm import NuSVC\n",
    "from sklearn.model_selection import GridSearchCV\n",
    "\n",
    "clf = NuSVC(class_weight='balanced', random_state=325)  \n",
    "grid_search = GridSearchCV(clf, parametros, n_jobs=-1, cv=5) "
   ]
  },
  {
   "cell_type": "code",
   "execution_count": null,
   "metadata": {
    "colab": {
     "base_uri": "https://localhost:8080/"
    },
    "id": "kekqB54y7h9w",
    "outputId": "b7881585-34a7-4230-ed35-db1037200839"
   },
   "outputs": [],
   "source": [
    "grid_search.fit(X_train_smote, Y_train_smote)"
   ]
  },
  {
   "cell_type": "code",
   "execution_count": null,
   "metadata": {
    "colab": {
     "base_uri": "https://localhost:8080/"
    },
    "id": "Q4vakTqF7h9w",
    "outputId": "3697a166-b8ba-4ffa-a264-f47663d18323"
   },
   "outputs": [],
   "source": [
    "print('El mejor modelo:\\n', grid_search.best_params_)"
   ]
  },
  {
   "cell_type": "code",
   "execution_count": null,
   "metadata": {
    "id": "NuciTwZ07h9x"
   },
   "outputs": [],
   "source": [
    "clf_best = grid_search.best_estimator_\n",
    "pred = clf_best.predict(X_test_smote)"
   ]
  },
  {
   "cell_type": "code",
   "execution_count": null,
   "metadata": {
    "colab": {
     "base_uri": "https://localhost:8080/"
    },
    "id": "WO69ZtT87h9x",
    "outputId": "a1846e7c-1354-4352-f088-1cba97164ec5"
   },
   "outputs": [],
   "source": [
    "from sklearn.metrics import classification_report\n",
    "\n",
    "print(classification_report(Y_test_smote, pred))"
   ]
  },
  {
   "cell_type": "code",
   "execution_count": null,
   "metadata": {
    "colab": {
     "base_uri": "https://localhost:8080/",
     "height": 347
    },
    "id": "NS0BevV27h9x",
    "outputId": "7e6b5933-0d91-4346-8f45-54710d1b0acb"
   },
   "outputs": [],
   "source": [
    "from sklearn.metrics import ConfusionMatrixDisplay\n",
    "\n",
    "\n",
    "disp = ConfusionMatrixDisplay.from_estimator(\n",
    "       clf_best,\n",
    "       X_test_smote,\n",
    "       Y_test_smote,\n",
    "       display_labels=None,\n",
    "       cmap=plt.cm.Blues,\n",
    "       normalize=None)\n",
    "\n",
    "disp.ax_.set_title('Matriz de Confusión')\n",
    "disp.ax_.set_xlabel('Predicción');\n",
    "disp.ax_.set_ylabel('Realidad'); \n",
    "disp.ax_.xaxis.set_ticklabels(['0', '1']); \n",
    "disp.ax_.yaxis.set_ticklabels(['0', '1']);\n",
    "\n",
    "print('Matriz de Confusión')\n",
    "print(disp.confusion_matrix)\n",
    "\n",
    "plt.show()"
   ]
  },
  {
   "cell_type": "markdown",
   "metadata": {
    "id": "WcmXoH8vHMc0"
   },
   "source": [
    "# Embedding small bert complejo 768 vectores\n",
    "https://tfhub.dev/tensorflow/small_bert/bert_en_uncased_L-8_H-768_A-12/2"
   ]
  },
  {
   "cell_type": "markdown",
   "metadata": {
    "id": "SiBwLFn4HMc0"
   },
   "source": [
    "## transformar texto (Embedding)"
   ]
  },
  {
   "cell_type": "code",
   "execution_count": null,
   "metadata": {
    "id": "-XcDrsgEHMc0"
   },
   "outputs": [],
   "source": [
    "# 4to paso: Vamos a crear dos variables que cargaran en memoria dos funciones para transformar el texto\n",
    "##\n",
    "##   - preprocessor: \"objeto\" que se encargará de transformar el texto en el formato que necesita el modelo BERT para funcionar\n",
    "##   - encoder: \"objeto\" que será el modelo BERT y se alimentará del resultado de preprocessor, retornando el texto transformado en un vector numérico.\n",
    "\n",
    "preprocessor = hub.load(\"https://tfhub.dev/tensorflow/bert_en_uncased_preprocess/3\")\n",
    "encoder = hub.load(\"https://tfhub.dev/tensorflow/small_bert/bert_en_uncased_L-8_H-768_A-12/2\")"
   ]
  },
  {
   "cell_type": "code",
   "execution_count": null,
   "metadata": {
    "id": "ESvYTkAfHMc1"
   },
   "outputs": [],
   "source": [
    "# 5to paso: Vamos a usar el objeto preprocessor, y guardamos su resultado en la variable embedding\n",
    "##   A modo de ejemplo para su revisión, solo vamos a transformar dos textos:\n",
    "\n",
    "embedding = preprocessor(df_clean) # df_clean es el texto"
   ]
  },
  {
   "cell_type": "code",
   "execution_count": null,
   "metadata": {
    "id": "1yziokTSHMc1"
   },
   "outputs": [],
   "source": [
    "# 6to paso: Vamos a codificar el texto con el modelo BERT:\n",
    "##   - Fijarse que el objeto encoder recibe como argumento la variable embedding (resultado de preprocessor)\n",
    "##   - Copiar el siguiente código de forma literal\n",
    "\n",
    "pooled_output = encoder(embedding)[\"pooled_output\"]"
   ]
  },
  {
   "cell_type": "code",
   "execution_count": null,
   "metadata": {
    "colab": {
     "base_uri": "https://localhost:8080/"
    },
    "id": "Qrd_vAVkHMc1",
    "outputId": "68bf68e8-fc2f-4993-daed-f865c9d509db"
   },
   "outputs": [],
   "source": [
    "# Opcional: revisamos el contenido de la variable pooled_output, el cual tiene dos vectores de 128 dimensiones\n",
    "##\n",
    "##    - Dos vectores, porque le pasamos solo dos textos\n",
    "##    - 128 dimensiones, porque el modelo BERT utilizado convierte cualquier texto (independiente del largo) en un vector numérico de 128 dimensiones.\n",
    "\n",
    "pooled_output"
   ]
  },
  {
   "cell_type": "code",
   "execution_count": null,
   "metadata": {
    "id": "ZVABySTcHMc1"
   },
   "outputs": [],
   "source": [
    "# 7mo paso: El contenido de la variable pooled_output es una estructura de datos de tipo tensorflow.\n",
    "#           Para transformarlo a un dataframe y usarlo de forma tradicional con los modelos clásicos, \n",
    "#           ejecutamos la siguiente linea de código:\n",
    "\n",
    "dataX2 = pd.DataFrame(pooled_output.numpy())"
   ]
  },
  {
   "cell_type": "code",
   "execution_count": null,
   "metadata": {
    "colab": {
     "base_uri": "https://localhost:8080/"
    },
    "id": "qXvEz32vHMc1",
    "outputId": "f56b2e24-3a77-4df6-a31a-7862ea8c8ed0"
   },
   "outputs": [],
   "source": [
    "# Opcional:  Ahora la variable dataX es un dataframe y podemos revisar su dimensionalidad y visualizarlo:\n",
    "dataX2.shape"
   ]
  },
  {
   "cell_type": "code",
   "execution_count": null,
   "metadata": {
    "colab": {
     "base_uri": "https://localhost:8080/",
     "height": 424
    },
    "id": "ay3JHiMiHMc1",
    "outputId": "20ee40e0-3b20-4309-e9d1-760ba081d861"
   },
   "outputs": [],
   "source": [
    "dataX2"
   ]
  },
  {
   "cell_type": "markdown",
   "metadata": {
    "id": "B0hKk8VcHMc1"
   },
   "source": [
    "##seleccion de las variable"
   ]
  },
  {
   "cell_type": "code",
   "execution_count": null,
   "metadata": {
    "id": "uIYH-HFjHMc2"
   },
   "outputs": [],
   "source": [
    "X = dataX2 \n",
    "Y = df['resultado'].copy()"
   ]
  },
  {
   "cell_type": "code",
   "execution_count": null,
   "metadata": {
    "colab": {
     "base_uri": "https://localhost:8080/"
    },
    "id": "wh3kZnRHHMc2",
    "outputId": "a18899b2-dd52-4298-e2cb-9be715549506"
   },
   "outputs": [],
   "source": [
    "X.columns"
   ]
  },
  {
   "cell_type": "code",
   "execution_count": null,
   "metadata": {
    "colab": {
     "base_uri": "https://localhost:8080/"
    },
    "id": "sK_iDk9JHMc2",
    "outputId": "10530ac2-6c6f-4da6-935a-0253a8e30912"
   },
   "outputs": [],
   "source": [
    "X.info()"
   ]
  },
  {
   "cell_type": "code",
   "execution_count": null,
   "metadata": {
    "colab": {
     "base_uri": "https://localhost:8080/"
    },
    "id": "w9gtSf15HMc2",
    "outputId": "ec6039c1-f282-423a-fd43-779371e8476e"
   },
   "outputs": [],
   "source": [
    "Y.head()"
   ]
  },
  {
   "cell_type": "markdown",
   "metadata": {
    "id": "4I4Rrr1jHMc2"
   },
   "source": [
    "## Balanceo de datos"
   ]
  },
  {
   "cell_type": "markdown",
   "metadata": {
    "id": "AtbxoSTdHMc2"
   },
   "source": [
    "## Aplicando Smote"
   ]
  },
  {
   "cell_type": "code",
   "execution_count": null,
   "metadata": {
    "colab": {
     "base_uri": "https://localhost:8080/"
    },
    "id": "vVQ6j6bAHMc2",
    "outputId": "faba36f5-af41-4298-e88c-4c087dadac49"
   },
   "outputs": [],
   "source": [
    "from imblearn.over_sampling import SMOTE #over sobre nivelar hacia arriba under nivelacion hacia el menor dato\n",
    "#from imblearn.under_sampling import SMOTE \n",
    "\n",
    "smote = SMOTE(random_state = 325, n_jobs=-1)\n",
    "X_smote, Y_smote = smote.fit_resample(X, Y)# hace Balance de los datos a partir de los agreglos\n",
    "\n",
    "from collections import Counter\n",
    "\n",
    "Counter(Y_smote)"
   ]
  },
  {
   "cell_type": "markdown",
   "metadata": {
    "id": "v0RQheoFHMc2"
   },
   "source": [
    "## Train y test"
   ]
  },
  {
   "cell_type": "code",
   "execution_count": null,
   "metadata": {
    "id": "DdB_tC6IHMc2"
   },
   "outputs": [],
   "source": [
    "from sklearn.model_selection import train_test_split\n",
    "X_train_smote, X_test_smote, Y_train_smote, Y_test_smote = train_test_split(X_smote, Y_smote, random_state=325,test_size = 0.3)\n",
    "        \n",
    "X_train, X_test, Y_train, Y_test = train_test_split(X, Y, random_state=325,test_size = 0.3)        "
   ]
  },
  {
   "cell_type": "markdown",
   "metadata": {
    "id": "z8bFz4uzHMc2"
   },
   "source": [
    "## SVM\n"
   ]
  },
  {
   "cell_type": "markdown",
   "metadata": {
    "id": "mK_JzfbmHMc3"
   },
   "source": [
    "###SVC "
   ]
  },
  {
   "cell_type": "markdown",
   "metadata": {
    "id": "KJKUW8muHMc3"
   },
   "source": [
    "#### Caso 1"
   ]
  },
  {
   "cell_type": "code",
   "execution_count": null,
   "metadata": {
    "id": "VlANjmXMHMc3"
   },
   "outputs": [],
   "source": [
    "parametros = {'C'      : np.arange(1, 5, 1),\n",
    "            'gamma'  : np.arange(1, 5, 1),\n",
    "           'kernel' : ['rbf', 'linear','sigmoid']}\n",
    "\n",
    "from sklearn.svm import SVC\n",
    "from sklearn.model_selection import GridSearchCV\n",
    "\n",
    "clf = SVC(class_weight='balanced', random_state=325)  \n",
    "grid_search = GridSearchCV(clf, parametros, n_jobs=-1, cv=5) "
   ]
  },
  {
   "cell_type": "code",
   "execution_count": null,
   "metadata": {
    "colab": {
     "base_uri": "https://localhost:8080/"
    },
    "id": "r9-P98v_HMc3",
    "outputId": "0c3044ee-8b40-4739-dea4-af02026fa0c7"
   },
   "outputs": [],
   "source": [
    "grid_search.fit(X_train_smote, Y_train_smote)"
   ]
  },
  {
   "cell_type": "code",
   "execution_count": null,
   "metadata": {
    "colab": {
     "base_uri": "https://localhost:8080/"
    },
    "id": "lyOKqRryHMc3",
    "outputId": "50c8adc2-22e8-4b9f-f07a-b5548302231f"
   },
   "outputs": [],
   "source": [
    "print('El mejor modelo:\\n', grid_search.best_params_)"
   ]
  },
  {
   "cell_type": "code",
   "execution_count": null,
   "metadata": {
    "id": "YojU0HlZHMc3"
   },
   "outputs": [],
   "source": [
    "clf_best = grid_search.best_estimator_\n",
    "pred = clf_best.predict(X_test_smote)"
   ]
  },
  {
   "cell_type": "code",
   "execution_count": null,
   "metadata": {
    "colab": {
     "base_uri": "https://localhost:8080/"
    },
    "id": "zvWHwYpwHMc3",
    "outputId": "c10fe8d9-a97a-40cd-8e65-09efaaa21253"
   },
   "outputs": [],
   "source": [
    "from sklearn.metrics import classification_report\n",
    "print(classification_report(Y_test_smote, pred))"
   ]
  },
  {
   "cell_type": "code",
   "execution_count": null,
   "metadata": {
    "id": "4zSKzlJXHMc3"
   },
   "outputs": [],
   "source": [
    "from sklearn.metrics import ConfusionMatrixDisplay\n",
    "\n",
    "\n",
    "disp = ConfusionMatrixDisplay.from_estimator(\n",
    "       clf_best,\n",
    "       X_test_smote,\n",
    "       Y_test_smote,\n",
    "       display_labels=None,\n",
    "       cmap=plt.cm.Blues,\n",
    "       normalize=None)\n",
    "\n",
    "disp.ax_.set_title('Matriz de Confusión')\n",
    "disp.ax_.set_xlabel('Predicción');\n",
    "disp.ax_.set_ylabel('Realidad'); \n",
    "disp.ax_.xaxis.set_ticklabels(['0', '1']); \n",
    "disp.ax_.yaxis.set_ticklabels(['0', '1']);\n",
    "\n",
    "print('Matriz de Confusión')\n",
    "print(disp.confusion_matrix)\n",
    "\n",
    "plt.show()"
   ]
  },
  {
   "cell_type": "markdown",
   "metadata": {
    "id": "9NUvnAZwHMc3"
   },
   "source": [
    "### Nusvm"
   ]
  },
  {
   "cell_type": "markdown",
   "metadata": {
    "id": "CJy3Ejr7HMc3"
   },
   "source": [
    "#### Caso 1"
   ]
  },
  {
   "cell_type": "code",
   "execution_count": null,
   "metadata": {
    "id": "wouPAnakHMc4"
   },
   "outputs": [],
   "source": [
    "parametros = {'nu'      : np.arange(0, 1, 0.1),\n",
    "            'gamma'  : ['scale','auto'],\n",
    "           'kernel' : ['rbf', 'linear','sigmoid']}\n",
    "\n",
    "from sklearn.svm import NuSVC\n",
    "from sklearn.model_selection import GridSearchCV\n",
    "\n",
    "clf = NuSVC(class_weight='balanced', random_state=325)  \n",
    "grid_search = GridSearchCV(clf, parametros, n_jobs=-1, cv=5) "
   ]
  },
  {
   "cell_type": "code",
   "execution_count": null,
   "metadata": {
    "colab": {
     "base_uri": "https://localhost:8080/"
    },
    "id": "xecUHIMrHMc4",
    "outputId": "8d1278a2-aec6-4f43-b2df-61e8a7cc0205"
   },
   "outputs": [],
   "source": [
    "grid_search.fit(X_train_smote, Y_train_smote)"
   ]
  },
  {
   "cell_type": "code",
   "execution_count": null,
   "metadata": {
    "colab": {
     "base_uri": "https://localhost:8080/"
    },
    "id": "Qc5BoDkcHMc4",
    "outputId": "e2d95afa-6b11-4783-cd14-e256a83caa38"
   },
   "outputs": [],
   "source": [
    "print('El mejor modelo:\\n', grid_search.best_params_)"
   ]
  },
  {
   "cell_type": "code",
   "execution_count": null,
   "metadata": {
    "id": "70tvTA9oHMc4"
   },
   "outputs": [],
   "source": [
    "clf_best = grid_search.best_estimator_\n",
    "pred = clf_best.predict(X_test_smote)"
   ]
  },
  {
   "cell_type": "code",
   "execution_count": null,
   "metadata": {
    "colab": {
     "base_uri": "https://localhost:8080/"
    },
    "id": "O9fG8CK3HMc4",
    "outputId": "52108166-e9de-4804-d9f0-889a2f2b69ce"
   },
   "outputs": [],
   "source": [
    "from sklearn.metrics import classification_report\n",
    "\n",
    "print(classification_report(Y_test_smote, pred))"
   ]
  },
  {
   "cell_type": "code",
   "execution_count": null,
   "metadata": {
    "colab": {
     "base_uri": "https://localhost:8080/",
     "height": 347
    },
    "id": "6-egjLmAHMc4",
    "outputId": "bf77369b-70f9-4b2c-d3e7-3ccc925dce3e"
   },
   "outputs": [],
   "source": [
    "from sklearn.metrics import ConfusionMatrixDisplay\n",
    "\n",
    "\n",
    "disp = ConfusionMatrixDisplay.from_estimator(\n",
    "       clf_best,\n",
    "       X_test_smote,\n",
    "       Y_test_smote,\n",
    "       display_labels=None,\n",
    "       cmap=plt.cm.Blues,\n",
    "       normalize=None)\n",
    "\n",
    "disp.ax_.set_title('Matriz de Confusión')\n",
    "disp.ax_.set_xlabel('Predicción');\n",
    "disp.ax_.set_ylabel('Realidad'); \n",
    "disp.ax_.xaxis.set_ticklabels(['0', '1']); \n",
    "disp.ax_.yaxis.set_ticklabels(['0', '1']);\n",
    "\n",
    "print('Matriz de Confusión')\n",
    "print(disp.confusion_matrix)\n",
    "\n",
    "plt.show()"
   ]
  },
  {
   "cell_type": "markdown",
   "metadata": {
    "id": "L4hiy0SvHMc4"
   },
   "source": []
  },
  {
   "cell_type": "markdown",
   "metadata": {
    "id": "Fn-btzsBHMc4"
   },
   "source": [
    "##SECCION CON DATOS SIN PREPROCESAR"
   ]
  },
  {
   "cell_type": "markdown",
   "metadata": {
    "id": "yYo8Oce9HMc4"
   },
   "source": [
    "## transformar texto(Embeding) Sin preprocesamiento de texto"
   ]
  },
  {
   "cell_type": "code",
   "execution_count": null,
   "metadata": {
    "colab": {
     "base_uri": "https://localhost:8080/",
     "height": 424
    },
    "id": "vCt742AoHMc4",
    "outputId": "ca9c6d90-aad5-4063-d8b8-6a4b18c7e790"
   },
   "outputs": [],
   "source": [
    "df"
   ]
  },
  {
   "cell_type": "code",
   "execution_count": null,
   "metadata": {
    "id": "YQn0RrxPHMc4"
   },
   "outputs": [],
   "source": [
    "# 4to paso: Vamos a crear dos variables que cargaran en memoria dos funciones para transformar el texto\n",
    "##\n",
    "##   - preprocessor: \"objeto\" que se encargará de transformar el texto en el formato que necesita el modelo BERT para funcionar\n",
    "##   - encoder: \"objeto\" que será el modelo BERT y se alimentará del resultado de preprocessor, retornando el texto transformado en un vector numérico.\n",
    "\n",
    "preprocessor = hub.load(\"https://tfhub.dev/tensorflow/bert_en_uncased_preprocess/3\")\n",
    "encoder = hub.load(\"https://tfhub.dev/tensorflow/small_bert/bert_en_uncased_L-8_H-768_A-12/2\")"
   ]
  },
  {
   "cell_type": "code",
   "execution_count": null,
   "metadata": {
    "id": "hiPPT6tkHMc5"
   },
   "outputs": [],
   "source": [
    "# 5to paso: Vamos a usar el objeto preprocessor, y guardamos su resultado en la variable embedding\n",
    "##   A modo de ejemplo para su revisión, solo vamos a transformar dos textos:\n",
    "\n",
    "embedding = preprocessor(df['mensaje']) # df['mensaje'] es el texto"
   ]
  },
  {
   "cell_type": "code",
   "execution_count": null,
   "metadata": {
    "id": "zPpkvmFaHMc5"
   },
   "outputs": [],
   "source": [
    "# 6to paso: Vamos a codificar el texto con el modelo BERT:\n",
    "##   - Fijarse que el objeto encoder recibe como argumento la variable embedding (resultado de preprocessor)\n",
    "##   - Copiar el siguiente código de forma literal\n",
    "\n",
    "pooled_output = encoder(embedding)[\"pooled_output\"]"
   ]
  },
  {
   "cell_type": "code",
   "execution_count": null,
   "metadata": {
    "colab": {
     "base_uri": "https://localhost:8080/"
    },
    "id": "FQ_NgtRgHMc5",
    "outputId": "f2590e9f-1745-4d7d-fb66-ccc37b1fee4d"
   },
   "outputs": [],
   "source": [
    "# Opcional: revisamos el contenido de la variable pooled_output, el cual tiene dos vectores de 128 dimensiones\n",
    "##\n",
    "##    - Dos vectores, porque le pasamos solo dos textos\n",
    "##    - 128 dimensiones, porque el modelo BERT utilizado convierte cualquier texto (independiente del largo) en un vector numérico de 128 dimensiones.\n",
    "\n",
    "pooled_output"
   ]
  },
  {
   "cell_type": "code",
   "execution_count": null,
   "metadata": {
    "id": "yj-Mt75DHMc5"
   },
   "outputs": [],
   "source": [
    "# 7mo paso: El contenido de la variable pooled_output es una estructura de datos de tipo tensorflow.\n",
    "#           Para transformarlo a un dataframe y usarlo de forma tradicional con los modelos clásicos, \n",
    "#           ejecutamos la siguiente linea de código:\n",
    "\n",
    "dataX2 = pd.DataFrame(pooled_output.numpy())"
   ]
  },
  {
   "cell_type": "code",
   "execution_count": null,
   "metadata": {
    "colab": {
     "base_uri": "https://localhost:8080/"
    },
    "id": "ElQTAJanHMc5",
    "outputId": "4cb7745c-7338-4562-e901-d2ae0c765079"
   },
   "outputs": [],
   "source": [
    "# Opcional:  Ahora la variable dataX es un dataframe y podemos revisar su dimensionalidad y visualizarlo:\n",
    "dataX2.shape"
   ]
  },
  {
   "cell_type": "code",
   "execution_count": null,
   "metadata": {
    "colab": {
     "base_uri": "https://localhost:8080/",
     "height": 424
    },
    "id": "I4RerigkHMc5",
    "outputId": "e4388245-7a3d-43c4-8dc6-b35654a87308"
   },
   "outputs": [],
   "source": [
    "dataX2"
   ]
  },
  {
   "cell_type": "markdown",
   "metadata": {
    "id": "eBNd_4MyHMc5"
   },
   "source": [
    "##seleccion de las variable"
   ]
  },
  {
   "cell_type": "code",
   "execution_count": null,
   "metadata": {
    "id": "ByP54J5mHMc5"
   },
   "outputs": [],
   "source": [
    "X = dataX2 \n",
    "Y = df['resultado'].copy()"
   ]
  },
  {
   "cell_type": "code",
   "execution_count": null,
   "metadata": {
    "colab": {
     "base_uri": "https://localhost:8080/"
    },
    "id": "BbCsfOMGHMc5",
    "outputId": "e0d6ef75-b0bd-4d33-f7b8-a064813e6e35"
   },
   "outputs": [],
   "source": [
    "X.columns"
   ]
  },
  {
   "cell_type": "code",
   "execution_count": null,
   "metadata": {
    "colab": {
     "base_uri": "https://localhost:8080/"
    },
    "id": "A_mBS_yrHMc5",
    "outputId": "c28e93bb-07ac-4c31-e341-38a715971430"
   },
   "outputs": [],
   "source": [
    "X.info()"
   ]
  },
  {
   "cell_type": "code",
   "execution_count": null,
   "metadata": {
    "colab": {
     "base_uri": "https://localhost:8080/"
    },
    "id": "dudlUW70HMc6",
    "outputId": "5b889e89-3100-44d8-fa89-7e1d24929160"
   },
   "outputs": [],
   "source": [
    "Y.head()"
   ]
  },
  {
   "cell_type": "markdown",
   "metadata": {
    "id": "qrIzTFtUHMc6"
   },
   "source": [
    "## Balanceo de datos"
   ]
  },
  {
   "cell_type": "markdown",
   "metadata": {
    "id": "u8iUvgBeHMc6"
   },
   "source": [
    "### Aplicando Smote"
   ]
  },
  {
   "cell_type": "code",
   "execution_count": null,
   "metadata": {
    "colab": {
     "base_uri": "https://localhost:8080/"
    },
    "id": "t46r21MYHMc6",
    "outputId": "fa4e1041-de37-4adc-95e7-2c34498b0f65"
   },
   "outputs": [],
   "source": [
    "from imblearn.over_sampling import SMOTE #over sobre nivelar hacia arriba under nivelacion hacia el menor dato\n",
    "#from imblearn.under_sampling import SMOTE \n",
    "\n",
    "smote = SMOTE(random_state = 325, n_jobs=-1)\n",
    "X_smote, Y_smote = smote.fit_resample(X, Y)# hace Balance de los datos a partir de los agreglos\n",
    "\n",
    "from collections import Counter\n",
    "\n",
    "Counter(Y_smote)"
   ]
  },
  {
   "cell_type": "markdown",
   "metadata": {
    "id": "Cv2eVeqzHMc6"
   },
   "source": [
    "## Train y test"
   ]
  },
  {
   "cell_type": "code",
   "execution_count": null,
   "metadata": {
    "id": "CLoE8iCxHMc6"
   },
   "outputs": [],
   "source": [
    "from sklearn.model_selection import train_test_split\n",
    "X_train_smote, X_test_smote, Y_train_smote, Y_test_smote = train_test_split(X_smote, Y_smote, random_state=325,test_size = 0.3)\n",
    "        \n",
    "X_train, X_test, Y_train, Y_test = train_test_split(X, Y, random_state=325,test_size = 0.3)        "
   ]
  },
  {
   "cell_type": "markdown",
   "metadata": {
    "id": "kobrjPz_HMc6"
   },
   "source": [
    "## SVM\n"
   ]
  },
  {
   "cell_type": "markdown",
   "metadata": {
    "id": "looryJwmHMc6"
   },
   "source": [
    "###SVC "
   ]
  },
  {
   "cell_type": "markdown",
   "metadata": {
    "id": "mGfRKL_EHMc6"
   },
   "source": [
    "#### Caso 1"
   ]
  },
  {
   "cell_type": "code",
   "execution_count": null,
   "metadata": {
    "id": "UqgwJhTfHMc6"
   },
   "outputs": [],
   "source": [
    "parametros = {'C'      : np.arange(1, 5, 1),\n",
    "            'gamma'  : np.arange(1, 5, 1),\n",
    "           'kernel' : ['rbf', 'linear','sigmoid']}\n",
    "\n",
    "from sklearn.svm import SVC\n",
    "from sklearn.model_selection import GridSearchCV\n",
    "\n",
    "clf = SVC(class_weight='balanced', random_state=325)  \n",
    "grid_search = GridSearchCV(clf, parametros, n_jobs=-1, cv=5) "
   ]
  },
  {
   "cell_type": "code",
   "execution_count": null,
   "metadata": {
    "colab": {
     "base_uri": "https://localhost:8080/"
    },
    "id": "GIrbG1YyHMc6",
    "outputId": "ef5a1cf1-cd2e-4490-d36f-affe6c0e0011"
   },
   "outputs": [],
   "source": [
    "grid_search.fit(X_train_smote, Y_train_smote)"
   ]
  },
  {
   "cell_type": "code",
   "execution_count": null,
   "metadata": {
    "colab": {
     "base_uri": "https://localhost:8080/"
    },
    "id": "TfFdw-J-HMc6",
    "outputId": "b64f5110-0cab-4f71-a334-0cf068e6f432"
   },
   "outputs": [],
   "source": [
    "print('El mejor modelo:\\n', grid_search.best_params_)"
   ]
  },
  {
   "cell_type": "code",
   "execution_count": null,
   "metadata": {
    "id": "RfsFrW6iHMc7"
   },
   "outputs": [],
   "source": [
    "clf_best = grid_search.best_estimator_\n",
    "pred = clf_best.predict(X_test_smote)"
   ]
  },
  {
   "cell_type": "code",
   "execution_count": null,
   "metadata": {
    "colab": {
     "base_uri": "https://localhost:8080/"
    },
    "id": "7h6FH41EHMc7",
    "outputId": "bfd31cc5-2608-4fbe-a894-f58d5e7a9237"
   },
   "outputs": [],
   "source": [
    "from sklearn.metrics import classification_report\n",
    "print(classification_report(Y_test_smote, pred))"
   ]
  },
  {
   "cell_type": "code",
   "execution_count": null,
   "metadata": {
    "colab": {
     "base_uri": "https://localhost:8080/",
     "height": 347
    },
    "id": "BbsVMe26HMc7",
    "outputId": "58392d7e-aca3-40ef-d783-cedf40494b0b"
   },
   "outputs": [],
   "source": [
    "from sklearn.metrics import ConfusionMatrixDisplay\n",
    "\n",
    "\n",
    "disp = ConfusionMatrixDisplay.from_estimator(\n",
    "       clf_best,\n",
    "       X_test_smote,\n",
    "       Y_test_smote,\n",
    "       display_labels=None,\n",
    "       cmap=plt.cm.Blues,\n",
    "       normalize=None)\n",
    "\n",
    "disp.ax_.set_title('Matriz de Confusión')\n",
    "disp.ax_.set_xlabel('Predicción');\n",
    "disp.ax_.set_ylabel('Realidad'); \n",
    "disp.ax_.xaxis.set_ticklabels(['0', '1']); \n",
    "disp.ax_.yaxis.set_ticklabels(['0', '1']);\n",
    "\n",
    "print('Matriz de Confusión')\n",
    "print(disp.confusion_matrix)\n",
    "\n",
    "plt.show()"
   ]
  },
  {
   "cell_type": "markdown",
   "metadata": {
    "id": "IkVCTx2RHMc7"
   },
   "source": [
    "### Nusvm"
   ]
  },
  {
   "cell_type": "markdown",
   "metadata": {
    "id": "JKeV5oUCHMc7"
   },
   "source": [
    "#### Caso 1"
   ]
  },
  {
   "cell_type": "code",
   "execution_count": null,
   "metadata": {
    "id": "RIkTq0_tHMc7"
   },
   "outputs": [],
   "source": [
    "parametros = {'nu'      : np.arange(0, 1, 0.1),\n",
    "            'gamma'  : ['scale','auto'],\n",
    "           'kernel' : ['rbf', 'linear','sigmoid']}\n",
    "\n",
    "from sklearn.svm import NuSVC\n",
    "from sklearn.model_selection import GridSearchCV\n",
    "\n",
    "clf = NuSVC(class_weight='balanced', random_state=325)  \n",
    "grid_search = GridSearchCV(clf, parametros, n_jobs=-1, cv=5) "
   ]
  },
  {
   "cell_type": "code",
   "execution_count": null,
   "metadata": {
    "colab": {
     "base_uri": "https://localhost:8080/"
    },
    "id": "_zozKAsrHMc7",
    "outputId": "46847fc2-d800-4d7e-da7c-70a26216ef3f"
   },
   "outputs": [],
   "source": [
    "grid_search.fit(X_train_smote, Y_train_smote)"
   ]
  },
  {
   "cell_type": "code",
   "execution_count": null,
   "metadata": {
    "colab": {
     "base_uri": "https://localhost:8080/"
    },
    "id": "p4lLIvj0HMc7",
    "outputId": "2bf32955-3beb-4108-f88a-5372edd8c5fe"
   },
   "outputs": [],
   "source": [
    "print('El mejor modelo:\\n', grid_search.best_params_)"
   ]
  },
  {
   "cell_type": "code",
   "execution_count": null,
   "metadata": {
    "id": "qlGBlr55HMc7"
   },
   "outputs": [],
   "source": [
    "clf_best = grid_search.best_estimator_\n",
    "pred = clf_best.predict(X_test_smote)"
   ]
  },
  {
   "cell_type": "code",
   "execution_count": null,
   "metadata": {
    "colab": {
     "base_uri": "https://localhost:8080/"
    },
    "id": "IhPvKQreHMc7",
    "outputId": "0f517516-fa21-4958-8bf9-be9310c7b54b"
   },
   "outputs": [],
   "source": [
    "from sklearn.metrics import classification_report\n",
    "\n",
    "print(classification_report(Y_test_smote, pred))"
   ]
  },
  {
   "cell_type": "code",
   "execution_count": null,
   "metadata": {
    "colab": {
     "base_uri": "https://localhost:8080/",
     "height": 347
    },
    "id": "cMT5-2J8HMc7",
    "outputId": "8d9549ad-a4b4-4c70-e347-f5489db63bf2"
   },
   "outputs": [],
   "source": [
    "from sklearn.metrics import ConfusionMatrixDisplay\n",
    "\n",
    "\n",
    "disp = ConfusionMatrixDisplay.from_estimator(\n",
    "       clf_best,\n",
    "       X_test_smote,\n",
    "       Y_test_smote,\n",
    "       display_labels=None,\n",
    "       cmap=plt.cm.Blues,\n",
    "       normalize=None)\n",
    "\n",
    "disp.ax_.set_title('Matriz de Confusión')\n",
    "disp.ax_.set_xlabel('Predicción');\n",
    "disp.ax_.set_ylabel('Realidad'); \n",
    "disp.ax_.xaxis.set_ticklabels(['0', '1']); \n",
    "disp.ax_.yaxis.set_ticklabels(['0', '1']);\n",
    "\n",
    "print('Matriz de Confusión')\n",
    "print(disp.confusion_matrix)\n",
    "\n",
    "plt.show()"
   ]
  },
  {
   "cell_type": "markdown",
   "metadata": {
    "id": "FOPO-J6KHP5Z"
   },
   "source": [
    "# Embedding  bert normal L-12 --- 768 Vectores\n",
    "https://tfhub.dev/tensorflow/bert_en_uncased_L-12_H-768_A-12/4"
   ]
  },
  {
   "cell_type": "markdown",
   "metadata": {
    "id": "8asy_-q0HP5Z"
   },
   "source": [
    "## transformar texto (Embedding)"
   ]
  },
  {
   "cell_type": "code",
   "execution_count": null,
   "metadata": {
    "id": "S5dsiL0OHP5Z"
   },
   "outputs": [],
   "source": [
    "# 4to paso: Vamos a crear dos variables que cargaran en memoria dos funciones para transformar el texto\n",
    "##\n",
    "##   - preprocessor: \"objeto\" que se encargará de transformar el texto en el formato que necesita el modelo BERT para funcionar\n",
    "##   - encoder: \"objeto\" que será el modelo BERT y se alimentará del resultado de preprocessor, retornando el texto transformado en un vector numérico.\n",
    "\n",
    "preprocessor = hub.load(\"https://tfhub.dev/tensorflow/bert_en_uncased_preprocess/3\")\n",
    "encoder = hub.load(\"https://tfhub.dev/tensorflow/bert_en_uncased_L-12_H-768_A-12/4\")"
   ]
  },
  {
   "cell_type": "code",
   "execution_count": null,
   "metadata": {
    "id": "neQoRon-HP5Z"
   },
   "outputs": [],
   "source": [
    "# 5to paso: Vamos a usar el objeto preprocessor, y guardamos su resultado en la variable embedding\n",
    "##   A modo de ejemplo para su revisión, solo vamos a transformar dos textos:\n",
    "\n",
    "embedding = preprocessor(df_clean) # df_clean es el texto"
   ]
  },
  {
   "cell_type": "code",
   "execution_count": null,
   "metadata": {
    "id": "kWTC4UDsHP5Z"
   },
   "outputs": [],
   "source": [
    "# 6to paso: Vamos a codificar el texto con el modelo BERT:\n",
    "##   - Fijarse que el objeto encoder recibe como argumento la variable embedding (resultado de preprocessor)\n",
    "##   - Copiar el siguiente código de forma literal\n",
    "\n",
    "pooled_output = encoder(embedding)[\"pooled_output\"]"
   ]
  },
  {
   "cell_type": "code",
   "execution_count": null,
   "metadata": {
    "colab": {
     "base_uri": "https://localhost:8080/"
    },
    "id": "6ZCQTrVPHP5a",
    "outputId": "31bc1984-7789-43e2-8f57-4f1f008d4f13"
   },
   "outputs": [],
   "source": [
    "# Opcional: revisamos el contenido de la variable pooled_output, el cual tiene dos vectores de 128 dimensiones\n",
    "##\n",
    "##    - Dos vectores, porque le pasamos solo dos textos\n",
    "##    - 128 dimensiones, porque el modelo BERT utilizado convierte cualquier texto (independiente del largo) en un vector numérico de 128 dimensiones.\n",
    "\n",
    "pooled_output"
   ]
  },
  {
   "cell_type": "code",
   "execution_count": null,
   "metadata": {
    "id": "xkrSa69LHP5a"
   },
   "outputs": [],
   "source": [
    "# 7mo paso: El contenido de la variable pooled_output es una estructura de datos de tipo tensorflow.\n",
    "#           Para transformarlo a un dataframe y usarlo de forma tradicional con los modelos clásicos, \n",
    "#           ejecutamos la siguiente linea de código:\n",
    "\n",
    "dataX2 = pd.DataFrame(pooled_output.numpy())"
   ]
  },
  {
   "cell_type": "code",
   "execution_count": null,
   "metadata": {
    "colab": {
     "base_uri": "https://localhost:8080/"
    },
    "id": "6ZazFU5RHP5a",
    "outputId": "006548f9-0737-42d5-8c7b-7a4ea1255967"
   },
   "outputs": [],
   "source": [
    "# Opcional:  Ahora la variable dataX es un dataframe y podemos revisar su dimensionalidad y visualizarlo:\n",
    "dataX2.shape"
   ]
  },
  {
   "cell_type": "code",
   "execution_count": null,
   "metadata": {
    "colab": {
     "base_uri": "https://localhost:8080/",
     "height": 424
    },
    "id": "qgcdNBL3HP5a",
    "outputId": "eaba9cbb-763d-411c-ebbd-3aba16970fe9"
   },
   "outputs": [],
   "source": [
    "dataX2"
   ]
  },
  {
   "cell_type": "markdown",
   "metadata": {
    "id": "f3A0UASpHP5a"
   },
   "source": [
    "##seleccion de las variable"
   ]
  },
  {
   "cell_type": "code",
   "execution_count": null,
   "metadata": {
    "id": "_XnfxVPMHP5a"
   },
   "outputs": [],
   "source": [
    "X = dataX2 \n",
    "Y = df['resultado'].copy()"
   ]
  },
  {
   "cell_type": "code",
   "execution_count": null,
   "metadata": {
    "colab": {
     "base_uri": "https://localhost:8080/"
    },
    "id": "26m2o8bPHP5a",
    "outputId": "6d01a050-d3b4-47eb-c3ae-d6775442e9de"
   },
   "outputs": [],
   "source": [
    "X.columns"
   ]
  },
  {
   "cell_type": "code",
   "execution_count": null,
   "metadata": {
    "colab": {
     "base_uri": "https://localhost:8080/"
    },
    "id": "7EQOuYMKHP5a",
    "outputId": "45b3993d-08d8-4c15-dd9e-71a6a1253266"
   },
   "outputs": [],
   "source": [
    "X.info()"
   ]
  },
  {
   "cell_type": "code",
   "execution_count": null,
   "metadata": {
    "colab": {
     "base_uri": "https://localhost:8080/"
    },
    "id": "sUf6lwYHHP5a",
    "outputId": "bf1c94d1-93d1-4418-d418-63c5eade8255"
   },
   "outputs": [],
   "source": [
    "Y.head()"
   ]
  },
  {
   "cell_type": "markdown",
   "metadata": {
    "id": "rhV9gc4lHP5b"
   },
   "source": [
    "## Balanceo de datos"
   ]
  },
  {
   "cell_type": "markdown",
   "metadata": {
    "id": "Jc2kcM5HHP5b"
   },
   "source": [
    "## Aplicando Smote"
   ]
  },
  {
   "cell_type": "code",
   "execution_count": null,
   "metadata": {
    "colab": {
     "base_uri": "https://localhost:8080/"
    },
    "id": "y5a8EyerHP5b",
    "outputId": "bcd760b5-417a-420d-ed65-cee151fabaeb"
   },
   "outputs": [],
   "source": [
    "from imblearn.over_sampling import SMOTE #over sobre nivelar hacia arriba under nivelacion hacia el menor dato\n",
    "#from imblearn.under_sampling import SMOTE \n",
    "\n",
    "smote = SMOTE(random_state = 325, n_jobs=-1)\n",
    "X_smote, Y_smote = smote.fit_resample(X, Y)# hace Balance de los datos a partir de los agreglos\n",
    "\n",
    "from collections import Counter\n",
    "\n",
    "Counter(Y_smote)"
   ]
  },
  {
   "cell_type": "markdown",
   "metadata": {
    "id": "NCgK-r9FHP5b"
   },
   "source": [
    "## Train y test"
   ]
  },
  {
   "cell_type": "code",
   "execution_count": null,
   "metadata": {
    "id": "0s5NPPaqHP5b"
   },
   "outputs": [],
   "source": [
    "from sklearn.model_selection import train_test_split\n",
    "X_train_smote, X_test_smote, Y_train_smote, Y_test_smote = train_test_split(X_smote, Y_smote, random_state=325,test_size = 0.3)\n",
    "        \n",
    "X_train, X_test, Y_train, Y_test = train_test_split(X, Y, random_state=325,test_size = 0.3)        "
   ]
  },
  {
   "cell_type": "markdown",
   "metadata": {
    "id": "9IaWLvknHP5b"
   },
   "source": [
    "## SVM\n"
   ]
  },
  {
   "cell_type": "markdown",
   "metadata": {
    "id": "ywkDLhPhHP5b"
   },
   "source": [
    "###SVC "
   ]
  },
  {
   "cell_type": "markdown",
   "metadata": {
    "id": "jTeILQHQHP5b"
   },
   "source": [
    "#### Caso 1"
   ]
  },
  {
   "cell_type": "code",
   "execution_count": null,
   "metadata": {
    "colab": {
     "base_uri": "https://localhost:8080/",
     "height": 235
    },
    "id": "BHt3KfJpHP5b",
    "outputId": "307a82ae-7f9a-480e-e860-5f7d3e8f704e"
   },
   "outputs": [],
   "source": [
    "parametros = {'C'      : np.arange(1, 5, 1),\n",
    "            'gamma'  : np.arange(1, 5, 1),\n",
    "           'kernel' : ['rbf', 'linear','sigmoid']}\n",
    "\n",
    "from sklearn.svm import SVC\n",
    "from sklearn.model_selection import GridSearchCV\n",
    "\n",
    "clf = SVC(class_weight='balanced', random_state=325)  \n",
    "grid_search = GridSearchCV(clf, parametros, n_jobs=-1, cv=5) "
   ]
  },
  {
   "cell_type": "code",
   "execution_count": null,
   "metadata": {
    "colab": {
     "base_uri": "https://localhost:8080/"
    },
    "id": "ux-6YEEqHP5b",
    "outputId": "032cb212-6354-42cf-f6da-052107dd42cd"
   },
   "outputs": [],
   "source": [
    "grid_search.fit(X_train_smote, Y_train_smote)"
   ]
  },
  {
   "cell_type": "code",
   "execution_count": null,
   "metadata": {
    "colab": {
     "base_uri": "https://localhost:8080/"
    },
    "id": "sThIwN_IHP5b",
    "outputId": "58133986-019f-4597-a75c-8cb803050458"
   },
   "outputs": [],
   "source": [
    "print('El mejor modelo:\\n', grid_search.best_params_)"
   ]
  },
  {
   "cell_type": "code",
   "execution_count": null,
   "metadata": {
    "id": "qnQ7aJBvHP5b"
   },
   "outputs": [],
   "source": [
    "clf_best = grid_search.best_estimator_\n",
    "pred = clf_best.predict(X_test_smote)"
   ]
  },
  {
   "cell_type": "code",
   "execution_count": null,
   "metadata": {
    "colab": {
     "base_uri": "https://localhost:8080/"
    },
    "id": "0Pli3_QcHP5c",
    "outputId": "4e9a830f-29e5-4941-acd0-89ec9b198156"
   },
   "outputs": [],
   "source": [
    "from sklearn.metrics import classification_report\n",
    "print(classification_report(Y_test_smote, pred))"
   ]
  },
  {
   "cell_type": "code",
   "execution_count": null,
   "metadata": {
    "colab": {
     "base_uri": "https://localhost:8080/",
     "height": 347
    },
    "id": "I4P4mPe9HP5c",
    "outputId": "8538868c-bcc8-4f65-dc7d-8de868a9f9e5"
   },
   "outputs": [],
   "source": [
    "from sklearn.metrics import ConfusionMatrixDisplay\n",
    "\n",
    "\n",
    "disp = ConfusionMatrixDisplay.from_estimator(\n",
    "       clf_best,\n",
    "       X_test_smote,\n",
    "       Y_test_smote,\n",
    "       display_labels=None,\n",
    "       cmap=plt.cm.Blues,\n",
    "       normalize=None)\n",
    "\n",
    "disp.ax_.set_title('Matriz de Confusión')\n",
    "disp.ax_.set_xlabel('Predicción');\n",
    "disp.ax_.set_ylabel('Realidad'); \n",
    "disp.ax_.xaxis.set_ticklabels(['0', '1']); \n",
    "disp.ax_.yaxis.set_ticklabels(['0', '1']);\n",
    "\n",
    "print('Matriz de Confusión')\n",
    "print(disp.confusion_matrix)\n",
    "\n",
    "plt.show()"
   ]
  },
  {
   "cell_type": "markdown",
   "metadata": {
    "id": "FvKcntADHP5c"
   },
   "source": [
    "### Nusvm"
   ]
  },
  {
   "cell_type": "markdown",
   "metadata": {
    "id": "MnXjlidHHP5c"
   },
   "source": [
    "### Caso 1"
   ]
  },
  {
   "cell_type": "code",
   "execution_count": null,
   "metadata": {
    "id": "usRSgFjcHP5c"
   },
   "outputs": [],
   "source": [
    "parametros = {'nu'      : np.arange(0, 1, 0.1),\n",
    "            'gamma'  : ['scale','auto'],\n",
    "           'kernel' : ['rbf', 'linear','sigmoid']}\n",
    "\n",
    "from sklearn.svm import NuSVC\n",
    "from sklearn.model_selection import GridSearchCV\n",
    "\n",
    "clf = NuSVC(class_weight='balanced', random_state=325)  \n",
    "grid_search = GridSearchCV(clf, parametros, n_jobs=-1, cv=5) "
   ]
  },
  {
   "cell_type": "code",
   "execution_count": null,
   "metadata": {
    "colab": {
     "base_uri": "https://localhost:8080/"
    },
    "id": "n5PIwtQUHP5c",
    "outputId": "af45cf71-d2fa-418c-a8e4-078761177798"
   },
   "outputs": [],
   "source": [
    "grid_search.fit(X_train_smote, Y_train_smote)"
   ]
  },
  {
   "cell_type": "code",
   "execution_count": null,
   "metadata": {
    "colab": {
     "base_uri": "https://localhost:8080/"
    },
    "id": "rcWSw2HsHP5c",
    "outputId": "a0938979-7150-466f-c103-a281a6fd873b"
   },
   "outputs": [],
   "source": [
    "print('El mejor modelo:\\n', grid_search.best_params_)"
   ]
  },
  {
   "cell_type": "code",
   "execution_count": null,
   "metadata": {
    "id": "--6mnz2RHP5c"
   },
   "outputs": [],
   "source": [
    "clf_best = grid_search.best_estimator_\n",
    "pred = clf_best.predict(X_test_smote)"
   ]
  },
  {
   "cell_type": "code",
   "execution_count": null,
   "metadata": {
    "colab": {
     "base_uri": "https://localhost:8080/"
    },
    "id": "lFXCjiGxHP5c",
    "outputId": "0d2f671b-9d91-4e94-fd22-75f8f1dfc54b"
   },
   "outputs": [],
   "source": [
    "from sklearn.metrics import classification_report\n",
    "\n",
    "print(classification_report(Y_test_smote, pred))"
   ]
  },
  {
   "cell_type": "code",
   "execution_count": null,
   "metadata": {
    "colab": {
     "base_uri": "https://localhost:8080/",
     "height": 347
    },
    "id": "rJegarQGHP5c",
    "outputId": "4e0fff11-38d8-495c-f201-59b46c2ed91a"
   },
   "outputs": [],
   "source": [
    "from sklearn.metrics import ConfusionMatrixDisplay\n",
    "\n",
    "\n",
    "disp = ConfusionMatrixDisplay.from_estimator(\n",
    "       clf_best,\n",
    "       X_test_smote,\n",
    "       Y_test_smote,\n",
    "       display_labels=None,\n",
    "       cmap=plt.cm.Blues,\n",
    "       normalize=None)\n",
    "\n",
    "disp.ax_.set_title('Matriz de Confusión')\n",
    "disp.ax_.set_xlabel('Predicción');\n",
    "disp.ax_.set_ylabel('Realidad'); \n",
    "disp.ax_.xaxis.set_ticklabels(['0', '1']); \n",
    "disp.ax_.yaxis.set_ticklabels(['0', '1']);\n",
    "\n",
    "print('Matriz de Confusión')\n",
    "print(disp.confusion_matrix)\n",
    "\n",
    "plt.show()"
   ]
  },
  {
   "cell_type": "markdown",
   "metadata": {
    "id": "ofYXxEJ2HP5d"
   },
   "source": [
    "##SECCION CON DATOS SIN PREPROCESAR"
   ]
  },
  {
   "cell_type": "markdown",
   "metadata": {
    "id": "KGy_OPAeHP5d"
   },
   "source": [
    "## transformar texto(Embeding) Sin preprocesamiento de texto"
   ]
  },
  {
   "cell_type": "code",
   "execution_count": null,
   "metadata": {
    "colab": {
     "base_uri": "https://localhost:8080/",
     "height": 424
    },
    "id": "chFGvkNdHP5d",
    "outputId": "ca9c6d90-aad5-4063-d8b8-6a4b18c7e790"
   },
   "outputs": [],
   "source": [
    "df"
   ]
  },
  {
   "cell_type": "code",
   "execution_count": null,
   "metadata": {
    "id": "nJiAbAQbHP5d"
   },
   "outputs": [],
   "source": [
    "# 4to paso: Vamos a crear dos variables que cargaran en memoria dos funciones para transformar el texto\n",
    "##\n",
    "##   - preprocessor: \"objeto\" que se encargará de transformar el texto en el formato que necesita el modelo BERT para funcionar\n",
    "##   - encoder: \"objeto\" que será el modelo BERT y se alimentará del resultado de preprocessor, retornando el texto transformado en un vector numérico.\n",
    "\n",
    "preprocessor = hub.load(\"https://tfhub.dev/tensorflow/bert_en_uncased_preprocess/3\")\n",
    "encoder = hub.load(\"https://tfhub.dev/tensorflow/bert_en_uncased_L-12_H-768_A-12/4\")"
   ]
  },
  {
   "cell_type": "code",
   "execution_count": null,
   "metadata": {
    "id": "CqieMlUaHP5d"
   },
   "outputs": [],
   "source": [
    "# 5to paso: Vamos a usar el objeto preprocessor, y guardamos su resultado en la variable embedding\n",
    "##   A modo de ejemplo para su revisión, solo vamos a transformar dos textos:\n",
    "\n",
    "embedding = preprocessor(df['mensaje']) # df['mensaje'] es el texto"
   ]
  },
  {
   "cell_type": "code",
   "execution_count": null,
   "metadata": {
    "id": "OgfgvWnVHP5d"
   },
   "outputs": [],
   "source": [
    "# 6to paso: Vamos a codificar el texto con el modelo BERT:\n",
    "##   - Fijarse que el objeto encoder recibe como argumento la variable embedding (resultado de preprocessor)\n",
    "##   - Copiar el siguiente código de forma literal\n",
    "\n",
    "pooled_output = encoder(embedding)[\"pooled_output\"]"
   ]
  },
  {
   "cell_type": "code",
   "execution_count": null,
   "metadata": {
    "colab": {
     "base_uri": "https://localhost:8080/"
    },
    "id": "q_vebiufHP5d",
    "outputId": "f2590e9f-1745-4d7d-fb66-ccc37b1fee4d"
   },
   "outputs": [],
   "source": [
    "# Opcional: revisamos el contenido de la variable pooled_output, el cual tiene dos vectores de 128 dimensiones\n",
    "##\n",
    "##    - Dos vectores, porque le pasamos solo dos textos\n",
    "##    - 128 dimensiones, porque el modelo BERT utilizado convierte cualquier texto (independiente del largo) en un vector numérico de 128 dimensiones.\n",
    "\n",
    "pooled_output"
   ]
  },
  {
   "cell_type": "code",
   "execution_count": null,
   "metadata": {
    "id": "mAqY9sngHP5d"
   },
   "outputs": [],
   "source": [
    "# 7mo paso: El contenido de la variable pooled_output es una estructura de datos de tipo tensorflow.\n",
    "#           Para transformarlo a un dataframe y usarlo de forma tradicional con los modelos clásicos, \n",
    "#           ejecutamos la siguiente linea de código:\n",
    "\n",
    "dataX2 = pd.DataFrame(pooled_output.numpy())"
   ]
  },
  {
   "cell_type": "code",
   "execution_count": null,
   "metadata": {
    "colab": {
     "base_uri": "https://localhost:8080/"
    },
    "id": "yr27v2MQHP5d",
    "outputId": "4cb7745c-7338-4562-e901-d2ae0c765079"
   },
   "outputs": [],
   "source": [
    "# Opcional:  Ahora la variable dataX es un dataframe y podemos revisar su dimensionalidad y visualizarlo:\n",
    "dataX2.shape"
   ]
  },
  {
   "cell_type": "code",
   "execution_count": null,
   "metadata": {
    "colab": {
     "base_uri": "https://localhost:8080/",
     "height": 424
    },
    "id": "SOnz1Nk4HP5d",
    "outputId": "e4388245-7a3d-43c4-8dc6-b35654a87308"
   },
   "outputs": [],
   "source": [
    "dataX2"
   ]
  },
  {
   "cell_type": "markdown",
   "metadata": {
    "id": "6zziumZ-HP5d"
   },
   "source": [
    "##seleccion de las variable"
   ]
  },
  {
   "cell_type": "code",
   "execution_count": null,
   "metadata": {
    "id": "e057M261HP5e"
   },
   "outputs": [],
   "source": [
    "X = dataX2 \n",
    "Y = df['resultado'].copy()"
   ]
  },
  {
   "cell_type": "code",
   "execution_count": null,
   "metadata": {
    "colab": {
     "base_uri": "https://localhost:8080/"
    },
    "id": "VPQZ2shMHP5e",
    "outputId": "e0d6ef75-b0bd-4d33-f7b8-a064813e6e35"
   },
   "outputs": [],
   "source": [
    "X.columns"
   ]
  },
  {
   "cell_type": "code",
   "execution_count": null,
   "metadata": {
    "colab": {
     "base_uri": "https://localhost:8080/"
    },
    "id": "LjUu5i3qHP5e",
    "outputId": "c28e93bb-07ac-4c31-e341-38a715971430"
   },
   "outputs": [],
   "source": [
    "X.info()"
   ]
  },
  {
   "cell_type": "code",
   "execution_count": null,
   "metadata": {
    "colab": {
     "base_uri": "https://localhost:8080/"
    },
    "id": "gJDojErWHP5e",
    "outputId": "5b889e89-3100-44d8-fa89-7e1d24929160"
   },
   "outputs": [],
   "source": [
    "Y.head()"
   ]
  },
  {
   "cell_type": "markdown",
   "metadata": {
    "id": "aGkKu4LQHP5e"
   },
   "source": [
    "## Balanceo de datos"
   ]
  },
  {
   "cell_type": "markdown",
   "metadata": {
    "id": "hf7h6nvdHP5e"
   },
   "source": [
    "### Aplicando Smote"
   ]
  },
  {
   "cell_type": "code",
   "execution_count": null,
   "metadata": {
    "colab": {
     "base_uri": "https://localhost:8080/"
    },
    "id": "LBhCDKIsHP5e",
    "outputId": "fa4e1041-de37-4adc-95e7-2c34498b0f65"
   },
   "outputs": [],
   "source": [
    "from imblearn.over_sampling import SMOTE #over sobre nivelar hacia arriba under nivelacion hacia el menor dato\n",
    "#from imblearn.under_sampling import SMOTE \n",
    "\n",
    "smote = SMOTE(random_state = 325, n_jobs=-1)\n",
    "X_smote, Y_smote = smote.fit_resample(X, Y)# hace Balance de los datos a partir de los agreglos\n",
    "\n",
    "from collections import Counter\n",
    "\n",
    "Counter(Y_smote)"
   ]
  },
  {
   "cell_type": "markdown",
   "metadata": {
    "id": "a6b5jcwsHP5e"
   },
   "source": [
    "## Train y test"
   ]
  },
  {
   "cell_type": "code",
   "execution_count": null,
   "metadata": {
    "id": "XtN39ZfWHP5e"
   },
   "outputs": [],
   "source": [
    "from sklearn.model_selection import train_test_split\n",
    "X_train_smote, X_test_smote, Y_train_smote, Y_test_smote = train_test_split(X_smote, Y_smote, random_state=325,test_size = 0.3)\n",
    "        \n",
    "X_train, X_test, Y_train, Y_test = train_test_split(X, Y, random_state=325,test_size = 0.3)        "
   ]
  },
  {
   "cell_type": "markdown",
   "metadata": {
    "id": "Ype9K60bHP5e"
   },
   "source": [
    "## SVM\n"
   ]
  },
  {
   "cell_type": "markdown",
   "metadata": {
    "id": "HBlR7PeyHP5e"
   },
   "source": [
    "###SVC "
   ]
  },
  {
   "cell_type": "markdown",
   "metadata": {
    "id": "UmQnZlReHP5e"
   },
   "source": [
    "#### Caso 1"
   ]
  },
  {
   "cell_type": "code",
   "execution_count": null,
   "metadata": {
    "id": "T94LHA8JHP5f"
   },
   "outputs": [],
   "source": [
    "parametros = {'C'      : np.arange(1, 5, 1),\n",
    "            'gamma'  : np.arange(1, 5, 1),\n",
    "           'kernel' : ['rbf', 'linear','sigmoid']}\n",
    "\n",
    "from sklearn.svm import SVC\n",
    "from sklearn.model_selection import GridSearchCV\n",
    "\n",
    "clf = SVC(class_weight='balanced', random_state=325)  \n",
    "grid_search = GridSearchCV(clf, parametros, n_jobs=-1, cv=5) "
   ]
  },
  {
   "cell_type": "code",
   "execution_count": null,
   "metadata": {
    "colab": {
     "base_uri": "https://localhost:8080/"
    },
    "id": "1etEnz4OHP5f",
    "outputId": "ef5a1cf1-cd2e-4490-d36f-affe6c0e0011"
   },
   "outputs": [],
   "source": [
    "grid_search.fit(X_train_smote, Y_train_smote)"
   ]
  },
  {
   "cell_type": "code",
   "execution_count": null,
   "metadata": {
    "colab": {
     "base_uri": "https://localhost:8080/"
    },
    "id": "c9dxp7EYHP5f",
    "outputId": "b64f5110-0cab-4f71-a334-0cf068e6f432"
   },
   "outputs": [],
   "source": [
    "print('El mejor modelo:\\n', grid_search.best_params_)"
   ]
  },
  {
   "cell_type": "code",
   "execution_count": null,
   "metadata": {
    "id": "S7YeFA_AHP5f"
   },
   "outputs": [],
   "source": [
    "clf_best = grid_search.best_estimator_\n",
    "pred = clf_best.predict(X_test_smote)"
   ]
  },
  {
   "cell_type": "code",
   "execution_count": null,
   "metadata": {
    "colab": {
     "base_uri": "https://localhost:8080/"
    },
    "id": "3mK8lc4kHP5f",
    "outputId": "bfd31cc5-2608-4fbe-a894-f58d5e7a9237"
   },
   "outputs": [],
   "source": [
    "from sklearn.metrics import classification_report\n",
    "print(classification_report(Y_test_smote, pred))"
   ]
  },
  {
   "cell_type": "code",
   "execution_count": null,
   "metadata": {
    "colab": {
     "base_uri": "https://localhost:8080/",
     "height": 347
    },
    "id": "fLjS6FmvHP5f",
    "outputId": "58392d7e-aca3-40ef-d783-cedf40494b0b"
   },
   "outputs": [],
   "source": [
    "from sklearn.metrics import ConfusionMatrixDisplay\n",
    "\n",
    "\n",
    "disp = ConfusionMatrixDisplay.from_estimator(\n",
    "       clf_best,\n",
    "       X_test_smote,\n",
    "       Y_test_smote,\n",
    "       display_labels=None,\n",
    "       cmap=plt.cm.Blues,\n",
    "       normalize=None)\n",
    "\n",
    "disp.ax_.set_title('Matriz de Confusión')\n",
    "disp.ax_.set_xlabel('Predicción');\n",
    "disp.ax_.set_ylabel('Realidad'); \n",
    "disp.ax_.xaxis.set_ticklabels(['0', '1']); \n",
    "disp.ax_.yaxis.set_ticklabels(['0', '1']);\n",
    "\n",
    "print('Matriz de Confusión')\n",
    "print(disp.confusion_matrix)\n",
    "\n",
    "plt.show()"
   ]
  },
  {
   "cell_type": "markdown",
   "metadata": {
    "id": "VxR54zSGHP5f"
   },
   "source": [
    "### Nusvm"
   ]
  },
  {
   "cell_type": "markdown",
   "metadata": {
    "id": "zCGk0ndvHP5f"
   },
   "source": [
    "#### Caso 1"
   ]
  },
  {
   "cell_type": "code",
   "execution_count": null,
   "metadata": {
    "id": "MLkAf6M1HP5f"
   },
   "outputs": [],
   "source": [
    "parametros = {'nu'      : np.arange(0, 1, 0.1),\n",
    "            'gamma'  : ['scale','auto'],\n",
    "           'kernel' : ['rbf', 'linear','sigmoid']}\n",
    "\n",
    "from sklearn.svm import NuSVC\n",
    "from sklearn.model_selection import GridSearchCV\n",
    "\n",
    "clf = NuSVC(class_weight='balanced', random_state=325)  \n",
    "grid_search = GridSearchCV(clf, parametros, n_jobs=-1, cv=5) "
   ]
  },
  {
   "cell_type": "code",
   "execution_count": null,
   "metadata": {
    "colab": {
     "base_uri": "https://localhost:8080/"
    },
    "id": "96R5eCl6HP5f",
    "outputId": "46847fc2-d800-4d7e-da7c-70a26216ef3f"
   },
   "outputs": [],
   "source": [
    "grid_search.fit(X_train_smote, Y_train_smote)"
   ]
  },
  {
   "cell_type": "code",
   "execution_count": null,
   "metadata": {
    "colab": {
     "base_uri": "https://localhost:8080/"
    },
    "id": "hEV67io5HP5f",
    "outputId": "2bf32955-3beb-4108-f88a-5372edd8c5fe"
   },
   "outputs": [],
   "source": [
    "print('El mejor modelo:\\n', grid_search.best_params_)"
   ]
  },
  {
   "cell_type": "code",
   "execution_count": null,
   "metadata": {
    "id": "ETq3u14xHP5g"
   },
   "outputs": [],
   "source": [
    "clf_best = grid_search.best_estimator_\n",
    "pred = clf_best.predict(X_test_smote)"
   ]
  },
  {
   "cell_type": "code",
   "execution_count": null,
   "metadata": {
    "colab": {
     "base_uri": "https://localhost:8080/"
    },
    "id": "Qw8wzIPEHP5g",
    "outputId": "0f517516-fa21-4958-8bf9-be9310c7b54b"
   },
   "outputs": [],
   "source": [
    "from sklearn.metrics import classification_report\n",
    "\n",
    "print(classification_report(Y_test_smote, pred))"
   ]
  },
  {
   "cell_type": "code",
   "execution_count": null,
   "metadata": {
    "colab": {
     "base_uri": "https://localhost:8080/",
     "height": 347
    },
    "id": "I9HieVGhHP5g",
    "outputId": "8d9549ad-a4b4-4c70-e347-f5489db63bf2"
   },
   "outputs": [],
   "source": [
    "from sklearn.metrics import ConfusionMatrixDisplay\n",
    "\n",
    "\n",
    "disp = ConfusionMatrixDisplay.from_estimator(\n",
    "       clf_best,\n",
    "       X_test_smote,\n",
    "       Y_test_smote,\n",
    "       display_labels=None,\n",
    "       cmap=plt.cm.Blues,\n",
    "       normalize=None)\n",
    "\n",
    "disp.ax_.set_title('Matriz de Confusión')\n",
    "disp.ax_.set_xlabel('Predicción');\n",
    "disp.ax_.set_ylabel('Realidad'); \n",
    "disp.ax_.xaxis.set_ticklabels(['0', '1']); \n",
    "disp.ax_.yaxis.set_ticklabels(['0', '1']);\n",
    "\n",
    "print('Matriz de Confusión')\n",
    "print(disp.confusion_matrix)\n",
    "\n",
    "plt.show()"
   ]
  },
  {
   "cell_type": "markdown",
   "metadata": {
    "id": "VhMtgisLHbfm"
   },
   "source": [
    "# Embedding  bert normal L-24 --- 1024\n",
    "https://tfhub.dev/tensorflow/bert_en_uncased_L-24_H-1024_A-16/4"
   ]
  },
  {
   "cell_type": "markdown",
   "metadata": {
    "id": "8FjGUWIvHbfm"
   },
   "source": [
    "## transformar texto (Embedding)"
   ]
  },
  {
   "cell_type": "code",
   "execution_count": null,
   "metadata": {
    "id": "oDQz6SWFHbfn"
   },
   "outputs": [],
   "source": [
    "# 4to paso: Vamos a crear dos variables que cargaran en memoria dos funciones para transformar el texto\n",
    "##\n",
    "##   - preprocessor: \"objeto\" que se encargará de transformar el texto en el formato que necesita el modelo BERT para funcionar\n",
    "##   - encoder: \"objeto\" que será el modelo BERT y se alimentará del resultado de preprocessor, retornando el texto transformado en un vector numérico.\n",
    "\n",
    "preprocessor = hub.load(\"https://tfhub.dev/tensorflow/bert_en_uncased_preprocess/3\")\n",
    "encoder = hub.load(\"https://tfhub.dev/tensorflow/bert_en_uncased_L-24_H-1024_A-16/4\")"
   ]
  },
  {
   "cell_type": "code",
   "execution_count": null,
   "metadata": {
    "id": "uxs8qd_VHbfn"
   },
   "outputs": [],
   "source": [
    "# 5to paso: Vamos a usar el objeto preprocessor, y guardamos su resultado en la variable embedding\n",
    "##   A modo de ejemplo para su revisión, solo vamos a transformar dos textos:\n",
    "\n",
    "embedding = preprocessor(df_clean) # df_clean es el texto"
   ]
  },
  {
   "cell_type": "code",
   "execution_count": null,
   "metadata": {
    "id": "w1F5MZrjHbfn"
   },
   "outputs": [],
   "source": [
    "# 6to paso: Vamos a codificar el texto con el modelo BERT:\n",
    "##   - Fijarse que el objeto encoder recibe como argumento la variable embedding (resultado de preprocessor)\n",
    "##   - Copiar el siguiente código de forma literal\n",
    "\n",
    "pooled_output = encoder(embedding)[\"pooled_output\"]"
   ]
  },
  {
   "cell_type": "code",
   "execution_count": null,
   "metadata": {
    "colab": {
     "base_uri": "https://localhost:8080/"
    },
    "id": "7FsKIBlSHbfn",
    "outputId": "31bc1984-7789-43e2-8f57-4f1f008d4f13"
   },
   "outputs": [],
   "source": [
    "# Opcional: revisamos el contenido de la variable pooled_output, el cual tiene dos vectores de 128 dimensiones\n",
    "##\n",
    "##    - Dos vectores, porque le pasamos solo dos textos\n",
    "##    - 128 dimensiones, porque el modelo BERT utilizado convierte cualquier texto (independiente del largo) en un vector numérico de 128 dimensiones.\n",
    "\n",
    "pooled_output"
   ]
  },
  {
   "cell_type": "code",
   "execution_count": null,
   "metadata": {
    "id": "DQ-MfPskHbfn"
   },
   "outputs": [],
   "source": [
    "# 7mo paso: El contenido de la variable pooled_output es una estructura de datos de tipo tensorflow.\n",
    "#           Para transformarlo a un dataframe y usarlo de forma tradicional con los modelos clásicos, \n",
    "#           ejecutamos la siguiente linea de código:\n",
    "\n",
    "dataX2 = pd.DataFrame(pooled_output.numpy())"
   ]
  },
  {
   "cell_type": "code",
   "execution_count": null,
   "metadata": {
    "colab": {
     "base_uri": "https://localhost:8080/"
    },
    "id": "Q7NWAJliHbfn",
    "outputId": "006548f9-0737-42d5-8c7b-7a4ea1255967"
   },
   "outputs": [],
   "source": [
    "# Opcional:  Ahora la variable dataX es un dataframe y podemos revisar su dimensionalidad y visualizarlo:\n",
    "dataX2.shape"
   ]
  },
  {
   "cell_type": "code",
   "execution_count": null,
   "metadata": {
    "colab": {
     "base_uri": "https://localhost:8080/",
     "height": 424
    },
    "id": "g2Oy-ZCZHbfn",
    "outputId": "eaba9cbb-763d-411c-ebbd-3aba16970fe9"
   },
   "outputs": [],
   "source": [
    "dataX2"
   ]
  },
  {
   "cell_type": "markdown",
   "metadata": {
    "id": "0-I1eFTsHbfo"
   },
   "source": [
    "##seleccion de las variable"
   ]
  },
  {
   "cell_type": "code",
   "execution_count": null,
   "metadata": {
    "id": "NxAZjPBeHbfo"
   },
   "outputs": [],
   "source": [
    "X = dataX2 \n",
    "Y = df['resultado'].copy()"
   ]
  },
  {
   "cell_type": "code",
   "execution_count": null,
   "metadata": {
    "colab": {
     "base_uri": "https://localhost:8080/"
    },
    "id": "xVMZ9Z8PHbfo",
    "outputId": "6d01a050-d3b4-47eb-c3ae-d6775442e9de"
   },
   "outputs": [],
   "source": [
    "X.columns"
   ]
  },
  {
   "cell_type": "code",
   "execution_count": null,
   "metadata": {
    "colab": {
     "base_uri": "https://localhost:8080/"
    },
    "id": "RH0lwcYrHbfo",
    "outputId": "45b3993d-08d8-4c15-dd9e-71a6a1253266"
   },
   "outputs": [],
   "source": [
    "X.info()"
   ]
  },
  {
   "cell_type": "code",
   "execution_count": null,
   "metadata": {
    "colab": {
     "base_uri": "https://localhost:8080/"
    },
    "id": "uud-w8nMHbfo",
    "outputId": "bf1c94d1-93d1-4418-d418-63c5eade8255"
   },
   "outputs": [],
   "source": [
    "Y.head()"
   ]
  },
  {
   "cell_type": "markdown",
   "metadata": {
    "id": "6SM-Dk23Hbfo"
   },
   "source": [
    "## Balanceo de datos"
   ]
  },
  {
   "cell_type": "markdown",
   "metadata": {
    "id": "A3PT3g9QHbfo"
   },
   "source": [
    "## Aplicando Smote"
   ]
  },
  {
   "cell_type": "code",
   "execution_count": null,
   "metadata": {
    "colab": {
     "base_uri": "https://localhost:8080/"
    },
    "id": "2xe9VuwjHbfo",
    "outputId": "bcd760b5-417a-420d-ed65-cee151fabaeb"
   },
   "outputs": [],
   "source": [
    "from imblearn.over_sampling import SMOTE #over sobre nivelar hacia arriba under nivelacion hacia el menor dato\n",
    "#from imblearn.under_sampling import SMOTE \n",
    "\n",
    "smote = SMOTE(random_state = 325, n_jobs=-1)\n",
    "X_smote, Y_smote = smote.fit_resample(X, Y)# hace Balance de los datos a partir de los agreglos\n",
    "\n",
    "from collections import Counter\n",
    "\n",
    "Counter(Y_smote)"
   ]
  },
  {
   "cell_type": "markdown",
   "metadata": {
    "id": "zfUrTnNFHbfo"
   },
   "source": [
    "## Train y test"
   ]
  },
  {
   "cell_type": "code",
   "execution_count": null,
   "metadata": {
    "id": "XigdNFlJHbfo"
   },
   "outputs": [],
   "source": [
    "from sklearn.model_selection import train_test_split\n",
    "X_train_smote, X_test_smote, Y_train_smote, Y_test_smote = train_test_split(X_smote, Y_smote, random_state=325,test_size = 0.3)\n",
    "        \n",
    "X_train, X_test, Y_train, Y_test = train_test_split(X, Y, random_state=325,test_size = 0.3)        "
   ]
  },
  {
   "cell_type": "markdown",
   "metadata": {
    "id": "f4DWWuWFHbfp"
   },
   "source": [
    "## SVM\n"
   ]
  },
  {
   "cell_type": "markdown",
   "metadata": {
    "id": "VMRis76xHbfp"
   },
   "source": [
    "###SVC "
   ]
  },
  {
   "cell_type": "markdown",
   "metadata": {
    "id": "E4EEQGKWHbfp"
   },
   "source": [
    "#### Caso 1"
   ]
  },
  {
   "cell_type": "code",
   "execution_count": null,
   "metadata": {
    "colab": {
     "base_uri": "https://localhost:8080/",
     "height": 235
    },
    "id": "yPwAvzZmHbfp",
    "outputId": "307a82ae-7f9a-480e-e860-5f7d3e8f704e"
   },
   "outputs": [],
   "source": [
    "parametros = {'C'      : np.arange(1, 5, 1),\n",
    "            'gamma'  : np.arange(1, 5, 1),\n",
    "           'kernel' : ['rbf', 'linear','sigmoid']}\n",
    "\n",
    "from sklearn.svm import SVC\n",
    "from sklearn.model_selection import GridSearchCV\n",
    "\n",
    "clf = SVC(class_weight='balanced', random_state=325)  \n",
    "grid_search = GridSearchCV(clf, parametros, n_jobs=-1, cv=5) "
   ]
  },
  {
   "cell_type": "code",
   "execution_count": null,
   "metadata": {
    "colab": {
     "base_uri": "https://localhost:8080/"
    },
    "id": "SUi0O17NHbfp",
    "outputId": "032cb212-6354-42cf-f6da-052107dd42cd"
   },
   "outputs": [],
   "source": [
    "grid_search.fit(X_train_smote, Y_train_smote)"
   ]
  },
  {
   "cell_type": "code",
   "execution_count": null,
   "metadata": {
    "colab": {
     "base_uri": "https://localhost:8080/"
    },
    "id": "8sAqPkRxHbfp",
    "outputId": "58133986-019f-4597-a75c-8cb803050458"
   },
   "outputs": [],
   "source": [
    "print('El mejor modelo:\\n', grid_search.best_params_)"
   ]
  },
  {
   "cell_type": "code",
   "execution_count": null,
   "metadata": {
    "id": "h-pKQe3iHbfp"
   },
   "outputs": [],
   "source": [
    "clf_best = grid_search.best_estimator_\n",
    "pred = clf_best.predict(X_test_smote)"
   ]
  },
  {
   "cell_type": "code",
   "execution_count": null,
   "metadata": {
    "colab": {
     "base_uri": "https://localhost:8080/"
    },
    "id": "ncSVuP9xHbfp",
    "outputId": "4e9a830f-29e5-4941-acd0-89ec9b198156"
   },
   "outputs": [],
   "source": [
    "from sklearn.metrics import classification_report\n",
    "print(classification_report(Y_test_smote, pred))"
   ]
  },
  {
   "cell_type": "code",
   "execution_count": null,
   "metadata": {
    "colab": {
     "base_uri": "https://localhost:8080/",
     "height": 347
    },
    "id": "EY82NHCNHbfp",
    "outputId": "8538868c-bcc8-4f65-dc7d-8de868a9f9e5"
   },
   "outputs": [],
   "source": [
    "from sklearn.metrics import ConfusionMatrixDisplay\n",
    "\n",
    "\n",
    "disp = ConfusionMatrixDisplay.from_estimator(\n",
    "       clf_best,\n",
    "       X_test_smote,\n",
    "       Y_test_smote,\n",
    "       display_labels=None,\n",
    "       cmap=plt.cm.Blues,\n",
    "       normalize=None)\n",
    "\n",
    "disp.ax_.set_title('Matriz de Confusión')\n",
    "disp.ax_.set_xlabel('Predicción');\n",
    "disp.ax_.set_ylabel('Realidad'); \n",
    "disp.ax_.xaxis.set_ticklabels(['0', '1']); \n",
    "disp.ax_.yaxis.set_ticklabels(['0', '1']);\n",
    "\n",
    "print('Matriz de Confusión')\n",
    "print(disp.confusion_matrix)\n",
    "\n",
    "plt.show()"
   ]
  },
  {
   "cell_type": "markdown",
   "metadata": {
    "id": "H3wkDc44Hbfq"
   },
   "source": [
    "### Nusvm"
   ]
  },
  {
   "cell_type": "markdown",
   "metadata": {
    "id": "xR8o1ufcHbfq"
   },
   "source": [
    "### Caso 1"
   ]
  },
  {
   "cell_type": "code",
   "execution_count": null,
   "metadata": {
    "id": "Oab_ozfBHbfq"
   },
   "outputs": [],
   "source": [
    "parametros = {'nu'      : np.arange(0, 1, 0.1),\n",
    "            'gamma'  : ['scale','auto'],\n",
    "           'kernel' : ['rbf', 'linear','sigmoid']}\n",
    "\n",
    "from sklearn.svm import NuSVC\n",
    "from sklearn.model_selection import GridSearchCV\n",
    "\n",
    "clf = NuSVC(class_weight='balanced', random_state=325)  \n",
    "grid_search = GridSearchCV(clf, parametros, n_jobs=-1, cv=5) "
   ]
  },
  {
   "cell_type": "code",
   "execution_count": null,
   "metadata": {
    "colab": {
     "base_uri": "https://localhost:8080/"
    },
    "id": "R4rGgfkkHbfq",
    "outputId": "af45cf71-d2fa-418c-a8e4-078761177798"
   },
   "outputs": [],
   "source": [
    "grid_search.fit(X_train_smote, Y_train_smote)"
   ]
  },
  {
   "cell_type": "code",
   "execution_count": null,
   "metadata": {
    "colab": {
     "base_uri": "https://localhost:8080/"
    },
    "id": "8S0fgvFzHbfq",
    "outputId": "a0938979-7150-466f-c103-a281a6fd873b"
   },
   "outputs": [],
   "source": [
    "print('El mejor modelo:\\n', grid_search.best_params_)"
   ]
  },
  {
   "cell_type": "code",
   "execution_count": null,
   "metadata": {
    "id": "KOqbADFnHbfq"
   },
   "outputs": [],
   "source": [
    "clf_best = grid_search.best_estimator_\n",
    "pred = clf_best.predict(X_test_smote)"
   ]
  },
  {
   "cell_type": "code",
   "execution_count": null,
   "metadata": {
    "colab": {
     "base_uri": "https://localhost:8080/"
    },
    "id": "dMjFrpx6Hbfr",
    "outputId": "0d2f671b-9d91-4e94-fd22-75f8f1dfc54b"
   },
   "outputs": [],
   "source": [
    "from sklearn.metrics import classification_report\n",
    "\n",
    "print(classification_report(Y_test_smote, pred))"
   ]
  },
  {
   "cell_type": "code",
   "execution_count": null,
   "metadata": {
    "colab": {
     "base_uri": "https://localhost:8080/",
     "height": 347
    },
    "id": "bwPlGbubHbfr",
    "outputId": "4e0fff11-38d8-495c-f201-59b46c2ed91a"
   },
   "outputs": [],
   "source": [
    "from sklearn.metrics import ConfusionMatrixDisplay\n",
    "\n",
    "\n",
    "disp = ConfusionMatrixDisplay.from_estimator(\n",
    "       clf_best,\n",
    "       X_test_smote,\n",
    "       Y_test_smote,\n",
    "       display_labels=None,\n",
    "       cmap=plt.cm.Blues,\n",
    "       normalize=None)\n",
    "\n",
    "disp.ax_.set_title('Matriz de Confusión')\n",
    "disp.ax_.set_xlabel('Predicción');\n",
    "disp.ax_.set_ylabel('Realidad'); \n",
    "disp.ax_.xaxis.set_ticklabels(['0', '1']); \n",
    "disp.ax_.yaxis.set_ticklabels(['0', '1']);\n",
    "\n",
    "print('Matriz de Confusión')\n",
    "print(disp.confusion_matrix)\n",
    "\n",
    "plt.show()"
   ]
  },
  {
   "cell_type": "markdown",
   "metadata": {
    "id": "S87CMMgoHbfr"
   },
   "source": []
  },
  {
   "cell_type": "markdown",
   "metadata": {
    "id": "dedKWSeDHbfr"
   },
   "source": [
    "##SECCION CON DATOS SIN PREPROCESAR"
   ]
  },
  {
   "cell_type": "markdown",
   "metadata": {
    "id": "COx2-KUvHbfr"
   },
   "source": [
    "## transformar texto(Embeding) Sin preprocesamiento de texto"
   ]
  },
  {
   "cell_type": "code",
   "execution_count": null,
   "metadata": {
    "colab": {
     "base_uri": "https://localhost:8080/",
     "height": 424
    },
    "id": "YlCmiP2GHbfr",
    "outputId": "ca9c6d90-aad5-4063-d8b8-6a4b18c7e790"
   },
   "outputs": [],
   "source": [
    "df"
   ]
  },
  {
   "cell_type": "code",
   "execution_count": null,
   "metadata": {
    "id": "tcm32eoXHbfr"
   },
   "outputs": [],
   "source": [
    "# 4to paso: Vamos a crear dos variables que cargaran en memoria dos funciones para transformar el texto\n",
    "##\n",
    "##   - preprocessor: \"objeto\" que se encargará de transformar el texto en el formato que necesita el modelo BERT para funcionar\n",
    "##   - encoder: \"objeto\" que será el modelo BERT y se alimentará del resultado de preprocessor, retornando el texto transformado en un vector numérico.\n",
    "\n",
    "preprocessor = hub.load(\"https://tfhub.dev/tensorflow/bert_en_uncased_preprocess/3\")\n",
    "encoder = hub.load(\"https://tfhub.dev/tensorflow/bert_en_uncased_L-24_H-1024_A-16/4\")"
   ]
  },
  {
   "cell_type": "code",
   "execution_count": null,
   "metadata": {
    "id": "qIE11--uHbfr"
   },
   "outputs": [],
   "source": [
    "# 5to paso: Vamos a usar el objeto preprocessor, y guardamos su resultado en la variable embedding\n",
    "##   A modo de ejemplo para su revisión, solo vamos a transformar dos textos:\n",
    "\n",
    "embedding = preprocessor(df['mensaje']) # df['mensaje'] es el texto"
   ]
  },
  {
   "cell_type": "code",
   "execution_count": null,
   "metadata": {
    "id": "ALLJxdomHbfr"
   },
   "outputs": [],
   "source": [
    "# 6to paso: Vamos a codificar el texto con el modelo BERT:\n",
    "##   - Fijarse que el objeto encoder recibe como argumento la variable embedding (resultado de preprocessor)\n",
    "##   - Copiar el siguiente código de forma literal\n",
    "\n",
    "pooled_output = encoder(embedding)[\"pooled_output\"]"
   ]
  },
  {
   "cell_type": "code",
   "execution_count": null,
   "metadata": {
    "colab": {
     "base_uri": "https://localhost:8080/"
    },
    "id": "gJKybjNAHbfr",
    "outputId": "f2590e9f-1745-4d7d-fb66-ccc37b1fee4d"
   },
   "outputs": [],
   "source": [
    "# Opcional: revisamos el contenido de la variable pooled_output, el cual tiene dos vectores de 128 dimensiones\n",
    "##\n",
    "##    - Dos vectores, porque le pasamos solo dos textos\n",
    "##    - 128 dimensiones, porque el modelo BERT utilizado convierte cualquier texto (independiente del largo) en un vector numérico de 128 dimensiones.\n",
    "\n",
    "pooled_output"
   ]
  },
  {
   "cell_type": "code",
   "execution_count": null,
   "metadata": {
    "id": "r0_Er2FhHbfr"
   },
   "outputs": [],
   "source": [
    "# 7mo paso: El contenido de la variable pooled_output es una estructura de datos de tipo tensorflow.\n",
    "#           Para transformarlo a un dataframe y usarlo de forma tradicional con los modelos clásicos, \n",
    "#           ejecutamos la siguiente linea de código:\n",
    "\n",
    "dataX2 = pd.DataFrame(pooled_output.numpy())"
   ]
  },
  {
   "cell_type": "code",
   "execution_count": null,
   "metadata": {
    "colab": {
     "base_uri": "https://localhost:8080/"
    },
    "id": "CPGPqMJKHbfs",
    "outputId": "4cb7745c-7338-4562-e901-d2ae0c765079"
   },
   "outputs": [],
   "source": [
    "# Opcional:  Ahora la variable dataX es un dataframe y podemos revisar su dimensionalidad y visualizarlo:\n",
    "dataX2.shape"
   ]
  },
  {
   "cell_type": "code",
   "execution_count": null,
   "metadata": {
    "colab": {
     "base_uri": "https://localhost:8080/",
     "height": 424
    },
    "id": "aQpSETspHbfs",
    "outputId": "e4388245-7a3d-43c4-8dc6-b35654a87308"
   },
   "outputs": [],
   "source": [
    "dataX2"
   ]
  },
  {
   "cell_type": "markdown",
   "metadata": {
    "id": "1MigkRMpHbfs"
   },
   "source": [
    "##seleccion de las variable"
   ]
  },
  {
   "cell_type": "code",
   "execution_count": null,
   "metadata": {
    "id": "xRFSlA17Hbfs"
   },
   "outputs": [],
   "source": [
    "X = dataX2 \n",
    "Y = df['resultado'].copy()"
   ]
  },
  {
   "cell_type": "code",
   "execution_count": null,
   "metadata": {
    "colab": {
     "base_uri": "https://localhost:8080/"
    },
    "id": "DN9C7slIHbfs",
    "outputId": "e0d6ef75-b0bd-4d33-f7b8-a064813e6e35"
   },
   "outputs": [],
   "source": [
    "X.columns"
   ]
  },
  {
   "cell_type": "code",
   "execution_count": null,
   "metadata": {
    "colab": {
     "base_uri": "https://localhost:8080/"
    },
    "id": "Ww4PTLQEHbfs",
    "outputId": "c28e93bb-07ac-4c31-e341-38a715971430"
   },
   "outputs": [],
   "source": [
    "X.info()"
   ]
  },
  {
   "cell_type": "code",
   "execution_count": null,
   "metadata": {
    "colab": {
     "base_uri": "https://localhost:8080/"
    },
    "id": "869sT5tkHbfs",
    "outputId": "5b889e89-3100-44d8-fa89-7e1d24929160"
   },
   "outputs": [],
   "source": [
    "Y.head()"
   ]
  },
  {
   "cell_type": "markdown",
   "metadata": {
    "id": "U1TbX0nzHbfs"
   },
   "source": [
    "## Balanceo de datos"
   ]
  },
  {
   "cell_type": "markdown",
   "metadata": {
    "id": "HfjaBWDNHbfs"
   },
   "source": [
    "### Aplicando Smote"
   ]
  },
  {
   "cell_type": "code",
   "execution_count": null,
   "metadata": {
    "colab": {
     "base_uri": "https://localhost:8080/"
    },
    "id": "zqHgBWtGHbfs",
    "outputId": "fa4e1041-de37-4adc-95e7-2c34498b0f65"
   },
   "outputs": [],
   "source": [
    "from imblearn.over_sampling import SMOTE #over sobre nivelar hacia arriba under nivelacion hacia el menor dato\n",
    "#from imblearn.under_sampling import SMOTE \n",
    "\n",
    "smote = SMOTE(random_state = 325, n_jobs=-1)\n",
    "X_smote, Y_smote = smote.fit_resample(X, Y)# hace Balance de los datos a partir de los agreglos\n",
    "\n",
    "from collections import Counter\n",
    "\n",
    "Counter(Y_smote)"
   ]
  },
  {
   "cell_type": "markdown",
   "metadata": {
    "id": "VWSHrRmXHbft"
   },
   "source": [
    "## Train y test"
   ]
  },
  {
   "cell_type": "code",
   "execution_count": null,
   "metadata": {
    "id": "ylbNSBzgHbft"
   },
   "outputs": [],
   "source": [
    "from sklearn.model_selection import train_test_split\n",
    "X_train_smote, X_test_smote, Y_train_smote, Y_test_smote = train_test_split(X_smote, Y_smote, random_state=325,test_size = 0.3)\n",
    "        \n",
    "X_train, X_test, Y_train, Y_test = train_test_split(X, Y, random_state=325,test_size = 0.3)        "
   ]
  },
  {
   "cell_type": "markdown",
   "metadata": {
    "id": "HgiAb3C8Hbft"
   },
   "source": [
    "## SVM\n"
   ]
  },
  {
   "cell_type": "markdown",
   "metadata": {
    "id": "rALpdwUVHbft"
   },
   "source": [
    "###SVC "
   ]
  },
  {
   "cell_type": "markdown",
   "metadata": {
    "id": "zr85py7NHbft"
   },
   "source": [
    "#### Caso 1"
   ]
  },
  {
   "cell_type": "code",
   "execution_count": null,
   "metadata": {
    "id": "YMYLgg3iHbft"
   },
   "outputs": [],
   "source": [
    "parametros = {'C'      : np.arange(1, 5, 1),\n",
    "            'gamma'  : np.arange(1, 5, 1),\n",
    "           'kernel' : ['rbf', 'linear','sigmoid']}\n",
    "\n",
    "from sklearn.svm import SVC\n",
    "from sklearn.model_selection import GridSearchCV\n",
    "\n",
    "clf = SVC(class_weight='balanced', random_state=325)  \n",
    "grid_search = GridSearchCV(clf, parametros, n_jobs=-1, cv=5) "
   ]
  },
  {
   "cell_type": "code",
   "execution_count": null,
   "metadata": {
    "colab": {
     "base_uri": "https://localhost:8080/"
    },
    "id": "a-YDJnTpHbft",
    "outputId": "ef5a1cf1-cd2e-4490-d36f-affe6c0e0011"
   },
   "outputs": [],
   "source": [
    "grid_search.fit(X_train_smote, Y_train_smote)"
   ]
  },
  {
   "cell_type": "code",
   "execution_count": null,
   "metadata": {
    "colab": {
     "base_uri": "https://localhost:8080/"
    },
    "id": "_qvAhI76Hbft",
    "outputId": "b64f5110-0cab-4f71-a334-0cf068e6f432"
   },
   "outputs": [],
   "source": [
    "print('El mejor modelo:\\n', grid_search.best_params_)"
   ]
  },
  {
   "cell_type": "code",
   "execution_count": null,
   "metadata": {
    "id": "QVioJQOgHbft"
   },
   "outputs": [],
   "source": [
    "clf_best = grid_search.best_estimator_\n",
    "pred = clf_best.predict(X_test_smote)"
   ]
  },
  {
   "cell_type": "code",
   "execution_count": null,
   "metadata": {
    "colab": {
     "base_uri": "https://localhost:8080/"
    },
    "id": "6HswY3bpHbft",
    "outputId": "bfd31cc5-2608-4fbe-a894-f58d5e7a9237"
   },
   "outputs": [],
   "source": [
    "from sklearn.metrics import classification_report\n",
    "print(classification_report(Y_test_smote, pred))"
   ]
  },
  {
   "cell_type": "code",
   "execution_count": null,
   "metadata": {
    "colab": {
     "base_uri": "https://localhost:8080/",
     "height": 347
    },
    "id": "S3qUDDhfHbfu",
    "outputId": "58392d7e-aca3-40ef-d783-cedf40494b0b"
   },
   "outputs": [],
   "source": [
    "from sklearn.metrics import ConfusionMatrixDisplay\n",
    "\n",
    "\n",
    "disp = ConfusionMatrixDisplay.from_estimator(\n",
    "       clf_best,\n",
    "       X_test_smote,\n",
    "       Y_test_smote,\n",
    "       display_labels=None,\n",
    "       cmap=plt.cm.Blues,\n",
    "       normalize=None)\n",
    "\n",
    "disp.ax_.set_title('Matriz de Confusión')\n",
    "disp.ax_.set_xlabel('Predicción');\n",
    "disp.ax_.set_ylabel('Realidad'); \n",
    "disp.ax_.xaxis.set_ticklabels(['0', '1']); \n",
    "disp.ax_.yaxis.set_ticklabels(['0', '1']);\n",
    "\n",
    "print('Matriz de Confusión')\n",
    "print(disp.confusion_matrix)\n",
    "\n",
    "plt.show()"
   ]
  },
  {
   "cell_type": "markdown",
   "metadata": {
    "id": "vbFAMDz_Hbfu"
   },
   "source": [
    "### Nusvm"
   ]
  },
  {
   "cell_type": "markdown",
   "metadata": {
    "id": "TVoM3Q4-Hbfu"
   },
   "source": [
    "#### Caso 1"
   ]
  },
  {
   "cell_type": "code",
   "execution_count": null,
   "metadata": {
    "id": "SqoiZQZRHbfu"
   },
   "outputs": [],
   "source": [
    "parametros = {'nu'      : np.arange(0, 1, 0.1),\n",
    "            'gamma'  : ['scale','auto'],\n",
    "           'kernel' : ['rbf', 'linear','sigmoid']}\n",
    "\n",
    "from sklearn.svm import NuSVC\n",
    "from sklearn.model_selection import GridSearchCV\n",
    "\n",
    "clf = NuSVC(class_weight='balanced', random_state=325)  \n",
    "grid_search = GridSearchCV(clf, parametros, n_jobs=-1, cv=5) "
   ]
  },
  {
   "cell_type": "code",
   "execution_count": null,
   "metadata": {
    "colab": {
     "base_uri": "https://localhost:8080/"
    },
    "id": "5oC10_dzHbfu",
    "outputId": "46847fc2-d800-4d7e-da7c-70a26216ef3f"
   },
   "outputs": [],
   "source": [
    "grid_search.fit(X_train_smote, Y_train_smote)"
   ]
  },
  {
   "cell_type": "code",
   "execution_count": null,
   "metadata": {
    "colab": {
     "base_uri": "https://localhost:8080/"
    },
    "id": "RAnQWoU3Hbfu",
    "outputId": "2bf32955-3beb-4108-f88a-5372edd8c5fe"
   },
   "outputs": [],
   "source": [
    "print('El mejor modelo:\\n', grid_search.best_params_)"
   ]
  },
  {
   "cell_type": "code",
   "execution_count": null,
   "metadata": {
    "id": "WCoa39U3Hbfu"
   },
   "outputs": [],
   "source": [
    "clf_best = grid_search.best_estimator_\n",
    "pred = clf_best.predict(X_test_smote)"
   ]
  },
  {
   "cell_type": "code",
   "execution_count": null,
   "metadata": {
    "colab": {
     "base_uri": "https://localhost:8080/"
    },
    "id": "kYrMmDn_Hbfu",
    "outputId": "0f517516-fa21-4958-8bf9-be9310c7b54b"
   },
   "outputs": [],
   "source": [
    "from sklearn.metrics import classification_report\n",
    "\n",
    "print(classification_report(Y_test_smote, pred))"
   ]
  },
  {
   "cell_type": "code",
   "execution_count": null,
   "metadata": {
    "colab": {
     "base_uri": "https://localhost:8080/",
     "height": 347
    },
    "id": "Swo9EJlcHbfu",
    "outputId": "8d9549ad-a4b4-4c70-e347-f5489db63bf2"
   },
   "outputs": [],
   "source": [
    "from sklearn.metrics import ConfusionMatrixDisplay\n",
    "\n",
    "\n",
    "disp = ConfusionMatrixDisplay.from_estimator(\n",
    "       clf_best,\n",
    "       X_test_smote,\n",
    "       Y_test_smote,\n",
    "       display_labels=None,\n",
    "       cmap=plt.cm.Blues,\n",
    "       normalize=None)\n",
    "\n",
    "disp.ax_.set_title('Matriz de Confusión')\n",
    "disp.ax_.set_xlabel('Predicción');\n",
    "disp.ax_.set_ylabel('Realidad'); \n",
    "disp.ax_.xaxis.set_ticklabels(['0', '1']); \n",
    "disp.ax_.yaxis.set_ticklabels(['0', '1']);\n",
    "\n",
    "print('Matriz de Confusión')\n",
    "print(disp.confusion_matrix)\n",
    "\n",
    "plt.show()"
   ]
  }
 ],
 "metadata": {
  "colab": {
   "collapsed_sections": [
    "8MKeNpfCmADw",
    "5YVwsIC8GTkE",
    "vB56vwVThKpT",
    "eyROocQ4F8F3",
    "KQD7k7th8r9p",
    "iq_fmfj-FLbE",
    "79jlTNmxG4Cs",
    "YMk2E64tmStY",
    "Wm0iV1ksyNUF",
    "aRmzxRFPEYWf",
    "VWKGuNFJKN7h",
    "Ciq8A-OBPMoB",
    "YDjqF2GOYMNJ",
    "P4WrGu2NlxN3",
    "PcWgNR1487xm",
    "CvmDKvOr7h9u",
    "F8klIRF07h9v",
    "ZBybzqn97h9v",
    "sPOg7j8O7h9v",
    "1h7NGZZz7h9v",
    "fj5vZ17i7h9v",
    "SiBwLFn4HMc0",
    "B0hKk8VcHMc1",
    "AtbxoSTdHMc2",
    "v0RQheoFHMc2",
    "z8bFz4uzHMc2",
    "mK_JzfbmHMc3",
    "KJKUW8muHMc3",
    "9NUvnAZwHMc3",
    "yYo8Oce9HMc4",
    "eBNd_4MyHMc5",
    "qrIzTFtUHMc6",
    "u8iUvgBeHMc6",
    "Cv2eVeqzHMc6",
    "kobrjPz_HMc6",
    "looryJwmHMc6",
    "mGfRKL_EHMc6",
    "IkVCTx2RHMc7",
    "f3A0UASpHP5a",
    "MnXjlidHHP5c",
    "KGy_OPAeHP5d",
    "6zziumZ-HP5d",
    "aGkKu4LQHP5e",
    "a6b5jcwsHP5e",
    "Ype9K60bHP5e",
    "0-I1eFTsHbfo"
   ],
   "provenance": []
  },
  "kernelspec": {
   "display_name": "Python 3 (ipykernel)",
   "language": "python",
   "name": "python3"
  },
  "language_info": {
   "codemirror_mode": {
    "name": "ipython",
    "version": 3
   },
   "file_extension": ".py",
   "mimetype": "text/x-python",
   "name": "python",
   "nbconvert_exporter": "python",
   "pygments_lexer": "ipython3",
   "version": "3.10.4"
  }
 },
 "nbformat": 4,
 "nbformat_minor": 4
}
