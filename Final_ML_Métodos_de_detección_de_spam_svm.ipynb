{
 "cells": [
  {
   "cell_type": "markdown",
   "metadata": {
    "id": "8MKeNpfCmADw"
   },
   "source": [
    "# Instalar Tensorflow"
   ]
  },
  {
   "cell_type": "code",
   "execution_count": 1,
   "metadata": {
    "id": "TtLvhsPWetXV"
   },
   "outputs": [],
   "source": [
    "# 2do paso: importe los siguientes módulos:\n",
    "\n",
    "import pandas as pd\n",
    "import numpy as np\n",
    "import tensorflow_hub as hub\n",
    "import tensorflow_text as text\n",
    "from bs4 import BeautifulSoup # para trabajar texto en varios formatos\n",
    "import re # expresiones regulares"
   ]
  },
  {
   "cell_type": "markdown",
   "metadata": {
    "id": "5YVwsIC8GTkE"
   },
   "source": [
    "#importar datos\n"
   ]
  },
  {
   "cell_type": "code",
   "execution_count": 2,
   "metadata": {
    "id": "48r28wQRVVOx"
   },
   "outputs": [],
   "source": [
    "df = pd.read_csv(\"SMSSpamCollection(Filtrada).csv\", on_bad_lines='skip', sep=';')"
   ]
  },
  {
   "cell_type": "code",
   "execution_count": 3,
   "metadata": {
    "colab": {
     "base_uri": "https://localhost:8080/",
     "height": 424
    },
    "id": "chZKlybhEqY5",
    "outputId": "ba64afa7-6f3a-4f27-eb3f-d01486f1a283"
   },
   "outputs": [
    {
     "data": {
      "text/html": [
       "<div>\n",
       "<style scoped>\n",
       "    .dataframe tbody tr th:only-of-type {\n",
       "        vertical-align: middle;\n",
       "    }\n",
       "\n",
       "    .dataframe tbody tr th {\n",
       "        vertical-align: top;\n",
       "    }\n",
       "\n",
       "    .dataframe thead th {\n",
       "        text-align: right;\n",
       "    }\n",
       "</style>\n",
       "<table border=\"1\" class=\"dataframe\">\n",
       "  <thead>\n",
       "    <tr style=\"text-align: right;\">\n",
       "      <th></th>\n",
       "      <th>resultado</th>\n",
       "      <th>mensaje</th>\n",
       "    </tr>\n",
       "  </thead>\n",
       "  <tbody>\n",
       "    <tr>\n",
       "      <th>0</th>\n",
       "      <td>spam</td>\n",
       "      <td>Free entry in 2 a wkly comp to win FA Cup fina...</td>\n",
       "    </tr>\n",
       "    <tr>\n",
       "      <th>1</th>\n",
       "      <td>spam</td>\n",
       "      <td>FreeMsg Hey there darling it's been 3 week's n...</td>\n",
       "    </tr>\n",
       "    <tr>\n",
       "      <th>2</th>\n",
       "      <td>ham</td>\n",
       "      <td>As per your request 'Melle Melle (Oru Minnamin...</td>\n",
       "    </tr>\n",
       "    <tr>\n",
       "      <th>3</th>\n",
       "      <td>spam</td>\n",
       "      <td>WINNER!! As a valued network customer you have...</td>\n",
       "    </tr>\n",
       "    <tr>\n",
       "      <th>4</th>\n",
       "      <td>spam</td>\n",
       "      <td>Had your mobile 11 months or more? U R entitle...</td>\n",
       "    </tr>\n",
       "    <tr>\n",
       "      <th>...</th>\n",
       "      <td>...</td>\n",
       "      <td>...</td>\n",
       "    </tr>\n",
       "    <tr>\n",
       "      <th>1285</th>\n",
       "      <td>spam</td>\n",
       "      <td>Had your contract mobile 11 Mnths? Latest Moto...</td>\n",
       "    </tr>\n",
       "    <tr>\n",
       "      <th>1286</th>\n",
       "      <td>ham</td>\n",
       "      <td>Yeh. Indians was nice. Tho it did kane me off ...</td>\n",
       "    </tr>\n",
       "    <tr>\n",
       "      <th>1287</th>\n",
       "      <td>spam</td>\n",
       "      <td>REMINDER FROM O2: To get 2.50 pounds free call...</td>\n",
       "    </tr>\n",
       "    <tr>\n",
       "      <th>1288</th>\n",
       "      <td>spam</td>\n",
       "      <td>This is the 2nd time we have tried 2 contact u...</td>\n",
       "    </tr>\n",
       "    <tr>\n",
       "      <th>1289</th>\n",
       "      <td>ham</td>\n",
       "      <td>The guy did some bitching but I acted like i'd...</td>\n",
       "    </tr>\n",
       "  </tbody>\n",
       "</table>\n",
       "<p>1290 rows × 2 columns</p>\n",
       "</div>"
      ],
      "text/plain": [
       "     resultado                                            mensaje\n",
       "0         spam  Free entry in 2 a wkly comp to win FA Cup fina...\n",
       "1         spam  FreeMsg Hey there darling it's been 3 week's n...\n",
       "2          ham  As per your request 'Melle Melle (Oru Minnamin...\n",
       "3         spam  WINNER!! As a valued network customer you have...\n",
       "4         spam  Had your mobile 11 months or more? U R entitle...\n",
       "...        ...                                                ...\n",
       "1285      spam  Had your contract mobile 11 Mnths? Latest Moto...\n",
       "1286       ham  Yeh. Indians was nice. Tho it did kane me off ...\n",
       "1287      spam  REMINDER FROM O2: To get 2.50 pounds free call...\n",
       "1288      spam  This is the 2nd time we have tried 2 contact u...\n",
       "1289       ham  The guy did some bitching but I acted like i'd...\n",
       "\n",
       "[1290 rows x 2 columns]"
      ]
     },
     "execution_count": 3,
     "metadata": {},
     "output_type": "execute_result"
    }
   ],
   "source": [
    "df"
   ]
  },
  {
   "cell_type": "markdown",
   "metadata": {
    "id": "vB56vwVThKpT"
   },
   "source": [
    "#Análisis exploratorio"
   ]
  },
  {
   "cell_type": "code",
   "execution_count": 4,
   "metadata": {
    "id": "IcxBm-L8YSaN"
   },
   "outputs": [],
   "source": [
    "#import libraries\n",
    "import pandas as pd\n",
    "import seaborn as sns\n",
    "import numpy as np\n",
    "import matplotlib.pyplot as plt\n",
    "import warnings\n",
    "warnings.filterwarnings('ignore')"
   ]
  },
  {
   "cell_type": "code",
   "execution_count": 5,
   "metadata": {
    "id": "KqZh7rh3be7g"
   },
   "outputs": [],
   "source": [
    "#funcion resumen de un dataframe\n",
    "\n",
    "def resumen(data):\n",
    "  total_perdidos = data.isnull().sum().sum()\n",
    "  missing_percent = data.isnull().sum()*100 /len(data)\n",
    "  total_missing = data.isnull().sum()\n",
    "  unique = data.nunique()\n",
    "  not_null = data.notnull().sum()\n",
    "  df = pd.DataFrame({\n",
    "      'Valores Unicos' : unique,\n",
    "      'Valores Existentes': not_null,\n",
    "      'Total perdidos': total_missing,\n",
    "      'Porc. perdidos %': missing_percent\n",
    "  })\n",
    "  tipos = data.dtypes\n",
    "  numericas = tipos[tipos != object].index\n",
    "  no_numericas = tipos[tipos == object].index\n",
    "  print('1. Las dimensiones de la data:', data.shape)\n",
    "  print('2. Total Datos perdidos son:', total_perdidos)\n",
    "  print('3. La cantidad de variables numericas es: ', len(numericas), '\\n   Y ellas son:\\n', numericas)\n",
    "  print('4. La cantidad de variables NO numericas es: ', len(no_numericas), '\\n  Y ellas son:\\n', no_numericas)\n",
    "  df = df.round(2)\n",
    "  return(df)"
   ]
  },
  {
   "cell_type": "code",
   "execution_count": 6,
   "metadata": {
    "colab": {
     "base_uri": "https://localhost:8080/",
     "height": 251
    },
    "id": "k1UM0twDbmkM",
    "outputId": "ddd52d7c-0390-44a6-afa5-af9a39767b30"
   },
   "outputs": [
    {
     "name": "stdout",
     "output_type": "stream",
     "text": [
      "1. Las dimensiones de la data: (1290, 2)\n",
      "2. Total Datos perdidos son: 0\n",
      "3. La cantidad de variables numericas es:  0 \n",
      "   Y ellas son:\n",
      " Index([], dtype='object')\n",
      "4. La cantidad de variables NO numericas es:  2 \n",
      "  Y ellas son:\n",
      " Index(['resultado', 'mensaje'], dtype='object')\n"
     ]
    },
    {
     "data": {
      "text/html": [
       "<div>\n",
       "<style scoped>\n",
       "    .dataframe tbody tr th:only-of-type {\n",
       "        vertical-align: middle;\n",
       "    }\n",
       "\n",
       "    .dataframe tbody tr th {\n",
       "        vertical-align: top;\n",
       "    }\n",
       "\n",
       "    .dataframe thead th {\n",
       "        text-align: right;\n",
       "    }\n",
       "</style>\n",
       "<table border=\"1\" class=\"dataframe\">\n",
       "  <thead>\n",
       "    <tr style=\"text-align: right;\">\n",
       "      <th></th>\n",
       "      <th>Valores Unicos</th>\n",
       "      <th>Valores Existentes</th>\n",
       "      <th>Total perdidos</th>\n",
       "      <th>Porc. perdidos %</th>\n",
       "    </tr>\n",
       "  </thead>\n",
       "  <tbody>\n",
       "    <tr>\n",
       "      <th>resultado</th>\n",
       "      <td>2</td>\n",
       "      <td>1290</td>\n",
       "      <td>0</td>\n",
       "      <td>0.0</td>\n",
       "    </tr>\n",
       "    <tr>\n",
       "      <th>mensaje</th>\n",
       "      <td>1148</td>\n",
       "      <td>1290</td>\n",
       "      <td>0</td>\n",
       "      <td>0.0</td>\n",
       "    </tr>\n",
       "  </tbody>\n",
       "</table>\n",
       "</div>"
      ],
      "text/plain": [
       "           Valores Unicos  Valores Existentes  Total perdidos  \\\n",
       "resultado               2                1290               0   \n",
       "mensaje              1148                1290               0   \n",
       "\n",
       "           Porc. perdidos %  \n",
       "resultado               0.0  \n",
       "mensaje                 0.0  "
      ]
     },
     "execution_count": 6,
     "metadata": {},
     "output_type": "execute_result"
    }
   ],
   "source": [
    "resumen(df)"
   ]
  },
  {
   "cell_type": "code",
   "execution_count": 7,
   "metadata": {
    "colab": {
     "base_uri": "https://localhost:8080/"
    },
    "id": "Uu1qJ9sybteb",
    "outputId": "de68f8dd-7a9b-430c-b261-c69e519d4dd7"
   },
   "outputs": [
    {
     "data": {
      "text/plain": [
       "resultado\n",
       "ham     668\n",
       "spam    622\n",
       "dtype: int64"
      ]
     },
     "execution_count": 7,
     "metadata": {},
     "output_type": "execute_result"
    }
   ],
   "source": [
    "df.groupby('resultado').size()"
   ]
  },
  {
   "cell_type": "code",
   "execution_count": 8,
   "metadata": {
    "colab": {
     "base_uri": "https://localhost:8080/",
     "height": 347
    },
    "id": "QdzawPgJ0gpf",
    "outputId": "efdede51-7218-47cf-8d73-b6d9611a4cda"
   },
   "outputs": [
    {
     "name": "stdout",
     "output_type": "stream",
     "text": [
      "ham     668\n",
      "spam    622\n",
      "Name: resultado, dtype: int64\n"
     ]
    },
    {
     "data": {
      "image/png": "[encoded data removed]",
      "text/plain": [
       "<Figure size 432x288 with 1 Axes>"
      ]
     },
     "metadata": {
      "needs_background": "light"
     },
     "output_type": "display_data"
    }
   ],
   "source": [
    "sns.countplot(df['resultado'])\n",
    "print(df['resultado'].value_counts())\n",
    "plt.title(\"resultado\")\n",
    "plt.show()"
   ]
  },
  {
   "cell_type": "code",
   "execution_count": 9,
   "metadata": {
    "colab": {
     "base_uri": "https://localhost:8080/"
    },
    "id": "kNLivMryOc1X",
    "outputId": "5636f3f5-b366-4d1d-a7f4-73130fc7e1d9"
   },
   "outputs": [
    {
     "name": "stdout",
     "output_type": "stream",
     "text": [
      "resultado 2\n",
      "mensaje 1148\n"
     ]
    }
   ],
   "source": [
    "for i in df:\n",
    "  print(i, len(df[i].unique()))"
   ]
  },
  {
   "cell_type": "markdown",
   "metadata": {
    "id": "RYGcpvRNOi3B"
   },
   "source": [
    "Debemos etiquetar a los textos convertidos a vectores"
   ]
  },
  {
   "cell_type": "code",
   "execution_count": 10,
   "metadata": {
    "colab": {
     "base_uri": "https://localhost:8080/"
    },
    "id": "7AnO-GZ3Osod",
    "outputId": "36045f73-b97c-4b3e-a5a9-a01acb939c2b"
   },
   "outputs": [
    {
     "data": {
      "text/plain": [
       "0       spam\n",
       "1       spam\n",
       "2        ham\n",
       "3       spam\n",
       "4       spam\n",
       "        ... \n",
       "1285    spam\n",
       "1286     ham\n",
       "1287    spam\n",
       "1288    spam\n",
       "1289     ham\n",
       "Name: resultado, Length: 1290, dtype: object"
      ]
     },
     "execution_count": 10,
     "metadata": {},
     "output_type": "execute_result"
    }
   ],
   "source": [
    "df['resultado']"
   ]
  },
  {
   "cell_type": "markdown",
   "metadata": {
    "id": "eyROocQ4F8F3"
   },
   "source": [
    "#SECCION CON DATOS PROCESADOS"
   ]
  },
  {
   "cell_type": "markdown",
   "metadata": {
    "id": "KQD7k7th8r9p"
   },
   "source": [
    "## Preprocesamiento de texto\n"
   ]
  },
  {
   "cell_type": "code",
   "execution_count": 11,
   "metadata": {
    "colab": {
     "base_uri": "https://localhost:8080/",
     "height": 424
    },
    "id": "bW18wZFs82yR",
    "outputId": "ac66be3c-f670-4b28-fb02-668030b33964"
   },
   "outputs": [
    {
     "data": {
      "text/html": [
       "<div>\n",
       "<style scoped>\n",
       "    .dataframe tbody tr th:only-of-type {\n",
       "        vertical-align: middle;\n",
       "    }\n",
       "\n",
       "    .dataframe tbody tr th {\n",
       "        vertical-align: top;\n",
       "    }\n",
       "\n",
       "    .dataframe thead th {\n",
       "        text-align: right;\n",
       "    }\n",
       "</style>\n",
       "<table border=\"1\" class=\"dataframe\">\n",
       "  <thead>\n",
       "    <tr style=\"text-align: right;\">\n",
       "      <th></th>\n",
       "      <th>resultado</th>\n",
       "      <th>mensaje</th>\n",
       "    </tr>\n",
       "  </thead>\n",
       "  <tbody>\n",
       "    <tr>\n",
       "      <th>0</th>\n",
       "      <td>spam</td>\n",
       "      <td>Free entry in 2 a wkly comp to win FA Cup fina...</td>\n",
       "    </tr>\n",
       "    <tr>\n",
       "      <th>1</th>\n",
       "      <td>spam</td>\n",
       "      <td>FreeMsg Hey there darling it's been 3 week's n...</td>\n",
       "    </tr>\n",
       "    <tr>\n",
       "      <th>2</th>\n",
       "      <td>ham</td>\n",
       "      <td>As per your request 'Melle Melle (Oru Minnamin...</td>\n",
       "    </tr>\n",
       "    <tr>\n",
       "      <th>3</th>\n",
       "      <td>spam</td>\n",
       "      <td>WINNER!! As a valued network customer you have...</td>\n",
       "    </tr>\n",
       "    <tr>\n",
       "      <th>4</th>\n",
       "      <td>spam</td>\n",
       "      <td>Had your mobile 11 months or more? U R entitle...</td>\n",
       "    </tr>\n",
       "    <tr>\n",
       "      <th>...</th>\n",
       "      <td>...</td>\n",
       "      <td>...</td>\n",
       "    </tr>\n",
       "    <tr>\n",
       "      <th>1285</th>\n",
       "      <td>spam</td>\n",
       "      <td>Had your contract mobile 11 Mnths? Latest Moto...</td>\n",
       "    </tr>\n",
       "    <tr>\n",
       "      <th>1286</th>\n",
       "      <td>ham</td>\n",
       "      <td>Yeh. Indians was nice. Tho it did kane me off ...</td>\n",
       "    </tr>\n",
       "    <tr>\n",
       "      <th>1287</th>\n",
       "      <td>spam</td>\n",
       "      <td>REMINDER FROM O2: To get 2.50 pounds free call...</td>\n",
       "    </tr>\n",
       "    <tr>\n",
       "      <th>1288</th>\n",
       "      <td>spam</td>\n",
       "      <td>This is the 2nd time we have tried 2 contact u...</td>\n",
       "    </tr>\n",
       "    <tr>\n",
       "      <th>1289</th>\n",
       "      <td>ham</td>\n",
       "      <td>The guy did some bitching but I acted like i'd...</td>\n",
       "    </tr>\n",
       "  </tbody>\n",
       "</table>\n",
       "<p>1290 rows × 2 columns</p>\n",
       "</div>"
      ],
      "text/plain": [
       "     resultado                                            mensaje\n",
       "0         spam  Free entry in 2 a wkly comp to win FA Cup fina...\n",
       "1         spam  FreeMsg Hey there darling it's been 3 week's n...\n",
       "2          ham  As per your request 'Melle Melle (Oru Minnamin...\n",
       "3         spam  WINNER!! As a valued network customer you have...\n",
       "4         spam  Had your mobile 11 months or more? U R entitle...\n",
       "...        ...                                                ...\n",
       "1285      spam  Had your contract mobile 11 Mnths? Latest Moto...\n",
       "1286       ham  Yeh. Indians was nice. Tho it did kane me off ...\n",
       "1287      spam  REMINDER FROM O2: To get 2.50 pounds free call...\n",
       "1288      spam  This is the 2nd time we have tried 2 contact u...\n",
       "1289       ham  The guy did some bitching but I acted like i'd...\n",
       "\n",
       "[1290 rows x 2 columns]"
      ]
     },
     "execution_count": 11,
     "metadata": {},
     "output_type": "execute_result"
    }
   ],
   "source": [
    "df"
   ]
  },
  {
   "cell_type": "code",
   "execution_count": 12,
   "metadata": {
    "id": "ILNcU9Ic8xXP"
   },
   "outputs": [],
   "source": [
    "df['resultado'] = df['resultado'].apply(lambda x:1 if x == 'ham' else 0) "
   ]
  },
  {
   "cell_type": "code",
   "execution_count": 13,
   "metadata": {
    "colab": {
     "base_uri": "https://localhost:8080/",
     "height": 424
    },
    "id": "p0knn77F83kO",
    "outputId": "7157253e-f388-42a1-e101-3592e8aa1e74"
   },
   "outputs": [
    {
     "data": {
      "text/html": [
       "<div>\n",
       "<style scoped>\n",
       "    .dataframe tbody tr th:only-of-type {\n",
       "        vertical-align: middle;\n",
       "    }\n",
       "\n",
       "    .dataframe tbody tr th {\n",
       "        vertical-align: top;\n",
       "    }\n",
       "\n",
       "    .dataframe thead th {\n",
       "        text-align: right;\n",
       "    }\n",
       "</style>\n",
       "<table border=\"1\" class=\"dataframe\">\n",
       "  <thead>\n",
       "    <tr style=\"text-align: right;\">\n",
       "      <th></th>\n",
       "      <th>resultado</th>\n",
       "      <th>mensaje</th>\n",
       "    </tr>\n",
       "  </thead>\n",
       "  <tbody>\n",
       "    <tr>\n",
       "      <th>0</th>\n",
       "      <td>0</td>\n",
       "      <td>Free entry in 2 a wkly comp to win FA Cup fina...</td>\n",
       "    </tr>\n",
       "    <tr>\n",
       "      <th>1</th>\n",
       "      <td>0</td>\n",
       "      <td>FreeMsg Hey there darling it's been 3 week's n...</td>\n",
       "    </tr>\n",
       "    <tr>\n",
       "      <th>2</th>\n",
       "      <td>1</td>\n",
       "      <td>As per your request 'Melle Melle (Oru Minnamin...</td>\n",
       "    </tr>\n",
       "    <tr>\n",
       "      <th>3</th>\n",
       "      <td>0</td>\n",
       "      <td>WINNER!! As a valued network customer you have...</td>\n",
       "    </tr>\n",
       "    <tr>\n",
       "      <th>4</th>\n",
       "      <td>0</td>\n",
       "      <td>Had your mobile 11 months or more? U R entitle...</td>\n",
       "    </tr>\n",
       "    <tr>\n",
       "      <th>...</th>\n",
       "      <td>...</td>\n",
       "      <td>...</td>\n",
       "    </tr>\n",
       "    <tr>\n",
       "      <th>1285</th>\n",
       "      <td>0</td>\n",
       "      <td>Had your contract mobile 11 Mnths? Latest Moto...</td>\n",
       "    </tr>\n",
       "    <tr>\n",
       "      <th>1286</th>\n",
       "      <td>1</td>\n",
       "      <td>Yeh. Indians was nice. Tho it did kane me off ...</td>\n",
       "    </tr>\n",
       "    <tr>\n",
       "      <th>1287</th>\n",
       "      <td>0</td>\n",
       "      <td>REMINDER FROM O2: To get 2.50 pounds free call...</td>\n",
       "    </tr>\n",
       "    <tr>\n",
       "      <th>1288</th>\n",
       "      <td>0</td>\n",
       "      <td>This is the 2nd time we have tried 2 contact u...</td>\n",
       "    </tr>\n",
       "    <tr>\n",
       "      <th>1289</th>\n",
       "      <td>1</td>\n",
       "      <td>The guy did some bitching but I acted like i'd...</td>\n",
       "    </tr>\n",
       "  </tbody>\n",
       "</table>\n",
       "<p>1290 rows × 2 columns</p>\n",
       "</div>"
      ],
      "text/plain": [
       "      resultado                                            mensaje\n",
       "0             0  Free entry in 2 a wkly comp to win FA Cup fina...\n",
       "1             0  FreeMsg Hey there darling it's been 3 week's n...\n",
       "2             1  As per your request 'Melle Melle (Oru Minnamin...\n",
       "3             0  WINNER!! As a valued network customer you have...\n",
       "4             0  Had your mobile 11 months or more? U R entitle...\n",
       "...         ...                                                ...\n",
       "1285          0  Had your contract mobile 11 Mnths? Latest Moto...\n",
       "1286          1  Yeh. Indians was nice. Tho it did kane me off ...\n",
       "1287          0  REMINDER FROM O2: To get 2.50 pounds free call...\n",
       "1288          0  This is the 2nd time we have tried 2 contact u...\n",
       "1289          1  The guy did some bitching but I acted like i'd...\n",
       "\n",
       "[1290 rows x 2 columns]"
      ]
     },
     "execution_count": 13,
     "metadata": {},
     "output_type": "execute_result"
    }
   ],
   "source": [
    "df"
   ]
  },
  {
   "cell_type": "markdown",
   "metadata": {
    "id": "iq_fmfj-FLbE"
   },
   "source": [
    "## Limpieza de datos"
   ]
  },
  {
   "cell_type": "code",
   "execution_count": 14,
   "metadata": {
    "colab": {
     "base_uri": "https://localhost:8080/"
    },
    "id": "Xl3_YxZr_mVj",
    "outputId": "0210234c-02d9-48ce-cdd6-91925d4b4435"
   },
   "outputs": [],
   "source": [
    "# El código anterior me trae la última versión de keras\n",
    "try:\n",
    "  %tensorflow_version 2.x\n",
    "except Exception:\n",
    "  pass\n",
    "  \n",
    "import tensorflow as tf\n",
    "\n",
    "from tensorflow.keras import layers # importar layers desde keras\n",
    "\n",
    "import tensorflow_datasets as tfds # este me trae los tokens"
   ]
  },
  {
   "cell_type": "code",
   "execution_count": 15,
   "metadata": {
    "id": "A44G9k2EFFCz"
   },
   "outputs": [],
   "source": [
    "def clean_tweet(tweet):\n",
    "\n",
    "  tweet= BeautifulSoup(tweet,\"lxml\").get_text() # sirve para trabajar en un formato especial de tratar el texto. hay que usar el get_text para que me lo devuela en un formato legible\n",
    "  \n",
    "  # Dejamos todo en minúscula\n",
    "  tweet = tweet.lower()\n",
    "  # Reemplazamos puntos por espacios\n",
    "  tweet = tweet.replace(\".\",\" \")\n",
    "  # Eliminamos la @ y su mención\n",
    "  tweet = re.sub(r\"@[A-Za-z0-9.]+\",' ',tweet) # después del @ puede leer lo que se encuentra en el []. El + significa. El r significa raw o string\n",
    "  # Eliminamos los links de la URLs\n",
    "  tweet = re.sub(r\"https?://[A-Za-z0-9./]+\",' ', tweet) # aqui el ? me dice que el caracter anterior puede estar o no\n",
    "  # Nos quedamos solo con los caracteres\n",
    "  tweet = re.sub(r\"[^a-zA-Z.!?']\",' ',tweet)# cualquier cosa que no sea lo que viene después de ^ se va a sustituir por espacios en blanco\n",
    "  # Eliminamos los sitios web\n",
    "  tweet = re.sub(r\"www[A-Za-z0-9./]+\",' ', tweet)\n",
    "  # Eliminamos espacios en blanco adicionales\n",
    "  tweet = re.sub(r\" +\",' ',tweet)# si existe más de un espacio en blanco lo reemplazamos por uno solo. El más me dice eso, si hay más de uno reemplazo\n",
    "  return tweet"
   ]
  },
  {
   "cell_type": "code",
   "execution_count": 16,
   "metadata": {
    "id": "Qk5XMMJXFaF7"
   },
   "outputs": [],
   "source": [
    "df_clean = [clean_tweet(tweet) for tweet in df.mensaje] # esto me queda en una lista guardado"
   ]
  },
  {
   "cell_type": "markdown",
   "metadata": {
    "id": "79jlTNmxG4Cs"
   },
   "source": [
    "# Embedding small bert mas Sencillo 128 vectores\n",
    "https://tfhub.dev/tensorflow/small_bert/bert_en_uncased_L-2_H-128_A-2/2"
   ]
  },
  {
   "cell_type": "markdown",
   "metadata": {
    "id": "YMk2E64tmStY"
   },
   "source": [
    "## transformar texto (Embedding)"
   ]
  },
  {
   "cell_type": "code",
   "execution_count": 17,
   "metadata": {
    "id": "d3pfA9QegQ1O"
   },
   "outputs": [
    {
     "name": "stderr",
     "output_type": "stream",
     "text": [
      "2022-09-07 02:02:14.386583: E tensorflow/stream_executor/cuda/cuda_driver.cc:271] failed call to cuInit: CUDA_ERROR_NO_DEVICE: no CUDA-capable device is detected\n",
      "2022-09-07 02:02:14.386652: I tensorflow/stream_executor/cuda/cuda_diagnostics.cc:156] kernel driver does not appear to be running on this host (jupyter): /proc/driver/nvidia/version does not exist\n",
      "2022-09-07 02:02:14.387027: I tensorflow/core/platform/cpu_feature_guard.cc:193] This TensorFlow binary is optimized with oneAPI Deep Neural Network Library (oneDNN) to use the following CPU instructions in performance-critical operations:  AVX2 FMA\n",
      "To enable them in other operations, rebuild TensorFlow with the appropriate compiler flags.\n"
     ]
    }
   ],
   "source": [
    "# 4to paso: Vamos a crear dos variables que cargaran en memoria dos funciones para transformar el texto\n",
    "##\n",
    "##   - preprocessor: \"objeto\" que se encargará de transformar el texto en el formato que necesita el modelo BERT para funcionar\n",
    "##   - encoder: \"objeto\" que será el modelo BERT y se alimentará del resultado de preprocessor, retornando el texto transformado en un vector numérico.\n",
    "\n",
    "preprocessor = hub.load(\"https://tfhub.dev/tensorflow/bert_en_uncased_preprocess/3\")\n",
    "encoder = hub.load(\"https://tfhub.dev/tensorflow/small_bert/bert_en_uncased_L-2_H-128_A-2/2\")"
   ]
  },
  {
   "cell_type": "code",
   "execution_count": 18,
   "metadata": {
    "id": "uq5Us0iIJKcW"
   },
   "outputs": [],
   "source": [
    "# 5to paso: Vamos a usar el objeto preprocessor, y guardamos su resultado en la variable embedding\n",
    "##   A modo de ejemplo para su revisión, solo vamos a transformar dos textos:\n",
    "\n",
    "embedding = preprocessor(df_clean) # df_clean es el texto"
   ]
  },
  {
   "cell_type": "code",
   "execution_count": 19,
   "metadata": {
    "id": "KDjYrWncJS0M"
   },
   "outputs": [],
   "source": [
    "# 6to paso: Vamos a codificar el texto con el modelo BERT:\n",
    "##   - Fijarse que el objeto encoder recibe como argumento la variable embedding (resultado de preprocessor)\n",
    "##   - Copiar el siguiente código de forma literal\n",
    "\n",
    "pooled_output = encoder(embedding)[\"pooled_output\"]"
   ]
  },
  {
   "cell_type": "code",
   "execution_count": 20,
   "metadata": {
    "colab": {
     "base_uri": "https://localhost:8080/"
    },
    "id": "nMFJURJvJsMm",
    "outputId": "337f22e3-aa72-4ff2-cf45-49e821bd2421"
   },
   "outputs": [
    {
     "data": {
      "text/plain": [
       "<tf.Tensor: shape=(1290, 128), dtype=float32, numpy=\n",
       "array([[-0.999942  , -0.00141432, -0.9810854 , ...,  0.98082685,\n",
       "         0.98178196,  0.96391606],\n",
       "       [-0.9991202 ,  0.05296545, -0.98559695, ...,  0.9239925 ,\n",
       "         0.9558225 ,  0.9984839 ],\n",
       "       [-0.99986243,  0.03978845, -0.9731644 , ...,  0.73242617,\n",
       "         0.97078604,  0.9766909 ],\n",
       "       ...,\n",
       "       [-0.99998385,  0.03318283, -0.99550444, ...,  0.95926076,\n",
       "         0.9974625 ,  0.964273  ],\n",
       "       [-0.9999856 ,  0.12238986, -0.9896998 , ...,  0.98565155,\n",
       "         0.96824807,  0.9937904 ],\n",
       "       [-0.9996448 ,  0.09184259, -0.9976636 , ...,  0.90646094,\n",
       "         0.9652779 ,  0.9989037 ]], dtype=float32)>"
      ]
     },
     "execution_count": 20,
     "metadata": {},
     "output_type": "execute_result"
    }
   ],
   "source": [
    "# Opcional: revisamos el contenido de la variable pooled_output, el cual tiene dos vectores de 128 dimensiones\n",
    "##\n",
    "##    - Dos vectores, porque le pasamos solo dos textos\n",
    "##    - 128 dimensiones, porque el modelo BERT utilizado convierte cualquier texto (independiente del largo) en un vector numérico de 128 dimensiones.\n",
    "\n",
    "pooled_output"
   ]
  },
  {
   "cell_type": "code",
   "execution_count": 21,
   "metadata": {
    "id": "66V1clqHKQ_K"
   },
   "outputs": [],
   "source": [
    "# 7mo paso: El contenido de la variable pooled_output es una estructura de datos de tipo tensorflow.\n",
    "#           Para transformarlo a un dataframe y usarlo de forma tradicional con los modelos clásicos, \n",
    "#           ejecutamos la siguiente linea de código:\n",
    "\n",
    "dataX2 = pd.DataFrame(pooled_output.numpy())"
   ]
  },
  {
   "cell_type": "code",
   "execution_count": 22,
   "metadata": {
    "colab": {
     "base_uri": "https://localhost:8080/"
    },
    "id": "IMh7uL3wKQ_K",
    "outputId": "2e3539f8-38dd-4ea8-c412-82f9c5f0cc65"
   },
   "outputs": [
    {
     "data": {
      "text/plain": [
       "(1290, 128)"
      ]
     },
     "execution_count": 22,
     "metadata": {},
     "output_type": "execute_result"
    }
   ],
   "source": [
    "# Opcional:  Ahora la variable dataX es un dataframe y podemos revisar su dimensionalidad y visualizarlo:\n",
    "dataX2.shape"
   ]
  },
  {
   "cell_type": "code",
   "execution_count": 23,
   "metadata": {
    "colab": {
     "base_uri": "https://localhost:8080/",
     "height": 424
    },
    "id": "pi-Dg4THKQ_L",
    "outputId": "968f3b2f-a763-4544-eebe-de6ba4fccb1b"
   },
   "outputs": [
    {
     "data": {
      "text/html": [
       "<div>\n",
       "<style scoped>\n",
       "    .dataframe tbody tr th:only-of-type {\n",
       "        vertical-align: middle;\n",
       "    }\n",
       "\n",
       "    .dataframe tbody tr th {\n",
       "        vertical-align: top;\n",
       "    }\n",
       "\n",
       "    .dataframe thead th {\n",
       "        text-align: right;\n",
       "    }\n",
       "</style>\n",
       "<table border=\"1\" class=\"dataframe\">\n",
       "  <thead>\n",
       "    <tr style=\"text-align: right;\">\n",
       "      <th></th>\n",
       "      <th>0</th>\n",
       "      <th>1</th>\n",
       "      <th>2</th>\n",
       "      <th>3</th>\n",
       "      <th>4</th>\n",
       "      <th>5</th>\n",
       "      <th>6</th>\n",
       "      <th>7</th>\n",
       "      <th>8</th>\n",
       "      <th>9</th>\n",
       "      <th>...</th>\n",
       "      <th>118</th>\n",
       "      <th>119</th>\n",
       "      <th>120</th>\n",
       "      <th>121</th>\n",
       "      <th>122</th>\n",
       "      <th>123</th>\n",
       "      <th>124</th>\n",
       "      <th>125</th>\n",
       "      <th>126</th>\n",
       "      <th>127</th>\n",
       "    </tr>\n",
       "  </thead>\n",
       "  <tbody>\n",
       "    <tr>\n",
       "      <th>0</th>\n",
       "      <td>-0.999942</td>\n",
       "      <td>-0.001414</td>\n",
       "      <td>-0.981085</td>\n",
       "      <td>-0.484473</td>\n",
       "      <td>-0.948341</td>\n",
       "      <td>0.171350</td>\n",
       "      <td>-0.981562</td>\n",
       "      <td>-0.706304</td>\n",
       "      <td>-0.006808</td>\n",
       "      <td>-0.095359</td>\n",
       "      <td>...</td>\n",
       "      <td>0.128026</td>\n",
       "      <td>-0.990112</td>\n",
       "      <td>0.187941</td>\n",
       "      <td>-0.998624</td>\n",
       "      <td>-0.819512</td>\n",
       "      <td>0.877467</td>\n",
       "      <td>-0.999149</td>\n",
       "      <td>0.980827</td>\n",
       "      <td>0.981782</td>\n",
       "      <td>0.963916</td>\n",
       "    </tr>\n",
       "    <tr>\n",
       "      <th>1</th>\n",
       "      <td>-0.999120</td>\n",
       "      <td>0.052965</td>\n",
       "      <td>-0.985597</td>\n",
       "      <td>0.318218</td>\n",
       "      <td>-0.978574</td>\n",
       "      <td>-0.563376</td>\n",
       "      <td>-0.998118</td>\n",
       "      <td>0.185895</td>\n",
       "      <td>0.121993</td>\n",
       "      <td>0.005437</td>\n",
       "      <td>...</td>\n",
       "      <td>0.155417</td>\n",
       "      <td>-0.251321</td>\n",
       "      <td>0.236179</td>\n",
       "      <td>-0.999170</td>\n",
       "      <td>-0.642842</td>\n",
       "      <td>0.981704</td>\n",
       "      <td>-0.992995</td>\n",
       "      <td>0.923993</td>\n",
       "      <td>0.955823</td>\n",
       "      <td>0.998484</td>\n",
       "    </tr>\n",
       "    <tr>\n",
       "      <th>2</th>\n",
       "      <td>-0.999862</td>\n",
       "      <td>0.039788</td>\n",
       "      <td>-0.973164</td>\n",
       "      <td>0.168508</td>\n",
       "      <td>-0.969527</td>\n",
       "      <td>-0.213720</td>\n",
       "      <td>-0.988347</td>\n",
       "      <td>-0.972103</td>\n",
       "      <td>-0.031048</td>\n",
       "      <td>-0.025507</td>\n",
       "      <td>...</td>\n",
       "      <td>0.133916</td>\n",
       "      <td>-0.986624</td>\n",
       "      <td>0.169207</td>\n",
       "      <td>-0.999534</td>\n",
       "      <td>-0.628558</td>\n",
       "      <td>0.798255</td>\n",
       "      <td>-0.977197</td>\n",
       "      <td>0.732426</td>\n",
       "      <td>0.970786</td>\n",
       "      <td>0.976691</td>\n",
       "    </tr>\n",
       "    <tr>\n",
       "      <th>3</th>\n",
       "      <td>-0.999984</td>\n",
       "      <td>0.044671</td>\n",
       "      <td>-0.993844</td>\n",
       "      <td>0.591809</td>\n",
       "      <td>-0.880615</td>\n",
       "      <td>0.781171</td>\n",
       "      <td>-0.973504</td>\n",
       "      <td>-0.696313</td>\n",
       "      <td>0.135529</td>\n",
       "      <td>-0.005958</td>\n",
       "      <td>...</td>\n",
       "      <td>0.142242</td>\n",
       "      <td>-0.995556</td>\n",
       "      <td>0.196146</td>\n",
       "      <td>-0.998720</td>\n",
       "      <td>-0.586202</td>\n",
       "      <td>0.946417</td>\n",
       "      <td>-0.997387</td>\n",
       "      <td>0.998785</td>\n",
       "      <td>0.998541</td>\n",
       "      <td>0.884596</td>\n",
       "    </tr>\n",
       "    <tr>\n",
       "      <th>4</th>\n",
       "      <td>-0.999940</td>\n",
       "      <td>0.095895</td>\n",
       "      <td>-0.997162</td>\n",
       "      <td>-0.121784</td>\n",
       "      <td>-0.996297</td>\n",
       "      <td>0.846379</td>\n",
       "      <td>-0.994946</td>\n",
       "      <td>0.436924</td>\n",
       "      <td>0.035794</td>\n",
       "      <td>-0.006821</td>\n",
       "      <td>...</td>\n",
       "      <td>0.215716</td>\n",
       "      <td>-0.989526</td>\n",
       "      <td>0.178496</td>\n",
       "      <td>-0.999673</td>\n",
       "      <td>-0.879214</td>\n",
       "      <td>0.881079</td>\n",
       "      <td>-0.998047</td>\n",
       "      <td>0.986704</td>\n",
       "      <td>0.997149</td>\n",
       "      <td>0.974610</td>\n",
       "    </tr>\n",
       "    <tr>\n",
       "      <th>...</th>\n",
       "      <td>...</td>\n",
       "      <td>...</td>\n",
       "      <td>...</td>\n",
       "      <td>...</td>\n",
       "      <td>...</td>\n",
       "      <td>...</td>\n",
       "      <td>...</td>\n",
       "      <td>...</td>\n",
       "      <td>...</td>\n",
       "      <td>...</td>\n",
       "      <td>...</td>\n",
       "      <td>...</td>\n",
       "      <td>...</td>\n",
       "      <td>...</td>\n",
       "      <td>...</td>\n",
       "      <td>...</td>\n",
       "      <td>...</td>\n",
       "      <td>...</td>\n",
       "      <td>...</td>\n",
       "      <td>...</td>\n",
       "      <td>...</td>\n",
       "    </tr>\n",
       "    <tr>\n",
       "      <th>1285</th>\n",
       "      <td>-0.999978</td>\n",
       "      <td>0.044769</td>\n",
       "      <td>-0.996063</td>\n",
       "      <td>0.206673</td>\n",
       "      <td>-0.993597</td>\n",
       "      <td>0.577214</td>\n",
       "      <td>-0.994746</td>\n",
       "      <td>0.505085</td>\n",
       "      <td>0.094988</td>\n",
       "      <td>0.063025</td>\n",
       "      <td>...</td>\n",
       "      <td>0.203866</td>\n",
       "      <td>-0.998053</td>\n",
       "      <td>0.137735</td>\n",
       "      <td>-0.999817</td>\n",
       "      <td>-0.956234</td>\n",
       "      <td>0.923886</td>\n",
       "      <td>-0.996958</td>\n",
       "      <td>0.989620</td>\n",
       "      <td>0.994490</td>\n",
       "      <td>0.967436</td>\n",
       "    </tr>\n",
       "    <tr>\n",
       "      <th>1286</th>\n",
       "      <td>-0.999188</td>\n",
       "      <td>0.034496</td>\n",
       "      <td>-0.990960</td>\n",
       "      <td>0.951374</td>\n",
       "      <td>-0.999831</td>\n",
       "      <td>-0.388626</td>\n",
       "      <td>-0.997586</td>\n",
       "      <td>0.758842</td>\n",
       "      <td>0.070556</td>\n",
       "      <td>0.052468</td>\n",
       "      <td>...</td>\n",
       "      <td>0.134165</td>\n",
       "      <td>-0.782383</td>\n",
       "      <td>0.201555</td>\n",
       "      <td>-0.999390</td>\n",
       "      <td>-0.920580</td>\n",
       "      <td>0.792196</td>\n",
       "      <td>-0.945352</td>\n",
       "      <td>0.811551</td>\n",
       "      <td>0.946749</td>\n",
       "      <td>0.997387</td>\n",
       "    </tr>\n",
       "    <tr>\n",
       "      <th>1287</th>\n",
       "      <td>-0.999984</td>\n",
       "      <td>0.033183</td>\n",
       "      <td>-0.995504</td>\n",
       "      <td>0.454196</td>\n",
       "      <td>-0.921501</td>\n",
       "      <td>-0.103736</td>\n",
       "      <td>-0.989906</td>\n",
       "      <td>-0.962311</td>\n",
       "      <td>-0.030409</td>\n",
       "      <td>-0.049869</td>\n",
       "      <td>...</td>\n",
       "      <td>0.104561</td>\n",
       "      <td>-0.996887</td>\n",
       "      <td>0.170619</td>\n",
       "      <td>-0.999599</td>\n",
       "      <td>-0.375127</td>\n",
       "      <td>0.962274</td>\n",
       "      <td>-0.997076</td>\n",
       "      <td>0.959261</td>\n",
       "      <td>0.997463</td>\n",
       "      <td>0.964273</td>\n",
       "    </tr>\n",
       "    <tr>\n",
       "      <th>1288</th>\n",
       "      <td>-0.999986</td>\n",
       "      <td>0.122390</td>\n",
       "      <td>-0.989700</td>\n",
       "      <td>0.519770</td>\n",
       "      <td>-0.975490</td>\n",
       "      <td>0.565476</td>\n",
       "      <td>-0.979562</td>\n",
       "      <td>-0.951744</td>\n",
       "      <td>0.093162</td>\n",
       "      <td>-0.001901</td>\n",
       "      <td>...</td>\n",
       "      <td>0.189051</td>\n",
       "      <td>-0.991586</td>\n",
       "      <td>0.195924</td>\n",
       "      <td>-0.999426</td>\n",
       "      <td>-0.709937</td>\n",
       "      <td>0.916501</td>\n",
       "      <td>-0.998173</td>\n",
       "      <td>0.985652</td>\n",
       "      <td>0.968248</td>\n",
       "      <td>0.993790</td>\n",
       "    </tr>\n",
       "    <tr>\n",
       "      <th>1289</th>\n",
       "      <td>-0.999645</td>\n",
       "      <td>0.091843</td>\n",
       "      <td>-0.997664</td>\n",
       "      <td>0.946096</td>\n",
       "      <td>-0.999344</td>\n",
       "      <td>0.163253</td>\n",
       "      <td>-0.999165</td>\n",
       "      <td>0.995323</td>\n",
       "      <td>0.138288</td>\n",
       "      <td>0.038712</td>\n",
       "      <td>...</td>\n",
       "      <td>0.211061</td>\n",
       "      <td>-0.527321</td>\n",
       "      <td>0.219368</td>\n",
       "      <td>-0.999742</td>\n",
       "      <td>-0.661678</td>\n",
       "      <td>0.841890</td>\n",
       "      <td>-0.998527</td>\n",
       "      <td>0.906461</td>\n",
       "      <td>0.965278</td>\n",
       "      <td>0.998904</td>\n",
       "    </tr>\n",
       "  </tbody>\n",
       "</table>\n",
       "<p>1290 rows × 128 columns</p>\n",
       "</div>"
      ],
      "text/plain": [
       "           0         1         2         3         4         5         6    \\\n",
       "0    -0.999942 -0.001414 -0.981085 -0.484473 -0.948341  0.171350 -0.981562   \n",
       "1    -0.999120  0.052965 -0.985597  0.318218 -0.978574 -0.563376 -0.998118   \n",
       "2    -0.999862  0.039788 -0.973164  0.168508 -0.969527 -0.213720 -0.988347   \n",
       "3    -0.999984  0.044671 -0.993844  0.591809 -0.880615  0.781171 -0.973504   \n",
       "4    -0.999940  0.095895 -0.997162 -0.121784 -0.996297  0.846379 -0.994946   \n",
       "...        ...       ...       ...       ...       ...       ...       ...   \n",
       "1285 -0.999978  0.044769 -0.996063  0.206673 -0.993597  0.577214 -0.994746   \n",
       "1286 -0.999188  0.034496 -0.990960  0.951374 -0.999831 -0.388626 -0.997586   \n",
       "1287 -0.999984  0.033183 -0.995504  0.454196 -0.921501 -0.103736 -0.989906   \n",
       "1288 -0.999986  0.122390 -0.989700  0.519770 -0.975490  0.565476 -0.979562   \n",
       "1289 -0.999645  0.091843 -0.997664  0.946096 -0.999344  0.163253 -0.999165   \n",
       "\n",
       "           7         8         9    ...       118       119       120  \\\n",
       "0    -0.706304 -0.006808 -0.095359  ...  0.128026 -0.990112  0.187941   \n",
       "1     0.185895  0.121993  0.005437  ...  0.155417 -0.251321  0.236179   \n",
       "2    -0.972103 -0.031048 -0.025507  ...  0.133916 -0.986624  0.169207   \n",
       "3    -0.696313  0.135529 -0.005958  ...  0.142242 -0.995556  0.196146   \n",
       "4     0.436924  0.035794 -0.006821  ...  0.215716 -0.989526  0.178496   \n",
       "...        ...       ...       ...  ...       ...       ...       ...   \n",
       "1285  0.505085  0.094988  0.063025  ...  0.203866 -0.998053  0.137735   \n",
       "1286  0.758842  0.070556  0.052468  ...  0.134165 -0.782383  0.201555   \n",
       "1287 -0.962311 -0.030409 -0.049869  ...  0.104561 -0.996887  0.170619   \n",
       "1288 -0.951744  0.093162 -0.001901  ...  0.189051 -0.991586  0.195924   \n",
       "1289  0.995323  0.138288  0.038712  ...  0.211061 -0.527321  0.219368   \n",
       "\n",
       "           121       122       123       124       125       126       127  \n",
       "0    -0.998624 -0.819512  0.877467 -0.999149  0.980827  0.981782  0.963916  \n",
       "1    -0.999170 -0.642842  0.981704 -0.992995  0.923993  0.955823  0.998484  \n",
       "2    -0.999534 -0.628558  0.798255 -0.977197  0.732426  0.970786  0.976691  \n",
       "3    -0.998720 -0.586202  0.946417 -0.997387  0.998785  0.998541  0.884596  \n",
       "4    -0.999673 -0.879214  0.881079 -0.998047  0.986704  0.997149  0.974610  \n",
       "...        ...       ...       ...       ...       ...       ...       ...  \n",
       "1285 -0.999817 -0.956234  0.923886 -0.996958  0.989620  0.994490  0.967436  \n",
       "1286 -0.999390 -0.920580  0.792196 -0.945352  0.811551  0.946749  0.997387  \n",
       "1287 -0.999599 -0.375127  0.962274 -0.997076  0.959261  0.997463  0.964273  \n",
       "1288 -0.999426 -0.709937  0.916501 -0.998173  0.985652  0.968248  0.993790  \n",
       "1289 -0.999742 -0.661678  0.841890 -0.998527  0.906461  0.965278  0.998904  \n",
       "\n",
       "[1290 rows x 128 columns]"
      ]
     },
     "execution_count": 23,
     "metadata": {},
     "output_type": "execute_result"
    }
   ],
   "source": [
    "dataX2"
   ]
  },
  {
   "cell_type": "markdown",
   "metadata": {
    "id": "Wm0iV1ksyNUF"
   },
   "source": [
    "##seleccion de las variable"
   ]
  },
  {
   "cell_type": "code",
   "execution_count": 24,
   "metadata": {
    "id": "O5uhZcbzRidy"
   },
   "outputs": [],
   "source": [
    "X = dataX2 \n",
    "Y = df['resultado'].copy()"
   ]
  },
  {
   "cell_type": "code",
   "execution_count": 25,
   "metadata": {
    "colab": {
     "base_uri": "https://localhost:8080/"
    },
    "id": "0UOZmKMjRl6y",
    "outputId": "b228dc5f-8975-4939-dc67-5fc8faaa1320"
   },
   "outputs": [
    {
     "data": {
      "text/plain": [
       "RangeIndex(start=0, stop=128, step=1)"
      ]
     },
     "execution_count": 25,
     "metadata": {},
     "output_type": "execute_result"
    }
   ],
   "source": [
    "X.columns"
   ]
  },
  {
   "cell_type": "code",
   "execution_count": 26,
   "metadata": {
    "colab": {
     "base_uri": "https://localhost:8080/"
    },
    "id": "hUzLPNrN1RL0",
    "outputId": "9d1f7d0d-1a13-453b-ddfb-92b575e3b65b"
   },
   "outputs": [
    {
     "name": "stdout",
     "output_type": "stream",
     "text": [
      "<class 'pandas.core.frame.DataFrame'>\n",
      "RangeIndex: 1290 entries, 0 to 1289\n",
      "Columns: 128 entries, 0 to 127\n",
      "dtypes: float32(128)\n",
      "memory usage: 645.1 KB\n"
     ]
    }
   ],
   "source": [
    "X.info()"
   ]
  },
  {
   "cell_type": "code",
   "execution_count": 27,
   "metadata": {
    "colab": {
     "base_uri": "https://localhost:8080/"
    },
    "id": "SCYJFg3V1grr",
    "outputId": "37eec829-402e-4980-9d8d-1c38d0c599f4"
   },
   "outputs": [
    {
     "data": {
      "text/plain": [
       "0    0\n",
       "1    0\n",
       "2    1\n",
       "3    0\n",
       "4    0\n",
       "Name: resultado, dtype: int64"
      ]
     },
     "execution_count": 27,
     "metadata": {},
     "output_type": "execute_result"
    }
   ],
   "source": [
    "Y.head()"
   ]
  },
  {
   "cell_type": "markdown",
   "metadata": {
    "id": "aRmzxRFPEYWf"
   },
   "source": [
    "## Balanceo de datos"
   ]
  },
  {
   "cell_type": "markdown",
   "metadata": {
    "id": "VWKGuNFJKN7h"
   },
   "source": [
    "## Aplicando Smote"
   ]
  },
  {
   "cell_type": "code",
   "execution_count": 28,
   "metadata": {
    "colab": {
     "base_uri": "https://localhost:8080/"
    },
    "id": "dmRL1ZfVJkXI",
    "outputId": "c64fe167-3c89-4189-cb43-bc1db7de95e8"
   },
   "outputs": [
    {
     "data": {
      "text/plain": [
       "Counter({0: 668, 1: 668})"
      ]
     },
     "execution_count": 28,
     "metadata": {},
     "output_type": "execute_result"
    }
   ],
   "source": [
    "from imblearn.over_sampling import SMOTE #over sobre nivelar hacia arriba under nivelacion hacia el menor dato\n",
    "#from imblearn.under_sampling import SMOTE \n",
    "\n",
    "smote = SMOTE(random_state = 325, n_jobs=-1)\n",
    "X_smote, Y_smote = smote.fit_resample(X, Y)# hace Balance de los datos a partir de los agreglos\n",
    "\n",
    "from collections import Counter\n",
    "\n",
    "Counter(Y_smote)"
   ]
  },
  {
   "cell_type": "markdown",
   "metadata": {
    "id": "0e_u-Q_Ek__4"
   },
   "source": [
    "## Train y test"
   ]
  },
  {
   "cell_type": "code",
   "execution_count": 29,
   "metadata": {
    "id": "TyfeIwbQIC6Z"
   },
   "outputs": [],
   "source": [
    "from sklearn.model_selection import train_test_split\n",
    "X_train_smote, X_test_smote, Y_train_smote, Y_test_smote = train_test_split(X_smote, Y_smote, random_state=325,test_size = 0.3)\n",
    "        \n",
    "X_train, X_test, Y_train, Y_test = train_test_split(X, Y, random_state=325,test_size = 0.3)        "
   ]
  },
  {
   "cell_type": "markdown",
   "metadata": {
    "id": "Ciq8A-OBPMoB"
   },
   "source": [
    "## SVM\n"
   ]
  },
  {
   "cell_type": "markdown",
   "metadata": {
    "id": "YDjqF2GOYMNJ"
   },
   "source": [
    "###SVC "
   ]
  },
  {
   "cell_type": "markdown",
   "metadata": {
    "id": "KK1IKHnHlm6S"
   },
   "source": [
    "#### Caso 1"
   ]
  },
  {
   "cell_type": "code",
   "execution_count": 30,
   "metadata": {
    "id": "et__pezSxWUc"
   },
   "outputs": [],
   "source": [
    "parametros = {'C'      : np.arange(1, 5, 1),\n",
    "            'gamma'  : np.arange(1, 5, 1),\n",
    "           'kernel' : ['rbf', 'linear','sigmoid']}\n",
    "\n",
    "from sklearn.svm import SVC\n",
    "from sklearn.model_selection import GridSearchCV\n",
    "\n",
    "clf = SVC(class_weight='balanced', random_state=325)  \n",
    "grid_search = GridSearchCV(clf, parametros, n_jobs=-1, cv=5) "
   ]
  },
  {
   "cell_type": "code",
   "execution_count": 31,
   "metadata": {
    "colab": {
     "base_uri": "https://localhost:8080/"
    },
    "id": "bm5RhCN3RkZZ",
    "outputId": "c660faa1-202a-4a68-bfe8-b0c855a7a2ba"
   },
   "outputs": [
    {
     "data": {
      "text/html": [
       "<style>#sk-container-id-1 {color: black;background-color: white;}#sk-container-id-1 pre{padding: 0;}#sk-container-id-1 div.sk-toggleable {background-color: white;}#sk-container-id-1 label.sk-toggleable__label {cursor: pointer;display: block;width: 100%;margin-bottom: 0;padding: 0.3em;box-sizing: border-box;text-align: center;}#sk-container-id-1 label.sk-toggleable__label-arrow:before {content: \"▸\";float: left;margin-right: 0.25em;color: #696969;}#sk-container-id-1 label.sk-toggleable__label-arrow:hover:before {color: black;}#sk-container-id-1 div.sk-estimator:hover label.sk-toggleable__label-arrow:before {color: black;}#sk-container-id-1 div.sk-toggleable__content {max-height: 0;max-width: 0;overflow: hidden;text-align: left;background-color: #f0f8ff;}#sk-container-id-1 div.sk-toggleable__content pre {margin: 0.2em;color: black;border-radius: 0.25em;background-color: #f0f8ff;}#sk-container-id-1 input.sk-toggleable__control:checked~div.sk-toggleable__content {max-height: 200px;max-width: 100%;overflow: auto;}#sk-container-id-1 input.sk-toggleable__control:checked~label.sk-toggleable__label-arrow:before {content: \"▾\";}#sk-container-id-1 div.sk-estimator input.sk-toggleable__control:checked~label.sk-toggleable__label {background-color: #d4ebff;}#sk-container-id-1 div.sk-label input.sk-toggleable__control:checked~label.sk-toggleable__label {background-color: #d4ebff;}#sk-container-id-1 input.sk-hidden--visually {border: 0;clip: rect(1px 1px 1px 1px);clip: rect(1px, 1px, 1px, 1px);height: 1px;margin: -1px;overflow: hidden;padding: 0;position: absolute;width: 1px;}#sk-container-id-1 div.sk-estimator {font-family: monospace;background-color: #f0f8ff;border: 1px dotted black;border-radius: 0.25em;box-sizing: border-box;margin-bottom: 0.5em;}#sk-container-id-1 div.sk-estimator:hover {background-color: #d4ebff;}#sk-container-id-1 div.sk-parallel-item::after {content: \"\";width: 100%;border-bottom: 1px solid gray;flex-grow: 1;}#sk-container-id-1 div.sk-label:hover label.sk-toggleable__label {background-color: #d4ebff;}#sk-container-id-1 div.sk-serial::before {content: \"\";position: absolute;border-left: 1px solid gray;box-sizing: border-box;top: 0;bottom: 0;left: 50%;z-index: 0;}#sk-container-id-1 div.sk-serial {display: flex;flex-direction: column;align-items: center;background-color: white;padding-right: 0.2em;padding-left: 0.2em;position: relative;}#sk-container-id-1 div.sk-item {position: relative;z-index: 1;}#sk-container-id-1 div.sk-parallel {display: flex;align-items: stretch;justify-content: center;background-color: white;position: relative;}#sk-container-id-1 div.sk-item::before, #sk-container-id-1 div.sk-parallel-item::before {content: \"\";position: absolute;border-left: 1px solid gray;box-sizing: border-box;top: 0;bottom: 0;left: 50%;z-index: -1;}#sk-container-id-1 div.sk-parallel-item {display: flex;flex-direction: column;z-index: 1;position: relative;background-color: white;}#sk-container-id-1 div.sk-parallel-item:first-child::after {align-self: flex-end;width: 50%;}#sk-container-id-1 div.sk-parallel-item:last-child::after {align-self: flex-start;width: 50%;}#sk-container-id-1 div.sk-parallel-item:only-child::after {width: 0;}#sk-container-id-1 div.sk-dashed-wrapped {border: 1px dashed gray;margin: 0 0.4em 0.5em 0.4em;box-sizing: border-box;padding-bottom: 0.4em;background-color: white;}#sk-container-id-1 div.sk-label label {font-family: monospace;font-weight: bold;display: inline-block;line-height: 1.2em;}#sk-container-id-1 div.sk-label-container {text-align: center;}#sk-container-id-1 div.sk-container {/* jupyter's `normalize.less` sets `[hidden] { display: none; }` but bootstrap.min.css set `[hidden] { display: none !important; }` so we also need the `!important` here to be able to override the default hidden behavior on the sphinx rendered scikit-learn.org. See: https://github.com/scikit-learn/scikit-learn/issues/21755 */display: inline-block !important;position: relative;}#sk-container-id-1 div.sk-text-repr-fallback {display: none;}</style><div id=\"sk-container-id-1\" class=\"sk-top-container\"><div class=\"sk-text-repr-fallback\"><pre>GridSearchCV(cv=5, estimator=SVC(class_weight=&#x27;balanced&#x27;, random_state=325),\n",
       "             n_jobs=-1,\n",
       "             param_grid={&#x27;C&#x27;: array([1, 2, 3, 4]), &#x27;gamma&#x27;: array([1, 2, 3, 4]),\n",
       "                         &#x27;kernel&#x27;: [&#x27;rbf&#x27;, &#x27;linear&#x27;, &#x27;sigmoid&#x27;]})</pre><b>In a Jupyter environment, please rerun this cell to show the HTML representation or trust the notebook. <br />On GitHub, the HTML representation is unable to render, please try loading this page with nbviewer.org.</b></div><div class=\"sk-container\" hidden><div class=\"sk-item sk-dashed-wrapped\"><div class=\"sk-label-container\"><div class=\"sk-label sk-toggleable\"><input class=\"sk-toggleable__control sk-hidden--visually\" id=\"sk-estimator-id-1\" type=\"checkbox\" ><label for=\"sk-estimator-id-1\" class=\"sk-toggleable__label sk-toggleable__label-arrow\">GridSearchCV</label><div class=\"sk-toggleable__content\"><pre>GridSearchCV(cv=5, estimator=SVC(class_weight=&#x27;balanced&#x27;, random_state=325),\n",
       "             n_jobs=-1,\n",
       "             param_grid={&#x27;C&#x27;: array([1, 2, 3, 4]), &#x27;gamma&#x27;: array([1, 2, 3, 4]),\n",
       "                         &#x27;kernel&#x27;: [&#x27;rbf&#x27;, &#x27;linear&#x27;, &#x27;sigmoid&#x27;]})</pre></div></div></div><div class=\"sk-parallel\"><div class=\"sk-parallel-item\"><div class=\"sk-item\"><div class=\"sk-label-container\"><div class=\"sk-label sk-toggleable\"><input class=\"sk-toggleable__control sk-hidden--visually\" id=\"sk-estimator-id-2\" type=\"checkbox\" ><label for=\"sk-estimator-id-2\" class=\"sk-toggleable__label sk-toggleable__label-arrow\">estimator: SVC</label><div class=\"sk-toggleable__content\"><pre>SVC(class_weight=&#x27;balanced&#x27;, random_state=325)</pre></div></div></div><div class=\"sk-serial\"><div class=\"sk-item\"><div class=\"sk-estimator sk-toggleable\"><input class=\"sk-toggleable__control sk-hidden--visually\" id=\"sk-estimator-id-3\" type=\"checkbox\" ><label for=\"sk-estimator-id-3\" class=\"sk-toggleable__label sk-toggleable__label-arrow\">SVC</label><div class=\"sk-toggleable__content\"><pre>SVC(class_weight=&#x27;balanced&#x27;, random_state=325)</pre></div></div></div></div></div></div></div></div></div></div>"
      ],
      "text/plain": [
       "GridSearchCV(cv=5, estimator=SVC(class_weight='balanced', random_state=325),\n",
       "             n_jobs=-1,\n",
       "             param_grid={'C': array([1, 2, 3, 4]), 'gamma': array([1, 2, 3, 4]),\n",
       "                         'kernel': ['rbf', 'linear', 'sigmoid']})"
      ]
     },
     "execution_count": 31,
     "metadata": {},
     "output_type": "execute_result"
    }
   ],
   "source": [
    "grid_search.fit(X_train_smote, Y_train_smote)"
   ]
  },
  {
   "cell_type": "code",
   "execution_count": 32,
   "metadata": {
    "colab": {
     "base_uri": "https://localhost:8080/"
    },
    "id": "1yEGg8ADqwI-",
    "outputId": "f00131fa-e2f6-46a6-dd92-e2466126f2b4"
   },
   "outputs": [
    {
     "name": "stdout",
     "output_type": "stream",
     "text": [
      "El mejor modelo:\n",
      " {'C': 2, 'gamma': 1, 'kernel': 'linear'}\n"
     ]
    }
   ],
   "source": [
    "print('El mejor modelo:\\n', grid_search.best_params_)"
   ]
  },
  {
   "cell_type": "code",
   "execution_count": 33,
   "metadata": {
    "id": "MsGA5qGNq4kN"
   },
   "outputs": [],
   "source": [
    "clf_best = grid_search.best_estimator_\n",
    "pred = clf_best.predict(X_test_smote)"
   ]
  },
  {
   "cell_type": "code",
   "execution_count": 34,
   "metadata": {
    "colab": {
     "base_uri": "https://localhost:8080/"
    },
    "id": "8KTNPmsUy_jF",
    "outputId": "4ee45594-31d8-4769-f62e-d095a53b5af2"
   },
   "outputs": [
    {
     "name": "stdout",
     "output_type": "stream",
     "text": [
      "              precision    recall  f1-score   support\n",
      "\n",
      "           0       0.93      0.93      0.93       212\n",
      "           1       0.93      0.92      0.92       189\n",
      "\n",
      "    accuracy                           0.93       401\n",
      "   macro avg       0.93      0.92      0.92       401\n",
      "weighted avg       0.93      0.93      0.93       401\n",
      "\n"
     ]
    }
   ],
   "source": [
    "from sklearn.metrics import classification_report\n",
    "print(classification_report(Y_test_smote, pred))"
   ]
  },
  {
   "cell_type": "code",
   "execution_count": 35,
   "metadata": {
    "colab": {
     "base_uri": "https://localhost:8080/",
     "height": 347
    },
    "id": "-4aN-UBJzWkS",
    "outputId": "e2bee091-b79e-43a2-e1a4-c6f9d7cf2419"
   },
   "outputs": [
    {
     "name": "stdout",
     "output_type": "stream",
     "text": [
      "Matriz de Confusión\n",
      "[[198  14]\n",
      " [ 16 173]]\n"
     ]
    },
    {
     "data": {
      "image/png": "[encoded data removed]",
      "text/plain": [
       "<Figure size 432x288 with 2 Axes>"
      ]
     },
     "metadata": {
      "needs_background": "light"
     },
     "output_type": "display_data"
    }
   ],
   "source": [
    "from sklearn.metrics import ConfusionMatrixDisplay\n",
    "\n",
    "\n",
    "disp = ConfusionMatrixDisplay.from_estimator(\n",
    "       clf_best,\n",
    "       X_test_smote,\n",
    "       Y_test_smote,\n",
    "       display_labels=None,\n",
    "       cmap=plt.cm.Blues,\n",
    "       normalize=None)\n",
    "\n",
    "disp.ax_.set_title('Matriz de Confusión')\n",
    "disp.ax_.set_xlabel('Predicción');\n",
    "disp.ax_.set_ylabel('Realidad'); \n",
    "disp.ax_.xaxis.set_ticklabels(['0', '1']); \n",
    "disp.ax_.yaxis.set_ticklabels(['0', '1']);\n",
    "\n",
    "print('Matriz de Confusión')\n",
    "print(disp.confusion_matrix)\n",
    "\n",
    "plt.show()"
   ]
  },
  {
   "cell_type": "markdown",
   "metadata": {
    "id": "AdkVd93jvUAr"
   },
   "source": [
    "### Nusvm"
   ]
  },
  {
   "cell_type": "markdown",
   "metadata": {
    "id": "P4WrGu2NlxN3"
   },
   "source": [
    "### Caso 1"
   ]
  },
  {
   "cell_type": "code",
   "execution_count": 36,
   "metadata": {
    "id": "0gVoxUu052Q3"
   },
   "outputs": [],
   "source": [
    "parametros = {'nu'      : np.arange(0, 1, 0.1),\n",
    "            'gamma'  : ['scale','auto'],\n",
    "           'kernel' : ['rbf', 'linear','sigmoid']}\n",
    "\n",
    "from sklearn.svm import NuSVC\n",
    "from sklearn.model_selection import GridSearchCV\n",
    "\n",
    "clf = NuSVC(class_weight='balanced', random_state=325)  \n",
    "grid_search = GridSearchCV(clf, parametros, n_jobs=-1, cv=5) "
   ]
  },
  {
   "cell_type": "code",
   "execution_count": 37,
   "metadata": {
    "colab": {
     "base_uri": "https://localhost:8080/"
    },
    "id": "O5l746iT58id",
    "outputId": "a413cede-ce20-4b41-c758-30e19ab02631"
   },
   "outputs": [
    {
     "data": {
      "text/html": [
       "<style>#sk-container-id-2 {color: black;background-color: white;}#sk-container-id-2 pre{padding: 0;}#sk-container-id-2 div.sk-toggleable {background-color: white;}#sk-container-id-2 label.sk-toggleable__label {cursor: pointer;display: block;width: 100%;margin-bottom: 0;padding: 0.3em;box-sizing: border-box;text-align: center;}#sk-container-id-2 label.sk-toggleable__label-arrow:before {content: \"▸\";float: left;margin-right: 0.25em;color: #696969;}#sk-container-id-2 label.sk-toggleable__label-arrow:hover:before {color: black;}#sk-container-id-2 div.sk-estimator:hover label.sk-toggleable__label-arrow:before {color: black;}#sk-container-id-2 div.sk-toggleable__content {max-height: 0;max-width: 0;overflow: hidden;text-align: left;background-color: #f0f8ff;}#sk-container-id-2 div.sk-toggleable__content pre {margin: 0.2em;color: black;border-radius: 0.25em;background-color: #f0f8ff;}#sk-container-id-2 input.sk-toggleable__control:checked~div.sk-toggleable__content {max-height: 200px;max-width: 100%;overflow: auto;}#sk-container-id-2 input.sk-toggleable__control:checked~label.sk-toggleable__label-arrow:before {content: \"▾\";}#sk-container-id-2 div.sk-estimator input.sk-toggleable__control:checked~label.sk-toggleable__label {background-color: #d4ebff;}#sk-container-id-2 div.sk-label input.sk-toggleable__control:checked~label.sk-toggleable__label {background-color: #d4ebff;}#sk-container-id-2 input.sk-hidden--visually {border: 0;clip: rect(1px 1px 1px 1px);clip: rect(1px, 1px, 1px, 1px);height: 1px;margin: -1px;overflow: hidden;padding: 0;position: absolute;width: 1px;}#sk-container-id-2 div.sk-estimator {font-family: monospace;background-color: #f0f8ff;border: 1px dotted black;border-radius: 0.25em;box-sizing: border-box;margin-bottom: 0.5em;}#sk-container-id-2 div.sk-estimator:hover {background-color: #d4ebff;}#sk-container-id-2 div.sk-parallel-item::after {content: \"\";width: 100%;border-bottom: 1px solid gray;flex-grow: 1;}#sk-container-id-2 div.sk-label:hover label.sk-toggleable__label {background-color: #d4ebff;}#sk-container-id-2 div.sk-serial::before {content: \"\";position: absolute;border-left: 1px solid gray;box-sizing: border-box;top: 0;bottom: 0;left: 50%;z-index: 0;}#sk-container-id-2 div.sk-serial {display: flex;flex-direction: column;align-items: center;background-color: white;padding-right: 0.2em;padding-left: 0.2em;position: relative;}#sk-container-id-2 div.sk-item {position: relative;z-index: 1;}#sk-container-id-2 div.sk-parallel {display: flex;align-items: stretch;justify-content: center;background-color: white;position: relative;}#sk-container-id-2 div.sk-item::before, #sk-container-id-2 div.sk-parallel-item::before {content: \"\";position: absolute;border-left: 1px solid gray;box-sizing: border-box;top: 0;bottom: 0;left: 50%;z-index: -1;}#sk-container-id-2 div.sk-parallel-item {display: flex;flex-direction: column;z-index: 1;position: relative;background-color: white;}#sk-container-id-2 div.sk-parallel-item:first-child::after {align-self: flex-end;width: 50%;}#sk-container-id-2 div.sk-parallel-item:last-child::after {align-self: flex-start;width: 50%;}#sk-container-id-2 div.sk-parallel-item:only-child::after {width: 0;}#sk-container-id-2 div.sk-dashed-wrapped {border: 1px dashed gray;margin: 0 0.4em 0.5em 0.4em;box-sizing: border-box;padding-bottom: 0.4em;background-color: white;}#sk-container-id-2 div.sk-label label {font-family: monospace;font-weight: bold;display: inline-block;line-height: 1.2em;}#sk-container-id-2 div.sk-label-container {text-align: center;}#sk-container-id-2 div.sk-container {/* jupyter's `normalize.less` sets `[hidden] { display: none; }` but bootstrap.min.css set `[hidden] { display: none !important; }` so we also need the `!important` here to be able to override the default hidden behavior on the sphinx rendered scikit-learn.org. See: https://github.com/scikit-learn/scikit-learn/issues/21755 */display: inline-block !important;position: relative;}#sk-container-id-2 div.sk-text-repr-fallback {display: none;}</style><div id=\"sk-container-id-2\" class=\"sk-top-container\"><div class=\"sk-text-repr-fallback\"><pre>GridSearchCV(cv=5, estimator=NuSVC(class_weight=&#x27;balanced&#x27;, random_state=325),\n",
       "             n_jobs=-1,\n",
       "             param_grid={&#x27;gamma&#x27;: [&#x27;scale&#x27;, &#x27;auto&#x27;],\n",
       "                         &#x27;kernel&#x27;: [&#x27;rbf&#x27;, &#x27;linear&#x27;, &#x27;sigmoid&#x27;],\n",
       "                         &#x27;nu&#x27;: array([0. , 0.1, 0.2, 0.3, 0.4, 0.5, 0.6, 0.7, 0.8, 0.9])})</pre><b>In a Jupyter environment, please rerun this cell to show the HTML representation or trust the notebook. <br />On GitHub, the HTML representation is unable to render, please try loading this page with nbviewer.org.</b></div><div class=\"sk-container\" hidden><div class=\"sk-item sk-dashed-wrapped\"><div class=\"sk-label-container\"><div class=\"sk-label sk-toggleable\"><input class=\"sk-toggleable__control sk-hidden--visually\" id=\"sk-estimator-id-4\" type=\"checkbox\" ><label for=\"sk-estimator-id-4\" class=\"sk-toggleable__label sk-toggleable__label-arrow\">GridSearchCV</label><div class=\"sk-toggleable__content\"><pre>GridSearchCV(cv=5, estimator=NuSVC(class_weight=&#x27;balanced&#x27;, random_state=325),\n",
       "             n_jobs=-1,\n",
       "             param_grid={&#x27;gamma&#x27;: [&#x27;scale&#x27;, &#x27;auto&#x27;],\n",
       "                         &#x27;kernel&#x27;: [&#x27;rbf&#x27;, &#x27;linear&#x27;, &#x27;sigmoid&#x27;],\n",
       "                         &#x27;nu&#x27;: array([0. , 0.1, 0.2, 0.3, 0.4, 0.5, 0.6, 0.7, 0.8, 0.9])})</pre></div></div></div><div class=\"sk-parallel\"><div class=\"sk-parallel-item\"><div class=\"sk-item\"><div class=\"sk-label-container\"><div class=\"sk-label sk-toggleable\"><input class=\"sk-toggleable__control sk-hidden--visually\" id=\"sk-estimator-id-5\" type=\"checkbox\" ><label for=\"sk-estimator-id-5\" class=\"sk-toggleable__label sk-toggleable__label-arrow\">estimator: NuSVC</label><div class=\"sk-toggleable__content\"><pre>NuSVC(class_weight=&#x27;balanced&#x27;, random_state=325)</pre></div></div></div><div class=\"sk-serial\"><div class=\"sk-item\"><div class=\"sk-estimator sk-toggleable\"><input class=\"sk-toggleable__control sk-hidden--visually\" id=\"sk-estimator-id-6\" type=\"checkbox\" ><label for=\"sk-estimator-id-6\" class=\"sk-toggleable__label sk-toggleable__label-arrow\">NuSVC</label><div class=\"sk-toggleable__content\"><pre>NuSVC(class_weight=&#x27;balanced&#x27;, random_state=325)</pre></div></div></div></div></div></div></div></div></div></div>"
      ],
      "text/plain": [
       "GridSearchCV(cv=5, estimator=NuSVC(class_weight='balanced', random_state=325),\n",
       "             n_jobs=-1,\n",
       "             param_grid={'gamma': ['scale', 'auto'],\n",
       "                         'kernel': ['rbf', 'linear', 'sigmoid'],\n",
       "                         'nu': array([0. , 0.1, 0.2, 0.3, 0.4, 0.5, 0.6, 0.7, 0.8, 0.9])})"
      ]
     },
     "execution_count": 37,
     "metadata": {},
     "output_type": "execute_result"
    }
   ],
   "source": [
    "grid_search.fit(X_train_smote, Y_train_smote)"
   ]
  },
  {
   "cell_type": "code",
   "execution_count": 38,
   "metadata": {
    "colab": {
     "base_uri": "https://localhost:8080/"
    },
    "id": "prGKx-R158id",
    "outputId": "c2a9d036-0d1f-44ad-b63d-7c5556a58482"
   },
   "outputs": [
    {
     "name": "stdout",
     "output_type": "stream",
     "text": [
      "El mejor modelo:\n",
      " {'gamma': 'auto', 'kernel': 'rbf', 'nu': 0.1}\n"
     ]
    }
   ],
   "source": [
    "print('El mejor modelo:\\n', grid_search.best_params_)"
   ]
  },
  {
   "cell_type": "code",
   "execution_count": 39,
   "metadata": {
    "id": "YagauF6t58ie"
   },
   "outputs": [],
   "source": [
    "clf_best = grid_search.best_estimator_\n",
    "pred = clf_best.predict(X_test_smote)"
   ]
  },
  {
   "cell_type": "code",
   "execution_count": 40,
   "metadata": {
    "colab": {
     "base_uri": "https://localhost:8080/"
    },
    "id": "Pywpz84V58ie",
    "outputId": "8ba4a7f3-a0e3-4ae0-ce55-fec84f2ca560"
   },
   "outputs": [
    {
     "name": "stdout",
     "output_type": "stream",
     "text": [
      "              precision    recall  f1-score   support\n",
      "\n",
      "           0       0.94      0.95      0.95       212\n",
      "           1       0.95      0.93      0.94       189\n",
      "\n",
      "    accuracy                           0.94       401\n",
      "   macro avg       0.94      0.94      0.94       401\n",
      "weighted avg       0.94      0.94      0.94       401\n",
      "\n"
     ]
    }
   ],
   "source": [
    "from sklearn.metrics import classification_report\n",
    "\n",
    "print(classification_report(Y_test_smote, pred))"
   ]
  },
  {
   "cell_type": "code",
   "execution_count": 41,
   "metadata": {
    "colab": {
     "base_uri": "https://localhost:8080/",
     "height": 347
    },
    "id": "0wI2Ertq58ie",
    "outputId": "4e629a85-6279-4cc2-e30d-eebe7e0e299d"
   },
   "outputs": [
    {
     "name": "stdout",
     "output_type": "stream",
     "text": [
      "Matriz de Confusión\n",
      "[[202  10]\n",
      " [ 13 176]]\n"
     ]
    },
    {
     "data": {
      "image/png": "[encoded data removed]",
      "text/plain": [
       "<Figure size 432x288 with 2 Axes>"
      ]
     },
     "metadata": {
      "needs_background": "light"
     },
     "output_type": "display_data"
    }
   ],
   "source": [
    "from sklearn.metrics import ConfusionMatrixDisplay\n",
    "\n",
    "\n",
    "disp = ConfusionMatrixDisplay.from_estimator(\n",
    "       clf_best,\n",
    "       X_test_smote,\n",
    "       Y_test_smote,\n",
    "       display_labels=None,\n",
    "       cmap=plt.cm.Blues,\n",
    "       normalize=None)\n",
    "\n",
    "disp.ax_.set_title('Matriz de Confusión')\n",
    "disp.ax_.set_xlabel('Predicción');\n",
    "disp.ax_.set_ylabel('Realidad'); \n",
    "disp.ax_.xaxis.set_ticklabels(['0', '1']); \n",
    "disp.ax_.yaxis.set_ticklabels(['0', '1']);\n",
    "\n",
    "print('Matriz de Confusión')\n",
    "print(disp.confusion_matrix)\n",
    "\n",
    "plt.show()"
   ]
  },
  {
   "cell_type": "markdown",
   "metadata": {
    "id": "xcbvtJXL7vkr"
   },
   "source": []
  },
  {
   "cell_type": "markdown",
   "metadata": {
    "id": "PcWgNR1487xm"
   },
   "source": [
    "##SECCION CON DATOS SIN PREPROCESAR"
   ]
  },
  {
   "cell_type": "markdown",
   "metadata": {
    "id": "5czs7yBD7h9t"
   },
   "source": [
    "## transformar texto(Embeding) Sin preprocesamiento de texto"
   ]
  },
  {
   "cell_type": "code",
   "execution_count": 42,
   "metadata": {
    "colab": {
     "base_uri": "https://localhost:8080/",
     "height": 424
    },
    "id": "FLalqtie8GRR",
    "outputId": "623ca869-ee77-4172-bed0-f8b8b519f391"
   },
   "outputs": [
    {
     "data": {
      "text/html": [
       "<div>\n",
       "<style scoped>\n",
       "    .dataframe tbody tr th:only-of-type {\n",
       "        vertical-align: middle;\n",
       "    }\n",
       "\n",
       "    .dataframe tbody tr th {\n",
       "        vertical-align: top;\n",
       "    }\n",
       "\n",
       "    .dataframe thead th {\n",
       "        text-align: right;\n",
       "    }\n",
       "</style>\n",
       "<table border=\"1\" class=\"dataframe\">\n",
       "  <thead>\n",
       "    <tr style=\"text-align: right;\">\n",
       "      <th></th>\n",
       "      <th>resultado</th>\n",
       "      <th>mensaje</th>\n",
       "    </tr>\n",
       "  </thead>\n",
       "  <tbody>\n",
       "    <tr>\n",
       "      <th>0</th>\n",
       "      <td>0</td>\n",
       "      <td>Free entry in 2 a wkly comp to win FA Cup fina...</td>\n",
       "    </tr>\n",
       "    <tr>\n",
       "      <th>1</th>\n",
       "      <td>0</td>\n",
       "      <td>FreeMsg Hey there darling it's been 3 week's n...</td>\n",
       "    </tr>\n",
       "    <tr>\n",
       "      <th>2</th>\n",
       "      <td>1</td>\n",
       "      <td>As per your request 'Melle Melle (Oru Minnamin...</td>\n",
       "    </tr>\n",
       "    <tr>\n",
       "      <th>3</th>\n",
       "      <td>0</td>\n",
       "      <td>WINNER!! As a valued network customer you have...</td>\n",
       "    </tr>\n",
       "    <tr>\n",
       "      <th>4</th>\n",
       "      <td>0</td>\n",
       "      <td>Had your mobile 11 months or more? U R entitle...</td>\n",
       "    </tr>\n",
       "    <tr>\n",
       "      <th>...</th>\n",
       "      <td>...</td>\n",
       "      <td>...</td>\n",
       "    </tr>\n",
       "    <tr>\n",
       "      <th>1285</th>\n",
       "      <td>0</td>\n",
       "      <td>Had your contract mobile 11 Mnths? Latest Moto...</td>\n",
       "    </tr>\n",
       "    <tr>\n",
       "      <th>1286</th>\n",
       "      <td>1</td>\n",
       "      <td>Yeh. Indians was nice. Tho it did kane me off ...</td>\n",
       "    </tr>\n",
       "    <tr>\n",
       "      <th>1287</th>\n",
       "      <td>0</td>\n",
       "      <td>REMINDER FROM O2: To get 2.50 pounds free call...</td>\n",
       "    </tr>\n",
       "    <tr>\n",
       "      <th>1288</th>\n",
       "      <td>0</td>\n",
       "      <td>This is the 2nd time we have tried 2 contact u...</td>\n",
       "    </tr>\n",
       "    <tr>\n",
       "      <th>1289</th>\n",
       "      <td>1</td>\n",
       "      <td>The guy did some bitching but I acted like i'd...</td>\n",
       "    </tr>\n",
       "  </tbody>\n",
       "</table>\n",
       "<p>1290 rows × 2 columns</p>\n",
       "</div>"
      ],
      "text/plain": [
       "      resultado                                            mensaje\n",
       "0             0  Free entry in 2 a wkly comp to win FA Cup fina...\n",
       "1             0  FreeMsg Hey there darling it's been 3 week's n...\n",
       "2             1  As per your request 'Melle Melle (Oru Minnamin...\n",
       "3             0  WINNER!! As a valued network customer you have...\n",
       "4             0  Had your mobile 11 months or more? U R entitle...\n",
       "...         ...                                                ...\n",
       "1285          0  Had your contract mobile 11 Mnths? Latest Moto...\n",
       "1286          1  Yeh. Indians was nice. Tho it did kane me off ...\n",
       "1287          0  REMINDER FROM O2: To get 2.50 pounds free call...\n",
       "1288          0  This is the 2nd time we have tried 2 contact u...\n",
       "1289          1  The guy did some bitching but I acted like i'd...\n",
       "\n",
       "[1290 rows x 2 columns]"
      ]
     },
     "execution_count": 42,
     "metadata": {},
     "output_type": "execute_result"
    }
   ],
   "source": [
    "df"
   ]
  },
  {
   "cell_type": "code",
   "execution_count": 43,
   "metadata": {
    "id": "dIQC1CfU7h9t"
   },
   "outputs": [],
   "source": [
    "# 4to paso: Vamos a crear dos variables que cargaran en memoria dos funciones para transformar el texto\n",
    "##\n",
    "##   - preprocessor: \"objeto\" que se encargará de transformar el texto en el formato que necesita el modelo BERT para funcionar\n",
    "##   - encoder: \"objeto\" que será el modelo BERT y se alimentará del resultado de preprocessor, retornando el texto transformado en un vector numérico.\n",
    "\n",
    "preprocessor = hub.load(\"https://tfhub.dev/tensorflow/bert_en_uncased_preprocess/3\")\n",
    "encoder = hub.load(\"https://tfhub.dev/tensorflow/small_bert/bert_en_uncased_L-2_H-128_A-2/2\")"
   ]
  },
  {
   "cell_type": "code",
   "execution_count": 44,
   "metadata": {
    "id": "i97PWesb7h9u"
   },
   "outputs": [],
   "source": [
    "# 5to paso: Vamos a usar el objeto preprocessor, y guardamos su resultado en la variable embedding\n",
    "##   A modo de ejemplo para su revisión, solo vamos a transformar dos textos:\n",
    "\n",
    "embedding = preprocessor(df['mensaje']) # df['mensaje'] es el texto"
   ]
  },
  {
   "cell_type": "code",
   "execution_count": 45,
   "metadata": {
    "id": "RNWAGk8H7h9u"
   },
   "outputs": [],
   "source": [
    "# 6to paso: Vamos a codificar el texto con el modelo BERT:\n",
    "##   - Fijarse que el objeto encoder recibe como argumento la variable embedding (resultado de preprocessor)\n",
    "##   - Copiar el siguiente código de forma literal\n",
    "\n",
    "pooled_output = encoder(embedding)[\"pooled_output\"]"
   ]
  },
  {
   "cell_type": "code",
   "execution_count": 46,
   "metadata": {
    "colab": {
     "base_uri": "https://localhost:8080/"
    },
    "id": "NeP3SHUB7h9u",
    "outputId": "8102554d-1a49-4788-e27c-6ff98b5a1d1e"
   },
   "outputs": [
    {
     "data": {
      "text/plain": [
       "<tf.Tensor: shape=(1290, 128), dtype=float32, numpy=\n",
       "array([[-0.9999836 ,  0.01233948, -0.97867   , ...,  0.973742  ,\n",
       "         0.8694874 ,  0.92939764],\n",
       "       [-0.99979466,  0.05645132, -0.9942094 , ...,  0.8997836 ,\n",
       "         0.8589003 ,  0.99508   ],\n",
       "       [-0.99994373,  0.02813301, -0.9845494 , ...,  0.7336781 ,\n",
       "         0.9590306 ,  0.9695843 ],\n",
       "       ...,\n",
       "       [-0.99999374,  0.0523458 , -0.9969019 , ...,  0.97015846,\n",
       "         0.99530405,  0.937511  ],\n",
       "       [-0.9999974 ,  0.08623964, -0.9962204 , ...,  0.9832027 ,\n",
       "         0.6856059 ,  0.94771725],\n",
       "       [-0.9996448 ,  0.09184259, -0.9976636 , ...,  0.90646094,\n",
       "         0.9652779 ,  0.9989037 ]], dtype=float32)>"
      ]
     },
     "execution_count": 46,
     "metadata": {},
     "output_type": "execute_result"
    }
   ],
   "source": [
    "# Opcional: revisamos el contenido de la variable pooled_output, el cual tiene dos vectores de 128 dimensiones\n",
    "##\n",
    "##    - Dos vectores, porque le pasamos solo dos textos\n",
    "##    - 128 dimensiones, porque el modelo BERT utilizado convierte cualquier texto (independiente del largo) en un vector numérico de 128 dimensiones.\n",
    "\n",
    "pooled_output"
   ]
  },
  {
   "cell_type": "code",
   "execution_count": 47,
   "metadata": {
    "id": "qRqRERen7h9u"
   },
   "outputs": [],
   "source": [
    "# 7mo paso: El contenido de la variable pooled_output es una estructura de datos de tipo tensorflow.\n",
    "#           Para transformarlo a un dataframe y usarlo de forma tradicional con los modelos clásicos, \n",
    "#           ejecutamos la siguiente linea de código:\n",
    "\n",
    "dataX2 = pd.DataFrame(pooled_output.numpy())"
   ]
  },
  {
   "cell_type": "code",
   "execution_count": 48,
   "metadata": {
    "colab": {
     "base_uri": "https://localhost:8080/"
    },
    "id": "LZS8ulDi7h9u",
    "outputId": "cd74da12-b5fd-4b25-b7e1-a2ece8d396c1"
   },
   "outputs": [
    {
     "data": {
      "text/plain": [
       "(1290, 128)"
      ]
     },
     "execution_count": 48,
     "metadata": {},
     "output_type": "execute_result"
    }
   ],
   "source": [
    "# Opcional:  Ahora la variable dataX es un dataframe y podemos revisar su dimensionalidad y visualizarlo:\n",
    "dataX2.shape"
   ]
  },
  {
   "cell_type": "code",
   "execution_count": 49,
   "metadata": {
    "colab": {
     "base_uri": "https://localhost:8080/",
     "height": 424
    },
    "id": "Ysk9H8Nf7h9u",
    "outputId": "fc0fc3e4-9624-4e5e-8797-7af21122ec8f"
   },
   "outputs": [
    {
     "data": {
      "text/html": [
       "<div>\n",
       "<style scoped>\n",
       "    .dataframe tbody tr th:only-of-type {\n",
       "        vertical-align: middle;\n",
       "    }\n",
       "\n",
       "    .dataframe tbody tr th {\n",
       "        vertical-align: top;\n",
       "    }\n",
       "\n",
       "    .dataframe thead th {\n",
       "        text-align: right;\n",
       "    }\n",
       "</style>\n",
       "<table border=\"1\" class=\"dataframe\">\n",
       "  <thead>\n",
       "    <tr style=\"text-align: right;\">\n",
       "      <th></th>\n",
       "      <th>0</th>\n",
       "      <th>1</th>\n",
       "      <th>2</th>\n",
       "      <th>3</th>\n",
       "      <th>4</th>\n",
       "      <th>5</th>\n",
       "      <th>6</th>\n",
       "      <th>7</th>\n",
       "      <th>8</th>\n",
       "      <th>9</th>\n",
       "      <th>...</th>\n",
       "      <th>118</th>\n",
       "      <th>119</th>\n",
       "      <th>120</th>\n",
       "      <th>121</th>\n",
       "      <th>122</th>\n",
       "      <th>123</th>\n",
       "      <th>124</th>\n",
       "      <th>125</th>\n",
       "      <th>126</th>\n",
       "      <th>127</th>\n",
       "    </tr>\n",
       "  </thead>\n",
       "  <tbody>\n",
       "    <tr>\n",
       "      <th>0</th>\n",
       "      <td>-0.999984</td>\n",
       "      <td>0.012339</td>\n",
       "      <td>-0.978670</td>\n",
       "      <td>-0.390501</td>\n",
       "      <td>-0.916917</td>\n",
       "      <td>0.785426</td>\n",
       "      <td>-0.960855</td>\n",
       "      <td>-0.899993</td>\n",
       "      <td>-0.026774</td>\n",
       "      <td>0.006909</td>\n",
       "      <td>...</td>\n",
       "      <td>0.102973</td>\n",
       "      <td>-0.997656</td>\n",
       "      <td>0.131492</td>\n",
       "      <td>-0.999817</td>\n",
       "      <td>-0.885076</td>\n",
       "      <td>0.849013</td>\n",
       "      <td>-0.998878</td>\n",
       "      <td>0.973742</td>\n",
       "      <td>0.869487</td>\n",
       "      <td>0.929398</td>\n",
       "    </tr>\n",
       "    <tr>\n",
       "      <th>1</th>\n",
       "      <td>-0.999795</td>\n",
       "      <td>0.056451</td>\n",
       "      <td>-0.994209</td>\n",
       "      <td>0.063637</td>\n",
       "      <td>-0.976721</td>\n",
       "      <td>-0.259604</td>\n",
       "      <td>-0.996063</td>\n",
       "      <td>0.210839</td>\n",
       "      <td>0.120435</td>\n",
       "      <td>0.046410</td>\n",
       "      <td>...</td>\n",
       "      <td>0.136751</td>\n",
       "      <td>-0.518643</td>\n",
       "      <td>0.198305</td>\n",
       "      <td>-0.999841</td>\n",
       "      <td>-0.667421</td>\n",
       "      <td>0.978685</td>\n",
       "      <td>-0.995415</td>\n",
       "      <td>0.899784</td>\n",
       "      <td>0.858900</td>\n",
       "      <td>0.995080</td>\n",
       "    </tr>\n",
       "    <tr>\n",
       "      <th>2</th>\n",
       "      <td>-0.999944</td>\n",
       "      <td>0.028133</td>\n",
       "      <td>-0.984549</td>\n",
       "      <td>0.188969</td>\n",
       "      <td>-0.981058</td>\n",
       "      <td>-0.075677</td>\n",
       "      <td>-0.987081</td>\n",
       "      <td>-0.971607</td>\n",
       "      <td>-0.040403</td>\n",
       "      <td>-0.020766</td>\n",
       "      <td>...</td>\n",
       "      <td>0.121796</td>\n",
       "      <td>-0.987217</td>\n",
       "      <td>0.160352</td>\n",
       "      <td>-0.999855</td>\n",
       "      <td>-0.689945</td>\n",
       "      <td>0.858107</td>\n",
       "      <td>-0.990487</td>\n",
       "      <td>0.733678</td>\n",
       "      <td>0.959031</td>\n",
       "      <td>0.969584</td>\n",
       "    </tr>\n",
       "    <tr>\n",
       "      <th>3</th>\n",
       "      <td>-0.999998</td>\n",
       "      <td>0.087004</td>\n",
       "      <td>-0.998042</td>\n",
       "      <td>0.028922</td>\n",
       "      <td>-0.895981</td>\n",
       "      <td>0.884447</td>\n",
       "      <td>-0.944886</td>\n",
       "      <td>-0.877754</td>\n",
       "      <td>0.108473</td>\n",
       "      <td>0.004284</td>\n",
       "      <td>...</td>\n",
       "      <td>0.142328</td>\n",
       "      <td>-0.998706</td>\n",
       "      <td>0.098014</td>\n",
       "      <td>-0.999967</td>\n",
       "      <td>-0.565350</td>\n",
       "      <td>0.954452</td>\n",
       "      <td>-0.998851</td>\n",
       "      <td>0.997118</td>\n",
       "      <td>0.963491</td>\n",
       "      <td>0.777209</td>\n",
       "    </tr>\n",
       "    <tr>\n",
       "      <th>4</th>\n",
       "      <td>-0.999968</td>\n",
       "      <td>0.092309</td>\n",
       "      <td>-0.991751</td>\n",
       "      <td>-0.398493</td>\n",
       "      <td>-0.989488</td>\n",
       "      <td>0.908049</td>\n",
       "      <td>-0.992710</td>\n",
       "      <td>0.105460</td>\n",
       "      <td>0.048611</td>\n",
       "      <td>-0.012153</td>\n",
       "      <td>...</td>\n",
       "      <td>0.218415</td>\n",
       "      <td>-0.997700</td>\n",
       "      <td>0.167798</td>\n",
       "      <td>-0.999842</td>\n",
       "      <td>-0.863140</td>\n",
       "      <td>0.947459</td>\n",
       "      <td>-0.997234</td>\n",
       "      <td>0.991300</td>\n",
       "      <td>0.993118</td>\n",
       "      <td>0.958039</td>\n",
       "    </tr>\n",
       "    <tr>\n",
       "      <th>...</th>\n",
       "      <td>...</td>\n",
       "      <td>...</td>\n",
       "      <td>...</td>\n",
       "      <td>...</td>\n",
       "      <td>...</td>\n",
       "      <td>...</td>\n",
       "      <td>...</td>\n",
       "      <td>...</td>\n",
       "      <td>...</td>\n",
       "      <td>...</td>\n",
       "      <td>...</td>\n",
       "      <td>...</td>\n",
       "      <td>...</td>\n",
       "      <td>...</td>\n",
       "      <td>...</td>\n",
       "      <td>...</td>\n",
       "      <td>...</td>\n",
       "      <td>...</td>\n",
       "      <td>...</td>\n",
       "      <td>...</td>\n",
       "      <td>...</td>\n",
       "    </tr>\n",
       "    <tr>\n",
       "      <th>1285</th>\n",
       "      <td>-0.999991</td>\n",
       "      <td>0.060197</td>\n",
       "      <td>-0.999659</td>\n",
       "      <td>0.075845</td>\n",
       "      <td>-0.996350</td>\n",
       "      <td>0.716204</td>\n",
       "      <td>-0.992615</td>\n",
       "      <td>0.528149</td>\n",
       "      <td>0.107021</td>\n",
       "      <td>-0.010136</td>\n",
       "      <td>...</td>\n",
       "      <td>0.220872</td>\n",
       "      <td>-0.996582</td>\n",
       "      <td>0.114361</td>\n",
       "      <td>-0.999985</td>\n",
       "      <td>-0.912078</td>\n",
       "      <td>0.941813</td>\n",
       "      <td>-0.999059</td>\n",
       "      <td>0.975390</td>\n",
       "      <td>0.980778</td>\n",
       "      <td>0.920063</td>\n",
       "    </tr>\n",
       "    <tr>\n",
       "      <th>1286</th>\n",
       "      <td>-0.999953</td>\n",
       "      <td>0.030791</td>\n",
       "      <td>-0.999822</td>\n",
       "      <td>0.927945</td>\n",
       "      <td>-0.999750</td>\n",
       "      <td>-0.179566</td>\n",
       "      <td>-0.987749</td>\n",
       "      <td>0.726748</td>\n",
       "      <td>0.090772</td>\n",
       "      <td>0.035918</td>\n",
       "      <td>...</td>\n",
       "      <td>0.108623</td>\n",
       "      <td>-0.716046</td>\n",
       "      <td>0.121274</td>\n",
       "      <td>-0.999976</td>\n",
       "      <td>-0.861851</td>\n",
       "      <td>0.668276</td>\n",
       "      <td>-0.994187</td>\n",
       "      <td>0.888636</td>\n",
       "      <td>0.890242</td>\n",
       "      <td>0.972008</td>\n",
       "    </tr>\n",
       "    <tr>\n",
       "      <th>1287</th>\n",
       "      <td>-0.999994</td>\n",
       "      <td>0.052346</td>\n",
       "      <td>-0.996902</td>\n",
       "      <td>0.245643</td>\n",
       "      <td>-0.920715</td>\n",
       "      <td>0.041507</td>\n",
       "      <td>-0.978795</td>\n",
       "      <td>-0.972810</td>\n",
       "      <td>-0.000674</td>\n",
       "      <td>-0.063252</td>\n",
       "      <td>...</td>\n",
       "      <td>0.127478</td>\n",
       "      <td>-0.997758</td>\n",
       "      <td>0.113584</td>\n",
       "      <td>-0.999896</td>\n",
       "      <td>-0.482480</td>\n",
       "      <td>0.967473</td>\n",
       "      <td>-0.997917</td>\n",
       "      <td>0.970158</td>\n",
       "      <td>0.995304</td>\n",
       "      <td>0.937511</td>\n",
       "    </tr>\n",
       "    <tr>\n",
       "      <th>1288</th>\n",
       "      <td>-0.999997</td>\n",
       "      <td>0.086240</td>\n",
       "      <td>-0.996220</td>\n",
       "      <td>0.014216</td>\n",
       "      <td>-0.955859</td>\n",
       "      <td>0.794546</td>\n",
       "      <td>-0.974418</td>\n",
       "      <td>-0.943467</td>\n",
       "      <td>0.073484</td>\n",
       "      <td>0.030729</td>\n",
       "      <td>...</td>\n",
       "      <td>0.147318</td>\n",
       "      <td>-0.997681</td>\n",
       "      <td>0.099959</td>\n",
       "      <td>-0.999968</td>\n",
       "      <td>-0.603682</td>\n",
       "      <td>0.850176</td>\n",
       "      <td>-0.999193</td>\n",
       "      <td>0.983203</td>\n",
       "      <td>0.685606</td>\n",
       "      <td>0.947717</td>\n",
       "    </tr>\n",
       "    <tr>\n",
       "      <th>1289</th>\n",
       "      <td>-0.999645</td>\n",
       "      <td>0.091843</td>\n",
       "      <td>-0.997664</td>\n",
       "      <td>0.946096</td>\n",
       "      <td>-0.999344</td>\n",
       "      <td>0.163253</td>\n",
       "      <td>-0.999165</td>\n",
       "      <td>0.995323</td>\n",
       "      <td>0.138288</td>\n",
       "      <td>0.038712</td>\n",
       "      <td>...</td>\n",
       "      <td>0.211061</td>\n",
       "      <td>-0.527321</td>\n",
       "      <td>0.219368</td>\n",
       "      <td>-0.999742</td>\n",
       "      <td>-0.661678</td>\n",
       "      <td>0.841890</td>\n",
       "      <td>-0.998527</td>\n",
       "      <td>0.906461</td>\n",
       "      <td>0.965278</td>\n",
       "      <td>0.998904</td>\n",
       "    </tr>\n",
       "  </tbody>\n",
       "</table>\n",
       "<p>1290 rows × 128 columns</p>\n",
       "</div>"
      ],
      "text/plain": [
       "           0         1         2         3         4         5         6    \\\n",
       "0    -0.999984  0.012339 -0.978670 -0.390501 -0.916917  0.785426 -0.960855   \n",
       "1    -0.999795  0.056451 -0.994209  0.063637 -0.976721 -0.259604 -0.996063   \n",
       "2    -0.999944  0.028133 -0.984549  0.188969 -0.981058 -0.075677 -0.987081   \n",
       "3    -0.999998  0.087004 -0.998042  0.028922 -0.895981  0.884447 -0.944886   \n",
       "4    -0.999968  0.092309 -0.991751 -0.398493 -0.989488  0.908049 -0.992710   \n",
       "...        ...       ...       ...       ...       ...       ...       ...   \n",
       "1285 -0.999991  0.060197 -0.999659  0.075845 -0.996350  0.716204 -0.992615   \n",
       "1286 -0.999953  0.030791 -0.999822  0.927945 -0.999750 -0.179566 -0.987749   \n",
       "1287 -0.999994  0.052346 -0.996902  0.245643 -0.920715  0.041507 -0.978795   \n",
       "1288 -0.999997  0.086240 -0.996220  0.014216 -0.955859  0.794546 -0.974418   \n",
       "1289 -0.999645  0.091843 -0.997664  0.946096 -0.999344  0.163253 -0.999165   \n",
       "\n",
       "           7         8         9    ...       118       119       120  \\\n",
       "0    -0.899993 -0.026774  0.006909  ...  0.102973 -0.997656  0.131492   \n",
       "1     0.210839  0.120435  0.046410  ...  0.136751 -0.518643  0.198305   \n",
       "2    -0.971607 -0.040403 -0.020766  ...  0.121796 -0.987217  0.160352   \n",
       "3    -0.877754  0.108473  0.004284  ...  0.142328 -0.998706  0.098014   \n",
       "4     0.105460  0.048611 -0.012153  ...  0.218415 -0.997700  0.167798   \n",
       "...        ...       ...       ...  ...       ...       ...       ...   \n",
       "1285  0.528149  0.107021 -0.010136  ...  0.220872 -0.996582  0.114361   \n",
       "1286  0.726748  0.090772  0.035918  ...  0.108623 -0.716046  0.121274   \n",
       "1287 -0.972810 -0.000674 -0.063252  ...  0.127478 -0.997758  0.113584   \n",
       "1288 -0.943467  0.073484  0.030729  ...  0.147318 -0.997681  0.099959   \n",
       "1289  0.995323  0.138288  0.038712  ...  0.211061 -0.527321  0.219368   \n",
       "\n",
       "           121       122       123       124       125       126       127  \n",
       "0    -0.999817 -0.885076  0.849013 -0.998878  0.973742  0.869487  0.929398  \n",
       "1    -0.999841 -0.667421  0.978685 -0.995415  0.899784  0.858900  0.995080  \n",
       "2    -0.999855 -0.689945  0.858107 -0.990487  0.733678  0.959031  0.969584  \n",
       "3    -0.999967 -0.565350  0.954452 -0.998851  0.997118  0.963491  0.777209  \n",
       "4    -0.999842 -0.863140  0.947459 -0.997234  0.991300  0.993118  0.958039  \n",
       "...        ...       ...       ...       ...       ...       ...       ...  \n",
       "1285 -0.999985 -0.912078  0.941813 -0.999059  0.975390  0.980778  0.920063  \n",
       "1286 -0.999976 -0.861851  0.668276 -0.994187  0.888636  0.890242  0.972008  \n",
       "1287 -0.999896 -0.482480  0.967473 -0.997917  0.970158  0.995304  0.937511  \n",
       "1288 -0.999968 -0.603682  0.850176 -0.999193  0.983203  0.685606  0.947717  \n",
       "1289 -0.999742 -0.661678  0.841890 -0.998527  0.906461  0.965278  0.998904  \n",
       "\n",
       "[1290 rows x 128 columns]"
      ]
     },
     "execution_count": 49,
     "metadata": {},
     "output_type": "execute_result"
    }
   ],
   "source": [
    "dataX2"
   ]
  },
  {
   "cell_type": "markdown",
   "metadata": {
    "id": "CvmDKvOr7h9u"
   },
   "source": [
    "##seleccion de las variable"
   ]
  },
  {
   "cell_type": "code",
   "execution_count": 50,
   "metadata": {
    "id": "Cep31CS_7h9u"
   },
   "outputs": [],
   "source": [
    "X = dataX2 \n",
    "Y = df['resultado'].copy()"
   ]
  },
  {
   "cell_type": "code",
   "execution_count": 51,
   "metadata": {
    "colab": {
     "base_uri": "https://localhost:8080/"
    },
    "id": "yt_i_a9D7h9u",
    "outputId": "08691c95-ccb7-444a-d8c0-7bd2bc6e3ac4"
   },
   "outputs": [
    {
     "data": {
      "text/plain": [
       "RangeIndex(start=0, stop=128, step=1)"
      ]
     },
     "execution_count": 51,
     "metadata": {},
     "output_type": "execute_result"
    }
   ],
   "source": [
    "X.columns"
   ]
  },
  {
   "cell_type": "code",
   "execution_count": 52,
   "metadata": {
    "colab": {
     "base_uri": "https://localhost:8080/"
    },
    "id": "N6hmIrgd7h9v",
    "outputId": "f8ecfcf7-004d-4602-9559-c33ad1b3ac89"
   },
   "outputs": [
    {
     "name": "stdout",
     "output_type": "stream",
     "text": [
      "<class 'pandas.core.frame.DataFrame'>\n",
      "RangeIndex: 1290 entries, 0 to 1289\n",
      "Columns: 128 entries, 0 to 127\n",
      "dtypes: float32(128)\n",
      "memory usage: 645.1 KB\n"
     ]
    }
   ],
   "source": [
    "X.info()"
   ]
  },
  {
   "cell_type": "code",
   "execution_count": 53,
   "metadata": {
    "colab": {
     "base_uri": "https://localhost:8080/"
    },
    "id": "eO2w7dXT7h9v",
    "outputId": "4f9378ef-ad44-42b5-abf7-c7b91f734e82"
   },
   "outputs": [
    {
     "data": {
      "text/plain": [
       "0    0\n",
       "1    0\n",
       "2    1\n",
       "3    0\n",
       "4    0\n",
       "Name: resultado, dtype: int64"
      ]
     },
     "execution_count": 53,
     "metadata": {},
     "output_type": "execute_result"
    }
   ],
   "source": [
    "Y.head()"
   ]
  },
  {
   "cell_type": "markdown",
   "metadata": {
    "id": "F8klIRF07h9v"
   },
   "source": [
    "## Balanceo de datos"
   ]
  },
  {
   "cell_type": "markdown",
   "metadata": {
    "id": "ZBybzqn97h9v"
   },
   "source": [
    "### Aplicando Smote"
   ]
  },
  {
   "cell_type": "code",
   "execution_count": 54,
   "metadata": {
    "colab": {
     "base_uri": "https://localhost:8080/"
    },
    "id": "FSX3cOte7h9v",
    "outputId": "b827f71e-4eea-406e-abfc-c86f9aa10216"
   },
   "outputs": [
    {
     "data": {
      "text/plain": [
       "Counter({0: 668, 1: 668})"
      ]
     },
     "execution_count": 54,
     "metadata": {},
     "output_type": "execute_result"
    }
   ],
   "source": [
    "from imblearn.over_sampling import SMOTE #over sobre nivelar hacia arriba under nivelacion hacia el menor dato\n",
    "#from imblearn.under_sampling import SMOTE \n",
    "\n",
    "smote = SMOTE(random_state = 325, n_jobs=-1)\n",
    "X_smote, Y_smote = smote.fit_resample(X, Y)# hace Balance de los datos a partir de los agreglos\n",
    "\n",
    "from collections import Counter\n",
    "\n",
    "Counter(Y_smote)"
   ]
  },
  {
   "cell_type": "markdown",
   "metadata": {
    "id": "sPOg7j8O7h9v"
   },
   "source": [
    "## Train y test"
   ]
  },
  {
   "cell_type": "code",
   "execution_count": 55,
   "metadata": {
    "id": "iw1VQ9Mm7h9v"
   },
   "outputs": [],
   "source": [
    "from sklearn.model_selection import train_test_split\n",
    "X_train_smote, X_test_smote, Y_train_smote, Y_test_smote = train_test_split(X_smote, Y_smote, random_state=325,test_size = 0.3)\n",
    "        \n",
    "X_train, X_test, Y_train, Y_test = train_test_split(X, Y, random_state=325,test_size = 0.3)        "
   ]
  },
  {
   "cell_type": "markdown",
   "metadata": {
    "id": "1h7NGZZz7h9v"
   },
   "source": [
    "## SVM\n"
   ]
  },
  {
   "cell_type": "markdown",
   "metadata": {
    "id": "fj5vZ17i7h9v"
   },
   "source": [
    "###SVC "
   ]
  },
  {
   "cell_type": "markdown",
   "metadata": {
    "id": "33rM6IP47h9v"
   },
   "source": [
    "#### Caso 1"
   ]
  },
  {
   "cell_type": "code",
   "execution_count": 56,
   "metadata": {
    "id": "vF6EsF8C7h9v"
   },
   "outputs": [],
   "source": [
    "parametros = {'C'      : np.arange(1, 5, 1),\n",
    "            'gamma'  : np.arange(1, 5, 1),\n",
    "           'kernel' : ['rbf', 'linear','sigmoid']}\n",
    "\n",
    "from sklearn.svm import SVC\n",
    "from sklearn.model_selection import GridSearchCV\n",
    "\n",
    "clf = SVC(class_weight='balanced', random_state=325)  \n",
    "grid_search = GridSearchCV(clf, parametros, n_jobs=-1, cv=5) "
   ]
  },
  {
   "cell_type": "code",
   "execution_count": 57,
   "metadata": {
    "colab": {
     "base_uri": "https://localhost:8080/"
    },
    "id": "gT0i8rFC7h9w",
    "outputId": "bfd6b886-750f-4c83-cdf3-7058d5f980a9"
   },
   "outputs": [
    {
     "data": {
      "text/html": [
       "<style>#sk-container-id-3 {color: black;background-color: white;}#sk-container-id-3 pre{padding: 0;}#sk-container-id-3 div.sk-toggleable {background-color: white;}#sk-container-id-3 label.sk-toggleable__label {cursor: pointer;display: block;width: 100%;margin-bottom: 0;padding: 0.3em;box-sizing: border-box;text-align: center;}#sk-container-id-3 label.sk-toggleable__label-arrow:before {content: \"▸\";float: left;margin-right: 0.25em;color: #696969;}#sk-container-id-3 label.sk-toggleable__label-arrow:hover:before {color: black;}#sk-container-id-3 div.sk-estimator:hover label.sk-toggleable__label-arrow:before {color: black;}#sk-container-id-3 div.sk-toggleable__content {max-height: 0;max-width: 0;overflow: hidden;text-align: left;background-color: #f0f8ff;}#sk-container-id-3 div.sk-toggleable__content pre {margin: 0.2em;color: black;border-radius: 0.25em;background-color: #f0f8ff;}#sk-container-id-3 input.sk-toggleable__control:checked~div.sk-toggleable__content {max-height: 200px;max-width: 100%;overflow: auto;}#sk-container-id-3 input.sk-toggleable__control:checked~label.sk-toggleable__label-arrow:before {content: \"▾\";}#sk-container-id-3 div.sk-estimator input.sk-toggleable__control:checked~label.sk-toggleable__label {background-color: #d4ebff;}#sk-container-id-3 div.sk-label input.sk-toggleable__control:checked~label.sk-toggleable__label {background-color: #d4ebff;}#sk-container-id-3 input.sk-hidden--visually {border: 0;clip: rect(1px 1px 1px 1px);clip: rect(1px, 1px, 1px, 1px);height: 1px;margin: -1px;overflow: hidden;padding: 0;position: absolute;width: 1px;}#sk-container-id-3 div.sk-estimator {font-family: monospace;background-color: #f0f8ff;border: 1px dotted black;border-radius: 0.25em;box-sizing: border-box;margin-bottom: 0.5em;}#sk-container-id-3 div.sk-estimator:hover {background-color: #d4ebff;}#sk-container-id-3 div.sk-parallel-item::after {content: \"\";width: 100%;border-bottom: 1px solid gray;flex-grow: 1;}#sk-container-id-3 div.sk-label:hover label.sk-toggleable__label {background-color: #d4ebff;}#sk-container-id-3 div.sk-serial::before {content: \"\";position: absolute;border-left: 1px solid gray;box-sizing: border-box;top: 0;bottom: 0;left: 50%;z-index: 0;}#sk-container-id-3 div.sk-serial {display: flex;flex-direction: column;align-items: center;background-color: white;padding-right: 0.2em;padding-left: 0.2em;position: relative;}#sk-container-id-3 div.sk-item {position: relative;z-index: 1;}#sk-container-id-3 div.sk-parallel {display: flex;align-items: stretch;justify-content: center;background-color: white;position: relative;}#sk-container-id-3 div.sk-item::before, #sk-container-id-3 div.sk-parallel-item::before {content: \"\";position: absolute;border-left: 1px solid gray;box-sizing: border-box;top: 0;bottom: 0;left: 50%;z-index: -1;}#sk-container-id-3 div.sk-parallel-item {display: flex;flex-direction: column;z-index: 1;position: relative;background-color: white;}#sk-container-id-3 div.sk-parallel-item:first-child::after {align-self: flex-end;width: 50%;}#sk-container-id-3 div.sk-parallel-item:last-child::after {align-self: flex-start;width: 50%;}#sk-container-id-3 div.sk-parallel-item:only-child::after {width: 0;}#sk-container-id-3 div.sk-dashed-wrapped {border: 1px dashed gray;margin: 0 0.4em 0.5em 0.4em;box-sizing: border-box;padding-bottom: 0.4em;background-color: white;}#sk-container-id-3 div.sk-label label {font-family: monospace;font-weight: bold;display: inline-block;line-height: 1.2em;}#sk-container-id-3 div.sk-label-container {text-align: center;}#sk-container-id-3 div.sk-container {/* jupyter's `normalize.less` sets `[hidden] { display: none; }` but bootstrap.min.css set `[hidden] { display: none !important; }` so we also need the `!important` here to be able to override the default hidden behavior on the sphinx rendered scikit-learn.org. See: https://github.com/scikit-learn/scikit-learn/issues/21755 */display: inline-block !important;position: relative;}#sk-container-id-3 div.sk-text-repr-fallback {display: none;}</style><div id=\"sk-container-id-3\" class=\"sk-top-container\"><div class=\"sk-text-repr-fallback\"><pre>GridSearchCV(cv=5, estimator=SVC(class_weight=&#x27;balanced&#x27;, random_state=325),\n",
       "             n_jobs=-1,\n",
       "             param_grid={&#x27;C&#x27;: array([1, 2, 3, 4]), &#x27;gamma&#x27;: array([1, 2, 3, 4]),\n",
       "                         &#x27;kernel&#x27;: [&#x27;rbf&#x27;, &#x27;linear&#x27;, &#x27;sigmoid&#x27;]})</pre><b>In a Jupyter environment, please rerun this cell to show the HTML representation or trust the notebook. <br />On GitHub, the HTML representation is unable to render, please try loading this page with nbviewer.org.</b></div><div class=\"sk-container\" hidden><div class=\"sk-item sk-dashed-wrapped\"><div class=\"sk-label-container\"><div class=\"sk-label sk-toggleable\"><input class=\"sk-toggleable__control sk-hidden--visually\" id=\"sk-estimator-id-7\" type=\"checkbox\" ><label for=\"sk-estimator-id-7\" class=\"sk-toggleable__label sk-toggleable__label-arrow\">GridSearchCV</label><div class=\"sk-toggleable__content\"><pre>GridSearchCV(cv=5, estimator=SVC(class_weight=&#x27;balanced&#x27;, random_state=325),\n",
       "             n_jobs=-1,\n",
       "             param_grid={&#x27;C&#x27;: array([1, 2, 3, 4]), &#x27;gamma&#x27;: array([1, 2, 3, 4]),\n",
       "                         &#x27;kernel&#x27;: [&#x27;rbf&#x27;, &#x27;linear&#x27;, &#x27;sigmoid&#x27;]})</pre></div></div></div><div class=\"sk-parallel\"><div class=\"sk-parallel-item\"><div class=\"sk-item\"><div class=\"sk-label-container\"><div class=\"sk-label sk-toggleable\"><input class=\"sk-toggleable__control sk-hidden--visually\" id=\"sk-estimator-id-8\" type=\"checkbox\" ><label for=\"sk-estimator-id-8\" class=\"sk-toggleable__label sk-toggleable__label-arrow\">estimator: SVC</label><div class=\"sk-toggleable__content\"><pre>SVC(class_weight=&#x27;balanced&#x27;, random_state=325)</pre></div></div></div><div class=\"sk-serial\"><div class=\"sk-item\"><div class=\"sk-estimator sk-toggleable\"><input class=\"sk-toggleable__control sk-hidden--visually\" id=\"sk-estimator-id-9\" type=\"checkbox\" ><label for=\"sk-estimator-id-9\" class=\"sk-toggleable__label sk-toggleable__label-arrow\">SVC</label><div class=\"sk-toggleable__content\"><pre>SVC(class_weight=&#x27;balanced&#x27;, random_state=325)</pre></div></div></div></div></div></div></div></div></div></div>"
      ],
      "text/plain": [
       "GridSearchCV(cv=5, estimator=SVC(class_weight='balanced', random_state=325),\n",
       "             n_jobs=-1,\n",
       "             param_grid={'C': array([1, 2, 3, 4]), 'gamma': array([1, 2, 3, 4]),\n",
       "                         'kernel': ['rbf', 'linear', 'sigmoid']})"
      ]
     },
     "execution_count": 57,
     "metadata": {},
     "output_type": "execute_result"
    }
   ],
   "source": [
    "grid_search.fit(X_train_smote, Y_train_smote)"
   ]
  },
  {
   "cell_type": "code",
   "execution_count": 58,
   "metadata": {
    "colab": {
     "base_uri": "https://localhost:8080/"
    },
    "id": "OJMK-ZJS7h9w",
    "outputId": "c04ed3b8-ec45-412b-f17d-dd73795bf635"
   },
   "outputs": [
    {
     "name": "stdout",
     "output_type": "stream",
     "text": [
      "El mejor modelo:\n",
      " {'C': 1, 'gamma': 1, 'kernel': 'linear'}\n"
     ]
    }
   ],
   "source": [
    "print('El mejor modelo:\\n', grid_search.best_params_)"
   ]
  },
  {
   "cell_type": "code",
   "execution_count": 59,
   "metadata": {
    "id": "adMoHplV7h9w"
   },
   "outputs": [],
   "source": [
    "clf_best = grid_search.best_estimator_\n",
    "pred = clf_best.predict(X_test_smote)"
   ]
  },
  {
   "cell_type": "code",
   "execution_count": 60,
   "metadata": {
    "colab": {
     "base_uri": "https://localhost:8080/"
    },
    "id": "TncoOjTy7h9w",
    "outputId": "0e806128-3eac-44f1-8c0d-ead4766f928f"
   },
   "outputs": [
    {
     "name": "stdout",
     "output_type": "stream",
     "text": [
      "              precision    recall  f1-score   support\n",
      "\n",
      "           0       0.96      0.96      0.96       212\n",
      "           1       0.96      0.95      0.95       189\n",
      "\n",
      "    accuracy                           0.96       401\n",
      "   macro avg       0.96      0.96      0.96       401\n",
      "weighted avg       0.96      0.96      0.96       401\n",
      "\n"
     ]
    }
   ],
   "source": [
    "from sklearn.metrics import classification_report\n",
    "print(classification_report(Y_test_smote, pred))"
   ]
  },
  {
   "cell_type": "code",
   "execution_count": 61,
   "metadata": {
    "colab": {
     "base_uri": "https://localhost:8080/",
     "height": 347
    },
    "id": "fT6weX557h9w",
    "outputId": "0b314ee9-8a24-4302-f958-94b8abd6764a"
   },
   "outputs": [
    {
     "name": "stdout",
     "output_type": "stream",
     "text": [
      "Matriz de Confusión\n",
      "[[204   8]\n",
      " [  9 180]]\n"
     ]
    },
    {
     "data": {
      "image/png": "[encoded data removed]",
      "text/plain": [
       "<Figure size 432x288 with 2 Axes>"
      ]
     },
     "metadata": {
      "needs_background": "light"
     },
     "output_type": "display_data"
    }
   ],
   "source": [
    "from sklearn.metrics import ConfusionMatrixDisplay\n",
    "\n",
    "\n",
    "disp = ConfusionMatrixDisplay.from_estimator(\n",
    "       clf_best,\n",
    "       X_test_smote,\n",
    "       Y_test_smote,\n",
    "       display_labels=None,\n",
    "       cmap=plt.cm.Blues,\n",
    "       normalize=None)\n",
    "\n",
    "disp.ax_.set_title('Matriz de Confusión')\n",
    "disp.ax_.set_xlabel('Predicción');\n",
    "disp.ax_.set_ylabel('Realidad'); \n",
    "disp.ax_.xaxis.set_ticklabels(['0', '1']); \n",
    "disp.ax_.yaxis.set_ticklabels(['0', '1']);\n",
    "\n",
    "print('Matriz de Confusión')\n",
    "print(disp.confusion_matrix)\n",
    "\n",
    "plt.show()"
   ]
  },
  {
   "cell_type": "markdown",
   "metadata": {
    "id": "GtZRs-UI7h9w"
   },
   "source": [
    "### Nusvm"
   ]
  },
  {
   "cell_type": "markdown",
   "metadata": {
    "id": "Rid-2NC17h9w"
   },
   "source": [
    "#### Caso 1"
   ]
  },
  {
   "cell_type": "code",
   "execution_count": 62,
   "metadata": {
    "id": "80z6S8sq7h9w"
   },
   "outputs": [],
   "source": [
    "parametros = {'nu'      : np.arange(0, 1, 0.1),\n",
    "            'gamma'  : ['scale','auto'],\n",
    "           'kernel' : ['rbf', 'linear','sigmoid']}\n",
    "\n",
    "from sklearn.svm import NuSVC\n",
    "from sklearn.model_selection import GridSearchCV\n",
    "\n",
    "clf = NuSVC(class_weight='balanced', random_state=325)  \n",
    "grid_search = GridSearchCV(clf, parametros, n_jobs=-1, cv=5) "
   ]
  },
  {
   "cell_type": "code",
   "execution_count": 63,
   "metadata": {
    "colab": {
     "base_uri": "https://localhost:8080/"
    },
    "id": "kekqB54y7h9w",
    "outputId": "b7881585-34a7-4230-ed35-db1037200839"
   },
   "outputs": [
    {
     "data": {
      "text/html": [
       "<style>#sk-container-id-4 {color: black;background-color: white;}#sk-container-id-4 pre{padding: 0;}#sk-container-id-4 div.sk-toggleable {background-color: white;}#sk-container-id-4 label.sk-toggleable__label {cursor: pointer;display: block;width: 100%;margin-bottom: 0;padding: 0.3em;box-sizing: border-box;text-align: center;}#sk-container-id-4 label.sk-toggleable__label-arrow:before {content: \"▸\";float: left;margin-right: 0.25em;color: #696969;}#sk-container-id-4 label.sk-toggleable__label-arrow:hover:before {color: black;}#sk-container-id-4 div.sk-estimator:hover label.sk-toggleable__label-arrow:before {color: black;}#sk-container-id-4 div.sk-toggleable__content {max-height: 0;max-width: 0;overflow: hidden;text-align: left;background-color: #f0f8ff;}#sk-container-id-4 div.sk-toggleable__content pre {margin: 0.2em;color: black;border-radius: 0.25em;background-color: #f0f8ff;}#sk-container-id-4 input.sk-toggleable__control:checked~div.sk-toggleable__content {max-height: 200px;max-width: 100%;overflow: auto;}#sk-container-id-4 input.sk-toggleable__control:checked~label.sk-toggleable__label-arrow:before {content: \"▾\";}#sk-container-id-4 div.sk-estimator input.sk-toggleable__control:checked~label.sk-toggleable__label {background-color: #d4ebff;}#sk-container-id-4 div.sk-label input.sk-toggleable__control:checked~label.sk-toggleable__label {background-color: #d4ebff;}#sk-container-id-4 input.sk-hidden--visually {border: 0;clip: rect(1px 1px 1px 1px);clip: rect(1px, 1px, 1px, 1px);height: 1px;margin: -1px;overflow: hidden;padding: 0;position: absolute;width: 1px;}#sk-container-id-4 div.sk-estimator {font-family: monospace;background-color: #f0f8ff;border: 1px dotted black;border-radius: 0.25em;box-sizing: border-box;margin-bottom: 0.5em;}#sk-container-id-4 div.sk-estimator:hover {background-color: #d4ebff;}#sk-container-id-4 div.sk-parallel-item::after {content: \"\";width: 100%;border-bottom: 1px solid gray;flex-grow: 1;}#sk-container-id-4 div.sk-label:hover label.sk-toggleable__label {background-color: #d4ebff;}#sk-container-id-4 div.sk-serial::before {content: \"\";position: absolute;border-left: 1px solid gray;box-sizing: border-box;top: 0;bottom: 0;left: 50%;z-index: 0;}#sk-container-id-4 div.sk-serial {display: flex;flex-direction: column;align-items: center;background-color: white;padding-right: 0.2em;padding-left: 0.2em;position: relative;}#sk-container-id-4 div.sk-item {position: relative;z-index: 1;}#sk-container-id-4 div.sk-parallel {display: flex;align-items: stretch;justify-content: center;background-color: white;position: relative;}#sk-container-id-4 div.sk-item::before, #sk-container-id-4 div.sk-parallel-item::before {content: \"\";position: absolute;border-left: 1px solid gray;box-sizing: border-box;top: 0;bottom: 0;left: 50%;z-index: -1;}#sk-container-id-4 div.sk-parallel-item {display: flex;flex-direction: column;z-index: 1;position: relative;background-color: white;}#sk-container-id-4 div.sk-parallel-item:first-child::after {align-self: flex-end;width: 50%;}#sk-container-id-4 div.sk-parallel-item:last-child::after {align-self: flex-start;width: 50%;}#sk-container-id-4 div.sk-parallel-item:only-child::after {width: 0;}#sk-container-id-4 div.sk-dashed-wrapped {border: 1px dashed gray;margin: 0 0.4em 0.5em 0.4em;box-sizing: border-box;padding-bottom: 0.4em;background-color: white;}#sk-container-id-4 div.sk-label label {font-family: monospace;font-weight: bold;display: inline-block;line-height: 1.2em;}#sk-container-id-4 div.sk-label-container {text-align: center;}#sk-container-id-4 div.sk-container {/* jupyter's `normalize.less` sets `[hidden] { display: none; }` but bootstrap.min.css set `[hidden] { display: none !important; }` so we also need the `!important` here to be able to override the default hidden behavior on the sphinx rendered scikit-learn.org. See: https://github.com/scikit-learn/scikit-learn/issues/21755 */display: inline-block !important;position: relative;}#sk-container-id-4 div.sk-text-repr-fallback {display: none;}</style><div id=\"sk-container-id-4\" class=\"sk-top-container\"><div class=\"sk-text-repr-fallback\"><pre>GridSearchCV(cv=5, estimator=NuSVC(class_weight=&#x27;balanced&#x27;, random_state=325),\n",
       "             n_jobs=-1,\n",
       "             param_grid={&#x27;gamma&#x27;: [&#x27;scale&#x27;, &#x27;auto&#x27;],\n",
       "                         &#x27;kernel&#x27;: [&#x27;rbf&#x27;, &#x27;linear&#x27;, &#x27;sigmoid&#x27;],\n",
       "                         &#x27;nu&#x27;: array([0. , 0.1, 0.2, 0.3, 0.4, 0.5, 0.6, 0.7, 0.8, 0.9])})</pre><b>In a Jupyter environment, please rerun this cell to show the HTML representation or trust the notebook. <br />On GitHub, the HTML representation is unable to render, please try loading this page with nbviewer.org.</b></div><div class=\"sk-container\" hidden><div class=\"sk-item sk-dashed-wrapped\"><div class=\"sk-label-container\"><div class=\"sk-label sk-toggleable\"><input class=\"sk-toggleable__control sk-hidden--visually\" id=\"sk-estimator-id-10\" type=\"checkbox\" ><label for=\"sk-estimator-id-10\" class=\"sk-toggleable__label sk-toggleable__label-arrow\">GridSearchCV</label><div class=\"sk-toggleable__content\"><pre>GridSearchCV(cv=5, estimator=NuSVC(class_weight=&#x27;balanced&#x27;, random_state=325),\n",
       "             n_jobs=-1,\n",
       "             param_grid={&#x27;gamma&#x27;: [&#x27;scale&#x27;, &#x27;auto&#x27;],\n",
       "                         &#x27;kernel&#x27;: [&#x27;rbf&#x27;, &#x27;linear&#x27;, &#x27;sigmoid&#x27;],\n",
       "                         &#x27;nu&#x27;: array([0. , 0.1, 0.2, 0.3, 0.4, 0.5, 0.6, 0.7, 0.8, 0.9])})</pre></div></div></div><div class=\"sk-parallel\"><div class=\"sk-parallel-item\"><div class=\"sk-item\"><div class=\"sk-label-container\"><div class=\"sk-label sk-toggleable\"><input class=\"sk-toggleable__control sk-hidden--visually\" id=\"sk-estimator-id-11\" type=\"checkbox\" ><label for=\"sk-estimator-id-11\" class=\"sk-toggleable__label sk-toggleable__label-arrow\">estimator: NuSVC</label><div class=\"sk-toggleable__content\"><pre>NuSVC(class_weight=&#x27;balanced&#x27;, random_state=325)</pre></div></div></div><div class=\"sk-serial\"><div class=\"sk-item\"><div class=\"sk-estimator sk-toggleable\"><input class=\"sk-toggleable__control sk-hidden--visually\" id=\"sk-estimator-id-12\" type=\"checkbox\" ><label for=\"sk-estimator-id-12\" class=\"sk-toggleable__label sk-toggleable__label-arrow\">NuSVC</label><div class=\"sk-toggleable__content\"><pre>NuSVC(class_weight=&#x27;balanced&#x27;, random_state=325)</pre></div></div></div></div></div></div></div></div></div></div>"
      ],
      "text/plain": [
       "GridSearchCV(cv=5, estimator=NuSVC(class_weight='balanced', random_state=325),\n",
       "             n_jobs=-1,\n",
       "             param_grid={'gamma': ['scale', 'auto'],\n",
       "                         'kernel': ['rbf', 'linear', 'sigmoid'],\n",
       "                         'nu': array([0. , 0.1, 0.2, 0.3, 0.4, 0.5, 0.6, 0.7, 0.8, 0.9])})"
      ]
     },
     "execution_count": 63,
     "metadata": {},
     "output_type": "execute_result"
    }
   ],
   "source": [
    "grid_search.fit(X_train_smote, Y_train_smote)"
   ]
  },
  {
   "cell_type": "code",
   "execution_count": 64,
   "metadata": {
    "colab": {
     "base_uri": "https://localhost:8080/"
    },
    "id": "Q4vakTqF7h9w",
    "outputId": "3697a166-b8ba-4ffa-a264-f47663d18323"
   },
   "outputs": [
    {
     "name": "stdout",
     "output_type": "stream",
     "text": [
      "El mejor modelo:\n",
      " {'gamma': 'auto', 'kernel': 'rbf', 'nu': 0.1}\n"
     ]
    }
   ],
   "source": [
    "print('El mejor modelo:\\n', grid_search.best_params_)"
   ]
  },
  {
   "cell_type": "code",
   "execution_count": 65,
   "metadata": {
    "id": "NuciTwZ07h9x"
   },
   "outputs": [],
   "source": [
    "clf_best = grid_search.best_estimator_\n",
    "pred = clf_best.predict(X_test_smote)"
   ]
  },
  {
   "cell_type": "code",
   "execution_count": 66,
   "metadata": {
    "colab": {
     "base_uri": "https://localhost:8080/"
    },
    "id": "WO69ZtT87h9x",
    "outputId": "a1846e7c-1354-4352-f088-1cba97164ec5"
   },
   "outputs": [
    {
     "name": "stdout",
     "output_type": "stream",
     "text": [
      "              precision    recall  f1-score   support\n",
      "\n",
      "           0       0.97      0.94      0.95       212\n",
      "           1       0.93      0.97      0.95       189\n",
      "\n",
      "    accuracy                           0.95       401\n",
      "   macro avg       0.95      0.95      0.95       401\n",
      "weighted avg       0.95      0.95      0.95       401\n",
      "\n"
     ]
    }
   ],
   "source": [
    "from sklearn.metrics import classification_report\n",
    "\n",
    "print(classification_report(Y_test_smote, pred))"
   ]
  },
  {
   "cell_type": "code",
   "execution_count": 67,
   "metadata": {
    "colab": {
     "base_uri": "https://localhost:8080/",
     "height": 347
    },
    "id": "NS0BevV27h9x",
    "outputId": "7e6b5933-0d91-4346-8f45-54710d1b0acb"
   },
   "outputs": [
    {
     "name": "stdout",
     "output_type": "stream",
     "text": [
      "Matriz de Confusión\n",
      "[[199  13]\n",
      " [  6 183]]\n"
     ]
    },
    {
     "data": {
      "image/png": "[encoded data removed]",
      "text/plain": [
       "<Figure size 432x288 with 2 Axes>"
      ]
     },
     "metadata": {
      "needs_background": "light"
     },
     "output_type": "display_data"
    }
   ],
   "source": [
    "from sklearn.metrics import ConfusionMatrixDisplay\n",
    "\n",
    "\n",
    "disp = ConfusionMatrixDisplay.from_estimator(\n",
    "       clf_best,\n",
    "       X_test_smote,\n",
    "       Y_test_smote,\n",
    "       display_labels=None,\n",
    "       cmap=plt.cm.Blues,\n",
    "       normalize=None)\n",
    "\n",
    "disp.ax_.set_title('Matriz de Confusión')\n",
    "disp.ax_.set_xlabel('Predicción');\n",
    "disp.ax_.set_ylabel('Realidad'); \n",
    "disp.ax_.xaxis.set_ticklabels(['0', '1']); \n",
    "disp.ax_.yaxis.set_ticklabels(['0', '1']);\n",
    "\n",
    "print('Matriz de Confusión')\n",
    "print(disp.confusion_matrix)\n",
    "\n",
    "plt.show()"
   ]
  },
  {
   "cell_type": "markdown",
   "metadata": {
    "id": "WcmXoH8vHMc0"
   },
   "source": [
    "# Embedding small bert complejo 768 vectores\n",
    "https://tfhub.dev/tensorflow/small_bert/bert_en_uncased_L-8_H-768_A-12/2"
   ]
  },
  {
   "cell_type": "markdown",
   "metadata": {
    "id": "SiBwLFn4HMc0"
   },
   "source": [
    "## transformar texto (Embedding)"
   ]
  },
  {
   "cell_type": "code",
   "execution_count": 68,
   "metadata": {
    "id": "-XcDrsgEHMc0"
   },
   "outputs": [],
   "source": [
    "# 4to paso: Vamos a crear dos variables que cargaran en memoria dos funciones para transformar el texto\n",
    "##\n",
    "##   - preprocessor: \"objeto\" que se encargará de transformar el texto en el formato que necesita el modelo BERT para funcionar\n",
    "##   - encoder: \"objeto\" que será el modelo BERT y se alimentará del resultado de preprocessor, retornando el texto transformado en un vector numérico.\n",
    "\n",
    "preprocessor = hub.load(\"https://tfhub.dev/tensorflow/bert_en_uncased_preprocess/3\")\n",
    "encoder = hub.load(\"https://tfhub.dev/tensorflow/small_bert/bert_en_uncased_L-8_H-768_A-12/2\")"
   ]
  },
  {
   "cell_type": "code",
   "execution_count": 69,
   "metadata": {
    "id": "ESvYTkAfHMc1"
   },
   "outputs": [],
   "source": [
    "# 5to paso: Vamos a usar el objeto preprocessor, y guardamos su resultado en la variable embedding\n",
    "##   A modo de ejemplo para su revisión, solo vamos a transformar dos textos:\n",
    "\n",
    "embedding = preprocessor(df_clean) # df_clean es el texto"
   ]
  },
  {
   "cell_type": "code",
   "execution_count": 70,
   "metadata": {
    "id": "1yziokTSHMc1"
   },
   "outputs": [],
   "source": [
    "# 6to paso: Vamos a codificar el texto con el modelo BERT:\n",
    "##   - Fijarse que el objeto encoder recibe como argumento la variable embedding (resultado de preprocessor)\n",
    "##   - Copiar el siguiente código de forma literal\n",
    "\n",
    "pooled_output = encoder(embedding)[\"pooled_output\"]"
   ]
  },
  {
   "cell_type": "code",
   "execution_count": 71,
   "metadata": {
    "colab": {
     "base_uri": "https://localhost:8080/"
    },
    "id": "Qrd_vAVkHMc1",
    "outputId": "68bf68e8-fc2f-4993-daed-f865c9d509db"
   },
   "outputs": [
    {
     "data": {
      "text/plain": [
       "<tf.Tensor: shape=(1290, 768), dtype=float32, numpy=\n",
       "array([[ 0.03142604,  0.8037415 , -0.06045146, ...,  0.14879657,\n",
       "         0.0058126 , -0.998533  ],\n",
       "       [ 0.05226115,  0.4624548 , -0.41974244, ...,  0.5245022 ,\n",
       "        -0.23198171,  0.99999803],\n",
       "       [ 0.22917731,  0.2827687 , -0.54071164, ...,  0.44585466,\n",
       "        -0.2164088 , -0.99955225],\n",
       "       ...,\n",
       "       [ 0.07305684,  0.7566186 , -0.04378816, ..., -0.0398397 ,\n",
       "         0.07749697, -0.7123792 ],\n",
       "       [ 0.1513717 ,  0.4981787 , -0.36236888, ...,  0.50995904,\n",
       "        -0.18760188, -0.99307853],\n",
       "       [ 0.15411788, -0.8084427 , -0.29440075, ...,  0.2187708 ,\n",
       "        -0.35820514, -0.6788743 ]], dtype=float32)>"
      ]
     },
     "execution_count": 71,
     "metadata": {},
     "output_type": "execute_result"
    }
   ],
   "source": [
    "# Opcional: revisamos el contenido de la variable pooled_output, el cual tiene dos vectores de 128 dimensiones\n",
    "##\n",
    "##    - Dos vectores, porque le pasamos solo dos textos\n",
    "##    - 128 dimensiones, porque el modelo BERT utilizado convierte cualquier texto (independiente del largo) en un vector numérico de 128 dimensiones.\n",
    "\n",
    "pooled_output"
   ]
  },
  {
   "cell_type": "code",
   "execution_count": 72,
   "metadata": {
    "id": "ZVABySTcHMc1"
   },
   "outputs": [],
   "source": [
    "# 7mo paso: El contenido de la variable pooled_output es una estructura de datos de tipo tensorflow.\n",
    "#           Para transformarlo a un dataframe y usarlo de forma tradicional con los modelos clásicos, \n",
    "#           ejecutamos la siguiente linea de código:\n",
    "\n",
    "dataX2 = pd.DataFrame(pooled_output.numpy())"
   ]
  },
  {
   "cell_type": "code",
   "execution_count": 73,
   "metadata": {
    "colab": {
     "base_uri": "https://localhost:8080/"
    },
    "id": "qXvEz32vHMc1",
    "outputId": "f56b2e24-3a77-4df6-a31a-7862ea8c8ed0"
   },
   "outputs": [
    {
     "data": {
      "text/plain": [
       "(1290, 768)"
      ]
     },
     "execution_count": 73,
     "metadata": {},
     "output_type": "execute_result"
    }
   ],
   "source": [
    "# Opcional:  Ahora la variable dataX es un dataframe y podemos revisar su dimensionalidad y visualizarlo:\n",
    "dataX2.shape"
   ]
  },
  {
   "cell_type": "code",
   "execution_count": 74,
   "metadata": {
    "colab": {
     "base_uri": "https://localhost:8080/",
     "height": 424
    },
    "id": "ay3JHiMiHMc1",
    "outputId": "20ee40e0-3b20-4309-e9d1-760ba081d861"
   },
   "outputs": [
    {
     "data": {
      "text/html": [
       "<div>\n",
       "<style scoped>\n",
       "    .dataframe tbody tr th:only-of-type {\n",
       "        vertical-align: middle;\n",
       "    }\n",
       "\n",
       "    .dataframe tbody tr th {\n",
       "        vertical-align: top;\n",
       "    }\n",
       "\n",
       "    .dataframe thead th {\n",
       "        text-align: right;\n",
       "    }\n",
       "</style>\n",
       "<table border=\"1\" class=\"dataframe\">\n",
       "  <thead>\n",
       "    <tr style=\"text-align: right;\">\n",
       "      <th></th>\n",
       "      <th>0</th>\n",
       "      <th>1</th>\n",
       "      <th>2</th>\n",
       "      <th>3</th>\n",
       "      <th>4</th>\n",
       "      <th>5</th>\n",
       "      <th>6</th>\n",
       "      <th>7</th>\n",
       "      <th>8</th>\n",
       "      <th>9</th>\n",
       "      <th>...</th>\n",
       "      <th>758</th>\n",
       "      <th>759</th>\n",
       "      <th>760</th>\n",
       "      <th>761</th>\n",
       "      <th>762</th>\n",
       "      <th>763</th>\n",
       "      <th>764</th>\n",
       "      <th>765</th>\n",
       "      <th>766</th>\n",
       "      <th>767</th>\n",
       "    </tr>\n",
       "  </thead>\n",
       "  <tbody>\n",
       "    <tr>\n",
       "      <th>0</th>\n",
       "      <td>0.031426</td>\n",
       "      <td>0.803742</td>\n",
       "      <td>-0.060451</td>\n",
       "      <td>0.085933</td>\n",
       "      <td>0.985856</td>\n",
       "      <td>-0.188243</td>\n",
       "      <td>0.168137</td>\n",
       "      <td>0.097916</td>\n",
       "      <td>0.296175</td>\n",
       "      <td>-0.890946</td>\n",
       "      <td>...</td>\n",
       "      <td>-0.985810</td>\n",
       "      <td>0.060356</td>\n",
       "      <td>0.041755</td>\n",
       "      <td>0.989458</td>\n",
       "      <td>0.208446</td>\n",
       "      <td>0.352190</td>\n",
       "      <td>-0.034203</td>\n",
       "      <td>0.148797</td>\n",
       "      <td>0.005813</td>\n",
       "      <td>-0.998533</td>\n",
       "    </tr>\n",
       "    <tr>\n",
       "      <th>1</th>\n",
       "      <td>0.052261</td>\n",
       "      <td>0.462455</td>\n",
       "      <td>-0.419742</td>\n",
       "      <td>0.093994</td>\n",
       "      <td>0.997178</td>\n",
       "      <td>-0.288562</td>\n",
       "      <td>0.170065</td>\n",
       "      <td>0.354955</td>\n",
       "      <td>0.184094</td>\n",
       "      <td>-0.990233</td>\n",
       "      <td>...</td>\n",
       "      <td>0.460554</td>\n",
       "      <td>0.172707</td>\n",
       "      <td>-0.099823</td>\n",
       "      <td>-0.999710</td>\n",
       "      <td>0.451631</td>\n",
       "      <td>0.155042</td>\n",
       "      <td>-0.124340</td>\n",
       "      <td>0.524502</td>\n",
       "      <td>-0.231982</td>\n",
       "      <td>0.999998</td>\n",
       "    </tr>\n",
       "    <tr>\n",
       "      <th>2</th>\n",
       "      <td>0.229177</td>\n",
       "      <td>0.282769</td>\n",
       "      <td>-0.540712</td>\n",
       "      <td>-0.007794</td>\n",
       "      <td>0.920015</td>\n",
       "      <td>-0.110998</td>\n",
       "      <td>0.605113</td>\n",
       "      <td>0.482212</td>\n",
       "      <td>0.654565</td>\n",
       "      <td>-0.963235</td>\n",
       "      <td>...</td>\n",
       "      <td>-0.845900</td>\n",
       "      <td>0.000862</td>\n",
       "      <td>0.192655</td>\n",
       "      <td>0.996981</td>\n",
       "      <td>0.353406</td>\n",
       "      <td>0.285628</td>\n",
       "      <td>0.296523</td>\n",
       "      <td>0.445855</td>\n",
       "      <td>-0.216409</td>\n",
       "      <td>-0.999552</td>\n",
       "    </tr>\n",
       "    <tr>\n",
       "      <th>3</th>\n",
       "      <td>0.420007</td>\n",
       "      <td>0.026630</td>\n",
       "      <td>-0.210732</td>\n",
       "      <td>-0.027072</td>\n",
       "      <td>0.992289</td>\n",
       "      <td>-0.562200</td>\n",
       "      <td>0.321469</td>\n",
       "      <td>0.496387</td>\n",
       "      <td>0.418790</td>\n",
       "      <td>-0.942356</td>\n",
       "      <td>...</td>\n",
       "      <td>-0.938178</td>\n",
       "      <td>0.030644</td>\n",
       "      <td>0.218963</td>\n",
       "      <td>0.933007</td>\n",
       "      <td>0.332955</td>\n",
       "      <td>0.365656</td>\n",
       "      <td>0.381858</td>\n",
       "      <td>0.531592</td>\n",
       "      <td>-0.393467</td>\n",
       "      <td>-0.981154</td>\n",
       "    </tr>\n",
       "    <tr>\n",
       "      <th>4</th>\n",
       "      <td>0.083168</td>\n",
       "      <td>-0.231725</td>\n",
       "      <td>-0.132480</td>\n",
       "      <td>0.285737</td>\n",
       "      <td>0.968922</td>\n",
       "      <td>-0.142703</td>\n",
       "      <td>0.227571</td>\n",
       "      <td>0.038063</td>\n",
       "      <td>0.172309</td>\n",
       "      <td>-0.914819</td>\n",
       "      <td>...</td>\n",
       "      <td>-0.958747</td>\n",
       "      <td>0.047542</td>\n",
       "      <td>-0.221399</td>\n",
       "      <td>0.999014</td>\n",
       "      <td>0.078904</td>\n",
       "      <td>0.155455</td>\n",
       "      <td>-0.099148</td>\n",
       "      <td>0.277177</td>\n",
       "      <td>0.119123</td>\n",
       "      <td>-0.999946</td>\n",
       "    </tr>\n",
       "    <tr>\n",
       "      <th>...</th>\n",
       "      <td>...</td>\n",
       "      <td>...</td>\n",
       "      <td>...</td>\n",
       "      <td>...</td>\n",
       "      <td>...</td>\n",
       "      <td>...</td>\n",
       "      <td>...</td>\n",
       "      <td>...</td>\n",
       "      <td>...</td>\n",
       "      <td>...</td>\n",
       "      <td>...</td>\n",
       "      <td>...</td>\n",
       "      <td>...</td>\n",
       "      <td>...</td>\n",
       "      <td>...</td>\n",
       "      <td>...</td>\n",
       "      <td>...</td>\n",
       "      <td>...</td>\n",
       "      <td>...</td>\n",
       "      <td>...</td>\n",
       "      <td>...</td>\n",
       "    </tr>\n",
       "    <tr>\n",
       "      <th>1285</th>\n",
       "      <td>0.035067</td>\n",
       "      <td>0.529082</td>\n",
       "      <td>-0.261549</td>\n",
       "      <td>0.088913</td>\n",
       "      <td>0.997305</td>\n",
       "      <td>-0.412030</td>\n",
       "      <td>0.049513</td>\n",
       "      <td>0.322416</td>\n",
       "      <td>0.288380</td>\n",
       "      <td>-0.957339</td>\n",
       "      <td>...</td>\n",
       "      <td>-0.479231</td>\n",
       "      <td>0.203385</td>\n",
       "      <td>-0.175347</td>\n",
       "      <td>0.738624</td>\n",
       "      <td>0.330249</td>\n",
       "      <td>0.194519</td>\n",
       "      <td>0.125021</td>\n",
       "      <td>0.330579</td>\n",
       "      <td>-0.137782</td>\n",
       "      <td>-0.855340</td>\n",
       "    </tr>\n",
       "    <tr>\n",
       "      <th>1286</th>\n",
       "      <td>0.271497</td>\n",
       "      <td>-0.445038</td>\n",
       "      <td>-0.110126</td>\n",
       "      <td>-0.036539</td>\n",
       "      <td>0.906519</td>\n",
       "      <td>-0.032739</td>\n",
       "      <td>-0.212000</td>\n",
       "      <td>0.107343</td>\n",
       "      <td>-0.053609</td>\n",
       "      <td>-0.965833</td>\n",
       "      <td>...</td>\n",
       "      <td>-0.886332</td>\n",
       "      <td>0.086326</td>\n",
       "      <td>0.084698</td>\n",
       "      <td>0.940775</td>\n",
       "      <td>-0.002864</td>\n",
       "      <td>0.300278</td>\n",
       "      <td>-0.167341</td>\n",
       "      <td>0.249715</td>\n",
       "      <td>-0.327048</td>\n",
       "      <td>-0.953944</td>\n",
       "    </tr>\n",
       "    <tr>\n",
       "      <th>1287</th>\n",
       "      <td>0.073057</td>\n",
       "      <td>0.756619</td>\n",
       "      <td>-0.043788</td>\n",
       "      <td>0.234995</td>\n",
       "      <td>0.984583</td>\n",
       "      <td>-0.138720</td>\n",
       "      <td>0.146861</td>\n",
       "      <td>0.129115</td>\n",
       "      <td>0.364067</td>\n",
       "      <td>-0.972439</td>\n",
       "      <td>...</td>\n",
       "      <td>-0.837814</td>\n",
       "      <td>-0.089423</td>\n",
       "      <td>-0.148465</td>\n",
       "      <td>0.603967</td>\n",
       "      <td>-0.109776</td>\n",
       "      <td>-0.093587</td>\n",
       "      <td>-0.046851</td>\n",
       "      <td>-0.039840</td>\n",
       "      <td>0.077497</td>\n",
       "      <td>-0.712379</td>\n",
       "    </tr>\n",
       "    <tr>\n",
       "      <th>1288</th>\n",
       "      <td>0.151372</td>\n",
       "      <td>0.498179</td>\n",
       "      <td>-0.362369</td>\n",
       "      <td>0.040028</td>\n",
       "      <td>0.983191</td>\n",
       "      <td>-0.257190</td>\n",
       "      <td>0.298025</td>\n",
       "      <td>0.455524</td>\n",
       "      <td>0.561100</td>\n",
       "      <td>-0.956716</td>\n",
       "      <td>...</td>\n",
       "      <td>-0.971784</td>\n",
       "      <td>-0.005845</td>\n",
       "      <td>0.057366</td>\n",
       "      <td>0.986482</td>\n",
       "      <td>0.241709</td>\n",
       "      <td>0.151140</td>\n",
       "      <td>0.274757</td>\n",
       "      <td>0.509959</td>\n",
       "      <td>-0.187602</td>\n",
       "      <td>-0.993079</td>\n",
       "    </tr>\n",
       "    <tr>\n",
       "      <th>1289</th>\n",
       "      <td>0.154118</td>\n",
       "      <td>-0.808443</td>\n",
       "      <td>-0.294401</td>\n",
       "      <td>-0.131938</td>\n",
       "      <td>0.886046</td>\n",
       "      <td>0.020943</td>\n",
       "      <td>0.201163</td>\n",
       "      <td>0.241090</td>\n",
       "      <td>0.114675</td>\n",
       "      <td>-0.979792</td>\n",
       "      <td>...</td>\n",
       "      <td>-0.931926</td>\n",
       "      <td>-0.261343</td>\n",
       "      <td>0.230043</td>\n",
       "      <td>0.574440</td>\n",
       "      <td>0.061407</td>\n",
       "      <td>0.120508</td>\n",
       "      <td>0.079621</td>\n",
       "      <td>0.218771</td>\n",
       "      <td>-0.358205</td>\n",
       "      <td>-0.678874</td>\n",
       "    </tr>\n",
       "  </tbody>\n",
       "</table>\n",
       "<p>1290 rows × 768 columns</p>\n",
       "</div>"
      ],
      "text/plain": [
       "           0         1         2         3         4         5         6    \\\n",
       "0     0.031426  0.803742 -0.060451  0.085933  0.985856 -0.188243  0.168137   \n",
       "1     0.052261  0.462455 -0.419742  0.093994  0.997178 -0.288562  0.170065   \n",
       "2     0.229177  0.282769 -0.540712 -0.007794  0.920015 -0.110998  0.605113   \n",
       "3     0.420007  0.026630 -0.210732 -0.027072  0.992289 -0.562200  0.321469   \n",
       "4     0.083168 -0.231725 -0.132480  0.285737  0.968922 -0.142703  0.227571   \n",
       "...        ...       ...       ...       ...       ...       ...       ...   \n",
       "1285  0.035067  0.529082 -0.261549  0.088913  0.997305 -0.412030  0.049513   \n",
       "1286  0.271497 -0.445038 -0.110126 -0.036539  0.906519 -0.032739 -0.212000   \n",
       "1287  0.073057  0.756619 -0.043788  0.234995  0.984583 -0.138720  0.146861   \n",
       "1288  0.151372  0.498179 -0.362369  0.040028  0.983191 -0.257190  0.298025   \n",
       "1289  0.154118 -0.808443 -0.294401 -0.131938  0.886046  0.020943  0.201163   \n",
       "\n",
       "           7         8         9    ...       758       759       760  \\\n",
       "0     0.097916  0.296175 -0.890946  ... -0.985810  0.060356  0.041755   \n",
       "1     0.354955  0.184094 -0.990233  ...  0.460554  0.172707 -0.099823   \n",
       "2     0.482212  0.654565 -0.963235  ... -0.845900  0.000862  0.192655   \n",
       "3     0.496387  0.418790 -0.942356  ... -0.938178  0.030644  0.218963   \n",
       "4     0.038063  0.172309 -0.914819  ... -0.958747  0.047542 -0.221399   \n",
       "...        ...       ...       ...  ...       ...       ...       ...   \n",
       "1285  0.322416  0.288380 -0.957339  ... -0.479231  0.203385 -0.175347   \n",
       "1286  0.107343 -0.053609 -0.965833  ... -0.886332  0.086326  0.084698   \n",
       "1287  0.129115  0.364067 -0.972439  ... -0.837814 -0.089423 -0.148465   \n",
       "1288  0.455524  0.561100 -0.956716  ... -0.971784 -0.005845  0.057366   \n",
       "1289  0.241090  0.114675 -0.979792  ... -0.931926 -0.261343  0.230043   \n",
       "\n",
       "           761       762       763       764       765       766       767  \n",
       "0     0.989458  0.208446  0.352190 -0.034203  0.148797  0.005813 -0.998533  \n",
       "1    -0.999710  0.451631  0.155042 -0.124340  0.524502 -0.231982  0.999998  \n",
       "2     0.996981  0.353406  0.285628  0.296523  0.445855 -0.216409 -0.999552  \n",
       "3     0.933007  0.332955  0.365656  0.381858  0.531592 -0.393467 -0.981154  \n",
       "4     0.999014  0.078904  0.155455 -0.099148  0.277177  0.119123 -0.999946  \n",
       "...        ...       ...       ...       ...       ...       ...       ...  \n",
       "1285  0.738624  0.330249  0.194519  0.125021  0.330579 -0.137782 -0.855340  \n",
       "1286  0.940775 -0.002864  0.300278 -0.167341  0.249715 -0.327048 -0.953944  \n",
       "1287  0.603967 -0.109776 -0.093587 -0.046851 -0.039840  0.077497 -0.712379  \n",
       "1288  0.986482  0.241709  0.151140  0.274757  0.509959 -0.187602 -0.993079  \n",
       "1289  0.574440  0.061407  0.120508  0.079621  0.218771 -0.358205 -0.678874  \n",
       "\n",
       "[1290 rows x 768 columns]"
      ]
     },
     "execution_count": 74,
     "metadata": {},
     "output_type": "execute_result"
    }
   ],
   "source": [
    "dataX2"
   ]
  },
  {
   "cell_type": "markdown",
   "metadata": {
    "id": "B0hKk8VcHMc1"
   },
   "source": [
    "##seleccion de las variable"
   ]
  },
  {
   "cell_type": "code",
   "execution_count": 75,
   "metadata": {
    "id": "uIYH-HFjHMc2"
   },
   "outputs": [],
   "source": [
    "X = dataX2 \n",
    "Y = df['resultado'].copy()"
   ]
  },
  {
   "cell_type": "code",
   "execution_count": 76,
   "metadata": {
    "colab": {
     "base_uri": "https://localhost:8080/"
    },
    "id": "wh3kZnRHHMc2",
    "outputId": "a18899b2-dd52-4298-e2cb-9be715549506"
   },
   "outputs": [
    {
     "data": {
      "text/plain": [
       "RangeIndex(start=0, stop=768, step=1)"
      ]
     },
     "execution_count": 76,
     "metadata": {},
     "output_type": "execute_result"
    }
   ],
   "source": [
    "X.columns"
   ]
  },
  {
   "cell_type": "code",
   "execution_count": 77,
   "metadata": {
    "colab": {
     "base_uri": "https://localhost:8080/"
    },
    "id": "sK_iDk9JHMc2",
    "outputId": "10530ac2-6c6f-4da6-935a-0253a8e30912"
   },
   "outputs": [
    {
     "name": "stdout",
     "output_type": "stream",
     "text": [
      "<class 'pandas.core.frame.DataFrame'>\n",
      "RangeIndex: 1290 entries, 0 to 1289\n",
      "Columns: 768 entries, 0 to 767\n",
      "dtypes: float32(768)\n",
      "memory usage: 3.8 MB\n"
     ]
    }
   ],
   "source": [
    "X.info()"
   ]
  },
  {
   "cell_type": "code",
   "execution_count": 78,
   "metadata": {
    "colab": {
     "base_uri": "https://localhost:8080/"
    },
    "id": "w9gtSf15HMc2",
    "outputId": "ec6039c1-f282-423a-fd43-779371e8476e"
   },
   "outputs": [
    {
     "data": {
      "text/plain": [
       "0    0\n",
       "1    0\n",
       "2    1\n",
       "3    0\n",
       "4    0\n",
       "Name: resultado, dtype: int64"
      ]
     },
     "execution_count": 78,
     "metadata": {},
     "output_type": "execute_result"
    }
   ],
   "source": [
    "Y.head()"
   ]
  },
  {
   "cell_type": "markdown",
   "metadata": {
    "id": "4I4Rrr1jHMc2"
   },
   "source": [
    "## Balanceo de datos"
   ]
  },
  {
   "cell_type": "markdown",
   "metadata": {
    "id": "AtbxoSTdHMc2"
   },
   "source": [
    "## Aplicando Smote"
   ]
  },
  {
   "cell_type": "code",
   "execution_count": 79,
   "metadata": {
    "colab": {
     "base_uri": "https://localhost:8080/"
    },
    "id": "vVQ6j6bAHMc2",
    "outputId": "faba36f5-af41-4298-e88c-4c087dadac49"
   },
   "outputs": [
    {
     "data": {
      "text/plain": [
       "Counter({0: 668, 1: 668})"
      ]
     },
     "execution_count": 79,
     "metadata": {},
     "output_type": "execute_result"
    }
   ],
   "source": [
    "from imblearn.over_sampling import SMOTE #over sobre nivelar hacia arriba under nivelacion hacia el menor dato\n",
    "#from imblearn.under_sampling import SMOTE \n",
    "\n",
    "smote = SMOTE(random_state = 325, n_jobs=-1)\n",
    "X_smote, Y_smote = smote.fit_resample(X, Y)# hace Balance de los datos a partir de los agreglos\n",
    "\n",
    "from collections import Counter\n",
    "\n",
    "Counter(Y_smote)"
   ]
  },
  {
   "cell_type": "markdown",
   "metadata": {
    "id": "v0RQheoFHMc2"
   },
   "source": [
    "## Train y test"
   ]
  },
  {
   "cell_type": "code",
   "execution_count": 80,
   "metadata": {
    "id": "DdB_tC6IHMc2"
   },
   "outputs": [],
   "source": [
    "from sklearn.model_selection import train_test_split\n",
    "X_train_smote, X_test_smote, Y_train_smote, Y_test_smote = train_test_split(X_smote, Y_smote, random_state=325,test_size = 0.3)\n",
    "        \n",
    "X_train, X_test, Y_train, Y_test = train_test_split(X, Y, random_state=325,test_size = 0.3)        "
   ]
  },
  {
   "cell_type": "markdown",
   "metadata": {
    "id": "z8bFz4uzHMc2"
   },
   "source": [
    "## SVM\n"
   ]
  },
  {
   "cell_type": "markdown",
   "metadata": {
    "id": "mK_JzfbmHMc3"
   },
   "source": [
    "###SVC "
   ]
  },
  {
   "cell_type": "markdown",
   "metadata": {
    "id": "KJKUW8muHMc3"
   },
   "source": [
    "#### Caso 1"
   ]
  },
  {
   "cell_type": "code",
   "execution_count": 81,
   "metadata": {
    "id": "VlANjmXMHMc3"
   },
   "outputs": [],
   "source": [
    "parametros = {'C'      : np.arange(1, 5, 1),\n",
    "            'gamma'  : np.arange(1, 5, 1),\n",
    "           'kernel' : ['rbf', 'linear','sigmoid']}\n",
    "\n",
    "from sklearn.svm import SVC\n",
    "from sklearn.model_selection import GridSearchCV\n",
    "\n",
    "clf = SVC(class_weight='balanced', random_state=325)  \n",
    "grid_search = GridSearchCV(clf, parametros, n_jobs=-1, cv=5) "
   ]
  },
  {
   "cell_type": "code",
   "execution_count": 82,
   "metadata": {
    "colab": {
     "base_uri": "https://localhost:8080/"
    },
    "id": "r9-P98v_HMc3",
    "outputId": "0c3044ee-8b40-4739-dea4-af02026fa0c7"
   },
   "outputs": [
    {
     "data": {
      "text/html": [
       "<style>#sk-container-id-5 {color: black;background-color: white;}#sk-container-id-5 pre{padding: 0;}#sk-container-id-5 div.sk-toggleable {background-color: white;}#sk-container-id-5 label.sk-toggleable__label {cursor: pointer;display: block;width: 100%;margin-bottom: 0;padding: 0.3em;box-sizing: border-box;text-align: center;}#sk-container-id-5 label.sk-toggleable__label-arrow:before {content: \"▸\";float: left;margin-right: 0.25em;color: #696969;}#sk-container-id-5 label.sk-toggleable__label-arrow:hover:before {color: black;}#sk-container-id-5 div.sk-estimator:hover label.sk-toggleable__label-arrow:before {color: black;}#sk-container-id-5 div.sk-toggleable__content {max-height: 0;max-width: 0;overflow: hidden;text-align: left;background-color: #f0f8ff;}#sk-container-id-5 div.sk-toggleable__content pre {margin: 0.2em;color: black;border-radius: 0.25em;background-color: #f0f8ff;}#sk-container-id-5 input.sk-toggleable__control:checked~div.sk-toggleable__content {max-height: 200px;max-width: 100%;overflow: auto;}#sk-container-id-5 input.sk-toggleable__control:checked~label.sk-toggleable__label-arrow:before {content: \"▾\";}#sk-container-id-5 div.sk-estimator input.sk-toggleable__control:checked~label.sk-toggleable__label {background-color: #d4ebff;}#sk-container-id-5 div.sk-label input.sk-toggleable__control:checked~label.sk-toggleable__label {background-color: #d4ebff;}#sk-container-id-5 input.sk-hidden--visually {border: 0;clip: rect(1px 1px 1px 1px);clip: rect(1px, 1px, 1px, 1px);height: 1px;margin: -1px;overflow: hidden;padding: 0;position: absolute;width: 1px;}#sk-container-id-5 div.sk-estimator {font-family: monospace;background-color: #f0f8ff;border: 1px dotted black;border-radius: 0.25em;box-sizing: border-box;margin-bottom: 0.5em;}#sk-container-id-5 div.sk-estimator:hover {background-color: #d4ebff;}#sk-container-id-5 div.sk-parallel-item::after {content: \"\";width: 100%;border-bottom: 1px solid gray;flex-grow: 1;}#sk-container-id-5 div.sk-label:hover label.sk-toggleable__label {background-color: #d4ebff;}#sk-container-id-5 div.sk-serial::before {content: \"\";position: absolute;border-left: 1px solid gray;box-sizing: border-box;top: 0;bottom: 0;left: 50%;z-index: 0;}#sk-container-id-5 div.sk-serial {display: flex;flex-direction: column;align-items: center;background-color: white;padding-right: 0.2em;padding-left: 0.2em;position: relative;}#sk-container-id-5 div.sk-item {position: relative;z-index: 1;}#sk-container-id-5 div.sk-parallel {display: flex;align-items: stretch;justify-content: center;background-color: white;position: relative;}#sk-container-id-5 div.sk-item::before, #sk-container-id-5 div.sk-parallel-item::before {content: \"\";position: absolute;border-left: 1px solid gray;box-sizing: border-box;top: 0;bottom: 0;left: 50%;z-index: -1;}#sk-container-id-5 div.sk-parallel-item {display: flex;flex-direction: column;z-index: 1;position: relative;background-color: white;}#sk-container-id-5 div.sk-parallel-item:first-child::after {align-self: flex-end;width: 50%;}#sk-container-id-5 div.sk-parallel-item:last-child::after {align-self: flex-start;width: 50%;}#sk-container-id-5 div.sk-parallel-item:only-child::after {width: 0;}#sk-container-id-5 div.sk-dashed-wrapped {border: 1px dashed gray;margin: 0 0.4em 0.5em 0.4em;box-sizing: border-box;padding-bottom: 0.4em;background-color: white;}#sk-container-id-5 div.sk-label label {font-family: monospace;font-weight: bold;display: inline-block;line-height: 1.2em;}#sk-container-id-5 div.sk-label-container {text-align: center;}#sk-container-id-5 div.sk-container {/* jupyter's `normalize.less` sets `[hidden] { display: none; }` but bootstrap.min.css set `[hidden] { display: none !important; }` so we also need the `!important` here to be able to override the default hidden behavior on the sphinx rendered scikit-learn.org. See: https://github.com/scikit-learn/scikit-learn/issues/21755 */display: inline-block !important;position: relative;}#sk-container-id-5 div.sk-text-repr-fallback {display: none;}</style><div id=\"sk-container-id-5\" class=\"sk-top-container\"><div class=\"sk-text-repr-fallback\"><pre>GridSearchCV(cv=5, estimator=SVC(class_weight=&#x27;balanced&#x27;, random_state=325),\n",
       "             n_jobs=-1,\n",
       "             param_grid={&#x27;C&#x27;: array([1, 2, 3, 4]), &#x27;gamma&#x27;: array([1, 2, 3, 4]),\n",
       "                         &#x27;kernel&#x27;: [&#x27;rbf&#x27;, &#x27;linear&#x27;, &#x27;sigmoid&#x27;]})</pre><b>In a Jupyter environment, please rerun this cell to show the HTML representation or trust the notebook. <br />On GitHub, the HTML representation is unable to render, please try loading this page with nbviewer.org.</b></div><div class=\"sk-container\" hidden><div class=\"sk-item sk-dashed-wrapped\"><div class=\"sk-label-container\"><div class=\"sk-label sk-toggleable\"><input class=\"sk-toggleable__control sk-hidden--visually\" id=\"sk-estimator-id-13\" type=\"checkbox\" ><label for=\"sk-estimator-id-13\" class=\"sk-toggleable__label sk-toggleable__label-arrow\">GridSearchCV</label><div class=\"sk-toggleable__content\"><pre>GridSearchCV(cv=5, estimator=SVC(class_weight=&#x27;balanced&#x27;, random_state=325),\n",
       "             n_jobs=-1,\n",
       "             param_grid={&#x27;C&#x27;: array([1, 2, 3, 4]), &#x27;gamma&#x27;: array([1, 2, 3, 4]),\n",
       "                         &#x27;kernel&#x27;: [&#x27;rbf&#x27;, &#x27;linear&#x27;, &#x27;sigmoid&#x27;]})</pre></div></div></div><div class=\"sk-parallel\"><div class=\"sk-parallel-item\"><div class=\"sk-item\"><div class=\"sk-label-container\"><div class=\"sk-label sk-toggleable\"><input class=\"sk-toggleable__control sk-hidden--visually\" id=\"sk-estimator-id-14\" type=\"checkbox\" ><label for=\"sk-estimator-id-14\" class=\"sk-toggleable__label sk-toggleable__label-arrow\">estimator: SVC</label><div class=\"sk-toggleable__content\"><pre>SVC(class_weight=&#x27;balanced&#x27;, random_state=325)</pre></div></div></div><div class=\"sk-serial\"><div class=\"sk-item\"><div class=\"sk-estimator sk-toggleable\"><input class=\"sk-toggleable__control sk-hidden--visually\" id=\"sk-estimator-id-15\" type=\"checkbox\" ><label for=\"sk-estimator-id-15\" class=\"sk-toggleable__label sk-toggleable__label-arrow\">SVC</label><div class=\"sk-toggleable__content\"><pre>SVC(class_weight=&#x27;balanced&#x27;, random_state=325)</pre></div></div></div></div></div></div></div></div></div></div>"
      ],
      "text/plain": [
       "GridSearchCV(cv=5, estimator=SVC(class_weight='balanced', random_state=325),\n",
       "             n_jobs=-1,\n",
       "             param_grid={'C': array([1, 2, 3, 4]), 'gamma': array([1, 2, 3, 4]),\n",
       "                         'kernel': ['rbf', 'linear', 'sigmoid']})"
      ]
     },
     "execution_count": 82,
     "metadata": {},
     "output_type": "execute_result"
    }
   ],
   "source": [
    "grid_search.fit(X_train_smote, Y_train_smote)"
   ]
  },
  {
   "cell_type": "code",
   "execution_count": 83,
   "metadata": {
    "colab": {
     "base_uri": "https://localhost:8080/"
    },
    "id": "lyOKqRryHMc3",
    "outputId": "50c8adc2-22e8-4b9f-f07a-b5548302231f"
   },
   "outputs": [
    {
     "name": "stdout",
     "output_type": "stream",
     "text": [
      "El mejor modelo:\n",
      " {'C': 1, 'gamma': 1, 'kernel': 'linear'}\n"
     ]
    }
   ],
   "source": [
    "print('El mejor modelo:\\n', grid_search.best_params_)"
   ]
  },
  {
   "cell_type": "code",
   "execution_count": 84,
   "metadata": {
    "id": "YojU0HlZHMc3"
   },
   "outputs": [],
   "source": [
    "clf_best = grid_search.best_estimator_\n",
    "pred = clf_best.predict(X_test_smote)"
   ]
  },
  {
   "cell_type": "code",
   "execution_count": 85,
   "metadata": {
    "colab": {
     "base_uri": "https://localhost:8080/"
    },
    "id": "zvWHwYpwHMc3",
    "outputId": "c10fe8d9-a97a-40cd-8e65-09efaaa21253"
   },
   "outputs": [
    {
     "name": "stdout",
     "output_type": "stream",
     "text": [
      "              precision    recall  f1-score   support\n",
      "\n",
      "           0       0.98      0.95      0.96       212\n",
      "           1       0.94      0.98      0.96       189\n",
      "\n",
      "    accuracy                           0.96       401\n",
      "   macro avg       0.96      0.96      0.96       401\n",
      "weighted avg       0.96      0.96      0.96       401\n",
      "\n"
     ]
    }
   ],
   "source": [
    "from sklearn.metrics import classification_report\n",
    "print(classification_report(Y_test_smote, pred))"
   ]
  },
  {
   "cell_type": "code",
   "execution_count": 86,
   "metadata": {
    "id": "4zSKzlJXHMc3"
   },
   "outputs": [
    {
     "name": "stdout",
     "output_type": "stream",
     "text": [
      "Matriz de Confusión\n",
      "[[201  11]\n",
      " [  4 185]]\n"
     ]
    },
    {
     "data": {
      "image/png": "[encoded data removed]",
      "text/plain": [
       "<Figure size 432x288 with 2 Axes>"
      ]
     },
     "metadata": {
      "needs_background": "light"
     },
     "output_type": "display_data"
    }
   ],
   "source": [
    "from sklearn.metrics import ConfusionMatrixDisplay\n",
    "\n",
    "\n",
    "disp = ConfusionMatrixDisplay.from_estimator(\n",
    "       clf_best,\n",
    "       X_test_smote,\n",
    "       Y_test_smote,\n",
    "       display_labels=None,\n",
    "       cmap=plt.cm.Blues,\n",
    "       normalize=None)\n",
    "\n",
    "disp.ax_.set_title('Matriz de Confusión')\n",
    "disp.ax_.set_xlabel('Predicción');\n",
    "disp.ax_.set_ylabel('Realidad'); \n",
    "disp.ax_.xaxis.set_ticklabels(['0', '1']); \n",
    "disp.ax_.yaxis.set_ticklabels(['0', '1']);\n",
    "\n",
    "print('Matriz de Confusión')\n",
    "print(disp.confusion_matrix)\n",
    "\n",
    "plt.show()"
   ]
  },
  {
   "cell_type": "markdown",
   "metadata": {
    "id": "9NUvnAZwHMc3"
   },
   "source": [
    "### Nusvm"
   ]
  },
  {
   "cell_type": "markdown",
   "metadata": {
    "id": "CJy3Ejr7HMc3"
   },
   "source": [
    "#### Caso 1"
   ]
  },
  {
   "cell_type": "code",
   "execution_count": 87,
   "metadata": {
    "id": "wouPAnakHMc4"
   },
   "outputs": [],
   "source": [
    "parametros = {'nu'      : np.arange(0, 1, 0.1),\n",
    "            'gamma'  : ['scale','auto'],\n",
    "           'kernel' : ['rbf', 'linear','sigmoid']}\n",
    "\n",
    "from sklearn.svm import NuSVC\n",
    "from sklearn.model_selection import GridSearchCV\n",
    "\n",
    "clf = NuSVC(class_weight='balanced', random_state=325)  \n",
    "grid_search = GridSearchCV(clf, parametros, n_jobs=-1, cv=5) "
   ]
  },
  {
   "cell_type": "code",
   "execution_count": 88,
   "metadata": {
    "colab": {
     "base_uri": "https://localhost:8080/"
    },
    "id": "xecUHIMrHMc4",
    "outputId": "8d1278a2-aec6-4f43-b2df-61e8a7cc0205"
   },
   "outputs": [
    {
     "data": {
      "text/html": [
       "<style>#sk-container-id-6 {color: black;background-color: white;}#sk-container-id-6 pre{padding: 0;}#sk-container-id-6 div.sk-toggleable {background-color: white;}#sk-container-id-6 label.sk-toggleable__label {cursor: pointer;display: block;width: 100%;margin-bottom: 0;padding: 0.3em;box-sizing: border-box;text-align: center;}#sk-container-id-6 label.sk-toggleable__label-arrow:before {content: \"▸\";float: left;margin-right: 0.25em;color: #696969;}#sk-container-id-6 label.sk-toggleable__label-arrow:hover:before {color: black;}#sk-container-id-6 div.sk-estimator:hover label.sk-toggleable__label-arrow:before {color: black;}#sk-container-id-6 div.sk-toggleable__content {max-height: 0;max-width: 0;overflow: hidden;text-align: left;background-color: #f0f8ff;}#sk-container-id-6 div.sk-toggleable__content pre {margin: 0.2em;color: black;border-radius: 0.25em;background-color: #f0f8ff;}#sk-container-id-6 input.sk-toggleable__control:checked~div.sk-toggleable__content {max-height: 200px;max-width: 100%;overflow: auto;}#sk-container-id-6 input.sk-toggleable__control:checked~label.sk-toggleable__label-arrow:before {content: \"▾\";}#sk-container-id-6 div.sk-estimator input.sk-toggleable__control:checked~label.sk-toggleable__label {background-color: #d4ebff;}#sk-container-id-6 div.sk-label input.sk-toggleable__control:checked~label.sk-toggleable__label {background-color: #d4ebff;}#sk-container-id-6 input.sk-hidden--visually {border: 0;clip: rect(1px 1px 1px 1px);clip: rect(1px, 1px, 1px, 1px);height: 1px;margin: -1px;overflow: hidden;padding: 0;position: absolute;width: 1px;}#sk-container-id-6 div.sk-estimator {font-family: monospace;background-color: #f0f8ff;border: 1px dotted black;border-radius: 0.25em;box-sizing: border-box;margin-bottom: 0.5em;}#sk-container-id-6 div.sk-estimator:hover {background-color: #d4ebff;}#sk-container-id-6 div.sk-parallel-item::after {content: \"\";width: 100%;border-bottom: 1px solid gray;flex-grow: 1;}#sk-container-id-6 div.sk-label:hover label.sk-toggleable__label {background-color: #d4ebff;}#sk-container-id-6 div.sk-serial::before {content: \"\";position: absolute;border-left: 1px solid gray;box-sizing: border-box;top: 0;bottom: 0;left: 50%;z-index: 0;}#sk-container-id-6 div.sk-serial {display: flex;flex-direction: column;align-items: center;background-color: white;padding-right: 0.2em;padding-left: 0.2em;position: relative;}#sk-container-id-6 div.sk-item {position: relative;z-index: 1;}#sk-container-id-6 div.sk-parallel {display: flex;align-items: stretch;justify-content: center;background-color: white;position: relative;}#sk-container-id-6 div.sk-item::before, #sk-container-id-6 div.sk-parallel-item::before {content: \"\";position: absolute;border-left: 1px solid gray;box-sizing: border-box;top: 0;bottom: 0;left: 50%;z-index: -1;}#sk-container-id-6 div.sk-parallel-item {display: flex;flex-direction: column;z-index: 1;position: relative;background-color: white;}#sk-container-id-6 div.sk-parallel-item:first-child::after {align-self: flex-end;width: 50%;}#sk-container-id-6 div.sk-parallel-item:last-child::after {align-self: flex-start;width: 50%;}#sk-container-id-6 div.sk-parallel-item:only-child::after {width: 0;}#sk-container-id-6 div.sk-dashed-wrapped {border: 1px dashed gray;margin: 0 0.4em 0.5em 0.4em;box-sizing: border-box;padding-bottom: 0.4em;background-color: white;}#sk-container-id-6 div.sk-label label {font-family: monospace;font-weight: bold;display: inline-block;line-height: 1.2em;}#sk-container-id-6 div.sk-label-container {text-align: center;}#sk-container-id-6 div.sk-container {/* jupyter's `normalize.less` sets `[hidden] { display: none; }` but bootstrap.min.css set `[hidden] { display: none !important; }` so we also need the `!important` here to be able to override the default hidden behavior on the sphinx rendered scikit-learn.org. See: https://github.com/scikit-learn/scikit-learn/issues/21755 */display: inline-block !important;position: relative;}#sk-container-id-6 div.sk-text-repr-fallback {display: none;}</style><div id=\"sk-container-id-6\" class=\"sk-top-container\"><div class=\"sk-text-repr-fallback\"><pre>GridSearchCV(cv=5, estimator=NuSVC(class_weight=&#x27;balanced&#x27;, random_state=325),\n",
       "             n_jobs=-1,\n",
       "             param_grid={&#x27;gamma&#x27;: [&#x27;scale&#x27;, &#x27;auto&#x27;],\n",
       "                         &#x27;kernel&#x27;: [&#x27;rbf&#x27;, &#x27;linear&#x27;, &#x27;sigmoid&#x27;],\n",
       "                         &#x27;nu&#x27;: array([0. , 0.1, 0.2, 0.3, 0.4, 0.5, 0.6, 0.7, 0.8, 0.9])})</pre><b>In a Jupyter environment, please rerun this cell to show the HTML representation or trust the notebook. <br />On GitHub, the HTML representation is unable to render, please try loading this page with nbviewer.org.</b></div><div class=\"sk-container\" hidden><div class=\"sk-item sk-dashed-wrapped\"><div class=\"sk-label-container\"><div class=\"sk-label sk-toggleable\"><input class=\"sk-toggleable__control sk-hidden--visually\" id=\"sk-estimator-id-16\" type=\"checkbox\" ><label for=\"sk-estimator-id-16\" class=\"sk-toggleable__label sk-toggleable__label-arrow\">GridSearchCV</label><div class=\"sk-toggleable__content\"><pre>GridSearchCV(cv=5, estimator=NuSVC(class_weight=&#x27;balanced&#x27;, random_state=325),\n",
       "             n_jobs=-1,\n",
       "             param_grid={&#x27;gamma&#x27;: [&#x27;scale&#x27;, &#x27;auto&#x27;],\n",
       "                         &#x27;kernel&#x27;: [&#x27;rbf&#x27;, &#x27;linear&#x27;, &#x27;sigmoid&#x27;],\n",
       "                         &#x27;nu&#x27;: array([0. , 0.1, 0.2, 0.3, 0.4, 0.5, 0.6, 0.7, 0.8, 0.9])})</pre></div></div></div><div class=\"sk-parallel\"><div class=\"sk-parallel-item\"><div class=\"sk-item\"><div class=\"sk-label-container\"><div class=\"sk-label sk-toggleable\"><input class=\"sk-toggleable__control sk-hidden--visually\" id=\"sk-estimator-id-17\" type=\"checkbox\" ><label for=\"sk-estimator-id-17\" class=\"sk-toggleable__label sk-toggleable__label-arrow\">estimator: NuSVC</label><div class=\"sk-toggleable__content\"><pre>NuSVC(class_weight=&#x27;balanced&#x27;, random_state=325)</pre></div></div></div><div class=\"sk-serial\"><div class=\"sk-item\"><div class=\"sk-estimator sk-toggleable\"><input class=\"sk-toggleable__control sk-hidden--visually\" id=\"sk-estimator-id-18\" type=\"checkbox\" ><label for=\"sk-estimator-id-18\" class=\"sk-toggleable__label sk-toggleable__label-arrow\">NuSVC</label><div class=\"sk-toggleable__content\"><pre>NuSVC(class_weight=&#x27;balanced&#x27;, random_state=325)</pre></div></div></div></div></div></div></div></div></div></div>"
      ],
      "text/plain": [
       "GridSearchCV(cv=5, estimator=NuSVC(class_weight='balanced', random_state=325),\n",
       "             n_jobs=-1,\n",
       "             param_grid={'gamma': ['scale', 'auto'],\n",
       "                         'kernel': ['rbf', 'linear', 'sigmoid'],\n",
       "                         'nu': array([0. , 0.1, 0.2, 0.3, 0.4, 0.5, 0.6, 0.7, 0.8, 0.9])})"
      ]
     },
     "execution_count": 88,
     "metadata": {},
     "output_type": "execute_result"
    }
   ],
   "source": [
    "grid_search.fit(X_train_smote, Y_train_smote)"
   ]
  },
  {
   "cell_type": "code",
   "execution_count": 89,
   "metadata": {
    "colab": {
     "base_uri": "https://localhost:8080/"
    },
    "id": "Qc5BoDkcHMc4",
    "outputId": "e2d95afa-6b11-4783-cd14-e256a83caa38"
   },
   "outputs": [
    {
     "name": "stdout",
     "output_type": "stream",
     "text": [
      "El mejor modelo:\n",
      " {'gamma': 'scale', 'kernel': 'rbf', 'nu': 0.1}\n"
     ]
    }
   ],
   "source": [
    "print('El mejor modelo:\\n', grid_search.best_params_)"
   ]
  },
  {
   "cell_type": "code",
   "execution_count": 90,
   "metadata": {
    "id": "70tvTA9oHMc4"
   },
   "outputs": [],
   "source": [
    "clf_best = grid_search.best_estimator_\n",
    "pred = clf_best.predict(X_test_smote)"
   ]
  },
  {
   "cell_type": "code",
   "execution_count": 91,
   "metadata": {
    "colab": {
     "base_uri": "https://localhost:8080/"
    },
    "id": "O9fG8CK3HMc4",
    "outputId": "52108166-e9de-4804-d9f0-889a2f2b69ce"
   },
   "outputs": [
    {
     "name": "stdout",
     "output_type": "stream",
     "text": [
      "              precision    recall  f1-score   support\n",
      "\n",
      "           0       0.98      0.96      0.97       212\n",
      "           1       0.96      0.97      0.97       189\n",
      "\n",
      "    accuracy                           0.97       401\n",
      "   macro avg       0.97      0.97      0.97       401\n",
      "weighted avg       0.97      0.97      0.97       401\n",
      "\n"
     ]
    }
   ],
   "source": [
    "from sklearn.metrics import classification_report\n",
    "\n",
    "print(classification_report(Y_test_smote, pred))"
   ]
  },
  {
   "cell_type": "code",
   "execution_count": 92,
   "metadata": {
    "colab": {
     "base_uri": "https://localhost:8080/",
     "height": 347
    },
    "id": "6-egjLmAHMc4",
    "outputId": "bf77369b-70f9-4b2c-d3e7-3ccc925dce3e"
   },
   "outputs": [
    {
     "name": "stdout",
     "output_type": "stream",
     "text": [
      "Matriz de Confusión\n",
      "[[204   8]\n",
      " [  5 184]]\n"
     ]
    },
    {
     "data": {
      "image/png": "[encoded data removed]",
      "text/plain": [
       "<Figure size 432x288 with 2 Axes>"
      ]
     },
     "metadata": {
      "needs_background": "light"
     },
     "output_type": "display_data"
    }
   ],
   "source": [
    "from sklearn.metrics import ConfusionMatrixDisplay\n",
    "\n",
    "\n",
    "disp = ConfusionMatrixDisplay.from_estimator(\n",
    "       clf_best,\n",
    "       X_test_smote,\n",
    "       Y_test_smote,\n",
    "       display_labels=None,\n",
    "       cmap=plt.cm.Blues,\n",
    "       normalize=None)\n",
    "\n",
    "disp.ax_.set_title('Matriz de Confusión')\n",
    "disp.ax_.set_xlabel('Predicción');\n",
    "disp.ax_.set_ylabel('Realidad'); \n",
    "disp.ax_.xaxis.set_ticklabels(['0', '1']); \n",
    "disp.ax_.yaxis.set_ticklabels(['0', '1']);\n",
    "\n",
    "print('Matriz de Confusión')\n",
    "print(disp.confusion_matrix)\n",
    "\n",
    "plt.show()"
   ]
  },
  {
   "cell_type": "markdown",
   "metadata": {
    "id": "L4hiy0SvHMc4"
   },
   "source": []
  },
  {
   "cell_type": "markdown",
   "metadata": {
    "id": "Fn-btzsBHMc4"
   },
   "source": [
    "##SECCION CON DATOS SIN PREPROCESAR"
   ]
  },
  {
   "cell_type": "markdown",
   "metadata": {
    "id": "yYo8Oce9HMc4"
   },
   "source": [
    "## transformar texto(Embeding) Sin preprocesamiento de texto"
   ]
  },
  {
   "cell_type": "code",
   "execution_count": 93,
   "metadata": {
    "colab": {
     "base_uri": "https://localhost:8080/",
     "height": 424
    },
    "id": "vCt742AoHMc4",
    "outputId": "ca9c6d90-aad5-4063-d8b8-6a4b18c7e790"
   },
   "outputs": [
    {
     "data": {
      "text/html": [
       "<div>\n",
       "<style scoped>\n",
       "    .dataframe tbody tr th:only-of-type {\n",
       "        vertical-align: middle;\n",
       "    }\n",
       "\n",
       "    .dataframe tbody tr th {\n",
       "        vertical-align: top;\n",
       "    }\n",
       "\n",
       "    .dataframe thead th {\n",
       "        text-align: right;\n",
       "    }\n",
       "</style>\n",
       "<table border=\"1\" class=\"dataframe\">\n",
       "  <thead>\n",
       "    <tr style=\"text-align: right;\">\n",
       "      <th></th>\n",
       "      <th>resultado</th>\n",
       "      <th>mensaje</th>\n",
       "    </tr>\n",
       "  </thead>\n",
       "  <tbody>\n",
       "    <tr>\n",
       "      <th>0</th>\n",
       "      <td>0</td>\n",
       "      <td>Free entry in 2 a wkly comp to win FA Cup fina...</td>\n",
       "    </tr>\n",
       "    <tr>\n",
       "      <th>1</th>\n",
       "      <td>0</td>\n",
       "      <td>FreeMsg Hey there darling it's been 3 week's n...</td>\n",
       "    </tr>\n",
       "    <tr>\n",
       "      <th>2</th>\n",
       "      <td>1</td>\n",
       "      <td>As per your request 'Melle Melle (Oru Minnamin...</td>\n",
       "    </tr>\n",
       "    <tr>\n",
       "      <th>3</th>\n",
       "      <td>0</td>\n",
       "      <td>WINNER!! As a valued network customer you have...</td>\n",
       "    </tr>\n",
       "    <tr>\n",
       "      <th>4</th>\n",
       "      <td>0</td>\n",
       "      <td>Had your mobile 11 months or more? U R entitle...</td>\n",
       "    </tr>\n",
       "    <tr>\n",
       "      <th>...</th>\n",
       "      <td>...</td>\n",
       "      <td>...</td>\n",
       "    </tr>\n",
       "    <tr>\n",
       "      <th>1285</th>\n",
       "      <td>0</td>\n",
       "      <td>Had your contract mobile 11 Mnths? Latest Moto...</td>\n",
       "    </tr>\n",
       "    <tr>\n",
       "      <th>1286</th>\n",
       "      <td>1</td>\n",
       "      <td>Yeh. Indians was nice. Tho it did kane me off ...</td>\n",
       "    </tr>\n",
       "    <tr>\n",
       "      <th>1287</th>\n",
       "      <td>0</td>\n",
       "      <td>REMINDER FROM O2: To get 2.50 pounds free call...</td>\n",
       "    </tr>\n",
       "    <tr>\n",
       "      <th>1288</th>\n",
       "      <td>0</td>\n",
       "      <td>This is the 2nd time we have tried 2 contact u...</td>\n",
       "    </tr>\n",
       "    <tr>\n",
       "      <th>1289</th>\n",
       "      <td>1</td>\n",
       "      <td>The guy did some bitching but I acted like i'd...</td>\n",
       "    </tr>\n",
       "  </tbody>\n",
       "</table>\n",
       "<p>1290 rows × 2 columns</p>\n",
       "</div>"
      ],
      "text/plain": [
       "      resultado                                            mensaje\n",
       "0             0  Free entry in 2 a wkly comp to win FA Cup fina...\n",
       "1             0  FreeMsg Hey there darling it's been 3 week's n...\n",
       "2             1  As per your request 'Melle Melle (Oru Minnamin...\n",
       "3             0  WINNER!! As a valued network customer you have...\n",
       "4             0  Had your mobile 11 months or more? U R entitle...\n",
       "...         ...                                                ...\n",
       "1285          0  Had your contract mobile 11 Mnths? Latest Moto...\n",
       "1286          1  Yeh. Indians was nice. Tho it did kane me off ...\n",
       "1287          0  REMINDER FROM O2: To get 2.50 pounds free call...\n",
       "1288          0  This is the 2nd time we have tried 2 contact u...\n",
       "1289          1  The guy did some bitching but I acted like i'd...\n",
       "\n",
       "[1290 rows x 2 columns]"
      ]
     },
     "execution_count": 93,
     "metadata": {},
     "output_type": "execute_result"
    }
   ],
   "source": [
    "df"
   ]
  },
  {
   "cell_type": "code",
   "execution_count": 94,
   "metadata": {
    "id": "YQn0RrxPHMc4"
   },
   "outputs": [],
   "source": [
    "# 4to paso: Vamos a crear dos variables que cargaran en memoria dos funciones para transformar el texto\n",
    "##\n",
    "##   - preprocessor: \"objeto\" que se encargará de transformar el texto en el formato que necesita el modelo BERT para funcionar\n",
    "##   - encoder: \"objeto\" que será el modelo BERT y se alimentará del resultado de preprocessor, retornando el texto transformado en un vector numérico.\n",
    "\n",
    "preprocessor = hub.load(\"https://tfhub.dev/tensorflow/bert_en_uncased_preprocess/3\")\n",
    "encoder = hub.load(\"https://tfhub.dev/tensorflow/small_bert/bert_en_uncased_L-8_H-768_A-12/2\")"
   ]
  },
  {
   "cell_type": "code",
   "execution_count": 95,
   "metadata": {
    "id": "hiPPT6tkHMc5"
   },
   "outputs": [],
   "source": [
    "# 5to paso: Vamos a usar el objeto preprocessor, y guardamos su resultado en la variable embedding\n",
    "##   A modo de ejemplo para su revisión, solo vamos a transformar dos textos:\n",
    "\n",
    "embedding = preprocessor(df['mensaje']) # df['mensaje'] es el texto"
   ]
  },
  {
   "cell_type": "code",
   "execution_count": 96,
   "metadata": {
    "id": "zPpkvmFaHMc5"
   },
   "outputs": [],
   "source": [
    "# 6to paso: Vamos a codificar el texto con el modelo BERT:\n",
    "##   - Fijarse que el objeto encoder recibe como argumento la variable embedding (resultado de preprocessor)\n",
    "##   - Copiar el siguiente código de forma literal\n",
    "\n",
    "pooled_output = encoder(embedding)[\"pooled_output\"]"
   ]
  },
  {
   "cell_type": "code",
   "execution_count": 97,
   "metadata": {
    "colab": {
     "base_uri": "https://localhost:8080/"
    },
    "id": "FQ_NgtRgHMc5",
    "outputId": "f2590e9f-1745-4d7d-fb66-ccc37b1fee4d"
   },
   "outputs": [
    {
     "data": {
      "text/plain": [
       "<tf.Tensor: shape=(1290, 768), dtype=float32, numpy=\n",
       "array([[ 0.08871425,  0.67912555, -0.16463964, ...,  0.1644198 ,\n",
       "        -0.11735693, -0.987491  ],\n",
       "       [ 0.1212618 ,  0.3194409 , -0.40186912, ...,  0.4667165 ,\n",
       "        -0.28611186,  0.9996754 ],\n",
       "       [ 0.19764955,  0.32201082, -0.616137  , ...,  0.47346365,\n",
       "        -0.08850101, -0.99978775],\n",
       "       ...,\n",
       "       [ 0.13317777,  0.69238913, -0.05015263, ...,  0.04529166,\n",
       "        -0.06035437, -0.42771077],\n",
       "       [ 0.18150668, -0.05990547, -0.4888495 , ...,  0.61826706,\n",
       "        -0.4013028 , -0.9999922 ],\n",
       "       [ 0.15411788, -0.8084427 , -0.29440075, ...,  0.2187708 ,\n",
       "        -0.35820514, -0.6788743 ]], dtype=float32)>"
      ]
     },
     "execution_count": 97,
     "metadata": {},
     "output_type": "execute_result"
    }
   ],
   "source": [
    "# Opcional: revisamos el contenido de la variable pooled_output, el cual tiene dos vectores de 128 dimensiones\n",
    "##\n",
    "##    - Dos vectores, porque le pasamos solo dos textos\n",
    "##    - 128 dimensiones, porque el modelo BERT utilizado convierte cualquier texto (independiente del largo) en un vector numérico de 128 dimensiones.\n",
    "\n",
    "pooled_output"
   ]
  },
  {
   "cell_type": "code",
   "execution_count": 98,
   "metadata": {
    "id": "yj-Mt75DHMc5"
   },
   "outputs": [],
   "source": [
    "# 7mo paso: El contenido de la variable pooled_output es una estructura de datos de tipo tensorflow.\n",
    "#           Para transformarlo a un dataframe y usarlo de forma tradicional con los modelos clásicos, \n",
    "#           ejecutamos la siguiente linea de código:\n",
    "\n",
    "dataX2 = pd.DataFrame(pooled_output.numpy())"
   ]
  },
  {
   "cell_type": "code",
   "execution_count": 99,
   "metadata": {
    "colab": {
     "base_uri": "https://localhost:8080/"
    },
    "id": "ElQTAJanHMc5",
    "outputId": "4cb7745c-7338-4562-e901-d2ae0c765079"
   },
   "outputs": [
    {
     "data": {
      "text/plain": [
       "(1290, 768)"
      ]
     },
     "execution_count": 99,
     "metadata": {},
     "output_type": "execute_result"
    }
   ],
   "source": [
    "# Opcional:  Ahora la variable dataX es un dataframe y podemos revisar su dimensionalidad y visualizarlo:\n",
    "dataX2.shape"
   ]
  },
  {
   "cell_type": "code",
   "execution_count": 100,
   "metadata": {
    "colab": {
     "base_uri": "https://localhost:8080/",
     "height": 424
    },
    "id": "I4RerigkHMc5",
    "outputId": "e4388245-7a3d-43c4-8dc6-b35654a87308"
   },
   "outputs": [
    {
     "data": {
      "text/html": [
       "<div>\n",
       "<style scoped>\n",
       "    .dataframe tbody tr th:only-of-type {\n",
       "        vertical-align: middle;\n",
       "    }\n",
       "\n",
       "    .dataframe tbody tr th {\n",
       "        vertical-align: top;\n",
       "    }\n",
       "\n",
       "    .dataframe thead th {\n",
       "        text-align: right;\n",
       "    }\n",
       "</style>\n",
       "<table border=\"1\" class=\"dataframe\">\n",
       "  <thead>\n",
       "    <tr style=\"text-align: right;\">\n",
       "      <th></th>\n",
       "      <th>0</th>\n",
       "      <th>1</th>\n",
       "      <th>2</th>\n",
       "      <th>3</th>\n",
       "      <th>4</th>\n",
       "      <th>5</th>\n",
       "      <th>6</th>\n",
       "      <th>7</th>\n",
       "      <th>8</th>\n",
       "      <th>9</th>\n",
       "      <th>...</th>\n",
       "      <th>758</th>\n",
       "      <th>759</th>\n",
       "      <th>760</th>\n",
       "      <th>761</th>\n",
       "      <th>762</th>\n",
       "      <th>763</th>\n",
       "      <th>764</th>\n",
       "      <th>765</th>\n",
       "      <th>766</th>\n",
       "      <th>767</th>\n",
       "    </tr>\n",
       "  </thead>\n",
       "  <tbody>\n",
       "    <tr>\n",
       "      <th>0</th>\n",
       "      <td>0.088714</td>\n",
       "      <td>0.679126</td>\n",
       "      <td>-0.164640</td>\n",
       "      <td>0.014652</td>\n",
       "      <td>0.989995</td>\n",
       "      <td>-0.287194</td>\n",
       "      <td>0.128881</td>\n",
       "      <td>0.269601</td>\n",
       "      <td>0.406100</td>\n",
       "      <td>-0.901636</td>\n",
       "      <td>...</td>\n",
       "      <td>-0.961371</td>\n",
       "      <td>0.037564</td>\n",
       "      <td>0.361678</td>\n",
       "      <td>0.955746</td>\n",
       "      <td>0.250704</td>\n",
       "      <td>0.322893</td>\n",
       "      <td>0.095721</td>\n",
       "      <td>0.164420</td>\n",
       "      <td>-0.117357</td>\n",
       "      <td>-0.987491</td>\n",
       "    </tr>\n",
       "    <tr>\n",
       "      <th>1</th>\n",
       "      <td>0.121262</td>\n",
       "      <td>0.319441</td>\n",
       "      <td>-0.401869</td>\n",
       "      <td>-0.040149</td>\n",
       "      <td>0.996549</td>\n",
       "      <td>-0.278394</td>\n",
       "      <td>0.207220</td>\n",
       "      <td>0.256279</td>\n",
       "      <td>0.205172</td>\n",
       "      <td>-0.971728</td>\n",
       "      <td>...</td>\n",
       "      <td>-0.410684</td>\n",
       "      <td>0.040421</td>\n",
       "      <td>-0.024683</td>\n",
       "      <td>-0.993681</td>\n",
       "      <td>0.400094</td>\n",
       "      <td>0.166909</td>\n",
       "      <td>-0.159388</td>\n",
       "      <td>0.466716</td>\n",
       "      <td>-0.286112</td>\n",
       "      <td>0.999675</td>\n",
       "    </tr>\n",
       "    <tr>\n",
       "      <th>2</th>\n",
       "      <td>0.197650</td>\n",
       "      <td>0.322011</td>\n",
       "      <td>-0.616137</td>\n",
       "      <td>-0.082851</td>\n",
       "      <td>0.953918</td>\n",
       "      <td>-0.033996</td>\n",
       "      <td>0.615772</td>\n",
       "      <td>0.520698</td>\n",
       "      <td>0.759945</td>\n",
       "      <td>-0.959604</td>\n",
       "      <td>...</td>\n",
       "      <td>-0.710772</td>\n",
       "      <td>-0.084104</td>\n",
       "      <td>0.134832</td>\n",
       "      <td>0.997635</td>\n",
       "      <td>0.371444</td>\n",
       "      <td>0.343629</td>\n",
       "      <td>0.339780</td>\n",
       "      <td>0.473464</td>\n",
       "      <td>-0.088501</td>\n",
       "      <td>-0.999788</td>\n",
       "    </tr>\n",
       "    <tr>\n",
       "      <th>3</th>\n",
       "      <td>0.391307</td>\n",
       "      <td>-0.509089</td>\n",
       "      <td>-0.151889</td>\n",
       "      <td>-0.104724</td>\n",
       "      <td>0.966555</td>\n",
       "      <td>-0.284739</td>\n",
       "      <td>0.340006</td>\n",
       "      <td>0.409245</td>\n",
       "      <td>0.467653</td>\n",
       "      <td>-0.848932</td>\n",
       "      <td>...</td>\n",
       "      <td>-0.976630</td>\n",
       "      <td>0.026175</td>\n",
       "      <td>0.351392</td>\n",
       "      <td>0.999708</td>\n",
       "      <td>0.262009</td>\n",
       "      <td>0.445389</td>\n",
       "      <td>0.229833</td>\n",
       "      <td>0.596833</td>\n",
       "      <td>-0.380778</td>\n",
       "      <td>-0.999994</td>\n",
       "    </tr>\n",
       "    <tr>\n",
       "      <th>4</th>\n",
       "      <td>0.013746</td>\n",
       "      <td>0.326090</td>\n",
       "      <td>-0.333164</td>\n",
       "      <td>0.074524</td>\n",
       "      <td>0.996711</td>\n",
       "      <td>-0.118981</td>\n",
       "      <td>0.403797</td>\n",
       "      <td>0.300551</td>\n",
       "      <td>0.350966</td>\n",
       "      <td>-0.981943</td>\n",
       "      <td>...</td>\n",
       "      <td>-0.021768</td>\n",
       "      <td>0.228136</td>\n",
       "      <td>-0.235478</td>\n",
       "      <td>-0.986360</td>\n",
       "      <td>0.207861</td>\n",
       "      <td>0.205549</td>\n",
       "      <td>0.088095</td>\n",
       "      <td>0.196613</td>\n",
       "      <td>-0.128481</td>\n",
       "      <td>0.997867</td>\n",
       "    </tr>\n",
       "    <tr>\n",
       "      <th>...</th>\n",
       "      <td>...</td>\n",
       "      <td>...</td>\n",
       "      <td>...</td>\n",
       "      <td>...</td>\n",
       "      <td>...</td>\n",
       "      <td>...</td>\n",
       "      <td>...</td>\n",
       "      <td>...</td>\n",
       "      <td>...</td>\n",
       "      <td>...</td>\n",
       "      <td>...</td>\n",
       "      <td>...</td>\n",
       "      <td>...</td>\n",
       "      <td>...</td>\n",
       "      <td>...</td>\n",
       "      <td>...</td>\n",
       "      <td>...</td>\n",
       "      <td>...</td>\n",
       "      <td>...</td>\n",
       "      <td>...</td>\n",
       "      <td>...</td>\n",
       "    </tr>\n",
       "    <tr>\n",
       "      <th>1285</th>\n",
       "      <td>0.004048</td>\n",
       "      <td>0.044948</td>\n",
       "      <td>-0.239052</td>\n",
       "      <td>0.157082</td>\n",
       "      <td>0.992442</td>\n",
       "      <td>-0.330080</td>\n",
       "      <td>0.112964</td>\n",
       "      <td>0.313799</td>\n",
       "      <td>0.302498</td>\n",
       "      <td>-0.951736</td>\n",
       "      <td>...</td>\n",
       "      <td>-0.885518</td>\n",
       "      <td>0.071003</td>\n",
       "      <td>-0.120074</td>\n",
       "      <td>0.998683</td>\n",
       "      <td>0.320988</td>\n",
       "      <td>0.120938</td>\n",
       "      <td>0.099327</td>\n",
       "      <td>0.426714</td>\n",
       "      <td>-0.013189</td>\n",
       "      <td>-0.999943</td>\n",
       "    </tr>\n",
       "    <tr>\n",
       "      <th>1286</th>\n",
       "      <td>-0.013918</td>\n",
       "      <td>-0.260331</td>\n",
       "      <td>-0.369983</td>\n",
       "      <td>-0.209300</td>\n",
       "      <td>0.884095</td>\n",
       "      <td>-0.155285</td>\n",
       "      <td>-0.056112</td>\n",
       "      <td>0.343705</td>\n",
       "      <td>0.277783</td>\n",
       "      <td>-0.980170</td>\n",
       "      <td>...</td>\n",
       "      <td>-0.885004</td>\n",
       "      <td>0.065726</td>\n",
       "      <td>0.355587</td>\n",
       "      <td>0.998712</td>\n",
       "      <td>0.182542</td>\n",
       "      <td>0.417968</td>\n",
       "      <td>0.111855</td>\n",
       "      <td>0.433144</td>\n",
       "      <td>-0.478042</td>\n",
       "      <td>-0.999920</td>\n",
       "    </tr>\n",
       "    <tr>\n",
       "      <th>1287</th>\n",
       "      <td>0.133178</td>\n",
       "      <td>0.692389</td>\n",
       "      <td>-0.050153</td>\n",
       "      <td>0.145355</td>\n",
       "      <td>0.988687</td>\n",
       "      <td>-0.201207</td>\n",
       "      <td>0.122350</td>\n",
       "      <td>0.139860</td>\n",
       "      <td>0.381572</td>\n",
       "      <td>-0.974084</td>\n",
       "      <td>...</td>\n",
       "      <td>-0.872812</td>\n",
       "      <td>0.016867</td>\n",
       "      <td>-0.019217</td>\n",
       "      <td>0.353452</td>\n",
       "      <td>-0.050673</td>\n",
       "      <td>0.000810</td>\n",
       "      <td>-0.030031</td>\n",
       "      <td>0.045292</td>\n",
       "      <td>-0.060354</td>\n",
       "      <td>-0.427711</td>\n",
       "    </tr>\n",
       "    <tr>\n",
       "      <th>1288</th>\n",
       "      <td>0.181507</td>\n",
       "      <td>-0.059905</td>\n",
       "      <td>-0.488849</td>\n",
       "      <td>-0.174354</td>\n",
       "      <td>0.935618</td>\n",
       "      <td>-0.461734</td>\n",
       "      <td>0.342809</td>\n",
       "      <td>0.451812</td>\n",
       "      <td>0.632596</td>\n",
       "      <td>-0.974781</td>\n",
       "      <td>...</td>\n",
       "      <td>-0.983631</td>\n",
       "      <td>-0.167708</td>\n",
       "      <td>0.557624</td>\n",
       "      <td>0.999695</td>\n",
       "      <td>0.482742</td>\n",
       "      <td>0.424970</td>\n",
       "      <td>0.320369</td>\n",
       "      <td>0.618267</td>\n",
       "      <td>-0.401303</td>\n",
       "      <td>-0.999992</td>\n",
       "    </tr>\n",
       "    <tr>\n",
       "      <th>1289</th>\n",
       "      <td>0.154118</td>\n",
       "      <td>-0.808443</td>\n",
       "      <td>-0.294401</td>\n",
       "      <td>-0.131938</td>\n",
       "      <td>0.886046</td>\n",
       "      <td>0.020943</td>\n",
       "      <td>0.201163</td>\n",
       "      <td>0.241090</td>\n",
       "      <td>0.114675</td>\n",
       "      <td>-0.979792</td>\n",
       "      <td>...</td>\n",
       "      <td>-0.931926</td>\n",
       "      <td>-0.261343</td>\n",
       "      <td>0.230043</td>\n",
       "      <td>0.574440</td>\n",
       "      <td>0.061407</td>\n",
       "      <td>0.120508</td>\n",
       "      <td>0.079621</td>\n",
       "      <td>0.218771</td>\n",
       "      <td>-0.358205</td>\n",
       "      <td>-0.678874</td>\n",
       "    </tr>\n",
       "  </tbody>\n",
       "</table>\n",
       "<p>1290 rows × 768 columns</p>\n",
       "</div>"
      ],
      "text/plain": [
       "           0         1         2         3         4         5         6    \\\n",
       "0     0.088714  0.679126 -0.164640  0.014652  0.989995 -0.287194  0.128881   \n",
       "1     0.121262  0.319441 -0.401869 -0.040149  0.996549 -0.278394  0.207220   \n",
       "2     0.197650  0.322011 -0.616137 -0.082851  0.953918 -0.033996  0.615772   \n",
       "3     0.391307 -0.509089 -0.151889 -0.104724  0.966555 -0.284739  0.340006   \n",
       "4     0.013746  0.326090 -0.333164  0.074524  0.996711 -0.118981  0.403797   \n",
       "...        ...       ...       ...       ...       ...       ...       ...   \n",
       "1285  0.004048  0.044948 -0.239052  0.157082  0.992442 -0.330080  0.112964   \n",
       "1286 -0.013918 -0.260331 -0.369983 -0.209300  0.884095 -0.155285 -0.056112   \n",
       "1287  0.133178  0.692389 -0.050153  0.145355  0.988687 -0.201207  0.122350   \n",
       "1288  0.181507 -0.059905 -0.488849 -0.174354  0.935618 -0.461734  0.342809   \n",
       "1289  0.154118 -0.808443 -0.294401 -0.131938  0.886046  0.020943  0.201163   \n",
       "\n",
       "           7         8         9    ...       758       759       760  \\\n",
       "0     0.269601  0.406100 -0.901636  ... -0.961371  0.037564  0.361678   \n",
       "1     0.256279  0.205172 -0.971728  ... -0.410684  0.040421 -0.024683   \n",
       "2     0.520698  0.759945 -0.959604  ... -0.710772 -0.084104  0.134832   \n",
       "3     0.409245  0.467653 -0.848932  ... -0.976630  0.026175  0.351392   \n",
       "4     0.300551  0.350966 -0.981943  ... -0.021768  0.228136 -0.235478   \n",
       "...        ...       ...       ...  ...       ...       ...       ...   \n",
       "1285  0.313799  0.302498 -0.951736  ... -0.885518  0.071003 -0.120074   \n",
       "1286  0.343705  0.277783 -0.980170  ... -0.885004  0.065726  0.355587   \n",
       "1287  0.139860  0.381572 -0.974084  ... -0.872812  0.016867 -0.019217   \n",
       "1288  0.451812  0.632596 -0.974781  ... -0.983631 -0.167708  0.557624   \n",
       "1289  0.241090  0.114675 -0.979792  ... -0.931926 -0.261343  0.230043   \n",
       "\n",
       "           761       762       763       764       765       766       767  \n",
       "0     0.955746  0.250704  0.322893  0.095721  0.164420 -0.117357 -0.987491  \n",
       "1    -0.993681  0.400094  0.166909 -0.159388  0.466716 -0.286112  0.999675  \n",
       "2     0.997635  0.371444  0.343629  0.339780  0.473464 -0.088501 -0.999788  \n",
       "3     0.999708  0.262009  0.445389  0.229833  0.596833 -0.380778 -0.999994  \n",
       "4    -0.986360  0.207861  0.205549  0.088095  0.196613 -0.128481  0.997867  \n",
       "...        ...       ...       ...       ...       ...       ...       ...  \n",
       "1285  0.998683  0.320988  0.120938  0.099327  0.426714 -0.013189 -0.999943  \n",
       "1286  0.998712  0.182542  0.417968  0.111855  0.433144 -0.478042 -0.999920  \n",
       "1287  0.353452 -0.050673  0.000810 -0.030031  0.045292 -0.060354 -0.427711  \n",
       "1288  0.999695  0.482742  0.424970  0.320369  0.618267 -0.401303 -0.999992  \n",
       "1289  0.574440  0.061407  0.120508  0.079621  0.218771 -0.358205 -0.678874  \n",
       "\n",
       "[1290 rows x 768 columns]"
      ]
     },
     "execution_count": 100,
     "metadata": {},
     "output_type": "execute_result"
    }
   ],
   "source": [
    "dataX2"
   ]
  },
  {
   "cell_type": "markdown",
   "metadata": {
    "id": "eBNd_4MyHMc5"
   },
   "source": [
    "##seleccion de las variable"
   ]
  },
  {
   "cell_type": "code",
   "execution_count": 101,
   "metadata": {
    "id": "ByP54J5mHMc5"
   },
   "outputs": [],
   "source": [
    "X = dataX2 \n",
    "Y = df['resultado'].copy()"
   ]
  },
  {
   "cell_type": "code",
   "execution_count": 102,
   "metadata": {
    "colab": {
     "base_uri": "https://localhost:8080/"
    },
    "id": "BbCsfOMGHMc5",
    "outputId": "e0d6ef75-b0bd-4d33-f7b8-a064813e6e35"
   },
   "outputs": [
    {
     "data": {
      "text/plain": [
       "RangeIndex(start=0, stop=768, step=1)"
      ]
     },
     "execution_count": 102,
     "metadata": {},
     "output_type": "execute_result"
    }
   ],
   "source": [
    "X.columns"
   ]
  },
  {
   "cell_type": "code",
   "execution_count": 103,
   "metadata": {
    "colab": {
     "base_uri": "https://localhost:8080/"
    },
    "id": "A_mBS_yrHMc5",
    "outputId": "c28e93bb-07ac-4c31-e341-38a715971430"
   },
   "outputs": [
    {
     "name": "stdout",
     "output_type": "stream",
     "text": [
      "<class 'pandas.core.frame.DataFrame'>\n",
      "RangeIndex: 1290 entries, 0 to 1289\n",
      "Columns: 768 entries, 0 to 767\n",
      "dtypes: float32(768)\n",
      "memory usage: 3.8 MB\n"
     ]
    }
   ],
   "source": [
    "X.info()"
   ]
  },
  {
   "cell_type": "code",
   "execution_count": 104,
   "metadata": {
    "colab": {
     "base_uri": "https://localhost:8080/"
    },
    "id": "dudlUW70HMc6",
    "outputId": "5b889e89-3100-44d8-fa89-7e1d24929160"
   },
   "outputs": [
    {
     "data": {
      "text/plain": [
       "0    0\n",
       "1    0\n",
       "2    1\n",
       "3    0\n",
       "4    0\n",
       "Name: resultado, dtype: int64"
      ]
     },
     "execution_count": 104,
     "metadata": {},
     "output_type": "execute_result"
    }
   ],
   "source": [
    "Y.head()"
   ]
  },
  {
   "cell_type": "markdown",
   "metadata": {
    "id": "qrIzTFtUHMc6"
   },
   "source": [
    "## Balanceo de datos"
   ]
  },
  {
   "cell_type": "markdown",
   "metadata": {
    "id": "u8iUvgBeHMc6"
   },
   "source": [
    "### Aplicando Smote"
   ]
  },
  {
   "cell_type": "code",
   "execution_count": 105,
   "metadata": {
    "colab": {
     "base_uri": "https://localhost:8080/"
    },
    "id": "t46r21MYHMc6",
    "outputId": "fa4e1041-de37-4adc-95e7-2c34498b0f65"
   },
   "outputs": [
    {
     "data": {
      "text/plain": [
       "Counter({0: 668, 1: 668})"
      ]
     },
     "execution_count": 105,
     "metadata": {},
     "output_type": "execute_result"
    }
   ],
   "source": [
    "from imblearn.over_sampling import SMOTE #over sobre nivelar hacia arriba under nivelacion hacia el menor dato\n",
    "#from imblearn.under_sampling import SMOTE \n",
    "\n",
    "smote = SMOTE(random_state = 325, n_jobs=-1)\n",
    "X_smote, Y_smote = smote.fit_resample(X, Y)# hace Balance de los datos a partir de los agreglos\n",
    "\n",
    "from collections import Counter\n",
    "\n",
    "Counter(Y_smote)"
   ]
  },
  {
   "cell_type": "markdown",
   "metadata": {
    "id": "Cv2eVeqzHMc6"
   },
   "source": [
    "## Train y test"
   ]
  },
  {
   "cell_type": "code",
   "execution_count": 106,
   "metadata": {
    "id": "CLoE8iCxHMc6"
   },
   "outputs": [],
   "source": [
    "from sklearn.model_selection import train_test_split\n",
    "X_train_smote, X_test_smote, Y_train_smote, Y_test_smote = train_test_split(X_smote, Y_smote, random_state=325,test_size = 0.3)\n",
    "        \n",
    "X_train, X_test, Y_train, Y_test = train_test_split(X, Y, random_state=325,test_size = 0.3)        "
   ]
  },
  {
   "cell_type": "markdown",
   "metadata": {
    "id": "kobrjPz_HMc6"
   },
   "source": [
    "## SVM\n"
   ]
  },
  {
   "cell_type": "markdown",
   "metadata": {
    "id": "looryJwmHMc6"
   },
   "source": [
    "###SVC "
   ]
  },
  {
   "cell_type": "markdown",
   "metadata": {
    "id": "mGfRKL_EHMc6"
   },
   "source": [
    "#### Caso 1"
   ]
  },
  {
   "cell_type": "code",
   "execution_count": 107,
   "metadata": {
    "id": "UqgwJhTfHMc6"
   },
   "outputs": [],
   "source": [
    "parametros = {'C'      : np.arange(1, 5, 1),\n",
    "            'gamma'  : np.arange(1, 5, 1),\n",
    "           'kernel' : ['rbf', 'linear','sigmoid']}\n",
    "\n",
    "from sklearn.svm import SVC\n",
    "from sklearn.model_selection import GridSearchCV\n",
    "\n",
    "clf = SVC(class_weight='balanced', random_state=325)  \n",
    "grid_search = GridSearchCV(clf, parametros, n_jobs=-1, cv=5) "
   ]
  },
  {
   "cell_type": "code",
   "execution_count": 108,
   "metadata": {
    "colab": {
     "base_uri": "https://localhost:8080/"
    },
    "id": "GIrbG1YyHMc6",
    "outputId": "ef5a1cf1-cd2e-4490-d36f-affe6c0e0011"
   },
   "outputs": [
    {
     "data": {
      "text/html": [
       "<style>#sk-container-id-7 {color: black;background-color: white;}#sk-container-id-7 pre{padding: 0;}#sk-container-id-7 div.sk-toggleable {background-color: white;}#sk-container-id-7 label.sk-toggleable__label {cursor: pointer;display: block;width: 100%;margin-bottom: 0;padding: 0.3em;box-sizing: border-box;text-align: center;}#sk-container-id-7 label.sk-toggleable__label-arrow:before {content: \"▸\";float: left;margin-right: 0.25em;color: #696969;}#sk-container-id-7 label.sk-toggleable__label-arrow:hover:before {color: black;}#sk-container-id-7 div.sk-estimator:hover label.sk-toggleable__label-arrow:before {color: black;}#sk-container-id-7 div.sk-toggleable__content {max-height: 0;max-width: 0;overflow: hidden;text-align: left;background-color: #f0f8ff;}#sk-container-id-7 div.sk-toggleable__content pre {margin: 0.2em;color: black;border-radius: 0.25em;background-color: #f0f8ff;}#sk-container-id-7 input.sk-toggleable__control:checked~div.sk-toggleable__content {max-height: 200px;max-width: 100%;overflow: auto;}#sk-container-id-7 input.sk-toggleable__control:checked~label.sk-toggleable__label-arrow:before {content: \"▾\";}#sk-container-id-7 div.sk-estimator input.sk-toggleable__control:checked~label.sk-toggleable__label {background-color: #d4ebff;}#sk-container-id-7 div.sk-label input.sk-toggleable__control:checked~label.sk-toggleable__label {background-color: #d4ebff;}#sk-container-id-7 input.sk-hidden--visually {border: 0;clip: rect(1px 1px 1px 1px);clip: rect(1px, 1px, 1px, 1px);height: 1px;margin: -1px;overflow: hidden;padding: 0;position: absolute;width: 1px;}#sk-container-id-7 div.sk-estimator {font-family: monospace;background-color: #f0f8ff;border: 1px dotted black;border-radius: 0.25em;box-sizing: border-box;margin-bottom: 0.5em;}#sk-container-id-7 div.sk-estimator:hover {background-color: #d4ebff;}#sk-container-id-7 div.sk-parallel-item::after {content: \"\";width: 100%;border-bottom: 1px solid gray;flex-grow: 1;}#sk-container-id-7 div.sk-label:hover label.sk-toggleable__label {background-color: #d4ebff;}#sk-container-id-7 div.sk-serial::before {content: \"\";position: absolute;border-left: 1px solid gray;box-sizing: border-box;top: 0;bottom: 0;left: 50%;z-index: 0;}#sk-container-id-7 div.sk-serial {display: flex;flex-direction: column;align-items: center;background-color: white;padding-right: 0.2em;padding-left: 0.2em;position: relative;}#sk-container-id-7 div.sk-item {position: relative;z-index: 1;}#sk-container-id-7 div.sk-parallel {display: flex;align-items: stretch;justify-content: center;background-color: white;position: relative;}#sk-container-id-7 div.sk-item::before, #sk-container-id-7 div.sk-parallel-item::before {content: \"\";position: absolute;border-left: 1px solid gray;box-sizing: border-box;top: 0;bottom: 0;left: 50%;z-index: -1;}#sk-container-id-7 div.sk-parallel-item {display: flex;flex-direction: column;z-index: 1;position: relative;background-color: white;}#sk-container-id-7 div.sk-parallel-item:first-child::after {align-self: flex-end;width: 50%;}#sk-container-id-7 div.sk-parallel-item:last-child::after {align-self: flex-start;width: 50%;}#sk-container-id-7 div.sk-parallel-item:only-child::after {width: 0;}#sk-container-id-7 div.sk-dashed-wrapped {border: 1px dashed gray;margin: 0 0.4em 0.5em 0.4em;box-sizing: border-box;padding-bottom: 0.4em;background-color: white;}#sk-container-id-7 div.sk-label label {font-family: monospace;font-weight: bold;display: inline-block;line-height: 1.2em;}#sk-container-id-7 div.sk-label-container {text-align: center;}#sk-container-id-7 div.sk-container {/* jupyter's `normalize.less` sets `[hidden] { display: none; }` but bootstrap.min.css set `[hidden] { display: none !important; }` so we also need the `!important` here to be able to override the default hidden behavior on the sphinx rendered scikit-learn.org. See: https://github.com/scikit-learn/scikit-learn/issues/21755 */display: inline-block !important;position: relative;}#sk-container-id-7 div.sk-text-repr-fallback {display: none;}</style><div id=\"sk-container-id-7\" class=\"sk-top-container\"><div class=\"sk-text-repr-fallback\"><pre>GridSearchCV(cv=5, estimator=SVC(class_weight=&#x27;balanced&#x27;, random_state=325),\n",
       "             n_jobs=-1,\n",
       "             param_grid={&#x27;C&#x27;: array([1, 2, 3, 4]), &#x27;gamma&#x27;: array([1, 2, 3, 4]),\n",
       "                         &#x27;kernel&#x27;: [&#x27;rbf&#x27;, &#x27;linear&#x27;, &#x27;sigmoid&#x27;]})</pre><b>In a Jupyter environment, please rerun this cell to show the HTML representation or trust the notebook. <br />On GitHub, the HTML representation is unable to render, please try loading this page with nbviewer.org.</b></div><div class=\"sk-container\" hidden><div class=\"sk-item sk-dashed-wrapped\"><div class=\"sk-label-container\"><div class=\"sk-label sk-toggleable\"><input class=\"sk-toggleable__control sk-hidden--visually\" id=\"sk-estimator-id-19\" type=\"checkbox\" ><label for=\"sk-estimator-id-19\" class=\"sk-toggleable__label sk-toggleable__label-arrow\">GridSearchCV</label><div class=\"sk-toggleable__content\"><pre>GridSearchCV(cv=5, estimator=SVC(class_weight=&#x27;balanced&#x27;, random_state=325),\n",
       "             n_jobs=-1,\n",
       "             param_grid={&#x27;C&#x27;: array([1, 2, 3, 4]), &#x27;gamma&#x27;: array([1, 2, 3, 4]),\n",
       "                         &#x27;kernel&#x27;: [&#x27;rbf&#x27;, &#x27;linear&#x27;, &#x27;sigmoid&#x27;]})</pre></div></div></div><div class=\"sk-parallel\"><div class=\"sk-parallel-item\"><div class=\"sk-item\"><div class=\"sk-label-container\"><div class=\"sk-label sk-toggleable\"><input class=\"sk-toggleable__control sk-hidden--visually\" id=\"sk-estimator-id-20\" type=\"checkbox\" ><label for=\"sk-estimator-id-20\" class=\"sk-toggleable__label sk-toggleable__label-arrow\">estimator: SVC</label><div class=\"sk-toggleable__content\"><pre>SVC(class_weight=&#x27;balanced&#x27;, random_state=325)</pre></div></div></div><div class=\"sk-serial\"><div class=\"sk-item\"><div class=\"sk-estimator sk-toggleable\"><input class=\"sk-toggleable__control sk-hidden--visually\" id=\"sk-estimator-id-21\" type=\"checkbox\" ><label for=\"sk-estimator-id-21\" class=\"sk-toggleable__label sk-toggleable__label-arrow\">SVC</label><div class=\"sk-toggleable__content\"><pre>SVC(class_weight=&#x27;balanced&#x27;, random_state=325)</pre></div></div></div></div></div></div></div></div></div></div>"
      ],
      "text/plain": [
       "GridSearchCV(cv=5, estimator=SVC(class_weight='balanced', random_state=325),\n",
       "             n_jobs=-1,\n",
       "             param_grid={'C': array([1, 2, 3, 4]), 'gamma': array([1, 2, 3, 4]),\n",
       "                         'kernel': ['rbf', 'linear', 'sigmoid']})"
      ]
     },
     "execution_count": 108,
     "metadata": {},
     "output_type": "execute_result"
    }
   ],
   "source": [
    "grid_search.fit(X_train_smote, Y_train_smote)"
   ]
  },
  {
   "cell_type": "code",
   "execution_count": 109,
   "metadata": {
    "colab": {
     "base_uri": "https://localhost:8080/"
    },
    "id": "TfFdw-J-HMc6",
    "outputId": "b64f5110-0cab-4f71-a334-0cf068e6f432"
   },
   "outputs": [
    {
     "name": "stdout",
     "output_type": "stream",
     "text": [
      "El mejor modelo:\n",
      " {'C': 1, 'gamma': 1, 'kernel': 'linear'}\n"
     ]
    }
   ],
   "source": [
    "print('El mejor modelo:\\n', grid_search.best_params_)"
   ]
  },
  {
   "cell_type": "code",
   "execution_count": 110,
   "metadata": {
    "id": "RfsFrW6iHMc7"
   },
   "outputs": [],
   "source": [
    "clf_best = grid_search.best_estimator_\n",
    "pred = clf_best.predict(X_test_smote)"
   ]
  },
  {
   "cell_type": "code",
   "execution_count": 111,
   "metadata": {
    "colab": {
     "base_uri": "https://localhost:8080/"
    },
    "id": "7h6FH41EHMc7",
    "outputId": "bfd31cc5-2608-4fbe-a894-f58d5e7a9237"
   },
   "outputs": [
    {
     "name": "stdout",
     "output_type": "stream",
     "text": [
      "              precision    recall  f1-score   support\n",
      "\n",
      "           0       1.00      0.97      0.98       212\n",
      "           1       0.96      0.99      0.98       189\n",
      "\n",
      "    accuracy                           0.98       401\n",
      "   macro avg       0.98      0.98      0.98       401\n",
      "weighted avg       0.98      0.98      0.98       401\n",
      "\n"
     ]
    }
   ],
   "source": [
    "from sklearn.metrics import classification_report\n",
    "print(classification_report(Y_test_smote, pred))"
   ]
  },
  {
   "cell_type": "code",
   "execution_count": 112,
   "metadata": {
    "colab": {
     "base_uri": "https://localhost:8080/",
     "height": 347
    },
    "id": "BbsVMe26HMc7",
    "outputId": "58392d7e-aca3-40ef-d783-cedf40494b0b"
   },
   "outputs": [
    {
     "name": "stdout",
     "output_type": "stream",
     "text": [
      "Matriz de Confusión\n",
      "[[205   7]\n",
      " [  1 188]]\n"
     ]
    },
    {
     "data": {
      "image/png": "[encoded data removed]",
      "text/plain": [
       "<Figure size 432x288 with 2 Axes>"
      ]
     },
     "metadata": {
      "needs_background": "light"
     },
     "output_type": "display_data"
    }
   ],
   "source": [
    "from sklearn.metrics import ConfusionMatrixDisplay\n",
    "\n",
    "\n",
    "disp = ConfusionMatrixDisplay.from_estimator(\n",
    "       clf_best,\n",
    "       X_test_smote,\n",
    "       Y_test_smote,\n",
    "       display_labels=None,\n",
    "       cmap=plt.cm.Blues,\n",
    "       normalize=None)\n",
    "\n",
    "disp.ax_.set_title('Matriz de Confusión')\n",
    "disp.ax_.set_xlabel('Predicción');\n",
    "disp.ax_.set_ylabel('Realidad'); \n",
    "disp.ax_.xaxis.set_ticklabels(['0', '1']); \n",
    "disp.ax_.yaxis.set_ticklabels(['0', '1']);\n",
    "\n",
    "print('Matriz de Confusión')\n",
    "print(disp.confusion_matrix)\n",
    "\n",
    "plt.show()"
   ]
  },
  {
   "cell_type": "markdown",
   "metadata": {
    "id": "IkVCTx2RHMc7"
   },
   "source": [
    "### Nusvm"
   ]
  },
  {
   "cell_type": "markdown",
   "metadata": {
    "id": "JKeV5oUCHMc7"
   },
   "source": [
    "#### Caso 1"
   ]
  },
  {
   "cell_type": "code",
   "execution_count": 113,
   "metadata": {
    "id": "RIkTq0_tHMc7"
   },
   "outputs": [],
   "source": [
    "parametros = {'nu'      : np.arange(0, 1, 0.1),\n",
    "            'gamma'  : ['scale','auto'],\n",
    "           'kernel' : ['rbf', 'linear','sigmoid']}\n",
    "\n",
    "from sklearn.svm import NuSVC\n",
    "from sklearn.model_selection import GridSearchCV\n",
    "\n",
    "clf = NuSVC(class_weight='balanced', random_state=325)  \n",
    "grid_search = GridSearchCV(clf, parametros, n_jobs=-1, cv=5) "
   ]
  },
  {
   "cell_type": "code",
   "execution_count": 114,
   "metadata": {
    "colab": {
     "base_uri": "https://localhost:8080/"
    },
    "id": "_zozKAsrHMc7",
    "outputId": "46847fc2-d800-4d7e-da7c-70a26216ef3f"
   },
   "outputs": [
    {
     "data": {
      "text/html": [
       "<style>#sk-container-id-8 {color: black;background-color: white;}#sk-container-id-8 pre{padding: 0;}#sk-container-id-8 div.sk-toggleable {background-color: white;}#sk-container-id-8 label.sk-toggleable__label {cursor: pointer;display: block;width: 100%;margin-bottom: 0;padding: 0.3em;box-sizing: border-box;text-align: center;}#sk-container-id-8 label.sk-toggleable__label-arrow:before {content: \"▸\";float: left;margin-right: 0.25em;color: #696969;}#sk-container-id-8 label.sk-toggleable__label-arrow:hover:before {color: black;}#sk-container-id-8 div.sk-estimator:hover label.sk-toggleable__label-arrow:before {color: black;}#sk-container-id-8 div.sk-toggleable__content {max-height: 0;max-width: 0;overflow: hidden;text-align: left;background-color: #f0f8ff;}#sk-container-id-8 div.sk-toggleable__content pre {margin: 0.2em;color: black;border-radius: 0.25em;background-color: #f0f8ff;}#sk-container-id-8 input.sk-toggleable__control:checked~div.sk-toggleable__content {max-height: 200px;max-width: 100%;overflow: auto;}#sk-container-id-8 input.sk-toggleable__control:checked~label.sk-toggleable__label-arrow:before {content: \"▾\";}#sk-container-id-8 div.sk-estimator input.sk-toggleable__control:checked~label.sk-toggleable__label {background-color: #d4ebff;}#sk-container-id-8 div.sk-label input.sk-toggleable__control:checked~label.sk-toggleable__label {background-color: #d4ebff;}#sk-container-id-8 input.sk-hidden--visually {border: 0;clip: rect(1px 1px 1px 1px);clip: rect(1px, 1px, 1px, 1px);height: 1px;margin: -1px;overflow: hidden;padding: 0;position: absolute;width: 1px;}#sk-container-id-8 div.sk-estimator {font-family: monospace;background-color: #f0f8ff;border: 1px dotted black;border-radius: 0.25em;box-sizing: border-box;margin-bottom: 0.5em;}#sk-container-id-8 div.sk-estimator:hover {background-color: #d4ebff;}#sk-container-id-8 div.sk-parallel-item::after {content: \"\";width: 100%;border-bottom: 1px solid gray;flex-grow: 1;}#sk-container-id-8 div.sk-label:hover label.sk-toggleable__label {background-color: #d4ebff;}#sk-container-id-8 div.sk-serial::before {content: \"\";position: absolute;border-left: 1px solid gray;box-sizing: border-box;top: 0;bottom: 0;left: 50%;z-index: 0;}#sk-container-id-8 div.sk-serial {display: flex;flex-direction: column;align-items: center;background-color: white;padding-right: 0.2em;padding-left: 0.2em;position: relative;}#sk-container-id-8 div.sk-item {position: relative;z-index: 1;}#sk-container-id-8 div.sk-parallel {display: flex;align-items: stretch;justify-content: center;background-color: white;position: relative;}#sk-container-id-8 div.sk-item::before, #sk-container-id-8 div.sk-parallel-item::before {content: \"\";position: absolute;border-left: 1px solid gray;box-sizing: border-box;top: 0;bottom: 0;left: 50%;z-index: -1;}#sk-container-id-8 div.sk-parallel-item {display: flex;flex-direction: column;z-index: 1;position: relative;background-color: white;}#sk-container-id-8 div.sk-parallel-item:first-child::after {align-self: flex-end;width: 50%;}#sk-container-id-8 div.sk-parallel-item:last-child::after {align-self: flex-start;width: 50%;}#sk-container-id-8 div.sk-parallel-item:only-child::after {width: 0;}#sk-container-id-8 div.sk-dashed-wrapped {border: 1px dashed gray;margin: 0 0.4em 0.5em 0.4em;box-sizing: border-box;padding-bottom: 0.4em;background-color: white;}#sk-container-id-8 div.sk-label label {font-family: monospace;font-weight: bold;display: inline-block;line-height: 1.2em;}#sk-container-id-8 div.sk-label-container {text-align: center;}#sk-container-id-8 div.sk-container {/* jupyter's `normalize.less` sets `[hidden] { display: none; }` but bootstrap.min.css set `[hidden] { display: none !important; }` so we also need the `!important` here to be able to override the default hidden behavior on the sphinx rendered scikit-learn.org. See: https://github.com/scikit-learn/scikit-learn/issues/21755 */display: inline-block !important;position: relative;}#sk-container-id-8 div.sk-text-repr-fallback {display: none;}</style><div id=\"sk-container-id-8\" class=\"sk-top-container\"><div class=\"sk-text-repr-fallback\"><pre>GridSearchCV(cv=5, estimator=NuSVC(class_weight=&#x27;balanced&#x27;, random_state=325),\n",
       "             n_jobs=-1,\n",
       "             param_grid={&#x27;gamma&#x27;: [&#x27;scale&#x27;, &#x27;auto&#x27;],\n",
       "                         &#x27;kernel&#x27;: [&#x27;rbf&#x27;, &#x27;linear&#x27;, &#x27;sigmoid&#x27;],\n",
       "                         &#x27;nu&#x27;: array([0. , 0.1, 0.2, 0.3, 0.4, 0.5, 0.6, 0.7, 0.8, 0.9])})</pre><b>In a Jupyter environment, please rerun this cell to show the HTML representation or trust the notebook. <br />On GitHub, the HTML representation is unable to render, please try loading this page with nbviewer.org.</b></div><div class=\"sk-container\" hidden><div class=\"sk-item sk-dashed-wrapped\"><div class=\"sk-label-container\"><div class=\"sk-label sk-toggleable\"><input class=\"sk-toggleable__control sk-hidden--visually\" id=\"sk-estimator-id-22\" type=\"checkbox\" ><label for=\"sk-estimator-id-22\" class=\"sk-toggleable__label sk-toggleable__label-arrow\">GridSearchCV</label><div class=\"sk-toggleable__content\"><pre>GridSearchCV(cv=5, estimator=NuSVC(class_weight=&#x27;balanced&#x27;, random_state=325),\n",
       "             n_jobs=-1,\n",
       "             param_grid={&#x27;gamma&#x27;: [&#x27;scale&#x27;, &#x27;auto&#x27;],\n",
       "                         &#x27;kernel&#x27;: [&#x27;rbf&#x27;, &#x27;linear&#x27;, &#x27;sigmoid&#x27;],\n",
       "                         &#x27;nu&#x27;: array([0. , 0.1, 0.2, 0.3, 0.4, 0.5, 0.6, 0.7, 0.8, 0.9])})</pre></div></div></div><div class=\"sk-parallel\"><div class=\"sk-parallel-item\"><div class=\"sk-item\"><div class=\"sk-label-container\"><div class=\"sk-label sk-toggleable\"><input class=\"sk-toggleable__control sk-hidden--visually\" id=\"sk-estimator-id-23\" type=\"checkbox\" ><label for=\"sk-estimator-id-23\" class=\"sk-toggleable__label sk-toggleable__label-arrow\">estimator: NuSVC</label><div class=\"sk-toggleable__content\"><pre>NuSVC(class_weight=&#x27;balanced&#x27;, random_state=325)</pre></div></div></div><div class=\"sk-serial\"><div class=\"sk-item\"><div class=\"sk-estimator sk-toggleable\"><input class=\"sk-toggleable__control sk-hidden--visually\" id=\"sk-estimator-id-24\" type=\"checkbox\" ><label for=\"sk-estimator-id-24\" class=\"sk-toggleable__label sk-toggleable__label-arrow\">NuSVC</label><div class=\"sk-toggleable__content\"><pre>NuSVC(class_weight=&#x27;balanced&#x27;, random_state=325)</pre></div></div></div></div></div></div></div></div></div></div>"
      ],
      "text/plain": [
       "GridSearchCV(cv=5, estimator=NuSVC(class_weight='balanced', random_state=325),\n",
       "             n_jobs=-1,\n",
       "             param_grid={'gamma': ['scale', 'auto'],\n",
       "                         'kernel': ['rbf', 'linear', 'sigmoid'],\n",
       "                         'nu': array([0. , 0.1, 0.2, 0.3, 0.4, 0.5, 0.6, 0.7, 0.8, 0.9])})"
      ]
     },
     "execution_count": 114,
     "metadata": {},
     "output_type": "execute_result"
    }
   ],
   "source": [
    "grid_search.fit(X_train_smote, Y_train_smote)"
   ]
  },
  {
   "cell_type": "code",
   "execution_count": 115,
   "metadata": {
    "colab": {
     "base_uri": "https://localhost:8080/"
    },
    "id": "p4lLIvj0HMc7",
    "outputId": "2bf32955-3beb-4108-f88a-5372edd8c5fe"
   },
   "outputs": [
    {
     "name": "stdout",
     "output_type": "stream",
     "text": [
      "El mejor modelo:\n",
      " {'gamma': 'auto', 'kernel': 'sigmoid', 'nu': 0.1}\n"
     ]
    }
   ],
   "source": [
    "print('El mejor modelo:\\n', grid_search.best_params_)"
   ]
  },
  {
   "cell_type": "code",
   "execution_count": 116,
   "metadata": {
    "id": "qlGBlr55HMc7"
   },
   "outputs": [],
   "source": [
    "clf_best = grid_search.best_estimator_\n",
    "pred = clf_best.predict(X_test_smote)"
   ]
  },
  {
   "cell_type": "code",
   "execution_count": 117,
   "metadata": {
    "colab": {
     "base_uri": "https://localhost:8080/"
    },
    "id": "IhPvKQreHMc7",
    "outputId": "0f517516-fa21-4958-8bf9-be9310c7b54b"
   },
   "outputs": [
    {
     "name": "stdout",
     "output_type": "stream",
     "text": [
      "              precision    recall  f1-score   support\n",
      "\n",
      "           0       0.99      0.97      0.98       212\n",
      "           1       0.96      0.99      0.98       189\n",
      "\n",
      "    accuracy                           0.98       401\n",
      "   macro avg       0.98      0.98      0.98       401\n",
      "weighted avg       0.98      0.98      0.98       401\n",
      "\n"
     ]
    }
   ],
   "source": [
    "from sklearn.metrics import classification_report\n",
    "\n",
    "print(classification_report(Y_test_smote, pred))"
   ]
  },
  {
   "cell_type": "code",
   "execution_count": 118,
   "metadata": {
    "colab": {
     "base_uri": "https://localhost:8080/",
     "height": 347
    },
    "id": "cMT5-2J8HMc7",
    "outputId": "8d9549ad-a4b4-4c70-e347-f5489db63bf2"
   },
   "outputs": [
    {
     "name": "stdout",
     "output_type": "stream",
     "text": [
      "Matriz de Confusión\n",
      "[[205   7]\n",
      " [  2 187]]\n"
     ]
    },
    {
     "data": {
      "image/png": "[encoded data removed]",
      "text/plain": [
       "<Figure size 432x288 with 2 Axes>"
      ]
     },
     "metadata": {
      "needs_background": "light"
     },
     "output_type": "display_data"
    }
   ],
   "source": [
    "from sklearn.metrics import ConfusionMatrixDisplay\n",
    "\n",
    "\n",
    "disp = ConfusionMatrixDisplay.from_estimator(\n",
    "       clf_best,\n",
    "       X_test_smote,\n",
    "       Y_test_smote,\n",
    "       display_labels=None,\n",
    "       cmap=plt.cm.Blues,\n",
    "       normalize=None)\n",
    "\n",
    "disp.ax_.set_title('Matriz de Confusión')\n",
    "disp.ax_.set_xlabel('Predicción');\n",
    "disp.ax_.set_ylabel('Realidad'); \n",
    "disp.ax_.xaxis.set_ticklabels(['0', '1']); \n",
    "disp.ax_.yaxis.set_ticklabels(['0', '1']);\n",
    "\n",
    "print('Matriz de Confusión')\n",
    "print(disp.confusion_matrix)\n",
    "\n",
    "plt.show()"
   ]
  },
  {
   "cell_type": "markdown",
   "metadata": {
    "id": "FOPO-J6KHP5Z"
   },
   "source": [
    "# Embedding  bert normal L-12 --- 768 Vectores\n",
    "https://tfhub.dev/tensorflow/bert_en_uncased_L-12_H-768_A-12/4"
   ]
  },
  {
   "cell_type": "markdown",
   "metadata": {
    "id": "8asy_-q0HP5Z"
   },
   "source": [
    "## transformar texto (Embedding)"
   ]
  },
  {
   "cell_type": "code",
   "execution_count": 119,
   "metadata": {
    "id": "S5dsiL0OHP5Z"
   },
   "outputs": [],
   "source": [
    "# 4to paso: Vamos a crear dos variables que cargaran en memoria dos funciones para transformar el texto\n",
    "##\n",
    "##   - preprocessor: \"objeto\" que se encargará de transformar el texto en el formato que necesita el modelo BERT para funcionar\n",
    "##   - encoder: \"objeto\" que será el modelo BERT y se alimentará del resultado de preprocessor, retornando el texto transformado en un vector numérico.\n",
    "\n",
    "preprocessor = hub.load(\"https://tfhub.dev/tensorflow/bert_en_uncased_preprocess/3\")\n",
    "encoder = hub.load(\"https://tfhub.dev/tensorflow/bert_en_uncased_L-12_H-768_A-12/4\")"
   ]
  },
  {
   "cell_type": "code",
   "execution_count": 120,
   "metadata": {
    "id": "neQoRon-HP5Z"
   },
   "outputs": [],
   "source": [
    "# 5to paso: Vamos a usar el objeto preprocessor, y guardamos su resultado en la variable embedding\n",
    "##   A modo de ejemplo para su revisión, solo vamos a transformar dos textos:\n",
    "\n",
    "embedding = preprocessor(df_clean) # df_clean es el texto"
   ]
  },
  {
   "cell_type": "code",
   "execution_count": 121,
   "metadata": {
    "id": "kWTC4UDsHP5Z"
   },
   "outputs": [],
   "source": [
    "# 6to paso: Vamos a codificar el texto con el modelo BERT:\n",
    "##   - Fijarse que el objeto encoder recibe como argumento la variable embedding (resultado de preprocessor)\n",
    "##   - Copiar el siguiente código de forma literal\n",
    "\n",
    "pooled_output = encoder(embedding)[\"pooled_output\"]"
   ]
  },
  {
   "cell_type": "code",
   "execution_count": 122,
   "metadata": {
    "colab": {
     "base_uri": "https://localhost:8080/"
    },
    "id": "6ZCQTrVPHP5a",
    "outputId": "31bc1984-7789-43e2-8f57-4f1f008d4f13"
   },
   "outputs": [
    {
     "data": {
      "text/plain": [
       "<tf.Tensor: shape=(1290, 768), dtype=float32, numpy=\n",
       "array([[-0.75730956, -0.42505357, -0.7350513 , ..., -0.5764751 ,\n",
       "        -0.655075  ,  0.7657074 ],\n",
       "       [-0.7651781 , -0.4213607 , -0.75798196, ..., -0.27572042,\n",
       "        -0.65562266,  0.83420044],\n",
       "       [-0.81173605, -0.531464  , -0.9737113 , ..., -0.92622936,\n",
       "        -0.6807842 ,  0.72695416],\n",
       "       ...,\n",
       "       [-0.8050632 , -0.56816167, -0.8823565 , ..., -0.6575462 ,\n",
       "        -0.69617844,  0.8332591 ],\n",
       "       [-0.7697152 , -0.38749805, -0.40023124, ..., -0.18508947,\n",
       "        -0.62858975,  0.8490988 ],\n",
       "       [-0.84208393, -0.5069599 , -0.7763376 , ..., -0.85260934,\n",
       "        -0.6869661 ,  0.92257196]], dtype=float32)>"
      ]
     },
     "execution_count": 122,
     "metadata": {},
     "output_type": "execute_result"
    }
   ],
   "source": [
    "# Opcional: revisamos el contenido de la variable pooled_output, el cual tiene dos vectores de 128 dimensiones\n",
    "##\n",
    "##    - Dos vectores, porque le pasamos solo dos textos\n",
    "##    - 128 dimensiones, porque el modelo BERT utilizado convierte cualquier texto (independiente del largo) en un vector numérico de 128 dimensiones.\n",
    "\n",
    "pooled_output"
   ]
  },
  {
   "cell_type": "code",
   "execution_count": 123,
   "metadata": {
    "id": "xkrSa69LHP5a"
   },
   "outputs": [],
   "source": [
    "# 7mo paso: El contenido de la variable pooled_output es una estructura de datos de tipo tensorflow.\n",
    "#           Para transformarlo a un dataframe y usarlo de forma tradicional con los modelos clásicos, \n",
    "#           ejecutamos la siguiente linea de código:\n",
    "\n",
    "dataX2 = pd.DataFrame(pooled_output.numpy())"
   ]
  },
  {
   "cell_type": "code",
   "execution_count": 124,
   "metadata": {
    "colab": {
     "base_uri": "https://localhost:8080/"
    },
    "id": "6ZazFU5RHP5a",
    "outputId": "006548f9-0737-42d5-8c7b-7a4ea1255967"
   },
   "outputs": [
    {
     "data": {
      "text/plain": [
       "(1290, 768)"
      ]
     },
     "execution_count": 124,
     "metadata": {},
     "output_type": "execute_result"
    }
   ],
   "source": [
    "# Opcional:  Ahora la variable dataX es un dataframe y podemos revisar su dimensionalidad y visualizarlo:\n",
    "dataX2.shape"
   ]
  },
  {
   "cell_type": "code",
   "execution_count": 125,
   "metadata": {
    "colab": {
     "base_uri": "https://localhost:8080/",
     "height": 424
    },
    "id": "qgcdNBL3HP5a",
    "outputId": "eaba9cbb-763d-411c-ebbd-3aba16970fe9"
   },
   "outputs": [
    {
     "data": {
      "text/html": [
       "<div>\n",
       "<style scoped>\n",
       "    .dataframe tbody tr th:only-of-type {\n",
       "        vertical-align: middle;\n",
       "    }\n",
       "\n",
       "    .dataframe tbody tr th {\n",
       "        vertical-align: top;\n",
       "    }\n",
       "\n",
       "    .dataframe thead th {\n",
       "        text-align: right;\n",
       "    }\n",
       "</style>\n",
       "<table border=\"1\" class=\"dataframe\">\n",
       "  <thead>\n",
       "    <tr style=\"text-align: right;\">\n",
       "      <th></th>\n",
       "      <th>0</th>\n",
       "      <th>1</th>\n",
       "      <th>2</th>\n",
       "      <th>3</th>\n",
       "      <th>4</th>\n",
       "      <th>5</th>\n",
       "      <th>6</th>\n",
       "      <th>7</th>\n",
       "      <th>8</th>\n",
       "      <th>9</th>\n",
       "      <th>...</th>\n",
       "      <th>758</th>\n",
       "      <th>759</th>\n",
       "      <th>760</th>\n",
       "      <th>761</th>\n",
       "      <th>762</th>\n",
       "      <th>763</th>\n",
       "      <th>764</th>\n",
       "      <th>765</th>\n",
       "      <th>766</th>\n",
       "      <th>767</th>\n",
       "    </tr>\n",
       "  </thead>\n",
       "  <tbody>\n",
       "    <tr>\n",
       "      <th>0</th>\n",
       "      <td>-0.757310</td>\n",
       "      <td>-0.425054</td>\n",
       "      <td>-0.735051</td>\n",
       "      <td>0.616823</td>\n",
       "      <td>0.434431</td>\n",
       "      <td>-0.207697</td>\n",
       "      <td>0.722834</td>\n",
       "      <td>0.298271</td>\n",
       "      <td>-0.418425</td>\n",
       "      <td>-0.999970</td>\n",
       "      <td>...</td>\n",
       "      <td>0.541846</td>\n",
       "      <td>0.139681</td>\n",
       "      <td>0.815318</td>\n",
       "      <td>0.755486</td>\n",
       "      <td>-0.131656</td>\n",
       "      <td>0.087501</td>\n",
       "      <td>0.708868</td>\n",
       "      <td>-0.576475</td>\n",
       "      <td>-0.655075</td>\n",
       "      <td>0.765707</td>\n",
       "    </tr>\n",
       "    <tr>\n",
       "      <th>1</th>\n",
       "      <td>-0.765178</td>\n",
       "      <td>-0.421361</td>\n",
       "      <td>-0.757982</td>\n",
       "      <td>0.579527</td>\n",
       "      <td>0.410910</td>\n",
       "      <td>-0.123458</td>\n",
       "      <td>0.692512</td>\n",
       "      <td>0.310883</td>\n",
       "      <td>-0.479182</td>\n",
       "      <td>-0.999967</td>\n",
       "      <td>...</td>\n",
       "      <td>0.549559</td>\n",
       "      <td>0.117115</td>\n",
       "      <td>0.866232</td>\n",
       "      <td>0.798901</td>\n",
       "      <td>0.440707</td>\n",
       "      <td>0.365194</td>\n",
       "      <td>0.646461</td>\n",
       "      <td>-0.275720</td>\n",
       "      <td>-0.655623</td>\n",
       "      <td>0.834200</td>\n",
       "    </tr>\n",
       "    <tr>\n",
       "      <th>2</th>\n",
       "      <td>-0.811736</td>\n",
       "      <td>-0.531464</td>\n",
       "      <td>-0.973711</td>\n",
       "      <td>0.790537</td>\n",
       "      <td>0.854787</td>\n",
       "      <td>-0.311390</td>\n",
       "      <td>0.719173</td>\n",
       "      <td>0.285851</td>\n",
       "      <td>-0.769165</td>\n",
       "      <td>-0.999993</td>\n",
       "      <td>...</td>\n",
       "      <td>0.598200</td>\n",
       "      <td>-0.503647</td>\n",
       "      <td>0.956874</td>\n",
       "      <td>0.785168</td>\n",
       "      <td>-0.326721</td>\n",
       "      <td>-0.147038</td>\n",
       "      <td>0.649085</td>\n",
       "      <td>-0.926229</td>\n",
       "      <td>-0.680784</td>\n",
       "      <td>0.726954</td>\n",
       "    </tr>\n",
       "    <tr>\n",
       "      <th>3</th>\n",
       "      <td>-0.849474</td>\n",
       "      <td>-0.470662</td>\n",
       "      <td>-0.795166</td>\n",
       "      <td>0.656917</td>\n",
       "      <td>0.476046</td>\n",
       "      <td>-0.153718</td>\n",
       "      <td>0.822621</td>\n",
       "      <td>0.245486</td>\n",
       "      <td>-0.578682</td>\n",
       "      <td>-0.999985</td>\n",
       "      <td>...</td>\n",
       "      <td>0.485121</td>\n",
       "      <td>0.068865</td>\n",
       "      <td>0.848601</td>\n",
       "      <td>0.820875</td>\n",
       "      <td>0.061161</td>\n",
       "      <td>-0.005170</td>\n",
       "      <td>0.579785</td>\n",
       "      <td>-0.697040</td>\n",
       "      <td>-0.637968</td>\n",
       "      <td>0.819345</td>\n",
       "    </tr>\n",
       "    <tr>\n",
       "      <th>4</th>\n",
       "      <td>-0.827662</td>\n",
       "      <td>-0.556465</td>\n",
       "      <td>-0.925901</td>\n",
       "      <td>0.782784</td>\n",
       "      <td>0.698466</td>\n",
       "      <td>-0.265253</td>\n",
       "      <td>0.797253</td>\n",
       "      <td>0.392149</td>\n",
       "      <td>-0.764461</td>\n",
       "      <td>-0.999985</td>\n",
       "      <td>...</td>\n",
       "      <td>0.515834</td>\n",
       "      <td>0.040695</td>\n",
       "      <td>0.958262</td>\n",
       "      <td>0.837710</td>\n",
       "      <td>0.049949</td>\n",
       "      <td>0.083915</td>\n",
       "      <td>0.633500</td>\n",
       "      <td>-0.787124</td>\n",
       "      <td>-0.752586</td>\n",
       "      <td>0.872425</td>\n",
       "    </tr>\n",
       "    <tr>\n",
       "      <th>...</th>\n",
       "      <td>...</td>\n",
       "      <td>...</td>\n",
       "      <td>...</td>\n",
       "      <td>...</td>\n",
       "      <td>...</td>\n",
       "      <td>...</td>\n",
       "      <td>...</td>\n",
       "      <td>...</td>\n",
       "      <td>...</td>\n",
       "      <td>...</td>\n",
       "      <td>...</td>\n",
       "      <td>...</td>\n",
       "      <td>...</td>\n",
       "      <td>...</td>\n",
       "      <td>...</td>\n",
       "      <td>...</td>\n",
       "      <td>...</td>\n",
       "      <td>...</td>\n",
       "      <td>...</td>\n",
       "      <td>...</td>\n",
       "      <td>...</td>\n",
       "    </tr>\n",
       "    <tr>\n",
       "      <th>1285</th>\n",
       "      <td>-0.755280</td>\n",
       "      <td>-0.555400</td>\n",
       "      <td>-0.922314</td>\n",
       "      <td>0.712132</td>\n",
       "      <td>0.652668</td>\n",
       "      <td>-0.296853</td>\n",
       "      <td>0.643542</td>\n",
       "      <td>0.431018</td>\n",
       "      <td>-0.601828</td>\n",
       "      <td>-0.999972</td>\n",
       "      <td>...</td>\n",
       "      <td>0.378174</td>\n",
       "      <td>-0.052208</td>\n",
       "      <td>0.930524</td>\n",
       "      <td>0.763092</td>\n",
       "      <td>-0.229372</td>\n",
       "      <td>0.050177</td>\n",
       "      <td>0.523758</td>\n",
       "      <td>-0.843485</td>\n",
       "      <td>-0.679903</td>\n",
       "      <td>0.781227</td>\n",
       "    </tr>\n",
       "    <tr>\n",
       "      <th>1286</th>\n",
       "      <td>-0.763205</td>\n",
       "      <td>-0.256878</td>\n",
       "      <td>0.025879</td>\n",
       "      <td>0.329793</td>\n",
       "      <td>0.134540</td>\n",
       "      <td>-0.002173</td>\n",
       "      <td>0.487883</td>\n",
       "      <td>0.083764</td>\n",
       "      <td>0.370077</td>\n",
       "      <td>-0.999833</td>\n",
       "      <td>...</td>\n",
       "      <td>0.510022</td>\n",
       "      <td>0.185481</td>\n",
       "      <td>0.539482</td>\n",
       "      <td>0.803911</td>\n",
       "      <td>0.372977</td>\n",
       "      <td>0.817105</td>\n",
       "      <td>0.567112</td>\n",
       "      <td>0.151515</td>\n",
       "      <td>-0.515829</td>\n",
       "      <td>0.853345</td>\n",
       "    </tr>\n",
       "    <tr>\n",
       "      <th>1287</th>\n",
       "      <td>-0.805063</td>\n",
       "      <td>-0.568162</td>\n",
       "      <td>-0.882357</td>\n",
       "      <td>0.726839</td>\n",
       "      <td>0.638819</td>\n",
       "      <td>-0.290169</td>\n",
       "      <td>0.819806</td>\n",
       "      <td>0.381533</td>\n",
       "      <td>-0.688665</td>\n",
       "      <td>-0.999989</td>\n",
       "      <td>...</td>\n",
       "      <td>0.502742</td>\n",
       "      <td>0.018432</td>\n",
       "      <td>0.964897</td>\n",
       "      <td>0.822294</td>\n",
       "      <td>0.215436</td>\n",
       "      <td>0.085814</td>\n",
       "      <td>0.596353</td>\n",
       "      <td>-0.657546</td>\n",
       "      <td>-0.696178</td>\n",
       "      <td>0.833259</td>\n",
       "    </tr>\n",
       "    <tr>\n",
       "      <th>1288</th>\n",
       "      <td>-0.769715</td>\n",
       "      <td>-0.387498</td>\n",
       "      <td>-0.400231</td>\n",
       "      <td>0.528499</td>\n",
       "      <td>0.024473</td>\n",
       "      <td>-0.038274</td>\n",
       "      <td>0.778287</td>\n",
       "      <td>0.242336</td>\n",
       "      <td>0.023429</td>\n",
       "      <td>-0.999975</td>\n",
       "      <td>...</td>\n",
       "      <td>0.474402</td>\n",
       "      <td>0.449035</td>\n",
       "      <td>0.629827</td>\n",
       "      <td>0.838736</td>\n",
       "      <td>0.366824</td>\n",
       "      <td>0.439793</td>\n",
       "      <td>0.547664</td>\n",
       "      <td>-0.185089</td>\n",
       "      <td>-0.628590</td>\n",
       "      <td>0.849099</td>\n",
       "    </tr>\n",
       "    <tr>\n",
       "      <th>1289</th>\n",
       "      <td>-0.842084</td>\n",
       "      <td>-0.506960</td>\n",
       "      <td>-0.776338</td>\n",
       "      <td>0.569831</td>\n",
       "      <td>0.812758</td>\n",
       "      <td>-0.264171</td>\n",
       "      <td>0.741392</td>\n",
       "      <td>0.224204</td>\n",
       "      <td>-0.433591</td>\n",
       "      <td>-0.999887</td>\n",
       "      <td>...</td>\n",
       "      <td>0.499662</td>\n",
       "      <td>0.178493</td>\n",
       "      <td>0.961791</td>\n",
       "      <td>0.837311</td>\n",
       "      <td>-0.511243</td>\n",
       "      <td>0.530672</td>\n",
       "      <td>0.457173</td>\n",
       "      <td>-0.852609</td>\n",
       "      <td>-0.686966</td>\n",
       "      <td>0.922572</td>\n",
       "    </tr>\n",
       "  </tbody>\n",
       "</table>\n",
       "<p>1290 rows × 768 columns</p>\n",
       "</div>"
      ],
      "text/plain": [
       "           0         1         2         3         4         5         6    \\\n",
       "0    -0.757310 -0.425054 -0.735051  0.616823  0.434431 -0.207697  0.722834   \n",
       "1    -0.765178 -0.421361 -0.757982  0.579527  0.410910 -0.123458  0.692512   \n",
       "2    -0.811736 -0.531464 -0.973711  0.790537  0.854787 -0.311390  0.719173   \n",
       "3    -0.849474 -0.470662 -0.795166  0.656917  0.476046 -0.153718  0.822621   \n",
       "4    -0.827662 -0.556465 -0.925901  0.782784  0.698466 -0.265253  0.797253   \n",
       "...        ...       ...       ...       ...       ...       ...       ...   \n",
       "1285 -0.755280 -0.555400 -0.922314  0.712132  0.652668 -0.296853  0.643542   \n",
       "1286 -0.763205 -0.256878  0.025879  0.329793  0.134540 -0.002173  0.487883   \n",
       "1287 -0.805063 -0.568162 -0.882357  0.726839  0.638819 -0.290169  0.819806   \n",
       "1288 -0.769715 -0.387498 -0.400231  0.528499  0.024473 -0.038274  0.778287   \n",
       "1289 -0.842084 -0.506960 -0.776338  0.569831  0.812758 -0.264171  0.741392   \n",
       "\n",
       "           7         8         9    ...       758       759       760  \\\n",
       "0     0.298271 -0.418425 -0.999970  ...  0.541846  0.139681  0.815318   \n",
       "1     0.310883 -0.479182 -0.999967  ...  0.549559  0.117115  0.866232   \n",
       "2     0.285851 -0.769165 -0.999993  ...  0.598200 -0.503647  0.956874   \n",
       "3     0.245486 -0.578682 -0.999985  ...  0.485121  0.068865  0.848601   \n",
       "4     0.392149 -0.764461 -0.999985  ...  0.515834  0.040695  0.958262   \n",
       "...        ...       ...       ...  ...       ...       ...       ...   \n",
       "1285  0.431018 -0.601828 -0.999972  ...  0.378174 -0.052208  0.930524   \n",
       "1286  0.083764  0.370077 -0.999833  ...  0.510022  0.185481  0.539482   \n",
       "1287  0.381533 -0.688665 -0.999989  ...  0.502742  0.018432  0.964897   \n",
       "1288  0.242336  0.023429 -0.999975  ...  0.474402  0.449035  0.629827   \n",
       "1289  0.224204 -0.433591 -0.999887  ...  0.499662  0.178493  0.961791   \n",
       "\n",
       "           761       762       763       764       765       766       767  \n",
       "0     0.755486 -0.131656  0.087501  0.708868 -0.576475 -0.655075  0.765707  \n",
       "1     0.798901  0.440707  0.365194  0.646461 -0.275720 -0.655623  0.834200  \n",
       "2     0.785168 -0.326721 -0.147038  0.649085 -0.926229 -0.680784  0.726954  \n",
       "3     0.820875  0.061161 -0.005170  0.579785 -0.697040 -0.637968  0.819345  \n",
       "4     0.837710  0.049949  0.083915  0.633500 -0.787124 -0.752586  0.872425  \n",
       "...        ...       ...       ...       ...       ...       ...       ...  \n",
       "1285  0.763092 -0.229372  0.050177  0.523758 -0.843485 -0.679903  0.781227  \n",
       "1286  0.803911  0.372977  0.817105  0.567112  0.151515 -0.515829  0.853345  \n",
       "1287  0.822294  0.215436  0.085814  0.596353 -0.657546 -0.696178  0.833259  \n",
       "1288  0.838736  0.366824  0.439793  0.547664 -0.185089 -0.628590  0.849099  \n",
       "1289  0.837311 -0.511243  0.530672  0.457173 -0.852609 -0.686966  0.922572  \n",
       "\n",
       "[1290 rows x 768 columns]"
      ]
     },
     "execution_count": 125,
     "metadata": {},
     "output_type": "execute_result"
    }
   ],
   "source": [
    "dataX2"
   ]
  },
  {
   "cell_type": "markdown",
   "metadata": {
    "id": "f3A0UASpHP5a"
   },
   "source": [
    "##seleccion de las variable"
   ]
  },
  {
   "cell_type": "code",
   "execution_count": 126,
   "metadata": {
    "id": "_XnfxVPMHP5a"
   },
   "outputs": [],
   "source": [
    "X = dataX2 \n",
    "Y = df['resultado'].copy()"
   ]
  },
  {
   "cell_type": "code",
   "execution_count": 127,
   "metadata": {
    "colab": {
     "base_uri": "https://localhost:8080/"
    },
    "id": "26m2o8bPHP5a",
    "outputId": "6d01a050-d3b4-47eb-c3ae-d6775442e9de"
   },
   "outputs": [
    {
     "data": {
      "text/plain": [
       "RangeIndex(start=0, stop=768, step=1)"
      ]
     },
     "execution_count": 127,
     "metadata": {},
     "output_type": "execute_result"
    }
   ],
   "source": [
    "X.columns"
   ]
  },
  {
   "cell_type": "code",
   "execution_count": 128,
   "metadata": {
    "colab": {
     "base_uri": "https://localhost:8080/"
    },
    "id": "7EQOuYMKHP5a",
    "outputId": "45b3993d-08d8-4c15-dd9e-71a6a1253266"
   },
   "outputs": [
    {
     "name": "stdout",
     "output_type": "stream",
     "text": [
      "<class 'pandas.core.frame.DataFrame'>\n",
      "RangeIndex: 1290 entries, 0 to 1289\n",
      "Columns: 768 entries, 0 to 767\n",
      "dtypes: float32(768)\n",
      "memory usage: 3.8 MB\n"
     ]
    }
   ],
   "source": [
    "X.info()"
   ]
  },
  {
   "cell_type": "code",
   "execution_count": 129,
   "metadata": {
    "colab": {
     "base_uri": "https://localhost:8080/"
    },
    "id": "sUf6lwYHHP5a",
    "outputId": "bf1c94d1-93d1-4418-d418-63c5eade8255"
   },
   "outputs": [
    {
     "data": {
      "text/plain": [
       "0    0\n",
       "1    0\n",
       "2    1\n",
       "3    0\n",
       "4    0\n",
       "Name: resultado, dtype: int64"
      ]
     },
     "execution_count": 129,
     "metadata": {},
     "output_type": "execute_result"
    }
   ],
   "source": [
    "Y.head()"
   ]
  },
  {
   "cell_type": "markdown",
   "metadata": {
    "id": "rhV9gc4lHP5b"
   },
   "source": [
    "## Balanceo de datos"
   ]
  },
  {
   "cell_type": "markdown",
   "metadata": {
    "id": "Jc2kcM5HHP5b"
   },
   "source": [
    "## Aplicando Smote"
   ]
  },
  {
   "cell_type": "code",
   "execution_count": 130,
   "metadata": {
    "colab": {
     "base_uri": "https://localhost:8080/"
    },
    "id": "y5a8EyerHP5b",
    "outputId": "bcd760b5-417a-420d-ed65-cee151fabaeb"
   },
   "outputs": [
    {
     "data": {
      "text/plain": [
       "Counter({0: 668, 1: 668})"
      ]
     },
     "execution_count": 130,
     "metadata": {},
     "output_type": "execute_result"
    }
   ],
   "source": [
    "from imblearn.over_sampling import SMOTE #over sobre nivelar hacia arriba under nivelacion hacia el menor dato\n",
    "#from imblearn.under_sampling import SMOTE \n",
    "\n",
    "smote = SMOTE(random_state = 325, n_jobs=-1)\n",
    "X_smote, Y_smote = smote.fit_resample(X, Y)# hace Balance de los datos a partir de los agreglos\n",
    "\n",
    "from collections import Counter\n",
    "\n",
    "Counter(Y_smote)"
   ]
  },
  {
   "cell_type": "markdown",
   "metadata": {
    "id": "NCgK-r9FHP5b"
   },
   "source": [
    "## Train y test"
   ]
  },
  {
   "cell_type": "code",
   "execution_count": 131,
   "metadata": {
    "id": "0s5NPPaqHP5b"
   },
   "outputs": [],
   "source": [
    "from sklearn.model_selection import train_test_split\n",
    "X_train_smote, X_test_smote, Y_train_smote, Y_test_smote = train_test_split(X_smote, Y_smote, random_state=325,test_size = 0.3)\n",
    "        \n",
    "X_train, X_test, Y_train, Y_test = train_test_split(X, Y, random_state=325,test_size = 0.3)        "
   ]
  },
  {
   "cell_type": "markdown",
   "metadata": {
    "id": "9IaWLvknHP5b"
   },
   "source": [
    "## SVM\n"
   ]
  },
  {
   "cell_type": "markdown",
   "metadata": {
    "id": "ywkDLhPhHP5b"
   },
   "source": [
    "###SVC "
   ]
  },
  {
   "cell_type": "markdown",
   "metadata": {
    "id": "jTeILQHQHP5b"
   },
   "source": [
    "#### Caso 1"
   ]
  },
  {
   "cell_type": "code",
   "execution_count": 132,
   "metadata": {
    "colab": {
     "base_uri": "https://localhost:8080/",
     "height": 235
    },
    "id": "BHt3KfJpHP5b",
    "outputId": "307a82ae-7f9a-480e-e860-5f7d3e8f704e"
   },
   "outputs": [],
   "source": [
    "parametros = {'C'      : np.arange(1, 5, 1),\n",
    "            'gamma'  : np.arange(1, 5, 1),\n",
    "           'kernel' : ['rbf', 'linear','sigmoid']}\n",
    "\n",
    "from sklearn.svm import SVC\n",
    "from sklearn.model_selection import GridSearchCV\n",
    "\n",
    "clf = SVC(class_weight='balanced', random_state=325)  \n",
    "grid_search = GridSearchCV(clf, parametros, n_jobs=-1, cv=5) "
   ]
  },
  {
   "cell_type": "code",
   "execution_count": 133,
   "metadata": {
    "colab": {
     "base_uri": "https://localhost:8080/"
    },
    "id": "ux-6YEEqHP5b",
    "outputId": "032cb212-6354-42cf-f6da-052107dd42cd"
   },
   "outputs": [
    {
     "data": {
      "text/html": [
       "<style>#sk-container-id-9 {color: black;background-color: white;}#sk-container-id-9 pre{padding: 0;}#sk-container-id-9 div.sk-toggleable {background-color: white;}#sk-container-id-9 label.sk-toggleable__label {cursor: pointer;display: block;width: 100%;margin-bottom: 0;padding: 0.3em;box-sizing: border-box;text-align: center;}#sk-container-id-9 label.sk-toggleable__label-arrow:before {content: \"▸\";float: left;margin-right: 0.25em;color: #696969;}#sk-container-id-9 label.sk-toggleable__label-arrow:hover:before {color: black;}#sk-container-id-9 div.sk-estimator:hover label.sk-toggleable__label-arrow:before {color: black;}#sk-container-id-9 div.sk-toggleable__content {max-height: 0;max-width: 0;overflow: hidden;text-align: left;background-color: #f0f8ff;}#sk-container-id-9 div.sk-toggleable__content pre {margin: 0.2em;color: black;border-radius: 0.25em;background-color: #f0f8ff;}#sk-container-id-9 input.sk-toggleable__control:checked~div.sk-toggleable__content {max-height: 200px;max-width: 100%;overflow: auto;}#sk-container-id-9 input.sk-toggleable__control:checked~label.sk-toggleable__label-arrow:before {content: \"▾\";}#sk-container-id-9 div.sk-estimator input.sk-toggleable__control:checked~label.sk-toggleable__label {background-color: #d4ebff;}#sk-container-id-9 div.sk-label input.sk-toggleable__control:checked~label.sk-toggleable__label {background-color: #d4ebff;}#sk-container-id-9 input.sk-hidden--visually {border: 0;clip: rect(1px 1px 1px 1px);clip: rect(1px, 1px, 1px, 1px);height: 1px;margin: -1px;overflow: hidden;padding: 0;position: absolute;width: 1px;}#sk-container-id-9 div.sk-estimator {font-family: monospace;background-color: #f0f8ff;border: 1px dotted black;border-radius: 0.25em;box-sizing: border-box;margin-bottom: 0.5em;}#sk-container-id-9 div.sk-estimator:hover {background-color: #d4ebff;}#sk-container-id-9 div.sk-parallel-item::after {content: \"\";width: 100%;border-bottom: 1px solid gray;flex-grow: 1;}#sk-container-id-9 div.sk-label:hover label.sk-toggleable__label {background-color: #d4ebff;}#sk-container-id-9 div.sk-serial::before {content: \"\";position: absolute;border-left: 1px solid gray;box-sizing: border-box;top: 0;bottom: 0;left: 50%;z-index: 0;}#sk-container-id-9 div.sk-serial {display: flex;flex-direction: column;align-items: center;background-color: white;padding-right: 0.2em;padding-left: 0.2em;position: relative;}#sk-container-id-9 div.sk-item {position: relative;z-index: 1;}#sk-container-id-9 div.sk-parallel {display: flex;align-items: stretch;justify-content: center;background-color: white;position: relative;}#sk-container-id-9 div.sk-item::before, #sk-container-id-9 div.sk-parallel-item::before {content: \"\";position: absolute;border-left: 1px solid gray;box-sizing: border-box;top: 0;bottom: 0;left: 50%;z-index: -1;}#sk-container-id-9 div.sk-parallel-item {display: flex;flex-direction: column;z-index: 1;position: relative;background-color: white;}#sk-container-id-9 div.sk-parallel-item:first-child::after {align-self: flex-end;width: 50%;}#sk-container-id-9 div.sk-parallel-item:last-child::after {align-self: flex-start;width: 50%;}#sk-container-id-9 div.sk-parallel-item:only-child::after {width: 0;}#sk-container-id-9 div.sk-dashed-wrapped {border: 1px dashed gray;margin: 0 0.4em 0.5em 0.4em;box-sizing: border-box;padding-bottom: 0.4em;background-color: white;}#sk-container-id-9 div.sk-label label {font-family: monospace;font-weight: bold;display: inline-block;line-height: 1.2em;}#sk-container-id-9 div.sk-label-container {text-align: center;}#sk-container-id-9 div.sk-container {/* jupyter's `normalize.less` sets `[hidden] { display: none; }` but bootstrap.min.css set `[hidden] { display: none !important; }` so we also need the `!important` here to be able to override the default hidden behavior on the sphinx rendered scikit-learn.org. See: https://github.com/scikit-learn/scikit-learn/issues/21755 */display: inline-block !important;position: relative;}#sk-container-id-9 div.sk-text-repr-fallback {display: none;}</style><div id=\"sk-container-id-9\" class=\"sk-top-container\"><div class=\"sk-text-repr-fallback\"><pre>GridSearchCV(cv=5, estimator=SVC(class_weight=&#x27;balanced&#x27;, random_state=325),\n",
       "             n_jobs=-1,\n",
       "             param_grid={&#x27;C&#x27;: array([1, 2, 3, 4]), &#x27;gamma&#x27;: array([1, 2, 3, 4]),\n",
       "                         &#x27;kernel&#x27;: [&#x27;rbf&#x27;, &#x27;linear&#x27;, &#x27;sigmoid&#x27;]})</pre><b>In a Jupyter environment, please rerun this cell to show the HTML representation or trust the notebook. <br />On GitHub, the HTML representation is unable to render, please try loading this page with nbviewer.org.</b></div><div class=\"sk-container\" hidden><div class=\"sk-item sk-dashed-wrapped\"><div class=\"sk-label-container\"><div class=\"sk-label sk-toggleable\"><input class=\"sk-toggleable__control sk-hidden--visually\" id=\"sk-estimator-id-25\" type=\"checkbox\" ><label for=\"sk-estimator-id-25\" class=\"sk-toggleable__label sk-toggleable__label-arrow\">GridSearchCV</label><div class=\"sk-toggleable__content\"><pre>GridSearchCV(cv=5, estimator=SVC(class_weight=&#x27;balanced&#x27;, random_state=325),\n",
       "             n_jobs=-1,\n",
       "             param_grid={&#x27;C&#x27;: array([1, 2, 3, 4]), &#x27;gamma&#x27;: array([1, 2, 3, 4]),\n",
       "                         &#x27;kernel&#x27;: [&#x27;rbf&#x27;, &#x27;linear&#x27;, &#x27;sigmoid&#x27;]})</pre></div></div></div><div class=\"sk-parallel\"><div class=\"sk-parallel-item\"><div class=\"sk-item\"><div class=\"sk-label-container\"><div class=\"sk-label sk-toggleable\"><input class=\"sk-toggleable__control sk-hidden--visually\" id=\"sk-estimator-id-26\" type=\"checkbox\" ><label for=\"sk-estimator-id-26\" class=\"sk-toggleable__label sk-toggleable__label-arrow\">estimator: SVC</label><div class=\"sk-toggleable__content\"><pre>SVC(class_weight=&#x27;balanced&#x27;, random_state=325)</pre></div></div></div><div class=\"sk-serial\"><div class=\"sk-item\"><div class=\"sk-estimator sk-toggleable\"><input class=\"sk-toggleable__control sk-hidden--visually\" id=\"sk-estimator-id-27\" type=\"checkbox\" ><label for=\"sk-estimator-id-27\" class=\"sk-toggleable__label sk-toggleable__label-arrow\">SVC</label><div class=\"sk-toggleable__content\"><pre>SVC(class_weight=&#x27;balanced&#x27;, random_state=325)</pre></div></div></div></div></div></div></div></div></div></div>"
      ],
      "text/plain": [
       "GridSearchCV(cv=5, estimator=SVC(class_weight='balanced', random_state=325),\n",
       "             n_jobs=-1,\n",
       "             param_grid={'C': array([1, 2, 3, 4]), 'gamma': array([1, 2, 3, 4]),\n",
       "                         'kernel': ['rbf', 'linear', 'sigmoid']})"
      ]
     },
     "execution_count": 133,
     "metadata": {},
     "output_type": "execute_result"
    }
   ],
   "source": [
    "grid_search.fit(X_train_smote, Y_train_smote)"
   ]
  },
  {
   "cell_type": "code",
   "execution_count": 134,
   "metadata": {
    "colab": {
     "base_uri": "https://localhost:8080/"
    },
    "id": "sThIwN_IHP5b",
    "outputId": "58133986-019f-4597-a75c-8cb803050458"
   },
   "outputs": [
    {
     "name": "stdout",
     "output_type": "stream",
     "text": [
      "El mejor modelo:\n",
      " {'C': 4, 'gamma': 1, 'kernel': 'linear'}\n"
     ]
    }
   ],
   "source": [
    "print('El mejor modelo:\\n', grid_search.best_params_)"
   ]
  },
  {
   "cell_type": "code",
   "execution_count": 135,
   "metadata": {
    "id": "qnQ7aJBvHP5b"
   },
   "outputs": [],
   "source": [
    "clf_best = grid_search.best_estimator_\n",
    "pred = clf_best.predict(X_test_smote)"
   ]
  },
  {
   "cell_type": "code",
   "execution_count": 136,
   "metadata": {
    "colab": {
     "base_uri": "https://localhost:8080/"
    },
    "id": "0Pli3_QcHP5c",
    "outputId": "4e9a830f-29e5-4941-acd0-89ec9b198156"
   },
   "outputs": [
    {
     "name": "stdout",
     "output_type": "stream",
     "text": [
      "              precision    recall  f1-score   support\n",
      "\n",
      "           0       0.95      0.96      0.96       212\n",
      "           1       0.95      0.95      0.95       189\n",
      "\n",
      "    accuracy                           0.95       401\n",
      "   macro avg       0.95      0.95      0.95       401\n",
      "weighted avg       0.95      0.95      0.95       401\n",
      "\n"
     ]
    }
   ],
   "source": [
    "from sklearn.metrics import classification_report\n",
    "print(classification_report(Y_test_smote, pred))"
   ]
  },
  {
   "cell_type": "code",
   "execution_count": 137,
   "metadata": {
    "colab": {
     "base_uri": "https://localhost:8080/",
     "height": 347
    },
    "id": "I4P4mPe9HP5c",
    "outputId": "8538868c-bcc8-4f65-dc7d-8de868a9f9e5"
   },
   "outputs": [
    {
     "name": "stdout",
     "output_type": "stream",
     "text": [
      "Matriz de Confusión\n",
      "[[203   9]\n",
      " [ 10 179]]\n"
     ]
    },
    {
     "data": {
      "image/png": "[encoded data removed]",
      "text/plain": [
       "<Figure size 432x288 with 2 Axes>"
      ]
     },
     "metadata": {
      "needs_background": "light"
     },
     "output_type": "display_data"
    }
   ],
   "source": [
    "from sklearn.metrics import ConfusionMatrixDisplay\n",
    "\n",
    "\n",
    "disp = ConfusionMatrixDisplay.from_estimator(\n",
    "       clf_best,\n",
    "       X_test_smote,\n",
    "       Y_test_smote,\n",
    "       display_labels=None,\n",
    "       cmap=plt.cm.Blues,\n",
    "       normalize=None)\n",
    "\n",
    "disp.ax_.set_title('Matriz de Confusión')\n",
    "disp.ax_.set_xlabel('Predicción');\n",
    "disp.ax_.set_ylabel('Realidad'); \n",
    "disp.ax_.xaxis.set_ticklabels(['0', '1']); \n",
    "disp.ax_.yaxis.set_ticklabels(['0', '1']);\n",
    "\n",
    "print('Matriz de Confusión')\n",
    "print(disp.confusion_matrix)\n",
    "\n",
    "plt.show()"
   ]
  },
  {
   "cell_type": "markdown",
   "metadata": {
    "id": "FvKcntADHP5c"
   },
   "source": [
    "### Nusvm"
   ]
  },
  {
   "cell_type": "markdown",
   "metadata": {
    "id": "MnXjlidHHP5c"
   },
   "source": [
    "### Caso 1"
   ]
  },
  {
   "cell_type": "code",
   "execution_count": 138,
   "metadata": {
    "id": "usRSgFjcHP5c"
   },
   "outputs": [],
   "source": [
    "parametros = {'nu'      : np.arange(0, 1, 0.1),\n",
    "            'gamma'  : ['scale','auto'],\n",
    "           'kernel' : ['rbf', 'linear','sigmoid']}\n",
    "\n",
    "from sklearn.svm import NuSVC\n",
    "from sklearn.model_selection import GridSearchCV\n",
    "\n",
    "clf = NuSVC(class_weight='balanced', random_state=325)  \n",
    "grid_search = GridSearchCV(clf, parametros, n_jobs=-1, cv=5) "
   ]
  },
  {
   "cell_type": "code",
   "execution_count": 139,
   "metadata": {
    "colab": {
     "base_uri": "https://localhost:8080/"
    },
    "id": "n5PIwtQUHP5c",
    "outputId": "af45cf71-d2fa-418c-a8e4-078761177798"
   },
   "outputs": [
    {
     "data": {
      "text/html": [
       "<style>#sk-container-id-10 {color: black;background-color: white;}#sk-container-id-10 pre{padding: 0;}#sk-container-id-10 div.sk-toggleable {background-color: white;}#sk-container-id-10 label.sk-toggleable__label {cursor: pointer;display: block;width: 100%;margin-bottom: 0;padding: 0.3em;box-sizing: border-box;text-align: center;}#sk-container-id-10 label.sk-toggleable__label-arrow:before {content: \"▸\";float: left;margin-right: 0.25em;color: #696969;}#sk-container-id-10 label.sk-toggleable__label-arrow:hover:before {color: black;}#sk-container-id-10 div.sk-estimator:hover label.sk-toggleable__label-arrow:before {color: black;}#sk-container-id-10 div.sk-toggleable__content {max-height: 0;max-width: 0;overflow: hidden;text-align: left;background-color: #f0f8ff;}#sk-container-id-10 div.sk-toggleable__content pre {margin: 0.2em;color: black;border-radius: 0.25em;background-color: #f0f8ff;}#sk-container-id-10 input.sk-toggleable__control:checked~div.sk-toggleable__content {max-height: 200px;max-width: 100%;overflow: auto;}#sk-container-id-10 input.sk-toggleable__control:checked~label.sk-toggleable__label-arrow:before {content: \"▾\";}#sk-container-id-10 div.sk-estimator input.sk-toggleable__control:checked~label.sk-toggleable__label {background-color: #d4ebff;}#sk-container-id-10 div.sk-label input.sk-toggleable__control:checked~label.sk-toggleable__label {background-color: #d4ebff;}#sk-container-id-10 input.sk-hidden--visually {border: 0;clip: rect(1px 1px 1px 1px);clip: rect(1px, 1px, 1px, 1px);height: 1px;margin: -1px;overflow: hidden;padding: 0;position: absolute;width: 1px;}#sk-container-id-10 div.sk-estimator {font-family: monospace;background-color: #f0f8ff;border: 1px dotted black;border-radius: 0.25em;box-sizing: border-box;margin-bottom: 0.5em;}#sk-container-id-10 div.sk-estimator:hover {background-color: #d4ebff;}#sk-container-id-10 div.sk-parallel-item::after {content: \"\";width: 100%;border-bottom: 1px solid gray;flex-grow: 1;}#sk-container-id-10 div.sk-label:hover label.sk-toggleable__label {background-color: #d4ebff;}#sk-container-id-10 div.sk-serial::before {content: \"\";position: absolute;border-left: 1px solid gray;box-sizing: border-box;top: 0;bottom: 0;left: 50%;z-index: 0;}#sk-container-id-10 div.sk-serial {display: flex;flex-direction: column;align-items: center;background-color: white;padding-right: 0.2em;padding-left: 0.2em;position: relative;}#sk-container-id-10 div.sk-item {position: relative;z-index: 1;}#sk-container-id-10 div.sk-parallel {display: flex;align-items: stretch;justify-content: center;background-color: white;position: relative;}#sk-container-id-10 div.sk-item::before, #sk-container-id-10 div.sk-parallel-item::before {content: \"\";position: absolute;border-left: 1px solid gray;box-sizing: border-box;top: 0;bottom: 0;left: 50%;z-index: -1;}#sk-container-id-10 div.sk-parallel-item {display: flex;flex-direction: column;z-index: 1;position: relative;background-color: white;}#sk-container-id-10 div.sk-parallel-item:first-child::after {align-self: flex-end;width: 50%;}#sk-container-id-10 div.sk-parallel-item:last-child::after {align-self: flex-start;width: 50%;}#sk-container-id-10 div.sk-parallel-item:only-child::after {width: 0;}#sk-container-id-10 div.sk-dashed-wrapped {border: 1px dashed gray;margin: 0 0.4em 0.5em 0.4em;box-sizing: border-box;padding-bottom: 0.4em;background-color: white;}#sk-container-id-10 div.sk-label label {font-family: monospace;font-weight: bold;display: inline-block;line-height: 1.2em;}#sk-container-id-10 div.sk-label-container {text-align: center;}#sk-container-id-10 div.sk-container {/* jupyter's `normalize.less` sets `[hidden] { display: none; }` but bootstrap.min.css set `[hidden] { display: none !important; }` so we also need the `!important` here to be able to override the default hidden behavior on the sphinx rendered scikit-learn.org. See: https://github.com/scikit-learn/scikit-learn/issues/21755 */display: inline-block !important;position: relative;}#sk-container-id-10 div.sk-text-repr-fallback {display: none;}</style><div id=\"sk-container-id-10\" class=\"sk-top-container\"><div class=\"sk-text-repr-fallback\"><pre>GridSearchCV(cv=5, estimator=NuSVC(class_weight=&#x27;balanced&#x27;, random_state=325),\n",
       "             n_jobs=-1,\n",
       "             param_grid={&#x27;gamma&#x27;: [&#x27;scale&#x27;, &#x27;auto&#x27;],\n",
       "                         &#x27;kernel&#x27;: [&#x27;rbf&#x27;, &#x27;linear&#x27;, &#x27;sigmoid&#x27;],\n",
       "                         &#x27;nu&#x27;: array([0. , 0.1, 0.2, 0.3, 0.4, 0.5, 0.6, 0.7, 0.8, 0.9])})</pre><b>In a Jupyter environment, please rerun this cell to show the HTML representation or trust the notebook. <br />On GitHub, the HTML representation is unable to render, please try loading this page with nbviewer.org.</b></div><div class=\"sk-container\" hidden><div class=\"sk-item sk-dashed-wrapped\"><div class=\"sk-label-container\"><div class=\"sk-label sk-toggleable\"><input class=\"sk-toggleable__control sk-hidden--visually\" id=\"sk-estimator-id-28\" type=\"checkbox\" ><label for=\"sk-estimator-id-28\" class=\"sk-toggleable__label sk-toggleable__label-arrow\">GridSearchCV</label><div class=\"sk-toggleable__content\"><pre>GridSearchCV(cv=5, estimator=NuSVC(class_weight=&#x27;balanced&#x27;, random_state=325),\n",
       "             n_jobs=-1,\n",
       "             param_grid={&#x27;gamma&#x27;: [&#x27;scale&#x27;, &#x27;auto&#x27;],\n",
       "                         &#x27;kernel&#x27;: [&#x27;rbf&#x27;, &#x27;linear&#x27;, &#x27;sigmoid&#x27;],\n",
       "                         &#x27;nu&#x27;: array([0. , 0.1, 0.2, 0.3, 0.4, 0.5, 0.6, 0.7, 0.8, 0.9])})</pre></div></div></div><div class=\"sk-parallel\"><div class=\"sk-parallel-item\"><div class=\"sk-item\"><div class=\"sk-label-container\"><div class=\"sk-label sk-toggleable\"><input class=\"sk-toggleable__control sk-hidden--visually\" id=\"sk-estimator-id-29\" type=\"checkbox\" ><label for=\"sk-estimator-id-29\" class=\"sk-toggleable__label sk-toggleable__label-arrow\">estimator: NuSVC</label><div class=\"sk-toggleable__content\"><pre>NuSVC(class_weight=&#x27;balanced&#x27;, random_state=325)</pre></div></div></div><div class=\"sk-serial\"><div class=\"sk-item\"><div class=\"sk-estimator sk-toggleable\"><input class=\"sk-toggleable__control sk-hidden--visually\" id=\"sk-estimator-id-30\" type=\"checkbox\" ><label for=\"sk-estimator-id-30\" class=\"sk-toggleable__label sk-toggleable__label-arrow\">NuSVC</label><div class=\"sk-toggleable__content\"><pre>NuSVC(class_weight=&#x27;balanced&#x27;, random_state=325)</pre></div></div></div></div></div></div></div></div></div></div>"
      ],
      "text/plain": [
       "GridSearchCV(cv=5, estimator=NuSVC(class_weight='balanced', random_state=325),\n",
       "             n_jobs=-1,\n",
       "             param_grid={'gamma': ['scale', 'auto'],\n",
       "                         'kernel': ['rbf', 'linear', 'sigmoid'],\n",
       "                         'nu': array([0. , 0.1, 0.2, 0.3, 0.4, 0.5, 0.6, 0.7, 0.8, 0.9])})"
      ]
     },
     "execution_count": 139,
     "metadata": {},
     "output_type": "execute_result"
    }
   ],
   "source": [
    "grid_search.fit(X_train_smote, Y_train_smote)"
   ]
  },
  {
   "cell_type": "code",
   "execution_count": 140,
   "metadata": {
    "colab": {
     "base_uri": "https://localhost:8080/"
    },
    "id": "rcWSw2HsHP5c",
    "outputId": "a0938979-7150-466f-c103-a281a6fd873b"
   },
   "outputs": [
    {
     "name": "stdout",
     "output_type": "stream",
     "text": [
      "El mejor modelo:\n",
      " {'gamma': 'scale', 'kernel': 'rbf', 'nu': 0.1}\n"
     ]
    }
   ],
   "source": [
    "print('El mejor modelo:\\n', grid_search.best_params_)"
   ]
  },
  {
   "cell_type": "code",
   "execution_count": 141,
   "metadata": {
    "id": "--6mnz2RHP5c"
   },
   "outputs": [],
   "source": [
    "clf_best = grid_search.best_estimator_\n",
    "pred = clf_best.predict(X_test_smote)"
   ]
  },
  {
   "cell_type": "code",
   "execution_count": 142,
   "metadata": {
    "colab": {
     "base_uri": "https://localhost:8080/"
    },
    "id": "lFXCjiGxHP5c",
    "outputId": "0d2f671b-9d91-4e94-fd22-75f8f1dfc54b"
   },
   "outputs": [
    {
     "name": "stdout",
     "output_type": "stream",
     "text": [
      "              precision    recall  f1-score   support\n",
      "\n",
      "           0       0.97      0.95      0.96       212\n",
      "           1       0.95      0.96      0.96       189\n",
      "\n",
      "    accuracy                           0.96       401\n",
      "   macro avg       0.96      0.96      0.96       401\n",
      "weighted avg       0.96      0.96      0.96       401\n",
      "\n"
     ]
    }
   ],
   "source": [
    "from sklearn.metrics import classification_report\n",
    "\n",
    "print(classification_report(Y_test_smote, pred))"
   ]
  },
  {
   "cell_type": "code",
   "execution_count": 143,
   "metadata": {
    "colab": {
     "base_uri": "https://localhost:8080/",
     "height": 347
    },
    "id": "rJegarQGHP5c",
    "outputId": "4e0fff11-38d8-495c-f201-59b46c2ed91a"
   },
   "outputs": [
    {
     "name": "stdout",
     "output_type": "stream",
     "text": [
      "Matriz de Confusión\n",
      "[[202  10]\n",
      " [  7 182]]\n"
     ]
    },
    {
     "data": {
      "image/png": "[encoded data removed]",
      "text/plain": [
       "<Figure size 432x288 with 2 Axes>"
      ]
     },
     "metadata": {
      "needs_background": "light"
     },
     "output_type": "display_data"
    }
   ],
   "source": [
    "from sklearn.metrics import ConfusionMatrixDisplay\n",
    "\n",
    "\n",
    "disp = ConfusionMatrixDisplay.from_estimator(\n",
    "       clf_best,\n",
    "       X_test_smote,\n",
    "       Y_test_smote,\n",
    "       display_labels=None,\n",
    "       cmap=plt.cm.Blues,\n",
    "       normalize=None)\n",
    "\n",
    "disp.ax_.set_title('Matriz de Confusión')\n",
    "disp.ax_.set_xlabel('Predicción');\n",
    "disp.ax_.set_ylabel('Realidad'); \n",
    "disp.ax_.xaxis.set_ticklabels(['0', '1']); \n",
    "disp.ax_.yaxis.set_ticklabels(['0', '1']);\n",
    "\n",
    "print('Matriz de Confusión')\n",
    "print(disp.confusion_matrix)\n",
    "\n",
    "plt.show()"
   ]
  },
  {
   "cell_type": "markdown",
   "metadata": {
    "id": "ofYXxEJ2HP5d"
   },
   "source": [
    "##SECCION CON DATOS SIN PREPROCESAR"
   ]
  },
  {
   "cell_type": "markdown",
   "metadata": {
    "id": "KGy_OPAeHP5d"
   },
   "source": [
    "## transformar texto(Embeding) Sin preprocesamiento de texto"
   ]
  },
  {
   "cell_type": "code",
   "execution_count": 144,
   "metadata": {
    "colab": {
     "base_uri": "https://localhost:8080/",
     "height": 424
    },
    "id": "chFGvkNdHP5d",
    "outputId": "ca9c6d90-aad5-4063-d8b8-6a4b18c7e790"
   },
   "outputs": [
    {
     "data": {
      "text/html": [
       "<div>\n",
       "<style scoped>\n",
       "    .dataframe tbody tr th:only-of-type {\n",
       "        vertical-align: middle;\n",
       "    }\n",
       "\n",
       "    .dataframe tbody tr th {\n",
       "        vertical-align: top;\n",
       "    }\n",
       "\n",
       "    .dataframe thead th {\n",
       "        text-align: right;\n",
       "    }\n",
       "</style>\n",
       "<table border=\"1\" class=\"dataframe\">\n",
       "  <thead>\n",
       "    <tr style=\"text-align: right;\">\n",
       "      <th></th>\n",
       "      <th>resultado</th>\n",
       "      <th>mensaje</th>\n",
       "    </tr>\n",
       "  </thead>\n",
       "  <tbody>\n",
       "    <tr>\n",
       "      <th>0</th>\n",
       "      <td>0</td>\n",
       "      <td>Free entry in 2 a wkly comp to win FA Cup fina...</td>\n",
       "    </tr>\n",
       "    <tr>\n",
       "      <th>1</th>\n",
       "      <td>0</td>\n",
       "      <td>FreeMsg Hey there darling it's been 3 week's n...</td>\n",
       "    </tr>\n",
       "    <tr>\n",
       "      <th>2</th>\n",
       "      <td>1</td>\n",
       "      <td>As per your request 'Melle Melle (Oru Minnamin...</td>\n",
       "    </tr>\n",
       "    <tr>\n",
       "      <th>3</th>\n",
       "      <td>0</td>\n",
       "      <td>WINNER!! As a valued network customer you have...</td>\n",
       "    </tr>\n",
       "    <tr>\n",
       "      <th>4</th>\n",
       "      <td>0</td>\n",
       "      <td>Had your mobile 11 months or more? U R entitle...</td>\n",
       "    </tr>\n",
       "    <tr>\n",
       "      <th>...</th>\n",
       "      <td>...</td>\n",
       "      <td>...</td>\n",
       "    </tr>\n",
       "    <tr>\n",
       "      <th>1285</th>\n",
       "      <td>0</td>\n",
       "      <td>Had your contract mobile 11 Mnths? Latest Moto...</td>\n",
       "    </tr>\n",
       "    <tr>\n",
       "      <th>1286</th>\n",
       "      <td>1</td>\n",
       "      <td>Yeh. Indians was nice. Tho it did kane me off ...</td>\n",
       "    </tr>\n",
       "    <tr>\n",
       "      <th>1287</th>\n",
       "      <td>0</td>\n",
       "      <td>REMINDER FROM O2: To get 2.50 pounds free call...</td>\n",
       "    </tr>\n",
       "    <tr>\n",
       "      <th>1288</th>\n",
       "      <td>0</td>\n",
       "      <td>This is the 2nd time we have tried 2 contact u...</td>\n",
       "    </tr>\n",
       "    <tr>\n",
       "      <th>1289</th>\n",
       "      <td>1</td>\n",
       "      <td>The guy did some bitching but I acted like i'd...</td>\n",
       "    </tr>\n",
       "  </tbody>\n",
       "</table>\n",
       "<p>1290 rows × 2 columns</p>\n",
       "</div>"
      ],
      "text/plain": [
       "      resultado                                            mensaje\n",
       "0             0  Free entry in 2 a wkly comp to win FA Cup fina...\n",
       "1             0  FreeMsg Hey there darling it's been 3 week's n...\n",
       "2             1  As per your request 'Melle Melle (Oru Minnamin...\n",
       "3             0  WINNER!! As a valued network customer you have...\n",
       "4             0  Had your mobile 11 months or more? U R entitle...\n",
       "...         ...                                                ...\n",
       "1285          0  Had your contract mobile 11 Mnths? Latest Moto...\n",
       "1286          1  Yeh. Indians was nice. Tho it did kane me off ...\n",
       "1287          0  REMINDER FROM O2: To get 2.50 pounds free call...\n",
       "1288          0  This is the 2nd time we have tried 2 contact u...\n",
       "1289          1  The guy did some bitching but I acted like i'd...\n",
       "\n",
       "[1290 rows x 2 columns]"
      ]
     },
     "execution_count": 144,
     "metadata": {},
     "output_type": "execute_result"
    }
   ],
   "source": [
    "df"
   ]
  },
  {
   "cell_type": "code",
   "execution_count": 145,
   "metadata": {
    "id": "nJiAbAQbHP5d"
   },
   "outputs": [],
   "source": [
    "# 4to paso: Vamos a crear dos variables que cargaran en memoria dos funciones para transformar el texto\n",
    "##\n",
    "##   - preprocessor: \"objeto\" que se encargará de transformar el texto en el formato que necesita el modelo BERT para funcionar\n",
    "##   - encoder: \"objeto\" que será el modelo BERT y se alimentará del resultado de preprocessor, retornando el texto transformado en un vector numérico.\n",
    "\n",
    "preprocessor = hub.load(\"https://tfhub.dev/tensorflow/bert_en_uncased_preprocess/3\")\n",
    "encoder = hub.load(\"https://tfhub.dev/tensorflow/bert_en_uncased_L-12_H-768_A-12/4\")"
   ]
  },
  {
   "cell_type": "code",
   "execution_count": 146,
   "metadata": {
    "id": "CqieMlUaHP5d"
   },
   "outputs": [],
   "source": [
    "# 5to paso: Vamos a usar el objeto preprocessor, y guardamos su resultado en la variable embedding\n",
    "##   A modo de ejemplo para su revisión, solo vamos a transformar dos textos:\n",
    "\n",
    "embedding = preprocessor(df['mensaje']) # df['mensaje'] es el texto"
   ]
  },
  {
   "cell_type": "code",
   "execution_count": 147,
   "metadata": {
    "id": "OgfgvWnVHP5d"
   },
   "outputs": [],
   "source": [
    "# 6to paso: Vamos a codificar el texto con el modelo BERT:\n",
    "##   - Fijarse que el objeto encoder recibe como argumento la variable embedding (resultado de preprocessor)\n",
    "##   - Copiar el siguiente código de forma literal\n",
    "\n",
    "pooled_output = encoder(embedding)[\"pooled_output\"]"
   ]
  },
  {
   "cell_type": "code",
   "execution_count": 148,
   "metadata": {
    "colab": {
     "base_uri": "https://localhost:8080/"
    },
    "id": "q_vebiufHP5d",
    "outputId": "f2590e9f-1745-4d7d-fb66-ccc37b1fee4d"
   },
   "outputs": [
    {
     "data": {
      "text/plain": [
       "<tf.Tensor: shape=(1290, 768), dtype=float32, numpy=\n",
       "array([[-0.70380414, -0.50275   , -0.96400726, ..., -0.910996  ,\n",
       "        -0.5792531 ,  0.60989   ],\n",
       "       [-0.72199935, -0.40060842, -0.8154598 , ..., -0.37021047,\n",
       "        -0.6039013 ,  0.8262387 ],\n",
       "       [-0.7603904 , -0.5884671 , -0.98880243, ..., -0.95756686,\n",
       "        -0.7282411 ,  0.70222956],\n",
       "       ...,\n",
       "       [-0.74105465, -0.46842217, -0.7224001 , ..., -0.38898322,\n",
       "        -0.60638297,  0.80440664],\n",
       "       [-0.5536015 , -0.2666968 , -0.75222147, ..., -0.6513219 ,\n",
       "        -0.48442695,  0.6873135 ],\n",
       "       [-0.84208393, -0.5069599 , -0.7763376 , ..., -0.85260934,\n",
       "        -0.6869661 ,  0.92257196]], dtype=float32)>"
      ]
     },
     "execution_count": 148,
     "metadata": {},
     "output_type": "execute_result"
    }
   ],
   "source": [
    "# Opcional: revisamos el contenido de la variable pooled_output, el cual tiene dos vectores de 128 dimensiones\n",
    "##\n",
    "##    - Dos vectores, porque le pasamos solo dos textos\n",
    "##    - 128 dimensiones, porque el modelo BERT utilizado convierte cualquier texto (independiente del largo) en un vector numérico de 128 dimensiones.\n",
    "\n",
    "pooled_output"
   ]
  },
  {
   "cell_type": "code",
   "execution_count": 149,
   "metadata": {
    "id": "mAqY9sngHP5d"
   },
   "outputs": [],
   "source": [
    "# 7mo paso: El contenido de la variable pooled_output es una estructura de datos de tipo tensorflow.\n",
    "#           Para transformarlo a un dataframe y usarlo de forma tradicional con los modelos clásicos, \n",
    "#           ejecutamos la siguiente linea de código:\n",
    "\n",
    "dataX2 = pd.DataFrame(pooled_output.numpy())"
   ]
  },
  {
   "cell_type": "code",
   "execution_count": 150,
   "metadata": {
    "colab": {
     "base_uri": "https://localhost:8080/"
    },
    "id": "yr27v2MQHP5d",
    "outputId": "4cb7745c-7338-4562-e901-d2ae0c765079"
   },
   "outputs": [
    {
     "data": {
      "text/plain": [
       "(1290, 768)"
      ]
     },
     "execution_count": 150,
     "metadata": {},
     "output_type": "execute_result"
    }
   ],
   "source": [
    "# Opcional:  Ahora la variable dataX es un dataframe y podemos revisar su dimensionalidad y visualizarlo:\n",
    "dataX2.shape"
   ]
  },
  {
   "cell_type": "code",
   "execution_count": 151,
   "metadata": {
    "colab": {
     "base_uri": "https://localhost:8080/",
     "height": 424
    },
    "id": "SOnz1Nk4HP5d",
    "outputId": "e4388245-7a3d-43c4-8dc6-b35654a87308"
   },
   "outputs": [
    {
     "data": {
      "text/html": [
       "<div>\n",
       "<style scoped>\n",
       "    .dataframe tbody tr th:only-of-type {\n",
       "        vertical-align: middle;\n",
       "    }\n",
       "\n",
       "    .dataframe tbody tr th {\n",
       "        vertical-align: top;\n",
       "    }\n",
       "\n",
       "    .dataframe thead th {\n",
       "        text-align: right;\n",
       "    }\n",
       "</style>\n",
       "<table border=\"1\" class=\"dataframe\">\n",
       "  <thead>\n",
       "    <tr style=\"text-align: right;\">\n",
       "      <th></th>\n",
       "      <th>0</th>\n",
       "      <th>1</th>\n",
       "      <th>2</th>\n",
       "      <th>3</th>\n",
       "      <th>4</th>\n",
       "      <th>5</th>\n",
       "      <th>6</th>\n",
       "      <th>7</th>\n",
       "      <th>8</th>\n",
       "      <th>9</th>\n",
       "      <th>...</th>\n",
       "      <th>758</th>\n",
       "      <th>759</th>\n",
       "      <th>760</th>\n",
       "      <th>761</th>\n",
       "      <th>762</th>\n",
       "      <th>763</th>\n",
       "      <th>764</th>\n",
       "      <th>765</th>\n",
       "      <th>766</th>\n",
       "      <th>767</th>\n",
       "    </tr>\n",
       "  </thead>\n",
       "  <tbody>\n",
       "    <tr>\n",
       "      <th>0</th>\n",
       "      <td>-0.703804</td>\n",
       "      <td>-0.502750</td>\n",
       "      <td>-0.964007</td>\n",
       "      <td>0.635666</td>\n",
       "      <td>0.814911</td>\n",
       "      <td>-0.210602</td>\n",
       "      <td>0.566293</td>\n",
       "      <td>0.227010</td>\n",
       "      <td>-0.783770</td>\n",
       "      <td>-0.999962</td>\n",
       "      <td>...</td>\n",
       "      <td>0.515952</td>\n",
       "      <td>-0.395139</td>\n",
       "      <td>0.972245</td>\n",
       "      <td>0.691058</td>\n",
       "      <td>-0.378460</td>\n",
       "      <td>-0.258926</td>\n",
       "      <td>0.651631</td>\n",
       "      <td>-0.910996</td>\n",
       "      <td>-0.579253</td>\n",
       "      <td>0.609890</td>\n",
       "    </tr>\n",
       "    <tr>\n",
       "      <th>1</th>\n",
       "      <td>-0.721999</td>\n",
       "      <td>-0.400608</td>\n",
       "      <td>-0.815460</td>\n",
       "      <td>0.564368</td>\n",
       "      <td>0.408997</td>\n",
       "      <td>-0.108388</td>\n",
       "      <td>0.697040</td>\n",
       "      <td>0.274073</td>\n",
       "      <td>-0.490181</td>\n",
       "      <td>-0.999963</td>\n",
       "      <td>...</td>\n",
       "      <td>0.519105</td>\n",
       "      <td>0.300468</td>\n",
       "      <td>0.870646</td>\n",
       "      <td>0.790926</td>\n",
       "      <td>0.483784</td>\n",
       "      <td>0.305214</td>\n",
       "      <td>0.618006</td>\n",
       "      <td>-0.370210</td>\n",
       "      <td>-0.603901</td>\n",
       "      <td>0.826239</td>\n",
       "    </tr>\n",
       "    <tr>\n",
       "      <th>2</th>\n",
       "      <td>-0.760390</td>\n",
       "      <td>-0.588467</td>\n",
       "      <td>-0.988802</td>\n",
       "      <td>0.788419</td>\n",
       "      <td>0.902556</td>\n",
       "      <td>-0.397836</td>\n",
       "      <td>0.613838</td>\n",
       "      <td>0.355444</td>\n",
       "      <td>-0.893838</td>\n",
       "      <td>-0.999994</td>\n",
       "      <td>...</td>\n",
       "      <td>0.694200</td>\n",
       "      <td>-0.653235</td>\n",
       "      <td>0.983411</td>\n",
       "      <td>0.724643</td>\n",
       "      <td>-0.357922</td>\n",
       "      <td>-0.291343</td>\n",
       "      <td>0.750080</td>\n",
       "      <td>-0.957567</td>\n",
       "      <td>-0.728241</td>\n",
       "      <td>0.702230</td>\n",
       "    </tr>\n",
       "    <tr>\n",
       "      <th>3</th>\n",
       "      <td>-0.692767</td>\n",
       "      <td>-0.474694</td>\n",
       "      <td>-0.967749</td>\n",
       "      <td>0.652573</td>\n",
       "      <td>0.817786</td>\n",
       "      <td>-0.136169</td>\n",
       "      <td>0.523782</td>\n",
       "      <td>0.119574</td>\n",
       "      <td>-0.872450</td>\n",
       "      <td>-0.999958</td>\n",
       "      <td>...</td>\n",
       "      <td>0.589285</td>\n",
       "      <td>0.131805</td>\n",
       "      <td>0.974837</td>\n",
       "      <td>0.610474</td>\n",
       "      <td>-0.021977</td>\n",
       "      <td>-0.368047</td>\n",
       "      <td>0.684521</td>\n",
       "      <td>-0.955397</td>\n",
       "      <td>-0.482647</td>\n",
       "      <td>0.688380</td>\n",
       "    </tr>\n",
       "    <tr>\n",
       "      <th>4</th>\n",
       "      <td>-0.748453</td>\n",
       "      <td>-0.537846</td>\n",
       "      <td>-0.881682</td>\n",
       "      <td>0.672674</td>\n",
       "      <td>0.594302</td>\n",
       "      <td>-0.199079</td>\n",
       "      <td>0.641875</td>\n",
       "      <td>0.390914</td>\n",
       "      <td>-0.624959</td>\n",
       "      <td>-0.999971</td>\n",
       "      <td>...</td>\n",
       "      <td>0.478907</td>\n",
       "      <td>0.026840</td>\n",
       "      <td>0.909465</td>\n",
       "      <td>0.767211</td>\n",
       "      <td>0.120146</td>\n",
       "      <td>0.156654</td>\n",
       "      <td>0.577673</td>\n",
       "      <td>-0.711902</td>\n",
       "      <td>-0.710808</td>\n",
       "      <td>0.784341</td>\n",
       "    </tr>\n",
       "    <tr>\n",
       "      <th>...</th>\n",
       "      <td>...</td>\n",
       "      <td>...</td>\n",
       "      <td>...</td>\n",
       "      <td>...</td>\n",
       "      <td>...</td>\n",
       "      <td>...</td>\n",
       "      <td>...</td>\n",
       "      <td>...</td>\n",
       "      <td>...</td>\n",
       "      <td>...</td>\n",
       "      <td>...</td>\n",
       "      <td>...</td>\n",
       "      <td>...</td>\n",
       "      <td>...</td>\n",
       "      <td>...</td>\n",
       "      <td>...</td>\n",
       "      <td>...</td>\n",
       "      <td>...</td>\n",
       "      <td>...</td>\n",
       "      <td>...</td>\n",
       "      <td>...</td>\n",
       "    </tr>\n",
       "    <tr>\n",
       "      <th>1285</th>\n",
       "      <td>-0.686685</td>\n",
       "      <td>-0.416652</td>\n",
       "      <td>-0.897436</td>\n",
       "      <td>0.660913</td>\n",
       "      <td>0.656108</td>\n",
       "      <td>-0.123597</td>\n",
       "      <td>0.497502</td>\n",
       "      <td>0.257550</td>\n",
       "      <td>-0.602215</td>\n",
       "      <td>-0.999903</td>\n",
       "      <td>...</td>\n",
       "      <td>0.431256</td>\n",
       "      <td>0.308306</td>\n",
       "      <td>0.916705</td>\n",
       "      <td>0.675961</td>\n",
       "      <td>-0.067445</td>\n",
       "      <td>0.063498</td>\n",
       "      <td>0.524421</td>\n",
       "      <td>-0.853447</td>\n",
       "      <td>-0.570220</td>\n",
       "      <td>0.737170</td>\n",
       "    </tr>\n",
       "    <tr>\n",
       "      <th>1286</th>\n",
       "      <td>-0.655133</td>\n",
       "      <td>-0.244736</td>\n",
       "      <td>-0.726327</td>\n",
       "      <td>0.361169</td>\n",
       "      <td>0.528822</td>\n",
       "      <td>0.077803</td>\n",
       "      <td>0.317611</td>\n",
       "      <td>0.062812</td>\n",
       "      <td>-0.395109</td>\n",
       "      <td>-0.999873</td>\n",
       "      <td>...</td>\n",
       "      <td>0.655909</td>\n",
       "      <td>-0.329811</td>\n",
       "      <td>0.917422</td>\n",
       "      <td>0.727615</td>\n",
       "      <td>-0.298853</td>\n",
       "      <td>0.554949</td>\n",
       "      <td>0.697899</td>\n",
       "      <td>-0.410967</td>\n",
       "      <td>-0.527422</td>\n",
       "      <td>0.763145</td>\n",
       "    </tr>\n",
       "    <tr>\n",
       "      <th>1287</th>\n",
       "      <td>-0.741055</td>\n",
       "      <td>-0.468422</td>\n",
       "      <td>-0.722400</td>\n",
       "      <td>0.574277</td>\n",
       "      <td>0.445859</td>\n",
       "      <td>-0.140905</td>\n",
       "      <td>0.675038</td>\n",
       "      <td>0.286838</td>\n",
       "      <td>-0.395922</td>\n",
       "      <td>-0.999978</td>\n",
       "      <td>...</td>\n",
       "      <td>0.455880</td>\n",
       "      <td>0.366724</td>\n",
       "      <td>0.888101</td>\n",
       "      <td>0.773686</td>\n",
       "      <td>0.411397</td>\n",
       "      <td>0.319295</td>\n",
       "      <td>0.525459</td>\n",
       "      <td>-0.388983</td>\n",
       "      <td>-0.606383</td>\n",
       "      <td>0.804407</td>\n",
       "    </tr>\n",
       "    <tr>\n",
       "      <th>1288</th>\n",
       "      <td>-0.553602</td>\n",
       "      <td>-0.266697</td>\n",
       "      <td>-0.752221</td>\n",
       "      <td>0.433210</td>\n",
       "      <td>0.325693</td>\n",
       "      <td>0.001156</td>\n",
       "      <td>0.374882</td>\n",
       "      <td>0.042260</td>\n",
       "      <td>-0.264301</td>\n",
       "      <td>-0.999762</td>\n",
       "      <td>...</td>\n",
       "      <td>0.540520</td>\n",
       "      <td>0.577038</td>\n",
       "      <td>0.686959</td>\n",
       "      <td>0.672086</td>\n",
       "      <td>0.346009</td>\n",
       "      <td>0.228041</td>\n",
       "      <td>0.637448</td>\n",
       "      <td>-0.651322</td>\n",
       "      <td>-0.484427</td>\n",
       "      <td>0.687313</td>\n",
       "    </tr>\n",
       "    <tr>\n",
       "      <th>1289</th>\n",
       "      <td>-0.842084</td>\n",
       "      <td>-0.506960</td>\n",
       "      <td>-0.776338</td>\n",
       "      <td>0.569831</td>\n",
       "      <td>0.812758</td>\n",
       "      <td>-0.264171</td>\n",
       "      <td>0.741392</td>\n",
       "      <td>0.224204</td>\n",
       "      <td>-0.433591</td>\n",
       "      <td>-0.999887</td>\n",
       "      <td>...</td>\n",
       "      <td>0.499662</td>\n",
       "      <td>0.178493</td>\n",
       "      <td>0.961791</td>\n",
       "      <td>0.837311</td>\n",
       "      <td>-0.511243</td>\n",
       "      <td>0.530672</td>\n",
       "      <td>0.457173</td>\n",
       "      <td>-0.852609</td>\n",
       "      <td>-0.686966</td>\n",
       "      <td>0.922572</td>\n",
       "    </tr>\n",
       "  </tbody>\n",
       "</table>\n",
       "<p>1290 rows × 768 columns</p>\n",
       "</div>"
      ],
      "text/plain": [
       "           0         1         2         3         4         5         6    \\\n",
       "0    -0.703804 -0.502750 -0.964007  0.635666  0.814911 -0.210602  0.566293   \n",
       "1    -0.721999 -0.400608 -0.815460  0.564368  0.408997 -0.108388  0.697040   \n",
       "2    -0.760390 -0.588467 -0.988802  0.788419  0.902556 -0.397836  0.613838   \n",
       "3    -0.692767 -0.474694 -0.967749  0.652573  0.817786 -0.136169  0.523782   \n",
       "4    -0.748453 -0.537846 -0.881682  0.672674  0.594302 -0.199079  0.641875   \n",
       "...        ...       ...       ...       ...       ...       ...       ...   \n",
       "1285 -0.686685 -0.416652 -0.897436  0.660913  0.656108 -0.123597  0.497502   \n",
       "1286 -0.655133 -0.244736 -0.726327  0.361169  0.528822  0.077803  0.317611   \n",
       "1287 -0.741055 -0.468422 -0.722400  0.574277  0.445859 -0.140905  0.675038   \n",
       "1288 -0.553602 -0.266697 -0.752221  0.433210  0.325693  0.001156  0.374882   \n",
       "1289 -0.842084 -0.506960 -0.776338  0.569831  0.812758 -0.264171  0.741392   \n",
       "\n",
       "           7         8         9    ...       758       759       760  \\\n",
       "0     0.227010 -0.783770 -0.999962  ...  0.515952 -0.395139  0.972245   \n",
       "1     0.274073 -0.490181 -0.999963  ...  0.519105  0.300468  0.870646   \n",
       "2     0.355444 -0.893838 -0.999994  ...  0.694200 -0.653235  0.983411   \n",
       "3     0.119574 -0.872450 -0.999958  ...  0.589285  0.131805  0.974837   \n",
       "4     0.390914 -0.624959 -0.999971  ...  0.478907  0.026840  0.909465   \n",
       "...        ...       ...       ...  ...       ...       ...       ...   \n",
       "1285  0.257550 -0.602215 -0.999903  ...  0.431256  0.308306  0.916705   \n",
       "1286  0.062812 -0.395109 -0.999873  ...  0.655909 -0.329811  0.917422   \n",
       "1287  0.286838 -0.395922 -0.999978  ...  0.455880  0.366724  0.888101   \n",
       "1288  0.042260 -0.264301 -0.999762  ...  0.540520  0.577038  0.686959   \n",
       "1289  0.224204 -0.433591 -0.999887  ...  0.499662  0.178493  0.961791   \n",
       "\n",
       "           761       762       763       764       765       766       767  \n",
       "0     0.691058 -0.378460 -0.258926  0.651631 -0.910996 -0.579253  0.609890  \n",
       "1     0.790926  0.483784  0.305214  0.618006 -0.370210 -0.603901  0.826239  \n",
       "2     0.724643 -0.357922 -0.291343  0.750080 -0.957567 -0.728241  0.702230  \n",
       "3     0.610474 -0.021977 -0.368047  0.684521 -0.955397 -0.482647  0.688380  \n",
       "4     0.767211  0.120146  0.156654  0.577673 -0.711902 -0.710808  0.784341  \n",
       "...        ...       ...       ...       ...       ...       ...       ...  \n",
       "1285  0.675961 -0.067445  0.063498  0.524421 -0.853447 -0.570220  0.737170  \n",
       "1286  0.727615 -0.298853  0.554949  0.697899 -0.410967 -0.527422  0.763145  \n",
       "1287  0.773686  0.411397  0.319295  0.525459 -0.388983 -0.606383  0.804407  \n",
       "1288  0.672086  0.346009  0.228041  0.637448 -0.651322 -0.484427  0.687313  \n",
       "1289  0.837311 -0.511243  0.530672  0.457173 -0.852609 -0.686966  0.922572  \n",
       "\n",
       "[1290 rows x 768 columns]"
      ]
     },
     "execution_count": 151,
     "metadata": {},
     "output_type": "execute_result"
    }
   ],
   "source": [
    "dataX2"
   ]
  },
  {
   "cell_type": "markdown",
   "metadata": {
    "id": "6zziumZ-HP5d"
   },
   "source": [
    "##seleccion de las variable"
   ]
  },
  {
   "cell_type": "code",
   "execution_count": 152,
   "metadata": {
    "id": "e057M261HP5e"
   },
   "outputs": [],
   "source": [
    "X = dataX2 \n",
    "Y = df['resultado'].copy()"
   ]
  },
  {
   "cell_type": "code",
   "execution_count": 153,
   "metadata": {
    "colab": {
     "base_uri": "https://localhost:8080/"
    },
    "id": "VPQZ2shMHP5e",
    "outputId": "e0d6ef75-b0bd-4d33-f7b8-a064813e6e35"
   },
   "outputs": [
    {
     "data": {
      "text/plain": [
       "RangeIndex(start=0, stop=768, step=1)"
      ]
     },
     "execution_count": 153,
     "metadata": {},
     "output_type": "execute_result"
    }
   ],
   "source": [
    "X.columns"
   ]
  },
  {
   "cell_type": "code",
   "execution_count": 154,
   "metadata": {
    "colab": {
     "base_uri": "https://localhost:8080/"
    },
    "id": "LjUu5i3qHP5e",
    "outputId": "c28e93bb-07ac-4c31-e341-38a715971430"
   },
   "outputs": [
    {
     "name": "stdout",
     "output_type": "stream",
     "text": [
      "<class 'pandas.core.frame.DataFrame'>\n",
      "RangeIndex: 1290 entries, 0 to 1289\n",
      "Columns: 768 entries, 0 to 767\n",
      "dtypes: float32(768)\n",
      "memory usage: 3.8 MB\n"
     ]
    }
   ],
   "source": [
    "X.info()"
   ]
  },
  {
   "cell_type": "code",
   "execution_count": 155,
   "metadata": {
    "colab": {
     "base_uri": "https://localhost:8080/"
    },
    "id": "gJDojErWHP5e",
    "outputId": "5b889e89-3100-44d8-fa89-7e1d24929160"
   },
   "outputs": [
    {
     "data": {
      "text/plain": [
       "0    0\n",
       "1    0\n",
       "2    1\n",
       "3    0\n",
       "4    0\n",
       "Name: resultado, dtype: int64"
      ]
     },
     "execution_count": 155,
     "metadata": {},
     "output_type": "execute_result"
    }
   ],
   "source": [
    "Y.head()"
   ]
  },
  {
   "cell_type": "markdown",
   "metadata": {
    "id": "aGkKu4LQHP5e"
   },
   "source": [
    "## Balanceo de datos"
   ]
  },
  {
   "cell_type": "markdown",
   "metadata": {
    "id": "hf7h6nvdHP5e"
   },
   "source": [
    "### Aplicando Smote"
   ]
  },
  {
   "cell_type": "code",
   "execution_count": 156,
   "metadata": {
    "colab": {
     "base_uri": "https://localhost:8080/"
    },
    "id": "LBhCDKIsHP5e",
    "outputId": "fa4e1041-de37-4adc-95e7-2c34498b0f65"
   },
   "outputs": [
    {
     "data": {
      "text/plain": [
       "Counter({0: 668, 1: 668})"
      ]
     },
     "execution_count": 156,
     "metadata": {},
     "output_type": "execute_result"
    }
   ],
   "source": [
    "from imblearn.over_sampling import SMOTE #over sobre nivelar hacia arriba under nivelacion hacia el menor dato\n",
    "#from imblearn.under_sampling import SMOTE \n",
    "\n",
    "smote = SMOTE(random_state = 325, n_jobs=-1)\n",
    "X_smote, Y_smote = smote.fit_resample(X, Y)# hace Balance de los datos a partir de los agreglos\n",
    "\n",
    "from collections import Counter\n",
    "\n",
    "Counter(Y_smote)"
   ]
  },
  {
   "cell_type": "markdown",
   "metadata": {
    "id": "a6b5jcwsHP5e"
   },
   "source": [
    "## Train y test"
   ]
  },
  {
   "cell_type": "code",
   "execution_count": 157,
   "metadata": {
    "id": "XtN39ZfWHP5e"
   },
   "outputs": [],
   "source": [
    "from sklearn.model_selection import train_test_split\n",
    "X_train_smote, X_test_smote, Y_train_smote, Y_test_smote = train_test_split(X_smote, Y_smote, random_state=325,test_size = 0.3)\n",
    "        \n",
    "X_train, X_test, Y_train, Y_test = train_test_split(X, Y, random_state=325,test_size = 0.3)        "
   ]
  },
  {
   "cell_type": "markdown",
   "metadata": {
    "id": "Ype9K60bHP5e"
   },
   "source": [
    "## SVM\n"
   ]
  },
  {
   "cell_type": "markdown",
   "metadata": {
    "id": "HBlR7PeyHP5e"
   },
   "source": [
    "###SVC "
   ]
  },
  {
   "cell_type": "markdown",
   "metadata": {
    "id": "UmQnZlReHP5e"
   },
   "source": [
    "#### Caso 1"
   ]
  },
  {
   "cell_type": "code",
   "execution_count": 158,
   "metadata": {
    "id": "T94LHA8JHP5f"
   },
   "outputs": [],
   "source": [
    "parametros = {'C'      : np.arange(1, 5, 1),\n",
    "            'gamma'  : np.arange(1, 5, 1),\n",
    "           'kernel' : ['rbf', 'linear','sigmoid']}\n",
    "\n",
    "from sklearn.svm import SVC\n",
    "from sklearn.model_selection import GridSearchCV\n",
    "\n",
    "clf = SVC(class_weight='balanced', random_state=325)  \n",
    "grid_search = GridSearchCV(clf, parametros, n_jobs=-1, cv=5) "
   ]
  },
  {
   "cell_type": "code",
   "execution_count": 159,
   "metadata": {
    "colab": {
     "base_uri": "https://localhost:8080/"
    },
    "id": "1etEnz4OHP5f",
    "outputId": "ef5a1cf1-cd2e-4490-d36f-affe6c0e0011"
   },
   "outputs": [
    {
     "data": {
      "text/html": [
       "<style>#sk-container-id-11 {color: black;background-color: white;}#sk-container-id-11 pre{padding: 0;}#sk-container-id-11 div.sk-toggleable {background-color: white;}#sk-container-id-11 label.sk-toggleable__label {cursor: pointer;display: block;width: 100%;margin-bottom: 0;padding: 0.3em;box-sizing: border-box;text-align: center;}#sk-container-id-11 label.sk-toggleable__label-arrow:before {content: \"▸\";float: left;margin-right: 0.25em;color: #696969;}#sk-container-id-11 label.sk-toggleable__label-arrow:hover:before {color: black;}#sk-container-id-11 div.sk-estimator:hover label.sk-toggleable__label-arrow:before {color: black;}#sk-container-id-11 div.sk-toggleable__content {max-height: 0;max-width: 0;overflow: hidden;text-align: left;background-color: #f0f8ff;}#sk-container-id-11 div.sk-toggleable__content pre {margin: 0.2em;color: black;border-radius: 0.25em;background-color: #f0f8ff;}#sk-container-id-11 input.sk-toggleable__control:checked~div.sk-toggleable__content {max-height: 200px;max-width: 100%;overflow: auto;}#sk-container-id-11 input.sk-toggleable__control:checked~label.sk-toggleable__label-arrow:before {content: \"▾\";}#sk-container-id-11 div.sk-estimator input.sk-toggleable__control:checked~label.sk-toggleable__label {background-color: #d4ebff;}#sk-container-id-11 div.sk-label input.sk-toggleable__control:checked~label.sk-toggleable__label {background-color: #d4ebff;}#sk-container-id-11 input.sk-hidden--visually {border: 0;clip: rect(1px 1px 1px 1px);clip: rect(1px, 1px, 1px, 1px);height: 1px;margin: -1px;overflow: hidden;padding: 0;position: absolute;width: 1px;}#sk-container-id-11 div.sk-estimator {font-family: monospace;background-color: #f0f8ff;border: 1px dotted black;border-radius: 0.25em;box-sizing: border-box;margin-bottom: 0.5em;}#sk-container-id-11 div.sk-estimator:hover {background-color: #d4ebff;}#sk-container-id-11 div.sk-parallel-item::after {content: \"\";width: 100%;border-bottom: 1px solid gray;flex-grow: 1;}#sk-container-id-11 div.sk-label:hover label.sk-toggleable__label {background-color: #d4ebff;}#sk-container-id-11 div.sk-serial::before {content: \"\";position: absolute;border-left: 1px solid gray;box-sizing: border-box;top: 0;bottom: 0;left: 50%;z-index: 0;}#sk-container-id-11 div.sk-serial {display: flex;flex-direction: column;align-items: center;background-color: white;padding-right: 0.2em;padding-left: 0.2em;position: relative;}#sk-container-id-11 div.sk-item {position: relative;z-index: 1;}#sk-container-id-11 div.sk-parallel {display: flex;align-items: stretch;justify-content: center;background-color: white;position: relative;}#sk-container-id-11 div.sk-item::before, #sk-container-id-11 div.sk-parallel-item::before {content: \"\";position: absolute;border-left: 1px solid gray;box-sizing: border-box;top: 0;bottom: 0;left: 50%;z-index: -1;}#sk-container-id-11 div.sk-parallel-item {display: flex;flex-direction: column;z-index: 1;position: relative;background-color: white;}#sk-container-id-11 div.sk-parallel-item:first-child::after {align-self: flex-end;width: 50%;}#sk-container-id-11 div.sk-parallel-item:last-child::after {align-self: flex-start;width: 50%;}#sk-container-id-11 div.sk-parallel-item:only-child::after {width: 0;}#sk-container-id-11 div.sk-dashed-wrapped {border: 1px dashed gray;margin: 0 0.4em 0.5em 0.4em;box-sizing: border-box;padding-bottom: 0.4em;background-color: white;}#sk-container-id-11 div.sk-label label {font-family: monospace;font-weight: bold;display: inline-block;line-height: 1.2em;}#sk-container-id-11 div.sk-label-container {text-align: center;}#sk-container-id-11 div.sk-container {/* jupyter's `normalize.less` sets `[hidden] { display: none; }` but bootstrap.min.css set `[hidden] { display: none !important; }` so we also need the `!important` here to be able to override the default hidden behavior on the sphinx rendered scikit-learn.org. See: https://github.com/scikit-learn/scikit-learn/issues/21755 */display: inline-block !important;position: relative;}#sk-container-id-11 div.sk-text-repr-fallback {display: none;}</style><div id=\"sk-container-id-11\" class=\"sk-top-container\"><div class=\"sk-text-repr-fallback\"><pre>GridSearchCV(cv=5, estimator=SVC(class_weight=&#x27;balanced&#x27;, random_state=325),\n",
       "             n_jobs=-1,\n",
       "             param_grid={&#x27;C&#x27;: array([1, 2, 3, 4]), &#x27;gamma&#x27;: array([1, 2, 3, 4]),\n",
       "                         &#x27;kernel&#x27;: [&#x27;rbf&#x27;, &#x27;linear&#x27;, &#x27;sigmoid&#x27;]})</pre><b>In a Jupyter environment, please rerun this cell to show the HTML representation or trust the notebook. <br />On GitHub, the HTML representation is unable to render, please try loading this page with nbviewer.org.</b></div><div class=\"sk-container\" hidden><div class=\"sk-item sk-dashed-wrapped\"><div class=\"sk-label-container\"><div class=\"sk-label sk-toggleable\"><input class=\"sk-toggleable__control sk-hidden--visually\" id=\"sk-estimator-id-31\" type=\"checkbox\" ><label for=\"sk-estimator-id-31\" class=\"sk-toggleable__label sk-toggleable__label-arrow\">GridSearchCV</label><div class=\"sk-toggleable__content\"><pre>GridSearchCV(cv=5, estimator=SVC(class_weight=&#x27;balanced&#x27;, random_state=325),\n",
       "             n_jobs=-1,\n",
       "             param_grid={&#x27;C&#x27;: array([1, 2, 3, 4]), &#x27;gamma&#x27;: array([1, 2, 3, 4]),\n",
       "                         &#x27;kernel&#x27;: [&#x27;rbf&#x27;, &#x27;linear&#x27;, &#x27;sigmoid&#x27;]})</pre></div></div></div><div class=\"sk-parallel\"><div class=\"sk-parallel-item\"><div class=\"sk-item\"><div class=\"sk-label-container\"><div class=\"sk-label sk-toggleable\"><input class=\"sk-toggleable__control sk-hidden--visually\" id=\"sk-estimator-id-32\" type=\"checkbox\" ><label for=\"sk-estimator-id-32\" class=\"sk-toggleable__label sk-toggleable__label-arrow\">estimator: SVC</label><div class=\"sk-toggleable__content\"><pre>SVC(class_weight=&#x27;balanced&#x27;, random_state=325)</pre></div></div></div><div class=\"sk-serial\"><div class=\"sk-item\"><div class=\"sk-estimator sk-toggleable\"><input class=\"sk-toggleable__control sk-hidden--visually\" id=\"sk-estimator-id-33\" type=\"checkbox\" ><label for=\"sk-estimator-id-33\" class=\"sk-toggleable__label sk-toggleable__label-arrow\">SVC</label><div class=\"sk-toggleable__content\"><pre>SVC(class_weight=&#x27;balanced&#x27;, random_state=325)</pre></div></div></div></div></div></div></div></div></div></div>"
      ],
      "text/plain": [
       "GridSearchCV(cv=5, estimator=SVC(class_weight='balanced', random_state=325),\n",
       "             n_jobs=-1,\n",
       "             param_grid={'C': array([1, 2, 3, 4]), 'gamma': array([1, 2, 3, 4]),\n",
       "                         'kernel': ['rbf', 'linear', 'sigmoid']})"
      ]
     },
     "execution_count": 159,
     "metadata": {},
     "output_type": "execute_result"
    }
   ],
   "source": [
    "grid_search.fit(X_train_smote, Y_train_smote)"
   ]
  },
  {
   "cell_type": "code",
   "execution_count": 160,
   "metadata": {
    "colab": {
     "base_uri": "https://localhost:8080/"
    },
    "id": "c9dxp7EYHP5f",
    "outputId": "b64f5110-0cab-4f71-a334-0cf068e6f432"
   },
   "outputs": [
    {
     "name": "stdout",
     "output_type": "stream",
     "text": [
      "El mejor modelo:\n",
      " {'C': 1, 'gamma': 1, 'kernel': 'linear'}\n"
     ]
    }
   ],
   "source": [
    "print('El mejor modelo:\\n', grid_search.best_params_)"
   ]
  },
  {
   "cell_type": "code",
   "execution_count": 161,
   "metadata": {
    "id": "S7YeFA_AHP5f"
   },
   "outputs": [],
   "source": [
    "clf_best = grid_search.best_estimator_\n",
    "pred = clf_best.predict(X_test_smote)"
   ]
  },
  {
   "cell_type": "code",
   "execution_count": 162,
   "metadata": {
    "colab": {
     "base_uri": "https://localhost:8080/"
    },
    "id": "3mK8lc4kHP5f",
    "outputId": "bfd31cc5-2608-4fbe-a894-f58d5e7a9237"
   },
   "outputs": [
    {
     "name": "stdout",
     "output_type": "stream",
     "text": [
      "              precision    recall  f1-score   support\n",
      "\n",
      "           0       1.00      0.96      0.98       212\n",
      "           1       0.95      0.99      0.97       189\n",
      "\n",
      "    accuracy                           0.98       401\n",
      "   macro avg       0.97      0.98      0.98       401\n",
      "weighted avg       0.98      0.98      0.98       401\n",
      "\n"
     ]
    }
   ],
   "source": [
    "from sklearn.metrics import classification_report\n",
    "print(classification_report(Y_test_smote, pred))"
   ]
  },
  {
   "cell_type": "code",
   "execution_count": 163,
   "metadata": {
    "colab": {
     "base_uri": "https://localhost:8080/",
     "height": 347
    },
    "id": "fLjS6FmvHP5f",
    "outputId": "58392d7e-aca3-40ef-d783-cedf40494b0b"
   },
   "outputs": [
    {
     "name": "stdout",
     "output_type": "stream",
     "text": [
      "Matriz de Confusión\n",
      "[[203   9]\n",
      " [  1 188]]\n"
     ]
    },
    {
     "data": {
      "image/png": "[encoded data removed]",
      "text/plain": [
       "<Figure size 432x288 with 2 Axes>"
      ]
     },
     "metadata": {
      "needs_background": "light"
     },
     "output_type": "display_data"
    }
   ],
   "source": [
    "from sklearn.metrics import ConfusionMatrixDisplay\n",
    "\n",
    "\n",
    "disp = ConfusionMatrixDisplay.from_estimator(\n",
    "       clf_best,\n",
    "       X_test_smote,\n",
    "       Y_test_smote,\n",
    "       display_labels=None,\n",
    "       cmap=plt.cm.Blues,\n",
    "       normalize=None)\n",
    "\n",
    "disp.ax_.set_title('Matriz de Confusión')\n",
    "disp.ax_.set_xlabel('Predicción');\n",
    "disp.ax_.set_ylabel('Realidad'); \n",
    "disp.ax_.xaxis.set_ticklabels(['0', '1']); \n",
    "disp.ax_.yaxis.set_ticklabels(['0', '1']);\n",
    "\n",
    "print('Matriz de Confusión')\n",
    "print(disp.confusion_matrix)\n",
    "\n",
    "plt.show()"
   ]
  },
  {
   "cell_type": "markdown",
   "metadata": {
    "id": "VxR54zSGHP5f"
   },
   "source": [
    "### Nusvm"
   ]
  },
  {
   "cell_type": "markdown",
   "metadata": {
    "id": "zCGk0ndvHP5f"
   },
   "source": [
    "#### Caso 1"
   ]
  },
  {
   "cell_type": "code",
   "execution_count": 164,
   "metadata": {
    "id": "MLkAf6M1HP5f"
   },
   "outputs": [],
   "source": [
    "parametros = {'nu'      : np.arange(0, 1, 0.1),\n",
    "            'gamma'  : ['scale','auto'],\n",
    "           'kernel' : ['rbf', 'linear','sigmoid']}\n",
    "\n",
    "from sklearn.svm import NuSVC\n",
    "from sklearn.model_selection import GridSearchCV\n",
    "\n",
    "clf = NuSVC(class_weight='balanced', random_state=325)  \n",
    "grid_search = GridSearchCV(clf, parametros, n_jobs=-1, cv=5) "
   ]
  },
  {
   "cell_type": "code",
   "execution_count": 165,
   "metadata": {
    "colab": {
     "base_uri": "https://localhost:8080/"
    },
    "id": "96R5eCl6HP5f",
    "outputId": "46847fc2-d800-4d7e-da7c-70a26216ef3f"
   },
   "outputs": [
    {
     "data": {
      "text/html": [
       "<style>#sk-container-id-12 {color: black;background-color: white;}#sk-container-id-12 pre{padding: 0;}#sk-container-id-12 div.sk-toggleable {background-color: white;}#sk-container-id-12 label.sk-toggleable__label {cursor: pointer;display: block;width: 100%;margin-bottom: 0;padding: 0.3em;box-sizing: border-box;text-align: center;}#sk-container-id-12 label.sk-toggleable__label-arrow:before {content: \"▸\";float: left;margin-right: 0.25em;color: #696969;}#sk-container-id-12 label.sk-toggleable__label-arrow:hover:before {color: black;}#sk-container-id-12 div.sk-estimator:hover label.sk-toggleable__label-arrow:before {color: black;}#sk-container-id-12 div.sk-toggleable__content {max-height: 0;max-width: 0;overflow: hidden;text-align: left;background-color: #f0f8ff;}#sk-container-id-12 div.sk-toggleable__content pre {margin: 0.2em;color: black;border-radius: 0.25em;background-color: #f0f8ff;}#sk-container-id-12 input.sk-toggleable__control:checked~div.sk-toggleable__content {max-height: 200px;max-width: 100%;overflow: auto;}#sk-container-id-12 input.sk-toggleable__control:checked~label.sk-toggleable__label-arrow:before {content: \"▾\";}#sk-container-id-12 div.sk-estimator input.sk-toggleable__control:checked~label.sk-toggleable__label {background-color: #d4ebff;}#sk-container-id-12 div.sk-label input.sk-toggleable__control:checked~label.sk-toggleable__label {background-color: #d4ebff;}#sk-container-id-12 input.sk-hidden--visually {border: 0;clip: rect(1px 1px 1px 1px);clip: rect(1px, 1px, 1px, 1px);height: 1px;margin: -1px;overflow: hidden;padding: 0;position: absolute;width: 1px;}#sk-container-id-12 div.sk-estimator {font-family: monospace;background-color: #f0f8ff;border: 1px dotted black;border-radius: 0.25em;box-sizing: border-box;margin-bottom: 0.5em;}#sk-container-id-12 div.sk-estimator:hover {background-color: #d4ebff;}#sk-container-id-12 div.sk-parallel-item::after {content: \"\";width: 100%;border-bottom: 1px solid gray;flex-grow: 1;}#sk-container-id-12 div.sk-label:hover label.sk-toggleable__label {background-color: #d4ebff;}#sk-container-id-12 div.sk-serial::before {content: \"\";position: absolute;border-left: 1px solid gray;box-sizing: border-box;top: 0;bottom: 0;left: 50%;z-index: 0;}#sk-container-id-12 div.sk-serial {display: flex;flex-direction: column;align-items: center;background-color: white;padding-right: 0.2em;padding-left: 0.2em;position: relative;}#sk-container-id-12 div.sk-item {position: relative;z-index: 1;}#sk-container-id-12 div.sk-parallel {display: flex;align-items: stretch;justify-content: center;background-color: white;position: relative;}#sk-container-id-12 div.sk-item::before, #sk-container-id-12 div.sk-parallel-item::before {content: \"\";position: absolute;border-left: 1px solid gray;box-sizing: border-box;top: 0;bottom: 0;left: 50%;z-index: -1;}#sk-container-id-12 div.sk-parallel-item {display: flex;flex-direction: column;z-index: 1;position: relative;background-color: white;}#sk-container-id-12 div.sk-parallel-item:first-child::after {align-self: flex-end;width: 50%;}#sk-container-id-12 div.sk-parallel-item:last-child::after {align-self: flex-start;width: 50%;}#sk-container-id-12 div.sk-parallel-item:only-child::after {width: 0;}#sk-container-id-12 div.sk-dashed-wrapped {border: 1px dashed gray;margin: 0 0.4em 0.5em 0.4em;box-sizing: border-box;padding-bottom: 0.4em;background-color: white;}#sk-container-id-12 div.sk-label label {font-family: monospace;font-weight: bold;display: inline-block;line-height: 1.2em;}#sk-container-id-12 div.sk-label-container {text-align: center;}#sk-container-id-12 div.sk-container {/* jupyter's `normalize.less` sets `[hidden] { display: none; }` but bootstrap.min.css set `[hidden] { display: none !important; }` so we also need the `!important` here to be able to override the default hidden behavior on the sphinx rendered scikit-learn.org. See: https://github.com/scikit-learn/scikit-learn/issues/21755 */display: inline-block !important;position: relative;}#sk-container-id-12 div.sk-text-repr-fallback {display: none;}</style><div id=\"sk-container-id-12\" class=\"sk-top-container\"><div class=\"sk-text-repr-fallback\"><pre>GridSearchCV(cv=5, estimator=NuSVC(class_weight=&#x27;balanced&#x27;, random_state=325),\n",
       "             n_jobs=-1,\n",
       "             param_grid={&#x27;gamma&#x27;: [&#x27;scale&#x27;, &#x27;auto&#x27;],\n",
       "                         &#x27;kernel&#x27;: [&#x27;rbf&#x27;, &#x27;linear&#x27;, &#x27;sigmoid&#x27;],\n",
       "                         &#x27;nu&#x27;: array([0. , 0.1, 0.2, 0.3, 0.4, 0.5, 0.6, 0.7, 0.8, 0.9])})</pre><b>In a Jupyter environment, please rerun this cell to show the HTML representation or trust the notebook. <br />On GitHub, the HTML representation is unable to render, please try loading this page with nbviewer.org.</b></div><div class=\"sk-container\" hidden><div class=\"sk-item sk-dashed-wrapped\"><div class=\"sk-label-container\"><div class=\"sk-label sk-toggleable\"><input class=\"sk-toggleable__control sk-hidden--visually\" id=\"sk-estimator-id-34\" type=\"checkbox\" ><label for=\"sk-estimator-id-34\" class=\"sk-toggleable__label sk-toggleable__label-arrow\">GridSearchCV</label><div class=\"sk-toggleable__content\"><pre>GridSearchCV(cv=5, estimator=NuSVC(class_weight=&#x27;balanced&#x27;, random_state=325),\n",
       "             n_jobs=-1,\n",
       "             param_grid={&#x27;gamma&#x27;: [&#x27;scale&#x27;, &#x27;auto&#x27;],\n",
       "                         &#x27;kernel&#x27;: [&#x27;rbf&#x27;, &#x27;linear&#x27;, &#x27;sigmoid&#x27;],\n",
       "                         &#x27;nu&#x27;: array([0. , 0.1, 0.2, 0.3, 0.4, 0.5, 0.6, 0.7, 0.8, 0.9])})</pre></div></div></div><div class=\"sk-parallel\"><div class=\"sk-parallel-item\"><div class=\"sk-item\"><div class=\"sk-label-container\"><div class=\"sk-label sk-toggleable\"><input class=\"sk-toggleable__control sk-hidden--visually\" id=\"sk-estimator-id-35\" type=\"checkbox\" ><label for=\"sk-estimator-id-35\" class=\"sk-toggleable__label sk-toggleable__label-arrow\">estimator: NuSVC</label><div class=\"sk-toggleable__content\"><pre>NuSVC(class_weight=&#x27;balanced&#x27;, random_state=325)</pre></div></div></div><div class=\"sk-serial\"><div class=\"sk-item\"><div class=\"sk-estimator sk-toggleable\"><input class=\"sk-toggleable__control sk-hidden--visually\" id=\"sk-estimator-id-36\" type=\"checkbox\" ><label for=\"sk-estimator-id-36\" class=\"sk-toggleable__label sk-toggleable__label-arrow\">NuSVC</label><div class=\"sk-toggleable__content\"><pre>NuSVC(class_weight=&#x27;balanced&#x27;, random_state=325)</pre></div></div></div></div></div></div></div></div></div></div>"
      ],
      "text/plain": [
       "GridSearchCV(cv=5, estimator=NuSVC(class_weight='balanced', random_state=325),\n",
       "             n_jobs=-1,\n",
       "             param_grid={'gamma': ['scale', 'auto'],\n",
       "                         'kernel': ['rbf', 'linear', 'sigmoid'],\n",
       "                         'nu': array([0. , 0.1, 0.2, 0.3, 0.4, 0.5, 0.6, 0.7, 0.8, 0.9])})"
      ]
     },
     "execution_count": 165,
     "metadata": {},
     "output_type": "execute_result"
    }
   ],
   "source": [
    "grid_search.fit(X_train_smote, Y_train_smote)"
   ]
  },
  {
   "cell_type": "code",
   "execution_count": 166,
   "metadata": {
    "colab": {
     "base_uri": "https://localhost:8080/"
    },
    "id": "hEV67io5HP5f",
    "outputId": "2bf32955-3beb-4108-f88a-5372edd8c5fe"
   },
   "outputs": [
    {
     "name": "stdout",
     "output_type": "stream",
     "text": [
      "El mejor modelo:\n",
      " {'gamma': 'scale', 'kernel': 'linear', 'nu': 0.1}\n"
     ]
    }
   ],
   "source": [
    "print('El mejor modelo:\\n', grid_search.best_params_)"
   ]
  },
  {
   "cell_type": "code",
   "execution_count": 167,
   "metadata": {
    "id": "ETq3u14xHP5g"
   },
   "outputs": [],
   "source": [
    "clf_best = grid_search.best_estimator_\n",
    "pred = clf_best.predict(X_test_smote)"
   ]
  },
  {
   "cell_type": "code",
   "execution_count": 168,
   "metadata": {
    "colab": {
     "base_uri": "https://localhost:8080/"
    },
    "id": "Qw8wzIPEHP5g",
    "outputId": "0f517516-fa21-4958-8bf9-be9310c7b54b"
   },
   "outputs": [
    {
     "name": "stdout",
     "output_type": "stream",
     "text": [
      "              precision    recall  f1-score   support\n",
      "\n",
      "           0       0.97      0.96      0.97       212\n",
      "           1       0.96      0.97      0.96       189\n",
      "\n",
      "    accuracy                           0.97       401\n",
      "   macro avg       0.96      0.97      0.96       401\n",
      "weighted avg       0.97      0.97      0.97       401\n",
      "\n"
     ]
    }
   ],
   "source": [
    "from sklearn.metrics import classification_report\n",
    "\n",
    "print(classification_report(Y_test_smote, pred))"
   ]
  },
  {
   "cell_type": "code",
   "execution_count": 169,
   "metadata": {
    "colab": {
     "base_uri": "https://localhost:8080/",
     "height": 347
    },
    "id": "I9HieVGhHP5g",
    "outputId": "8d9549ad-a4b4-4c70-e347-f5489db63bf2"
   },
   "outputs": [
    {
     "name": "stdout",
     "output_type": "stream",
     "text": [
      "Matriz de Confusión\n",
      "[[204   8]\n",
      " [  6 183]]\n"
     ]
    },
    {
     "data": {
      "image/png": "[encoded data removed]",
      "text/plain": [
       "<Figure size 432x288 with 2 Axes>"
      ]
     },
     "metadata": {
      "needs_background": "light"
     },
     "output_type": "display_data"
    }
   ],
   "source": [
    "from sklearn.metrics import ConfusionMatrixDisplay\n",
    "\n",
    "\n",
    "disp = ConfusionMatrixDisplay.from_estimator(\n",
    "       clf_best,\n",
    "       X_test_smote,\n",
    "       Y_test_smote,\n",
    "       display_labels=None,\n",
    "       cmap=plt.cm.Blues,\n",
    "       normalize=None)\n",
    "\n",
    "disp.ax_.set_title('Matriz de Confusión')\n",
    "disp.ax_.set_xlabel('Predicción');\n",
    "disp.ax_.set_ylabel('Realidad'); \n",
    "disp.ax_.xaxis.set_ticklabels(['0', '1']); \n",
    "disp.ax_.yaxis.set_ticklabels(['0', '1']);\n",
    "\n",
    "print('Matriz de Confusión')\n",
    "print(disp.confusion_matrix)\n",
    "\n",
    "plt.show()"
   ]
  },
  {
   "cell_type": "markdown",
   "metadata": {
    "id": "VhMtgisLHbfm"
   },
   "source": [
    "# Embedding  bert normal L-24 --- 1024\n",
    "https://tfhub.dev/tensorflow/bert_en_uncased_L-24_H-1024_A-16/4"
   ]
  },
  {
   "cell_type": "markdown",
   "metadata": {
    "id": "8FjGUWIvHbfm"
   },
   "source": [
    "## transformar texto (Embedding)"
   ]
  },
  {
   "cell_type": "code",
   "execution_count": 221,
   "metadata": {
    "id": "oDQz6SWFHbfn"
   },
   "outputs": [],
   "source": [
    "# 4to paso: Vamos a crear dos variables que cargaran en memoria dos funciones para transformar el texto\n",
    "##\n",
    "##   - preprocessor: \"objeto\" que se encargará de transformar el texto en el formato que necesita el modelo BERT para funcionar\n",
    "##   - encoder: \"objeto\" que será el modelo BERT y se alimentará del resultado de preprocessor, retornando el texto transformado en un vector numérico.\n",
    "\n",
    "preprocessor = hub.load(\"https://tfhub.dev/tensorflow/bert_en_uncased_preprocess/3\")\n",
    "encoder = hub.load(\"https://tfhub.dev/tensorflow/bert_en_uncased_L-24_H-1024_A-16/4\")"
   ]
  },
  {
   "cell_type": "code",
   "execution_count": 222,
   "metadata": {
    "id": "uxs8qd_VHbfn"
   },
   "outputs": [],
   "source": [
    "# 5to paso: Vamos a usar el objeto preprocessor, y guardamos su resultado en la variable embedding\n",
    "##   A modo de ejemplo para su revisión, solo vamos a transformar dos textos:\n",
    "\n",
    "embedding = preprocessor(df_clean) # df_clean es el texto"
   ]
  },
  {
   "cell_type": "code",
   "execution_count": 223,
   "metadata": {
    "id": "w1F5MZrjHbfn"
   },
   "outputs": [],
   "source": [
    "# 6to paso: Vamos a codificar el texto con el modelo BERT:\n",
    "##   - Fijarse que el objeto encoder recibe como argumento la variable embedding (resultado de preprocessor)\n",
    "##   - Copiar el siguiente código de forma literal\n",
    "\n",
    "pooled_output = encoder(embedding)[\"pooled_output\"]"
   ]
  },
  {
   "cell_type": "code",
   "execution_count": 224,
   "metadata": {
    "colab": {
     "base_uri": "https://localhost:8080/"
    },
    "id": "7FsKIBlSHbfn",
    "outputId": "31bc1984-7789-43e2-8f57-4f1f008d4f13"
   },
   "outputs": [
    {
     "data": {
      "text/plain": [
       "<tf.Tensor: shape=(1290, 1024), dtype=float32, numpy=\n",
       "array([[-0.99949956, -0.99085975,  0.9998391 , ..., -0.9609667 ,\n",
       "         0.9828136 , -0.94329846],\n",
       "       [-0.9589646 , -0.8529227 ,  0.9996363 , ..., -0.98234016,\n",
       "         0.9320804 , -0.9352594 ],\n",
       "       [-0.99829775, -0.99360347,  0.99999636, ..., -0.9987169 ,\n",
       "         0.97705257, -0.9866522 ],\n",
       "       ...,\n",
       "       [-0.9979986 , -0.9795863 ,  0.9998525 , ..., -0.99126667,\n",
       "         0.95733964, -0.95671636],\n",
       "       [-0.99923575, -0.9851741 ,  0.9999988 , ..., -0.9995034 ,\n",
       "         0.9953244 , -0.99103177],\n",
       "       [ 0.75697905, -0.16161178,  0.9103952 , ..., -0.9734895 ,\n",
       "         0.62785506, -0.81368935]], dtype=float32)>"
      ]
     },
     "execution_count": 224,
     "metadata": {},
     "output_type": "execute_result"
    }
   ],
   "source": [
    "# Opcional: revisamos el contenido de la variable pooled_output, el cual tiene dos vectores de 128 dimensiones\n",
    "##\n",
    "##    - Dos vectores, porque le pasamos solo dos textos\n",
    "##    - 128 dimensiones, porque el modelo BERT utilizado convierte cualquier texto (independiente del largo) en un vector numérico de 128 dimensiones.\n",
    "\n",
    "pooled_output"
   ]
  },
  {
   "cell_type": "code",
   "execution_count": 225,
   "metadata": {
    "id": "DQ-MfPskHbfn"
   },
   "outputs": [],
   "source": [
    "# 7mo paso: El contenido de la variable pooled_output es una estructura de datos de tipo tensorflow.\n",
    "#           Para transformarlo a un dataframe y usarlo de forma tradicional con los modelos clásicos, \n",
    "#           ejecutamos la siguiente linea de código:\n",
    "\n",
    "dataX2 = pd.DataFrame(pooled_output.numpy())"
   ]
  },
  {
   "cell_type": "code",
   "execution_count": 226,
   "metadata": {
    "colab": {
     "base_uri": "https://localhost:8080/"
    },
    "id": "Q7NWAJliHbfn",
    "outputId": "006548f9-0737-42d5-8c7b-7a4ea1255967"
   },
   "outputs": [
    {
     "data": {
      "text/plain": [
       "(1290, 1024)"
      ]
     },
     "execution_count": 226,
     "metadata": {},
     "output_type": "execute_result"
    }
   ],
   "source": [
    "# Opcional:  Ahora la variable dataX es un dataframe y podemos revisar su dimensionalidad y visualizarlo:\n",
    "dataX2.shape"
   ]
  },
  {
   "cell_type": "code",
   "execution_count": 227,
   "metadata": {
    "colab": {
     "base_uri": "https://localhost:8080/",
     "height": 424
    },
    "id": "g2Oy-ZCZHbfn",
    "outputId": "eaba9cbb-763d-411c-ebbd-3aba16970fe9"
   },
   "outputs": [
    {
     "data": {
      "text/html": [
       "<div>\n",
       "<style scoped>\n",
       "    .dataframe tbody tr th:only-of-type {\n",
       "        vertical-align: middle;\n",
       "    }\n",
       "\n",
       "    .dataframe tbody tr th {\n",
       "        vertical-align: top;\n",
       "    }\n",
       "\n",
       "    .dataframe thead th {\n",
       "        text-align: right;\n",
       "    }\n",
       "</style>\n",
       "<table border=\"1\" class=\"dataframe\">\n",
       "  <thead>\n",
       "    <tr style=\"text-align: right;\">\n",
       "      <th></th>\n",
       "      <th>0</th>\n",
       "      <th>1</th>\n",
       "      <th>2</th>\n",
       "      <th>3</th>\n",
       "      <th>4</th>\n",
       "      <th>5</th>\n",
       "      <th>6</th>\n",
       "      <th>7</th>\n",
       "      <th>8</th>\n",
       "      <th>9</th>\n",
       "      <th>...</th>\n",
       "      <th>1014</th>\n",
       "      <th>1015</th>\n",
       "      <th>1016</th>\n",
       "      <th>1017</th>\n",
       "      <th>1018</th>\n",
       "      <th>1019</th>\n",
       "      <th>1020</th>\n",
       "      <th>1021</th>\n",
       "      <th>1022</th>\n",
       "      <th>1023</th>\n",
       "    </tr>\n",
       "  </thead>\n",
       "  <tbody>\n",
       "    <tr>\n",
       "      <th>0</th>\n",
       "      <td>-0.999500</td>\n",
       "      <td>-0.990860</td>\n",
       "      <td>0.999839</td>\n",
       "      <td>-0.855886</td>\n",
       "      <td>-0.991808</td>\n",
       "      <td>0.992222</td>\n",
       "      <td>-0.994173</td>\n",
       "      <td>0.987626</td>\n",
       "      <td>0.917412</td>\n",
       "      <td>-0.994689</td>\n",
       "      <td>...</td>\n",
       "      <td>-0.438021</td>\n",
       "      <td>-0.845629</td>\n",
       "      <td>-0.833390</td>\n",
       "      <td>0.997219</td>\n",
       "      <td>0.999974</td>\n",
       "      <td>-0.827480</td>\n",
       "      <td>0.988352</td>\n",
       "      <td>-0.960967</td>\n",
       "      <td>0.982814</td>\n",
       "      <td>-0.943298</td>\n",
       "    </tr>\n",
       "    <tr>\n",
       "      <th>1</th>\n",
       "      <td>-0.958965</td>\n",
       "      <td>-0.852923</td>\n",
       "      <td>0.999636</td>\n",
       "      <td>-0.945421</td>\n",
       "      <td>-0.997638</td>\n",
       "      <td>0.769888</td>\n",
       "      <td>-0.996709</td>\n",
       "      <td>0.994466</td>\n",
       "      <td>0.964754</td>\n",
       "      <td>-0.991286</td>\n",
       "      <td>...</td>\n",
       "      <td>-0.917088</td>\n",
       "      <td>-0.965253</td>\n",
       "      <td>-0.810747</td>\n",
       "      <td>0.978622</td>\n",
       "      <td>0.999144</td>\n",
       "      <td>-0.867613</td>\n",
       "      <td>0.993289</td>\n",
       "      <td>-0.982340</td>\n",
       "      <td>0.932080</td>\n",
       "      <td>-0.935259</td>\n",
       "    </tr>\n",
       "    <tr>\n",
       "      <th>2</th>\n",
       "      <td>-0.998298</td>\n",
       "      <td>-0.993603</td>\n",
       "      <td>0.999996</td>\n",
       "      <td>-0.969279</td>\n",
       "      <td>-0.999621</td>\n",
       "      <td>0.961838</td>\n",
       "      <td>-0.999550</td>\n",
       "      <td>0.999169</td>\n",
       "      <td>0.987666</td>\n",
       "      <td>-0.999605</td>\n",
       "      <td>...</td>\n",
       "      <td>-0.985060</td>\n",
       "      <td>-0.884945</td>\n",
       "      <td>-0.457453</td>\n",
       "      <td>0.997638</td>\n",
       "      <td>0.999996</td>\n",
       "      <td>-0.691892</td>\n",
       "      <td>0.998706</td>\n",
       "      <td>-0.998717</td>\n",
       "      <td>0.977053</td>\n",
       "      <td>-0.986652</td>\n",
       "    </tr>\n",
       "    <tr>\n",
       "      <th>3</th>\n",
       "      <td>-0.916665</td>\n",
       "      <td>-0.910133</td>\n",
       "      <td>0.999751</td>\n",
       "      <td>-0.974598</td>\n",
       "      <td>-0.999014</td>\n",
       "      <td>0.575932</td>\n",
       "      <td>-0.998432</td>\n",
       "      <td>0.998656</td>\n",
       "      <td>0.962508</td>\n",
       "      <td>-0.996881</td>\n",
       "      <td>...</td>\n",
       "      <td>-0.987680</td>\n",
       "      <td>-0.889339</td>\n",
       "      <td>-0.721946</td>\n",
       "      <td>0.965732</td>\n",
       "      <td>0.999860</td>\n",
       "      <td>-0.764152</td>\n",
       "      <td>0.994829</td>\n",
       "      <td>-0.995405</td>\n",
       "      <td>0.890138</td>\n",
       "      <td>-0.972894</td>\n",
       "    </tr>\n",
       "    <tr>\n",
       "      <th>4</th>\n",
       "      <td>-0.999490</td>\n",
       "      <td>-0.995659</td>\n",
       "      <td>0.999963</td>\n",
       "      <td>-0.942301</td>\n",
       "      <td>-0.998035</td>\n",
       "      <td>0.990083</td>\n",
       "      <td>-0.998430</td>\n",
       "      <td>0.997497</td>\n",
       "      <td>0.959646</td>\n",
       "      <td>-0.998030</td>\n",
       "      <td>...</td>\n",
       "      <td>-0.947338</td>\n",
       "      <td>-0.398675</td>\n",
       "      <td>-0.291013</td>\n",
       "      <td>0.998072</td>\n",
       "      <td>0.999998</td>\n",
       "      <td>-0.268177</td>\n",
       "      <td>0.995851</td>\n",
       "      <td>-0.997214</td>\n",
       "      <td>0.985034</td>\n",
       "      <td>-0.971948</td>\n",
       "    </tr>\n",
       "    <tr>\n",
       "      <th>...</th>\n",
       "      <td>...</td>\n",
       "      <td>...</td>\n",
       "      <td>...</td>\n",
       "      <td>...</td>\n",
       "      <td>...</td>\n",
       "      <td>...</td>\n",
       "      <td>...</td>\n",
       "      <td>...</td>\n",
       "      <td>...</td>\n",
       "      <td>...</td>\n",
       "      <td>...</td>\n",
       "      <td>...</td>\n",
       "      <td>...</td>\n",
       "      <td>...</td>\n",
       "      <td>...</td>\n",
       "      <td>...</td>\n",
       "      <td>...</td>\n",
       "      <td>...</td>\n",
       "      <td>...</td>\n",
       "      <td>...</td>\n",
       "      <td>...</td>\n",
       "    </tr>\n",
       "    <tr>\n",
       "      <th>1285</th>\n",
       "      <td>-0.997337</td>\n",
       "      <td>-0.981613</td>\n",
       "      <td>0.999874</td>\n",
       "      <td>-0.919656</td>\n",
       "      <td>-0.996679</td>\n",
       "      <td>0.969723</td>\n",
       "      <td>-0.996067</td>\n",
       "      <td>0.996106</td>\n",
       "      <td>0.948286</td>\n",
       "      <td>-0.995641</td>\n",
       "      <td>...</td>\n",
       "      <td>-0.881886</td>\n",
       "      <td>-0.880315</td>\n",
       "      <td>-0.781047</td>\n",
       "      <td>0.993618</td>\n",
       "      <td>0.999926</td>\n",
       "      <td>-0.792438</td>\n",
       "      <td>0.993823</td>\n",
       "      <td>-0.989936</td>\n",
       "      <td>0.963670</td>\n",
       "      <td>-0.959143</td>\n",
       "    </tr>\n",
       "    <tr>\n",
       "      <th>1286</th>\n",
       "      <td>-0.999321</td>\n",
       "      <td>-0.986594</td>\n",
       "      <td>0.999943</td>\n",
       "      <td>-0.965776</td>\n",
       "      <td>-0.995654</td>\n",
       "      <td>0.984449</td>\n",
       "      <td>-0.998527</td>\n",
       "      <td>0.995016</td>\n",
       "      <td>0.966982</td>\n",
       "      <td>-0.995223</td>\n",
       "      <td>...</td>\n",
       "      <td>-0.822023</td>\n",
       "      <td>-0.883891</td>\n",
       "      <td>-0.685010</td>\n",
       "      <td>0.996787</td>\n",
       "      <td>0.999989</td>\n",
       "      <td>-0.765586</td>\n",
       "      <td>0.996877</td>\n",
       "      <td>-0.995015</td>\n",
       "      <td>0.993574</td>\n",
       "      <td>-0.953915</td>\n",
       "    </tr>\n",
       "    <tr>\n",
       "      <th>1287</th>\n",
       "      <td>-0.997999</td>\n",
       "      <td>-0.979586</td>\n",
       "      <td>0.999852</td>\n",
       "      <td>-0.890793</td>\n",
       "      <td>-0.997096</td>\n",
       "      <td>0.967286</td>\n",
       "      <td>-0.996300</td>\n",
       "      <td>0.993193</td>\n",
       "      <td>0.946467</td>\n",
       "      <td>-0.994302</td>\n",
       "      <td>...</td>\n",
       "      <td>-0.875531</td>\n",
       "      <td>-0.904678</td>\n",
       "      <td>-0.788686</td>\n",
       "      <td>0.993258</td>\n",
       "      <td>0.999948</td>\n",
       "      <td>-0.799036</td>\n",
       "      <td>0.995409</td>\n",
       "      <td>-0.991267</td>\n",
       "      <td>0.957340</td>\n",
       "      <td>-0.956716</td>\n",
       "    </tr>\n",
       "    <tr>\n",
       "      <th>1288</th>\n",
       "      <td>-0.999236</td>\n",
       "      <td>-0.985174</td>\n",
       "      <td>0.999999</td>\n",
       "      <td>-0.995293</td>\n",
       "      <td>-0.999675</td>\n",
       "      <td>0.969522</td>\n",
       "      <td>-0.999755</td>\n",
       "      <td>0.999808</td>\n",
       "      <td>0.994743</td>\n",
       "      <td>-0.999539</td>\n",
       "      <td>...</td>\n",
       "      <td>-0.988791</td>\n",
       "      <td>-0.959261</td>\n",
       "      <td>-0.629232</td>\n",
       "      <td>0.997872</td>\n",
       "      <td>0.999999</td>\n",
       "      <td>-0.623725</td>\n",
       "      <td>0.999422</td>\n",
       "      <td>-0.999503</td>\n",
       "      <td>0.995324</td>\n",
       "      <td>-0.991032</td>\n",
       "    </tr>\n",
       "    <tr>\n",
       "      <th>1289</th>\n",
       "      <td>0.756979</td>\n",
       "      <td>-0.161612</td>\n",
       "      <td>0.910395</td>\n",
       "      <td>-0.917537</td>\n",
       "      <td>-0.973290</td>\n",
       "      <td>-0.881380</td>\n",
       "      <td>-0.994370</td>\n",
       "      <td>0.862986</td>\n",
       "      <td>0.902401</td>\n",
       "      <td>-0.570223</td>\n",
       "      <td>...</td>\n",
       "      <td>-0.996336</td>\n",
       "      <td>0.341980</td>\n",
       "      <td>0.084330</td>\n",
       "      <td>0.664074</td>\n",
       "      <td>0.926916</td>\n",
       "      <td>0.051911</td>\n",
       "      <td>0.951507</td>\n",
       "      <td>-0.973490</td>\n",
       "      <td>0.627855</td>\n",
       "      <td>-0.813689</td>\n",
       "    </tr>\n",
       "  </tbody>\n",
       "</table>\n",
       "<p>1290 rows × 1024 columns</p>\n",
       "</div>"
      ],
      "text/plain": [
       "          0         1         2         3         4         5         6     \\\n",
       "0    -0.999500 -0.990860  0.999839 -0.855886 -0.991808  0.992222 -0.994173   \n",
       "1    -0.958965 -0.852923  0.999636 -0.945421 -0.997638  0.769888 -0.996709   \n",
       "2    -0.998298 -0.993603  0.999996 -0.969279 -0.999621  0.961838 -0.999550   \n",
       "3    -0.916665 -0.910133  0.999751 -0.974598 -0.999014  0.575932 -0.998432   \n",
       "4    -0.999490 -0.995659  0.999963 -0.942301 -0.998035  0.990083 -0.998430   \n",
       "...        ...       ...       ...       ...       ...       ...       ...   \n",
       "1285 -0.997337 -0.981613  0.999874 -0.919656 -0.996679  0.969723 -0.996067   \n",
       "1286 -0.999321 -0.986594  0.999943 -0.965776 -0.995654  0.984449 -0.998527   \n",
       "1287 -0.997999 -0.979586  0.999852 -0.890793 -0.997096  0.967286 -0.996300   \n",
       "1288 -0.999236 -0.985174  0.999999 -0.995293 -0.999675  0.969522 -0.999755   \n",
       "1289  0.756979 -0.161612  0.910395 -0.917537 -0.973290 -0.881380 -0.994370   \n",
       "\n",
       "          7         8         9     ...      1014      1015      1016  \\\n",
       "0     0.987626  0.917412 -0.994689  ... -0.438021 -0.845629 -0.833390   \n",
       "1     0.994466  0.964754 -0.991286  ... -0.917088 -0.965253 -0.810747   \n",
       "2     0.999169  0.987666 -0.999605  ... -0.985060 -0.884945 -0.457453   \n",
       "3     0.998656  0.962508 -0.996881  ... -0.987680 -0.889339 -0.721946   \n",
       "4     0.997497  0.959646 -0.998030  ... -0.947338 -0.398675 -0.291013   \n",
       "...        ...       ...       ...  ...       ...       ...       ...   \n",
       "1285  0.996106  0.948286 -0.995641  ... -0.881886 -0.880315 -0.781047   \n",
       "1286  0.995016  0.966982 -0.995223  ... -0.822023 -0.883891 -0.685010   \n",
       "1287  0.993193  0.946467 -0.994302  ... -0.875531 -0.904678 -0.788686   \n",
       "1288  0.999808  0.994743 -0.999539  ... -0.988791 -0.959261 -0.629232   \n",
       "1289  0.862986  0.902401 -0.570223  ... -0.996336  0.341980  0.084330   \n",
       "\n",
       "          1017      1018      1019      1020      1021      1022      1023  \n",
       "0     0.997219  0.999974 -0.827480  0.988352 -0.960967  0.982814 -0.943298  \n",
       "1     0.978622  0.999144 -0.867613  0.993289 -0.982340  0.932080 -0.935259  \n",
       "2     0.997638  0.999996 -0.691892  0.998706 -0.998717  0.977053 -0.986652  \n",
       "3     0.965732  0.999860 -0.764152  0.994829 -0.995405  0.890138 -0.972894  \n",
       "4     0.998072  0.999998 -0.268177  0.995851 -0.997214  0.985034 -0.971948  \n",
       "...        ...       ...       ...       ...       ...       ...       ...  \n",
       "1285  0.993618  0.999926 -0.792438  0.993823 -0.989936  0.963670 -0.959143  \n",
       "1286  0.996787  0.999989 -0.765586  0.996877 -0.995015  0.993574 -0.953915  \n",
       "1287  0.993258  0.999948 -0.799036  0.995409 -0.991267  0.957340 -0.956716  \n",
       "1288  0.997872  0.999999 -0.623725  0.999422 -0.999503  0.995324 -0.991032  \n",
       "1289  0.664074  0.926916  0.051911  0.951507 -0.973490  0.627855 -0.813689  \n",
       "\n",
       "[1290 rows x 1024 columns]"
      ]
     },
     "execution_count": 227,
     "metadata": {},
     "output_type": "execute_result"
    }
   ],
   "source": [
    "dataX2"
   ]
  },
  {
   "cell_type": "markdown",
   "metadata": {
    "id": "0-I1eFTsHbfo"
   },
   "source": [
    "##seleccion de las variable"
   ]
  },
  {
   "cell_type": "code",
   "execution_count": 228,
   "metadata": {
    "id": "NxAZjPBeHbfo"
   },
   "outputs": [],
   "source": [
    "X = dataX2 \n",
    "Y = df['resultado'].copy()"
   ]
  },
  {
   "cell_type": "code",
   "execution_count": 229,
   "metadata": {
    "colab": {
     "base_uri": "https://localhost:8080/"
    },
    "id": "xVMZ9Z8PHbfo",
    "outputId": "6d01a050-d3b4-47eb-c3ae-d6775442e9de"
   },
   "outputs": [
    {
     "data": {
      "text/plain": [
       "RangeIndex(start=0, stop=1024, step=1)"
      ]
     },
     "execution_count": 229,
     "metadata": {},
     "output_type": "execute_result"
    }
   ],
   "source": [
    "X.columns"
   ]
  },
  {
   "cell_type": "code",
   "execution_count": 230,
   "metadata": {
    "colab": {
     "base_uri": "https://localhost:8080/"
    },
    "id": "RH0lwcYrHbfo",
    "outputId": "45b3993d-08d8-4c15-dd9e-71a6a1253266"
   },
   "outputs": [
    {
     "name": "stdout",
     "output_type": "stream",
     "text": [
      "<class 'pandas.core.frame.DataFrame'>\n",
      "RangeIndex: 1290 entries, 0 to 1289\n",
      "Columns: 1024 entries, 0 to 1023\n",
      "dtypes: float32(1024)\n",
      "memory usage: 5.0 MB\n"
     ]
    }
   ],
   "source": [
    "X.info()"
   ]
  },
  {
   "cell_type": "code",
   "execution_count": 231,
   "metadata": {
    "colab": {
     "base_uri": "https://localhost:8080/"
    },
    "id": "uud-w8nMHbfo",
    "outputId": "bf1c94d1-93d1-4418-d418-63c5eade8255"
   },
   "outputs": [
    {
     "data": {
      "text/plain": [
       "0    0\n",
       "1    0\n",
       "2    1\n",
       "3    0\n",
       "4    0\n",
       "Name: resultado, dtype: int64"
      ]
     },
     "execution_count": 231,
     "metadata": {},
     "output_type": "execute_result"
    }
   ],
   "source": [
    "Y.head()"
   ]
  },
  {
   "cell_type": "markdown",
   "metadata": {
    "id": "6SM-Dk23Hbfo"
   },
   "source": [
    "## Balanceo de datos"
   ]
  },
  {
   "cell_type": "markdown",
   "metadata": {
    "id": "A3PT3g9QHbfo"
   },
   "source": [
    "## Aplicando Smote"
   ]
  },
  {
   "cell_type": "code",
   "execution_count": 232,
   "metadata": {
    "colab": {
     "base_uri": "https://localhost:8080/"
    },
    "id": "2xe9VuwjHbfo",
    "outputId": "bcd760b5-417a-420d-ed65-cee151fabaeb"
   },
   "outputs": [
    {
     "data": {
      "text/plain": [
       "Counter({0: 668, 1: 668})"
      ]
     },
     "execution_count": 232,
     "metadata": {},
     "output_type": "execute_result"
    }
   ],
   "source": [
    "from imblearn.over_sampling import SMOTE #over sobre nivelar hacia arriba under nivelacion hacia el menor dato\n",
    "#from imblearn.under_sampling import SMOTE \n",
    "\n",
    "smote = SMOTE(random_state = 325, n_jobs=-1)\n",
    "X_smote, Y_smote = smote.fit_resample(X, Y)# hace Balance de los datos a partir de los agreglos\n",
    "\n",
    "from collections import Counter\n",
    "\n",
    "Counter(Y_smote)"
   ]
  },
  {
   "cell_type": "markdown",
   "metadata": {
    "id": "zfUrTnNFHbfo"
   },
   "source": [
    "## Train y test"
   ]
  },
  {
   "cell_type": "code",
   "execution_count": 233,
   "metadata": {
    "id": "XigdNFlJHbfo"
   },
   "outputs": [],
   "source": [
    "from sklearn.model_selection import train_test_split\n",
    "X_train_smote, X_test_smote, Y_train_smote, Y_test_smote = train_test_split(X_smote, Y_smote, random_state=325,test_size = 0.3)\n",
    "        \n",
    "X_train, X_test, Y_train, Y_test = train_test_split(X, Y, random_state=325,test_size = 0.3)        "
   ]
  },
  {
   "cell_type": "markdown",
   "metadata": {
    "id": "f4DWWuWFHbfp"
   },
   "source": [
    "## SVM\n"
   ]
  },
  {
   "cell_type": "markdown",
   "metadata": {
    "id": "VMRis76xHbfp"
   },
   "source": [
    "###SVC "
   ]
  },
  {
   "cell_type": "markdown",
   "metadata": {
    "id": "E4EEQGKWHbfp"
   },
   "source": [
    "#### Caso 1"
   ]
  },
  {
   "cell_type": "code",
   "execution_count": 234,
   "metadata": {
    "colab": {
     "base_uri": "https://localhost:8080/",
     "height": 235
    },
    "id": "yPwAvzZmHbfp",
    "outputId": "307a82ae-7f9a-480e-e860-5f7d3e8f704e"
   },
   "outputs": [],
   "source": [
    "parametros = {'C'      : np.arange(1, 5, 1),\n",
    "            'gamma'  : np.arange(1, 5, 1),\n",
    "           'kernel' : ['rbf', 'linear','sigmoid']}\n",
    "\n",
    "from sklearn.svm import SVC\n",
    "from sklearn.model_selection import GridSearchCV\n",
    "\n",
    "clf = SVC(class_weight='balanced', random_state=325)  \n",
    "grid_search = GridSearchCV(clf, parametros, n_jobs=-1, cv=5) "
   ]
  },
  {
   "cell_type": "code",
   "execution_count": 235,
   "metadata": {
    "colab": {
     "base_uri": "https://localhost:8080/"
    },
    "id": "SUi0O17NHbfp",
    "outputId": "032cb212-6354-42cf-f6da-052107dd42cd"
   },
   "outputs": [
    {
     "data": {
      "text/html": [
       "<style>#sk-container-id-17 {color: black;background-color: white;}#sk-container-id-17 pre{padding: 0;}#sk-container-id-17 div.sk-toggleable {background-color: white;}#sk-container-id-17 label.sk-toggleable__label {cursor: pointer;display: block;width: 100%;margin-bottom: 0;padding: 0.3em;box-sizing: border-box;text-align: center;}#sk-container-id-17 label.sk-toggleable__label-arrow:before {content: \"▸\";float: left;margin-right: 0.25em;color: #696969;}#sk-container-id-17 label.sk-toggleable__label-arrow:hover:before {color: black;}#sk-container-id-17 div.sk-estimator:hover label.sk-toggleable__label-arrow:before {color: black;}#sk-container-id-17 div.sk-toggleable__content {max-height: 0;max-width: 0;overflow: hidden;text-align: left;background-color: #f0f8ff;}#sk-container-id-17 div.sk-toggleable__content pre {margin: 0.2em;color: black;border-radius: 0.25em;background-color: #f0f8ff;}#sk-container-id-17 input.sk-toggleable__control:checked~div.sk-toggleable__content {max-height: 200px;max-width: 100%;overflow: auto;}#sk-container-id-17 input.sk-toggleable__control:checked~label.sk-toggleable__label-arrow:before {content: \"▾\";}#sk-container-id-17 div.sk-estimator input.sk-toggleable__control:checked~label.sk-toggleable__label {background-color: #d4ebff;}#sk-container-id-17 div.sk-label input.sk-toggleable__control:checked~label.sk-toggleable__label {background-color: #d4ebff;}#sk-container-id-17 input.sk-hidden--visually {border: 0;clip: rect(1px 1px 1px 1px);clip: rect(1px, 1px, 1px, 1px);height: 1px;margin: -1px;overflow: hidden;padding: 0;position: absolute;width: 1px;}#sk-container-id-17 div.sk-estimator {font-family: monospace;background-color: #f0f8ff;border: 1px dotted black;border-radius: 0.25em;box-sizing: border-box;margin-bottom: 0.5em;}#sk-container-id-17 div.sk-estimator:hover {background-color: #d4ebff;}#sk-container-id-17 div.sk-parallel-item::after {content: \"\";width: 100%;border-bottom: 1px solid gray;flex-grow: 1;}#sk-container-id-17 div.sk-label:hover label.sk-toggleable__label {background-color: #d4ebff;}#sk-container-id-17 div.sk-serial::before {content: \"\";position: absolute;border-left: 1px solid gray;box-sizing: border-box;top: 0;bottom: 0;left: 50%;z-index: 0;}#sk-container-id-17 div.sk-serial {display: flex;flex-direction: column;align-items: center;background-color: white;padding-right: 0.2em;padding-left: 0.2em;position: relative;}#sk-container-id-17 div.sk-item {position: relative;z-index: 1;}#sk-container-id-17 div.sk-parallel {display: flex;align-items: stretch;justify-content: center;background-color: white;position: relative;}#sk-container-id-17 div.sk-item::before, #sk-container-id-17 div.sk-parallel-item::before {content: \"\";position: absolute;border-left: 1px solid gray;box-sizing: border-box;top: 0;bottom: 0;left: 50%;z-index: -1;}#sk-container-id-17 div.sk-parallel-item {display: flex;flex-direction: column;z-index: 1;position: relative;background-color: white;}#sk-container-id-17 div.sk-parallel-item:first-child::after {align-self: flex-end;width: 50%;}#sk-container-id-17 div.sk-parallel-item:last-child::after {align-self: flex-start;width: 50%;}#sk-container-id-17 div.sk-parallel-item:only-child::after {width: 0;}#sk-container-id-17 div.sk-dashed-wrapped {border: 1px dashed gray;margin: 0 0.4em 0.5em 0.4em;box-sizing: border-box;padding-bottom: 0.4em;background-color: white;}#sk-container-id-17 div.sk-label label {font-family: monospace;font-weight: bold;display: inline-block;line-height: 1.2em;}#sk-container-id-17 div.sk-label-container {text-align: center;}#sk-container-id-17 div.sk-container {/* jupyter's `normalize.less` sets `[hidden] { display: none; }` but bootstrap.min.css set `[hidden] { display: none !important; }` so we also need the `!important` here to be able to override the default hidden behavior on the sphinx rendered scikit-learn.org. See: https://github.com/scikit-learn/scikit-learn/issues/21755 */display: inline-block !important;position: relative;}#sk-container-id-17 div.sk-text-repr-fallback {display: none;}</style><div id=\"sk-container-id-17\" class=\"sk-top-container\"><div class=\"sk-text-repr-fallback\"><pre>GridSearchCV(cv=5, estimator=SVC(class_weight=&#x27;balanced&#x27;, random_state=325),\n",
       "             n_jobs=-1,\n",
       "             param_grid={&#x27;C&#x27;: array([1, 2, 3, 4]), &#x27;gamma&#x27;: array([1, 2, 3, 4]),\n",
       "                         &#x27;kernel&#x27;: [&#x27;rbf&#x27;, &#x27;linear&#x27;, &#x27;sigmoid&#x27;]})</pre><b>In a Jupyter environment, please rerun this cell to show the HTML representation or trust the notebook. <br />On GitHub, the HTML representation is unable to render, please try loading this page with nbviewer.org.</b></div><div class=\"sk-container\" hidden><div class=\"sk-item sk-dashed-wrapped\"><div class=\"sk-label-container\"><div class=\"sk-label sk-toggleable\"><input class=\"sk-toggleable__control sk-hidden--visually\" id=\"sk-estimator-id-49\" type=\"checkbox\" ><label for=\"sk-estimator-id-49\" class=\"sk-toggleable__label sk-toggleable__label-arrow\">GridSearchCV</label><div class=\"sk-toggleable__content\"><pre>GridSearchCV(cv=5, estimator=SVC(class_weight=&#x27;balanced&#x27;, random_state=325),\n",
       "             n_jobs=-1,\n",
       "             param_grid={&#x27;C&#x27;: array([1, 2, 3, 4]), &#x27;gamma&#x27;: array([1, 2, 3, 4]),\n",
       "                         &#x27;kernel&#x27;: [&#x27;rbf&#x27;, &#x27;linear&#x27;, &#x27;sigmoid&#x27;]})</pre></div></div></div><div class=\"sk-parallel\"><div class=\"sk-parallel-item\"><div class=\"sk-item\"><div class=\"sk-label-container\"><div class=\"sk-label sk-toggleable\"><input class=\"sk-toggleable__control sk-hidden--visually\" id=\"sk-estimator-id-50\" type=\"checkbox\" ><label for=\"sk-estimator-id-50\" class=\"sk-toggleable__label sk-toggleable__label-arrow\">estimator: SVC</label><div class=\"sk-toggleable__content\"><pre>SVC(class_weight=&#x27;balanced&#x27;, random_state=325)</pre></div></div></div><div class=\"sk-serial\"><div class=\"sk-item\"><div class=\"sk-estimator sk-toggleable\"><input class=\"sk-toggleable__control sk-hidden--visually\" id=\"sk-estimator-id-51\" type=\"checkbox\" ><label for=\"sk-estimator-id-51\" class=\"sk-toggleable__label sk-toggleable__label-arrow\">SVC</label><div class=\"sk-toggleable__content\"><pre>SVC(class_weight=&#x27;balanced&#x27;, random_state=325)</pre></div></div></div></div></div></div></div></div></div></div>"
      ],
      "text/plain": [
       "GridSearchCV(cv=5, estimator=SVC(class_weight='balanced', random_state=325),\n",
       "             n_jobs=-1,\n",
       "             param_grid={'C': array([1, 2, 3, 4]), 'gamma': array([1, 2, 3, 4]),\n",
       "                         'kernel': ['rbf', 'linear', 'sigmoid']})"
      ]
     },
     "execution_count": 235,
     "metadata": {},
     "output_type": "execute_result"
    }
   ],
   "source": [
    "grid_search.fit(X_train_smote, Y_train_smote)"
   ]
  },
  {
   "cell_type": "code",
   "execution_count": 236,
   "metadata": {
    "colab": {
     "base_uri": "https://localhost:8080/"
    },
    "id": "8sAqPkRxHbfp",
    "outputId": "58133986-019f-4597-a75c-8cb803050458"
   },
   "outputs": [
    {
     "name": "stdout",
     "output_type": "stream",
     "text": [
      "El mejor modelo:\n",
      " {'C': 1, 'gamma': 1, 'kernel': 'linear'}\n"
     ]
    }
   ],
   "source": [
    "print('El mejor modelo:\\n', grid_search.best_params_)"
   ]
  },
  {
   "cell_type": "code",
   "execution_count": 237,
   "metadata": {
    "id": "h-pKQe3iHbfp"
   },
   "outputs": [],
   "source": [
    "clf_best = grid_search.best_estimator_\n",
    "pred = clf_best.predict(X_test_smote)"
   ]
  },
  {
   "cell_type": "code",
   "execution_count": 238,
   "metadata": {
    "colab": {
     "base_uri": "https://localhost:8080/"
    },
    "id": "ncSVuP9xHbfp",
    "outputId": "4e9a830f-29e5-4941-acd0-89ec9b198156"
   },
   "outputs": [
    {
     "name": "stdout",
     "output_type": "stream",
     "text": [
      "              precision    recall  f1-score   support\n",
      "\n",
      "           0       0.95      0.94      0.95       212\n",
      "           1       0.94      0.95      0.94       189\n",
      "\n",
      "    accuracy                           0.95       401\n",
      "   macro avg       0.94      0.95      0.94       401\n",
      "weighted avg       0.95      0.95      0.95       401\n",
      "\n"
     ]
    }
   ],
   "source": [
    "from sklearn.metrics import classification_report\n",
    "print(classification_report(Y_test_smote, pred))"
   ]
  },
  {
   "cell_type": "code",
   "execution_count": 239,
   "metadata": {
    "colab": {
     "base_uri": "https://localhost:8080/",
     "height": 347
    },
    "id": "EY82NHCNHbfp",
    "outputId": "8538868c-bcc8-4f65-dc7d-8de868a9f9e5"
   },
   "outputs": [
    {
     "name": "stdout",
     "output_type": "stream",
     "text": [
      "Matriz de Confusión\n",
      "[[200  12]\n",
      " [ 10 179]]\n"
     ]
    },
    {
     "data": {
      "image/png": "[encoded data removed]",
      "text/plain": [
       "<Figure size 432x288 with 2 Axes>"
      ]
     },
     "metadata": {
      "needs_background": "light"
     },
     "output_type": "display_data"
    }
   ],
   "source": [
    "from sklearn.metrics import ConfusionMatrixDisplay\n",
    "\n",
    "\n",
    "disp = ConfusionMatrixDisplay.from_estimator(\n",
    "       clf_best,\n",
    "       X_test_smote,\n",
    "       Y_test_smote,\n",
    "       display_labels=None,\n",
    "       cmap=plt.cm.Blues,\n",
    "       normalize=None)\n",
    "\n",
    "disp.ax_.set_title('Matriz de Confusión')\n",
    "disp.ax_.set_xlabel('Predicción');\n",
    "disp.ax_.set_ylabel('Realidad'); \n",
    "disp.ax_.xaxis.set_ticklabels(['0', '1']); \n",
    "disp.ax_.yaxis.set_ticklabels(['0', '1']);\n",
    "\n",
    "print('Matriz de Confusión')\n",
    "print(disp.confusion_matrix)\n",
    "\n",
    "plt.show()"
   ]
  },
  {
   "cell_type": "markdown",
   "metadata": {
    "id": "H3wkDc44Hbfq"
   },
   "source": [
    "### Nusvm"
   ]
  },
  {
   "cell_type": "markdown",
   "metadata": {
    "id": "xR8o1ufcHbfq"
   },
   "source": [
    "### Caso 1"
   ]
  },
  {
   "cell_type": "code",
   "execution_count": 240,
   "metadata": {
    "id": "Oab_ozfBHbfq"
   },
   "outputs": [],
   "source": [
    "parametros = {'nu'      : np.arange(0, 1, 0.1),\n",
    "            'gamma'  : ['scale','auto'],\n",
    "           'kernel' : ['rbf', 'linear','sigmoid']}\n",
    "\n",
    "from sklearn.svm import NuSVC\n",
    "from sklearn.model_selection import GridSearchCV\n",
    "\n",
    "clf = NuSVC(class_weight='balanced', random_state=325)  \n",
    "grid_search = GridSearchCV(clf, parametros, n_jobs=-1, cv=5) "
   ]
  },
  {
   "cell_type": "code",
   "execution_count": 241,
   "metadata": {
    "colab": {
     "base_uri": "https://localhost:8080/"
    },
    "id": "R4rGgfkkHbfq",
    "outputId": "af45cf71-d2fa-418c-a8e4-078761177798"
   },
   "outputs": [
    {
     "data": {
      "text/html": [
       "<style>#sk-container-id-18 {color: black;background-color: white;}#sk-container-id-18 pre{padding: 0;}#sk-container-id-18 div.sk-toggleable {background-color: white;}#sk-container-id-18 label.sk-toggleable__label {cursor: pointer;display: block;width: 100%;margin-bottom: 0;padding: 0.3em;box-sizing: border-box;text-align: center;}#sk-container-id-18 label.sk-toggleable__label-arrow:before {content: \"▸\";float: left;margin-right: 0.25em;color: #696969;}#sk-container-id-18 label.sk-toggleable__label-arrow:hover:before {color: black;}#sk-container-id-18 div.sk-estimator:hover label.sk-toggleable__label-arrow:before {color: black;}#sk-container-id-18 div.sk-toggleable__content {max-height: 0;max-width: 0;overflow: hidden;text-align: left;background-color: #f0f8ff;}#sk-container-id-18 div.sk-toggleable__content pre {margin: 0.2em;color: black;border-radius: 0.25em;background-color: #f0f8ff;}#sk-container-id-18 input.sk-toggleable__control:checked~div.sk-toggleable__content {max-height: 200px;max-width: 100%;overflow: auto;}#sk-container-id-18 input.sk-toggleable__control:checked~label.sk-toggleable__label-arrow:before {content: \"▾\";}#sk-container-id-18 div.sk-estimator input.sk-toggleable__control:checked~label.sk-toggleable__label {background-color: #d4ebff;}#sk-container-id-18 div.sk-label input.sk-toggleable__control:checked~label.sk-toggleable__label {background-color: #d4ebff;}#sk-container-id-18 input.sk-hidden--visually {border: 0;clip: rect(1px 1px 1px 1px);clip: rect(1px, 1px, 1px, 1px);height: 1px;margin: -1px;overflow: hidden;padding: 0;position: absolute;width: 1px;}#sk-container-id-18 div.sk-estimator {font-family: monospace;background-color: #f0f8ff;border: 1px dotted black;border-radius: 0.25em;box-sizing: border-box;margin-bottom: 0.5em;}#sk-container-id-18 div.sk-estimator:hover {background-color: #d4ebff;}#sk-container-id-18 div.sk-parallel-item::after {content: \"\";width: 100%;border-bottom: 1px solid gray;flex-grow: 1;}#sk-container-id-18 div.sk-label:hover label.sk-toggleable__label {background-color: #d4ebff;}#sk-container-id-18 div.sk-serial::before {content: \"\";position: absolute;border-left: 1px solid gray;box-sizing: border-box;top: 0;bottom: 0;left: 50%;z-index: 0;}#sk-container-id-18 div.sk-serial {display: flex;flex-direction: column;align-items: center;background-color: white;padding-right: 0.2em;padding-left: 0.2em;position: relative;}#sk-container-id-18 div.sk-item {position: relative;z-index: 1;}#sk-container-id-18 div.sk-parallel {display: flex;align-items: stretch;justify-content: center;background-color: white;position: relative;}#sk-container-id-18 div.sk-item::before, #sk-container-id-18 div.sk-parallel-item::before {content: \"\";position: absolute;border-left: 1px solid gray;box-sizing: border-box;top: 0;bottom: 0;left: 50%;z-index: -1;}#sk-container-id-18 div.sk-parallel-item {display: flex;flex-direction: column;z-index: 1;position: relative;background-color: white;}#sk-container-id-18 div.sk-parallel-item:first-child::after {align-self: flex-end;width: 50%;}#sk-container-id-18 div.sk-parallel-item:last-child::after {align-self: flex-start;width: 50%;}#sk-container-id-18 div.sk-parallel-item:only-child::after {width: 0;}#sk-container-id-18 div.sk-dashed-wrapped {border: 1px dashed gray;margin: 0 0.4em 0.5em 0.4em;box-sizing: border-box;padding-bottom: 0.4em;background-color: white;}#sk-container-id-18 div.sk-label label {font-family: monospace;font-weight: bold;display: inline-block;line-height: 1.2em;}#sk-container-id-18 div.sk-label-container {text-align: center;}#sk-container-id-18 div.sk-container {/* jupyter's `normalize.less` sets `[hidden] { display: none; }` but bootstrap.min.css set `[hidden] { display: none !important; }` so we also need the `!important` here to be able to override the default hidden behavior on the sphinx rendered scikit-learn.org. See: https://github.com/scikit-learn/scikit-learn/issues/21755 */display: inline-block !important;position: relative;}#sk-container-id-18 div.sk-text-repr-fallback {display: none;}</style><div id=\"sk-container-id-18\" class=\"sk-top-container\"><div class=\"sk-text-repr-fallback\"><pre>GridSearchCV(cv=5, estimator=NuSVC(class_weight=&#x27;balanced&#x27;, random_state=325),\n",
       "             n_jobs=-1,\n",
       "             param_grid={&#x27;gamma&#x27;: [&#x27;scale&#x27;, &#x27;auto&#x27;],\n",
       "                         &#x27;kernel&#x27;: [&#x27;rbf&#x27;, &#x27;linear&#x27;, &#x27;sigmoid&#x27;],\n",
       "                         &#x27;nu&#x27;: array([0. , 0.1, 0.2, 0.3, 0.4, 0.5, 0.6, 0.7, 0.8, 0.9])})</pre><b>In a Jupyter environment, please rerun this cell to show the HTML representation or trust the notebook. <br />On GitHub, the HTML representation is unable to render, please try loading this page with nbviewer.org.</b></div><div class=\"sk-container\" hidden><div class=\"sk-item sk-dashed-wrapped\"><div class=\"sk-label-container\"><div class=\"sk-label sk-toggleable\"><input class=\"sk-toggleable__control sk-hidden--visually\" id=\"sk-estimator-id-52\" type=\"checkbox\" ><label for=\"sk-estimator-id-52\" class=\"sk-toggleable__label sk-toggleable__label-arrow\">GridSearchCV</label><div class=\"sk-toggleable__content\"><pre>GridSearchCV(cv=5, estimator=NuSVC(class_weight=&#x27;balanced&#x27;, random_state=325),\n",
       "             n_jobs=-1,\n",
       "             param_grid={&#x27;gamma&#x27;: [&#x27;scale&#x27;, &#x27;auto&#x27;],\n",
       "                         &#x27;kernel&#x27;: [&#x27;rbf&#x27;, &#x27;linear&#x27;, &#x27;sigmoid&#x27;],\n",
       "                         &#x27;nu&#x27;: array([0. , 0.1, 0.2, 0.3, 0.4, 0.5, 0.6, 0.7, 0.8, 0.9])})</pre></div></div></div><div class=\"sk-parallel\"><div class=\"sk-parallel-item\"><div class=\"sk-item\"><div class=\"sk-label-container\"><div class=\"sk-label sk-toggleable\"><input class=\"sk-toggleable__control sk-hidden--visually\" id=\"sk-estimator-id-53\" type=\"checkbox\" ><label for=\"sk-estimator-id-53\" class=\"sk-toggleable__label sk-toggleable__label-arrow\">estimator: NuSVC</label><div class=\"sk-toggleable__content\"><pre>NuSVC(class_weight=&#x27;balanced&#x27;, random_state=325)</pre></div></div></div><div class=\"sk-serial\"><div class=\"sk-item\"><div class=\"sk-estimator sk-toggleable\"><input class=\"sk-toggleable__control sk-hidden--visually\" id=\"sk-estimator-id-54\" type=\"checkbox\" ><label for=\"sk-estimator-id-54\" class=\"sk-toggleable__label sk-toggleable__label-arrow\">NuSVC</label><div class=\"sk-toggleable__content\"><pre>NuSVC(class_weight=&#x27;balanced&#x27;, random_state=325)</pre></div></div></div></div></div></div></div></div></div></div>"
      ],
      "text/plain": [
       "GridSearchCV(cv=5, estimator=NuSVC(class_weight='balanced', random_state=325),\n",
       "             n_jobs=-1,\n",
       "             param_grid={'gamma': ['scale', 'auto'],\n",
       "                         'kernel': ['rbf', 'linear', 'sigmoid'],\n",
       "                         'nu': array([0. , 0.1, 0.2, 0.3, 0.4, 0.5, 0.6, 0.7, 0.8, 0.9])})"
      ]
     },
     "execution_count": 241,
     "metadata": {},
     "output_type": "execute_result"
    }
   ],
   "source": [
    "grid_search.fit(X_train_smote, Y_train_smote)"
   ]
  },
  {
   "cell_type": "code",
   "execution_count": 242,
   "metadata": {
    "colab": {
     "base_uri": "https://localhost:8080/"
    },
    "id": "8S0fgvFzHbfq",
    "outputId": "a0938979-7150-466f-c103-a281a6fd873b"
   },
   "outputs": [
    {
     "name": "stdout",
     "output_type": "stream",
     "text": [
      "El mejor modelo:\n",
      " {'gamma': 'scale', 'kernel': 'linear', 'nu': 0.2}\n"
     ]
    }
   ],
   "source": [
    "print('El mejor modelo:\\n', grid_search.best_params_)"
   ]
  },
  {
   "cell_type": "code",
   "execution_count": 243,
   "metadata": {
    "id": "KOqbADFnHbfq"
   },
   "outputs": [],
   "source": [
    "clf_best = grid_search.best_estimator_\n",
    "pred = clf_best.predict(X_test_smote)"
   ]
  },
  {
   "cell_type": "code",
   "execution_count": 244,
   "metadata": {
    "colab": {
     "base_uri": "https://localhost:8080/"
    },
    "id": "dMjFrpx6Hbfr",
    "outputId": "0d2f671b-9d91-4e94-fd22-75f8f1dfc54b"
   },
   "outputs": [
    {
     "name": "stdout",
     "output_type": "stream",
     "text": [
      "              precision    recall  f1-score   support\n",
      "\n",
      "           0       0.95      0.93      0.94       212\n",
      "           1       0.93      0.95      0.94       189\n",
      "\n",
      "    accuracy                           0.94       401\n",
      "   macro avg       0.94      0.94      0.94       401\n",
      "weighted avg       0.94      0.94      0.94       401\n",
      "\n"
     ]
    }
   ],
   "source": [
    "from sklearn.metrics import classification_report\n",
    "\n",
    "print(classification_report(Y_test_smote, pred))"
   ]
  },
  {
   "cell_type": "code",
   "execution_count": 245,
   "metadata": {
    "colab": {
     "base_uri": "https://localhost:8080/",
     "height": 347
    },
    "id": "bwPlGbubHbfr",
    "outputId": "4e0fff11-38d8-495c-f201-59b46c2ed91a"
   },
   "outputs": [
    {
     "name": "stdout",
     "output_type": "stream",
     "text": [
      "Matriz de Confusión\n",
      "[[198  14]\n",
      " [ 10 179]]\n"
     ]
    },
    {
     "data": {
      "image/png": "[encoded data removed]",
      "text/plain": [
       "<Figure size 432x288 with 2 Axes>"
      ]
     },
     "metadata": {
      "needs_background": "light"
     },
     "output_type": "display_data"
    }
   ],
   "source": [
    "from sklearn.metrics import ConfusionMatrixDisplay\n",
    "\n",
    "\n",
    "disp = ConfusionMatrixDisplay.from_estimator(\n",
    "       clf_best,\n",
    "       X_test_smote,\n",
    "       Y_test_smote,\n",
    "       display_labels=None,\n",
    "       cmap=plt.cm.Blues,\n",
    "       normalize=None)\n",
    "\n",
    "disp.ax_.set_title('Matriz de Confusión')\n",
    "disp.ax_.set_xlabel('Predicción');\n",
    "disp.ax_.set_ylabel('Realidad'); \n",
    "disp.ax_.xaxis.set_ticklabels(['0', '1']); \n",
    "disp.ax_.yaxis.set_ticklabels(['0', '1']);\n",
    "\n",
    "print('Matriz de Confusión')\n",
    "print(disp.confusion_matrix)\n",
    "\n",
    "plt.show()"
   ]
  },
  {
   "cell_type": "markdown",
   "metadata": {
    "id": "S87CMMgoHbfr"
   },
   "source": []
  },
  {
   "cell_type": "markdown",
   "metadata": {
    "id": "dedKWSeDHbfr"
   },
   "source": [
    "##SECCION CON DATOS SIN PREPROCESAR"
   ]
  },
  {
   "cell_type": "markdown",
   "metadata": {
    "id": "COx2-KUvHbfr"
   },
   "source": [
    "## transformar texto(Embeding) Sin preprocesamiento de texto"
   ]
  },
  {
   "cell_type": "code",
   "execution_count": 271,
   "metadata": {
    "colab": {
     "base_uri": "https://localhost:8080/",
     "height": 424
    },
    "id": "YlCmiP2GHbfr",
    "outputId": "ca9c6d90-aad5-4063-d8b8-6a4b18c7e790"
   },
   "outputs": [
    {
     "data": {
      "text/html": [
       "<div>\n",
       "<style scoped>\n",
       "    .dataframe tbody tr th:only-of-type {\n",
       "        vertical-align: middle;\n",
       "    }\n",
       "\n",
       "    .dataframe tbody tr th {\n",
       "        vertical-align: top;\n",
       "    }\n",
       "\n",
       "    .dataframe thead th {\n",
       "        text-align: right;\n",
       "    }\n",
       "</style>\n",
       "<table border=\"1\" class=\"dataframe\">\n",
       "  <thead>\n",
       "    <tr style=\"text-align: right;\">\n",
       "      <th></th>\n",
       "      <th>resultado</th>\n",
       "      <th>mensaje</th>\n",
       "    </tr>\n",
       "  </thead>\n",
       "  <tbody>\n",
       "    <tr>\n",
       "      <th>0</th>\n",
       "      <td>0</td>\n",
       "      <td>Free entry in 2 a wkly comp to win FA Cup fina...</td>\n",
       "    </tr>\n",
       "    <tr>\n",
       "      <th>1</th>\n",
       "      <td>0</td>\n",
       "      <td>FreeMsg Hey there darling it's been 3 week's n...</td>\n",
       "    </tr>\n",
       "    <tr>\n",
       "      <th>2</th>\n",
       "      <td>1</td>\n",
       "      <td>As per your request 'Melle Melle (Oru Minnamin...</td>\n",
       "    </tr>\n",
       "    <tr>\n",
       "      <th>3</th>\n",
       "      <td>0</td>\n",
       "      <td>WINNER!! As a valued network customer you have...</td>\n",
       "    </tr>\n",
       "    <tr>\n",
       "      <th>4</th>\n",
       "      <td>0</td>\n",
       "      <td>Had your mobile 11 months or more? U R entitle...</td>\n",
       "    </tr>\n",
       "    <tr>\n",
       "      <th>...</th>\n",
       "      <td>...</td>\n",
       "      <td>...</td>\n",
       "    </tr>\n",
       "    <tr>\n",
       "      <th>1285</th>\n",
       "      <td>0</td>\n",
       "      <td>Had your contract mobile 11 Mnths? Latest Moto...</td>\n",
       "    </tr>\n",
       "    <tr>\n",
       "      <th>1286</th>\n",
       "      <td>1</td>\n",
       "      <td>Yeh. Indians was nice. Tho it did kane me off ...</td>\n",
       "    </tr>\n",
       "    <tr>\n",
       "      <th>1287</th>\n",
       "      <td>0</td>\n",
       "      <td>REMINDER FROM O2: To get 2.50 pounds free call...</td>\n",
       "    </tr>\n",
       "    <tr>\n",
       "      <th>1288</th>\n",
       "      <td>0</td>\n",
       "      <td>This is the 2nd time we have tried 2 contact u...</td>\n",
       "    </tr>\n",
       "    <tr>\n",
       "      <th>1289</th>\n",
       "      <td>1</td>\n",
       "      <td>The guy did some bitching but I acted like i'd...</td>\n",
       "    </tr>\n",
       "  </tbody>\n",
       "</table>\n",
       "<p>1290 rows × 2 columns</p>\n",
       "</div>"
      ],
      "text/plain": [
       "      resultado                                            mensaje\n",
       "0             0  Free entry in 2 a wkly comp to win FA Cup fina...\n",
       "1             0  FreeMsg Hey there darling it's been 3 week's n...\n",
       "2             1  As per your request 'Melle Melle (Oru Minnamin...\n",
       "3             0  WINNER!! As a valued network customer you have...\n",
       "4             0  Had your mobile 11 months or more? U R entitle...\n",
       "...         ...                                                ...\n",
       "1285          0  Had your contract mobile 11 Mnths? Latest Moto...\n",
       "1286          1  Yeh. Indians was nice. Tho it did kane me off ...\n",
       "1287          0  REMINDER FROM O2: To get 2.50 pounds free call...\n",
       "1288          0  This is the 2nd time we have tried 2 contact u...\n",
       "1289          1  The guy did some bitching but I acted like i'd...\n",
       "\n",
       "[1290 rows x 2 columns]"
      ]
     },
     "execution_count": 271,
     "metadata": {},
     "output_type": "execute_result"
    }
   ],
   "source": [
    "df"
   ]
  },
  {
   "cell_type": "code",
   "execution_count": 246,
   "metadata": {
    "id": "tcm32eoXHbfr"
   },
   "outputs": [],
   "source": [
    "# 4to paso: Vamos a crear dos variables que cargaran en memoria dos funciones para transformar el texto\n",
    "##\n",
    "##   - preprocessor: \"objeto\" que se encargará de transformar el texto en el formato que necesita el modelo BERT para funcionar\n",
    "##   - encoder: \"objeto\" que será el modelo BERT y se alimentará del resultado de preprocessor, retornando el texto transformado en un vector numérico.\n",
    "\n",
    "preprocessor = hub.load(\"https://tfhub.dev/tensorflow/bert_en_uncased_preprocess/3\")\n",
    "encoder = hub.load(\"https://tfhub.dev/tensorflow/bert_en_uncased_L-24_H-1024_A-16/4\")"
   ]
  },
  {
   "cell_type": "code",
   "execution_count": 247,
   "metadata": {
    "id": "qIE11--uHbfr"
   },
   "outputs": [],
   "source": [
    "# 5to paso: Vamos a usar el objeto preprocessor, y guardamos su resultado en la variable embedding\n",
    "##   A modo de ejemplo para su revisión, solo vamos a transformar dos textos:\n",
    "\n",
    "embedding = preprocessor(df['mensaje']) # df['mensaje'] es el texto"
   ]
  },
  {
   "cell_type": "code",
   "execution_count": 248,
   "metadata": {
    "id": "ALLJxdomHbfr"
   },
   "outputs": [],
   "source": [
    "# 6to paso: Vamos a codificar el texto con el modelo BERT:\n",
    "##   - Fijarse que el objeto encoder recibe como argumento la variable embedding (resultado de preprocessor)\n",
    "##   - Copiar el siguiente código de forma literal\n",
    "\n",
    "pooled_output = encoder(embedding)[\"pooled_output\"]"
   ]
  },
  {
   "cell_type": "code",
   "execution_count": 249,
   "metadata": {
    "colab": {
     "base_uri": "https://localhost:8080/"
    },
    "id": "gJKybjNAHbfr",
    "outputId": "f2590e9f-1745-4d7d-fb66-ccc37b1fee4d"
   },
   "outputs": [
    {
     "data": {
      "text/plain": [
       "<tf.Tensor: shape=(1290, 1024), dtype=float32, numpy=\n",
       "array([[-0.9985208 , -0.9778116 ,  0.99997777, ..., -0.98706186,\n",
       "         0.993665  , -0.97475094],\n",
       "       [-0.9969714 , -0.9753213 ,  0.99988556, ..., -0.98628354,\n",
       "         0.9764625 , -0.94500923],\n",
       "       [-0.99930805, -0.99558157,  0.99999803, ..., -0.9995538 ,\n",
       "         0.98647964, -0.9863099 ],\n",
       "       ...,\n",
       "       [-0.9901181 , -0.9637922 ,  0.99993044, ..., -0.9984252 ,\n",
       "         0.94072944, -0.9772395 ],\n",
       "       [-0.9993574 , -0.9955797 ,  0.99999934, ..., -0.99989915,\n",
       "         0.99548984, -0.9960056 ],\n",
       "       [ 0.75697905, -0.16161178,  0.9103952 , ..., -0.9734895 ,\n",
       "         0.62785506, -0.81368935]], dtype=float32)>"
      ]
     },
     "execution_count": 249,
     "metadata": {},
     "output_type": "execute_result"
    }
   ],
   "source": [
    "# Opcional: revisamos el contenido de la variable pooled_output, el cual tiene dos vectores de 128 dimensiones\n",
    "##\n",
    "##    - Dos vectores, porque le pasamos solo dos textos\n",
    "##    - 128 dimensiones, porque el modelo BERT utilizado convierte cualquier texto (independiente del largo) en un vector numérico de 128 dimensiones.\n",
    "\n",
    "pooled_output"
   ]
  },
  {
   "cell_type": "code",
   "execution_count": 250,
   "metadata": {
    "id": "r0_Er2FhHbfr"
   },
   "outputs": [],
   "source": [
    "# 7mo paso: El contenido de la variable pooled_output es una estructura de datos de tipo tensorflow.\n",
    "#           Para transformarlo a un dataframe y usarlo de forma tradicional con los modelos clásicos, \n",
    "#           ejecutamos la siguiente linea de código:\n",
    "\n",
    "dataX2 = pd.DataFrame(pooled_output.numpy())"
   ]
  },
  {
   "cell_type": "code",
   "execution_count": 251,
   "metadata": {
    "colab": {
     "base_uri": "https://localhost:8080/"
    },
    "id": "CPGPqMJKHbfs",
    "outputId": "4cb7745c-7338-4562-e901-d2ae0c765079"
   },
   "outputs": [
    {
     "data": {
      "text/plain": [
       "(1290, 1024)"
      ]
     },
     "execution_count": 251,
     "metadata": {},
     "output_type": "execute_result"
    }
   ],
   "source": [
    "# Opcional:  Ahora la variable dataX es un dataframe y podemos revisar su dimensionalidad y visualizarlo:\n",
    "dataX2.shape"
   ]
  },
  {
   "cell_type": "code",
   "execution_count": 252,
   "metadata": {
    "colab": {
     "base_uri": "https://localhost:8080/",
     "height": 424
    },
    "id": "aQpSETspHbfs",
    "outputId": "e4388245-7a3d-43c4-8dc6-b35654a87308"
   },
   "outputs": [
    {
     "data": {
      "text/html": [
       "<div>\n",
       "<style scoped>\n",
       "    .dataframe tbody tr th:only-of-type {\n",
       "        vertical-align: middle;\n",
       "    }\n",
       "\n",
       "    .dataframe tbody tr th {\n",
       "        vertical-align: top;\n",
       "    }\n",
       "\n",
       "    .dataframe thead th {\n",
       "        text-align: right;\n",
       "    }\n",
       "</style>\n",
       "<table border=\"1\" class=\"dataframe\">\n",
       "  <thead>\n",
       "    <tr style=\"text-align: right;\">\n",
       "      <th></th>\n",
       "      <th>0</th>\n",
       "      <th>1</th>\n",
       "      <th>2</th>\n",
       "      <th>3</th>\n",
       "      <th>4</th>\n",
       "      <th>5</th>\n",
       "      <th>6</th>\n",
       "      <th>7</th>\n",
       "      <th>8</th>\n",
       "      <th>9</th>\n",
       "      <th>...</th>\n",
       "      <th>1014</th>\n",
       "      <th>1015</th>\n",
       "      <th>1016</th>\n",
       "      <th>1017</th>\n",
       "      <th>1018</th>\n",
       "      <th>1019</th>\n",
       "      <th>1020</th>\n",
       "      <th>1021</th>\n",
       "      <th>1022</th>\n",
       "      <th>1023</th>\n",
       "    </tr>\n",
       "  </thead>\n",
       "  <tbody>\n",
       "    <tr>\n",
       "      <th>0</th>\n",
       "      <td>-0.998521</td>\n",
       "      <td>-0.977812</td>\n",
       "      <td>0.999978</td>\n",
       "      <td>-0.964199</td>\n",
       "      <td>-0.998738</td>\n",
       "      <td>0.979337</td>\n",
       "      <td>-0.999133</td>\n",
       "      <td>0.998487</td>\n",
       "      <td>0.985282</td>\n",
       "      <td>-0.996852</td>\n",
       "      <td>...</td>\n",
       "      <td>-0.868732</td>\n",
       "      <td>-0.975271</td>\n",
       "      <td>-0.841749</td>\n",
       "      <td>0.996253</td>\n",
       "      <td>0.999977</td>\n",
       "      <td>-0.911934</td>\n",
       "      <td>0.997448</td>\n",
       "      <td>-0.987062</td>\n",
       "      <td>0.993665</td>\n",
       "      <td>-0.974751</td>\n",
       "    </tr>\n",
       "    <tr>\n",
       "      <th>1</th>\n",
       "      <td>-0.996971</td>\n",
       "      <td>-0.975321</td>\n",
       "      <td>0.999886</td>\n",
       "      <td>-0.915449</td>\n",
       "      <td>-0.997295</td>\n",
       "      <td>0.962834</td>\n",
       "      <td>-0.996114</td>\n",
       "      <td>0.995967</td>\n",
       "      <td>0.970371</td>\n",
       "      <td>-0.995907</td>\n",
       "      <td>...</td>\n",
       "      <td>-0.856894</td>\n",
       "      <td>-0.951130</td>\n",
       "      <td>-0.820438</td>\n",
       "      <td>0.994204</td>\n",
       "      <td>0.999829</td>\n",
       "      <td>-0.797655</td>\n",
       "      <td>0.995056</td>\n",
       "      <td>-0.986284</td>\n",
       "      <td>0.976462</td>\n",
       "      <td>-0.945009</td>\n",
       "    </tr>\n",
       "    <tr>\n",
       "      <th>2</th>\n",
       "      <td>-0.999308</td>\n",
       "      <td>-0.995582</td>\n",
       "      <td>0.999998</td>\n",
       "      <td>-0.979826</td>\n",
       "      <td>-0.999715</td>\n",
       "      <td>0.976332</td>\n",
       "      <td>-0.999566</td>\n",
       "      <td>0.999564</td>\n",
       "      <td>0.993017</td>\n",
       "      <td>-0.999586</td>\n",
       "      <td>...</td>\n",
       "      <td>-0.991583</td>\n",
       "      <td>-0.826302</td>\n",
       "      <td>-0.357718</td>\n",
       "      <td>0.997855</td>\n",
       "      <td>0.999999</td>\n",
       "      <td>-0.443400</td>\n",
       "      <td>0.998930</td>\n",
       "      <td>-0.999554</td>\n",
       "      <td>0.986480</td>\n",
       "      <td>-0.986310</td>\n",
       "    </tr>\n",
       "    <tr>\n",
       "      <th>3</th>\n",
       "      <td>-0.998409</td>\n",
       "      <td>-0.991969</td>\n",
       "      <td>1.000000</td>\n",
       "      <td>-0.998928</td>\n",
       "      <td>-0.999965</td>\n",
       "      <td>0.903449</td>\n",
       "      <td>-0.999979</td>\n",
       "      <td>0.999986</td>\n",
       "      <td>0.998539</td>\n",
       "      <td>-0.999765</td>\n",
       "      <td>...</td>\n",
       "      <td>-0.999690</td>\n",
       "      <td>-0.846565</td>\n",
       "      <td>0.106677</td>\n",
       "      <td>0.998042</td>\n",
       "      <td>1.000000</td>\n",
       "      <td>0.342706</td>\n",
       "      <td>0.999764</td>\n",
       "      <td>-0.999980</td>\n",
       "      <td>0.995692</td>\n",
       "      <td>-0.997616</td>\n",
       "    </tr>\n",
       "    <tr>\n",
       "      <th>4</th>\n",
       "      <td>-0.998452</td>\n",
       "      <td>-0.991349</td>\n",
       "      <td>0.999991</td>\n",
       "      <td>-0.983656</td>\n",
       "      <td>-0.999580</td>\n",
       "      <td>0.968054</td>\n",
       "      <td>-0.999399</td>\n",
       "      <td>0.999721</td>\n",
       "      <td>0.991862</td>\n",
       "      <td>-0.997789</td>\n",
       "      <td>...</td>\n",
       "      <td>-0.995037</td>\n",
       "      <td>-0.691443</td>\n",
       "      <td>-0.076455</td>\n",
       "      <td>0.997780</td>\n",
       "      <td>0.999997</td>\n",
       "      <td>0.103970</td>\n",
       "      <td>0.998682</td>\n",
       "      <td>-0.999661</td>\n",
       "      <td>0.987522</td>\n",
       "      <td>-0.985996</td>\n",
       "    </tr>\n",
       "    <tr>\n",
       "      <th>...</th>\n",
       "      <td>...</td>\n",
       "      <td>...</td>\n",
       "      <td>...</td>\n",
       "      <td>...</td>\n",
       "      <td>...</td>\n",
       "      <td>...</td>\n",
       "      <td>...</td>\n",
       "      <td>...</td>\n",
       "      <td>...</td>\n",
       "      <td>...</td>\n",
       "      <td>...</td>\n",
       "      <td>...</td>\n",
       "      <td>...</td>\n",
       "      <td>...</td>\n",
       "      <td>...</td>\n",
       "      <td>...</td>\n",
       "      <td>...</td>\n",
       "      <td>...</td>\n",
       "      <td>...</td>\n",
       "      <td>...</td>\n",
       "      <td>...</td>\n",
       "    </tr>\n",
       "    <tr>\n",
       "      <th>1285</th>\n",
       "      <td>-0.999563</td>\n",
       "      <td>-0.994025</td>\n",
       "      <td>0.999999</td>\n",
       "      <td>-0.993369</td>\n",
       "      <td>-0.999691</td>\n",
       "      <td>0.976105</td>\n",
       "      <td>-0.999819</td>\n",
       "      <td>0.999822</td>\n",
       "      <td>0.995607</td>\n",
       "      <td>-0.999325</td>\n",
       "      <td>...</td>\n",
       "      <td>-0.993663</td>\n",
       "      <td>-0.850796</td>\n",
       "      <td>-0.295458</td>\n",
       "      <td>0.998775</td>\n",
       "      <td>0.999999</td>\n",
       "      <td>-0.215935</td>\n",
       "      <td>0.999308</td>\n",
       "      <td>-0.999671</td>\n",
       "      <td>0.995695</td>\n",
       "      <td>-0.989991</td>\n",
       "    </tr>\n",
       "    <tr>\n",
       "      <th>1286</th>\n",
       "      <td>-0.999792</td>\n",
       "      <td>-0.993090</td>\n",
       "      <td>0.999983</td>\n",
       "      <td>-0.979177</td>\n",
       "      <td>-0.997478</td>\n",
       "      <td>0.991689</td>\n",
       "      <td>-0.998985</td>\n",
       "      <td>0.995944</td>\n",
       "      <td>0.978601</td>\n",
       "      <td>-0.997642</td>\n",
       "      <td>...</td>\n",
       "      <td>-0.911522</td>\n",
       "      <td>-0.765597</td>\n",
       "      <td>-0.503963</td>\n",
       "      <td>0.998457</td>\n",
       "      <td>0.999998</td>\n",
       "      <td>-0.470298</td>\n",
       "      <td>0.998532</td>\n",
       "      <td>-0.998422</td>\n",
       "      <td>0.995331</td>\n",
       "      <td>-0.974166</td>\n",
       "    </tr>\n",
       "    <tr>\n",
       "      <th>1287</th>\n",
       "      <td>-0.990118</td>\n",
       "      <td>-0.963792</td>\n",
       "      <td>0.999930</td>\n",
       "      <td>-0.953986</td>\n",
       "      <td>-0.998873</td>\n",
       "      <td>0.835172</td>\n",
       "      <td>-0.998466</td>\n",
       "      <td>0.997828</td>\n",
       "      <td>0.974195</td>\n",
       "      <td>-0.996158</td>\n",
       "      <td>...</td>\n",
       "      <td>-0.982688</td>\n",
       "      <td>-0.885150</td>\n",
       "      <td>-0.611169</td>\n",
       "      <td>0.987516</td>\n",
       "      <td>0.999959</td>\n",
       "      <td>-0.532729</td>\n",
       "      <td>0.997086</td>\n",
       "      <td>-0.998425</td>\n",
       "      <td>0.940729</td>\n",
       "      <td>-0.977239</td>\n",
       "    </tr>\n",
       "    <tr>\n",
       "      <th>1288</th>\n",
       "      <td>-0.999357</td>\n",
       "      <td>-0.995580</td>\n",
       "      <td>0.999999</td>\n",
       "      <td>-0.996905</td>\n",
       "      <td>-0.999851</td>\n",
       "      <td>0.956323</td>\n",
       "      <td>-0.999960</td>\n",
       "      <td>0.999864</td>\n",
       "      <td>0.997002</td>\n",
       "      <td>-0.999643</td>\n",
       "      <td>...</td>\n",
       "      <td>-0.999327</td>\n",
       "      <td>-0.728010</td>\n",
       "      <td>0.297588</td>\n",
       "      <td>0.999346</td>\n",
       "      <td>1.000000</td>\n",
       "      <td>0.544703</td>\n",
       "      <td>0.999604</td>\n",
       "      <td>-0.999899</td>\n",
       "      <td>0.995490</td>\n",
       "      <td>-0.996006</td>\n",
       "    </tr>\n",
       "    <tr>\n",
       "      <th>1289</th>\n",
       "      <td>0.756979</td>\n",
       "      <td>-0.161612</td>\n",
       "      <td>0.910395</td>\n",
       "      <td>-0.917537</td>\n",
       "      <td>-0.973290</td>\n",
       "      <td>-0.881380</td>\n",
       "      <td>-0.994370</td>\n",
       "      <td>0.862986</td>\n",
       "      <td>0.902401</td>\n",
       "      <td>-0.570223</td>\n",
       "      <td>...</td>\n",
       "      <td>-0.996336</td>\n",
       "      <td>0.341980</td>\n",
       "      <td>0.084330</td>\n",
       "      <td>0.664074</td>\n",
       "      <td>0.926916</td>\n",
       "      <td>0.051911</td>\n",
       "      <td>0.951507</td>\n",
       "      <td>-0.973490</td>\n",
       "      <td>0.627855</td>\n",
       "      <td>-0.813689</td>\n",
       "    </tr>\n",
       "  </tbody>\n",
       "</table>\n",
       "<p>1290 rows × 1024 columns</p>\n",
       "</div>"
      ],
      "text/plain": [
       "          0         1         2         3         4         5         6     \\\n",
       "0    -0.998521 -0.977812  0.999978 -0.964199 -0.998738  0.979337 -0.999133   \n",
       "1    -0.996971 -0.975321  0.999886 -0.915449 -0.997295  0.962834 -0.996114   \n",
       "2    -0.999308 -0.995582  0.999998 -0.979826 -0.999715  0.976332 -0.999566   \n",
       "3    -0.998409 -0.991969  1.000000 -0.998928 -0.999965  0.903449 -0.999979   \n",
       "4    -0.998452 -0.991349  0.999991 -0.983656 -0.999580  0.968054 -0.999399   \n",
       "...        ...       ...       ...       ...       ...       ...       ...   \n",
       "1285 -0.999563 -0.994025  0.999999 -0.993369 -0.999691  0.976105 -0.999819   \n",
       "1286 -0.999792 -0.993090  0.999983 -0.979177 -0.997478  0.991689 -0.998985   \n",
       "1287 -0.990118 -0.963792  0.999930 -0.953986 -0.998873  0.835172 -0.998466   \n",
       "1288 -0.999357 -0.995580  0.999999 -0.996905 -0.999851  0.956323 -0.999960   \n",
       "1289  0.756979 -0.161612  0.910395 -0.917537 -0.973290 -0.881380 -0.994370   \n",
       "\n",
       "          7         8         9     ...      1014      1015      1016  \\\n",
       "0     0.998487  0.985282 -0.996852  ... -0.868732 -0.975271 -0.841749   \n",
       "1     0.995967  0.970371 -0.995907  ... -0.856894 -0.951130 -0.820438   \n",
       "2     0.999564  0.993017 -0.999586  ... -0.991583 -0.826302 -0.357718   \n",
       "3     0.999986  0.998539 -0.999765  ... -0.999690 -0.846565  0.106677   \n",
       "4     0.999721  0.991862 -0.997789  ... -0.995037 -0.691443 -0.076455   \n",
       "...        ...       ...       ...  ...       ...       ...       ...   \n",
       "1285  0.999822  0.995607 -0.999325  ... -0.993663 -0.850796 -0.295458   \n",
       "1286  0.995944  0.978601 -0.997642  ... -0.911522 -0.765597 -0.503963   \n",
       "1287  0.997828  0.974195 -0.996158  ... -0.982688 -0.885150 -0.611169   \n",
       "1288  0.999864  0.997002 -0.999643  ... -0.999327 -0.728010  0.297588   \n",
       "1289  0.862986  0.902401 -0.570223  ... -0.996336  0.341980  0.084330   \n",
       "\n",
       "          1017      1018      1019      1020      1021      1022      1023  \n",
       "0     0.996253  0.999977 -0.911934  0.997448 -0.987062  0.993665 -0.974751  \n",
       "1     0.994204  0.999829 -0.797655  0.995056 -0.986284  0.976462 -0.945009  \n",
       "2     0.997855  0.999999 -0.443400  0.998930 -0.999554  0.986480 -0.986310  \n",
       "3     0.998042  1.000000  0.342706  0.999764 -0.999980  0.995692 -0.997616  \n",
       "4     0.997780  0.999997  0.103970  0.998682 -0.999661  0.987522 -0.985996  \n",
       "...        ...       ...       ...       ...       ...       ...       ...  \n",
       "1285  0.998775  0.999999 -0.215935  0.999308 -0.999671  0.995695 -0.989991  \n",
       "1286  0.998457  0.999998 -0.470298  0.998532 -0.998422  0.995331 -0.974166  \n",
       "1287  0.987516  0.999959 -0.532729  0.997086 -0.998425  0.940729 -0.977239  \n",
       "1288  0.999346  1.000000  0.544703  0.999604 -0.999899  0.995490 -0.996006  \n",
       "1289  0.664074  0.926916  0.051911  0.951507 -0.973490  0.627855 -0.813689  \n",
       "\n",
       "[1290 rows x 1024 columns]"
      ]
     },
     "execution_count": 252,
     "metadata": {},
     "output_type": "execute_result"
    }
   ],
   "source": [
    "dataX2"
   ]
  },
  {
   "cell_type": "markdown",
   "metadata": {
    "id": "1MigkRMpHbfs"
   },
   "source": [
    "##seleccion de las variable"
   ]
  },
  {
   "cell_type": "code",
   "execution_count": 253,
   "metadata": {
    "id": "xRFSlA17Hbfs"
   },
   "outputs": [],
   "source": [
    "X = dataX2 \n",
    "Y = df['resultado'].copy()"
   ]
  },
  {
   "cell_type": "code",
   "execution_count": 254,
   "metadata": {
    "colab": {
     "base_uri": "https://localhost:8080/"
    },
    "id": "DN9C7slIHbfs",
    "outputId": "e0d6ef75-b0bd-4d33-f7b8-a064813e6e35"
   },
   "outputs": [
    {
     "data": {
      "text/plain": [
       "RangeIndex(start=0, stop=1024, step=1)"
      ]
     },
     "execution_count": 254,
     "metadata": {},
     "output_type": "execute_result"
    }
   ],
   "source": [
    "X.columns"
   ]
  },
  {
   "cell_type": "code",
   "execution_count": 255,
   "metadata": {
    "colab": {
     "base_uri": "https://localhost:8080/"
    },
    "id": "Ww4PTLQEHbfs",
    "outputId": "c28e93bb-07ac-4c31-e341-38a715971430"
   },
   "outputs": [
    {
     "name": "stdout",
     "output_type": "stream",
     "text": [
      "<class 'pandas.core.frame.DataFrame'>\n",
      "RangeIndex: 1290 entries, 0 to 1289\n",
      "Columns: 1024 entries, 0 to 1023\n",
      "dtypes: float32(1024)\n",
      "memory usage: 5.0 MB\n"
     ]
    }
   ],
   "source": [
    "X.info()"
   ]
  },
  {
   "cell_type": "code",
   "execution_count": 256,
   "metadata": {
    "colab": {
     "base_uri": "https://localhost:8080/"
    },
    "id": "869sT5tkHbfs",
    "outputId": "5b889e89-3100-44d8-fa89-7e1d24929160"
   },
   "outputs": [
    {
     "data": {
      "text/plain": [
       "0    0\n",
       "1    0\n",
       "2    1\n",
       "3    0\n",
       "4    0\n",
       "Name: resultado, dtype: int64"
      ]
     },
     "execution_count": 256,
     "metadata": {},
     "output_type": "execute_result"
    }
   ],
   "source": [
    "Y.head()"
   ]
  },
  {
   "cell_type": "markdown",
   "metadata": {
    "id": "U1TbX0nzHbfs"
   },
   "source": [
    "## Balanceo de datos"
   ]
  },
  {
   "cell_type": "markdown",
   "metadata": {
    "id": "HfjaBWDNHbfs"
   },
   "source": [
    "### Aplicando Smote"
   ]
  },
  {
   "cell_type": "code",
   "execution_count": 257,
   "metadata": {
    "colab": {
     "base_uri": "https://localhost:8080/"
    },
    "id": "zqHgBWtGHbfs",
    "outputId": "fa4e1041-de37-4adc-95e7-2c34498b0f65"
   },
   "outputs": [
    {
     "data": {
      "text/plain": [
       "Counter({0: 668, 1: 668})"
      ]
     },
     "execution_count": 257,
     "metadata": {},
     "output_type": "execute_result"
    }
   ],
   "source": [
    "from imblearn.over_sampling import SMOTE #over sobre nivelar hacia arriba under nivelacion hacia el menor dato\n",
    "#from imblearn.under_sampling import SMOTE \n",
    "\n",
    "smote = SMOTE(random_state = 325, n_jobs=-1)\n",
    "X_smote, Y_smote = smote.fit_resample(X, Y)# hace Balance de los datos a partir de los agreglos\n",
    "\n",
    "from collections import Counter\n",
    "\n",
    "Counter(Y_smote)"
   ]
  },
  {
   "cell_type": "markdown",
   "metadata": {
    "id": "VWSHrRmXHbft"
   },
   "source": [
    "## Train y test"
   ]
  },
  {
   "cell_type": "code",
   "execution_count": 258,
   "metadata": {
    "id": "ylbNSBzgHbft"
   },
   "outputs": [],
   "source": [
    "from sklearn.model_selection import train_test_split\n",
    "X_train_smote, X_test_smote, Y_train_smote, Y_test_smote = train_test_split(X_smote, Y_smote, random_state=325,test_size = 0.3)\n",
    "        \n",
    "X_train, X_test, Y_train, Y_test = train_test_split(X, Y, random_state=325,test_size = 0.3)        "
   ]
  },
  {
   "cell_type": "markdown",
   "metadata": {
    "id": "HgiAb3C8Hbft"
   },
   "source": [
    "## SVM\n"
   ]
  },
  {
   "cell_type": "markdown",
   "metadata": {
    "id": "rALpdwUVHbft"
   },
   "source": [
    "###SVC "
   ]
  },
  {
   "cell_type": "markdown",
   "metadata": {
    "id": "zr85py7NHbft"
   },
   "source": [
    "#### Caso 1"
   ]
  },
  {
   "cell_type": "code",
   "execution_count": 259,
   "metadata": {
    "id": "YMYLgg3iHbft"
   },
   "outputs": [],
   "source": [
    "parametros = {'C'      : np.arange(1, 5, 1),\n",
    "            'gamma'  : np.arange(1, 5, 1),\n",
    "           'kernel' : ['rbf', 'linear','sigmoid']}\n",
    "\n",
    "from sklearn.svm import SVC\n",
    "from sklearn.model_selection import GridSearchCV\n",
    "\n",
    "clf = SVC(class_weight='balanced', random_state=325)  \n",
    "grid_search = GridSearchCV(clf, parametros, n_jobs=-1, cv=5) "
   ]
  },
  {
   "cell_type": "code",
   "execution_count": 260,
   "metadata": {
    "colab": {
     "base_uri": "https://localhost:8080/"
    },
    "id": "a-YDJnTpHbft",
    "outputId": "ef5a1cf1-cd2e-4490-d36f-affe6c0e0011"
   },
   "outputs": [
    {
     "data": {
      "text/html": [
       "<style>#sk-container-id-19 {color: black;background-color: white;}#sk-container-id-19 pre{padding: 0;}#sk-container-id-19 div.sk-toggleable {background-color: white;}#sk-container-id-19 label.sk-toggleable__label {cursor: pointer;display: block;width: 100%;margin-bottom: 0;padding: 0.3em;box-sizing: border-box;text-align: center;}#sk-container-id-19 label.sk-toggleable__label-arrow:before {content: \"▸\";float: left;margin-right: 0.25em;color: #696969;}#sk-container-id-19 label.sk-toggleable__label-arrow:hover:before {color: black;}#sk-container-id-19 div.sk-estimator:hover label.sk-toggleable__label-arrow:before {color: black;}#sk-container-id-19 div.sk-toggleable__content {max-height: 0;max-width: 0;overflow: hidden;text-align: left;background-color: #f0f8ff;}#sk-container-id-19 div.sk-toggleable__content pre {margin: 0.2em;color: black;border-radius: 0.25em;background-color: #f0f8ff;}#sk-container-id-19 input.sk-toggleable__control:checked~div.sk-toggleable__content {max-height: 200px;max-width: 100%;overflow: auto;}#sk-container-id-19 input.sk-toggleable__control:checked~label.sk-toggleable__label-arrow:before {content: \"▾\";}#sk-container-id-19 div.sk-estimator input.sk-toggleable__control:checked~label.sk-toggleable__label {background-color: #d4ebff;}#sk-container-id-19 div.sk-label input.sk-toggleable__control:checked~label.sk-toggleable__label {background-color: #d4ebff;}#sk-container-id-19 input.sk-hidden--visually {border: 0;clip: rect(1px 1px 1px 1px);clip: rect(1px, 1px, 1px, 1px);height: 1px;margin: -1px;overflow: hidden;padding: 0;position: absolute;width: 1px;}#sk-container-id-19 div.sk-estimator {font-family: monospace;background-color: #f0f8ff;border: 1px dotted black;border-radius: 0.25em;box-sizing: border-box;margin-bottom: 0.5em;}#sk-container-id-19 div.sk-estimator:hover {background-color: #d4ebff;}#sk-container-id-19 div.sk-parallel-item::after {content: \"\";width: 100%;border-bottom: 1px solid gray;flex-grow: 1;}#sk-container-id-19 div.sk-label:hover label.sk-toggleable__label {background-color: #d4ebff;}#sk-container-id-19 div.sk-serial::before {content: \"\";position: absolute;border-left: 1px solid gray;box-sizing: border-box;top: 0;bottom: 0;left: 50%;z-index: 0;}#sk-container-id-19 div.sk-serial {display: flex;flex-direction: column;align-items: center;background-color: white;padding-right: 0.2em;padding-left: 0.2em;position: relative;}#sk-container-id-19 div.sk-item {position: relative;z-index: 1;}#sk-container-id-19 div.sk-parallel {display: flex;align-items: stretch;justify-content: center;background-color: white;position: relative;}#sk-container-id-19 div.sk-item::before, #sk-container-id-19 div.sk-parallel-item::before {content: \"\";position: absolute;border-left: 1px solid gray;box-sizing: border-box;top: 0;bottom: 0;left: 50%;z-index: -1;}#sk-container-id-19 div.sk-parallel-item {display: flex;flex-direction: column;z-index: 1;position: relative;background-color: white;}#sk-container-id-19 div.sk-parallel-item:first-child::after {align-self: flex-end;width: 50%;}#sk-container-id-19 div.sk-parallel-item:last-child::after {align-self: flex-start;width: 50%;}#sk-container-id-19 div.sk-parallel-item:only-child::after {width: 0;}#sk-container-id-19 div.sk-dashed-wrapped {border: 1px dashed gray;margin: 0 0.4em 0.5em 0.4em;box-sizing: border-box;padding-bottom: 0.4em;background-color: white;}#sk-container-id-19 div.sk-label label {font-family: monospace;font-weight: bold;display: inline-block;line-height: 1.2em;}#sk-container-id-19 div.sk-label-container {text-align: center;}#sk-container-id-19 div.sk-container {/* jupyter's `normalize.less` sets `[hidden] { display: none; }` but bootstrap.min.css set `[hidden] { display: none !important; }` so we also need the `!important` here to be able to override the default hidden behavior on the sphinx rendered scikit-learn.org. See: https://github.com/scikit-learn/scikit-learn/issues/21755 */display: inline-block !important;position: relative;}#sk-container-id-19 div.sk-text-repr-fallback {display: none;}</style><div id=\"sk-container-id-19\" class=\"sk-top-container\"><div class=\"sk-text-repr-fallback\"><pre>GridSearchCV(cv=5, estimator=SVC(class_weight=&#x27;balanced&#x27;, random_state=325),\n",
       "             n_jobs=-1,\n",
       "             param_grid={&#x27;C&#x27;: array([1, 2, 3, 4]), &#x27;gamma&#x27;: array([1, 2, 3, 4]),\n",
       "                         &#x27;kernel&#x27;: [&#x27;rbf&#x27;, &#x27;linear&#x27;, &#x27;sigmoid&#x27;]})</pre><b>In a Jupyter environment, please rerun this cell to show the HTML representation or trust the notebook. <br />On GitHub, the HTML representation is unable to render, please try loading this page with nbviewer.org.</b></div><div class=\"sk-container\" hidden><div class=\"sk-item sk-dashed-wrapped\"><div class=\"sk-label-container\"><div class=\"sk-label sk-toggleable\"><input class=\"sk-toggleable__control sk-hidden--visually\" id=\"sk-estimator-id-55\" type=\"checkbox\" ><label for=\"sk-estimator-id-55\" class=\"sk-toggleable__label sk-toggleable__label-arrow\">GridSearchCV</label><div class=\"sk-toggleable__content\"><pre>GridSearchCV(cv=5, estimator=SVC(class_weight=&#x27;balanced&#x27;, random_state=325),\n",
       "             n_jobs=-1,\n",
       "             param_grid={&#x27;C&#x27;: array([1, 2, 3, 4]), &#x27;gamma&#x27;: array([1, 2, 3, 4]),\n",
       "                         &#x27;kernel&#x27;: [&#x27;rbf&#x27;, &#x27;linear&#x27;, &#x27;sigmoid&#x27;]})</pre></div></div></div><div class=\"sk-parallel\"><div class=\"sk-parallel-item\"><div class=\"sk-item\"><div class=\"sk-label-container\"><div class=\"sk-label sk-toggleable\"><input class=\"sk-toggleable__control sk-hidden--visually\" id=\"sk-estimator-id-56\" type=\"checkbox\" ><label for=\"sk-estimator-id-56\" class=\"sk-toggleable__label sk-toggleable__label-arrow\">estimator: SVC</label><div class=\"sk-toggleable__content\"><pre>SVC(class_weight=&#x27;balanced&#x27;, random_state=325)</pre></div></div></div><div class=\"sk-serial\"><div class=\"sk-item\"><div class=\"sk-estimator sk-toggleable\"><input class=\"sk-toggleable__control sk-hidden--visually\" id=\"sk-estimator-id-57\" type=\"checkbox\" ><label for=\"sk-estimator-id-57\" class=\"sk-toggleable__label sk-toggleable__label-arrow\">SVC</label><div class=\"sk-toggleable__content\"><pre>SVC(class_weight=&#x27;balanced&#x27;, random_state=325)</pre></div></div></div></div></div></div></div></div></div></div>"
      ],
      "text/plain": [
       "GridSearchCV(cv=5, estimator=SVC(class_weight='balanced', random_state=325),\n",
       "             n_jobs=-1,\n",
       "             param_grid={'C': array([1, 2, 3, 4]), 'gamma': array([1, 2, 3, 4]),\n",
       "                         'kernel': ['rbf', 'linear', 'sigmoid']})"
      ]
     },
     "execution_count": 260,
     "metadata": {},
     "output_type": "execute_result"
    }
   ],
   "source": [
    "grid_search.fit(X_train_smote, Y_train_smote)"
   ]
  },
  {
   "cell_type": "code",
   "execution_count": 261,
   "metadata": {
    "colab": {
     "base_uri": "https://localhost:8080/"
    },
    "id": "_qvAhI76Hbft",
    "outputId": "b64f5110-0cab-4f71-a334-0cf068e6f432"
   },
   "outputs": [
    {
     "name": "stdout",
     "output_type": "stream",
     "text": [
      "El mejor modelo:\n",
      " {'C': 1, 'gamma': 1, 'kernel': 'linear'}\n"
     ]
    }
   ],
   "source": [
    "print('El mejor modelo:\\n', grid_search.best_params_)"
   ]
  },
  {
   "cell_type": "code",
   "execution_count": 262,
   "metadata": {
    "id": "QVioJQOgHbft"
   },
   "outputs": [],
   "source": [
    "clf_best = grid_search.best_estimator_\n",
    "pred = clf_best.predict(X_test_smote)"
   ]
  },
  {
   "cell_type": "code",
   "execution_count": 263,
   "metadata": {
    "colab": {
     "base_uri": "https://localhost:8080/"
    },
    "id": "6HswY3bpHbft",
    "outputId": "bfd31cc5-2608-4fbe-a894-f58d5e7a9237"
   },
   "outputs": [
    {
     "name": "stdout",
     "output_type": "stream",
     "text": [
      "              precision    recall  f1-score   support\n",
      "\n",
      "           0       0.94      0.96      0.95       212\n",
      "           1       0.96      0.94      0.95       189\n",
      "\n",
      "    accuracy                           0.95       401\n",
      "   macro avg       0.95      0.95      0.95       401\n",
      "weighted avg       0.95      0.95      0.95       401\n",
      "\n"
     ]
    }
   ],
   "source": [
    "from sklearn.metrics import classification_report\n",
    "print(classification_report(Y_test_smote, pred))"
   ]
  },
  {
   "cell_type": "code",
   "execution_count": 264,
   "metadata": {
    "colab": {
     "base_uri": "https://localhost:8080/",
     "height": 347
    },
    "id": "S3qUDDhfHbfu",
    "outputId": "58392d7e-aca3-40ef-d783-cedf40494b0b"
   },
   "outputs": [
    {
     "name": "stdout",
     "output_type": "stream",
     "text": [
      "Matriz de Confusión\n",
      "[[204   8]\n",
      " [ 12 177]]\n"
     ]
    },
    {
     "data": {
      "image/png": "[encoded data removed]",
      "text/plain": [
       "<Figure size 432x288 with 2 Axes>"
      ]
     },
     "metadata": {
      "needs_background": "light"
     },
     "output_type": "display_data"
    }
   ],
   "source": [
    "from sklearn.metrics import ConfusionMatrixDisplay\n",
    "\n",
    "\n",
    "disp = ConfusionMatrixDisplay.from_estimator(\n",
    "       clf_best,\n",
    "       X_test_smote,\n",
    "       Y_test_smote,\n",
    "       display_labels=None,\n",
    "       cmap=plt.cm.Blues,\n",
    "       normalize=None)\n",
    "\n",
    "disp.ax_.set_title('Matriz de Confusión')\n",
    "disp.ax_.set_xlabel('Predicción');\n",
    "disp.ax_.set_ylabel('Realidad'); \n",
    "disp.ax_.xaxis.set_ticklabels(['0', '1']); \n",
    "disp.ax_.yaxis.set_ticklabels(['0', '1']);\n",
    "\n",
    "print('Matriz de Confusión')\n",
    "print(disp.confusion_matrix)\n",
    "\n",
    "plt.show()"
   ]
  },
  {
   "cell_type": "markdown",
   "metadata": {
    "id": "vbFAMDz_Hbfu"
   },
   "source": [
    "### Nusvm"
   ]
  },
  {
   "cell_type": "markdown",
   "metadata": {
    "id": "TVoM3Q4-Hbfu"
   },
   "source": [
    "#### Caso 1"
   ]
  },
  {
   "cell_type": "code",
   "execution_count": 265,
   "metadata": {
    "id": "SqoiZQZRHbfu"
   },
   "outputs": [],
   "source": [
    "parametros = {'nu'      : np.arange(0, 1, 0.1),\n",
    "            'gamma'  : ['scale','auto'],\n",
    "           'kernel' : ['rbf', 'linear','sigmoid']}\n",
    "\n",
    "from sklearn.svm import NuSVC\n",
    "from sklearn.model_selection import GridSearchCV\n",
    "\n",
    "clf = NuSVC(class_weight='balanced', random_state=325)  \n",
    "grid_search = GridSearchCV(clf, parametros, n_jobs=-1, cv=5) "
   ]
  },
  {
   "cell_type": "code",
   "execution_count": 266,
   "metadata": {
    "colab": {
     "base_uri": "https://localhost:8080/"
    },
    "id": "5oC10_dzHbfu",
    "outputId": "46847fc2-d800-4d7e-da7c-70a26216ef3f"
   },
   "outputs": [
    {
     "data": {
      "text/html": [
       "<style>#sk-container-id-20 {color: black;background-color: white;}#sk-container-id-20 pre{padding: 0;}#sk-container-id-20 div.sk-toggleable {background-color: white;}#sk-container-id-20 label.sk-toggleable__label {cursor: pointer;display: block;width: 100%;margin-bottom: 0;padding: 0.3em;box-sizing: border-box;text-align: center;}#sk-container-id-20 label.sk-toggleable__label-arrow:before {content: \"▸\";float: left;margin-right: 0.25em;color: #696969;}#sk-container-id-20 label.sk-toggleable__label-arrow:hover:before {color: black;}#sk-container-id-20 div.sk-estimator:hover label.sk-toggleable__label-arrow:before {color: black;}#sk-container-id-20 div.sk-toggleable__content {max-height: 0;max-width: 0;overflow: hidden;text-align: left;background-color: #f0f8ff;}#sk-container-id-20 div.sk-toggleable__content pre {margin: 0.2em;color: black;border-radius: 0.25em;background-color: #f0f8ff;}#sk-container-id-20 input.sk-toggleable__control:checked~div.sk-toggleable__content {max-height: 200px;max-width: 100%;overflow: auto;}#sk-container-id-20 input.sk-toggleable__control:checked~label.sk-toggleable__label-arrow:before {content: \"▾\";}#sk-container-id-20 div.sk-estimator input.sk-toggleable__control:checked~label.sk-toggleable__label {background-color: #d4ebff;}#sk-container-id-20 div.sk-label input.sk-toggleable__control:checked~label.sk-toggleable__label {background-color: #d4ebff;}#sk-container-id-20 input.sk-hidden--visually {border: 0;clip: rect(1px 1px 1px 1px);clip: rect(1px, 1px, 1px, 1px);height: 1px;margin: -1px;overflow: hidden;padding: 0;position: absolute;width: 1px;}#sk-container-id-20 div.sk-estimator {font-family: monospace;background-color: #f0f8ff;border: 1px dotted black;border-radius: 0.25em;box-sizing: border-box;margin-bottom: 0.5em;}#sk-container-id-20 div.sk-estimator:hover {background-color: #d4ebff;}#sk-container-id-20 div.sk-parallel-item::after {content: \"\";width: 100%;border-bottom: 1px solid gray;flex-grow: 1;}#sk-container-id-20 div.sk-label:hover label.sk-toggleable__label {background-color: #d4ebff;}#sk-container-id-20 div.sk-serial::before {content: \"\";position: absolute;border-left: 1px solid gray;box-sizing: border-box;top: 0;bottom: 0;left: 50%;z-index: 0;}#sk-container-id-20 div.sk-serial {display: flex;flex-direction: column;align-items: center;background-color: white;padding-right: 0.2em;padding-left: 0.2em;position: relative;}#sk-container-id-20 div.sk-item {position: relative;z-index: 1;}#sk-container-id-20 div.sk-parallel {display: flex;align-items: stretch;justify-content: center;background-color: white;position: relative;}#sk-container-id-20 div.sk-item::before, #sk-container-id-20 div.sk-parallel-item::before {content: \"\";position: absolute;border-left: 1px solid gray;box-sizing: border-box;top: 0;bottom: 0;left: 50%;z-index: -1;}#sk-container-id-20 div.sk-parallel-item {display: flex;flex-direction: column;z-index: 1;position: relative;background-color: white;}#sk-container-id-20 div.sk-parallel-item:first-child::after {align-self: flex-end;width: 50%;}#sk-container-id-20 div.sk-parallel-item:last-child::after {align-self: flex-start;width: 50%;}#sk-container-id-20 div.sk-parallel-item:only-child::after {width: 0;}#sk-container-id-20 div.sk-dashed-wrapped {border: 1px dashed gray;margin: 0 0.4em 0.5em 0.4em;box-sizing: border-box;padding-bottom: 0.4em;background-color: white;}#sk-container-id-20 div.sk-label label {font-family: monospace;font-weight: bold;display: inline-block;line-height: 1.2em;}#sk-container-id-20 div.sk-label-container {text-align: center;}#sk-container-id-20 div.sk-container {/* jupyter's `normalize.less` sets `[hidden] { display: none; }` but bootstrap.min.css set `[hidden] { display: none !important; }` so we also need the `!important` here to be able to override the default hidden behavior on the sphinx rendered scikit-learn.org. See: https://github.com/scikit-learn/scikit-learn/issues/21755 */display: inline-block !important;position: relative;}#sk-container-id-20 div.sk-text-repr-fallback {display: none;}</style><div id=\"sk-container-id-20\" class=\"sk-top-container\"><div class=\"sk-text-repr-fallback\"><pre>GridSearchCV(cv=5, estimator=NuSVC(class_weight=&#x27;balanced&#x27;, random_state=325),\n",
       "             n_jobs=-1,\n",
       "             param_grid={&#x27;gamma&#x27;: [&#x27;scale&#x27;, &#x27;auto&#x27;],\n",
       "                         &#x27;kernel&#x27;: [&#x27;rbf&#x27;, &#x27;linear&#x27;, &#x27;sigmoid&#x27;],\n",
       "                         &#x27;nu&#x27;: array([0. , 0.1, 0.2, 0.3, 0.4, 0.5, 0.6, 0.7, 0.8, 0.9])})</pre><b>In a Jupyter environment, please rerun this cell to show the HTML representation or trust the notebook. <br />On GitHub, the HTML representation is unable to render, please try loading this page with nbviewer.org.</b></div><div class=\"sk-container\" hidden><div class=\"sk-item sk-dashed-wrapped\"><div class=\"sk-label-container\"><div class=\"sk-label sk-toggleable\"><input class=\"sk-toggleable__control sk-hidden--visually\" id=\"sk-estimator-id-58\" type=\"checkbox\" ><label for=\"sk-estimator-id-58\" class=\"sk-toggleable__label sk-toggleable__label-arrow\">GridSearchCV</label><div class=\"sk-toggleable__content\"><pre>GridSearchCV(cv=5, estimator=NuSVC(class_weight=&#x27;balanced&#x27;, random_state=325),\n",
       "             n_jobs=-1,\n",
       "             param_grid={&#x27;gamma&#x27;: [&#x27;scale&#x27;, &#x27;auto&#x27;],\n",
       "                         &#x27;kernel&#x27;: [&#x27;rbf&#x27;, &#x27;linear&#x27;, &#x27;sigmoid&#x27;],\n",
       "                         &#x27;nu&#x27;: array([0. , 0.1, 0.2, 0.3, 0.4, 0.5, 0.6, 0.7, 0.8, 0.9])})</pre></div></div></div><div class=\"sk-parallel\"><div class=\"sk-parallel-item\"><div class=\"sk-item\"><div class=\"sk-label-container\"><div class=\"sk-label sk-toggleable\"><input class=\"sk-toggleable__control sk-hidden--visually\" id=\"sk-estimator-id-59\" type=\"checkbox\" ><label for=\"sk-estimator-id-59\" class=\"sk-toggleable__label sk-toggleable__label-arrow\">estimator: NuSVC</label><div class=\"sk-toggleable__content\"><pre>NuSVC(class_weight=&#x27;balanced&#x27;, random_state=325)</pre></div></div></div><div class=\"sk-serial\"><div class=\"sk-item\"><div class=\"sk-estimator sk-toggleable\"><input class=\"sk-toggleable__control sk-hidden--visually\" id=\"sk-estimator-id-60\" type=\"checkbox\" ><label for=\"sk-estimator-id-60\" class=\"sk-toggleable__label sk-toggleable__label-arrow\">NuSVC</label><div class=\"sk-toggleable__content\"><pre>NuSVC(class_weight=&#x27;balanced&#x27;, random_state=325)</pre></div></div></div></div></div></div></div></div></div></div>"
      ],
      "text/plain": [
       "GridSearchCV(cv=5, estimator=NuSVC(class_weight='balanced', random_state=325),\n",
       "             n_jobs=-1,\n",
       "             param_grid={'gamma': ['scale', 'auto'],\n",
       "                         'kernel': ['rbf', 'linear', 'sigmoid'],\n",
       "                         'nu': array([0. , 0.1, 0.2, 0.3, 0.4, 0.5, 0.6, 0.7, 0.8, 0.9])})"
      ]
     },
     "execution_count": 266,
     "metadata": {},
     "output_type": "execute_result"
    }
   ],
   "source": [
    "grid_search.fit(X_train_smote, Y_train_smote)"
   ]
  },
  {
   "cell_type": "code",
   "execution_count": 267,
   "metadata": {
    "colab": {
     "base_uri": "https://localhost:8080/"
    },
    "id": "RAnQWoU3Hbfu",
    "outputId": "2bf32955-3beb-4108-f88a-5372edd8c5fe"
   },
   "outputs": [
    {
     "name": "stdout",
     "output_type": "stream",
     "text": [
      "El mejor modelo:\n",
      " {'gamma': 'scale', 'kernel': 'linear', 'nu': 0.1}\n"
     ]
    }
   ],
   "source": [
    "print('El mejor modelo:\\n', grid_search.best_params_)"
   ]
  },
  {
   "cell_type": "code",
   "execution_count": 268,
   "metadata": {
    "id": "WCoa39U3Hbfu"
   },
   "outputs": [],
   "source": [
    "clf_best = grid_search.best_estimator_\n",
    "pred = clf_best.predict(X_test_smote)"
   ]
  },
  {
   "cell_type": "code",
   "execution_count": 269,
   "metadata": {
    "colab": {
     "base_uri": "https://localhost:8080/"
    },
    "id": "kYrMmDn_Hbfu",
    "outputId": "0f517516-fa21-4958-8bf9-be9310c7b54b"
   },
   "outputs": [
    {
     "name": "stdout",
     "output_type": "stream",
     "text": [
      "              precision    recall  f1-score   support\n",
      "\n",
      "           0       0.94      0.96      0.95       212\n",
      "           1       0.96      0.94      0.95       189\n",
      "\n",
      "    accuracy                           0.95       401\n",
      "   macro avg       0.95      0.95      0.95       401\n",
      "weighted avg       0.95      0.95      0.95       401\n",
      "\n"
     ]
    }
   ],
   "source": [
    "from sklearn.metrics import classification_report\n",
    "\n",
    "print(classification_report(Y_test_smote, pred))"
   ]
  },
  {
   "cell_type": "code",
   "execution_count": 270,
   "metadata": {
    "colab": {
     "base_uri": "https://localhost:8080/",
     "height": 347
    },
    "id": "Swo9EJlcHbfu",
    "outputId": "8d9549ad-a4b4-4c70-e347-f5489db63bf2"
   },
   "outputs": [
    {
     "name": "stdout",
     "output_type": "stream",
     "text": [
      "Matriz de Confusión\n",
      "[[204   8]\n",
      " [ 12 177]]\n"
     ]
    },
    {
     "data": {
      "image/png": "[encoded data removed]",
      "text/plain": [
       "<Figure size 432x288 with 2 Axes>"
      ]
     },
     "metadata": {
      "needs_background": "light"
     },
     "output_type": "display_data"
    }
   ],
   "source": [
    "from sklearn.metrics import ConfusionMatrixDisplay\n",
    "\n",
    "\n",
    "disp = ConfusionMatrixDisplay.from_estimator(\n",
    "       clf_best,\n",
    "       X_test_smote,\n",
    "       Y_test_smote,\n",
    "       display_labels=None,\n",
    "       cmap=plt.cm.Blues,\n",
    "       normalize=None)\n",
    "\n",
    "disp.ax_.set_title('Matriz de Confusión')\n",
    "disp.ax_.set_xlabel('Predicción');\n",
    "disp.ax_.set_ylabel('Realidad'); \n",
    "disp.ax_.xaxis.set_ticklabels(['0', '1']); \n",
    "disp.ax_.yaxis.set_ticklabels(['0', '1']);\n",
    "\n",
    "print('Matriz de Confusión')\n",
    "print(disp.confusion_matrix)\n",
    "\n",
    "plt.show()"
   ]
  }
 ],
 "metadata": {
  "colab": {
   "collapsed_sections": [
    "8MKeNpfCmADw",
    "5YVwsIC8GTkE",
    "vB56vwVThKpT",
    "eyROocQ4F8F3",
    "KQD7k7th8r9p",
    "iq_fmfj-FLbE",
    "79jlTNmxG4Cs",
    "YMk2E64tmStY",
    "Wm0iV1ksyNUF",
    "aRmzxRFPEYWf",
    "VWKGuNFJKN7h",
    "Ciq8A-OBPMoB",
    "YDjqF2GOYMNJ",
    "P4WrGu2NlxN3",
    "PcWgNR1487xm",
    "CvmDKvOr7h9u",
    "F8klIRF07h9v",
    "ZBybzqn97h9v",
    "sPOg7j8O7h9v",
    "1h7NGZZz7h9v",
    "fj5vZ17i7h9v",
    "SiBwLFn4HMc0",
    "B0hKk8VcHMc1",
    "AtbxoSTdHMc2",
    "v0RQheoFHMc2",
    "z8bFz4uzHMc2",
    "mK_JzfbmHMc3",
    "KJKUW8muHMc3",
    "9NUvnAZwHMc3",
    "yYo8Oce9HMc4",
    "eBNd_4MyHMc5",
    "qrIzTFtUHMc6",
    "u8iUvgBeHMc6",
    "Cv2eVeqzHMc6",
    "kobrjPz_HMc6",
    "looryJwmHMc6",
    "mGfRKL_EHMc6",
    "IkVCTx2RHMc7",
    "f3A0UASpHP5a",
    "MnXjlidHHP5c",
    "KGy_OPAeHP5d",
    "6zziumZ-HP5d",
    "aGkKu4LQHP5e",
    "a6b5jcwsHP5e",
    "Ype9K60bHP5e",
    "0-I1eFTsHbfo"
   ],
   "provenance": []
  },
  "kernelspec": {
   "display_name": "Python 3 (ipykernel)",
   "language": "python",
   "name": "python3"
  },
  "language_info": {
   "codemirror_mode": {
    "name": "ipython",
    "version": 3
   },
   "file_extension": ".py",
   "mimetype": "text/x-python",
   "name": "python",
   "nbconvert_exporter": "python",
   "pygments_lexer": "ipython3",
   "version": "3.10.4"
  }
 },
 "nbformat": 4,
 "nbformat_minor": 4
}
