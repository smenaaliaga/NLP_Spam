{
 "cells": [
  {
   "cell_type": "markdown",
   "metadata": {
    "id": "Griwatj9Chha"
   },
   "source": [
    "## Importar librerias"
   ]
  },
  {
   "cell_type": "code",
   "execution_count": 1,
   "metadata": {
    "id": "XRtnzgiuCM6K"
   },
   "outputs": [],
   "source": [
    "import numpy as np\n",
    "import math\n",
    "import re # expresiones regulares\n",
    "import pandas as pd\n",
    "from bs4 import BeautifulSoup # para trabajar texto en varios formatos\n",
    "\n",
    "#from google.colab import drive"
   ]
  },
  {
   "cell_type": "code",
   "execution_count": 2,
   "metadata": {
    "colab": {
     "base_uri": "https://localhost:8080/"
    },
    "executionInfo": {
     "elapsed": 3188,
     "status": "ok",
     "timestamp": 1661473089287,
     "user": {
      "displayName": "FELIPE LERMANDA RODRIGUEZ",
      "userId": "01039212382747188054"
     },
     "user_tz": 240
    },
    "id": "A56AquXUC5KY",
    "outputId": "96053eb4-9c7c-4574-c1f3-3f94c979592b"
   },
   "outputs": [
    {
     "name": "stderr",
     "output_type": "stream",
     "text": [
      "2022-08-26 15:51:52.480445: W tensorflow/stream_executor/platform/default/dso_loader.cc:64] Could not load dynamic library 'libcudart.so.11.0'; dlerror: libcudart.so.11.0: cannot open shared object file: No such file or directory\n",
      "2022-08-26 15:51:52.480502: I tensorflow/stream_executor/cuda/cudart_stub.cc:29] Ignore above cudart dlerror if you do not have a GPU set up on your machine.\n"
     ]
    }
   ],
   "source": [
    "# El código anterior me trae la última versión de keras\n",
    "try:\n",
    "  %tensorflow_version 2.x\n",
    "except Exception:\n",
    "  pass\n",
    "  \n",
    "import tensorflow as tf\n",
    "\n",
    "from tensorflow.keras import layers # importar layers desde keras\n",
    "\n",
    "import tensorflow_datasets as tfds # este me trae los tokens"
   ]
  },
  {
   "cell_type": "markdown",
   "metadata": {
    "id": "YpTJHC-RC84f"
   },
   "source": [
    "## Cargar conjunto de datos"
   ]
  },
  {
   "cell_type": "code",
   "execution_count": 3,
   "metadata": {
    "id": "GZPns8TeC7x5"
   },
   "outputs": [],
   "source": [
    "#cols=[\"resultado\",\"mensaje\"]\n",
    "data = pd.read_csv(\"SMSSpamCollection(Filtrada).csv\", on_bad_lines='skip', sep=';')"
   ]
  },
  {
   "cell_type": "code",
   "execution_count": 4,
   "metadata": {
    "id": "6mJOQfcrEGxM"
   },
   "outputs": [
    {
     "data": {
      "text/html": [
       "<div>\n",
       "<style scoped>\n",
       "    .dataframe tbody tr th:only-of-type {\n",
       "        vertical-align: middle;\n",
       "    }\n",
       "\n",
       "    .dataframe tbody tr th {\n",
       "        vertical-align: top;\n",
       "    }\n",
       "\n",
       "    .dataframe thead th {\n",
       "        text-align: right;\n",
       "    }\n",
       "</style>\n",
       "<table border=\"1\" class=\"dataframe\">\n",
       "  <thead>\n",
       "    <tr style=\"text-align: right;\">\n",
       "      <th></th>\n",
       "      <th>resultado</th>\n",
       "      <th>mensaje</th>\n",
       "    </tr>\n",
       "  </thead>\n",
       "  <tbody>\n",
       "    <tr>\n",
       "      <th>0</th>\n",
       "      <td>spam</td>\n",
       "      <td>Free entry in 2 a wkly comp to win FA Cup fina...</td>\n",
       "    </tr>\n",
       "    <tr>\n",
       "      <th>1</th>\n",
       "      <td>spam</td>\n",
       "      <td>FreeMsg Hey there darling it's been 3 week's n...</td>\n",
       "    </tr>\n",
       "    <tr>\n",
       "      <th>2</th>\n",
       "      <td>ham</td>\n",
       "      <td>As per your request 'Melle Melle (Oru Minnamin...</td>\n",
       "    </tr>\n",
       "    <tr>\n",
       "      <th>3</th>\n",
       "      <td>spam</td>\n",
       "      <td>WINNER!! As a valued network customer you have...</td>\n",
       "    </tr>\n",
       "    <tr>\n",
       "      <th>4</th>\n",
       "      <td>spam</td>\n",
       "      <td>Had your mobile 11 months or more? U R entitle...</td>\n",
       "    </tr>\n",
       "    <tr>\n",
       "      <th>...</th>\n",
       "      <td>...</td>\n",
       "      <td>...</td>\n",
       "    </tr>\n",
       "    <tr>\n",
       "      <th>1285</th>\n",
       "      <td>spam</td>\n",
       "      <td>Had your contract mobile 11 Mnths? Latest Moto...</td>\n",
       "    </tr>\n",
       "    <tr>\n",
       "      <th>1286</th>\n",
       "      <td>ham</td>\n",
       "      <td>Yeh. Indians was nice. Tho it did kane me off ...</td>\n",
       "    </tr>\n",
       "    <tr>\n",
       "      <th>1287</th>\n",
       "      <td>spam</td>\n",
       "      <td>REMINDER FROM O2: To get 2.50 pounds free call...</td>\n",
       "    </tr>\n",
       "    <tr>\n",
       "      <th>1288</th>\n",
       "      <td>spam</td>\n",
       "      <td>This is the 2nd time we have tried 2 contact u...</td>\n",
       "    </tr>\n",
       "    <tr>\n",
       "      <th>1289</th>\n",
       "      <td>ham</td>\n",
       "      <td>The guy did some bitching but I acted like i'd...</td>\n",
       "    </tr>\n",
       "  </tbody>\n",
       "</table>\n",
       "<p>1290 rows × 2 columns</p>\n",
       "</div>"
      ],
      "text/plain": [
       "     resultado                                            mensaje\n",
       "0         spam  Free entry in 2 a wkly comp to win FA Cup fina...\n",
       "1         spam  FreeMsg Hey there darling it's been 3 week's n...\n",
       "2          ham  As per your request 'Melle Melle (Oru Minnamin...\n",
       "3         spam  WINNER!! As a valued network customer you have...\n",
       "4         spam  Had your mobile 11 months or more? U R entitle...\n",
       "...        ...                                                ...\n",
       "1285      spam  Had your contract mobile 11 Mnths? Latest Moto...\n",
       "1286       ham  Yeh. Indians was nice. Tho it did kane me off ...\n",
       "1287      spam  REMINDER FROM O2: To get 2.50 pounds free call...\n",
       "1288      spam  This is the 2nd time we have tried 2 contact u...\n",
       "1289       ham  The guy did some bitching but I acted like i'd...\n",
       "\n",
       "[1290 rows x 2 columns]"
      ]
     },
     "execution_count": 4,
     "metadata": {},
     "output_type": "execute_result"
    }
   ],
   "source": [
    "data"
   ]
  },
  {
   "cell_type": "code",
   "execution_count": 5,
   "metadata": {
    "id": "BS0nt3QVX2Pl"
   },
   "outputs": [],
   "source": [
    "data['resultado'] = data['resultado'].apply(lambda x:1 if x == 'ham' else 0) "
   ]
  },
  {
   "cell_type": "code",
   "execution_count": 6,
   "metadata": {
    "id": "peyrOQOZYdnD"
   },
   "outputs": [
    {
     "data": {
      "text/html": [
       "<div>\n",
       "<style scoped>\n",
       "    .dataframe tbody tr th:only-of-type {\n",
       "        vertical-align: middle;\n",
       "    }\n",
       "\n",
       "    .dataframe tbody tr th {\n",
       "        vertical-align: top;\n",
       "    }\n",
       "\n",
       "    .dataframe thead th {\n",
       "        text-align: right;\n",
       "    }\n",
       "</style>\n",
       "<table border=\"1\" class=\"dataframe\">\n",
       "  <thead>\n",
       "    <tr style=\"text-align: right;\">\n",
       "      <th></th>\n",
       "      <th>resultado</th>\n",
       "      <th>mensaje</th>\n",
       "    </tr>\n",
       "  </thead>\n",
       "  <tbody>\n",
       "    <tr>\n",
       "      <th>0</th>\n",
       "      <td>0</td>\n",
       "      <td>Free entry in 2 a wkly comp to win FA Cup fina...</td>\n",
       "    </tr>\n",
       "    <tr>\n",
       "      <th>1</th>\n",
       "      <td>0</td>\n",
       "      <td>FreeMsg Hey there darling it's been 3 week's n...</td>\n",
       "    </tr>\n",
       "    <tr>\n",
       "      <th>2</th>\n",
       "      <td>1</td>\n",
       "      <td>As per your request 'Melle Melle (Oru Minnamin...</td>\n",
       "    </tr>\n",
       "    <tr>\n",
       "      <th>3</th>\n",
       "      <td>0</td>\n",
       "      <td>WINNER!! As a valued network customer you have...</td>\n",
       "    </tr>\n",
       "    <tr>\n",
       "      <th>4</th>\n",
       "      <td>0</td>\n",
       "      <td>Had your mobile 11 months or more? U R entitle...</td>\n",
       "    </tr>\n",
       "    <tr>\n",
       "      <th>...</th>\n",
       "      <td>...</td>\n",
       "      <td>...</td>\n",
       "    </tr>\n",
       "    <tr>\n",
       "      <th>1285</th>\n",
       "      <td>0</td>\n",
       "      <td>Had your contract mobile 11 Mnths? Latest Moto...</td>\n",
       "    </tr>\n",
       "    <tr>\n",
       "      <th>1286</th>\n",
       "      <td>1</td>\n",
       "      <td>Yeh. Indians was nice. Tho it did kane me off ...</td>\n",
       "    </tr>\n",
       "    <tr>\n",
       "      <th>1287</th>\n",
       "      <td>0</td>\n",
       "      <td>REMINDER FROM O2: To get 2.50 pounds free call...</td>\n",
       "    </tr>\n",
       "    <tr>\n",
       "      <th>1288</th>\n",
       "      <td>0</td>\n",
       "      <td>This is the 2nd time we have tried 2 contact u...</td>\n",
       "    </tr>\n",
       "    <tr>\n",
       "      <th>1289</th>\n",
       "      <td>1</td>\n",
       "      <td>The guy did some bitching but I acted like i'd...</td>\n",
       "    </tr>\n",
       "  </tbody>\n",
       "</table>\n",
       "<p>1290 rows × 2 columns</p>\n",
       "</div>"
      ],
      "text/plain": [
       "      resultado                                            mensaje\n",
       "0             0  Free entry in 2 a wkly comp to win FA Cup fina...\n",
       "1             0  FreeMsg Hey there darling it's been 3 week's n...\n",
       "2             1  As per your request 'Melle Melle (Oru Minnamin...\n",
       "3             0  WINNER!! As a valued network customer you have...\n",
       "4             0  Had your mobile 11 months or more? U R entitle...\n",
       "...         ...                                                ...\n",
       "1285          0  Had your contract mobile 11 Mnths? Latest Moto...\n",
       "1286          1  Yeh. Indians was nice. Tho it did kane me off ...\n",
       "1287          0  REMINDER FROM O2: To get 2.50 pounds free call...\n",
       "1288          0  This is the 2nd time we have tried 2 contact u...\n",
       "1289          1  The guy did some bitching but I acted like i'd...\n",
       "\n",
       "[1290 rows x 2 columns]"
      ]
     },
     "execution_count": 6,
     "metadata": {},
     "output_type": "execute_result"
    }
   ],
   "source": [
    "data"
   ]
  },
  {
   "cell_type": "markdown",
   "metadata": {
    "id": "iq_fmfj-FLbE"
   },
   "source": [
    "## Limpieza de datos"
   ]
  },
  {
   "cell_type": "code",
   "execution_count": 7,
   "metadata": {
    "id": "A44G9k2EFFCz"
   },
   "outputs": [],
   "source": [
    "def clean_tweet(tweet):\n",
    "\n",
    "  tweet= BeautifulSoup(tweet,\"lxml\").get_text() # sirve para trabajar en un formato especial de tratar el texto. hay que usar el get_text para que me lo devuela en un formato legible\n",
    "  \n",
    "  # Dejamos todo en minúscula\n",
    "  tweet = tweet.lower()\n",
    "  # Reemplazamos puntos por espacios\n",
    "  tweet = tweet.replace('.',' ')\n",
    "  # Eliminamos la @ y su mención\n",
    "  tweet = re.sub(r\"@[A-Za-z0-9.]+\",' ',tweet) # después del @ puede leer lo que se encuentra en el []. El + significa que puede ser mas de un caracter a los que se hace referencia. \n",
    "  # El r significa raw o string y le dice a la sentencia que lea la línea tal cual, por ejemplo si vieniera con hipervinculo que no lo considere.\n",
    "  # Eliminamos los links de la URLs\n",
    "  tweet = re.sub(r\"https?://[A-Za-z0-9./]+\",' ', tweet) # aqui el ? me dice que el caracter anterior puede estar o no\n",
    "  # Nos quedamos solo con los caracteres\n",
    "  tweet = re.sub(r\"[^a-zA-Z.!?']\",' ',tweet)# cualquier cosa que no sea lo que viene después de ^ se va a sustituir por espacios en blanco\n",
    "  # Eliminamos los sitios web\n",
    "  tweet = re.sub(r\"www[A-Za-z0-9./]+\",' ', tweet)\n",
    "  # Eliminamos espacios en blanco adicionales\n",
    "  tweet = re.sub(r\" +\",' ',tweet)# si existe más de un espacio en blanco lo reemplazamos por uno solo. El más me dice eso, si hay más de uno reemplazo\n",
    "  return tweet"
   ]
  },
  {
   "cell_type": "code",
   "execution_count": 8,
   "metadata": {
    "id": "Qk5XMMJXFaF7"
   },
   "outputs": [
    {
     "name": "stderr",
     "output_type": "stream",
     "text": [
      "/home/jupyter/.local/lib/python3.10/site-packages/bs4/__init__.py:435: MarkupResemblesLocatorWarning: The input looks more like a filename than markup. You may want to open this file and pass the filehandle into Beautiful Soup.\n",
      "  warnings.warn(\n"
     ]
    }
   ],
   "source": [
    "data_clean = [clean_tweet(tweet) for tweet in data.mensaje] # esto me queda en una lista guardado"
   ]
  },
  {
   "cell_type": "code",
   "execution_count": 9,
   "metadata": {
    "colab": {
     "base_uri": "https://localhost:8080/"
    },
    "executionInfo": {
     "elapsed": 13,
     "status": "ok",
     "timestamp": 1661473106463,
     "user": {
      "displayName": "FELIPE LERMANDA RODRIGUEZ",
      "userId": "01039212382747188054"
     },
     "user_tz": 240
    },
    "id": "8bdVT-NuFdHD",
    "outputId": "994c046e-0592-4c0f-9a92-4c2b6026c75a"
   },
   "outputs": [
    {
     "data": {
      "text/plain": [
       "{0, 1}"
      ]
     },
     "execution_count": 9,
     "metadata": {},
     "output_type": "execute_result"
    }
   ],
   "source": [
    "set(data.resultado) "
   ]
  },
  {
   "cell_type": "markdown",
   "metadata": {
    "id": "2IFXOZN2Yq1j"
   },
   "source": [
    "## Tokenización"
   ]
  },
  {
   "cell_type": "code",
   "execution_count": 11,
   "metadata": {
    "id": "qECRKReyXzHm"
   },
   "outputs": [],
   "source": [
    "# El corpus es la lista del texto que se va a analizar|\n",
    "\n",
    "tokenizer = tfds.deprecated.text.SubwordTextEncoder.build_from_corpus(\n",
    "    data_clean,target_vocab_size = 2**16\n",
    ")\n",
    "\n",
    "data_inputs = [tokenizer.encode(sentence) for sentence in data_clean]"
   ]
  },
  {
   "cell_type": "markdown",
   "metadata": {
    "id": "b28LB-qYY9wI"
   },
   "source": [
    "## Padding"
   ]
  },
  {
   "cell_type": "code",
   "execution_count": 12,
   "metadata": {
    "id": "Sj1itmO9Y_0L"
   },
   "outputs": [],
   "source": [
    "MAX_LEN = max(len(sentence) for sentence in data_inputs)\n",
    "data_inputs = tf.keras.preprocessing.sequence.pad_sequences(\n",
    "    data_inputs,\n",
    "    value = 0,\n",
    "    padding = \"post\",\n",
    "    maxlen = MAX_LEN\n",
    ")"
   ]
  },
  {
   "cell_type": "markdown",
   "metadata": {
    "id": "ymV81IiwZJuL"
   },
   "source": [
    "## Dividimos la mjuestra en train y test"
   ]
  },
  {
   "cell_type": "code",
   "execution_count": 13,
   "metadata": {
    "id": "tlmCVsAGZIlX"
   },
   "outputs": [],
   "source": [
    "y = pd.DataFrame(data.resultado)\n",
    "x = pd.DataFrame(data_inputs)"
   ]
  },
  {
   "cell_type": "code",
   "execution_count": 25,
   "metadata": {},
   "outputs": [
    {
     "data": {
      "text/html": [
       "<div>\n",
       "<style scoped>\n",
       "    .dataframe tbody tr th:only-of-type {\n",
       "        vertical-align: middle;\n",
       "    }\n",
       "\n",
       "    .dataframe tbody tr th {\n",
       "        vertical-align: top;\n",
       "    }\n",
       "\n",
       "    .dataframe thead th {\n",
       "        text-align: right;\n",
       "    }\n",
       "</style>\n",
       "<table border=\"1\" class=\"dataframe\">\n",
       "  <thead>\n",
       "    <tr style=\"text-align: right;\">\n",
       "      <th></th>\n",
       "      <th>0</th>\n",
       "      <th>1</th>\n",
       "      <th>2</th>\n",
       "      <th>3</th>\n",
       "      <th>4</th>\n",
       "      <th>5</th>\n",
       "      <th>6</th>\n",
       "      <th>7</th>\n",
       "      <th>8</th>\n",
       "      <th>9</th>\n",
       "      <th>...</th>\n",
       "      <th>34</th>\n",
       "      <th>35</th>\n",
       "      <th>36</th>\n",
       "      <th>37</th>\n",
       "      <th>38</th>\n",
       "      <th>39</th>\n",
       "      <th>40</th>\n",
       "      <th>41</th>\n",
       "      <th>42</th>\n",
       "      <th>43</th>\n",
       "    </tr>\n",
       "  </thead>\n",
       "  <tbody>\n",
       "    <tr>\n",
       "      <th>0</th>\n",
       "      <td>24</td>\n",
       "      <td>216</td>\n",
       "      <td>13</td>\n",
       "      <td>2</td>\n",
       "      <td>383</td>\n",
       "      <td>561</td>\n",
       "      <td>1</td>\n",
       "      <td>79</td>\n",
       "      <td>1198</td>\n",
       "      <td>1001</td>\n",
       "      <td>...</td>\n",
       "      <td>0</td>\n",
       "      <td>0</td>\n",
       "      <td>0</td>\n",
       "      <td>0</td>\n",
       "      <td>0</td>\n",
       "      <td>0</td>\n",
       "      <td>0</td>\n",
       "      <td>0</td>\n",
       "      <td>0</td>\n",
       "      <td>0</td>\n",
       "    </tr>\n",
       "    <tr>\n",
       "      <th>1</th>\n",
       "      <td>426</td>\n",
       "      <td>178</td>\n",
       "      <td>131</td>\n",
       "      <td>1542</td>\n",
       "      <td>161</td>\n",
       "      <td>4868</td>\n",
       "      <td>25</td>\n",
       "      <td>83</td>\n",
       "      <td>221</td>\n",
       "      <td>4868</td>\n",
       "      <td>...</td>\n",
       "      <td>4471</td>\n",
       "      <td>1</td>\n",
       "      <td>55</td>\n",
       "      <td>1</td>\n",
       "      <td>1841</td>\n",
       "      <td>0</td>\n",
       "      <td>0</td>\n",
       "      <td>0</td>\n",
       "      <td>0</td>\n",
       "      <td>0</td>\n",
       "    </tr>\n",
       "    <tr>\n",
       "      <th>2</th>\n",
       "      <td>64</td>\n",
       "      <td>110</td>\n",
       "      <td>9</td>\n",
       "      <td>922</td>\n",
       "      <td>179</td>\n",
       "      <td>825</td>\n",
       "      <td>825</td>\n",
       "      <td>1386</td>\n",
       "      <td>1425</td>\n",
       "      <td>1393</td>\n",
       "      <td>...</td>\n",
       "      <td>0</td>\n",
       "      <td>0</td>\n",
       "      <td>0</td>\n",
       "      <td>0</td>\n",
       "      <td>0</td>\n",
       "      <td>0</td>\n",
       "      <td>0</td>\n",
       "      <td>0</td>\n",
       "      <td>0</td>\n",
       "      <td>0</td>\n",
       "    </tr>\n",
       "    <tr>\n",
       "      <th>3</th>\n",
       "      <td>691</td>\n",
       "      <td>408</td>\n",
       "      <td>64</td>\n",
       "      <td>2</td>\n",
       "      <td>481</td>\n",
       "      <td>214</td>\n",
       "      <td>139</td>\n",
       "      <td>3</td>\n",
       "      <td>21</td>\n",
       "      <td>83</td>\n",
       "      <td>...</td>\n",
       "      <td>0</td>\n",
       "      <td>0</td>\n",
       "      <td>0</td>\n",
       "      <td>0</td>\n",
       "      <td>0</td>\n",
       "      <td>0</td>\n",
       "      <td>0</td>\n",
       "      <td>0</td>\n",
       "      <td>0</td>\n",
       "      <td>0</td>\n",
       "    </tr>\n",
       "    <tr>\n",
       "      <th>4</th>\n",
       "      <td>138</td>\n",
       "      <td>9</td>\n",
       "      <td>50</td>\n",
       "      <td>820</td>\n",
       "      <td>17</td>\n",
       "      <td>819</td>\n",
       "      <td>15</td>\n",
       "      <td>7</td>\n",
       "      <td>74</td>\n",
       "      <td>670</td>\n",
       "      <td>...</td>\n",
       "      <td>0</td>\n",
       "      <td>0</td>\n",
       "      <td>0</td>\n",
       "      <td>0</td>\n",
       "      <td>0</td>\n",
       "      <td>0</td>\n",
       "      <td>0</td>\n",
       "      <td>0</td>\n",
       "      <td>0</td>\n",
       "      <td>0</td>\n",
       "    </tr>\n",
       "    <tr>\n",
       "      <th>...</th>\n",
       "      <td>...</td>\n",
       "      <td>...</td>\n",
       "      <td>...</td>\n",
       "      <td>...</td>\n",
       "      <td>...</td>\n",
       "      <td>...</td>\n",
       "      <td>...</td>\n",
       "      <td>...</td>\n",
       "      <td>...</td>\n",
       "      <td>...</td>\n",
       "      <td>...</td>\n",
       "      <td>...</td>\n",
       "      <td>...</td>\n",
       "      <td>...</td>\n",
       "      <td>...</td>\n",
       "      <td>...</td>\n",
       "      <td>...</td>\n",
       "      <td>...</td>\n",
       "      <td>...</td>\n",
       "      <td>...</td>\n",
       "      <td>...</td>\n",
       "    </tr>\n",
       "    <tr>\n",
       "      <th>1285</th>\n",
       "      <td>138</td>\n",
       "      <td>9</td>\n",
       "      <td>1220</td>\n",
       "      <td>50</td>\n",
       "      <td>1961</td>\n",
       "      <td>15</td>\n",
       "      <td>154</td>\n",
       "      <td>491</td>\n",
       "      <td>81</td>\n",
       "      <td>669</td>\n",
       "      <td>...</td>\n",
       "      <td>0</td>\n",
       "      <td>0</td>\n",
       "      <td>0</td>\n",
       "      <td>0</td>\n",
       "      <td>0</td>\n",
       "      <td>0</td>\n",
       "      <td>0</td>\n",
       "      <td>0</td>\n",
       "      <td>0</td>\n",
       "      <td>0</td>\n",
       "    </tr>\n",
       "    <tr>\n",
       "      <th>1286</th>\n",
       "      <td>1254</td>\n",
       "      <td>3814</td>\n",
       "      <td>67</td>\n",
       "      <td>395</td>\n",
       "      <td>787</td>\n",
       "      <td>28</td>\n",
       "      <td>130</td>\n",
       "      <td>3723</td>\n",
       "      <td>19</td>\n",
       "      <td>252</td>\n",
       "      <td>...</td>\n",
       "      <td>0</td>\n",
       "      <td>0</td>\n",
       "      <td>0</td>\n",
       "      <td>0</td>\n",
       "      <td>0</td>\n",
       "      <td>0</td>\n",
       "      <td>0</td>\n",
       "      <td>0</td>\n",
       "      <td>0</td>\n",
       "      <td>0</td>\n",
       "    </tr>\n",
       "    <tr>\n",
       "      <th>1287</th>\n",
       "      <td>1828</td>\n",
       "      <td>30</td>\n",
       "      <td>394</td>\n",
       "      <td>1</td>\n",
       "      <td>36</td>\n",
       "      <td>334</td>\n",
       "      <td>24</td>\n",
       "      <td>10</td>\n",
       "      <td>748</td>\n",
       "      <td>8</td>\n",
       "      <td>...</td>\n",
       "      <td>0</td>\n",
       "      <td>0</td>\n",
       "      <td>0</td>\n",
       "      <td>0</td>\n",
       "      <td>0</td>\n",
       "      <td>0</td>\n",
       "      <td>0</td>\n",
       "      <td>0</td>\n",
       "      <td>0</td>\n",
       "      <td>0</td>\n",
       "    </tr>\n",
       "    <tr>\n",
       "      <th>1288</th>\n",
       "      <td>40</td>\n",
       "      <td>11</td>\n",
       "      <td>5</td>\n",
       "      <td>199</td>\n",
       "      <td>89</td>\n",
       "      <td>34</td>\n",
       "      <td>21</td>\n",
       "      <td>330</td>\n",
       "      <td>96</td>\n",
       "      <td>7</td>\n",
       "      <td>...</td>\n",
       "      <td>0</td>\n",
       "      <td>0</td>\n",
       "      <td>0</td>\n",
       "      <td>0</td>\n",
       "      <td>0</td>\n",
       "      <td>0</td>\n",
       "      <td>0</td>\n",
       "      <td>0</td>\n",
       "      <td>0</td>\n",
       "      <td>0</td>\n",
       "    </tr>\n",
       "    <tr>\n",
       "      <th>1289</th>\n",
       "      <td>5</td>\n",
       "      <td>599</td>\n",
       "      <td>130</td>\n",
       "      <td>150</td>\n",
       "      <td>4594</td>\n",
       "      <td>27</td>\n",
       "      <td>4</td>\n",
       "      <td>4801</td>\n",
       "      <td>77</td>\n",
       "      <td>4934</td>\n",
       "      <td>...</td>\n",
       "      <td>0</td>\n",
       "      <td>0</td>\n",
       "      <td>0</td>\n",
       "      <td>0</td>\n",
       "      <td>0</td>\n",
       "      <td>0</td>\n",
       "      <td>0</td>\n",
       "      <td>0</td>\n",
       "      <td>0</td>\n",
       "      <td>0</td>\n",
       "    </tr>\n",
       "  </tbody>\n",
       "</table>\n",
       "<p>1290 rows × 44 columns</p>\n",
       "</div>"
      ],
      "text/plain": [
       "        0     1     2     3     4     5    6     7     8     9   ...    34  \\\n",
       "0       24   216    13     2   383   561    1    79  1198  1001  ...     0   \n",
       "1      426   178   131  1542   161  4868   25    83   221  4868  ...  4471   \n",
       "2       64   110     9   922   179   825  825  1386  1425  1393  ...     0   \n",
       "3      691   408    64     2   481   214  139     3    21    83  ...     0   \n",
       "4      138     9    50   820    17   819   15     7    74   670  ...     0   \n",
       "...    ...   ...   ...   ...   ...   ...  ...   ...   ...   ...  ...   ...   \n",
       "1285   138     9  1220    50  1961    15  154   491    81   669  ...     0   \n",
       "1286  1254  3814    67   395   787    28  130  3723    19   252  ...     0   \n",
       "1287  1828    30   394     1    36   334   24    10   748     8  ...     0   \n",
       "1288    40    11     5   199    89    34   21   330    96     7  ...     0   \n",
       "1289     5   599   130   150  4594    27    4  4801    77  4934  ...     0   \n",
       "\n",
       "      35  36  37    38  39  40  41  42  43  \n",
       "0      0   0   0     0   0   0   0   0   0  \n",
       "1      1  55   1  1841   0   0   0   0   0  \n",
       "2      0   0   0     0   0   0   0   0   0  \n",
       "3      0   0   0     0   0   0   0   0   0  \n",
       "4      0   0   0     0   0   0   0   0   0  \n",
       "...   ..  ..  ..   ...  ..  ..  ..  ..  ..  \n",
       "1285   0   0   0     0   0   0   0   0   0  \n",
       "1286   0   0   0     0   0   0   0   0   0  \n",
       "1287   0   0   0     0   0   0   0   0   0  \n",
       "1288   0   0   0     0   0   0   0   0   0  \n",
       "1289   0   0   0     0   0   0   0   0   0  \n",
       "\n",
       "[1290 rows x 44 columns]"
      ]
     },
     "execution_count": 25,
     "metadata": {},
     "output_type": "execute_result"
    }
   ],
   "source": [
    "x"
   ]
  },
  {
   "cell_type": "code",
   "execution_count": 14,
   "metadata": {
    "id": "j2YkUPr8ZXLv"
   },
   "outputs": [],
   "source": [
    "from sklearn.model_selection import train_test_split\n",
    "X_train, X_test, Y_train, Y_test = train_test_split(x,y,test_size = 0.3,random_state = 12)"
   ]
  },
  {
   "cell_type": "markdown",
   "metadata": {
    "id": "0kzdDMhSZbZ1"
   },
   "source": [
    "## Construcción del modelo"
   ]
  },
  {
   "cell_type": "code",
   "execution_count": 15,
   "metadata": {
    "id": "d7P7PMzUZe3Z"
   },
   "outputs": [],
   "source": [
    "class DCNN(tf.keras.Model):\n",
    "  \n",
    "  def __init__(self,\n",
    "             vocab_size,\n",
    "             emb_dim = 128,\n",
    "             nb_filters = 50, \n",
    "             FFN_units = 512,\n",
    "             nb_classes = 2,\n",
    "             dropout_rate = 0.1,\n",
    "             training = False,\n",
    "             name = \"dcnn\"):\n",
    "    \n",
    "    super(DCNN, self).__init__(name=name)\n",
    "\n",
    "    self.embedding = layers.Embedding(vocab_size,\n",
    "        emb_dim)\n",
    "    \n",
    "    self.bigram = layers.Conv1D(filters = nb_filters,\n",
    "    kernel_size = 2,\n",
    "    padding = \"valid\",\n",
    "    activation = \"relu\")\n",
    "    \n",
    "    self.trigram = layers.Conv1D(filters = nb_filters,\n",
    "                                kernel_size = 3,\n",
    "                                padding = \"valid\",\n",
    "                                activation = \"relu\")\n",
    "     \n",
    "    self.fourgram = layers.Conv1D(filters = nb_filters,\n",
    "                                kernel_size = 4,\n",
    "                                padding = \"valid\",\n",
    "                                activation = \"relu\")\n",
    "    \n",
    "    self.pool = layers.GlobalMaxPool1D()\n",
    "\n",
    "\n",
    "    self.dense_1 = layers.Dense(units = FFN_units, activation = \"relu\")\n",
    "    self.dropout = layers.Dropout(rate = dropout_rate)\n",
    "    if nb_classes == 2:\n",
    "        self.last_dense = layers.Dense(units = 1, activation = \"sigmoid\")\n",
    "    else:\n",
    "      self.last_dense = layers.Dense(units = nb_classes,activation = \"softmax\") \n",
    "\n",
    "  def call(self,inputs, training):\n",
    "    x = self.embedding(inputs)\n",
    "    x_1 = self.bigram(x)\n",
    "    x_1 = self.pool(x_1)       \n",
    "    x_2 = self.trigram(x)\n",
    "    x_2 = self.pool(x_2)         \n",
    "    x_3 = self.fourgram(x)\n",
    "    x_3 = self.pool(x_3)\n",
    "\n",
    "    merged = tf.concat([x_1,x_2,x_3], axis = -1)# con el -1 le digo el último eje de la combinacion // batch_size,3*nb_filters\n",
    "    merged = self.dense_1(merged)\n",
    "    merged = self.dropout(merged, training)\n",
    "    output = self.last_dense(merged)\n",
    "\n",
    "    return output             \n",
    " #vocab_size,# tamaño de las palabras a trabajar\n",
    "  #           emb_dim = 128,# a que espacio vectorial vamos a llevar nuestras palabras (cada una de ellas se irá a un espacio de 128 dimensiones)\n",
    "   #          nb_filters = 50, # cuantas palabras filtra\n",
    "    #         FNN_units 512,# numero de neuronas\n",
    "     #        nb_classes = 2,# categorias de clasificacion\n",
    "  #dropout_rate = 0.1, evitar el overfitting, el 10% de las neuronas no aprenderan transmitiran lo aprendido"
   ]
  },
  {
   "cell_type": "markdown",
   "metadata": {
    "id": "Je7vnq9OZxQN"
   },
   "source": [
    "## Aplicación"
   ]
  },
  {
   "cell_type": "markdown",
   "metadata": {
    "id": "Zg26wxl0a1QP"
   },
   "source": [
    "### Configuración de parámetros"
   ]
  },
  {
   "cell_type": "code",
   "execution_count": 16,
   "metadata": {
    "id": "l6tftBqKZjQZ"
   },
   "outputs": [],
   "source": [
    "VOCAB_SIZE = tokenizer.vocab_size\n",
    "\n",
    "EMB_DIM = 200\n",
    "NB_FILTERS = 100\n",
    "FFN_UNITS = 256\n",
    "NB_CLASSES = 2 #LEN(SET(TRAIN_LABELS))\n",
    "\n",
    "DROPOUT_RATE = 0.4 # razón de no aprendizaje de las neuronas\n",
    "BATCH_SIZE = 32\n",
    "NB_EPOCHS = 2"
   ]
  },
  {
   "cell_type": "markdown",
   "metadata": {
    "id": "6BaIHSu_bHU7"
   },
   "source": [
    "### Entrenamiento"
   ]
  },
  {
   "cell_type": "code",
   "execution_count": 17,
   "metadata": {
    "id": "IWLtimn7bHCs"
   },
   "outputs": [
    {
     "name": "stderr",
     "output_type": "stream",
     "text": [
      "2022-08-26 15:51:57.243969: W tensorflow/stream_executor/platform/default/dso_loader.cc:64] Could not load dynamic library 'libcuda.so.1'; dlerror: libcuda.so.1: cannot open shared object file: No such file or directory\n",
      "2022-08-26 15:51:57.244003: W tensorflow/stream_executor/cuda/cuda_driver.cc:269] failed call to cuInit: UNKNOWN ERROR (303)\n",
      "2022-08-26 15:51:57.244030: I tensorflow/stream_executor/cuda/cuda_diagnostics.cc:156] kernel driver does not appear to be running on this host (jupyter): /proc/driver/nvidia/version does not exist\n",
      "2022-08-26 15:51:57.244311: I tensorflow/core/platform/cpu_feature_guard.cc:193] This TensorFlow binary is optimized with oneAPI Deep Neural Network Library (oneDNN) to use the following CPU instructions in performance-critical operations:  AVX2 FMA\n",
      "To enable them in other operations, rebuild TensorFlow with the appropriate compiler flags.\n"
     ]
    }
   ],
   "source": [
    "Dcnn = DCNN(vocab_size = VOCAB_SIZE,\n",
    "            emb_dim = EMB_DIM,\n",
    "            nb_filters = NB_FILTERS,\n",
    "            FFN_units = FFN_UNITS,\n",
    "            nb_classes = NB_CLASSES,\n",
    "            dropout_rate = DROPOUT_RATE)"
   ]
  },
  {
   "cell_type": "code",
   "execution_count": 18,
   "metadata": {
    "id": "v1W-P5UubNZ2"
   },
   "outputs": [],
   "source": [
    "if NB_CLASSES == 2:\n",
    "  Dcnn.compile (loss = \"binary_crossentropy\",\n",
    "                optimizer = \"adam\",\n",
    "                metrics = [\"accuracy\"])\n",
    "else:\n",
    "  Dcnn.compile(loss= \"sparse_categorical_crossentropy\",\n",
    "               optimizer = \"adam\",\n",
    "               metrics = [\"sparse_categorical_accuracy\"])  "
   ]
  },
  {
   "cell_type": "code",
   "execution_count": 19,
   "metadata": {
    "id": "YjafL4cmbQGr"
   },
   "outputs": [],
   "source": [
    "#checkpoint_path = '/content/drive/MyDrive/Colab Notebooks/CNN Spam Ham/check_point'\n",
    "\n",
    "#ckpt = tf.train.Checkpoint(Dcnn = Dcnn)\n",
    "\n",
    "#ckpt_manager = tf.train.CheckpointManager(ckpt, checkpoint_path, max_to_keep = 10)\n",
    "\n",
    "#if ckpt_manager.latest_checkpoint:\n",
    "#  ckpt.restore(ckpt_manager.lastest_checkpoint)\n",
    " # print(\"Último checkpoint restaurado\")"
   ]
  },
  {
   "cell_type": "code",
   "execution_count": 20,
   "metadata": {
    "colab": {
     "base_uri": "https://localhost:8080/"
    },
    "executionInfo": {
     "elapsed": 4914,
     "status": "ok",
     "timestamp": 1661474404950,
     "user": {
      "displayName": "FELIPE LERMANDA RODRIGUEZ",
      "userId": "01039212382747188054"
     },
     "user_tz": 240
    },
    "id": "LnsCtOoebryd",
    "outputId": "005f9158-5c1a-40aa-9142-06e4fbe4ab27"
   },
   "outputs": [
    {
     "name": "stdout",
     "output_type": "stream",
     "text": [
      "Epoch 1/2\n",
      "29/29 [==============================] - 1s 18ms/step - loss: 0.6075 - accuracy: 0.7807\n",
      "Epoch 2/2\n",
      "29/29 [==============================] - 0s 16ms/step - loss: 0.1765 - accuracy: 0.9690\n"
     ]
    },
    {
     "data": {
      "text/plain": [
       "<keras.callbacks.History at 0x7fb492952410>"
      ]
     },
     "execution_count": 20,
     "metadata": {},
     "output_type": "execute_result"
    }
   ],
   "source": [
    "Dcnn.fit(X_train,\n",
    "         Y_train,\n",
    "         batch_size = BATCH_SIZE,\n",
    "         epochs = NB_EPOCHS)\n",
    "#ckpt_manager.save()"
   ]
  },
  {
   "cell_type": "markdown",
   "metadata": {
    "id": "vk5JQ3ohsNbN"
   },
   "source": [
    "## Evaluación"
   ]
  },
  {
   "cell_type": "code",
   "execution_count": 21,
   "metadata": {
    "colab": {
     "base_uri": "https://localhost:8080/"
    },
    "executionInfo": {
     "elapsed": 898,
     "status": "ok",
     "timestamp": 1661474410482,
     "user": {
      "displayName": "FELIPE LERMANDA RODRIGUEZ",
      "userId": "01039212382747188054"
     },
     "user_tz": 240
    },
    "id": "ononvPlBxsLZ",
    "outputId": "e7cd4080-ef95-4c64-e26d-de30b5bb8c2e"
   },
   "outputs": [
    {
     "name": "stdout",
     "output_type": "stream",
     "text": [
      "13/13 [==============================] - 0s 5ms/step - loss: 0.1124 - accuracy: 0.9767\n",
      "[0.11240389198064804, 0.9767441749572754]\n"
     ]
    }
   ],
   "source": [
    "results = Dcnn.evaluate(X_test,Y_test,batch_size = BATCH_SIZE)\n",
    "print(results)"
   ]
  },
  {
   "cell_type": "code",
   "execution_count": 22,
   "metadata": {
    "colab": {
     "base_uri": "https://localhost:8080/"
    },
    "executionInfo": {
     "elapsed": 413,
     "status": "ok",
     "timestamp": 1661475182934,
     "user": {
      "displayName": "FELIPE LERMANDA RODRIGUEZ",
      "userId": "01039212382747188054"
     },
     "user_tz": 240
    },
    "id": "lm__biL0bv21",
    "outputId": "dd9cb9df-6677-4291-8a62-feea9fd7fa2c"
   },
   "outputs": [
    {
     "data": {
      "text/plain": [
       "array([[0.30338168]], dtype=float32)"
      ]
     },
     "execution_count": 22,
     "metadata": {},
     "output_type": "execute_result"
    }
   ],
   "source": [
    "Dcnn(np.array([tokenizer.encode(\"https: you win game\")]),training = False).numpy()"
   ]
  },
  {
   "cell_type": "code",
   "execution_count": 23,
   "metadata": {
    "id": "APfT2-maxcBl"
   },
   "outputs": [],
   "source": [
    "#from sklearn.metrics import classification_report\n",
    "\n",
    "#clf = grid_search.best_estimator_\n",
    "#pred_lda = clf.predict(X_test)\n",
    "\n",
    "#print(classification_report(Y_test, pred_lda))"
   ]
  }
 ],
 "metadata": {
  "colab": {
   "authorship_tag": "ABX9TyND1wlDtKWMQjSwn1AMOfgL",
   "collapsed_sections": [
    "Griwatj9Chha",
    "YpTJHC-RC84f",
    "iq_fmfj-FLbE",
    "2IFXOZN2Yq1j",
    "b28LB-qYY9wI",
    "ymV81IiwZJuL",
    "0kzdDMhSZbZ1"
   ],
   "mount_file_id": "14TBIa0b8Casr5kaEQQhktO6fmqH6bgc5",
   "name": "CNN clasificación Spam/Ham.ipynb",
   "provenance": []
  },
  "kernelspec": {
   "display_name": "Python 3 (ipykernel)",
   "language": "python",
   "name": "python3"
  },
  "language_info": {
   "codemirror_mode": {
    "name": "ipython",
    "version": 3
   },
   "file_extension": ".py",
   "mimetype": "text/x-python",
   "name": "python",
   "nbconvert_exporter": "python",
   "pygments_lexer": "ipython3",
   "version": "3.10.4"
  }
 },
 "nbformat": 4,
 "nbformat_minor": 4
}
