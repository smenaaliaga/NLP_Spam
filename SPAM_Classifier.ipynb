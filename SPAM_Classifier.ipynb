{
 "cells": [
  {
   "cell_type": "code",
   "execution_count": 328,
   "metadata": {
    "id": "PzqmJ8tl0Fta"
   },
   "outputs": [
    {
     "name": "stderr",
     "output_type": "stream",
     "text": [
      "[nltk_data] Downloading package stopwords to\n",
      "[nltk_data]     /home/jupyter/nltk_data...\n",
      "[nltk_data]   Package stopwords is already up-to-date!\n",
      "[nltk_data] Downloading package wordnet to /home/jupyter/nltk_data...\n",
      "[nltk_data]   Package wordnet is already up-to-date!\n",
      "[nltk_data] Downloading package omw-1.4 to /home/jupyter/nltk_data...\n",
      "[nltk_data]   Package omw-1.4 is already up-to-date!\n"
     ]
    },
    {
     "data": {
      "text/plain": [
       "True"
      ]
     },
     "execution_count": 328,
     "metadata": {},
     "output_type": "execute_result"
    }
   ],
   "source": [
    "import sys\n",
    "import nltk\n",
    "from nltk.corpus import stopwords\n",
    "import pandas as pd\n",
    "import numpy as np\n",
    "from wordcloud import WordCloud\n",
    "import matplotlib.pyplot as plt\n",
    "import tensorflow_hub as hub\n",
    "import tensorflow_text\n",
    "\n",
    "import warnings\n",
    "warnings.filterwarnings('ignore')\n",
    "\n",
    "nltk.download('stopwords')\n",
    "nltk.download('wordnet')\n",
    "nltk.download('omw-1.4')"
   ]
  },
  {
   "cell_type": "markdown",
   "metadata": {
    "id": "RRs157_mNB1U"
   },
   "source": [
    "# 1. Carga de Datos y AED"
   ]
  },
  {
   "cell_type": "code",
   "execution_count": 2,
   "metadata": {
    "colab": {
     "base_uri": "https://localhost:8080/"
    },
    "id": "VAuNnUjf-onU",
    "outputId": "06ece8f2-1de6-403f-b180-46760e376c79"
   },
   "outputs": [
    {
     "data": {
      "text/plain": [
       "(1290, 2)"
      ]
     },
     "execution_count": 2,
     "metadata": {},
     "output_type": "execute_result"
    }
   ],
   "source": [
    "text = pd.read_csv(\"SMSSpamCollection(Filtrada).csv\", on_bad_lines='skip', sep=';')\n",
    "text.shape"
   ]
  },
  {
   "cell_type": "code",
   "execution_count": 3,
   "metadata": {
    "colab": {
     "base_uri": "https://localhost:8080/",
     "height": 206
    },
    "id": "i3LzEhJIBvqJ",
    "outputId": "3bad234c-5928-47af-d9c6-e1327245feb0"
   },
   "outputs": [
    {
     "data": {
      "text/html": [
       "<div>\n",
       "<style scoped>\n",
       "    .dataframe tbody tr th:only-of-type {\n",
       "        vertical-align: middle;\n",
       "    }\n",
       "\n",
       "    .dataframe tbody tr th {\n",
       "        vertical-align: top;\n",
       "    }\n",
       "\n",
       "    .dataframe thead th {\n",
       "        text-align: right;\n",
       "    }\n",
       "</style>\n",
       "<table border=\"1\" class=\"dataframe\">\n",
       "  <thead>\n",
       "    <tr style=\"text-align: right;\">\n",
       "      <th></th>\n",
       "      <th>resultado</th>\n",
       "      <th>mensaje</th>\n",
       "    </tr>\n",
       "  </thead>\n",
       "  <tbody>\n",
       "    <tr>\n",
       "      <th>0</th>\n",
       "      <td>spam</td>\n",
       "      <td>Free entry in 2 a wkly comp to win FA Cup fina...</td>\n",
       "    </tr>\n",
       "    <tr>\n",
       "      <th>1</th>\n",
       "      <td>spam</td>\n",
       "      <td>FreeMsg Hey there darling it's been 3 week's n...</td>\n",
       "    </tr>\n",
       "    <tr>\n",
       "      <th>2</th>\n",
       "      <td>ham</td>\n",
       "      <td>As per your request 'Melle Melle (Oru Minnamin...</td>\n",
       "    </tr>\n",
       "    <tr>\n",
       "      <th>3</th>\n",
       "      <td>spam</td>\n",
       "      <td>WINNER!! As a valued network customer you have...</td>\n",
       "    </tr>\n",
       "    <tr>\n",
       "      <th>4</th>\n",
       "      <td>spam</td>\n",
       "      <td>Had your mobile 11 months or more? U R entitle...</td>\n",
       "    </tr>\n",
       "  </tbody>\n",
       "</table>\n",
       "</div>"
      ],
      "text/plain": [
       "  resultado                                            mensaje\n",
       "0      spam  Free entry in 2 a wkly comp to win FA Cup fina...\n",
       "1      spam  FreeMsg Hey there darling it's been 3 week's n...\n",
       "2       ham  As per your request 'Melle Melle (Oru Minnamin...\n",
       "3      spam  WINNER!! As a valued network customer you have...\n",
       "4      spam  Had your mobile 11 months or more? U R entitle..."
      ]
     },
     "execution_count": 3,
     "metadata": {},
     "output_type": "execute_result"
    }
   ],
   "source": [
    "text.head()"
   ]
  },
  {
   "cell_type": "code",
   "execution_count": null,
   "metadata": {
    "colab": {
     "base_uri": "https://localhost:8080/",
     "height": 265
    },
    "id": "f7-Bo6ttjuV4",
    "outputId": "87e5c45f-fb4b-4949-80e5-9264d9d186ff"
   },
   "outputs": [],
   "source": [
    "ratio_spam_and_ham = text[\"resultado\"].value_counts()\n",
    "ratio_spam_and_ham.plot.pie(autopct = '%1.1f%%', fontsize=10, figsize=(6,6))"
   ]
  },
  {
   "cell_type": "code",
   "execution_count": null,
   "metadata": {},
   "outputs": [],
   "source": [
    "def visualize(label, data):\n",
    "    words=''\n",
    "    for msg in data[data['resultado'] == label]['mensaje']:\n",
    "        msg = msg.lower()\n",
    "        words+=msg + ''\n",
    "    wordcloud = WordCloud(width=600, height=400).generate(words)\n",
    "    plt.figure(figsize=(16,8))\n",
    "    plt.imshow(wordcloud)\n",
    "    plt.axis('off')\n",
    "    plt.show()\n",
    "\n",
    "print(\"SPAM msj:\")\n",
    "visualize('spam', text)\n",
    "\n",
    "print(\"HAM msj:\")\n",
    "visualize('ham', text)"
   ]
  },
  {
   "cell_type": "markdown",
   "metadata": {
    "id": "UGdtvK_eNMYW"
   },
   "source": [
    "# 2. Preprocesamiento de Texto"
   ]
  },
  {
   "cell_type": "markdown",
   "metadata": {},
   "source": [
    "## 2.1. Expresiones Regulares"
   ]
  },
  {
   "cell_type": "code",
   "execution_count": 4,
   "metadata": {},
   "outputs": [],
   "source": [
    "# Use regular expression\n",
    "\n",
    "def regular_expression(processed) :\n",
    "    # Replace email addresses with 'email'\n",
    "    processed = processed.str.replace(r'^.+@[^\\.].*\\.[a-z]', 'emailaddress', regex=True)\n",
    "\n",
    "    # Replace URLs with 'webaddress'\n",
    "    processed = processed.str.replace(r'https?://[A-Za-z0-9./]+', 'webaddress', regex=True)\n",
    "\n",
    "    # Replace URLs with 'webaddress'\n",
    "    processed = processed.str.replace(r'www.[A-Za-z0-9./]+', 'webaddress', regex=True)\n",
    "\n",
    "    # Replace money symbols with 'moneysymb' (£ can by typed with ALT key + 156)\n",
    "    processed = processed.str.replace(r'£|\\$', 'moneysymb', regex=True)\n",
    "\n",
    "    # Replace 10 digit phone numbers (formats include paranthesis, spaces, no spaces, dashes) with 'phonenumber'\n",
    "    processed = processed.str.replace(r'^\\(?[\\d]{3}\\)?[\\s-]?[\\d]{3}[\\s-]?[\\d]{4}$', 'phonenumbr', regex=True)\n",
    "\n",
    "    # Replace numbers with 'numbr'\n",
    "    processed = processed.str.replace(r'\\d+(\\.\\d+)?', 'numbr', regex=True)\n",
    "    \n",
    "    # Remove punctuation\n",
    "    processed = processed.str.replace(r'[^\\w\\d\\s]', ' ', regex=True)\n",
    "\n",
    "    # Replace whitespace between terms with a single space\n",
    "    processed = processed.str.replace(r'\\s+', ' ', regex=True)\n",
    "\n",
    "    # Remove leading and trailing whitespace\n",
    "    processed = processed.str.replace(r'^\\s+|\\s+?$', '', regex=True)\n",
    "    \n",
    "    return processed"
   ]
  },
  {
   "cell_type": "code",
   "execution_count": 5,
   "metadata": {},
   "outputs": [],
   "source": [
    "# Apply lowercase\n",
    "\n",
    "def lowercase(processed) :\n",
    "    processed = processed.str.lower()\n",
    "    return processed"
   ]
  },
  {
   "cell_type": "markdown",
   "metadata": {},
   "source": [
    "## 2.2. Stop Words"
   ]
  },
  {
   "cell_type": "code",
   "execution_count": 6,
   "metadata": {
    "colab": {
     "base_uri": "https://localhost:8080/"
    },
    "id": "NGIh-OcKpaqH",
    "outputId": "ad8467ca-f530-4eef-bd17-69ac23476c4d"
   },
   "outputs": [],
   "source": [
    "# Remove Stop Words\n",
    "\n",
    "def stop_words(processed) :\n",
    "    stop_words = set(stopwords.words('english'))\n",
    "    processed = processed.apply(lambda x: ' '.join(term for term in x.split() if term not in stop_words))\n",
    "    return processed"
   ]
  },
  {
   "cell_type": "markdown",
   "metadata": {},
   "source": [
    "## 2.3. Stemming and Lemmatization\n",
    "\n",
    "Stemming identifies the common root form of a word by removing or replacing word suffixes (e.g. “flooding” is stemmed as “flood”), while lemmatization identifies the inflected forms of a word and returns its base form (e.g. “better” is lemmatized as “good”).\n",
    "\n",
    "Huang, X., Li, Z., Wang, C., & Ning, H. (2020). Identifying disaster related social media for rapid response: a visual-textual fused CNN architecture. International Journal of Digital Earth, 13(9), 1017–1039. https://doi.org/10.1080/17538947.2019.1633425"
   ]
  },
  {
   "cell_type": "code",
   "execution_count": 7,
   "metadata": {
    "id": "E5VSf8dFrptt"
   },
   "outputs": [],
   "source": [
    "# Apply ONLY Stemming\n",
    "\n",
    "def stemming(processed) :\n",
    "    snow = nltk.SnowballStemmer(language='english')\n",
    "    processed = processed.apply(lambda x: ' '.join(snow.stem(term) for term in x.split()))\n",
    "    return processed"
   ]
  },
  {
   "cell_type": "code",
   "execution_count": 8,
   "metadata": {},
   "outputs": [],
   "source": [
    "# Apply ONLY Lemmatization\n",
    "\n",
    "def lemmatization(processed) :\n",
    "    lmt = nltk.stem.WordNetLemmatizer()\n",
    "    processed = processed.apply(lambda x: ' '.join(lmt.lemmatize(term) for term in x.split()))\n",
    "    return processed"
   ]
  },
  {
   "cell_type": "markdown",
   "metadata": {},
   "source": [
    "## 2.4. Aplicar preprocesamientos"
   ]
  },
  {
   "cell_type": "code",
   "execution_count": 9,
   "metadata": {},
   "outputs": [],
   "source": [
    "def preprocessing(processed) :\n",
    "    processed = regular_expression(processed)\n",
    "    processed = lowercase(processed)\n",
    "    processed = stop_words(processed)\n",
    "    # processed = stemming(processed)\n",
    "    processed = lemmatization(processed)\n",
    "    return processed"
   ]
  },
  {
   "cell_type": "code",
   "execution_count": 16,
   "metadata": {},
   "outputs": [],
   "source": [
    "processed = preprocessing(text[\"mensaje\"])"
   ]
  },
  {
   "cell_type": "markdown",
   "metadata": {},
   "source": [
    "# 3. Definir Modelo de Clasificación"
   ]
  },
  {
   "cell_type": "markdown",
   "metadata": {},
   "source": [
    "## 3.1. Machine Learning"
   ]
  },
  {
   "cell_type": "code",
   "execution_count": 10,
   "metadata": {},
   "outputs": [],
   "source": [
    "from sklearn.model_selection import GridSearchCV\n",
    "from sklearn.metrics import classification_report\n",
    "from sklearn.metrics import ConfusionMatrixDisplay\n",
    "from sklearn.model_selection import cross_val_score\n",
    "\n",
    "import time"
   ]
  },
  {
   "cell_type": "code",
   "execution_count": 109,
   "metadata": {},
   "outputs": [],
   "source": [
    "def confusion_matrix(clf_best, X_test, y_test) :\n",
    "    disp = ConfusionMatrixDisplay.from_estimator(\n",
    "       clf_best,\n",
    "       X_test,\n",
    "       y_test,\n",
    "       display_labels=None,\n",
    "       cmap=plt.cm.Blues,\n",
    "       normalize=None)\n",
    "\n",
    "    disp.ax_.set_xlabel('Predicción');\n",
    "    disp.ax_.set_ylabel('Realidad'); \n",
    "    disp.ax_.xaxis.set_ticklabels(['0', '1']); \n",
    "    disp.ax_.yaxis.set_ticklabels(['0', '1']);\n",
    "    \n",
    "    print(disp.confusion_matrix)\n",
    "\n",
    "    plt.show()"
   ]
  },
  {
   "cell_type": "code",
   "execution_count": 402,
   "metadata": {},
   "outputs": [],
   "source": [
    "def classifier(clf, parameters, X_train, y_train, X_test, y_test) :\n",
    "    #### Train\n",
    "    print('=> Train')\n",
    "    print(' ')\n",
    "    # Start stopwatch\n",
    "    tic = time.time() \n",
    "    clf = GridSearchCV(clf, parameters, scoring = 'f1', n_jobs = -1)\n",
    "    clf.fit(X_train, y_train)\n",
    "    print('Best estimator: ', clf.best_estimator_)\n",
    "    print(' ')\n",
    "    print('Best mean validation f1 score: ', clf.cv_results_['mean_test_precision'][clf.best_index_])\n",
    "    print('Best std validation f1 score: ', clf.cv_results_['std_test_precision'][clf.best_index_])\n",
    "    print(' ')\n",
    "    print('Best mean validation precision score: ', clf.cv_results_['mean_test_f1'][clf.best_index_])\n",
    "    print('Best std validation precision score: ', clf.cv_results_['std_test_f1'][clf.best_index_])\n",
    "    # End stopwatch train\n",
    "    toc_train = time.time() \n",
    "    print(' ')\n",
    "    print(\"time to train process : \" + str(round(toc_train - tic, 2)) + \" sec\" )\n",
    "    \n",
    "    #### Test\n",
    "    print(' ')\n",
    "    print('=> Test')\n",
    "    clf_best = clf.best_estimator_\n",
    "    pred = clf_best.predict(X_test)\n",
    "    print(' ')\n",
    "    print('1) Report:')\n",
    "    print(' ')\n",
    "    print(classification_report(y_test, pred))\n",
    "    print(' ')\n",
    "    print('2) Confussion Matrix')\n",
    "    print(' ')\n",
    "    confusion_matrix(clf_best, X_test, y_test)\n",
    "    print(' ')\n",
    "    print('3) Cross Val Score (k-fold=5):')\n",
    "    # End stopwatch train\n",
    "    toc_test = time.time() \n",
    "    print(\"time to test process : \" + str(round(toc_test - toc_train, 2)) + \" sec\" )\n",
    "    print(' ')\n",
    "    # End stopwatch\n",
    "    toc_test = time.time() \n",
    "    print(\"==== time to total process! : \" + str(round(toc_test - tic, 2)) + \" sec ====\" )"
   ]
  },
  {
   "cell_type": "markdown",
   "metadata": {},
   "source": [
    "### 3.1.1. Hiperparámetros SVC"
   ]
  },
  {
   "cell_type": "code",
   "execution_count": 404,
   "metadata": {},
   "outputs": [],
   "source": [
    "from sklearn.svm import SVC\n",
    "# Hiperparameters\n",
    "parameters_svc = {\n",
    "    'C': [0.0001, 0.001, 0.1, 1, 10, 100, 1000], \n",
    "    'gamma': np.logspace(-9, 3, 13), \n",
    "    'class_weight' : [None, 'balanced'], \n",
    "    'kernel': ['rbf', 'linear','sigmoid']\n",
    "}\n",
    "# Base model\n",
    "svc = SVC(random_state=42)"
   ]
  },
  {
   "cell_type": "markdown",
   "metadata": {},
   "source": [
    "### 3.1.2. Hiperparámetros NuSVC"
   ]
  },
  {
   "cell_type": "code",
   "execution_count": 405,
   "metadata": {},
   "outputs": [],
   "source": [
    "from sklearn.svm import NuSVC\n",
    "# Hiperparameters\n",
    "parameters_nusvc = {\n",
    "    'nu' : [0.001, 0.01, 0.1, 0.2, 0.3, 0.4, 0.5, 0.6, 0.7, 0.8, 0.9],\n",
    "    'gamma': np.logspace(-9, 3, 13), \n",
    "    'class_weight' : [None, 'balanced'], \n",
    "    'kernel': ['rbf', 'linear', 'sigmoid']\n",
    "}\n",
    "# Base model\n",
    "nusvc = NuSVC(random_state=42)"
   ]
  },
  {
   "cell_type": "markdown",
   "metadata": {},
   "source": [
    "## 3.2. Deep Learning"
   ]
  },
  {
   "cell_type": "code",
   "execution_count": 370,
   "metadata": {},
   "outputs": [],
   "source": [
    "import tensorflow as tf\n",
    "from tensorflow import keras \n",
    "import tensorflow_addons as tfa\n",
    "    \n",
    "def deeplearning(X_train, y_train, X_test, y_test, lr, epochs) :\n",
    "    n = X_train.shape[1]\n",
    "    y_train = np.array(y_train).reshape(-1,1)\n",
    "    y_test = np.array(y_test).reshape(-1,1)\n",
    "    model = keras.models.Sequential([\n",
    "        keras.layers.Input(shape = (n,), sparse=True),\n",
    "        keras.layers.Dense(300, activation = 'relu'),\n",
    "        keras.layers.Dense(100, activation = 'relu'),\n",
    "        keras.layers.Dense(1, activation = 'sigmoid')\n",
    "    ])\n",
    "    model.summary()\n",
    "    model.compile(optimizer=keras.optimizers.SGD(lr=lr),\n",
    "                  loss='binary_crossentropy',\n",
    "                  metrics=[tfa.metrics.F1Score(num_classes=1, threshold=0.5)])\n",
    "    history = model.fit(X_train, y_train, validation_split=0.3, epochs=epochs, batch_size = 32, verbose = 0)\n",
    "    # Test\n",
    "    test_loss, test_acc = model.evaluate(X_test, y_test, steps=5)\n",
    "    print(' ')\n",
    "    print('Test score:', test_acc)\n",
    "    print(' ')\n",
    "    # Curva de Aprendizaje\n",
    "    print('Curva de Aprendizaje')\n",
    "    pd.DataFrame(history.history).astype(float).plot(figsize=(8, 5))\n",
    "    plt.gca().set_ylim(0, 1)\n",
    "    plt.show()\n",
    "    return history"
   ]
  },
  {
   "cell_type": "code",
   "execution_count": 371,
   "metadata": {},
   "outputs": [
    {
     "name": "stdout",
     "output_type": "stream",
     "text": [
      "Model: \"sequential_123\"\n",
      "_________________________________________________________________\n",
      " Layer (type)                Output Shape              Param #   \n",
      "=================================================================\n",
      " dense_350 (Dense)           (None, 300)               230700    \n",
      "                                                                 \n",
      " dense_351 (Dense)           (None, 100)               30100     \n",
      "                                                                 \n",
      " dense_352 (Dense)           (None, 1)                 101       \n",
      "                                                                 \n",
      "=================================================================\n",
      "Total params: 260,901\n",
      "Trainable params: 260,901\n",
      "Non-trainable params: 0\n",
      "_________________________________________________________________\n",
      "5/5 [==============================] - 0s 2ms/step - loss: 0.1858 - f1_score: 0.9336\n",
      " \n",
      "Test score: [0.9336493]\n",
      " \n",
      "Curva de Aprendizaje\n"
     ]
    },
    {
     "data": {
      "image/png": "[encoded data removed]",
      "text/plain": [
       "<Figure size 576x360 with 1 Axes>"
      ]
     },
     "metadata": {
      "needs_background": "light"
     },
     "output_type": "display_data"
    }
   ],
   "source": [
    "history = deeplearning(X_train_sbert, y_train, X_test_sbert, y_test, 0.0025, 50)"
   ]
  },
  {
   "cell_type": "markdown",
   "metadata": {
    "id": "1_-13NkRzJdx"
   },
   "source": [
    "# 4. Definir Métodos de Embedding"
   ]
  },
  {
   "cell_type": "markdown",
   "metadata": {},
   "source": [
    "## 4.1. Embeding Tradicional"
   ]
  },
  {
   "cell_type": "markdown",
   "metadata": {},
   "source": [
    "### 4.1.1. TF-IDF"
   ]
  },
  {
   "cell_type": "code",
   "execution_count": 98,
   "metadata": {
    "id": "DzUCBD_Hyo5R"
   },
   "outputs": [],
   "source": [
    "# TfidfVectorizer\n",
    "\n",
    "from sklearn.feature_extraction.text import TfidfVectorizer\n",
    "\n",
    "def tfidf(corpus) :\n",
    "    # Start stopwatch\n",
    "    tic = time.time()\n",
    "    \n",
    "    vectorizer = TfidfVectorizer()\n",
    "    X = vectorizer.fit_transform(corpus).toarray()\n",
    "    \n",
    "    # End stopwatch \n",
    "    toc = time.time() \n",
    "    print(\"time to embedding process  : \" + str(round(toc - tic, 2)) + \" sec\" )\n",
    "\n",
    "    return X"
   ]
  },
  {
   "cell_type": "markdown",
   "metadata": {},
   "source": [
    "### 4.1.2. Hashing Vectorizer"
   ]
  },
  {
   "cell_type": "code",
   "execution_count": 350,
   "metadata": {},
   "outputs": [],
   "source": [
    "# TfidfVectorizer\n",
    "\n",
    "from sklearn.feature_extraction.text import HashingVectorizer\n",
    "\n",
    "def hashingvectorizer(corpus) :\n",
    "    # Start stopwatch\n",
    "    tic = time.time()\n",
    "    \n",
    "    vectorizer = HashingVectorizer()\n",
    "    X = vectorizer.fit_transform(corpus).toarray()\n",
    "    \n",
    "    # End stopwatch \n",
    "    toc = time.time() \n",
    "    print(\"time to embedding process  : \" + str(round(toc - tic, 2)) + \" sec\" )\n",
    "\n",
    "    return X"
   ]
  },
  {
   "cell_type": "markdown",
   "metadata": {},
   "source": [
    "## 4.2. Método BERT"
   ]
  },
  {
   "cell_type": "markdown",
   "metadata": {},
   "source": [
    "Existen varios subgrupos pertenecientes a la familia de modelos BERT, entre ellos:\n",
    "\n",
    "- BERT Base : modelos con diferentes pesos dadas a conocer por los autores originales de BERT.\n",
    "- Small BERTS : tienen la misma arquitectura general bloques de transformadores pequeños, lo que le permite explorar soluciones de compromiso entre velocidad, el tamaño y la calidad.\n",
    "- ALBERT (A Lite BERT) : reduce el tamaño del modelo (pero no el tiempo de cálculo) mediante el intercambio de parámetros entre las capas.\n",
    "- BERT Expertos : ocho modelos que todos tienen la arquitectura BERT-base, pero ofrecen una elección entre diferentes dominios pre-formación, para alinear más estrechamente con la tarea de destino.\n",
    "- Electra : tiene la misma arquitectura que el BERT (en tres tamaños diferentes), pero se pre-formó como un discriminador en una puesta a punto que se asemeja a una Red Generativa Antagonica (GAN).\n",
    "- BERT con hablar-Heads Atención y cerrada GELU [ de base , gran ] tiene dos mejoras en el núcleo de la arquitectura del transformador."
   ]
  },
  {
   "cell_type": "markdown",
   "metadata": {},
   "source": [
    "**BERT Base**\n",
    "\n",
    "Existen 8 difrentes modelos BERT base con diferentes cáracteristicas definidas a continuación según su forma de llamado: \n",
    "\n",
    "__/ bert _ (idioma) _ (wwm) _ (case/uncase) _ (#L) _ (#H) _ (#A)__\n",
    "\n",
    "- (idioma), __en__: Ingles, __zh__: Chino, __multi__: Multilenguaje\n",
    "- (__wwm__): Si aparece, en el entrenamiento se aplicó un \"enmascaramiento de entrada aleatoria\" diferente al original propuesto en el paper.\n",
    "- (uncased/cased): __uncased__: Se normaliza la entrada aplicando _lowercase_, __cased__: Se conserva las mayuscuals/minusculas del texto.\n",
    "- (#L): Es el número de capas ocultas (es decir, bloques de transformadores).\n",
    "- (#H): Es el tamaño oculto.\n",
    "- (#A): Es el número de cabezas de atención.\n",
    "\n",
    "Los modelos BERT Base son:\n",
    "\n",
    "- /bert_en_uncased_L-12_H-768_A-12\n",
    "- /bert_en_uncased_L-24_H-1024_A-16\n",
    "- /bert_en_wwm_uncased_L-24_H-1024_A-16\n",
    "- /bert_en_cased_L-12_H-768_A-12\n",
    "- /bert_en_cased_L-24_H-1024_A-16\n",
    "- /bert_en_wwm_cased_L-24_H-1024_A-16\n",
    "- /bert_zh_L-12_H-768_A-12\n",
    "- /bert_multi_cased_L-12_H-768_A-12"
   ]
  },
  {
   "cell_type": "code",
   "execution_count": 320,
   "metadata": {},
   "outputs": [],
   "source": [
    "def bert(X, pprcss = 'bert_en_uncased_preprocess/3', enc = 'small_bert/bert_en_uncased_L-8_H-768_A-12/2') :\n",
    "    # Start stopwatch\n",
    "    tic = time.time()\n",
    "    \n",
    "    # preprocessor: \"objeto\" que se encargará de transformar el texto en el formato que necesita el modelo BERT para funcionar\n",
    "    # encoder: \"objeto\" que será el modelo BERT y se alimentará del resultado de preprocessor, retornando el texto transformado en un vector numérico.\n",
    "    preprocessor = hub.load(\"https://tfhub.dev/tensorflow/\" + pprcss)\n",
    "    encoder = hub.load(\"https://tfhub.dev/tensorflow/\" + enc)\n",
    "\n",
    "    # 5to paso: Vamos a usar el objeto preprocessor, y guardamos su resultado en la variable embedding\n",
    "    ##   A modo de ejemplo para su revisión, solo vamos a transformar dos textos:\n",
    "    embedding = preprocessor(X) # texto\n",
    "    \n",
    "    # 6to paso: Vamos a codificar el texto con el modelo BERT:\n",
    "    ##   - Fijarse que el objeto encoder recibe como argumento la variable embedding (resultado de preprocessor)\n",
    "    ##   - Copiar el siguiente código de forma literal\n",
    "    pooled_output = encoder(embedding)[\"pooled_output\"]\n",
    "    \n",
    "    # 7mo paso: El contenido de la variable pooled_output es una estructura de datos de tipo tensorflow.\n",
    "    #           Para transformarlo a un dataframe y usarlo de forma tradicional con los modelos clásicos, \n",
    "    #           ejecutamos la siguiente linea de código:\n",
    "    res = pd.DataFrame(pooled_output.numpy())\n",
    "    \n",
    "    # End stopwatch \n",
    "    toc = time.time() \n",
    "    print(\"time to embedding process  : \" + str(round(toc - tic, 2)) + \" sec\" )\n",
    "    \n",
    "    return res"
   ]
  },
  {
   "cell_type": "markdown",
   "metadata": {},
   "source": [
    "# 5. Train Test"
   ]
  },
  {
   "cell_type": "markdown",
   "metadata": {},
   "source": [
    "# 6. Resultados"
   ]
  },
  {
   "cell_type": "code",
   "execution_count": 19,
   "metadata": {},
   "outputs": [],
   "source": [
    "from sklearn.model_selection import train_test_split\n",
    "\n",
    "X = processed\n",
    "y = text[\"resultado\"].values\n",
    "y_transformed = [1 if i == 'ham' else 0 for i in y]"
   ]
  },
  {
   "cell_type": "markdown",
   "metadata": {
    "tags": []
   },
   "source": [
    "## 6.1. TF-IDF"
   ]
  },
  {
   "cell_type": "code",
   "execution_count": 406,
   "metadata": {},
   "outputs": [
    {
     "name": "stdout",
     "output_type": "stream",
     "text": [
      "time to embedding process  : 0.05 sec\n"
     ]
    }
   ],
   "source": [
    "X_tfidf = tfidf(processed)"
   ]
  },
  {
   "cell_type": "code",
   "execution_count": 407,
   "metadata": {},
   "outputs": [],
   "source": [
    "# Test y Train\n",
    "X_train_tfidf, X_test_tfidf, y_train, y_test = train_test_split(X_tfidf, y_transformed, test_size=0.3, random_state=42)"
   ]
  },
  {
   "cell_type": "markdown",
   "metadata": {
    "tags": []
   },
   "source": [
    "### 6.1.1. SVC"
   ]
  },
  {
   "cell_type": "code",
   "execution_count": null,
   "metadata": {},
   "outputs": [
    {
     "name": "stdout",
     "output_type": "stream",
     "text": [
      "=> Train\n",
      " \n"
     ]
    }
   ],
   "source": [
    "classifier(svc, parameters_svc, X_train_tfidf, y_train, X_test_tfidf, y_test)"
   ]
  },
  {
   "cell_type": "markdown",
   "metadata": {
    "tags": []
   },
   "source": [
    "### 6.1.2. NuSVM"
   ]
  },
  {
   "cell_type": "code",
   "execution_count": null,
   "metadata": {
    "tags": []
   },
   "outputs": [],
   "source": [
    "classifier(nusvc, parameters_nusvc, X_train_tfidf, y_train, X_test_tfidf, y_test)"
   ]
  },
  {
   "cell_type": "markdown",
   "metadata": {},
   "source": [
    "### 6.1.3. Deep Learning"
   ]
  },
  {
   "cell_type": "code",
   "execution_count": 363,
   "metadata": {},
   "outputs": [
    {
     "name": "stdout",
     "output_type": "stream",
     "text": [
      "Model: \"sequential_120\"\n",
      "_________________________________________________________________\n",
      " Layer (type)                Output Shape              Param #   \n",
      "=================================================================\n",
      " dense_341 (Dense)           (None, 300)               1221600   \n",
      "                                                                 \n",
      " dense_342 (Dense)           (None, 100)               30100     \n",
      "                                                                 \n",
      " dense_343 (Dense)           (None, 1)                 101       \n",
      "                                                                 \n",
      "=================================================================\n",
      "Total params: 1,251,801\n",
      "Trainable params: 1,251,801\n",
      "Non-trainable params: 0\n",
      "_________________________________________________________________\n"
     ]
    }
   ],
   "source": [
    "history = deeplearning(X_train_tfidf, y_train, X_test_tfidf, y_test, 0.025, 50)"
   ]
  },
  {
   "cell_type": "markdown",
   "metadata": {},
   "source": [
    "## 6.2. Hashing Vectorizer"
   ]
  },
  {
   "cell_type": "code",
   "execution_count": 352,
   "metadata": {},
   "outputs": [
    {
     "name": "stdout",
     "output_type": "stream",
     "text": [
      "time to embedding process  : 0.07 sec\n"
     ]
    },
    {
     "data": {
      "text/plain": [
       "(1290, 1048576)"
      ]
     },
     "execution_count": 352,
     "metadata": {},
     "output_type": "execute_result"
    }
   ],
   "source": [
    "X_hv = hashingvectorizer(processed)\n",
    "X_hv.shape"
   ]
  },
  {
   "cell_type": "code",
   "execution_count": 353,
   "metadata": {},
   "outputs": [],
   "source": [
    "# Test y Train\n",
    "X_train_hv, X_test_hv, y_train, y_test = train_test_split(X_hv, y_transformed, test_size=0.3, random_state=42)"
   ]
  },
  {
   "cell_type": "markdown",
   "metadata": {},
   "source": [
    "### 6.2.1.SVC"
   ]
  },
  {
   "cell_type": "code",
   "execution_count": null,
   "metadata": {},
   "outputs": [],
   "source": [
    "classifier(svc, parameters_svc, X_train_hv, y_train, X_test_hv, y_test)"
   ]
  },
  {
   "cell_type": "markdown",
   "metadata": {},
   "source": [
    "### 6.2.2. NuSVC"
   ]
  },
  {
   "cell_type": "code",
   "execution_count": null,
   "metadata": {},
   "outputs": [],
   "source": [
    "classifier(nusvc, parameters_nusvc, X_train_hv, y_train, X_test_hv, y_test)"
   ]
  },
  {
   "cell_type": "markdown",
   "metadata": {},
   "source": [
    "### 6.2.3. Deep Learning"
   ]
  },
  {
   "cell_type": "code",
   "execution_count": 355,
   "metadata": {},
   "outputs": [
    {
     "name": "stdout",
     "output_type": "stream",
     "text": [
      "Model: \"sequential_117\"\n",
      "_________________________________________________________________\n",
      " Layer (type)                Output Shape              Param #   \n",
      "=================================================================\n",
      " dense_332 (Dense)           (None, 300)               314573100 \n",
      "                                                                 \n",
      " dense_333 (Dense)           (None, 100)               30100     \n",
      "                                                                 \n",
      " dense_334 (Dense)           (None, 1)                 101       \n",
      "                                                                 \n",
      "=================================================================\n",
      "Total params: 314,603,301\n",
      "Trainable params: 314,603,301\n",
      "Non-trainable params: 0\n",
      "_________________________________________________________________\n",
      "Epoch 1/50\n",
      "20/20 [==============================] - 12s 553ms/step - loss: 0.6930 - f1_score: 0.6128 - val_loss: 0.6926 - val_f1_score: 0.8235\n",
      "Epoch 2/50\n",
      "20/20 [==============================] - 9s 454ms/step - loss: 0.6923 - f1_score: 0.8478 - val_loss: 0.6919 - val_f1_score: 0.8479\n",
      "Epoch 3/50\n",
      "20/20 [==============================] - 9s 475ms/step - loss: 0.6915 - f1_score: 0.8712 - val_loss: 0.6911 - val_f1_score: 0.8452\n",
      "Epoch 4/50\n",
      "20/20 [==============================] - 9s 470ms/step - loss: 0.6906 - f1_score: 0.8591 - val_loss: 0.6902 - val_f1_score: 0.8506\n",
      "Epoch 5/50\n",
      "20/20 [==============================] - 9s 467ms/step - loss: 0.6897 - f1_score: 0.8857 - val_loss: 0.6892 - val_f1_score: 0.8462\n",
      "Epoch 6/50\n",
      "20/20 [==============================] - 9s 478ms/step - loss: 0.6886 - f1_score: 0.8803 - val_loss: 0.6882 - val_f1_score: 0.8250\n",
      "Epoch 7/50\n",
      "20/20 [==============================] - 9s 477ms/step - loss: 0.6875 - f1_score: 0.8646 - val_loss: 0.6870 - val_f1_score: 0.8408\n",
      "Epoch 8/50\n",
      "20/20 [==============================] - 9s 464ms/step - loss: 0.6863 - f1_score: 0.8711 - val_loss: 0.6858 - val_f1_score: 0.8435\n",
      "Epoch 9/50\n",
      "20/20 [==============================] - 9s 452ms/step - loss: 0.6850 - f1_score: 0.8724 - val_loss: 0.6846 - val_f1_score: 0.8435\n",
      "Epoch 10/50\n",
      "20/20 [==============================] - 9s 452ms/step - loss: 0.6837 - f1_score: 0.8703 - val_loss: 0.6834 - val_f1_score: 0.8435\n",
      "Epoch 11/50\n",
      "20/20 [==============================] - 10s 487ms/step - loss: 0.6824 - f1_score: 0.8752 - val_loss: 0.6821 - val_f1_score: 0.8435\n",
      "Epoch 12/50\n",
      "20/20 [==============================] - 9s 467ms/step - loss: 0.6811 - f1_score: 0.8823 - val_loss: 0.6808 - val_f1_score: 0.8435\n",
      "Epoch 13/50\n",
      "20/20 [==============================] - 9s 467ms/step - loss: 0.6797 - f1_score: 0.8773 - val_loss: 0.6796 - val_f1_score: 0.8435\n",
      "Epoch 14/50\n",
      "20/20 [==============================] - 9s 461ms/step - loss: 0.6784 - f1_score: 0.8752 - val_loss: 0.6783 - val_f1_score: 0.8435\n",
      "Epoch 15/50\n",
      "20/20 [==============================] - 9s 464ms/step - loss: 0.6770 - f1_score: 0.8879 - val_loss: 0.6770 - val_f1_score: 0.8435\n",
      "Epoch 16/50\n",
      "20/20 [==============================] - 9s 458ms/step - loss: 0.6757 - f1_score: 0.8768 - val_loss: 0.6756 - val_f1_score: 0.8462\n",
      "Epoch 17/50\n",
      "20/20 [==============================] - 9s 462ms/step - loss: 0.6743 - f1_score: 0.8826 - val_loss: 0.6743 - val_f1_score: 0.8489\n",
      "Epoch 18/50\n",
      "20/20 [==============================] - 9s 464ms/step - loss: 0.6729 - f1_score: 0.8798 - val_loss: 0.6730 - val_f1_score: 0.8516\n",
      "Epoch 19/50\n",
      "20/20 [==============================] - 9s 461ms/step - loss: 0.6715 - f1_score: 0.8873 - val_loss: 0.6717 - val_f1_score: 0.8462\n",
      "Epoch 20/50\n",
      "20/20 [==============================] - 9s 470ms/step - loss: 0.6701 - f1_score: 0.8940 - val_loss: 0.6703 - val_f1_score: 0.8516\n",
      "Epoch 21/50\n",
      "20/20 [==============================] - 9s 466ms/step - loss: 0.6687 - f1_score: 0.8870 - val_loss: 0.6690 - val_f1_score: 0.8599\n",
      "Epoch 22/50\n",
      "20/20 [==============================] - 9s 471ms/step - loss: 0.6673 - f1_score: 0.8927 - val_loss: 0.6676 - val_f1_score: 0.8462\n",
      "Epoch 23/50\n",
      "20/20 [==============================] - 10s 480ms/step - loss: 0.6659 - f1_score: 0.8794 - val_loss: 0.6663 - val_f1_score: 0.8618\n",
      "Epoch 24/50\n",
      "20/20 [==============================] - 10s 488ms/step - loss: 0.6645 - f1_score: 0.8911 - val_loss: 0.6650 - val_f1_score: 0.8618\n",
      "Epoch 25/50\n",
      "20/20 [==============================] - 10s 485ms/step - loss: 0.6631 - f1_score: 0.8918 - val_loss: 0.6636 - val_f1_score: 0.8516\n",
      "Epoch 26/50\n",
      "20/20 [==============================] - 9s 477ms/step - loss: 0.6617 - f1_score: 0.8835 - val_loss: 0.6623 - val_f1_score: 0.8618\n",
      "Epoch 27/50\n",
      "20/20 [==============================] - 10s 482ms/step - loss: 0.6602 - f1_score: 0.8947 - val_loss: 0.6609 - val_f1_score: 0.8618\n",
      "Epoch 28/50\n",
      "20/20 [==============================] - 10s 485ms/step - loss: 0.6588 - f1_score: 0.8924 - val_loss: 0.6596 - val_f1_score: 0.8618\n",
      "Epoch 29/50\n",
      "20/20 [==============================] - 10s 495ms/step - loss: 0.6574 - f1_score: 0.8960 - val_loss: 0.6582 - val_f1_score: 0.8618\n",
      "Epoch 30/50\n",
      "20/20 [==============================] - 10s 516ms/step - loss: 0.6560 - f1_score: 0.8947 - val_loss: 0.6569 - val_f1_score: 0.8618\n",
      "Epoch 31/50\n",
      "20/20 [==============================] - 10s 505ms/step - loss: 0.6546 - f1_score: 0.8947 - val_loss: 0.6555 - val_f1_score: 0.8618\n",
      "Epoch 32/50\n",
      "20/20 [==============================] - 10s 484ms/step - loss: 0.6531 - f1_score: 0.8947 - val_loss: 0.6541 - val_f1_score: 0.8618\n",
      "Epoch 33/50\n",
      "20/20 [==============================] - 10s 487ms/step - loss: 0.6517 - f1_score: 0.8947 - val_loss: 0.6528 - val_f1_score: 0.8618\n",
      "Epoch 34/50\n",
      "20/20 [==============================] - 10s 519ms/step - loss: 0.6502 - f1_score: 0.8944 - val_loss: 0.6514 - val_f1_score: 0.8618\n",
      "Epoch 35/50\n",
      "20/20 [==============================] - 10s 519ms/step - loss: 0.6488 - f1_score: 0.8944 - val_loss: 0.6500 - val_f1_score: 0.8618\n",
      "Epoch 36/50\n",
      "20/20 [==============================] - 10s 506ms/step - loss: 0.6473 - f1_score: 0.8944 - val_loss: 0.6486 - val_f1_score: 0.8618\n",
      "Epoch 37/50\n",
      "20/20 [==============================] - 10s 498ms/step - loss: 0.6458 - f1_score: 0.8944 - val_loss: 0.6472 - val_f1_score: 0.8618\n",
      "Epoch 38/50\n",
      "20/20 [==============================] - 10s 509ms/step - loss: 0.6444 - f1_score: 0.8970 - val_loss: 0.6458 - val_f1_score: 0.8618\n",
      "Epoch 39/50\n",
      "20/20 [==============================] - 10s 483ms/step - loss: 0.6429 - f1_score: 0.8944 - val_loss: 0.6444 - val_f1_score: 0.8618\n",
      "Epoch 40/50\n",
      "20/20 [==============================] - 9s 475ms/step - loss: 0.6414 - f1_score: 0.8944 - val_loss: 0.6430 - val_f1_score: 0.8647\n",
      "Epoch 41/50\n",
      "20/20 [==============================] - 10s 498ms/step - loss: 0.6399 - f1_score: 0.8944 - val_loss: 0.6415 - val_f1_score: 0.8647\n",
      "Epoch 42/50\n",
      "20/20 [==============================] - 10s 511ms/step - loss: 0.6384 - f1_score: 0.8940 - val_loss: 0.6401 - val_f1_score: 0.8647\n",
      "Epoch 43/50\n",
      "20/20 [==============================] - 10s 518ms/step - loss: 0.6369 - f1_score: 0.8957 - val_loss: 0.6386 - val_f1_score: 0.8647\n",
      "Epoch 44/50\n",
      "20/20 [==============================] - 10s 503ms/step - loss: 0.6353 - f1_score: 0.8957 - val_loss: 0.6371 - val_f1_score: 0.8647\n",
      "Epoch 45/50\n",
      "20/20 [==============================] - 10s 488ms/step - loss: 0.6338 - f1_score: 0.8967 - val_loss: 0.6357 - val_f1_score: 0.8647\n",
      "Epoch 46/50\n",
      "20/20 [==============================] - 10s 499ms/step - loss: 0.6322 - f1_score: 0.8983 - val_loss: 0.6342 - val_f1_score: 0.8704\n",
      "Epoch 47/50\n",
      "20/20 [==============================] - 10s 515ms/step - loss: 0.6306 - f1_score: 0.8953 - val_loss: 0.6327 - val_f1_score: 0.8763\n",
      "Epoch 48/50\n",
      "20/20 [==============================] - 11s 534ms/step - loss: 0.6291 - f1_score: 0.8980 - val_loss: 0.6312 - val_f1_score: 0.8763\n",
      "Epoch 49/50\n",
      "20/20 [==============================] - 10s 498ms/step - loss: 0.6275 - f1_score: 0.8987 - val_loss: 0.6297 - val_f1_score: 0.8763\n",
      "Epoch 50/50\n",
      "20/20 [==============================] - 10s 513ms/step - loss: 0.6259 - f1_score: 0.8983 - val_loss: 0.6281 - val_f1_score: 0.8763\n",
      "13/13 [==============================] - 2s 128ms/step - loss: 0.6280 - f1_score: 0.8864\n",
      "Test accuracy: [0.8863636]\n"
     ]
    },
    {
     "data": {
      "image/png": "[encoded data removed]",
      "text/plain": [
       "<Figure size 576x360 with 1 Axes>"
      ]
     },
     "metadata": {
      "needs_background": "light"
     },
     "output_type": "display_data"
    }
   ],
   "source": [
    "history = deeplearning(X_train_hv, y_train, X_test_hv, y_test, 0.0025, 50)"
   ]
  },
  {
   "cell_type": "markdown",
   "metadata": {},
   "source": [
    "## 6.3. Small BERT: en uncased L-8 H-768 A-12"
   ]
  },
  {
   "cell_type": "code",
   "execution_count": 329,
   "metadata": {},
   "outputs": [
    {
     "name": "stdout",
     "output_type": "stream",
     "text": [
      "time to embedding process  : 86.29 sec\n"
     ]
    },
    {
     "data": {
      "text/plain": [
       "(1290, 768)"
      ]
     },
     "execution_count": 329,
     "metadata": {},
     "output_type": "execute_result"
    }
   ],
   "source": [
    "X_sbert = bert(text[\"mensaje\"])\n",
    "X_sbert.shape"
   ]
  },
  {
   "cell_type": "code",
   "execution_count": 330,
   "metadata": {},
   "outputs": [],
   "source": [
    "# Test y Train\n",
    "X_train_sbert, X_test_sbert, y_train, y_test = train_test_split(X_sbert, y_transformed, test_size=0.3, random_state=42)"
   ]
  },
  {
   "cell_type": "markdown",
   "metadata": {},
   "source": [
    "### 6.3.1. SVC"
   ]
  },
  {
   "cell_type": "code",
   "execution_count": null,
   "metadata": {},
   "outputs": [],
   "source": [
    "classifier(svc, parameters_svc, X_train_sbert, y_train, X_test_sbert, y_test)"
   ]
  },
  {
   "cell_type": "markdown",
   "metadata": {},
   "source": [
    "### 6.3.2. NuSVC"
   ]
  },
  {
   "cell_type": "code",
   "execution_count": null,
   "metadata": {},
   "outputs": [],
   "source": [
    "classifier(nusvc, parameters_nusvc, X_train_sbert, y_train, X_test_sbert, y_test)"
   ]
  },
  {
   "cell_type": "markdown",
   "metadata": {},
   "source": [
    "### 6.3.3. Deep Learning"
   ]
  },
  {
   "cell_type": "code",
   "execution_count": 341,
   "metadata": {},
   "outputs": [
    {
     "name": "stdout",
     "output_type": "stream",
     "text": [
      "Model: \"sequential_111\"\n",
      "_________________________________________________________________\n",
      " Layer (type)                Output Shape              Param #   \n",
      "=================================================================\n",
      " dense_314 (Dense)           (None, 300)               230700    \n",
      "                                                                 \n",
      " dense_315 (Dense)           (None, 100)               30100     \n",
      "                                                                 \n",
      " dense_316 (Dense)           (None, 1)                 101       \n",
      "                                                                 \n",
      "=================================================================\n",
      "Total params: 260,901\n",
      "Trainable params: 260,901\n",
      "Non-trainable params: 0\n",
      "_________________________________________________________________\n",
      "Epoch 1/50\n",
      "20/20 [==============================] - 1s 15ms/step - loss: 0.6975 - f1_score: 0.5937 - val_loss: 0.6499 - val_f1_score: 0.6791\n",
      "Epoch 2/50\n",
      "20/20 [==============================] - 0s 6ms/step - loss: 0.6267 - f1_score: 0.7364 - val_loss: 0.5936 - val_f1_score: 0.8030\n",
      "Epoch 3/50\n",
      "20/20 [==============================] - 0s 7ms/step - loss: 0.5733 - f1_score: 0.8075 - val_loss: 0.5487 - val_f1_score: 0.8244\n",
      "Epoch 4/50\n",
      "20/20 [==============================] - 0s 6ms/step - loss: 0.5293 - f1_score: 0.8471 - val_loss: 0.5116 - val_f1_score: 0.8527\n",
      "Epoch 5/50\n",
      "20/20 [==============================] - 0s 6ms/step - loss: 0.4917 - f1_score: 0.8701 - val_loss: 0.4786 - val_f1_score: 0.8803\n",
      "Epoch 6/50\n",
      "20/20 [==============================] - 0s 6ms/step - loss: 0.4580 - f1_score: 0.8935 - val_loss: 0.4504 - val_f1_score: 0.8889\n",
      "Epoch 7/50\n",
      "20/20 [==============================] - 0s 5ms/step - loss: 0.4286 - f1_score: 0.9021 - val_loss: 0.4242 - val_f1_score: 0.9057\n",
      "Epoch 8/50\n",
      "20/20 [==============================] - 0s 5ms/step - loss: 0.4012 - f1_score: 0.9073 - val_loss: 0.3999 - val_f1_score: 0.9023\n",
      "Epoch 9/50\n",
      "20/20 [==============================] - 0s 5ms/step - loss: 0.3777 - f1_score: 0.9163 - val_loss: 0.3791 - val_f1_score: 0.9064\n",
      "Epoch 10/50\n",
      "20/20 [==============================] - 0s 5ms/step - loss: 0.3558 - f1_score: 0.9163 - val_loss: 0.3608 - val_f1_score: 0.9098\n",
      "Epoch 11/50\n",
      "20/20 [==============================] - 0s 5ms/step - loss: 0.3357 - f1_score: 0.9194 - val_loss: 0.3451 - val_f1_score: 0.9132\n",
      "Epoch 12/50\n",
      "20/20 [==============================] - 0s 5ms/step - loss: 0.3179 - f1_score: 0.9226 - val_loss: 0.3283 - val_f1_score: 0.9173\n",
      "Epoch 13/50\n",
      "20/20 [==============================] - 0s 6ms/step - loss: 0.3013 - f1_score: 0.9289 - val_loss: 0.3139 - val_f1_score: 0.9259\n",
      "Epoch 14/50\n",
      "20/20 [==============================] - 0s 5ms/step - loss: 0.2861 - f1_score: 0.9340 - val_loss: 0.3023 - val_f1_score: 0.9254\n",
      "Epoch 15/50\n",
      "20/20 [==============================] - 0s 5ms/step - loss: 0.2726 - f1_score: 0.9319 - val_loss: 0.2877 - val_f1_score: 0.9219\n",
      "Epoch 16/50\n",
      "20/20 [==============================] - 0s 5ms/step - loss: 0.2604 - f1_score: 0.9354 - val_loss: 0.2767 - val_f1_score: 0.9225\n",
      "Epoch 17/50\n",
      "20/20 [==============================] - 0s 5ms/step - loss: 0.2486 - f1_score: 0.9406 - val_loss: 0.2685 - val_f1_score: 0.9254\n",
      "Epoch 18/50\n",
      "20/20 [==============================] - 0s 5ms/step - loss: 0.2387 - f1_score: 0.9388 - val_loss: 0.2586 - val_f1_score: 0.9219\n",
      "Epoch 19/50\n",
      "20/20 [==============================] - 0s 5ms/step - loss: 0.2295 - f1_score: 0.9421 - val_loss: 0.2507 - val_f1_score: 0.9219\n",
      "Epoch 20/50\n",
      "20/20 [==============================] - 0s 5ms/step - loss: 0.2212 - f1_score: 0.9419 - val_loss: 0.2419 - val_f1_score: 0.9225\n",
      "Epoch 21/50\n",
      "20/20 [==============================] - 0s 5ms/step - loss: 0.2139 - f1_score: 0.9452 - val_loss: 0.2345 - val_f1_score: 0.9265\n",
      "Epoch 22/50\n",
      "20/20 [==============================] - 0s 5ms/step - loss: 0.2066 - f1_score: 0.9454 - val_loss: 0.2286 - val_f1_score: 0.9265\n",
      "Epoch 23/50\n",
      "20/20 [==============================] - 0s 5ms/step - loss: 0.2003 - f1_score: 0.9469 - val_loss: 0.2217 - val_f1_score: 0.9265\n",
      "Epoch 24/50\n",
      "20/20 [==============================] - 0s 5ms/step - loss: 0.1945 - f1_score: 0.9502 - val_loss: 0.2163 - val_f1_score: 0.9265\n",
      "Epoch 25/50\n",
      "20/20 [==============================] - 0s 5ms/step - loss: 0.1887 - f1_score: 0.9518 - val_loss: 0.2108 - val_f1_score: 0.9304\n",
      "Epoch 26/50\n",
      "20/20 [==============================] - 0s 5ms/step - loss: 0.1837 - f1_score: 0.9534 - val_loss: 0.2064 - val_f1_score: 0.9265\n",
      "Epoch 27/50\n",
      "20/20 [==============================] - 0s 5ms/step - loss: 0.1794 - f1_score: 0.9534 - val_loss: 0.2027 - val_f1_score: 0.9225\n",
      "Epoch 28/50\n",
      "20/20 [==============================] - 0s 5ms/step - loss: 0.1752 - f1_score: 0.9518 - val_loss: 0.1979 - val_f1_score: 0.9304\n",
      "Epoch 29/50\n",
      "20/20 [==============================] - 0s 5ms/step - loss: 0.1712 - f1_score: 0.9534 - val_loss: 0.1942 - val_f1_score: 0.9265\n",
      "Epoch 30/50\n",
      "20/20 [==============================] - 0s 5ms/step - loss: 0.1675 - f1_score: 0.9534 - val_loss: 0.1908 - val_f1_score: 0.9265\n",
      "Epoch 31/50\n",
      "20/20 [==============================] - 0s 5ms/step - loss: 0.1636 - f1_score: 0.9534 - val_loss: 0.1881 - val_f1_score: 0.9265\n",
      "Epoch 32/50\n",
      "20/20 [==============================] - 0s 5ms/step - loss: 0.1609 - f1_score: 0.9518 - val_loss: 0.1851 - val_f1_score: 0.9265\n",
      "Epoch 33/50\n",
      "20/20 [==============================] - 0s 4ms/step - loss: 0.1577 - f1_score: 0.9518 - val_loss: 0.1822 - val_f1_score: 0.9304\n",
      "Epoch 34/50\n",
      "20/20 [==============================] - 0s 4ms/step - loss: 0.1547 - f1_score: 0.9518 - val_loss: 0.1791 - val_f1_score: 0.9304\n",
      "Epoch 35/50\n",
      "20/20 [==============================] - 0s 5ms/step - loss: 0.1521 - f1_score: 0.9518 - val_loss: 0.1757 - val_f1_score: 0.9304\n",
      "Epoch 36/50\n",
      "20/20 [==============================] - 0s 5ms/step - loss: 0.1495 - f1_score: 0.9518 - val_loss: 0.1735 - val_f1_score: 0.9304\n",
      "Epoch 37/50\n",
      "20/20 [==============================] - 0s 5ms/step - loss: 0.1467 - f1_score: 0.9518 - val_loss: 0.1714 - val_f1_score: 0.9304\n",
      "Epoch 38/50\n",
      "20/20 [==============================] - 0s 4ms/step - loss: 0.1451 - f1_score: 0.9518 - val_loss: 0.1693 - val_f1_score: 0.9304\n",
      "Epoch 39/50\n",
      "20/20 [==============================] - 0s 4ms/step - loss: 0.1425 - f1_score: 0.9548 - val_loss: 0.1674 - val_f1_score: 0.9304\n",
      "Epoch 40/50\n",
      "20/20 [==============================] - 0s 4ms/step - loss: 0.1406 - f1_score: 0.9548 - val_loss: 0.1648 - val_f1_score: 0.9343\n",
      "Epoch 41/50\n",
      "20/20 [==============================] - 0s 5ms/step - loss: 0.1384 - f1_score: 0.9549 - val_loss: 0.1630 - val_f1_score: 0.9343\n",
      "Epoch 42/50\n",
      "20/20 [==============================] - 0s 5ms/step - loss: 0.1369 - f1_score: 0.9549 - val_loss: 0.1617 - val_f1_score: 0.9343\n",
      "Epoch 43/50\n",
      "20/20 [==============================] - 0s 4ms/step - loss: 0.1351 - f1_score: 0.9596 - val_loss: 0.1598 - val_f1_score: 0.9343\n",
      "Epoch 44/50\n",
      "20/20 [==============================] - 0s 4ms/step - loss: 0.1331 - f1_score: 0.9580 - val_loss: 0.1583 - val_f1_score: 0.9343\n",
      "Epoch 45/50\n",
      "20/20 [==============================] - 0s 4ms/step - loss: 0.1319 - f1_score: 0.9612 - val_loss: 0.1568 - val_f1_score: 0.9343\n",
      "Epoch 46/50\n",
      "20/20 [==============================] - 0s 4ms/step - loss: 0.1300 - f1_score: 0.9595 - val_loss: 0.1554 - val_f1_score: 0.9343\n",
      "Epoch 47/50\n",
      "20/20 [==============================] - 0s 4ms/step - loss: 0.1286 - f1_score: 0.9595 - val_loss: 0.1540 - val_f1_score: 0.9343\n",
      "Epoch 48/50\n",
      "20/20 [==============================] - 0s 4ms/step - loss: 0.1269 - f1_score: 0.9596 - val_loss: 0.1532 - val_f1_score: 0.9343\n",
      "Epoch 49/50\n",
      "20/20 [==============================] - 0s 4ms/step - loss: 0.1258 - f1_score: 0.9672 - val_loss: 0.1512 - val_f1_score: 0.9343\n",
      "Epoch 50/50\n",
      "20/20 [==============================] - 0s 4ms/step - loss: 0.1245 - f1_score: 0.9641 - val_loss: 0.1498 - val_f1_score: 0.9343\n",
      "13/13 [==============================] - 0s 1ms/step - loss: 0.1766 - f1_score: 0.9474\n",
      "Test accuracy: [0.94736844]\n"
     ]
    },
    {
     "data": {
      "image/png": "[encoded data removed]",
      "text/plain": [
       "<Figure size 576x360 with 1 Axes>"
      ]
     },
     "metadata": {
      "needs_background": "light"
     },
     "output_type": "display_data"
    }
   ],
   "source": [
    "history = deeplearning(X_train_sbert, y_train, X_test_sbert, y_test, 0.0025, 50)"
   ]
  },
  {
   "cell_type": "markdown",
   "metadata": {},
   "source": [
    "## 6.4. BERT Base: en wwm cased L-24 H-1024 A-16"
   ]
  },
  {
   "cell_type": "code",
   "execution_count": null,
   "metadata": {},
   "outputs": [],
   "source": [
    "X_bert = bert(text[\"mensaje\"], 'bert_en_cased_preprocess/3', 'bert_en_wwm_cased_L-24_H-1024_A-16/4')\n",
    "X_bert.shape"
   ]
  },
  {
   "cell_type": "code",
   "execution_count": null,
   "metadata": {},
   "outputs": [],
   "source": [
    "# Test y Train\n",
    "X_train_bert, X_test_bert, y_train, y_test = train_test_split(X_bert, y_transformed, test_size=0.3, random_state=42)"
   ]
  },
  {
   "cell_type": "markdown",
   "metadata": {},
   "source": [
    "### 6.4.1. SVC"
   ]
  },
  {
   "cell_type": "code",
   "execution_count": null,
   "metadata": {},
   "outputs": [],
   "source": [
    "classifier(svc, parameters_svc, X_train_bert, y_train, X_test_bert, y_test)"
   ]
  },
  {
   "cell_type": "markdown",
   "metadata": {},
   "source": [
    "### 6.4.2. NuSVC"
   ]
  },
  {
   "cell_type": "code",
   "execution_count": null,
   "metadata": {},
   "outputs": [],
   "source": [
    "classifier(nusvc, parameters_nusvc, X_train_bert, y_train, X_test_bert, y_test)"
   ]
  },
  {
   "cell_type": "markdown",
   "metadata": {},
   "source": [
    "# 7. Matriz de Contigencia : Resumen Resultados!"
   ]
  },
  {
   "cell_type": "markdown",
   "metadata": {},
   "source": [
    "## F1-Score"
   ]
  },
  {
   "cell_type": "markdown",
   "metadata": {},
   "source": [
    "### 1. Validation\n",
    "\n",
    "|       | TF-IDF | HashingVectorizer | Small Bert | Bert Base |\n",
    "|-------|--------|-------------------|------------|-----------|\n",
    "| SVC   | 0.954  | 0.955             | 0.964      | 0.938     |\n",
    "| NuSVC | 0.948  | 0.956             | 0.962      | 0.962     |"
   ]
  },
  {
   "cell_type": "markdown",
   "metadata": {},
   "source": [
    "### 2. Testing"
   ]
  },
  {
   "cell_type": "markdown",
   "metadata": {},
   "source": [
    "## Precission"
   ]
  },
  {
   "cell_type": "markdown",
   "metadata": {},
   "source": [
    "### 1. Validation"
   ]
  },
  {
   "cell_type": "markdown",
   "metadata": {},
   "source": [
    "### 2. Testing"
   ]
  },
  {
   "cell_type": "markdown",
   "metadata": {},
   "source": [
    "## Delay"
   ]
  },
  {
   "cell_type": "markdown",
   "metadata": {},
   "source": [
    "### Embedding delay\n",
    "\n",
    "|       |  | \n",
    "|-------|--------|\n",
    "| TF-IDF   | 0.03 sec |\n",
    "| Hashing Vectorizer | 0.02 sec |\n",
    "| Small BERT | 68.99 sec |\n",
    "| BERT Base | 344.05 sec |"
   ]
  },
  {
   "cell_type": "markdown",
   "metadata": {},
   "source": [
    "### Train delay\n",
    "\n",
    "|       | TF-IDF    | HashingVectorizer | Small Bert | Bert Base  |\n",
    "|-------|-----------|-------------------|------------|------------|\n",
    "| SVC   | 8.92 sec  | 7.05 sec          | 145.34 sec | 251.19 sec |\n",
    "| NuSVC | 10.32 sec | 8.37 sec          | 186.75 sec | 288.94 sec |"
   ]
  }
 ],
 "metadata": {
  "colab": {
   "collapsed_sections": [],
   "name": "SPAM_Classifier.ipynb",
   "provenance": []
  },
  "kernelspec": {
   "display_name": "Python 3 (ipykernel)",
   "language": "python",
   "name": "python3"
  },
  "language_info": {
   "codemirror_mode": {
    "name": "ipython",
    "version": 3
   },
   "file_extension": ".py",
   "mimetype": "text/x-python",
   "name": "python",
   "nbconvert_exporter": "python",
   "pygments_lexer": "ipython3",
   "version": "3.10.4"
  }
 },
 "nbformat": 4,
 "nbformat_minor": 4
}
